{
 "cells": [
  {
   "cell_type": "code",
   "execution_count": 1,
   "metadata": {},
   "outputs": [
    {
     "name": "stdout",
     "output_type": "stream",
     "text": [
      "Name: Flask\n",
      "Version: 2.2.3\n",
      "Summary: A simple framework for building complex web applications.\n",
      "Home-page: https://palletsprojects.com/p/flask\n",
      "Author: Armin Ronacher\n",
      "Author-email: armin.ronacher@active-4.com\n",
      "License: BSD-3-Clause\n",
      "Location: /Users/mton/miniconda3/envs/torch-gpu/lib/python3.9/site-packages\n",
      "Requires: click, importlib-metadata, itsdangerous, Jinja2, Werkzeug\n",
      "Required-by: dash, jupyter-dash\n",
      "Note: you may need to restart the kernel to use updated packages.\n"
     ]
    }
   ],
   "source": [
    "%pip show flask"
   ]
  },
  {
   "cell_type": "code",
   "execution_count": 4,
   "metadata": {},
   "outputs": [
    {
     "name": "stdout",
     "output_type": "stream",
     "text": [
      "Name: Flask-SQLAlchemy\n",
      "Version: 3.0.3\n",
      "Summary: Add SQLAlchemy support to your Flask application.\n",
      "Home-page: \n",
      "Author: \n",
      "Author-email: Armin Ronacher <armin.ronacher@active-4.com>\n",
      "License: BSD-3-Clause\n",
      "Location: /Users/mton/miniconda3/envs/torch-gpu/lib/python3.9/site-packages\n",
      "Requires: Flask, SQLAlchemy\n",
      "Required-by: \n",
      "Note: you may need to restart the kernel to use updated packages.\n"
     ]
    }
   ],
   "source": [
    "%pip show flask-sqlalchemy"
   ]
  },
  {
   "cell_type": "code",
   "execution_count": 2,
   "metadata": {},
   "outputs": [
    {
     "name": "stdout",
     "output_type": "stream",
     "text": [
      " * Serving Flask app '__main__'\n",
      " * Debug mode: on\n"
     ]
    },
    {
     "name": "stderr",
     "output_type": "stream",
     "text": [
      "WARNING: This is a development server. Do not use it in a production deployment. Use a production WSGI server instead.\n",
      " * Running on http://127.0.0.1:5555\n",
      "Press CTRL+C to quit\n",
      " * Restarting with stat\n",
      "Unable to load extension: pydevd_plugins.extensions.types.pydevd_plugin_pandas_types\n",
      "/Users/mton/miniconda3/envs/torch-gpu/lib/python3.9/site-packages/traitlets/traitlets.py:2412: FutureWarning: Supporting extra quotes around strings is deprecated in traitlets 5.0. You can use 'hmac-sha256' instead of '\"hmac-sha256\"' if you require traitlets >=5.\n",
      "  warn(\n",
      "/Users/mton/miniconda3/envs/torch-gpu/lib/python3.9/site-packages/traitlets/traitlets.py:2366: FutureWarning: Supporting extra quotes around Bytes is deprecated in traitlets 5.0. Use 'd9cfae98-862b-4677-a92c-bdac66bef774' instead of 'b\"d9cfae98-862b-4677-a92c-bdac66bef774\"'.\n",
      "  warn(\n",
      "Traceback (most recent call last):\n",
      "  File \"/Users/mton/miniconda3/envs/torch-gpu/lib/python3.9/site-packages/ipykernel_launcher.py\", line 17, in <module>\n",
      "    app.launch_new_instance()\n",
      "  File \"/Users/mton/miniconda3/envs/torch-gpu/lib/python3.9/site-packages/traitlets/config/application.py\", line 981, in launch_instance\n",
      "    app.initialize(argv)\n",
      "  File \"/Users/mton/miniconda3/envs/torch-gpu/lib/python3.9/site-packages/traitlets/config/application.py\", line 110, in inner\n",
      "    return method(app, *args, **kwargs)\n",
      "  File \"/Users/mton/miniconda3/envs/torch-gpu/lib/python3.9/site-packages/ipykernel/kernelapp.py\", line 665, in initialize\n",
      "    self.init_sockets()\n",
      "  File \"/Users/mton/miniconda3/envs/torch-gpu/lib/python3.9/site-packages/ipykernel/kernelapp.py\", line 309, in init_sockets\n",
      "    self.shell_port = self._bind_socket(self.shell_socket, self.shell_port)\n",
      "  File \"/Users/mton/miniconda3/envs/torch-gpu/lib/python3.9/site-packages/ipykernel/kernelapp.py\", line 246, in _bind_socket\n",
      "    return self._try_bind_socket(s, port)\n",
      "  File \"/Users/mton/miniconda3/envs/torch-gpu/lib/python3.9/site-packages/ipykernel/kernelapp.py\", line 222, in _try_bind_socket\n",
      "    s.bind(\"tcp://%s:%i\" % (self.ip, port))\n",
      "  File \"/Users/mton/miniconda3/envs/torch-gpu/lib/python3.9/site-packages/zmq/sugar/socket.py\", line 229, in bind\n",
      "    super().bind(addr)\n",
      "  File \"zmq/backend/cython/socket.pyx\", line 562, in zmq.backend.cython.socket.Socket.bind\n",
      "  File \"zmq/backend/cython/checkrc.pxd\", line 28, in zmq.backend.cython.checkrc._check_rc\n",
      "zmq.error.ZMQError: Address already in use\n"
     ]
    },
    {
     "ename": "SystemExit",
     "evalue": "1",
     "output_type": "error",
     "traceback": [
      "An exception has occurred, use %tb to see the full traceback.\n",
      "\u001b[0;31mSystemExit\u001b[0m\u001b[0;31m:\u001b[0m 1\n"
     ]
    }
   ],
   "source": [
    "from flask import Flask\n",
    "\n",
    "app = Flask(__name__)\n",
    "\n",
    "@app.route('/')\n",
    "def home():\n",
    "    return \"Hello, world!\"\n",
    "\n",
    "if __name__ == \"__main__\":\n",
    "    app.run(debug=True, port=5555)"
   ]
  },
  {
   "attachments": {},
   "cell_type": "markdown",
   "metadata": {},
   "source": [
    "Creating a simple web page with a visit counter is indeed a great project to start learning server engineering. It will help you understand the basics of server-side programming, database management, and client-server communication. To make it even simpler, you could start with a static visit counter before implementing the database. Here's a step-by-step guide to help you create a basic visit counter using Python and Flask:\n",
    "\n",
    "1. **Install Python and Flask**: First, ensure you have Python installed. You can download it from [python.org](https://www.python.org/downloads/). After that, install Flask, a lightweight Python web framework, by running the following command in your terminal or command prompt:\n",
    "\n",
    "   ````\n",
    "   pip install Flask\n",
    "   ```\n",
    "\n",
    "2. **Create a Flask app**: Create a new directory for your project and create a file named `app.py`. Add the following code to create a basic Flask app:\n",
    "\n",
    "   ````python\n",
    "   from flask import Flask\n",
    "\n",
    "   app = Flask(__name__)\n",
    "\n",
    "   @app.route('/')\n",
    "   def home():\n",
    "       return \"Hello, World!\"\n",
    "\n",
    "   if __name__ == '__main__':\n",
    "       app.run(debug=True)\n",
    "   ```\n",
    "\n",
    "3. **Implement a static visit counter**: Before adding a database, let's create a static visit counter. Update the `home()` function in `app.py` as follows:\n",
    "\n",
    "   ````python\n",
    "   visit_count = 0\n",
    "\n",
    "   @app.route('/')\n",
    "   def home():\n",
    "       global visit_count\n",
    "       visit_count += 1\n",
    "       return f\"Hello, World! This page has been visited {visit_count} times.\"\n",
    "   ```\n",
    "\n",
    "4. **Run the app**: Start your Flask app by running the following command in your terminal or command prompt from the project directory:\n",
    "\n",
    "   ````\n",
    "   python app.py\n",
    "   ```\n",
    "\n",
    "   This will start a development server. Open your browser and visit `http://127.0.0.1:5000/`. You should see the visit counter increment each time you refresh the page.\n",
    "\n",
    "5. **Add a database**: To store the visit count persistently, you can use SQLite, a simple file-based database. First, install the `flask-sqlalchemy` package:\n",
    "\n",
    "   ````\n",
    "   pip install flask-sqlalchemy\n",
    "   ```\n",
    "\n",
    "6. **Configure the database**: Update `app.py` to configure the SQLite database:\n",
    "\n",
    "   ````python\n",
    "   from flask import Flask\n",
    "   from flask_sqlalchemy import SQLAlchemy\n",
    "\n",
    "   app = Flask(__name__)\n",
    "   app.config['SQLALCHEMY_DATABASE_URI'] = 'sqlite:///visit_count.db'\n",
    "   app.config['SQLALCHEMY_TRACK_MODIFICATIONS'] = False\n",
    "   db = SQLAlchemy(app)\n",
    "\n",
    "   class Counter(db.Model):\n",
    "       id = db.Column(db.Integer, primary_key=True)\n",
    "       count = db.Column(db.Integer, nullable=False)\n",
    "\n",
    "   db.create_all()\n",
    "\n",
    "   @app.route('/')\n",
    "   def home():\n",
    "       counter = Counter.query.first()\n",
    "       if counter is None:\n",
    "           counter = Counter(count=0)\n",
    "           db.session.add(counter)\n",
    "       counter.count += 1\n",
    "       db.session.commit()\n",
    "       return f\"Hello, World! This page has been visited {counter.count} times.\"\n",
    "\n",
    "   if __name__ == '__main__':\n",
    "       app.run(debug=True)\n",
    "   ```\n",
    "\n",
    "7. **Test the app**: Run `python app.py` again and visit `http://127.0.0.1:5000/`. The visit counter will now be stored in the SQLite database, and its value will persist across server restarts.\n",
    "\n",
    "This simple project should give you a basic understanding of server engineering concepts, such as handling HTTP requests, managing a database, and deploying a web application. Once you're comfortable with this example, you can explore more advanced topics like authentication, caching, load balancing, and scaling."
   ]
  }
 ],
 "metadata": {
  "kernelspec": {
   "display_name": "torch-gpu",
   "language": "python",
   "name": "python3"
  },
  "language_info": {
   "codemirror_mode": {
    "name": "ipython",
    "version": 3
   },
   "file_extension": ".py",
   "mimetype": "text/x-python",
   "name": "python",
   "nbconvert_exporter": "python",
   "pygments_lexer": "ipython3",
   "version": "3.9.13"
  },
  "orig_nbformat": 4
 },
 "nbformat": 4,
 "nbformat_minor": 2
}
