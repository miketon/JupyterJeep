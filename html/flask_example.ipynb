{
 "cells": [
  {
   "cell_type": "code",
   "execution_count": 1,
   "metadata": {},
   "outputs": [
    {
     "name": "stdout",
     "output_type": "stream",
     "text": [
      "Name: Flask\n",
      "Version: 2.2.3\n",
      "Summary: A simple framework for building complex web applications.\n",
      "Home-page: https://palletsprojects.com/p/flask\n",
      "Author: Armin Ronacher\n",
      "Author-email: armin.ronacher@active-4.com\n",
      "License: BSD-3-Clause\n",
      "Location: /Users/mton/miniconda3/envs/torch-gpu/lib/python3.9/site-packages\n",
      "Requires: click, importlib-metadata, itsdangerous, Jinja2, Werkzeug\n",
      "Required-by: dash, jupyter-dash\n",
      "Note: you may need to restart the kernel to use updated packages.\n"
     ]
    }
   ],
   "source": [
    "%pip show flask"
   ]
  },
  {
   "cell_type": "code",
   "execution_count": 4,
   "metadata": {},
   "outputs": [
    {
     "name": "stdout",
     "output_type": "stream",
     "text": [
      "Name: Flask-SQLAlchemy\n",
      "Version: 3.0.3\n",
      "Summary: Add SQLAlchemy support to your Flask application.\n",
      "Home-page: \n",
      "Author: \n",
      "Author-email: Armin Ronacher <armin.ronacher@active-4.com>\n",
      "License: BSD-3-Clause\n",
      "Location: /Users/mton/miniconda3/envs/torch-gpu/lib/python3.9/site-packages\n",
      "Requires: Flask, SQLAlchemy\n",
      "Required-by: \n",
      "Note: you may need to restart the kernel to use updated packages.\n"
     ]
    }
   ],
   "source": [
    "%pip show flask-sqlalchemy"
   ]
  },
  {
   "cell_type": "code",
   "execution_count": 7,
   "metadata": {},
   "outputs": [
    {
     "name": "stdout",
     "output_type": "stream",
     "text": [
      "\u001b[33mWARNING: Package(s) not found: gunicorn\u001b[0m\u001b[33m\n",
      "\u001b[0mNote: you may need to restart the kernel to use updated packages.\n"
     ]
    }
   ],
   "source": [
    "%pip show gunicorn"
   ]
  },
  {
   "attachments": {},
   "cell_type": "markdown",
   "metadata": {},
   "source": [
    "#### -- [INIT FLASK APP] --\n",
    "***"
   ]
  },
  {
   "cell_type": "code",
   "execution_count": 2,
   "metadata": {},
   "outputs": [],
   "source": [
    "from flask import Flask\n",
    "from flask_sqlalchemy import SQLAlchemy\n",
    "from threading import Thread\n",
    "\n",
    "# Init Flask app\n",
    "app = Flask(__name__)"
   ]
  },
  {
   "attachments": {},
   "cell_type": "markdown",
   "metadata": {},
   "source": [
    "#### -- [SETUP DATABASE TABLE] --\n",
    "***"
   ]
  },
  {
   "cell_type": "code",
   "execution_count": 3,
   "metadata": {},
   "outputs": [],
   "source": [
    "app.config[\"SQLALCHEMY_DATABASE_URI\"] = \"sqlite:///visit_count.db\"\n",
    "app.config[\"SQLALCHEMY_TRACK_MODIFICATIONS\"] = False\n",
    "db = SQLAlchemy(app)\n",
    "\n",
    "class Counter(db.Model):\n",
    "    id = db.Column(db.Integer, primary_key=True)\n",
    "    count = db.Column(db.Integer, nullable=False)\n",
    "\n",
    "# Setup the application context BEFORE creating the database tables\n",
    "with app.app_context():\n",
    "    db.create_all()"
   ]
  },
  {
   "attachments": {},
   "cell_type": "markdown",
   "metadata": {},
   "source": [
    "#### -- [DEFINE ROUTES] --\n",
    "***"
   ]
  },
  {
   "cell_type": "code",
   "execution_count": 4,
   "metadata": {},
   "outputs": [],
   "source": [
    "# adding a refresh counter\n",
    "refresh_count = 0\n",
    "\n",
    "\n",
    "# Define a route\n",
    "@app.route(\"/\")\n",
    "def hello_world():\n",
    "    global refresh_count\n",
    "    refresh_count = refresh_count + 1\n",
    "    counter = Counter.query.first()\n",
    "    if counter is None:\n",
    "        counter = Counter(count=0)\n",
    "        db.session.add(counter)\n",
    "    counter.count = counter.count + 1\n",
    "    db.session.commit()\n",
    "    return (\n",
    "        f\"Hello, World!\\nVisit count : {counter.count}\\nRefresh count : {refresh_count}\"\n",
    "    )\n",
    "\n",
    "\n",
    "# Define Flask application with desired settings\n",
    "def run_flask_app():\n",
    "    app.run(port=5012, debug=True, use_reloader=False)\n"
   ]
  },
  {
   "attachments": {},
   "cell_type": "markdown",
   "metadata": {},
   "source": [
    "#### -- [START FLASK THREAD] --\n",
    "***"
   ]
  },
  {
   "cell_type": "code",
   "execution_count": 5,
   "metadata": {},
   "outputs": [
    {
     "name": "stdout",
     "output_type": "stream",
     "text": [
      " * Serving Flask app '__main__'\n",
      " * Debug mode: on\n"
     ]
    },
    {
     "name": "stderr",
     "output_type": "stream",
     "text": [
      "WARNING: This is a development server. Do not use it in a production deployment. Use a production WSGI server instead.\n",
      " * Running on http://127.0.0.1:5012\n",
      "Press CTRL+C to quit\n",
      "127.0.0.1 - - [15/Apr/2023 16:54:28] \"GET / HTTP/1.1\" 200 -\n",
      "127.0.0.1 - - [15/Apr/2023 16:54:34] \"GET / HTTP/1.1\" 200 -\n"
     ]
    }
   ],
   "source": [
    "flask_thread = Thread(target=run_flask_app)\n",
    "flask_thread.start()"
   ]
  },
  {
   "attachments": {},
   "cell_type": "markdown",
   "metadata": {},
   "source": [
    "#### -- [EXIT FLASK THREAD] --\n",
    "***"
   ]
  },
  {
   "cell_type": "code",
   "execution_count": 6,
   "metadata": {},
   "outputs": [
    {
     "name": "stderr",
     "output_type": "stream",
     "text": [
      "127.0.0.1 - - [15/Apr/2023 16:54:41] \"GET / HTTP/1.1\" 200 -\n",
      "127.0.0.1 - - [15/Apr/2023 16:54:42] \"GET / HTTP/1.1\" 200 -\n",
      "127.0.0.1 - - [15/Apr/2023 16:54:51] \"GET / HTTP/1.1\" 200 -\n",
      "127.0.0.1 - - [15/Apr/2023 16:55:17] \"GET / HTTP/1.1\" 200 -\n"
     ]
    }
   ],
   "source": [
    "flask_thread.join(timeout=1)"
   ]
  },
  {
   "cell_type": "code",
   "execution_count": 8,
   "metadata": {},
   "outputs": [
    {
     "name": "stdout",
     "output_type": "stream",
     "text": [
      "COMMAND     PID USER   FD   TYPE             DEVICE SIZE/OFF NODE NAME\n",
      "python3.9 25362 mton   75u  IPv4 0x9b24dddc6432f2fd      0t0  TCP localhost:5012 (LISTEN)\n"
     ]
    }
   ],
   "source": [
    "# Check active ports\n",
    "!lsof -i :5012"
   ]
  },
  {
   "cell_type": "code",
   "execution_count": 9,
   "metadata": {},
   "outputs": [
    {
     "ename": "",
     "evalue": "",
     "output_type": "error",
     "traceback": [
      "\u001b[1;31mCanceled future for execute_request message before replies were done"
     ]
    },
    {
     "ename": "",
     "evalue": "",
     "output_type": "error",
     "traceback": [
      "\u001b[1;31mThe Kernel crashed while executing code in the the current cell or a previous cell. Please review the code in the cell(s) to identify a possible cause of the failure. Click <a href='https://aka.ms/vscodeJupyterKernelCrash'>here</a> for more info. View Jupyter <a href='command:jupyter.viewOutput'>log</a> for further details."
     ]
    }
   ],
   "source": [
    "!kill 25362"
   ]
  }
 ],
 "metadata": {
  "kernelspec": {
   "display_name": "torch-gpu",
   "language": "python",
   "name": "python3"
  },
  "language_info": {
   "codemirror_mode": {
    "name": "ipython",
    "version": 3
   },
   "file_extension": ".py",
   "mimetype": "text/x-python",
   "name": "python",
   "nbconvert_exporter": "python",
   "pygments_lexer": "ipython3",
   "version": "3.9.13"
  },
  "orig_nbformat": 4
 },
 "nbformat": 4,
 "nbformat_minor": 2
}
