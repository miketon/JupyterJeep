{
 "cells": [
  {
   "cell_type": "code",
   "execution_count": 1,
   "metadata": {},
   "outputs": [
    {
     "name": "stdout",
     "output_type": "stream",
     "text": [
      "Name: Flask\n",
      "Version: 2.2.3\n",
      "Summary: A simple framework for building complex web applications.\n",
      "Home-page: https://palletsprojects.com/p/flask\n",
      "Author: Armin Ronacher\n",
      "Author-email: armin.ronacher@active-4.com\n",
      "License: BSD-3-Clause\n",
      "Location: /Users/mton/miniconda3/envs/torch-gpu/lib/python3.9/site-packages\n",
      "Requires: click, importlib-metadata, itsdangerous, Jinja2, Werkzeug\n",
      "Required-by: dash, jupyter-dash\n",
      "Note: you may need to restart the kernel to use updated packages.\n"
     ]
    }
   ],
   "source": [
    "%pip show flask"
   ]
  },
  {
   "cell_type": "code",
   "execution_count": 4,
   "metadata": {},
   "outputs": [
    {
     "name": "stdout",
     "output_type": "stream",
     "text": [
      "Name: Flask-SQLAlchemy\n",
      "Version: 3.0.3\n",
      "Summary: Add SQLAlchemy support to your Flask application.\n",
      "Home-page: \n",
      "Author: \n",
      "Author-email: Armin Ronacher <armin.ronacher@active-4.com>\n",
      "License: BSD-3-Clause\n",
      "Location: /Users/mton/miniconda3/envs/torch-gpu/lib/python3.9/site-packages\n",
      "Requires: Flask, SQLAlchemy\n",
      "Required-by: \n",
      "Note: you may need to restart the kernel to use updated packages.\n"
     ]
    }
   ],
   "source": [
    "%pip show flask-sqlalchemy"
   ]
  },
  {
   "cell_type": "code",
   "execution_count": 7,
   "metadata": {},
   "outputs": [
    {
     "name": "stdout",
     "output_type": "stream",
     "text": [
      "\u001b[33mWARNING: Package(s) not found: gunicorn\u001b[0m\u001b[33m\n",
      "\u001b[0mNote: you may need to restart the kernel to use updated packages.\n"
     ]
    }
   ],
   "source": [
    "%pip show gunicorn"
   ]
  },
  {
   "attachments": {},
   "cell_type": "markdown",
   "metadata": {},
   "source": [
    "#### -- [INIT ROUTES] --\n",
    "***"
   ]
  },
  {
   "cell_type": "code",
   "execution_count": 2,
   "metadata": {},
   "outputs": [],
   "source": [
    "from flask import Flask\n",
    "from threading import Thread\n",
    "\n",
    "# Init Flask app\n",
    "app = Flask(__name__)\n",
    "\n",
    "# Define a route\n",
    "@app.route('/')\n",
    "def hello_world():\n",
    "    return \"Hello, World!\"\n",
    "\n",
    "# Define Flask application with desired settings\n",
    "def run_flask_app():\n",
    "    app.run(port=5012, debug=True, use_reloader=False)"
   ]
  },
  {
   "attachments": {},
   "cell_type": "markdown",
   "metadata": {},
   "source": [
    "#### -- [START FLASK THREAD] --\n",
    "***"
   ]
  },
  {
   "cell_type": "code",
   "execution_count": 3,
   "metadata": {},
   "outputs": [
    {
     "name": "stdout",
     "output_type": "stream",
     "text": [
      " * Serving Flask app '__main__'\n",
      " * Debug mode: on\n"
     ]
    },
    {
     "name": "stderr",
     "output_type": "stream",
     "text": [
      "WARNING: This is a development server. Do not use it in a production deployment. Use a production WSGI server instead.\n",
      " * Running on http://127.0.0.1:5012\n",
      "Press CTRL+C to quit\n",
      "127.0.0.1 - - [15/Apr/2023 14:01:44] \"GET / HTTP/1.1\" 200 -\n"
     ]
    }
   ],
   "source": [
    "flask_thread = Thread(target=run_flask_app)\n",
    "flask_thread.start()"
   ]
  },
  {
   "attachments": {},
   "cell_type": "markdown",
   "metadata": {},
   "source": [
    "#### -- [EXIT FLASK THREAD] --\n",
    "***"
   ]
  },
  {
   "cell_type": "code",
   "execution_count": 5,
   "metadata": {},
   "outputs": [],
   "source": [
    "flask_thread.join(timeout=1)"
   ]
  },
  {
   "cell_type": "code",
   "execution_count": 1,
   "metadata": {},
   "outputs": [],
   "source": [
    "# Check active ports\n",
    "!lsof -i :5012"
   ]
  },
  {
   "cell_type": "code",
   "execution_count": null,
   "metadata": {},
   "outputs": [],
   "source": [
    "!kill 22042"
   ]
  }
 ],
 "metadata": {
  "kernelspec": {
   "display_name": "torch-gpu",
   "language": "python",
   "name": "python3"
  },
  "language_info": {
   "codemirror_mode": {
    "name": "ipython",
    "version": 3
   },
   "file_extension": ".py",
   "mimetype": "text/x-python",
   "name": "python",
   "nbconvert_exporter": "python",
   "pygments_lexer": "ipython3",
   "version": "3.9.13"
  },
  "orig_nbformat": 4
 },
 "nbformat": 4,
 "nbformat_minor": 2
}
