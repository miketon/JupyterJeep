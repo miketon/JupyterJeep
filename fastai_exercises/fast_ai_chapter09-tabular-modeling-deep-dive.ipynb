{
 "cells": [
  {
   "cell_type": "code",
   "execution_count": 1,
   "metadata": {},
   "outputs": [],
   "source": [
    "from pathlib import Path\n",
    "import kaggle\n",
    "\n",
    "from fastai.data.external import URLs\n",
    "\n",
    "import tarfile\n",
    "import zipfile\n",
    "\n",
    "# This is the code from the old file_extract function in fastai.data.external. \n",
    "# See here for when it disappeared in favor of fastdownload:\n",
    "# https://github.com/fastai/fastai/commit/63b624c696c956a850cc137878d2582402c1db92\n",
    "def file_extract_deprecated(fname, dest=None):\n",
    "     \"Extract `fname` to `dest` using `tarfile` or `zipfile`.\"\n",
    "     if dest is None: \n",
    "          dest = Path(fname).parent\n",
    "     fname = str(fname)\n",
    "     if   fname.endswith('gz'):  \n",
    "          tarfile.open(fname, 'r:gz').extractall(dest)\n",
    "     elif fname.endswith('zip'): \n",
    "          zipfile.ZipFile(fname     ).extractall(dest)\n",
    "     else: \n",
    "          raise Exception(f'Unrecognized archive: {fname}')\n"
   ]
  },
  {
   "cell_type": "code",
   "execution_count": 2,
   "metadata": {},
   "outputs": [
    {
     "name": "stdout",
     "output_type": "stream",
     "text": [
      "Requirement already satisfied: kaggle in /Users/mton/miniconda3/envs/torch-gpu/lib/python3.9/site-packages (1.5.16)\n",
      "Requirement already satisfied: six>=1.10 in /Users/mton/miniconda3/envs/torch-gpu/lib/python3.9/site-packages (from kaggle) (1.16.0)\n",
      "Requirement already satisfied: python-dateutil in /Users/mton/miniconda3/envs/torch-gpu/lib/python3.9/site-packages (from kaggle) (2.8.2)\n",
      "Requirement already satisfied: tqdm in /Users/mton/miniconda3/envs/torch-gpu/lib/python3.9/site-packages (from kaggle) (4.64.1)\n",
      "Requirement already satisfied: requests in /Users/mton/miniconda3/envs/torch-gpu/lib/python3.9/site-packages (from kaggle) (2.28.1)\n",
      "Requirement already satisfied: urllib3 in /Users/mton/miniconda3/envs/torch-gpu/lib/python3.9/site-packages (from kaggle) (1.26.12)\n",
      "Requirement already satisfied: bleach in /Users/mton/miniconda3/envs/torch-gpu/lib/python3.9/site-packages (from kaggle) (5.0.1)\n",
      "Requirement already satisfied: python-slugify in /Users/mton/miniconda3/envs/torch-gpu/lib/python3.9/site-packages (from kaggle) (8.0.1)\n",
      "Requirement already satisfied: certifi in /Users/mton/miniconda3/envs/torch-gpu/lib/python3.9/site-packages (from kaggle) (2022.12.7)\n",
      "Requirement already satisfied: webencodings in /Users/mton/miniconda3/envs/torch-gpu/lib/python3.9/site-packages (from bleach->kaggle) (0.5.1)\n",
      "Requirement already satisfied: text-unidecode>=1.3 in /Users/mton/miniconda3/envs/torch-gpu/lib/python3.9/site-packages (from python-slugify->kaggle) (1.3)\n",
      "Requirement already satisfied: idna<4,>=2.5 in /Users/mton/miniconda3/envs/torch-gpu/lib/python3.9/site-packages (from requests->kaggle) (3.4)\n",
      "Requirement already satisfied: charset-normalizer<3,>=2 in /Users/mton/miniconda3/envs/torch-gpu/lib/python3.9/site-packages (from requests->kaggle) (2.0.4)\n",
      "Note: you may need to restart the kernel to use updated packages.\n"
     ]
    }
   ],
   "source": [
    "%pip install kaggle\n"
   ]
  },
  {
   "cell_type": "code",
   "execution_count": 3,
   "metadata": {},
   "outputs": [],
   "source": [
    "# personal key redacted\n",
    "creds = 'get-your-key-from-kaggle'\n",
    "\n",
    "cred_path = Path('~/.kaggle/kaggle.json').expanduser()\n",
    "if not cred_path.exists():\n",
    "    cred_path.parent.mkdir(exist_ok=True)\n",
    "    cred_path.write_text(creds)\n",
    "    cred_path.chmod(0o600)"
   ]
  },
  {
   "cell_type": "code",
   "execution_count": 4,
   "metadata": {},
   "outputs": [
    {
     "data": {
      "text/plain": [
       "Path('/Users/mton/.fastai/archive/bluebook')"
      ]
     },
     "execution_count": 4,
     "metadata": {},
     "output_type": "execute_result"
    }
   ],
   "source": [
    "path = URLs.path('bluebook')\n",
    "path"
   ]
  },
  {
   "cell_type": "code",
   "execution_count": 5,
   "metadata": {},
   "outputs": [
    {
     "name": "stdout",
     "output_type": "stream",
     "text": [
      "Downloading bluebook-for-bulldozers.zip to /Users/mton/.fastai/archive/bluebook\n"
     ]
    },
    {
     "name": "stderr",
     "output_type": "stream",
     "text": [
      "100%|██████████| 48.4M/48.4M [00:06<00:00, 7.74MB/s]\n"
     ]
    },
    {
     "name": "stdout",
     "output_type": "stream",
     "text": [
      "\n"
     ]
    },
    {
     "data": {
      "text/plain": [
       "(#7) [Path('/Users/mton/.fastai/archive/bluebook/random_forest_benchmark_test.csv'),Path('/Users/mton/.fastai/archive/bluebook/Valid.csv'),Path('/Users/mton/.fastai/archive/bluebook/median_benchmark.csv'),Path('/Users/mton/.fastai/archive/bluebook/Test.csv'),Path('/Users/mton/.fastai/archive/bluebook/ValidSolution.csv'),Path('/Users/mton/.fastai/archive/bluebook/Machine_Appendix.csv'),Path('/Users/mton/.fastai/archive/bluebook/TrainAndValid.csv')]"
      ]
     },
     "execution_count": 5,
     "metadata": {},
     "output_type": "execute_result"
    }
   ],
   "source": [
    "# Use Kaggle API to download dataset to that path and extract it\n",
    "\n",
    "if not path.exists():\n",
    "    path.mkdir()\n",
    "    # https://www.kaggle.com/c/bluebook-for-bulldozers/rules\n",
    "    # MUST accept rules else:\n",
    "    # - download request will time out\n",
    "    kaggle.api.competition_download_cli('bluebook-for-bulldozers', path=path)\n",
    "    file_extract_deprecated(path/'bluebook-for-bulldozers.zip')\n",
    "\n",
    "path.ls(file_type='text')"
   ]
  }
 ],
 "metadata": {
  "kernelspec": {
   "display_name": "torch-gpu",
   "language": "python",
   "name": "python3"
  },
  "language_info": {
   "codemirror_mode": {
    "name": "ipython",
    "version": 3
   },
   "file_extension": ".py",
   "mimetype": "text/x-python",
   "name": "python",
   "nbconvert_exporter": "python",
   "pygments_lexer": "ipython3",
   "version": "3.9.13"
  }
 },
 "nbformat": 4,
 "nbformat_minor": 2
}
