{
 "cells": [
  {
   "attachments": {},
   "cell_type": "markdown",
   "metadata": {},
   "source": [
    "1) Why do we first resize to a large size on the CPU, and then to a smaller size on GPU?"
   ]
  },
  {
   "cell_type": "code",
   "execution_count": null,
   "metadata": {},
   "outputs": [],
   "source": [
    "# We first resize to a larger size on the CPU to preserve details for generating \n",
    "# augmented images that would otherwise be blurrier from transforms such as \n",
    "# random crop, rotations ... etc\n",
    "# This reduces lossiness of augmentation when we downsample back a smaller \n",
    "# uniform size for GPU parallelization"
   ]
  },
  {
   "attachments": {},
   "cell_type": "markdown",
   "metadata": {},
   "source": [
    "2) If you are not familiar with regular expressions, find a regular expression\n",
    "tutorial and some problem sets and complete them.  Have a look at the book's\n",
    "website for suggestions."
   ]
  },
  {
   "cell_type": "code",
   "execution_count": null,
   "metadata": {},
   "outputs": [],
   "source": [
    "# My plan of record for picking up regular expression is to :\n",
    "# 1. Comment in the notes for any fastai code examples on each component\n",
    "# 2. Use Chat-GPT to do first pass of generating regular expressions\n",
    "# 3. Learn by osmosis over time"
   ]
  },
  {
   "attachments": {},
   "cell_type": "markdown",
   "metadata": {},
   "source": [
    "3) What are the two ways in which data is most commonly provided for most deep learning datasets?"
   ]
  },
  {
   "cell_type": "code",
   "execution_count": null,
   "metadata": {},
   "outputs": [],
   "source": [
    "# The two ways in which data is most commonly provided for from most deep learning datasets are:\n",
    "# 1. A folder of images, where IMPLICITLY folder name is the label and/or string key enumeration in filename\n",
    "# 2. A CSV file with filenames and EXPLICIT labels - this is a requirement for multi-label datasets\n",
    "# TODO : what are potentially less common file/folder organization not set here?"
   ]
  },
  {
   "attachments": {},
   "cell_type": "markdown",
   "metadata": {},
   "source": [
    "4) Look up the documentation for L and try using a few of the new methods that it adds"
   ]
  },
  {
   "cell_type": "code",
   "execution_count": null,
   "metadata": {},
   "outputs": [],
   "source": [
    "from fastai.vision.data import L\n",
    "\n",
    "L"
   ]
  }
 ],
 "metadata": {
  "kernelspec": {
   "display_name": "torch-gpu",
   "language": "python",
   "name": "python3"
  },
  "language_info": {
   "name": "python",
   "version": "3.9.13"
  },
  "orig_nbformat": 4,
  "vscode": {
   "interpreter": {
    "hash": "0203b3654eb8bc60da03d36108deed569263a68c1ed718ab77fdacb38634fa76"
   }
  }
 },
 "nbformat": 4,
 "nbformat_minor": 2
}
