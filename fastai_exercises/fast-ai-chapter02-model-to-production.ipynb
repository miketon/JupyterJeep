{
 "cells": [
  {
   "cell_type": "code",
   "execution_count": 63,
   "metadata": {},
   "outputs": [
    {
     "name": "stdout",
     "output_type": "stream",
     "text": [
      "Collecting wget\n",
      "  Downloading wget-3.2.zip (10 kB)\n",
      "  Preparing metadata (setup.py) ... \u001b[?25ldone\n",
      "\u001b[?25hBuilding wheels for collected packages: wget\n",
      "  Building wheel for wget (setup.py) ... \u001b[?25ldone\n",
      "\u001b[?25h  Created wheel for wget: filename=wget-3.2-py3-none-any.whl size=9657 sha256=d91dd9b1febaa6ab3bad01dad180e8e13eca892a132f17923b3ef241a74cf5e6\n",
      "  Stored in directory: /Users/mton/Library/Caches/pip/wheels/04/5f/3e/46cc37c5d698415694d83f607f833f83f0149e49b3af9d0f38\n",
      "Successfully built wget\n",
      "Installing collected packages: wget\n",
      "Successfully installed wget-3.2\n",
      "Note: you may need to restart the kernel to use updated packages.\n"
     ]
    }
   ],
   "source": [
    "'''\n",
    "# Check if these need to be installed\n",
    "pip install wget\n",
    "pip install requests\n",
    "pip install azure-cognitiveservices-search-imagesearch\n",
    "'''"
   ]
  },
  {
   "cell_type": "code",
   "execution_count": 54,
   "metadata": {},
   "outputs": [],
   "source": [
    "import os as os\n",
    "from requests import request\n",
    "# request('GET','http://localhost:5000/')\n",
    "# TODO : Fix this trash => Ugh, hardcoding my key for now lol\n",
    "key = os.environ.get('AZURE_SEARCH_KEY', '2414bd8a0aaa4f609964be7106a58890')"
   ]
  },
  {
   "cell_type": "code",
   "execution_count": 15,
   "metadata": {},
   "outputs": [],
   "source": [
    "\n",
    "from azure.cognitiveservices.search.imagesearch import ImageSearchClient as api\n",
    "from msrest.authentication import CognitiveServicesCredentials as auth\n",
    "from fastai.vision.core import L #foundation.py\n",
    "\n",
    "def search_images_bing(key, term, min_sz=128, max_images=150):    \n",
    "     params = {'q':term, 'count':max_images, 'min_height':min_sz, 'min_width':min_sz}\n",
    "     headers = {\"Ocp-Apim-Subscription-Key\":key}\n",
    "     search_url = \"https://api.bing.microsoft.com/v7.0/images/search\"\n",
    "     response = request('GET', search_url, headers=headers, params=params)\n",
    "     response.raise_for_status()\n",
    "     search_results = response.json()\n",
    "#      for each in search_results['value']:\n",
    "#            print(each)\n",
    "     return L(search_results['value'])"
   ]
  },
  {
   "cell_type": "code",
   "execution_count": 60,
   "metadata": {},
   "outputs": [
    {
     "data": {
      "text/plain": [
       "150"
      ]
     },
     "execution_count": 60,
     "metadata": {},
     "output_type": "execute_result"
    }
   ],
   "source": [
    "results = search_images_bing(key, 'grizzly bear')\n",
    "ims = results.attrgot('contentUrl')\n",
    "len(ims)"
   ]
  },
  {
   "cell_type": "code",
   "execution_count": null,
   "metadata": {},
   "outputs": [],
   "source": [
    "from wget import download\n",
    "dest = 'images/grizzly.jpg'\n",
    "isdir = os.path.isdir(dest)\n",
    "print(isdir)\n",
    "dir = download(ims[0])\n",
    "print(dir)\n",
    "\n",
    "im = Image.open(dir)  # type: ignore\n",
    "im.to_thumb(128, 128)"
   ]
  },
  {
   "cell_type": "code",
   "execution_count": 2,
   "metadata": {},
   "outputs": [
    {
     "name": "stdout",
     "output_type": "stream",
     "text": [
      "Bears\n"
     ]
    }
   ],
   "source": [
    "from fastai.vision.utils import download_images\n",
    "from fastcore.utils import Path\n",
    "\n",
    "bear_types = 'grizzly', 'black', 'teddys'\n",
    "path = Path('Bears')\n",
    "print(path)\n",
    "if not path.exists():\n",
    "    path.mkdir()\n",
    "    for o in bear_types:\n",
    "        dest = (path/o)\n",
    "        dest.mkdir(exist_ok=True)\n",
    "        results = search_images_bing(key, f'{o} bear')\n",
    "        print(dest)\n",
    "        download_images(dest, urls=results.attrgot('contentUrl'))"
   ]
  },
  {
   "cell_type": "code",
   "execution_count": 3,
   "metadata": {},
   "outputs": [
    {
     "name": "stdout",
     "output_type": "stream",
     "text": [
      "('grizzly', 'black', 'teddys')\n",
      "328\n",
      "0\n"
     ]
    },
    {
     "data": {
      "text/plain": [
       "(#0) []"
      ]
     },
     "execution_count": 3,
     "metadata": {},
     "output_type": "execute_result"
    }
   ],
   "source": [
    "from fastai.vision.utils import get_image_files\n",
    "from fastai.vision.utils import verify_images\n",
    "print(bear_types)\n",
    "path = Path('Bears')\n",
    "fns = get_image_files(path)\n",
    "# originally 384 imaged\n",
    "print(len(fns.items))\n",
    "# Some downloads will be corrupt, let's check for them\n",
    "failed = verify_images(fns)\n",
    "print(len(failed.items))\n",
    "# Some downloads will be corrupt, let's check for them\n",
    "# 328 after removing 56 corrupt images\n",
    "failed.map(Path.unlink)"
   ]
  },
  {
   "cell_type": "code",
   "execution_count": 16,
   "metadata": {},
   "outputs": [],
   "source": [
    "from fastai.vision.utils import DataBlock\n",
    "from fastai.vision.data import ImageBlock\n",
    "from fastai.vision.utils import CategoryBlock\n",
    "from fastai.vision.utils import get_image_files\n",
    "from fastai.vision.utils import RandomSplitter\n",
    "from fastai.vision.utils import parent_label\n",
    "from fastai.vision.augment import Resize\n",
    "\n",
    "bears = DataBlock(\n",
    "    blocks=(ImageBlock, CategoryBlock),   # type: ignore\n",
    "    get_items=get_image_files, \n",
    "    splitter=RandomSplitter(valid_pct=0.2, seed=42), # set seed so that the 20% validation data is always the same\n",
    "    get_y=parent_label, # y is the label, i.e. the dependent variable to x\n",
    "    item_tfms=Resize(128)  # type: ignore : tensors have to be the same size, Preprocess and Resize to 128x128\n",
    ")"
   ]
  }
 ],
 "metadata": {
  "kernelspec": {
   "display_name": "Python 3.9.13 ('torch-gpu')",
   "language": "python",
   "name": "python3"
  },
  "language_info": {
   "codemirror_mode": {
    "name": "ipython",
    "version": 3
   },
   "file_extension": ".py",
   "mimetype": "text/x-python",
   "name": "python",
   "nbconvert_exporter": "python",
   "pygments_lexer": "ipython3",
   "version": "3.9.13"
  },
  "orig_nbformat": 4,
  "vscode": {
   "interpreter": {
    "hash": "0203b3654eb8bc60da03d36108deed569263a68c1ed718ab77fdacb38634fa76"
   }
  }
 },
 "nbformat": 4,
 "nbformat_minor": 2
}
