{
 "cells": [
  {
   "cell_type": "code",
   "execution_count": 1,
   "metadata": {},
   "outputs": [
    {
     "data": {
      "text/plain": [
       "(#3) [Path('/Users/mton/.fastai/data/mnist_sample/valid'),Path('/Users/mton/.fastai/data/mnist_sample/labels.csv'),Path('/Users/mton/.fastai/data/mnist_sample/train')]"
      ]
     },
     "execution_count": 1,
     "metadata": {},
     "output_type": "execute_result"
    }
   ],
   "source": [
    "from fastai.data.external import untar_data, URLs\n",
    "\n",
    "path = untar_data(URLs.MNIST_SAMPLE)\n",
    "path.ls() # type: ignore"
   ]
  },
  {
   "cell_type": "code",
   "execution_count": 2,
   "metadata": {},
   "outputs": [
    {
     "data": {
      "text/plain": [
       "(#2) [Path('/Users/mton/.fastai/data/mnist_sample/train/7'),Path('/Users/mton/.fastai/data/mnist_sample/train/3')]"
      ]
     },
     "execution_count": 2,
     "metadata": {},
     "output_type": "execute_result"
    }
   ],
   "source": [
    "(path/'train').ls() # type: ignore"
   ]
  },
  {
   "cell_type": "code",
   "execution_count": 3,
   "metadata": {},
   "outputs": [
    {
     "data": {
      "text/plain": [
       "(#6131) [Path('/Users/mton/.fastai/data/mnist_sample/train/3/10.png'),Path('/Users/mton/.fastai/data/mnist_sample/train/3/10000.png'),Path('/Users/mton/.fastai/data/mnist_sample/train/3/10011.png'),Path('/Users/mton/.fastai/data/mnist_sample/train/3/10031.png'),Path('/Users/mton/.fastai/data/mnist_sample/train/3/10034.png'),Path('/Users/mton/.fastai/data/mnist_sample/train/3/10042.png'),Path('/Users/mton/.fastai/data/mnist_sample/train/3/10052.png'),Path('/Users/mton/.fastai/data/mnist_sample/train/3/1007.png'),Path('/Users/mton/.fastai/data/mnist_sample/train/3/10074.png'),Path('/Users/mton/.fastai/data/mnist_sample/train/3/10091.png')...]"
      ]
     },
     "execution_count": 3,
     "metadata": {},
     "output_type": "execute_result"
    }
   ],
   "source": [
    "threes = (path/'train'/'3').ls().sorted() # type: ignore\n",
    "sevens = (path/'train'/'7').ls().sorted() # type: ignore\n",
    "threes # type: ignore"
   ]
  },
  {
   "cell_type": "code",
   "execution_count": 13,
   "metadata": {},
   "outputs": [
    {
     "data": {
      "image/png": "[encoded data removed]",
      "text/plain": [
       "<PIL.PngImagePlugin.PngImageFile image mode=L size=28x28>"
      ]
     },
     "execution_count": 13,
     "metadata": {},
     "output_type": "execute_result"
    }
   ],
   "source": [
    "from fastai.vision.all import Image\n",
    "\n",
    "# TODO : Why does three[0] display an image, but array/tensor are all Zeroes?\n",
    "img3_path = threes[1]\n",
    "im3 = Image.open(img3_path)\n",
    "im3 # type: ignore"
   ]
  },
  {
   "cell_type": "code",
   "execution_count": 14,
   "metadata": {},
   "outputs": [
    {
     "data": {
      "text/plain": [
       "array([[  0,   0,   0,   0,   0,   0],\n",
       "       [  0,   0,   0,   0,   0,  29],\n",
       "       [  0,   0,   0,  48, 166, 224],\n",
       "       [  0,  93, 244, 249, 253, 187],\n",
       "       [  0, 107, 253, 253, 230,  48],\n",
       "       [  0,   3,  20,  20,  15,   0]], dtype=uint8)"
      ]
     },
     "execution_count": 14,
     "metadata": {},
     "output_type": "execute_result"
    }
   ],
   "source": [
    "from fastai.vision.data import array\n",
    "\n",
    "array(im3)[4:10, 4:10]"
   ]
  },
  {
   "cell_type": "code",
   "execution_count": null,
   "metadata": {},
   "outputs": [],
   "source": [
    "from fastai.vision.data import tensor\n",
    "\n",
    "tensor(im3)[4:10, 4:10]"
   ]
  },
  {
   "cell_type": "code",
   "execution_count": 37,
   "metadata": {},
   "outputs": [
    {
     "data": {
      "text/html": [
       "<style type=\"text/css\">\n",
       "#T_2eb3b_row0_col0, #T_2eb3b_row0_col1, #T_2eb3b_row0_col2, #T_2eb3b_row0_col3, #T_2eb3b_row0_col4, #T_2eb3b_row0_col5, #T_2eb3b_row0_col6, #T_2eb3b_row0_col7, #T_2eb3b_row0_col8, #T_2eb3b_row0_col9, #T_2eb3b_row0_col10, #T_2eb3b_row0_col11, #T_2eb3b_row0_col12, #T_2eb3b_row0_col13, #T_2eb3b_row0_col14, #T_2eb3b_row0_col15, #T_2eb3b_row0_col16, #T_2eb3b_row0_col17, #T_2eb3b_row1_col0, #T_2eb3b_row1_col1, #T_2eb3b_row1_col2, #T_2eb3b_row1_col3, #T_2eb3b_row1_col4, #T_2eb3b_row1_col15, #T_2eb3b_row1_col16, #T_2eb3b_row1_col17, #T_2eb3b_row2_col0, #T_2eb3b_row2_col1, #T_2eb3b_row2_col2, #T_2eb3b_row2_col15, #T_2eb3b_row2_col16, #T_2eb3b_row2_col17, #T_2eb3b_row3_col0, #T_2eb3b_row3_col15, #T_2eb3b_row3_col16, #T_2eb3b_row3_col17, #T_2eb3b_row4_col0, #T_2eb3b_row4_col6, #T_2eb3b_row4_col7, #T_2eb3b_row4_col8, #T_2eb3b_row4_col9, #T_2eb3b_row4_col10, #T_2eb3b_row4_col15, #T_2eb3b_row4_col16, #T_2eb3b_row4_col17, #T_2eb3b_row5_col0, #T_2eb3b_row5_col5, #T_2eb3b_row5_col6, #T_2eb3b_row5_col7, #T_2eb3b_row5_col8, #T_2eb3b_row5_col9, #T_2eb3b_row5_col15, #T_2eb3b_row5_col16, #T_2eb3b_row5_col17, #T_2eb3b_row6_col0, #T_2eb3b_row6_col1, #T_2eb3b_row6_col2, #T_2eb3b_row6_col3, #T_2eb3b_row6_col4, #T_2eb3b_row6_col5, #T_2eb3b_row6_col6, #T_2eb3b_row6_col7, #T_2eb3b_row6_col8, #T_2eb3b_row6_col9, #T_2eb3b_row6_col14, #T_2eb3b_row6_col15, #T_2eb3b_row6_col16, #T_2eb3b_row6_col17, #T_2eb3b_row7_col0, #T_2eb3b_row7_col1, #T_2eb3b_row7_col2, #T_2eb3b_row7_col3, #T_2eb3b_row7_col4, #T_2eb3b_row7_col5, #T_2eb3b_row7_col6, #T_2eb3b_row7_col13, #T_2eb3b_row7_col14, #T_2eb3b_row7_col15, #T_2eb3b_row7_col16, #T_2eb3b_row7_col17, #T_2eb3b_row8_col0, #T_2eb3b_row8_col1, #T_2eb3b_row8_col2, #T_2eb3b_row8_col3, #T_2eb3b_row8_col4, #T_2eb3b_row8_col13, #T_2eb3b_row8_col14, #T_2eb3b_row8_col15, #T_2eb3b_row8_col16, #T_2eb3b_row8_col17, #T_2eb3b_row9_col0, #T_2eb3b_row9_col1, #T_2eb3b_row9_col2, #T_2eb3b_row9_col3, #T_2eb3b_row9_col4, #T_2eb3b_row9_col16, #T_2eb3b_row9_col17, #T_2eb3b_row10_col0, #T_2eb3b_row10_col1, #T_2eb3b_row10_col2, #T_2eb3b_row10_col3, #T_2eb3b_row10_col4, #T_2eb3b_row10_col5, #T_2eb3b_row10_col6, #T_2eb3b_row10_col17, #T_2eb3b_row11_col0, #T_2eb3b_row11_col1, #T_2eb3b_row11_col2, #T_2eb3b_row11_col3, #T_2eb3b_row11_col4, #T_2eb3b_row11_col5, #T_2eb3b_row11_col6, #T_2eb3b_row11_col7, #T_2eb3b_row11_col8, #T_2eb3b_row11_col9, #T_2eb3b_row11_col17, #T_2eb3b_row12_col0, #T_2eb3b_row12_col1, #T_2eb3b_row12_col2, #T_2eb3b_row12_col3, #T_2eb3b_row12_col4, #T_2eb3b_row12_col5, #T_2eb3b_row12_col6, #T_2eb3b_row12_col7, #T_2eb3b_row12_col8, #T_2eb3b_row12_col9, #T_2eb3b_row12_col10, #T_2eb3b_row12_col11, #T_2eb3b_row12_col12, #T_2eb3b_row12_col17, #T_2eb3b_row13_col0, #T_2eb3b_row13_col1, #T_2eb3b_row13_col2, #T_2eb3b_row13_col3, #T_2eb3b_row13_col4, #T_2eb3b_row13_col5, #T_2eb3b_row13_col6, #T_2eb3b_row13_col7, #T_2eb3b_row13_col8, #T_2eb3b_row13_col9, #T_2eb3b_row13_col10, #T_2eb3b_row13_col11, #T_2eb3b_row13_col12, #T_2eb3b_row13_col17, #T_2eb3b_row14_col0, #T_2eb3b_row14_col1, #T_2eb3b_row14_col2, #T_2eb3b_row14_col3, #T_2eb3b_row14_col4, #T_2eb3b_row14_col5, #T_2eb3b_row14_col6, #T_2eb3b_row14_col7, #T_2eb3b_row14_col8, #T_2eb3b_row14_col9, #T_2eb3b_row14_col10, #T_2eb3b_row14_col11, #T_2eb3b_row14_col17, #T_2eb3b_row15_col0, #T_2eb3b_row15_col1, #T_2eb3b_row15_col2, #T_2eb3b_row15_col3, #T_2eb3b_row15_col4, #T_2eb3b_row15_col5, #T_2eb3b_row15_col6, #T_2eb3b_row15_col7, #T_2eb3b_row15_col8, #T_2eb3b_row15_col9, #T_2eb3b_row15_col10, #T_2eb3b_row15_col17, #T_2eb3b_row16_col0, #T_2eb3b_row16_col1, #T_2eb3b_row16_col2, #T_2eb3b_row16_col3, #T_2eb3b_row16_col4, #T_2eb3b_row16_col5, #T_2eb3b_row16_col6, #T_2eb3b_row16_col7, #T_2eb3b_row16_col8, #T_2eb3b_row16_col9, #T_2eb3b_row16_col16, #T_2eb3b_row16_col17, #T_2eb3b_row17_col0, #T_2eb3b_row17_col1, #T_2eb3b_row17_col2, #T_2eb3b_row17_col3, #T_2eb3b_row17_col4, #T_2eb3b_row17_col5, #T_2eb3b_row17_col6, #T_2eb3b_row17_col7, #T_2eb3b_row17_col15, #T_2eb3b_row17_col16, #T_2eb3b_row17_col17, #T_2eb3b_row18_col0, #T_2eb3b_row18_col1, #T_2eb3b_row18_col14, #T_2eb3b_row18_col15, #T_2eb3b_row18_col16, #T_2eb3b_row18_col17, #T_2eb3b_row19_col0, #T_2eb3b_row19_col1, #T_2eb3b_row19_col12, #T_2eb3b_row19_col13, #T_2eb3b_row19_col14, #T_2eb3b_row19_col15, #T_2eb3b_row19_col16, #T_2eb3b_row19_col17, #T_2eb3b_row20_col0, #T_2eb3b_row20_col1, #T_2eb3b_row20_col10, #T_2eb3b_row20_col11, #T_2eb3b_row20_col12, #T_2eb3b_row20_col13, #T_2eb3b_row20_col14, #T_2eb3b_row20_col15, #T_2eb3b_row20_col16, #T_2eb3b_row20_col17, #T_2eb3b_row21_col0, #T_2eb3b_row21_col1, #T_2eb3b_row21_col2, #T_2eb3b_row21_col3, #T_2eb3b_row21_col4, #T_2eb3b_row21_col5, #T_2eb3b_row21_col6, #T_2eb3b_row21_col7, #T_2eb3b_row21_col8, #T_2eb3b_row21_col9, #T_2eb3b_row21_col10, #T_2eb3b_row21_col11, #T_2eb3b_row21_col12, #T_2eb3b_row21_col13, #T_2eb3b_row21_col14, #T_2eb3b_row21_col15, #T_2eb3b_row21_col16, #T_2eb3b_row21_col17 {\n",
       "  font-size: 6pt;\n",
       "  background-color: #ffffff;\n",
       "  color: #000000;\n",
       "}\n",
       "#T_2eb3b_row1_col5, #T_2eb3b_row8_col12 {\n",
       "  font-size: 6pt;\n",
       "  background-color: #f1f1f1;\n",
       "  color: #000000;\n",
       "}\n",
       "#T_2eb3b_row1_col6, #T_2eb3b_row1_col13 {\n",
       "  font-size: 6pt;\n",
       "  background-color: #7c7c7c;\n",
       "  color: #f1f1f1;\n",
       "}\n",
       "#T_2eb3b_row1_col7 {\n",
       "  font-size: 6pt;\n",
       "  background-color: #4a4a4a;\n",
       "  color: #f1f1f1;\n",
       "}\n",
       "#T_2eb3b_row1_col8, #T_2eb3b_row1_col9, #T_2eb3b_row1_col10, #T_2eb3b_row2_col6, #T_2eb3b_row2_col7, #T_2eb3b_row2_col11, #T_2eb3b_row2_col12, #T_2eb3b_row2_col13, #T_2eb3b_row3_col4, #T_2eb3b_row3_col12, #T_2eb3b_row3_col13, #T_2eb3b_row4_col1, #T_2eb3b_row4_col2, #T_2eb3b_row4_col3, #T_2eb3b_row4_col12, #T_2eb3b_row4_col13, #T_2eb3b_row5_col12, #T_2eb3b_row6_col11, #T_2eb3b_row9_col11, #T_2eb3b_row10_col11, #T_2eb3b_row10_col12, #T_2eb3b_row10_col13, #T_2eb3b_row10_col14, #T_2eb3b_row11_col13, #T_2eb3b_row11_col14, #T_2eb3b_row11_col15, #T_2eb3b_row12_col14, #T_2eb3b_row12_col15, #T_2eb3b_row12_col16, #T_2eb3b_row13_col14, #T_2eb3b_row13_col15, #T_2eb3b_row14_col14, #T_2eb3b_row14_col15, #T_2eb3b_row15_col13, #T_2eb3b_row15_col14, #T_2eb3b_row16_col12, #T_2eb3b_row16_col13, #T_2eb3b_row17_col11, #T_2eb3b_row17_col12, #T_2eb3b_row19_col3, #T_2eb3b_row19_col4, #T_2eb3b_row19_col5, #T_2eb3b_row19_col6, #T_2eb3b_row19_col7, #T_2eb3b_row20_col3, #T_2eb3b_row20_col4, #T_2eb3b_row20_col5, #T_2eb3b_row20_col6, #T_2eb3b_row20_col7 {\n",
       "  font-size: 6pt;\n",
       "  background-color: #000000;\n",
       "  color: #f1f1f1;\n",
       "}\n",
       "#T_2eb3b_row1_col11 {\n",
       "  font-size: 6pt;\n",
       "  background-color: #606060;\n",
       "  color: #f1f1f1;\n",
       "}\n",
       "#T_2eb3b_row1_col12 {\n",
       "  font-size: 6pt;\n",
       "  background-color: #4d4d4d;\n",
       "  color: #f1f1f1;\n",
       "}\n",
       "#T_2eb3b_row1_col14 {\n",
       "  font-size: 6pt;\n",
       "  background-color: #bbbbbb;\n",
       "  color: #000000;\n",
       "}\n",
       "#T_2eb3b_row2_col3, #T_2eb3b_row4_col5 {\n",
       "  font-size: 6pt;\n",
       "  background-color: #e4e4e4;\n",
       "  color: #000000;\n",
       "}\n",
       "#T_2eb3b_row2_col4, #T_2eb3b_row8_col6 {\n",
       "  font-size: 6pt;\n",
       "  background-color: #6b6b6b;\n",
       "  color: #f1f1f1;\n",
       "}\n",
       "#T_2eb3b_row2_col5, #T_2eb3b_row5_col11 {\n",
       "  font-size: 6pt;\n",
       "  background-color: #222222;\n",
       "  color: #f1f1f1;\n",
       "}\n",
       "#T_2eb3b_row2_col8, #T_2eb3b_row2_col14, #T_2eb3b_row3_col14, #T_2eb3b_row17_col13 {\n",
       "  font-size: 6pt;\n",
       "  background-color: #171717;\n",
       "  color: #f1f1f1;\n",
       "}\n",
       "#T_2eb3b_row2_col9, #T_2eb3b_row3_col11 {\n",
       "  font-size: 6pt;\n",
       "  background-color: #4b4b4b;\n",
       "  color: #f1f1f1;\n",
       "}\n",
       "#T_2eb3b_row2_col10, #T_2eb3b_row7_col10, #T_2eb3b_row8_col8, #T_2eb3b_row8_col10, #T_2eb3b_row9_col8, #T_2eb3b_row9_col10, #T_2eb3b_row18_col10, #T_2eb3b_row19_col8 {\n",
       "  font-size: 6pt;\n",
       "  background-color: #010101;\n",
       "  color: #f1f1f1;\n",
       "}\n",
       "#T_2eb3b_row3_col1 {\n",
       "  font-size: 6pt;\n",
       "  background-color: #272727;\n",
       "  color: #f1f1f1;\n",
       "}\n",
       "#T_2eb3b_row3_col2 {\n",
       "  font-size: 6pt;\n",
       "  background-color: #0a0a0a;\n",
       "  color: #f1f1f1;\n",
       "}\n",
       "#T_2eb3b_row3_col3, #T_2eb3b_row14_col13 {\n",
       "  font-size: 6pt;\n",
       "  background-color: #050505;\n",
       "  color: #f1f1f1;\n",
       "}\n",
       "#T_2eb3b_row3_col5, #T_2eb3b_row8_col11, #T_2eb3b_row10_col15, #T_2eb3b_row19_col2 {\n",
       "  font-size: 6pt;\n",
       "  background-color: #545454;\n",
       "  color: #f1f1f1;\n",
       "}\n",
       "#T_2eb3b_row3_col6 {\n",
       "  font-size: 6pt;\n",
       "  background-color: #e6e6e6;\n",
       "  color: #000000;\n",
       "}\n",
       "#T_2eb3b_row3_col7, #T_2eb3b_row3_col10, #T_2eb3b_row8_col5 {\n",
       "  font-size: 6pt;\n",
       "  background-color: #fafafa;\n",
       "  color: #000000;\n",
       "}\n",
       "#T_2eb3b_row3_col8, #T_2eb3b_row11_col10, #T_2eb3b_row16_col15 {\n",
       "  font-size: 6pt;\n",
       "  background-color: #fbfbfb;\n",
       "  color: #000000;\n",
       "}\n",
       "#T_2eb3b_row3_col9 {\n",
       "  font-size: 6pt;\n",
       "  background-color: #fdfdfd;\n",
       "  color: #000000;\n",
       "}\n",
       "#T_2eb3b_row4_col4 {\n",
       "  font-size: 6pt;\n",
       "  background-color: #1b1b1b;\n",
       "  color: #f1f1f1;\n",
       "}\n",
       "#T_2eb3b_row4_col11 {\n",
       "  font-size: 6pt;\n",
       "  background-color: #4e4e4e;\n",
       "  color: #f1f1f1;\n",
       "}\n",
       "#T_2eb3b_row4_col14 {\n",
       "  font-size: 6pt;\n",
       "  background-color: #767676;\n",
       "  color: #f1f1f1;\n",
       "}\n",
       "#T_2eb3b_row5_col1 {\n",
       "  font-size: 6pt;\n",
       "  background-color: #fcfcfc;\n",
       "  color: #000000;\n",
       "}\n",
       "#T_2eb3b_row5_col2, #T_2eb3b_row5_col3, #T_2eb3b_row15_col16 {\n",
       "  font-size: 6pt;\n",
       "  background-color: #f6f6f6;\n",
       "  color: #000000;\n",
       "}\n",
       "#T_2eb3b_row5_col4, #T_2eb3b_row7_col7 {\n",
       "  font-size: 6pt;\n",
       "  background-color: #f8f8f8;\n",
       "  color: #000000;\n",
       "}\n",
       "#T_2eb3b_row5_col10, #T_2eb3b_row10_col7 {\n",
       "  font-size: 6pt;\n",
       "  background-color: #e8e8e8;\n",
       "  color: #000000;\n",
       "}\n",
       "#T_2eb3b_row5_col13, #T_2eb3b_row6_col12 {\n",
       "  font-size: 6pt;\n",
       "  background-color: #090909;\n",
       "  color: #f1f1f1;\n",
       "}\n",
       "#T_2eb3b_row5_col14 {\n",
       "  font-size: 6pt;\n",
       "  background-color: #d0d0d0;\n",
       "  color: #000000;\n",
       "}\n",
       "#T_2eb3b_row6_col10, #T_2eb3b_row7_col11, #T_2eb3b_row9_col6 {\n",
       "  font-size: 6pt;\n",
       "  background-color: #060606;\n",
       "  color: #f1f1f1;\n",
       "}\n",
       "#T_2eb3b_row6_col13 {\n",
       "  font-size: 6pt;\n",
       "  background-color: #979797;\n",
       "  color: #f1f1f1;\n",
       "}\n",
       "#T_2eb3b_row7_col8 {\n",
       "  font-size: 6pt;\n",
       "  background-color: #b6b6b6;\n",
       "  color: #000000;\n",
       "}\n",
       "#T_2eb3b_row7_col9 {\n",
       "  font-size: 6pt;\n",
       "  background-color: #252525;\n",
       "  color: #f1f1f1;\n",
       "}\n",
       "#T_2eb3b_row7_col12 {\n",
       "  font-size: 6pt;\n",
       "  background-color: #999999;\n",
       "  color: #f1f1f1;\n",
       "}\n",
       "#T_2eb3b_row8_col7, #T_2eb3b_row18_col8 {\n",
       "  font-size: 6pt;\n",
       "  background-color: #101010;\n",
       "  color: #f1f1f1;\n",
       "}\n",
       "#T_2eb3b_row8_col9, #T_2eb3b_row9_col9, #T_2eb3b_row17_col10, #T_2eb3b_row18_col9, #T_2eb3b_row19_col9 {\n",
       "  font-size: 6pt;\n",
       "  background-color: #020202;\n",
       "  color: #f1f1f1;\n",
       "}\n",
       "#T_2eb3b_row9_col5 {\n",
       "  font-size: 6pt;\n",
       "  background-color: #f7f7f7;\n",
       "  color: #000000;\n",
       "}\n",
       "#T_2eb3b_row9_col7, #T_2eb3b_row18_col11 {\n",
       "  font-size: 6pt;\n",
       "  background-color: #030303;\n",
       "  color: #f1f1f1;\n",
       "}\n",
       "#T_2eb3b_row9_col12 {\n",
       "  font-size: 6pt;\n",
       "  background-color: #181818;\n",
       "  color: #f1f1f1;\n",
       "}\n",
       "#T_2eb3b_row9_col13 {\n",
       "  font-size: 6pt;\n",
       "  background-color: #303030;\n",
       "  color: #f1f1f1;\n",
       "}\n",
       "#T_2eb3b_row9_col14 {\n",
       "  font-size: 6pt;\n",
       "  background-color: #a9a9a9;\n",
       "  color: #f1f1f1;\n",
       "}\n",
       "#T_2eb3b_row9_col15 {\n",
       "  font-size: 6pt;\n",
       "  background-color: #fefefe;\n",
       "  color: #000000;\n",
       "}\n",
       "#T_2eb3b_row10_col8, #T_2eb3b_row10_col9, #T_2eb3b_row16_col10 {\n",
       "  font-size: 6pt;\n",
       "  background-color: #bababa;\n",
       "  color: #000000;\n",
       "}\n",
       "#T_2eb3b_row10_col10 {\n",
       "  font-size: 6pt;\n",
       "  background-color: #393939;\n",
       "  color: #f1f1f1;\n",
       "}\n",
       "#T_2eb3b_row10_col16 {\n",
       "  font-size: 6pt;\n",
       "  background-color: #eaeaea;\n",
       "  color: #000000;\n",
       "}\n",
       "#T_2eb3b_row11_col11 {\n",
       "  font-size: 6pt;\n",
       "  background-color: #e2e2e2;\n",
       "  color: #000000;\n",
       "}\n",
       "#T_2eb3b_row11_col12 {\n",
       "  font-size: 6pt;\n",
       "  background-color: #9f9f9f;\n",
       "  color: #f1f1f1;\n",
       "}\n",
       "#T_2eb3b_row11_col16 {\n",
       "  font-size: 6pt;\n",
       "  background-color: #898989;\n",
       "  color: #f1f1f1;\n",
       "}\n",
       "#T_2eb3b_row12_col13 {\n",
       "  font-size: 6pt;\n",
       "  background-color: #585858;\n",
       "  color: #f1f1f1;\n",
       "}\n",
       "#T_2eb3b_row13_col13 {\n",
       "  font-size: 6pt;\n",
       "  background-color: #5a5a5a;\n",
       "  color: #f1f1f1;\n",
       "}\n",
       "#T_2eb3b_row13_col16 {\n",
       "  font-size: 6pt;\n",
       "  background-color: #525252;\n",
       "  color: #f1f1f1;\n",
       "}\n",
       "#T_2eb3b_row14_col12, #T_2eb3b_row19_col11 {\n",
       "  font-size: 6pt;\n",
       "  background-color: #c5c5c5;\n",
       "  color: #000000;\n",
       "}\n",
       "#T_2eb3b_row14_col16 {\n",
       "  font-size: 6pt;\n",
       "  background-color: #d7d7d7;\n",
       "  color: #000000;\n",
       "}\n",
       "#T_2eb3b_row15_col11, #T_2eb3b_row18_col5 {\n",
       "  font-size: 6pt;\n",
       "  background-color: #dcdcdc;\n",
       "  color: #000000;\n",
       "}\n",
       "#T_2eb3b_row15_col12 {\n",
       "  font-size: 6pt;\n",
       "  background-color: #2f2f2f;\n",
       "  color: #f1f1f1;\n",
       "}\n",
       "#T_2eb3b_row15_col15 {\n",
       "  font-size: 6pt;\n",
       "  background-color: #636363;\n",
       "  color: #f1f1f1;\n",
       "}\n",
       "#T_2eb3b_row16_col11 {\n",
       "  font-size: 6pt;\n",
       "  background-color: #070707;\n",
       "  color: #f1f1f1;\n",
       "}\n",
       "#T_2eb3b_row16_col14 {\n",
       "  font-size: 6pt;\n",
       "  background-color: #1f1f1f;\n",
       "  color: #f1f1f1;\n",
       "}\n",
       "#T_2eb3b_row17_col8, #T_2eb3b_row18_col2, #T_2eb3b_row18_col4 {\n",
       "  font-size: 6pt;\n",
       "  background-color: #e9e9e9;\n",
       "  color: #000000;\n",
       "}\n",
       "#T_2eb3b_row17_col9 {\n",
       "  font-size: 6pt;\n",
       "  background-color: #7d7d7d;\n",
       "  color: #f1f1f1;\n",
       "}\n",
       "#T_2eb3b_row17_col14 {\n",
       "  font-size: 6pt;\n",
       "  background-color: #e1e1e1;\n",
       "  color: #000000;\n",
       "}\n",
       "#T_2eb3b_row18_col3, #T_2eb3b_row18_col6 {\n",
       "  font-size: 6pt;\n",
       "  background-color: #a4a4a4;\n",
       "  color: #f1f1f1;\n",
       "}\n",
       "#T_2eb3b_row18_col7 {\n",
       "  font-size: 6pt;\n",
       "  background-color: #727272;\n",
       "  color: #f1f1f1;\n",
       "}\n",
       "#T_2eb3b_row18_col12 {\n",
       "  font-size: 6pt;\n",
       "  background-color: #616161;\n",
       "  color: #f1f1f1;\n",
       "}\n",
       "#T_2eb3b_row18_col13 {\n",
       "  font-size: 6pt;\n",
       "  background-color: #f3f3f3;\n",
       "  color: #000000;\n",
       "}\n",
       "#T_2eb3b_row19_col10 {\n",
       "  font-size: 6pt;\n",
       "  background-color: #484848;\n",
       "  color: #f1f1f1;\n",
       "}\n",
       "#T_2eb3b_row20_col2 {\n",
       "  font-size: 6pt;\n",
       "  background-color: #b3b3b3;\n",
       "  color: #000000;\n",
       "}\n",
       "#T_2eb3b_row20_col8 {\n",
       "  font-size: 6pt;\n",
       "  background-color: #1a1a1a;\n",
       "  color: #f1f1f1;\n",
       "}\n",
       "#T_2eb3b_row20_col9 {\n",
       "  font-size: 6pt;\n",
       "  background-color: #d6d6d6;\n",
       "  color: #000000;\n",
       "}\n",
       "</style>\n",
       "<table id=\"T_2eb3b\">\n",
       "  <thead>\n",
       "    <tr>\n",
       "      <th class=\"blank level0\" >&nbsp;</th>\n",
       "      <th id=\"T_2eb3b_level0_col0\" class=\"col_heading level0 col0\" >0</th>\n",
       "      <th id=\"T_2eb3b_level0_col1\" class=\"col_heading level0 col1\" >1</th>\n",
       "      <th id=\"T_2eb3b_level0_col2\" class=\"col_heading level0 col2\" >2</th>\n",
       "      <th id=\"T_2eb3b_level0_col3\" class=\"col_heading level0 col3\" >3</th>\n",
       "      <th id=\"T_2eb3b_level0_col4\" class=\"col_heading level0 col4\" >4</th>\n",
       "      <th id=\"T_2eb3b_level0_col5\" class=\"col_heading level0 col5\" >5</th>\n",
       "      <th id=\"T_2eb3b_level0_col6\" class=\"col_heading level0 col6\" >6</th>\n",
       "      <th id=\"T_2eb3b_level0_col7\" class=\"col_heading level0 col7\" >7</th>\n",
       "      <th id=\"T_2eb3b_level0_col8\" class=\"col_heading level0 col8\" >8</th>\n",
       "      <th id=\"T_2eb3b_level0_col9\" class=\"col_heading level0 col9\" >9</th>\n",
       "      <th id=\"T_2eb3b_level0_col10\" class=\"col_heading level0 col10\" >10</th>\n",
       "      <th id=\"T_2eb3b_level0_col11\" class=\"col_heading level0 col11\" >11</th>\n",
       "      <th id=\"T_2eb3b_level0_col12\" class=\"col_heading level0 col12\" >12</th>\n",
       "      <th id=\"T_2eb3b_level0_col13\" class=\"col_heading level0 col13\" >13</th>\n",
       "      <th id=\"T_2eb3b_level0_col14\" class=\"col_heading level0 col14\" >14</th>\n",
       "      <th id=\"T_2eb3b_level0_col15\" class=\"col_heading level0 col15\" >15</th>\n",
       "      <th id=\"T_2eb3b_level0_col16\" class=\"col_heading level0 col16\" >16</th>\n",
       "      <th id=\"T_2eb3b_level0_col17\" class=\"col_heading level0 col17\" >17</th>\n",
       "    </tr>\n",
       "  </thead>\n",
       "  <tbody>\n",
       "    <tr>\n",
       "      <th id=\"T_2eb3b_level0_row0\" class=\"row_heading level0 row0\" >0</th>\n",
       "      <td id=\"T_2eb3b_row0_col0\" class=\"data row0 col0\" >0</td>\n",
       "      <td id=\"T_2eb3b_row0_col1\" class=\"data row0 col1\" >0</td>\n",
       "      <td id=\"T_2eb3b_row0_col2\" class=\"data row0 col2\" >0</td>\n",
       "      <td id=\"T_2eb3b_row0_col3\" class=\"data row0 col3\" >0</td>\n",
       "      <td id=\"T_2eb3b_row0_col4\" class=\"data row0 col4\" >0</td>\n",
       "      <td id=\"T_2eb3b_row0_col5\" class=\"data row0 col5\" >0</td>\n",
       "      <td id=\"T_2eb3b_row0_col6\" class=\"data row0 col6\" >0</td>\n",
       "      <td id=\"T_2eb3b_row0_col7\" class=\"data row0 col7\" >0</td>\n",
       "      <td id=\"T_2eb3b_row0_col8\" class=\"data row0 col8\" >0</td>\n",
       "      <td id=\"T_2eb3b_row0_col9\" class=\"data row0 col9\" >0</td>\n",
       "      <td id=\"T_2eb3b_row0_col10\" class=\"data row0 col10\" >0</td>\n",
       "      <td id=\"T_2eb3b_row0_col11\" class=\"data row0 col11\" >0</td>\n",
       "      <td id=\"T_2eb3b_row0_col12\" class=\"data row0 col12\" >0</td>\n",
       "      <td id=\"T_2eb3b_row0_col13\" class=\"data row0 col13\" >0</td>\n",
       "      <td id=\"T_2eb3b_row0_col14\" class=\"data row0 col14\" >0</td>\n",
       "      <td id=\"T_2eb3b_row0_col15\" class=\"data row0 col15\" >0</td>\n",
       "      <td id=\"T_2eb3b_row0_col16\" class=\"data row0 col16\" >0</td>\n",
       "      <td id=\"T_2eb3b_row0_col17\" class=\"data row0 col17\" >0</td>\n",
       "    </tr>\n",
       "    <tr>\n",
       "      <th id=\"T_2eb3b_level0_row1\" class=\"row_heading level0 row1\" >1</th>\n",
       "      <td id=\"T_2eb3b_row1_col0\" class=\"data row1 col0\" >0</td>\n",
       "      <td id=\"T_2eb3b_row1_col1\" class=\"data row1 col1\" >0</td>\n",
       "      <td id=\"T_2eb3b_row1_col2\" class=\"data row1 col2\" >0</td>\n",
       "      <td id=\"T_2eb3b_row1_col3\" class=\"data row1 col3\" >0</td>\n",
       "      <td id=\"T_2eb3b_row1_col4\" class=\"data row1 col4\" >0</td>\n",
       "      <td id=\"T_2eb3b_row1_col5\" class=\"data row1 col5\" >29</td>\n",
       "      <td id=\"T_2eb3b_row1_col6\" class=\"data row1 col6\" >150</td>\n",
       "      <td id=\"T_2eb3b_row1_col7\" class=\"data row1 col7\" >195</td>\n",
       "      <td id=\"T_2eb3b_row1_col8\" class=\"data row1 col8\" >254</td>\n",
       "      <td id=\"T_2eb3b_row1_col9\" class=\"data row1 col9\" >255</td>\n",
       "      <td id=\"T_2eb3b_row1_col10\" class=\"data row1 col10\" >254</td>\n",
       "      <td id=\"T_2eb3b_row1_col11\" class=\"data row1 col11\" >176</td>\n",
       "      <td id=\"T_2eb3b_row1_col12\" class=\"data row1 col12\" >193</td>\n",
       "      <td id=\"T_2eb3b_row1_col13\" class=\"data row1 col13\" >150</td>\n",
       "      <td id=\"T_2eb3b_row1_col14\" class=\"data row1 col14\" >96</td>\n",
       "      <td id=\"T_2eb3b_row1_col15\" class=\"data row1 col15\" >0</td>\n",
       "      <td id=\"T_2eb3b_row1_col16\" class=\"data row1 col16\" >0</td>\n",
       "      <td id=\"T_2eb3b_row1_col17\" class=\"data row1 col17\" >0</td>\n",
       "    </tr>\n",
       "    <tr>\n",
       "      <th id=\"T_2eb3b_level0_row2\" class=\"row_heading level0 row2\" >2</th>\n",
       "      <td id=\"T_2eb3b_row2_col0\" class=\"data row2 col0\" >0</td>\n",
       "      <td id=\"T_2eb3b_row2_col1\" class=\"data row2 col1\" >0</td>\n",
       "      <td id=\"T_2eb3b_row2_col2\" class=\"data row2 col2\" >0</td>\n",
       "      <td id=\"T_2eb3b_row2_col3\" class=\"data row2 col3\" >48</td>\n",
       "      <td id=\"T_2eb3b_row2_col4\" class=\"data row2 col4\" >166</td>\n",
       "      <td id=\"T_2eb3b_row2_col5\" class=\"data row2 col5\" >224</td>\n",
       "      <td id=\"T_2eb3b_row2_col6\" class=\"data row2 col6\" >253</td>\n",
       "      <td id=\"T_2eb3b_row2_col7\" class=\"data row2 col7\" >253</td>\n",
       "      <td id=\"T_2eb3b_row2_col8\" class=\"data row2 col8\" >234</td>\n",
       "      <td id=\"T_2eb3b_row2_col9\" class=\"data row2 col9\" >196</td>\n",
       "      <td id=\"T_2eb3b_row2_col10\" class=\"data row2 col10\" >253</td>\n",
       "      <td id=\"T_2eb3b_row2_col11\" class=\"data row2 col11\" >253</td>\n",
       "      <td id=\"T_2eb3b_row2_col12\" class=\"data row2 col12\" >253</td>\n",
       "      <td id=\"T_2eb3b_row2_col13\" class=\"data row2 col13\" >253</td>\n",
       "      <td id=\"T_2eb3b_row2_col14\" class=\"data row2 col14\" >233</td>\n",
       "      <td id=\"T_2eb3b_row2_col15\" class=\"data row2 col15\" >0</td>\n",
       "      <td id=\"T_2eb3b_row2_col16\" class=\"data row2 col16\" >0</td>\n",
       "      <td id=\"T_2eb3b_row2_col17\" class=\"data row2 col17\" >0</td>\n",
       "    </tr>\n",
       "    <tr>\n",
       "      <th id=\"T_2eb3b_level0_row3\" class=\"row_heading level0 row3\" >3</th>\n",
       "      <td id=\"T_2eb3b_row3_col0\" class=\"data row3 col0\" >0</td>\n",
       "      <td id=\"T_2eb3b_row3_col1\" class=\"data row3 col1\" >93</td>\n",
       "      <td id=\"T_2eb3b_row3_col2\" class=\"data row3 col2\" >244</td>\n",
       "      <td id=\"T_2eb3b_row3_col3\" class=\"data row3 col3\" >249</td>\n",
       "      <td id=\"T_2eb3b_row3_col4\" class=\"data row3 col4\" >253</td>\n",
       "      <td id=\"T_2eb3b_row3_col5\" class=\"data row3 col5\" >187</td>\n",
       "      <td id=\"T_2eb3b_row3_col6\" class=\"data row3 col6\" >46</td>\n",
       "      <td id=\"T_2eb3b_row3_col7\" class=\"data row3 col7\" >10</td>\n",
       "      <td id=\"T_2eb3b_row3_col8\" class=\"data row3 col8\" >8</td>\n",
       "      <td id=\"T_2eb3b_row3_col9\" class=\"data row3 col9\" >4</td>\n",
       "      <td id=\"T_2eb3b_row3_col10\" class=\"data row3 col10\" >10</td>\n",
       "      <td id=\"T_2eb3b_row3_col11\" class=\"data row3 col11\" >194</td>\n",
       "      <td id=\"T_2eb3b_row3_col12\" class=\"data row3 col12\" >253</td>\n",
       "      <td id=\"T_2eb3b_row3_col13\" class=\"data row3 col13\" >253</td>\n",
       "      <td id=\"T_2eb3b_row3_col14\" class=\"data row3 col14\" >233</td>\n",
       "      <td id=\"T_2eb3b_row3_col15\" class=\"data row3 col15\" >0</td>\n",
       "      <td id=\"T_2eb3b_row3_col16\" class=\"data row3 col16\" >0</td>\n",
       "      <td id=\"T_2eb3b_row3_col17\" class=\"data row3 col17\" >0</td>\n",
       "    </tr>\n",
       "    <tr>\n",
       "      <th id=\"T_2eb3b_level0_row4\" class=\"row_heading level0 row4\" >4</th>\n",
       "      <td id=\"T_2eb3b_row4_col0\" class=\"data row4 col0\" >0</td>\n",
       "      <td id=\"T_2eb3b_row4_col1\" class=\"data row4 col1\" >107</td>\n",
       "      <td id=\"T_2eb3b_row4_col2\" class=\"data row4 col2\" >253</td>\n",
       "      <td id=\"T_2eb3b_row4_col3\" class=\"data row4 col3\" >253</td>\n",
       "      <td id=\"T_2eb3b_row4_col4\" class=\"data row4 col4\" >230</td>\n",
       "      <td id=\"T_2eb3b_row4_col5\" class=\"data row4 col5\" >48</td>\n",
       "      <td id=\"T_2eb3b_row4_col6\" class=\"data row4 col6\" >0</td>\n",
       "      <td id=\"T_2eb3b_row4_col7\" class=\"data row4 col7\" >0</td>\n",
       "      <td id=\"T_2eb3b_row4_col8\" class=\"data row4 col8\" >0</td>\n",
       "      <td id=\"T_2eb3b_row4_col9\" class=\"data row4 col9\" >0</td>\n",
       "      <td id=\"T_2eb3b_row4_col10\" class=\"data row4 col10\" >0</td>\n",
       "      <td id=\"T_2eb3b_row4_col11\" class=\"data row4 col11\" >192</td>\n",
       "      <td id=\"T_2eb3b_row4_col12\" class=\"data row4 col12\" >253</td>\n",
       "      <td id=\"T_2eb3b_row4_col13\" class=\"data row4 col13\" >253</td>\n",
       "      <td id=\"T_2eb3b_row4_col14\" class=\"data row4 col14\" >156</td>\n",
       "      <td id=\"T_2eb3b_row4_col15\" class=\"data row4 col15\" >0</td>\n",
       "      <td id=\"T_2eb3b_row4_col16\" class=\"data row4 col16\" >0</td>\n",
       "      <td id=\"T_2eb3b_row4_col17\" class=\"data row4 col17\" >0</td>\n",
       "    </tr>\n",
       "    <tr>\n",
       "      <th id=\"T_2eb3b_level0_row5\" class=\"row_heading level0 row5\" >5</th>\n",
       "      <td id=\"T_2eb3b_row5_col0\" class=\"data row5 col0\" >0</td>\n",
       "      <td id=\"T_2eb3b_row5_col1\" class=\"data row5 col1\" >3</td>\n",
       "      <td id=\"T_2eb3b_row5_col2\" class=\"data row5 col2\" >20</td>\n",
       "      <td id=\"T_2eb3b_row5_col3\" class=\"data row5 col3\" >20</td>\n",
       "      <td id=\"T_2eb3b_row5_col4\" class=\"data row5 col4\" >15</td>\n",
       "      <td id=\"T_2eb3b_row5_col5\" class=\"data row5 col5\" >0</td>\n",
       "      <td id=\"T_2eb3b_row5_col6\" class=\"data row5 col6\" >0</td>\n",
       "      <td id=\"T_2eb3b_row5_col7\" class=\"data row5 col7\" >0</td>\n",
       "      <td id=\"T_2eb3b_row5_col8\" class=\"data row5 col8\" >0</td>\n",
       "      <td id=\"T_2eb3b_row5_col9\" class=\"data row5 col9\" >0</td>\n",
       "      <td id=\"T_2eb3b_row5_col10\" class=\"data row5 col10\" >43</td>\n",
       "      <td id=\"T_2eb3b_row5_col11\" class=\"data row5 col11\" >224</td>\n",
       "      <td id=\"T_2eb3b_row5_col12\" class=\"data row5 col12\" >253</td>\n",
       "      <td id=\"T_2eb3b_row5_col13\" class=\"data row5 col13\" >245</td>\n",
       "      <td id=\"T_2eb3b_row5_col14\" class=\"data row5 col14\" >74</td>\n",
       "      <td id=\"T_2eb3b_row5_col15\" class=\"data row5 col15\" >0</td>\n",
       "      <td id=\"T_2eb3b_row5_col16\" class=\"data row5 col16\" >0</td>\n",
       "      <td id=\"T_2eb3b_row5_col17\" class=\"data row5 col17\" >0</td>\n",
       "    </tr>\n",
       "    <tr>\n",
       "      <th id=\"T_2eb3b_level0_row6\" class=\"row_heading level0 row6\" >6</th>\n",
       "      <td id=\"T_2eb3b_row6_col0\" class=\"data row6 col0\" >0</td>\n",
       "      <td id=\"T_2eb3b_row6_col1\" class=\"data row6 col1\" >0</td>\n",
       "      <td id=\"T_2eb3b_row6_col2\" class=\"data row6 col2\" >0</td>\n",
       "      <td id=\"T_2eb3b_row6_col3\" class=\"data row6 col3\" >0</td>\n",
       "      <td id=\"T_2eb3b_row6_col4\" class=\"data row6 col4\" >0</td>\n",
       "      <td id=\"T_2eb3b_row6_col5\" class=\"data row6 col5\" >0</td>\n",
       "      <td id=\"T_2eb3b_row6_col6\" class=\"data row6 col6\" >0</td>\n",
       "      <td id=\"T_2eb3b_row6_col7\" class=\"data row6 col7\" >0</td>\n",
       "      <td id=\"T_2eb3b_row6_col8\" class=\"data row6 col8\" >0</td>\n",
       "      <td id=\"T_2eb3b_row6_col9\" class=\"data row6 col9\" >0</td>\n",
       "      <td id=\"T_2eb3b_row6_col10\" class=\"data row6 col10\" >249</td>\n",
       "      <td id=\"T_2eb3b_row6_col11\" class=\"data row6 col11\" >253</td>\n",
       "      <td id=\"T_2eb3b_row6_col12\" class=\"data row6 col12\" >245</td>\n",
       "      <td id=\"T_2eb3b_row6_col13\" class=\"data row6 col13\" >126</td>\n",
       "      <td id=\"T_2eb3b_row6_col14\" class=\"data row6 col14\" >0</td>\n",
       "      <td id=\"T_2eb3b_row6_col15\" class=\"data row6 col15\" >0</td>\n",
       "      <td id=\"T_2eb3b_row6_col16\" class=\"data row6 col16\" >0</td>\n",
       "      <td id=\"T_2eb3b_row6_col17\" class=\"data row6 col17\" >0</td>\n",
       "    </tr>\n",
       "    <tr>\n",
       "      <th id=\"T_2eb3b_level0_row7\" class=\"row_heading level0 row7\" >7</th>\n",
       "      <td id=\"T_2eb3b_row7_col0\" class=\"data row7 col0\" >0</td>\n",
       "      <td id=\"T_2eb3b_row7_col1\" class=\"data row7 col1\" >0</td>\n",
       "      <td id=\"T_2eb3b_row7_col2\" class=\"data row7 col2\" >0</td>\n",
       "      <td id=\"T_2eb3b_row7_col3\" class=\"data row7 col3\" >0</td>\n",
       "      <td id=\"T_2eb3b_row7_col4\" class=\"data row7 col4\" >0</td>\n",
       "      <td id=\"T_2eb3b_row7_col5\" class=\"data row7 col5\" >0</td>\n",
       "      <td id=\"T_2eb3b_row7_col6\" class=\"data row7 col6\" >0</td>\n",
       "      <td id=\"T_2eb3b_row7_col7\" class=\"data row7 col7\" >14</td>\n",
       "      <td id=\"T_2eb3b_row7_col8\" class=\"data row7 col8\" >101</td>\n",
       "      <td id=\"T_2eb3b_row7_col9\" class=\"data row7 col9\" >223</td>\n",
       "      <td id=\"T_2eb3b_row7_col10\" class=\"data row7 col10\" >253</td>\n",
       "      <td id=\"T_2eb3b_row7_col11\" class=\"data row7 col11\" >248</td>\n",
       "      <td id=\"T_2eb3b_row7_col12\" class=\"data row7 col12\" >124</td>\n",
       "      <td id=\"T_2eb3b_row7_col13\" class=\"data row7 col13\" >0</td>\n",
       "      <td id=\"T_2eb3b_row7_col14\" class=\"data row7 col14\" >0</td>\n",
       "      <td id=\"T_2eb3b_row7_col15\" class=\"data row7 col15\" >0</td>\n",
       "      <td id=\"T_2eb3b_row7_col16\" class=\"data row7 col16\" >0</td>\n",
       "      <td id=\"T_2eb3b_row7_col17\" class=\"data row7 col17\" >0</td>\n",
       "    </tr>\n",
       "    <tr>\n",
       "      <th id=\"T_2eb3b_level0_row8\" class=\"row_heading level0 row8\" >8</th>\n",
       "      <td id=\"T_2eb3b_row8_col0\" class=\"data row8 col0\" >0</td>\n",
       "      <td id=\"T_2eb3b_row8_col1\" class=\"data row8 col1\" >0</td>\n",
       "      <td id=\"T_2eb3b_row8_col2\" class=\"data row8 col2\" >0</td>\n",
       "      <td id=\"T_2eb3b_row8_col3\" class=\"data row8 col3\" >0</td>\n",
       "      <td id=\"T_2eb3b_row8_col4\" class=\"data row8 col4\" >0</td>\n",
       "      <td id=\"T_2eb3b_row8_col5\" class=\"data row8 col5\" >11</td>\n",
       "      <td id=\"T_2eb3b_row8_col6\" class=\"data row8 col6\" >166</td>\n",
       "      <td id=\"T_2eb3b_row8_col7\" class=\"data row8 col7\" >239</td>\n",
       "      <td id=\"T_2eb3b_row8_col8\" class=\"data row8 col8\" >253</td>\n",
       "      <td id=\"T_2eb3b_row8_col9\" class=\"data row8 col9\" >253</td>\n",
       "      <td id=\"T_2eb3b_row8_col10\" class=\"data row8 col10\" >253</td>\n",
       "      <td id=\"T_2eb3b_row8_col11\" class=\"data row8 col11\" >187</td>\n",
       "      <td id=\"T_2eb3b_row8_col12\" class=\"data row8 col12\" >30</td>\n",
       "      <td id=\"T_2eb3b_row8_col13\" class=\"data row8 col13\" >0</td>\n",
       "      <td id=\"T_2eb3b_row8_col14\" class=\"data row8 col14\" >0</td>\n",
       "      <td id=\"T_2eb3b_row8_col15\" class=\"data row8 col15\" >0</td>\n",
       "      <td id=\"T_2eb3b_row8_col16\" class=\"data row8 col16\" >0</td>\n",
       "      <td id=\"T_2eb3b_row8_col17\" class=\"data row8 col17\" >0</td>\n",
       "    </tr>\n",
       "    <tr>\n",
       "      <th id=\"T_2eb3b_level0_row9\" class=\"row_heading level0 row9\" >9</th>\n",
       "      <td id=\"T_2eb3b_row9_col0\" class=\"data row9 col0\" >0</td>\n",
       "      <td id=\"T_2eb3b_row9_col1\" class=\"data row9 col1\" >0</td>\n",
       "      <td id=\"T_2eb3b_row9_col2\" class=\"data row9 col2\" >0</td>\n",
       "      <td id=\"T_2eb3b_row9_col3\" class=\"data row9 col3\" >0</td>\n",
       "      <td id=\"T_2eb3b_row9_col4\" class=\"data row9 col4\" >0</td>\n",
       "      <td id=\"T_2eb3b_row9_col5\" class=\"data row9 col5\" >16</td>\n",
       "      <td id=\"T_2eb3b_row9_col6\" class=\"data row9 col6\" >248</td>\n",
       "      <td id=\"T_2eb3b_row9_col7\" class=\"data row9 col7\" >250</td>\n",
       "      <td id=\"T_2eb3b_row9_col8\" class=\"data row9 col8\" >253</td>\n",
       "      <td id=\"T_2eb3b_row9_col9\" class=\"data row9 col9\" >253</td>\n",
       "      <td id=\"T_2eb3b_row9_col10\" class=\"data row9 col10\" >253</td>\n",
       "      <td id=\"T_2eb3b_row9_col11\" class=\"data row9 col11\" >253</td>\n",
       "      <td id=\"T_2eb3b_row9_col12\" class=\"data row9 col12\" >232</td>\n",
       "      <td id=\"T_2eb3b_row9_col13\" class=\"data row9 col13\" >213</td>\n",
       "      <td id=\"T_2eb3b_row9_col14\" class=\"data row9 col14\" >111</td>\n",
       "      <td id=\"T_2eb3b_row9_col15\" class=\"data row9 col15\" >2</td>\n",
       "      <td id=\"T_2eb3b_row9_col16\" class=\"data row9 col16\" >0</td>\n",
       "      <td id=\"T_2eb3b_row9_col17\" class=\"data row9 col17\" >0</td>\n",
       "    </tr>\n",
       "    <tr>\n",
       "      <th id=\"T_2eb3b_level0_row10\" class=\"row_heading level0 row10\" >10</th>\n",
       "      <td id=\"T_2eb3b_row10_col0\" class=\"data row10 col0\" >0</td>\n",
       "      <td id=\"T_2eb3b_row10_col1\" class=\"data row10 col1\" >0</td>\n",
       "      <td id=\"T_2eb3b_row10_col2\" class=\"data row10 col2\" >0</td>\n",
       "      <td id=\"T_2eb3b_row10_col3\" class=\"data row10 col3\" >0</td>\n",
       "      <td id=\"T_2eb3b_row10_col4\" class=\"data row10 col4\" >0</td>\n",
       "      <td id=\"T_2eb3b_row10_col5\" class=\"data row10 col5\" >0</td>\n",
       "      <td id=\"T_2eb3b_row10_col6\" class=\"data row10 col6\" >0</td>\n",
       "      <td id=\"T_2eb3b_row10_col7\" class=\"data row10 col7\" >43</td>\n",
       "      <td id=\"T_2eb3b_row10_col8\" class=\"data row10 col8\" >98</td>\n",
       "      <td id=\"T_2eb3b_row10_col9\" class=\"data row10 col9\" >98</td>\n",
       "      <td id=\"T_2eb3b_row10_col10\" class=\"data row10 col10\" >208</td>\n",
       "      <td id=\"T_2eb3b_row10_col11\" class=\"data row10 col11\" >253</td>\n",
       "      <td id=\"T_2eb3b_row10_col12\" class=\"data row10 col12\" >253</td>\n",
       "      <td id=\"T_2eb3b_row10_col13\" class=\"data row10 col13\" >253</td>\n",
       "      <td id=\"T_2eb3b_row10_col14\" class=\"data row10 col14\" >253</td>\n",
       "      <td id=\"T_2eb3b_row10_col15\" class=\"data row10 col15\" >187</td>\n",
       "      <td id=\"T_2eb3b_row10_col16\" class=\"data row10 col16\" >22</td>\n",
       "      <td id=\"T_2eb3b_row10_col17\" class=\"data row10 col17\" >0</td>\n",
       "    </tr>\n",
       "    <tr>\n",
       "      <th id=\"T_2eb3b_level0_row11\" class=\"row_heading level0 row11\" >11</th>\n",
       "      <td id=\"T_2eb3b_row11_col0\" class=\"data row11 col0\" >0</td>\n",
       "      <td id=\"T_2eb3b_row11_col1\" class=\"data row11 col1\" >0</td>\n",
       "      <td id=\"T_2eb3b_row11_col2\" class=\"data row11 col2\" >0</td>\n",
       "      <td id=\"T_2eb3b_row11_col3\" class=\"data row11 col3\" >0</td>\n",
       "      <td id=\"T_2eb3b_row11_col4\" class=\"data row11 col4\" >0</td>\n",
       "      <td id=\"T_2eb3b_row11_col5\" class=\"data row11 col5\" >0</td>\n",
       "      <td id=\"T_2eb3b_row11_col6\" class=\"data row11 col6\" >0</td>\n",
       "      <td id=\"T_2eb3b_row11_col7\" class=\"data row11 col7\" >0</td>\n",
       "      <td id=\"T_2eb3b_row11_col8\" class=\"data row11 col8\" >0</td>\n",
       "      <td id=\"T_2eb3b_row11_col9\" class=\"data row11 col9\" >0</td>\n",
       "      <td id=\"T_2eb3b_row11_col10\" class=\"data row11 col10\" >9</td>\n",
       "      <td id=\"T_2eb3b_row11_col11\" class=\"data row11 col11\" >51</td>\n",
       "      <td id=\"T_2eb3b_row11_col12\" class=\"data row11 col12\" >119</td>\n",
       "      <td id=\"T_2eb3b_row11_col13\" class=\"data row11 col13\" >253</td>\n",
       "      <td id=\"T_2eb3b_row11_col14\" class=\"data row11 col14\" >253</td>\n",
       "      <td id=\"T_2eb3b_row11_col15\" class=\"data row11 col15\" >253</td>\n",
       "      <td id=\"T_2eb3b_row11_col16\" class=\"data row11 col16\" >76</td>\n",
       "      <td id=\"T_2eb3b_row11_col17\" class=\"data row11 col17\" >0</td>\n",
       "    </tr>\n",
       "    <tr>\n",
       "      <th id=\"T_2eb3b_level0_row12\" class=\"row_heading level0 row12\" >12</th>\n",
       "      <td id=\"T_2eb3b_row12_col0\" class=\"data row12 col0\" >0</td>\n",
       "      <td id=\"T_2eb3b_row12_col1\" class=\"data row12 col1\" >0</td>\n",
       "      <td id=\"T_2eb3b_row12_col2\" class=\"data row12 col2\" >0</td>\n",
       "      <td id=\"T_2eb3b_row12_col3\" class=\"data row12 col3\" >0</td>\n",
       "      <td id=\"T_2eb3b_row12_col4\" class=\"data row12 col4\" >0</td>\n",
       "      <td id=\"T_2eb3b_row12_col5\" class=\"data row12 col5\" >0</td>\n",
       "      <td id=\"T_2eb3b_row12_col6\" class=\"data row12 col6\" >0</td>\n",
       "      <td id=\"T_2eb3b_row12_col7\" class=\"data row12 col7\" >0</td>\n",
       "      <td id=\"T_2eb3b_row12_col8\" class=\"data row12 col8\" >0</td>\n",
       "      <td id=\"T_2eb3b_row12_col9\" class=\"data row12 col9\" >0</td>\n",
       "      <td id=\"T_2eb3b_row12_col10\" class=\"data row12 col10\" >0</td>\n",
       "      <td id=\"T_2eb3b_row12_col11\" class=\"data row12 col11\" >0</td>\n",
       "      <td id=\"T_2eb3b_row12_col12\" class=\"data row12 col12\" >1</td>\n",
       "      <td id=\"T_2eb3b_row12_col13\" class=\"data row12 col13\" >183</td>\n",
       "      <td id=\"T_2eb3b_row12_col14\" class=\"data row12 col14\" >253</td>\n",
       "      <td id=\"T_2eb3b_row12_col15\" class=\"data row12 col15\" >253</td>\n",
       "      <td id=\"T_2eb3b_row12_col16\" class=\"data row12 col16\" >139</td>\n",
       "      <td id=\"T_2eb3b_row12_col17\" class=\"data row12 col17\" >0</td>\n",
       "    </tr>\n",
       "    <tr>\n",
       "      <th id=\"T_2eb3b_level0_row13\" class=\"row_heading level0 row13\" >13</th>\n",
       "      <td id=\"T_2eb3b_row13_col0\" class=\"data row13 col0\" >0</td>\n",
       "      <td id=\"T_2eb3b_row13_col1\" class=\"data row13 col1\" >0</td>\n",
       "      <td id=\"T_2eb3b_row13_col2\" class=\"data row13 col2\" >0</td>\n",
       "      <td id=\"T_2eb3b_row13_col3\" class=\"data row13 col3\" >0</td>\n",
       "      <td id=\"T_2eb3b_row13_col4\" class=\"data row13 col4\" >0</td>\n",
       "      <td id=\"T_2eb3b_row13_col5\" class=\"data row13 col5\" >0</td>\n",
       "      <td id=\"T_2eb3b_row13_col6\" class=\"data row13 col6\" >0</td>\n",
       "      <td id=\"T_2eb3b_row13_col7\" class=\"data row13 col7\" >0</td>\n",
       "      <td id=\"T_2eb3b_row13_col8\" class=\"data row13 col8\" >0</td>\n",
       "      <td id=\"T_2eb3b_row13_col9\" class=\"data row13 col9\" >0</td>\n",
       "      <td id=\"T_2eb3b_row13_col10\" class=\"data row13 col10\" >0</td>\n",
       "      <td id=\"T_2eb3b_row13_col11\" class=\"data row13 col11\" >0</td>\n",
       "      <td id=\"T_2eb3b_row13_col12\" class=\"data row13 col12\" >0</td>\n",
       "      <td id=\"T_2eb3b_row13_col13\" class=\"data row13 col13\" >182</td>\n",
       "      <td id=\"T_2eb3b_row13_col14\" class=\"data row13 col14\" >253</td>\n",
       "      <td id=\"T_2eb3b_row13_col15\" class=\"data row13 col15\" >253</td>\n",
       "      <td id=\"T_2eb3b_row13_col16\" class=\"data row13 col16\" >104</td>\n",
       "      <td id=\"T_2eb3b_row13_col17\" class=\"data row13 col17\" >0</td>\n",
       "    </tr>\n",
       "    <tr>\n",
       "      <th id=\"T_2eb3b_level0_row14\" class=\"row_heading level0 row14\" >14</th>\n",
       "      <td id=\"T_2eb3b_row14_col0\" class=\"data row14 col0\" >0</td>\n",
       "      <td id=\"T_2eb3b_row14_col1\" class=\"data row14 col1\" >0</td>\n",
       "      <td id=\"T_2eb3b_row14_col2\" class=\"data row14 col2\" >0</td>\n",
       "      <td id=\"T_2eb3b_row14_col3\" class=\"data row14 col3\" >0</td>\n",
       "      <td id=\"T_2eb3b_row14_col4\" class=\"data row14 col4\" >0</td>\n",
       "      <td id=\"T_2eb3b_row14_col5\" class=\"data row14 col5\" >0</td>\n",
       "      <td id=\"T_2eb3b_row14_col6\" class=\"data row14 col6\" >0</td>\n",
       "      <td id=\"T_2eb3b_row14_col7\" class=\"data row14 col7\" >0</td>\n",
       "      <td id=\"T_2eb3b_row14_col8\" class=\"data row14 col8\" >0</td>\n",
       "      <td id=\"T_2eb3b_row14_col9\" class=\"data row14 col9\" >0</td>\n",
       "      <td id=\"T_2eb3b_row14_col10\" class=\"data row14 col10\" >0</td>\n",
       "      <td id=\"T_2eb3b_row14_col11\" class=\"data row14 col11\" >0</td>\n",
       "      <td id=\"T_2eb3b_row14_col12\" class=\"data row14 col12\" >85</td>\n",
       "      <td id=\"T_2eb3b_row14_col13\" class=\"data row14 col13\" >249</td>\n",
       "      <td id=\"T_2eb3b_row14_col14\" class=\"data row14 col14\" >253</td>\n",
       "      <td id=\"T_2eb3b_row14_col15\" class=\"data row14 col15\" >253</td>\n",
       "      <td id=\"T_2eb3b_row14_col16\" class=\"data row14 col16\" >36</td>\n",
       "      <td id=\"T_2eb3b_row14_col17\" class=\"data row14 col17\" >0</td>\n",
       "    </tr>\n",
       "    <tr>\n",
       "      <th id=\"T_2eb3b_level0_row15\" class=\"row_heading level0 row15\" >15</th>\n",
       "      <td id=\"T_2eb3b_row15_col0\" class=\"data row15 col0\" >0</td>\n",
       "      <td id=\"T_2eb3b_row15_col1\" class=\"data row15 col1\" >0</td>\n",
       "      <td id=\"T_2eb3b_row15_col2\" class=\"data row15 col2\" >0</td>\n",
       "      <td id=\"T_2eb3b_row15_col3\" class=\"data row15 col3\" >0</td>\n",
       "      <td id=\"T_2eb3b_row15_col4\" class=\"data row15 col4\" >0</td>\n",
       "      <td id=\"T_2eb3b_row15_col5\" class=\"data row15 col5\" >0</td>\n",
       "      <td id=\"T_2eb3b_row15_col6\" class=\"data row15 col6\" >0</td>\n",
       "      <td id=\"T_2eb3b_row15_col7\" class=\"data row15 col7\" >0</td>\n",
       "      <td id=\"T_2eb3b_row15_col8\" class=\"data row15 col8\" >0</td>\n",
       "      <td id=\"T_2eb3b_row15_col9\" class=\"data row15 col9\" >0</td>\n",
       "      <td id=\"T_2eb3b_row15_col10\" class=\"data row15 col10\" >0</td>\n",
       "      <td id=\"T_2eb3b_row15_col11\" class=\"data row15 col11\" >60</td>\n",
       "      <td id=\"T_2eb3b_row15_col12\" class=\"data row15 col12\" >214</td>\n",
       "      <td id=\"T_2eb3b_row15_col13\" class=\"data row15 col13\" >253</td>\n",
       "      <td id=\"T_2eb3b_row15_col14\" class=\"data row15 col14\" >253</td>\n",
       "      <td id=\"T_2eb3b_row15_col15\" class=\"data row15 col15\" >173</td>\n",
       "      <td id=\"T_2eb3b_row15_col16\" class=\"data row15 col16\" >11</td>\n",
       "      <td id=\"T_2eb3b_row15_col17\" class=\"data row15 col17\" >0</td>\n",
       "    </tr>\n",
       "    <tr>\n",
       "      <th id=\"T_2eb3b_level0_row16\" class=\"row_heading level0 row16\" >16</th>\n",
       "      <td id=\"T_2eb3b_row16_col0\" class=\"data row16 col0\" >0</td>\n",
       "      <td id=\"T_2eb3b_row16_col1\" class=\"data row16 col1\" >0</td>\n",
       "      <td id=\"T_2eb3b_row16_col2\" class=\"data row16 col2\" >0</td>\n",
       "      <td id=\"T_2eb3b_row16_col3\" class=\"data row16 col3\" >0</td>\n",
       "      <td id=\"T_2eb3b_row16_col4\" class=\"data row16 col4\" >0</td>\n",
       "      <td id=\"T_2eb3b_row16_col5\" class=\"data row16 col5\" >0</td>\n",
       "      <td id=\"T_2eb3b_row16_col6\" class=\"data row16 col6\" >0</td>\n",
       "      <td id=\"T_2eb3b_row16_col7\" class=\"data row16 col7\" >0</td>\n",
       "      <td id=\"T_2eb3b_row16_col8\" class=\"data row16 col8\" >0</td>\n",
       "      <td id=\"T_2eb3b_row16_col9\" class=\"data row16 col9\" >0</td>\n",
       "      <td id=\"T_2eb3b_row16_col10\" class=\"data row16 col10\" >98</td>\n",
       "      <td id=\"T_2eb3b_row16_col11\" class=\"data row16 col11\" >247</td>\n",
       "      <td id=\"T_2eb3b_row16_col12\" class=\"data row16 col12\" >253</td>\n",
       "      <td id=\"T_2eb3b_row16_col13\" class=\"data row16 col13\" >253</td>\n",
       "      <td id=\"T_2eb3b_row16_col14\" class=\"data row16 col14\" >226</td>\n",
       "      <td id=\"T_2eb3b_row16_col15\" class=\"data row16 col15\" >9</td>\n",
       "      <td id=\"T_2eb3b_row16_col16\" class=\"data row16 col16\" >0</td>\n",
       "      <td id=\"T_2eb3b_row16_col17\" class=\"data row16 col17\" >0</td>\n",
       "    </tr>\n",
       "    <tr>\n",
       "      <th id=\"T_2eb3b_level0_row17\" class=\"row_heading level0 row17\" >17</th>\n",
       "      <td id=\"T_2eb3b_row17_col0\" class=\"data row17 col0\" >0</td>\n",
       "      <td id=\"T_2eb3b_row17_col1\" class=\"data row17 col1\" >0</td>\n",
       "      <td id=\"T_2eb3b_row17_col2\" class=\"data row17 col2\" >0</td>\n",
       "      <td id=\"T_2eb3b_row17_col3\" class=\"data row17 col3\" >0</td>\n",
       "      <td id=\"T_2eb3b_row17_col4\" class=\"data row17 col4\" >0</td>\n",
       "      <td id=\"T_2eb3b_row17_col5\" class=\"data row17 col5\" >0</td>\n",
       "      <td id=\"T_2eb3b_row17_col6\" class=\"data row17 col6\" >0</td>\n",
       "      <td id=\"T_2eb3b_row17_col7\" class=\"data row17 col7\" >0</td>\n",
       "      <td id=\"T_2eb3b_row17_col8\" class=\"data row17 col8\" >42</td>\n",
       "      <td id=\"T_2eb3b_row17_col9\" class=\"data row17 col9\" >150</td>\n",
       "      <td id=\"T_2eb3b_row17_col10\" class=\"data row17 col10\" >252</td>\n",
       "      <td id=\"T_2eb3b_row17_col11\" class=\"data row17 col11\" >253</td>\n",
       "      <td id=\"T_2eb3b_row17_col12\" class=\"data row17 col12\" >253</td>\n",
       "      <td id=\"T_2eb3b_row17_col13\" class=\"data row17 col13\" >233</td>\n",
       "      <td id=\"T_2eb3b_row17_col14\" class=\"data row17 col14\" >53</td>\n",
       "      <td id=\"T_2eb3b_row17_col15\" class=\"data row17 col15\" >0</td>\n",
       "      <td id=\"T_2eb3b_row17_col16\" class=\"data row17 col16\" >0</td>\n",
       "      <td id=\"T_2eb3b_row17_col17\" class=\"data row17 col17\" >0</td>\n",
       "    </tr>\n",
       "    <tr>\n",
       "      <th id=\"T_2eb3b_level0_row18\" class=\"row_heading level0 row18\" >18</th>\n",
       "      <td id=\"T_2eb3b_row18_col0\" class=\"data row18 col0\" >0</td>\n",
       "      <td id=\"T_2eb3b_row18_col1\" class=\"data row18 col1\" >0</td>\n",
       "      <td id=\"T_2eb3b_row18_col2\" class=\"data row18 col2\" >42</td>\n",
       "      <td id=\"T_2eb3b_row18_col3\" class=\"data row18 col3\" >115</td>\n",
       "      <td id=\"T_2eb3b_row18_col4\" class=\"data row18 col4\" >42</td>\n",
       "      <td id=\"T_2eb3b_row18_col5\" class=\"data row18 col5\" >60</td>\n",
       "      <td id=\"T_2eb3b_row18_col6\" class=\"data row18 col6\" >115</td>\n",
       "      <td id=\"T_2eb3b_row18_col7\" class=\"data row18 col7\" >159</td>\n",
       "      <td id=\"T_2eb3b_row18_col8\" class=\"data row18 col8\" >240</td>\n",
       "      <td id=\"T_2eb3b_row18_col9\" class=\"data row18 col9\" >253</td>\n",
       "      <td id=\"T_2eb3b_row18_col10\" class=\"data row18 col10\" >253</td>\n",
       "      <td id=\"T_2eb3b_row18_col11\" class=\"data row18 col11\" >250</td>\n",
       "      <td id=\"T_2eb3b_row18_col12\" class=\"data row18 col12\" >175</td>\n",
       "      <td id=\"T_2eb3b_row18_col13\" class=\"data row18 col13\" >25</td>\n",
       "      <td id=\"T_2eb3b_row18_col14\" class=\"data row18 col14\" >0</td>\n",
       "      <td id=\"T_2eb3b_row18_col15\" class=\"data row18 col15\" >0</td>\n",
       "      <td id=\"T_2eb3b_row18_col16\" class=\"data row18 col16\" >0</td>\n",
       "      <td id=\"T_2eb3b_row18_col17\" class=\"data row18 col17\" >0</td>\n",
       "    </tr>\n",
       "    <tr>\n",
       "      <th id=\"T_2eb3b_level0_row19\" class=\"row_heading level0 row19\" >19</th>\n",
       "      <td id=\"T_2eb3b_row19_col0\" class=\"data row19 col0\" >0</td>\n",
       "      <td id=\"T_2eb3b_row19_col1\" class=\"data row19 col1\" >0</td>\n",
       "      <td id=\"T_2eb3b_row19_col2\" class=\"data row19 col2\" >187</td>\n",
       "      <td id=\"T_2eb3b_row19_col3\" class=\"data row19 col3\" >253</td>\n",
       "      <td id=\"T_2eb3b_row19_col4\" class=\"data row19 col4\" >253</td>\n",
       "      <td id=\"T_2eb3b_row19_col5\" class=\"data row19 col5\" >253</td>\n",
       "      <td id=\"T_2eb3b_row19_col6\" class=\"data row19 col6\" >253</td>\n",
       "      <td id=\"T_2eb3b_row19_col7\" class=\"data row19 col7\" >253</td>\n",
       "      <td id=\"T_2eb3b_row19_col8\" class=\"data row19 col8\" >253</td>\n",
       "      <td id=\"T_2eb3b_row19_col9\" class=\"data row19 col9\" >253</td>\n",
       "      <td id=\"T_2eb3b_row19_col10\" class=\"data row19 col10\" >197</td>\n",
       "      <td id=\"T_2eb3b_row19_col11\" class=\"data row19 col11\" >86</td>\n",
       "      <td id=\"T_2eb3b_row19_col12\" class=\"data row19 col12\" >0</td>\n",
       "      <td id=\"T_2eb3b_row19_col13\" class=\"data row19 col13\" >0</td>\n",
       "      <td id=\"T_2eb3b_row19_col14\" class=\"data row19 col14\" >0</td>\n",
       "      <td id=\"T_2eb3b_row19_col15\" class=\"data row19 col15\" >0</td>\n",
       "      <td id=\"T_2eb3b_row19_col16\" class=\"data row19 col16\" >0</td>\n",
       "      <td id=\"T_2eb3b_row19_col17\" class=\"data row19 col17\" >0</td>\n",
       "    </tr>\n",
       "    <tr>\n",
       "      <th id=\"T_2eb3b_level0_row20\" class=\"row_heading level0 row20\" >20</th>\n",
       "      <td id=\"T_2eb3b_row20_col0\" class=\"data row20 col0\" >0</td>\n",
       "      <td id=\"T_2eb3b_row20_col1\" class=\"data row20 col1\" >0</td>\n",
       "      <td id=\"T_2eb3b_row20_col2\" class=\"data row20 col2\" >103</td>\n",
       "      <td id=\"T_2eb3b_row20_col3\" class=\"data row20 col3\" >253</td>\n",
       "      <td id=\"T_2eb3b_row20_col4\" class=\"data row20 col4\" >253</td>\n",
       "      <td id=\"T_2eb3b_row20_col5\" class=\"data row20 col5\" >253</td>\n",
       "      <td id=\"T_2eb3b_row20_col6\" class=\"data row20 col6\" >253</td>\n",
       "      <td id=\"T_2eb3b_row20_col7\" class=\"data row20 col7\" >253</td>\n",
       "      <td id=\"T_2eb3b_row20_col8\" class=\"data row20 col8\" >232</td>\n",
       "      <td id=\"T_2eb3b_row20_col9\" class=\"data row20 col9\" >67</td>\n",
       "      <td id=\"T_2eb3b_row20_col10\" class=\"data row20 col10\" >1</td>\n",
       "      <td id=\"T_2eb3b_row20_col11\" class=\"data row20 col11\" >0</td>\n",
       "      <td id=\"T_2eb3b_row20_col12\" class=\"data row20 col12\" >0</td>\n",
       "      <td id=\"T_2eb3b_row20_col13\" class=\"data row20 col13\" >0</td>\n",
       "      <td id=\"T_2eb3b_row20_col14\" class=\"data row20 col14\" >0</td>\n",
       "      <td id=\"T_2eb3b_row20_col15\" class=\"data row20 col15\" >0</td>\n",
       "      <td id=\"T_2eb3b_row20_col16\" class=\"data row20 col16\" >0</td>\n",
       "      <td id=\"T_2eb3b_row20_col17\" class=\"data row20 col17\" >0</td>\n",
       "    </tr>\n",
       "    <tr>\n",
       "      <th id=\"T_2eb3b_level0_row21\" class=\"row_heading level0 row21\" >21</th>\n",
       "      <td id=\"T_2eb3b_row21_col0\" class=\"data row21 col0\" >0</td>\n",
       "      <td id=\"T_2eb3b_row21_col1\" class=\"data row21 col1\" >0</td>\n",
       "      <td id=\"T_2eb3b_row21_col2\" class=\"data row21 col2\" >0</td>\n",
       "      <td id=\"T_2eb3b_row21_col3\" class=\"data row21 col3\" >0</td>\n",
       "      <td id=\"T_2eb3b_row21_col4\" class=\"data row21 col4\" >0</td>\n",
       "      <td id=\"T_2eb3b_row21_col5\" class=\"data row21 col5\" >0</td>\n",
       "      <td id=\"T_2eb3b_row21_col6\" class=\"data row21 col6\" >0</td>\n",
       "      <td id=\"T_2eb3b_row21_col7\" class=\"data row21 col7\" >0</td>\n",
       "      <td id=\"T_2eb3b_row21_col8\" class=\"data row21 col8\" >0</td>\n",
       "      <td id=\"T_2eb3b_row21_col9\" class=\"data row21 col9\" >0</td>\n",
       "      <td id=\"T_2eb3b_row21_col10\" class=\"data row21 col10\" >0</td>\n",
       "      <td id=\"T_2eb3b_row21_col11\" class=\"data row21 col11\" >0</td>\n",
       "      <td id=\"T_2eb3b_row21_col12\" class=\"data row21 col12\" >0</td>\n",
       "      <td id=\"T_2eb3b_row21_col13\" class=\"data row21 col13\" >0</td>\n",
       "      <td id=\"T_2eb3b_row21_col14\" class=\"data row21 col14\" >0</td>\n",
       "      <td id=\"T_2eb3b_row21_col15\" class=\"data row21 col15\" >0</td>\n",
       "      <td id=\"T_2eb3b_row21_col16\" class=\"data row21 col16\" >0</td>\n",
       "      <td id=\"T_2eb3b_row21_col17\" class=\"data row21 col17\" >0</td>\n",
       "    </tr>\n",
       "  </tbody>\n",
       "</table>\n"
      ],
      "text/plain": [
       "<pandas.io.formats.style.Styler at 0x17bc17eb0>"
      ]
     },
     "execution_count": 37,
     "metadata": {},
     "output_type": "execute_result"
    }
   ],
   "source": [
    "from fastai.vision.data import pd\n",
    "\n",
    "im3_t = tensor(im3)\n",
    "# TODO : I brute forced the 4:26, 4:22 to get the right size. Why?\n",
    "# FYI the full image is 28x28 for a total of 784 pixels\n",
    "df = pd.DataFrame(im3_t[4:26, 4:22]) # type: ignore\n",
    "df.style.set_properties(**{'font-size': '6pt'}).background_gradient('Greys')\n"
   ]
  },
  {
   "cell_type": "code",
   "execution_count": 41,
   "metadata": {},
   "outputs": [
    {
     "name": "stdout",
     "output_type": "stream",
     "text": [
      "seven [6131] three [6265]\n"
     ]
    }
   ],
   "source": [
    "seven_tensors = [tensor(Image.open(o)) for o in sevens] # type: ignore\n",
    "three_tensors = [tensor(Image.open(o)) for o in threes] # type: ignore\n",
    "\n",
    "print(f\"seven [{len(three_tensors)}] three [{len(seven_tensors)}]\")"
   ]
  },
  {
   "cell_type": "code",
   "execution_count": 44,
   "metadata": {},
   "outputs": [
    {
     "data": {
      "text/plain": [
       "<AxesSubplot:>"
      ]
     },
     "execution_count": 44,
     "metadata": {},
     "output_type": "execute_result"
    },
    {
     "data": {
      "image/png": "[encoded data removed]",
      "text/plain": [
       "<Figure size 72x72 with 1 Axes>"
      ]
     },
     "metadata": {
      "needs_background": "light"
     },
     "output_type": "display_data"
    }
   ],
   "source": [
    "from fastai.vision.data import show_image\n",
    "\n",
    "show_image(three_tensors[1])"
   ]
  },
  {
   "cell_type": "code",
   "execution_count": 51,
   "metadata": {},
   "outputs": [
    {
     "data": {
      "text/plain": [
       "torch.Size([6131, 28, 28])"
      ]
     },
     "execution_count": 51,
     "metadata": {},
     "output_type": "execute_result"
    }
   ],
   "source": [
    "from fastai.vision.data import torch\n",
    "\n",
    "stacked_threes = torch.stack(three_tensors).float()/255 # type: ignore\n",
    "stacked_sevens = torch.stack(seven_tensors).float()/255 # type: ignore\n",
    "\n",
    "# IMPORTANT : commit tensor (1) shape and (2) rank(not dimension) to memory\n",
    "# Why rank != dimension? 3D position is a 3D vector, but rank is 1 ... leads to rank/dimension word mismatch\n",
    "# shape is the length of each axis\n",
    "# stacked_threes shape is => 61631 images, 28 x pixels, 28 y pixels\n",
    "stacked_threes.shape\n"
   ]
  },
  {
   "cell_type": "code",
   "execution_count": 52,
   "metadata": {},
   "outputs": [
    {
     "data": {
      "text/plain": [
       "3"
      ]
     },
     "execution_count": 52,
     "metadata": {},
     "output_type": "execute_result"
    }
   ],
   "source": [
    "# rank is the number of axes in a tensor, shape is the lenght/size of each axis\n",
    "# stacked_threes rank is 3 axes => (num of images, x pixels, y pixels)\n",
    "len(stacked_threes.shape)\n",
    "# alternative way to get rank\n",
    "# stacked_threes.ndim # number of dimensions add to word mismatch"
   ]
  },
  {
   "cell_type": "code",
   "execution_count": 54,
   "metadata": {},
   "outputs": [
    {
     "data": {
      "text/plain": [
       "<AxesSubplot:>"
      ]
     },
     "execution_count": 54,
     "metadata": {},
     "output_type": "execute_result"
    },
    {
     "data": {
      "image/png": "[encoded data removed]",
      "text/plain": [
       "<Figure size 72x72 with 1 Axes>"
      ]
     },
     "metadata": {
      "needs_background": "light"
     },
     "output_type": "display_data"
    }
   ],
   "source": [
    "mean3 = stacked_threes.mean(0) # type: ignore\n",
    "# This is what peak number 3 looks like lol\n",
    "# output is wispy and willowy where images disagree and solid where they agree\n",
    "# Just like Tesla FSD Beta visualization lol\n",
    "# TODO : verify that mean == average; also difference between mean, median and mode\n",
    "show_image(mean3)"
   ]
  },
  {
   "cell_type": "code",
   "execution_count": 55,
   "metadata": {},
   "outputs": [
    {
     "data": {
      "text/plain": [
       "<AxesSubplot:>"
      ]
     },
     "execution_count": 55,
     "metadata": {},
     "output_type": "execute_result"
    },
    {
     "data": {
      "image/png": "[encoded data removed]",
      "text/plain": [
       "<Figure size 72x72 with 1 Axes>"
      ]
     },
     "metadata": {
      "needs_background": "light"
     },
     "output_type": "display_data"
    }
   ],
   "source": [
    "mean7 = stacked_sevens.mean(0) # type: ignore\n",
    "show_image(mean7)"
   ]
  },
  {
   "cell_type": "code",
   "execution_count": 63,
   "metadata": {},
   "outputs": [
    {
     "data": {
      "text/plain": [
       "<AxesSubplot:>"
      ]
     },
     "execution_count": 63,
     "metadata": {},
     "output_type": "execute_result"
    },
    {
     "data": {
      "image/png": "[encoded data removed]",
      "text/plain": [
       "<Figure size 72x72 with 1 Axes>"
      ]
     },
     "metadata": {
      "needs_background": "light"
     },
     "output_type": "display_data"
    }
   ],
   "source": [
    "a_3 = stacked_threes[1]\n",
    "show_image(a_3)"
   ]
  },
  {
   "cell_type": "code",
   "execution_count": 68,
   "metadata": {},
   "outputs": [
    {
     "name": "stdout",
     "output_type": "stream",
     "text": [
      "abs [0.11143654584884644] sqr [0.20208320021629333]\n"
     ]
    }
   ],
   "source": [
    "# diff between 3 and mean3 abs and sqr\n",
    "a_3_mean3_diff = a_3 - mean3\n",
    "dist_3_abs = a_3_mean3_diff.abs().mean()\n",
    "dist_3_sqr = (a_3_mean3_diff**2).mean().sqrt()\n",
    "print(f'abs [{dist_3_abs}] sqr [{dist_3_sqr}]')"
   ]
  },
  {
   "cell_type": "code",
   "execution_count": 69,
   "metadata": {},
   "outputs": [
    {
     "name": "stdout",
     "output_type": "stream",
     "text": [
      "abs [0.15861910581588745] sqr [0.30210891366004944]\n"
     ]
    }
   ],
   "source": [
    "# diff between 3 and mean7 abs and sqr\n",
    "a_3_mean7_diff = a_3 - mean7\n",
    "dist_7_abs = a_3_mean7_diff.abs().mean()\n",
    "dist_7_sqr = (a_3_mean7_diff**2).mean().sqrt()\n",
    "print(f'abs [{dist_7_abs}] sqr [{dist_7_sqr}]')"
   ]
  },
  {
   "cell_type": "code",
   "execution_count": 70,
   "metadata": {},
   "outputs": [
    {
     "data": {
      "text/plain": [
       "(tensor(0.1586), tensor(0.3021))"
      ]
     },
     "execution_count": 70,
     "metadata": {},
     "output_type": "execute_result"
    }
   ],
   "source": [
    "import torch.nn.functional as F\n",
    "F.l1_loss(a_3.float(), mean7), F.mse_loss(a_3, mean7).sqrt() # type: ignore"
   ]
  },
  {
   "cell_type": "code",
   "execution_count": 92,
   "metadata": {},
   "outputs": [
    {
     "name": "stdout",
     "output_type": "stream",
     "text": [
      "[[1 2 3]\n",
      " [4 5 6]] # numpy \n",
      "tensor([[1, 2, 3],\n",
      "        [4, 5, 6]]) # pytorch\n",
      "tensor([4, 5, 6]) # row\n",
      "tensor([2, 5]) # column\n",
      "tensor([5, 6]) # row, column slice (end is excluded)\n",
      "tensor([[2, 3, 4],\n",
      "        [5, 6, 7]]) # tns+1 standard operator +-*/ works => here we add a scalar one to each element\n",
      "torch.LongTensor # tensors have a type\n",
      "tensor([[1.5000, 3.0000, 4.5000],\n",
      "        [6.0000, 7.5000, 9.0000]]) # type changes as needed => here our int values are converted to float during multiplication\n"
     ]
    }
   ],
   "source": [
    "data = [[1,2,3], [4,5,6]]\n",
    "arr = array(data)\n",
    "tns = tensor(data)\n",
    "\n",
    "# Perhaps the most important new coding skill for Python programmers is to use the array and tensor APIs\n",
    "# printing common exercise outputs\n",
    "print(f'{arr} # numpy \\n{tns} # pytorch') # type: ignore\n",
    "print(f'{tns[1]} # row')\n",
    "print(f'{tns[:,1]} # column')\n",
    "print(f'{tns[1, 1:3]} # row, column slice (end is excluded)')\n",
    "print(f'{tns+1} # tns+1 standard operator +-*/ works => here we add a scalar one to each element')\n",
    "print(f'{tns.type()} # tensors have a type')\n",
    "print(f'{tns*1.5} # type changes as needed => here our int values are converted to float during multiplication')\n"
   ]
  },
  {
   "cell_type": "code",
   "execution_count": 105,
   "metadata": {},
   "outputs": [
    {
     "name": "stdout",
     "output_type": "stream",
     "text": [
      "[SHAPE] 3 => torch.Size([6131, 28, 28]) # training set \n",
      "[SHAPE] 7 => torch.Size([6265, 28, 28]) # training set\n",
      "[SHAPE] 3 => torch.Size([1010, 28, 28]) # validation set \n",
      "[SHAPE] 7 => torch.Size([1028, 28, 28]) # validation set\n"
     ]
    }
   ],
   "source": [
    "# validation set : luckily MNIST is already split into train and valid\n",
    "valid_3_files = (path/'valid'/'3').ls() # type: ignore\n",
    "valid_3_tens = torch.stack([tensor(Image.open(o)) for o in valid_3_files])\n",
    "# TODO : why do we have to convert to float? since we are dividing by 255 that should auto convert to float\n",
    "# maybe we want to be explicit about the conversion?\n",
    "valid_3_tens = valid_3_tens.float()/255\n",
    "\n",
    "valid_7_files = (path/'valid'/'7').ls() # type: ignore\n",
    "valid_7_tens = torch.stack([tensor(Image.open(o)) for o in valid_7_files])\n",
    "valid_7_tens = valid_7_tens.float()/255\n",
    "\n",
    "# Good habit to verify tensor SHAPES as you go\n",
    "print(f'[SHAPE] 3 => {stacked_threes.shape} # training set \\n[SHAPE] 7 => {stacked_sevens.shape} # training set')\n",
    "print(f'[SHAPE] 3 => {valid_3_tens.shape} # validation set \\n[SHAPE] 7 => {valid_7_tens.shape} # validation set')\n"
   ]
  },
  {
   "cell_type": "code",
   "execution_count": 109,
   "metadata": {},
   "outputs": [
    {
     "name": "stdout",
     "output_type": "stream",
     "text": [
      "0.11143654584884644 distance between single image [3] and single [mean3] image\n",
      "tensor([0.1634, 0.1145, 0.1363,  ..., 0.1105, 0.1111, 0.1640]) \n",
      "torch.Size([1010]) # shape of valid_3_dist\n"
     ]
    }
   ],
   "source": [
    "def mnist_distance(a, b):\n",
    "    # (a-b) is element wise subtraction; pytorch broadcasting! makes tensor code much easier to write\n",
    "    # broadcasting expands the element with the smaller rank to match the larger rank\n",
    "    # TODO : here a single scalar (a) is expanded to match array (b) ... but what if (a) is a vector?\n",
    "    # ANSWER : it actually accumulates tensor([1,2,3]) + tensor(1) + tensor(3) = tensor([5,6,7])\n",
    "    # Broadcasting is done in C on cpu or cuda on gpu and is 10ks or millions of times faster than python\n",
    "    # and is the most IMPORTANT feature of pytorch\n",
    "\n",
    "    # (-1, -2) is a tuple of x,y axes to sum over from shape (num of images (0 or -3 lol), x pixels(-2), y pixels(-1))\n",
    "    # In other words for every image we averaged the intensity of all pixels in each image using mean()\n",
    "    # TODO : assumes that tensor shape is 3 dimensional ... what if it is 4 dimensional? Track this implicitly?\n",
    "    return (a-b).abs().mean((-1, -2))\n",
    "\n",
    "valid_3_dist = mnist_distance(valid_3_tens, mean3)\n",
    "\n",
    "print(f'{mnist_distance(a_3, mean3)} distance between single image [3] and single [mean3] image')\n",
    "print(f'{valid_3_dist} \\n{valid_3_dist.shape} # shape of valid_3_dist')\n"
   ]
  },
  {
   "cell_type": "code",
   "execution_count": 115,
   "metadata": {},
   "outputs": [
    {
     "data": {
      "text/plain": [
       "tensor([True, True, True,  ..., True, True, True])"
      ]
     },
     "execution_count": 115,
     "metadata": {},
     "output_type": "execute_result"
    }
   ],
   "source": [
    "def is_3(x):\n",
    "    return mnist_distance(x, mean3) < mnist_distance(x, mean7)\n",
    "\n",
    "is_3(a_3), is_3(a_3).float() # type: ignore\n",
    "is_3(valid_3_tens) # with broadcasting we can check the entire validation set at once"
   ]
  },
  {
   "cell_type": "code",
   "execution_count": 118,
   "metadata": {},
   "outputs": [
    {
     "data": {
      "text/plain": [
       "(tensor(0.9168), tensor(0.9854), tensor(0.9511))"
      ]
     },
     "execution_count": 118,
     "metadata": {},
     "output_type": "execute_result"
    }
   ],
   "source": [
    "accuracy3s = is_3(valid_3_tens).float().mean()\n",
    "accuracy7s = (1-is_3(valid_7_tens).float()).mean()\n",
    "\n",
    "# Measuring distance between image and it's mean is a good way to classify images ...\n",
    "# but to LEARN we need a way for our model to IMPROVE when updated with MORE data (0-9, not just 3 and 7)\n",
    "# SGD - Stochastic Gradient Descent can test and improve (lift lol) models with WEIGHTS and BIAS\n",
    "accuracy3s, accuracy7s, (accuracy3s+accuracy7s)/2 # type: ignore"
   ]
  },
  {
   "cell_type": "code",
   "execution_count": 6,
   "metadata": {},
   "outputs": [
    {
     "data": {
      "text/plain": [
       "<matplotlib.collections.PathCollection at 0x157e6b6d0>"
      ]
     },
     "execution_count": 6,
     "metadata": {},
     "output_type": "execute_result"
    },
    {
     "data": {
      "image/png": "[encoded data removed]",
      "text/plain": [
       "<Figure size 432x288 with 1 Axes>"
      ]
     },
     "metadata": {
      "needs_background": "light"
     },
     "output_type": "display_data"
    }
   ],
   "source": [
    "# TODO : didn't know that fastbook was importable, copied search_images_bing string from their earlier lol\n",
    "from fastbook import plot_function\n",
    "import matplotlib.pyplot as plt\n",
    "\n",
    "def f(x):\n",
    "    return x**2\n",
    "\n",
    "plot_function(f, 'x', 'x**2')\n",
    "# f(-1.5) is the y value of the red dot\n",
    "plt.scatter(-1.5, f(-1.5), color='red')"
   ]
  },
  {
   "cell_type": "code",
   "execution_count": 7,
   "metadata": {},
   "outputs": [
    {
     "data": {
      "text/plain": [
       "tensor(9., grad_fn=<PowBackward0>)"
      ]
     },
     "execution_count": 7,
     "metadata": {},
     "output_type": "execute_result"
    }
   ],
   "source": [
    "from fastai.vision.data import torch, tensor\n",
    "\n",
    "# picking a value where we want gradients\n",
    "# requires_grad is tagging the value for pytorch to compute gradients for\n",
    "xt = tensor(3.).requires_grad_()\n",
    "# pytorch syntax is to focus on the arguments as opposed to the gradient function\n",
    "# Can be confusing because in math and science, \"gradient\" of a function is another\n",
    "# function (it's derivative)\n",
    "# But in deep learning \"gradient\" is the value of a function's derivative at a \n",
    "# particular argument value, NOT the (derivative) function used to compute the gradient\n",
    "# That's why pytorch uses \"requires_grad_()\" to tag the VALUE to compute\n",
    "# Different focus, but can feel backwards\n",
    "yt = f(xt)\n",
    "yt # type: ignore"
   ]
  },
  {
   "cell_type": "code",
   "execution_count": 8,
   "metadata": {},
   "outputs": [],
   "source": [
    "# TODO : running this twice errors out ... why?\n",
    "# ANSWER : because we are trying to run backward() on a tensor that has already been backwarded (?)\n",
    "# RuntimeError: Trying to backward through the graph a second time (or directly access saved tensors \n",
    "# after they have already been freed). Saved intermediate values of the graph are freed when you \n",
    "# call .backward() or autograd.grad(). Specify retain_graph=True if you need to backward through the \n",
    "# graph a second time or if you need to access saved tensors after calling backward.\n",
    "\n",
    "# Here we tell pytorch to calculate the gradient for us\n",
    "# \"backward\" refers to backpropagation, life would be easier if \"backward\" was just called \"calculate_grad\"\n",
    "yt.backward()"
   ]
  },
  {
   "cell_type": "code",
   "execution_count": 9,
   "metadata": {},
   "outputs": [
    {
     "data": {
      "text/plain": [
       "tensor(6.)"
      ]
     },
     "execution_count": 9,
     "metadata": {},
     "output_type": "execute_result"
    }
   ],
   "source": [
    "# we can now view the gradients by checking the grad attribute of our tensor\n",
    "# Derivative of x**2 is 2*x, and x=3 so the gradient should be 2*3 = 6\n",
    "xt.grad"
   ]
  },
  {
   "cell_type": "code",
   "execution_count": 38,
   "metadata": {},
   "outputs": [
    {
     "data": {
      "text/plain": [
       "tensor([ 3.,  4., 10.], requires_grad=True)"
      ]
     },
     "execution_count": 38,
     "metadata": {},
     "output_type": "execute_result"
    }
   ],
   "source": [
    "# apply pytorch gradient calculation to a vector instead of a scalar\n",
    "xt = tensor([3., 4., 10.]).requires_grad_()\n",
    "xt # type: ignore"
   ]
  },
  {
   "cell_type": "code",
   "execution_count": 18,
   "metadata": {},
   "outputs": [],
   "source": [
    "# update function with sum, so we take a vector (rank-1 tensor) and \n",
    "# return a scalar (rank-0 tensor)\n",
    "# TODO : clarify diff rank-1 and rank-0 vs dimensions\n",
    "def f_sum(x):\n",
    "    return (x**2).sum()"
   ]
  },
  {
   "cell_type": "code",
   "execution_count": 39,
   "metadata": {},
   "outputs": [
    {
     "data": {
      "text/plain": [
       "tensor(125., grad_fn=<SumBackward0>)"
      ]
     },
     "execution_count": 39,
     "metadata": {},
     "output_type": "execute_result"
    }
   ],
   "source": [
    "# TODO: rerunning without re-init xt tensor is accumulative, why?\n",
    "yt = f_sum(xt)\n",
    "yt # type: ignore"
   ]
  },
  {
   "cell_type": "code",
   "execution_count": 40,
   "metadata": {},
   "outputs": [
    {
     "data": {
      "text/plain": [
       "tensor([ 6.,  8., 20.])"
      ]
     },
     "execution_count": 40,
     "metadata": {},
     "output_type": "execute_result"
    }
   ],
   "source": [
    "yt.backward()\n",
    "xt.grad # type: ignore"
   ]
  }
 ],
 "metadata": {
  "kernelspec": {
   "display_name": "Python 3.9.13 ('torch-gpu')",
   "language": "python",
   "name": "python3"
  },
  "language_info": {
   "codemirror_mode": {
    "name": "ipython",
    "version": 3
   },
   "file_extension": ".py",
   "mimetype": "text/x-python",
   "name": "python",
   "nbconvert_exporter": "python",
   "pygments_lexer": "ipython3",
   "version": "3.9.13"
  },
  "orig_nbformat": 4,
  "vscode": {
   "interpreter": {
    "hash": "0203b3654eb8bc60da03d36108deed569263a68c1ed718ab77fdacb38634fa76"
   }
  }
 },
 "nbformat": 4,
 "nbformat_minor": 2
}
