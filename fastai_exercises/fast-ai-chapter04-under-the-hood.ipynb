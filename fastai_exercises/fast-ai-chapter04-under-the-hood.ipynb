{
 "cells": [
  {
   "cell_type": "code",
   "execution_count": 1,
   "metadata": {},
   "outputs": [
    {
     "data": {
      "text/plain": [
       "(#3) [Path('/Users/mton/.fastai/data/mnist_sample/valid'),Path('/Users/mton/.fastai/data/mnist_sample/labels.csv'),Path('/Users/mton/.fastai/data/mnist_sample/train')]"
      ]
     },
     "execution_count": 1,
     "metadata": {},
     "output_type": "execute_result"
    }
   ],
   "source": [
    "from fastai.data.external import untar_data, URLs\n",
    "\n",
    "path = untar_data(URLs.MNIST_SAMPLE)\n",
    "path.ls() # type: ignore"
   ]
  },
  {
   "cell_type": "code",
   "execution_count": 2,
   "metadata": {},
   "outputs": [
    {
     "data": {
      "text/plain": [
       "(#2) [Path('/Users/mton/.fastai/data/mnist_sample/train/7'),Path('/Users/mton/.fastai/data/mnist_sample/train/3')]"
      ]
     },
     "execution_count": 2,
     "metadata": {},
     "output_type": "execute_result"
    }
   ],
   "source": [
    "(path/'train').ls() # type: ignore"
   ]
  },
  {
   "cell_type": "code",
   "execution_count": 3,
   "metadata": {},
   "outputs": [
    {
     "data": {
      "text/plain": [
       "(#6131) [Path('/Users/mton/.fastai/data/mnist_sample/train/3/10.png'),Path('/Users/mton/.fastai/data/mnist_sample/train/3/10000.png'),Path('/Users/mton/.fastai/data/mnist_sample/train/3/10011.png'),Path('/Users/mton/.fastai/data/mnist_sample/train/3/10031.png'),Path('/Users/mton/.fastai/data/mnist_sample/train/3/10034.png'),Path('/Users/mton/.fastai/data/mnist_sample/train/3/10042.png'),Path('/Users/mton/.fastai/data/mnist_sample/train/3/10052.png'),Path('/Users/mton/.fastai/data/mnist_sample/train/3/1007.png'),Path('/Users/mton/.fastai/data/mnist_sample/train/3/10074.png'),Path('/Users/mton/.fastai/data/mnist_sample/train/3/10091.png')...]"
      ]
     },
     "execution_count": 3,
     "metadata": {},
     "output_type": "execute_result"
    }
   ],
   "source": [
    "threes = (path/'train'/'3').ls().sorted() # type: ignore\n",
    "sevens = (path/'train'/'7').ls().sorted() # type: ignore\n",
    "threes # type: ignore"
   ]
  },
  {
   "cell_type": "code",
   "execution_count": 4,
   "metadata": {},
   "outputs": [
    {
     "data": {
      "image/png": "[encoded data removed]",
      "text/plain": [
       "<PIL.PngImagePlugin.PngImageFile image mode=L size=28x28>"
      ]
     },
     "execution_count": 4,
     "metadata": {},
     "output_type": "execute_result"
    }
   ],
   "source": [
    "from fastai.vision.all import Image\n",
    "\n",
    "# TODO : Why does three[0] display an image, but array/tensor are all Zeroes?\n",
    "img3_path = threes[1]\n",
    "im3 = Image.open(img3_path)\n",
    "im3 # type: ignore"
   ]
  },
  {
   "cell_type": "code",
   "execution_count": 5,
   "metadata": {},
   "outputs": [
    {
     "data": {
      "text/plain": [
       "array([[  0,   0,   0,   0,   0,   0],\n",
       "       [  0,   0,   0,   0,   0,  29],\n",
       "       [  0,   0,   0,  48, 166, 224],\n",
       "       [  0,  93, 244, 249, 253, 187],\n",
       "       [  0, 107, 253, 253, 230,  48],\n",
       "       [  0,   3,  20,  20,  15,   0]], dtype=uint8)"
      ]
     },
     "execution_count": 5,
     "metadata": {},
     "output_type": "execute_result"
    }
   ],
   "source": [
    "from fastai.vision.data import array\n",
    "\n",
    "array(im3)[4:10, 4:10]"
   ]
  },
  {
   "cell_type": "code",
   "execution_count": 8,
   "metadata": {},
   "outputs": [
    {
     "data": {
      "text/plain": [
       "tensor([[  0,   0,   0,   0,   0,   0],\n",
       "        [  0,   0,   0,   0,   0,  29],\n",
       "        [  0,   0,   0,  48, 166, 224],\n",
       "        [  0,  93, 244, 249, 253, 187],\n",
       "        [  0, 107, 253, 253, 230,  48],\n",
       "        [  0,   3,  20,  20,  15,   0]], dtype=torch.uint8)"
      ]
     },
     "execution_count": 8,
     "metadata": {},
     "output_type": "execute_result"
    }
   ],
   "source": [
    "from fastai.vision.data import tensor\n",
    "\n",
    "# TODO : Add note on tensor vs. array\n",
    "tensor(im3)[4:10, 4:10]"
   ]
  },
  {
   "cell_type": "code",
   "execution_count": 9,
   "metadata": {},
   "outputs": [
    {
     "data": {
      "text/html": [
       "<style type=\"text/css\">\n",
       "#T_1743f_row0_col0, #T_1743f_row0_col1, #T_1743f_row0_col2, #T_1743f_row0_col3, #T_1743f_row0_col4, #T_1743f_row0_col5, #T_1743f_row0_col6, #T_1743f_row0_col7, #T_1743f_row0_col8, #T_1743f_row0_col9, #T_1743f_row0_col10, #T_1743f_row0_col11, #T_1743f_row0_col12, #T_1743f_row0_col13, #T_1743f_row0_col14, #T_1743f_row0_col15, #T_1743f_row0_col16, #T_1743f_row0_col17, #T_1743f_row1_col0, #T_1743f_row1_col1, #T_1743f_row1_col2, #T_1743f_row1_col3, #T_1743f_row1_col4, #T_1743f_row1_col15, #T_1743f_row1_col16, #T_1743f_row1_col17, #T_1743f_row2_col0, #T_1743f_row2_col1, #T_1743f_row2_col2, #T_1743f_row2_col15, #T_1743f_row2_col16, #T_1743f_row2_col17, #T_1743f_row3_col0, #T_1743f_row3_col15, #T_1743f_row3_col16, #T_1743f_row3_col17, #T_1743f_row4_col0, #T_1743f_row4_col6, #T_1743f_row4_col7, #T_1743f_row4_col8, #T_1743f_row4_col9, #T_1743f_row4_col10, #T_1743f_row4_col15, #T_1743f_row4_col16, #T_1743f_row4_col17, #T_1743f_row5_col0, #T_1743f_row5_col5, #T_1743f_row5_col6, #T_1743f_row5_col7, #T_1743f_row5_col8, #T_1743f_row5_col9, #T_1743f_row5_col15, #T_1743f_row5_col16, #T_1743f_row5_col17, #T_1743f_row6_col0, #T_1743f_row6_col1, #T_1743f_row6_col2, #T_1743f_row6_col3, #T_1743f_row6_col4, #T_1743f_row6_col5, #T_1743f_row6_col6, #T_1743f_row6_col7, #T_1743f_row6_col8, #T_1743f_row6_col9, #T_1743f_row6_col14, #T_1743f_row6_col15, #T_1743f_row6_col16, #T_1743f_row6_col17, #T_1743f_row7_col0, #T_1743f_row7_col1, #T_1743f_row7_col2, #T_1743f_row7_col3, #T_1743f_row7_col4, #T_1743f_row7_col5, #T_1743f_row7_col6, #T_1743f_row7_col13, #T_1743f_row7_col14, #T_1743f_row7_col15, #T_1743f_row7_col16, #T_1743f_row7_col17, #T_1743f_row8_col0, #T_1743f_row8_col1, #T_1743f_row8_col2, #T_1743f_row8_col3, #T_1743f_row8_col4, #T_1743f_row8_col13, #T_1743f_row8_col14, #T_1743f_row8_col15, #T_1743f_row8_col16, #T_1743f_row8_col17, #T_1743f_row9_col0, #T_1743f_row9_col1, #T_1743f_row9_col2, #T_1743f_row9_col3, #T_1743f_row9_col4, #T_1743f_row9_col16, #T_1743f_row9_col17, #T_1743f_row10_col0, #T_1743f_row10_col1, #T_1743f_row10_col2, #T_1743f_row10_col3, #T_1743f_row10_col4, #T_1743f_row10_col5, #T_1743f_row10_col6, #T_1743f_row10_col17, #T_1743f_row11_col0, #T_1743f_row11_col1, #T_1743f_row11_col2, #T_1743f_row11_col3, #T_1743f_row11_col4, #T_1743f_row11_col5, #T_1743f_row11_col6, #T_1743f_row11_col7, #T_1743f_row11_col8, #T_1743f_row11_col9, #T_1743f_row11_col17, #T_1743f_row12_col0, #T_1743f_row12_col1, #T_1743f_row12_col2, #T_1743f_row12_col3, #T_1743f_row12_col4, #T_1743f_row12_col5, #T_1743f_row12_col6, #T_1743f_row12_col7, #T_1743f_row12_col8, #T_1743f_row12_col9, #T_1743f_row12_col10, #T_1743f_row12_col11, #T_1743f_row12_col12, #T_1743f_row12_col17, #T_1743f_row13_col0, #T_1743f_row13_col1, #T_1743f_row13_col2, #T_1743f_row13_col3, #T_1743f_row13_col4, #T_1743f_row13_col5, #T_1743f_row13_col6, #T_1743f_row13_col7, #T_1743f_row13_col8, #T_1743f_row13_col9, #T_1743f_row13_col10, #T_1743f_row13_col11, #T_1743f_row13_col12, #T_1743f_row13_col17, #T_1743f_row14_col0, #T_1743f_row14_col1, #T_1743f_row14_col2, #T_1743f_row14_col3, #T_1743f_row14_col4, #T_1743f_row14_col5, #T_1743f_row14_col6, #T_1743f_row14_col7, #T_1743f_row14_col8, #T_1743f_row14_col9, #T_1743f_row14_col10, #T_1743f_row14_col11, #T_1743f_row14_col17, #T_1743f_row15_col0, #T_1743f_row15_col1, #T_1743f_row15_col2, #T_1743f_row15_col3, #T_1743f_row15_col4, #T_1743f_row15_col5, #T_1743f_row15_col6, #T_1743f_row15_col7, #T_1743f_row15_col8, #T_1743f_row15_col9, #T_1743f_row15_col10, #T_1743f_row15_col17, #T_1743f_row16_col0, #T_1743f_row16_col1, #T_1743f_row16_col2, #T_1743f_row16_col3, #T_1743f_row16_col4, #T_1743f_row16_col5, #T_1743f_row16_col6, #T_1743f_row16_col7, #T_1743f_row16_col8, #T_1743f_row16_col9, #T_1743f_row16_col16, #T_1743f_row16_col17, #T_1743f_row17_col0, #T_1743f_row17_col1, #T_1743f_row17_col2, #T_1743f_row17_col3, #T_1743f_row17_col4, #T_1743f_row17_col5, #T_1743f_row17_col6, #T_1743f_row17_col7, #T_1743f_row17_col15, #T_1743f_row17_col16, #T_1743f_row17_col17, #T_1743f_row18_col0, #T_1743f_row18_col1, #T_1743f_row18_col14, #T_1743f_row18_col15, #T_1743f_row18_col16, #T_1743f_row18_col17, #T_1743f_row19_col0, #T_1743f_row19_col1, #T_1743f_row19_col12, #T_1743f_row19_col13, #T_1743f_row19_col14, #T_1743f_row19_col15, #T_1743f_row19_col16, #T_1743f_row19_col17, #T_1743f_row20_col0, #T_1743f_row20_col1, #T_1743f_row20_col10, #T_1743f_row20_col11, #T_1743f_row20_col12, #T_1743f_row20_col13, #T_1743f_row20_col14, #T_1743f_row20_col15, #T_1743f_row20_col16, #T_1743f_row20_col17, #T_1743f_row21_col0, #T_1743f_row21_col1, #T_1743f_row21_col2, #T_1743f_row21_col3, #T_1743f_row21_col4, #T_1743f_row21_col5, #T_1743f_row21_col6, #T_1743f_row21_col7, #T_1743f_row21_col8, #T_1743f_row21_col9, #T_1743f_row21_col10, #T_1743f_row21_col11, #T_1743f_row21_col12, #T_1743f_row21_col13, #T_1743f_row21_col14, #T_1743f_row21_col15, #T_1743f_row21_col16, #T_1743f_row21_col17 {\n",
       "  font-size: 6pt;\n",
       "  background-color: #ffffff;\n",
       "  color: #000000;\n",
       "}\n",
       "#T_1743f_row1_col5, #T_1743f_row8_col12 {\n",
       "  font-size: 6pt;\n",
       "  background-color: #f1f1f1;\n",
       "  color: #000000;\n",
       "}\n",
       "#T_1743f_row1_col6, #T_1743f_row1_col13 {\n",
       "  font-size: 6pt;\n",
       "  background-color: #7c7c7c;\n",
       "  color: #f1f1f1;\n",
       "}\n",
       "#T_1743f_row1_col7 {\n",
       "  font-size: 6pt;\n",
       "  background-color: #4a4a4a;\n",
       "  color: #f1f1f1;\n",
       "}\n",
       "#T_1743f_row1_col8, #T_1743f_row1_col9, #T_1743f_row1_col10, #T_1743f_row2_col6, #T_1743f_row2_col7, #T_1743f_row2_col11, #T_1743f_row2_col12, #T_1743f_row2_col13, #T_1743f_row3_col4, #T_1743f_row3_col12, #T_1743f_row3_col13, #T_1743f_row4_col1, #T_1743f_row4_col2, #T_1743f_row4_col3, #T_1743f_row4_col12, #T_1743f_row4_col13, #T_1743f_row5_col12, #T_1743f_row6_col11, #T_1743f_row9_col11, #T_1743f_row10_col11, #T_1743f_row10_col12, #T_1743f_row10_col13, #T_1743f_row10_col14, #T_1743f_row11_col13, #T_1743f_row11_col14, #T_1743f_row11_col15, #T_1743f_row12_col14, #T_1743f_row12_col15, #T_1743f_row12_col16, #T_1743f_row13_col14, #T_1743f_row13_col15, #T_1743f_row14_col14, #T_1743f_row14_col15, #T_1743f_row15_col13, #T_1743f_row15_col14, #T_1743f_row16_col12, #T_1743f_row16_col13, #T_1743f_row17_col11, #T_1743f_row17_col12, #T_1743f_row19_col3, #T_1743f_row19_col4, #T_1743f_row19_col5, #T_1743f_row19_col6, #T_1743f_row19_col7, #T_1743f_row20_col3, #T_1743f_row20_col4, #T_1743f_row20_col5, #T_1743f_row20_col6, #T_1743f_row20_col7 {\n",
       "  font-size: 6pt;\n",
       "  background-color: #000000;\n",
       "  color: #f1f1f1;\n",
       "}\n",
       "#T_1743f_row1_col11 {\n",
       "  font-size: 6pt;\n",
       "  background-color: #606060;\n",
       "  color: #f1f1f1;\n",
       "}\n",
       "#T_1743f_row1_col12 {\n",
       "  font-size: 6pt;\n",
       "  background-color: #4d4d4d;\n",
       "  color: #f1f1f1;\n",
       "}\n",
       "#T_1743f_row1_col14 {\n",
       "  font-size: 6pt;\n",
       "  background-color: #bbbbbb;\n",
       "  color: #000000;\n",
       "}\n",
       "#T_1743f_row2_col3, #T_1743f_row4_col5 {\n",
       "  font-size: 6pt;\n",
       "  background-color: #e4e4e4;\n",
       "  color: #000000;\n",
       "}\n",
       "#T_1743f_row2_col4, #T_1743f_row8_col6 {\n",
       "  font-size: 6pt;\n",
       "  background-color: #6b6b6b;\n",
       "  color: #f1f1f1;\n",
       "}\n",
       "#T_1743f_row2_col5, #T_1743f_row5_col11 {\n",
       "  font-size: 6pt;\n",
       "  background-color: #222222;\n",
       "  color: #f1f1f1;\n",
       "}\n",
       "#T_1743f_row2_col8, #T_1743f_row2_col14, #T_1743f_row3_col14, #T_1743f_row17_col13 {\n",
       "  font-size: 6pt;\n",
       "  background-color: #171717;\n",
       "  color: #f1f1f1;\n",
       "}\n",
       "#T_1743f_row2_col9, #T_1743f_row3_col11 {\n",
       "  font-size: 6pt;\n",
       "  background-color: #4b4b4b;\n",
       "  color: #f1f1f1;\n",
       "}\n",
       "#T_1743f_row2_col10, #T_1743f_row7_col10, #T_1743f_row8_col8, #T_1743f_row8_col10, #T_1743f_row9_col8, #T_1743f_row9_col10, #T_1743f_row18_col10, #T_1743f_row19_col8 {\n",
       "  font-size: 6pt;\n",
       "  background-color: #010101;\n",
       "  color: #f1f1f1;\n",
       "}\n",
       "#T_1743f_row3_col1 {\n",
       "  font-size: 6pt;\n",
       "  background-color: #272727;\n",
       "  color: #f1f1f1;\n",
       "}\n",
       "#T_1743f_row3_col2 {\n",
       "  font-size: 6pt;\n",
       "  background-color: #0a0a0a;\n",
       "  color: #f1f1f1;\n",
       "}\n",
       "#T_1743f_row3_col3, #T_1743f_row14_col13 {\n",
       "  font-size: 6pt;\n",
       "  background-color: #050505;\n",
       "  color: #f1f1f1;\n",
       "}\n",
       "#T_1743f_row3_col5, #T_1743f_row8_col11, #T_1743f_row10_col15, #T_1743f_row19_col2 {\n",
       "  font-size: 6pt;\n",
       "  background-color: #545454;\n",
       "  color: #f1f1f1;\n",
       "}\n",
       "#T_1743f_row3_col6 {\n",
       "  font-size: 6pt;\n",
       "  background-color: #e6e6e6;\n",
       "  color: #000000;\n",
       "}\n",
       "#T_1743f_row3_col7, #T_1743f_row3_col10, #T_1743f_row8_col5 {\n",
       "  font-size: 6pt;\n",
       "  background-color: #fafafa;\n",
       "  color: #000000;\n",
       "}\n",
       "#T_1743f_row3_col8, #T_1743f_row11_col10, #T_1743f_row16_col15 {\n",
       "  font-size: 6pt;\n",
       "  background-color: #fbfbfb;\n",
       "  color: #000000;\n",
       "}\n",
       "#T_1743f_row3_col9 {\n",
       "  font-size: 6pt;\n",
       "  background-color: #fdfdfd;\n",
       "  color: #000000;\n",
       "}\n",
       "#T_1743f_row4_col4 {\n",
       "  font-size: 6pt;\n",
       "  background-color: #1b1b1b;\n",
       "  color: #f1f1f1;\n",
       "}\n",
       "#T_1743f_row4_col11 {\n",
       "  font-size: 6pt;\n",
       "  background-color: #4e4e4e;\n",
       "  color: #f1f1f1;\n",
       "}\n",
       "#T_1743f_row4_col14 {\n",
       "  font-size: 6pt;\n",
       "  background-color: #767676;\n",
       "  color: #f1f1f1;\n",
       "}\n",
       "#T_1743f_row5_col1 {\n",
       "  font-size: 6pt;\n",
       "  background-color: #fcfcfc;\n",
       "  color: #000000;\n",
       "}\n",
       "#T_1743f_row5_col2, #T_1743f_row5_col3, #T_1743f_row15_col16 {\n",
       "  font-size: 6pt;\n",
       "  background-color: #f6f6f6;\n",
       "  color: #000000;\n",
       "}\n",
       "#T_1743f_row5_col4, #T_1743f_row7_col7 {\n",
       "  font-size: 6pt;\n",
       "  background-color: #f8f8f8;\n",
       "  color: #000000;\n",
       "}\n",
       "#T_1743f_row5_col10, #T_1743f_row10_col7 {\n",
       "  font-size: 6pt;\n",
       "  background-color: #e8e8e8;\n",
       "  color: #000000;\n",
       "}\n",
       "#T_1743f_row5_col13, #T_1743f_row6_col12 {\n",
       "  font-size: 6pt;\n",
       "  background-color: #090909;\n",
       "  color: #f1f1f1;\n",
       "}\n",
       "#T_1743f_row5_col14 {\n",
       "  font-size: 6pt;\n",
       "  background-color: #d0d0d0;\n",
       "  color: #000000;\n",
       "}\n",
       "#T_1743f_row6_col10, #T_1743f_row7_col11, #T_1743f_row9_col6 {\n",
       "  font-size: 6pt;\n",
       "  background-color: #060606;\n",
       "  color: #f1f1f1;\n",
       "}\n",
       "#T_1743f_row6_col13 {\n",
       "  font-size: 6pt;\n",
       "  background-color: #979797;\n",
       "  color: #f1f1f1;\n",
       "}\n",
       "#T_1743f_row7_col8 {\n",
       "  font-size: 6pt;\n",
       "  background-color: #b6b6b6;\n",
       "  color: #000000;\n",
       "}\n",
       "#T_1743f_row7_col9 {\n",
       "  font-size: 6pt;\n",
       "  background-color: #252525;\n",
       "  color: #f1f1f1;\n",
       "}\n",
       "#T_1743f_row7_col12 {\n",
       "  font-size: 6pt;\n",
       "  background-color: #999999;\n",
       "  color: #f1f1f1;\n",
       "}\n",
       "#T_1743f_row8_col7, #T_1743f_row18_col8 {\n",
       "  font-size: 6pt;\n",
       "  background-color: #101010;\n",
       "  color: #f1f1f1;\n",
       "}\n",
       "#T_1743f_row8_col9, #T_1743f_row9_col9, #T_1743f_row17_col10, #T_1743f_row18_col9, #T_1743f_row19_col9 {\n",
       "  font-size: 6pt;\n",
       "  background-color: #020202;\n",
       "  color: #f1f1f1;\n",
       "}\n",
       "#T_1743f_row9_col5 {\n",
       "  font-size: 6pt;\n",
       "  background-color: #f7f7f7;\n",
       "  color: #000000;\n",
       "}\n",
       "#T_1743f_row9_col7, #T_1743f_row18_col11 {\n",
       "  font-size: 6pt;\n",
       "  background-color: #030303;\n",
       "  color: #f1f1f1;\n",
       "}\n",
       "#T_1743f_row9_col12 {\n",
       "  font-size: 6pt;\n",
       "  background-color: #181818;\n",
       "  color: #f1f1f1;\n",
       "}\n",
       "#T_1743f_row9_col13 {\n",
       "  font-size: 6pt;\n",
       "  background-color: #303030;\n",
       "  color: #f1f1f1;\n",
       "}\n",
       "#T_1743f_row9_col14 {\n",
       "  font-size: 6pt;\n",
       "  background-color: #a9a9a9;\n",
       "  color: #f1f1f1;\n",
       "}\n",
       "#T_1743f_row9_col15 {\n",
       "  font-size: 6pt;\n",
       "  background-color: #fefefe;\n",
       "  color: #000000;\n",
       "}\n",
       "#T_1743f_row10_col8, #T_1743f_row10_col9, #T_1743f_row16_col10 {\n",
       "  font-size: 6pt;\n",
       "  background-color: #bababa;\n",
       "  color: #000000;\n",
       "}\n",
       "#T_1743f_row10_col10 {\n",
       "  font-size: 6pt;\n",
       "  background-color: #393939;\n",
       "  color: #f1f1f1;\n",
       "}\n",
       "#T_1743f_row10_col16 {\n",
       "  font-size: 6pt;\n",
       "  background-color: #eaeaea;\n",
       "  color: #000000;\n",
       "}\n",
       "#T_1743f_row11_col11 {\n",
       "  font-size: 6pt;\n",
       "  background-color: #e2e2e2;\n",
       "  color: #000000;\n",
       "}\n",
       "#T_1743f_row11_col12 {\n",
       "  font-size: 6pt;\n",
       "  background-color: #9f9f9f;\n",
       "  color: #f1f1f1;\n",
       "}\n",
       "#T_1743f_row11_col16 {\n",
       "  font-size: 6pt;\n",
       "  background-color: #898989;\n",
       "  color: #f1f1f1;\n",
       "}\n",
       "#T_1743f_row12_col13 {\n",
       "  font-size: 6pt;\n",
       "  background-color: #585858;\n",
       "  color: #f1f1f1;\n",
       "}\n",
       "#T_1743f_row13_col13 {\n",
       "  font-size: 6pt;\n",
       "  background-color: #5a5a5a;\n",
       "  color: #f1f1f1;\n",
       "}\n",
       "#T_1743f_row13_col16 {\n",
       "  font-size: 6pt;\n",
       "  background-color: #525252;\n",
       "  color: #f1f1f1;\n",
       "}\n",
       "#T_1743f_row14_col12, #T_1743f_row19_col11 {\n",
       "  font-size: 6pt;\n",
       "  background-color: #c5c5c5;\n",
       "  color: #000000;\n",
       "}\n",
       "#T_1743f_row14_col16 {\n",
       "  font-size: 6pt;\n",
       "  background-color: #d7d7d7;\n",
       "  color: #000000;\n",
       "}\n",
       "#T_1743f_row15_col11, #T_1743f_row18_col5 {\n",
       "  font-size: 6pt;\n",
       "  background-color: #dcdcdc;\n",
       "  color: #000000;\n",
       "}\n",
       "#T_1743f_row15_col12 {\n",
       "  font-size: 6pt;\n",
       "  background-color: #2f2f2f;\n",
       "  color: #f1f1f1;\n",
       "}\n",
       "#T_1743f_row15_col15 {\n",
       "  font-size: 6pt;\n",
       "  background-color: #636363;\n",
       "  color: #f1f1f1;\n",
       "}\n",
       "#T_1743f_row16_col11 {\n",
       "  font-size: 6pt;\n",
       "  background-color: #070707;\n",
       "  color: #f1f1f1;\n",
       "}\n",
       "#T_1743f_row16_col14 {\n",
       "  font-size: 6pt;\n",
       "  background-color: #1f1f1f;\n",
       "  color: #f1f1f1;\n",
       "}\n",
       "#T_1743f_row17_col8, #T_1743f_row18_col2, #T_1743f_row18_col4 {\n",
       "  font-size: 6pt;\n",
       "  background-color: #e9e9e9;\n",
       "  color: #000000;\n",
       "}\n",
       "#T_1743f_row17_col9 {\n",
       "  font-size: 6pt;\n",
       "  background-color: #7d7d7d;\n",
       "  color: #f1f1f1;\n",
       "}\n",
       "#T_1743f_row17_col14 {\n",
       "  font-size: 6pt;\n",
       "  background-color: #e1e1e1;\n",
       "  color: #000000;\n",
       "}\n",
       "#T_1743f_row18_col3, #T_1743f_row18_col6 {\n",
       "  font-size: 6pt;\n",
       "  background-color: #a4a4a4;\n",
       "  color: #f1f1f1;\n",
       "}\n",
       "#T_1743f_row18_col7 {\n",
       "  font-size: 6pt;\n",
       "  background-color: #727272;\n",
       "  color: #f1f1f1;\n",
       "}\n",
       "#T_1743f_row18_col12 {\n",
       "  font-size: 6pt;\n",
       "  background-color: #616161;\n",
       "  color: #f1f1f1;\n",
       "}\n",
       "#T_1743f_row18_col13 {\n",
       "  font-size: 6pt;\n",
       "  background-color: #f3f3f3;\n",
       "  color: #000000;\n",
       "}\n",
       "#T_1743f_row19_col10 {\n",
       "  font-size: 6pt;\n",
       "  background-color: #484848;\n",
       "  color: #f1f1f1;\n",
       "}\n",
       "#T_1743f_row20_col2 {\n",
       "  font-size: 6pt;\n",
       "  background-color: #b3b3b3;\n",
       "  color: #000000;\n",
       "}\n",
       "#T_1743f_row20_col8 {\n",
       "  font-size: 6pt;\n",
       "  background-color: #1a1a1a;\n",
       "  color: #f1f1f1;\n",
       "}\n",
       "#T_1743f_row20_col9 {\n",
       "  font-size: 6pt;\n",
       "  background-color: #d6d6d6;\n",
       "  color: #000000;\n",
       "}\n",
       "</style>\n",
       "<table id=\"T_1743f\">\n",
       "  <thead>\n",
       "    <tr>\n",
       "      <th class=\"blank level0\" >&nbsp;</th>\n",
       "      <th id=\"T_1743f_level0_col0\" class=\"col_heading level0 col0\" >0</th>\n",
       "      <th id=\"T_1743f_level0_col1\" class=\"col_heading level0 col1\" >1</th>\n",
       "      <th id=\"T_1743f_level0_col2\" class=\"col_heading level0 col2\" >2</th>\n",
       "      <th id=\"T_1743f_level0_col3\" class=\"col_heading level0 col3\" >3</th>\n",
       "      <th id=\"T_1743f_level0_col4\" class=\"col_heading level0 col4\" >4</th>\n",
       "      <th id=\"T_1743f_level0_col5\" class=\"col_heading level0 col5\" >5</th>\n",
       "      <th id=\"T_1743f_level0_col6\" class=\"col_heading level0 col6\" >6</th>\n",
       "      <th id=\"T_1743f_level0_col7\" class=\"col_heading level0 col7\" >7</th>\n",
       "      <th id=\"T_1743f_level0_col8\" class=\"col_heading level0 col8\" >8</th>\n",
       "      <th id=\"T_1743f_level0_col9\" class=\"col_heading level0 col9\" >9</th>\n",
       "      <th id=\"T_1743f_level0_col10\" class=\"col_heading level0 col10\" >10</th>\n",
       "      <th id=\"T_1743f_level0_col11\" class=\"col_heading level0 col11\" >11</th>\n",
       "      <th id=\"T_1743f_level0_col12\" class=\"col_heading level0 col12\" >12</th>\n",
       "      <th id=\"T_1743f_level0_col13\" class=\"col_heading level0 col13\" >13</th>\n",
       "      <th id=\"T_1743f_level0_col14\" class=\"col_heading level0 col14\" >14</th>\n",
       "      <th id=\"T_1743f_level0_col15\" class=\"col_heading level0 col15\" >15</th>\n",
       "      <th id=\"T_1743f_level0_col16\" class=\"col_heading level0 col16\" >16</th>\n",
       "      <th id=\"T_1743f_level0_col17\" class=\"col_heading level0 col17\" >17</th>\n",
       "    </tr>\n",
       "  </thead>\n",
       "  <tbody>\n",
       "    <tr>\n",
       "      <th id=\"T_1743f_level0_row0\" class=\"row_heading level0 row0\" >0</th>\n",
       "      <td id=\"T_1743f_row0_col0\" class=\"data row0 col0\" >0</td>\n",
       "      <td id=\"T_1743f_row0_col1\" class=\"data row0 col1\" >0</td>\n",
       "      <td id=\"T_1743f_row0_col2\" class=\"data row0 col2\" >0</td>\n",
       "      <td id=\"T_1743f_row0_col3\" class=\"data row0 col3\" >0</td>\n",
       "      <td id=\"T_1743f_row0_col4\" class=\"data row0 col4\" >0</td>\n",
       "      <td id=\"T_1743f_row0_col5\" class=\"data row0 col5\" >0</td>\n",
       "      <td id=\"T_1743f_row0_col6\" class=\"data row0 col6\" >0</td>\n",
       "      <td id=\"T_1743f_row0_col7\" class=\"data row0 col7\" >0</td>\n",
       "      <td id=\"T_1743f_row0_col8\" class=\"data row0 col8\" >0</td>\n",
       "      <td id=\"T_1743f_row0_col9\" class=\"data row0 col9\" >0</td>\n",
       "      <td id=\"T_1743f_row0_col10\" class=\"data row0 col10\" >0</td>\n",
       "      <td id=\"T_1743f_row0_col11\" class=\"data row0 col11\" >0</td>\n",
       "      <td id=\"T_1743f_row0_col12\" class=\"data row0 col12\" >0</td>\n",
       "      <td id=\"T_1743f_row0_col13\" class=\"data row0 col13\" >0</td>\n",
       "      <td id=\"T_1743f_row0_col14\" class=\"data row0 col14\" >0</td>\n",
       "      <td id=\"T_1743f_row0_col15\" class=\"data row0 col15\" >0</td>\n",
       "      <td id=\"T_1743f_row0_col16\" class=\"data row0 col16\" >0</td>\n",
       "      <td id=\"T_1743f_row0_col17\" class=\"data row0 col17\" >0</td>\n",
       "    </tr>\n",
       "    <tr>\n",
       "      <th id=\"T_1743f_level0_row1\" class=\"row_heading level0 row1\" >1</th>\n",
       "      <td id=\"T_1743f_row1_col0\" class=\"data row1 col0\" >0</td>\n",
       "      <td id=\"T_1743f_row1_col1\" class=\"data row1 col1\" >0</td>\n",
       "      <td id=\"T_1743f_row1_col2\" class=\"data row1 col2\" >0</td>\n",
       "      <td id=\"T_1743f_row1_col3\" class=\"data row1 col3\" >0</td>\n",
       "      <td id=\"T_1743f_row1_col4\" class=\"data row1 col4\" >0</td>\n",
       "      <td id=\"T_1743f_row1_col5\" class=\"data row1 col5\" >29</td>\n",
       "      <td id=\"T_1743f_row1_col6\" class=\"data row1 col6\" >150</td>\n",
       "      <td id=\"T_1743f_row1_col7\" class=\"data row1 col7\" >195</td>\n",
       "      <td id=\"T_1743f_row1_col8\" class=\"data row1 col8\" >254</td>\n",
       "      <td id=\"T_1743f_row1_col9\" class=\"data row1 col9\" >255</td>\n",
       "      <td id=\"T_1743f_row1_col10\" class=\"data row1 col10\" >254</td>\n",
       "      <td id=\"T_1743f_row1_col11\" class=\"data row1 col11\" >176</td>\n",
       "      <td id=\"T_1743f_row1_col12\" class=\"data row1 col12\" >193</td>\n",
       "      <td id=\"T_1743f_row1_col13\" class=\"data row1 col13\" >150</td>\n",
       "      <td id=\"T_1743f_row1_col14\" class=\"data row1 col14\" >96</td>\n",
       "      <td id=\"T_1743f_row1_col15\" class=\"data row1 col15\" >0</td>\n",
       "      <td id=\"T_1743f_row1_col16\" class=\"data row1 col16\" >0</td>\n",
       "      <td id=\"T_1743f_row1_col17\" class=\"data row1 col17\" >0</td>\n",
       "    </tr>\n",
       "    <tr>\n",
       "      <th id=\"T_1743f_level0_row2\" class=\"row_heading level0 row2\" >2</th>\n",
       "      <td id=\"T_1743f_row2_col0\" class=\"data row2 col0\" >0</td>\n",
       "      <td id=\"T_1743f_row2_col1\" class=\"data row2 col1\" >0</td>\n",
       "      <td id=\"T_1743f_row2_col2\" class=\"data row2 col2\" >0</td>\n",
       "      <td id=\"T_1743f_row2_col3\" class=\"data row2 col3\" >48</td>\n",
       "      <td id=\"T_1743f_row2_col4\" class=\"data row2 col4\" >166</td>\n",
       "      <td id=\"T_1743f_row2_col5\" class=\"data row2 col5\" >224</td>\n",
       "      <td id=\"T_1743f_row2_col6\" class=\"data row2 col6\" >253</td>\n",
       "      <td id=\"T_1743f_row2_col7\" class=\"data row2 col7\" >253</td>\n",
       "      <td id=\"T_1743f_row2_col8\" class=\"data row2 col8\" >234</td>\n",
       "      <td id=\"T_1743f_row2_col9\" class=\"data row2 col9\" >196</td>\n",
       "      <td id=\"T_1743f_row2_col10\" class=\"data row2 col10\" >253</td>\n",
       "      <td id=\"T_1743f_row2_col11\" class=\"data row2 col11\" >253</td>\n",
       "      <td id=\"T_1743f_row2_col12\" class=\"data row2 col12\" >253</td>\n",
       "      <td id=\"T_1743f_row2_col13\" class=\"data row2 col13\" >253</td>\n",
       "      <td id=\"T_1743f_row2_col14\" class=\"data row2 col14\" >233</td>\n",
       "      <td id=\"T_1743f_row2_col15\" class=\"data row2 col15\" >0</td>\n",
       "      <td id=\"T_1743f_row2_col16\" class=\"data row2 col16\" >0</td>\n",
       "      <td id=\"T_1743f_row2_col17\" class=\"data row2 col17\" >0</td>\n",
       "    </tr>\n",
       "    <tr>\n",
       "      <th id=\"T_1743f_level0_row3\" class=\"row_heading level0 row3\" >3</th>\n",
       "      <td id=\"T_1743f_row3_col0\" class=\"data row3 col0\" >0</td>\n",
       "      <td id=\"T_1743f_row3_col1\" class=\"data row3 col1\" >93</td>\n",
       "      <td id=\"T_1743f_row3_col2\" class=\"data row3 col2\" >244</td>\n",
       "      <td id=\"T_1743f_row3_col3\" class=\"data row3 col3\" >249</td>\n",
       "      <td id=\"T_1743f_row3_col4\" class=\"data row3 col4\" >253</td>\n",
       "      <td id=\"T_1743f_row3_col5\" class=\"data row3 col5\" >187</td>\n",
       "      <td id=\"T_1743f_row3_col6\" class=\"data row3 col6\" >46</td>\n",
       "      <td id=\"T_1743f_row3_col7\" class=\"data row3 col7\" >10</td>\n",
       "      <td id=\"T_1743f_row3_col8\" class=\"data row3 col8\" >8</td>\n",
       "      <td id=\"T_1743f_row3_col9\" class=\"data row3 col9\" >4</td>\n",
       "      <td id=\"T_1743f_row3_col10\" class=\"data row3 col10\" >10</td>\n",
       "      <td id=\"T_1743f_row3_col11\" class=\"data row3 col11\" >194</td>\n",
       "      <td id=\"T_1743f_row3_col12\" class=\"data row3 col12\" >253</td>\n",
       "      <td id=\"T_1743f_row3_col13\" class=\"data row3 col13\" >253</td>\n",
       "      <td id=\"T_1743f_row3_col14\" class=\"data row3 col14\" >233</td>\n",
       "      <td id=\"T_1743f_row3_col15\" class=\"data row3 col15\" >0</td>\n",
       "      <td id=\"T_1743f_row3_col16\" class=\"data row3 col16\" >0</td>\n",
       "      <td id=\"T_1743f_row3_col17\" class=\"data row3 col17\" >0</td>\n",
       "    </tr>\n",
       "    <tr>\n",
       "      <th id=\"T_1743f_level0_row4\" class=\"row_heading level0 row4\" >4</th>\n",
       "      <td id=\"T_1743f_row4_col0\" class=\"data row4 col0\" >0</td>\n",
       "      <td id=\"T_1743f_row4_col1\" class=\"data row4 col1\" >107</td>\n",
       "      <td id=\"T_1743f_row4_col2\" class=\"data row4 col2\" >253</td>\n",
       "      <td id=\"T_1743f_row4_col3\" class=\"data row4 col3\" >253</td>\n",
       "      <td id=\"T_1743f_row4_col4\" class=\"data row4 col4\" >230</td>\n",
       "      <td id=\"T_1743f_row4_col5\" class=\"data row4 col5\" >48</td>\n",
       "      <td id=\"T_1743f_row4_col6\" class=\"data row4 col6\" >0</td>\n",
       "      <td id=\"T_1743f_row4_col7\" class=\"data row4 col7\" >0</td>\n",
       "      <td id=\"T_1743f_row4_col8\" class=\"data row4 col8\" >0</td>\n",
       "      <td id=\"T_1743f_row4_col9\" class=\"data row4 col9\" >0</td>\n",
       "      <td id=\"T_1743f_row4_col10\" class=\"data row4 col10\" >0</td>\n",
       "      <td id=\"T_1743f_row4_col11\" class=\"data row4 col11\" >192</td>\n",
       "      <td id=\"T_1743f_row4_col12\" class=\"data row4 col12\" >253</td>\n",
       "      <td id=\"T_1743f_row4_col13\" class=\"data row4 col13\" >253</td>\n",
       "      <td id=\"T_1743f_row4_col14\" class=\"data row4 col14\" >156</td>\n",
       "      <td id=\"T_1743f_row4_col15\" class=\"data row4 col15\" >0</td>\n",
       "      <td id=\"T_1743f_row4_col16\" class=\"data row4 col16\" >0</td>\n",
       "      <td id=\"T_1743f_row4_col17\" class=\"data row4 col17\" >0</td>\n",
       "    </tr>\n",
       "    <tr>\n",
       "      <th id=\"T_1743f_level0_row5\" class=\"row_heading level0 row5\" >5</th>\n",
       "      <td id=\"T_1743f_row5_col0\" class=\"data row5 col0\" >0</td>\n",
       "      <td id=\"T_1743f_row5_col1\" class=\"data row5 col1\" >3</td>\n",
       "      <td id=\"T_1743f_row5_col2\" class=\"data row5 col2\" >20</td>\n",
       "      <td id=\"T_1743f_row5_col3\" class=\"data row5 col3\" >20</td>\n",
       "      <td id=\"T_1743f_row5_col4\" class=\"data row5 col4\" >15</td>\n",
       "      <td id=\"T_1743f_row5_col5\" class=\"data row5 col5\" >0</td>\n",
       "      <td id=\"T_1743f_row5_col6\" class=\"data row5 col6\" >0</td>\n",
       "      <td id=\"T_1743f_row5_col7\" class=\"data row5 col7\" >0</td>\n",
       "      <td id=\"T_1743f_row5_col8\" class=\"data row5 col8\" >0</td>\n",
       "      <td id=\"T_1743f_row5_col9\" class=\"data row5 col9\" >0</td>\n",
       "      <td id=\"T_1743f_row5_col10\" class=\"data row5 col10\" >43</td>\n",
       "      <td id=\"T_1743f_row5_col11\" class=\"data row5 col11\" >224</td>\n",
       "      <td id=\"T_1743f_row5_col12\" class=\"data row5 col12\" >253</td>\n",
       "      <td id=\"T_1743f_row5_col13\" class=\"data row5 col13\" >245</td>\n",
       "      <td id=\"T_1743f_row5_col14\" class=\"data row5 col14\" >74</td>\n",
       "      <td id=\"T_1743f_row5_col15\" class=\"data row5 col15\" >0</td>\n",
       "      <td id=\"T_1743f_row5_col16\" class=\"data row5 col16\" >0</td>\n",
       "      <td id=\"T_1743f_row5_col17\" class=\"data row5 col17\" >0</td>\n",
       "    </tr>\n",
       "    <tr>\n",
       "      <th id=\"T_1743f_level0_row6\" class=\"row_heading level0 row6\" >6</th>\n",
       "      <td id=\"T_1743f_row6_col0\" class=\"data row6 col0\" >0</td>\n",
       "      <td id=\"T_1743f_row6_col1\" class=\"data row6 col1\" >0</td>\n",
       "      <td id=\"T_1743f_row6_col2\" class=\"data row6 col2\" >0</td>\n",
       "      <td id=\"T_1743f_row6_col3\" class=\"data row6 col3\" >0</td>\n",
       "      <td id=\"T_1743f_row6_col4\" class=\"data row6 col4\" >0</td>\n",
       "      <td id=\"T_1743f_row6_col5\" class=\"data row6 col5\" >0</td>\n",
       "      <td id=\"T_1743f_row6_col6\" class=\"data row6 col6\" >0</td>\n",
       "      <td id=\"T_1743f_row6_col7\" class=\"data row6 col7\" >0</td>\n",
       "      <td id=\"T_1743f_row6_col8\" class=\"data row6 col8\" >0</td>\n",
       "      <td id=\"T_1743f_row6_col9\" class=\"data row6 col9\" >0</td>\n",
       "      <td id=\"T_1743f_row6_col10\" class=\"data row6 col10\" >249</td>\n",
       "      <td id=\"T_1743f_row6_col11\" class=\"data row6 col11\" >253</td>\n",
       "      <td id=\"T_1743f_row6_col12\" class=\"data row6 col12\" >245</td>\n",
       "      <td id=\"T_1743f_row6_col13\" class=\"data row6 col13\" >126</td>\n",
       "      <td id=\"T_1743f_row6_col14\" class=\"data row6 col14\" >0</td>\n",
       "      <td id=\"T_1743f_row6_col15\" class=\"data row6 col15\" >0</td>\n",
       "      <td id=\"T_1743f_row6_col16\" class=\"data row6 col16\" >0</td>\n",
       "      <td id=\"T_1743f_row6_col17\" class=\"data row6 col17\" >0</td>\n",
       "    </tr>\n",
       "    <tr>\n",
       "      <th id=\"T_1743f_level0_row7\" class=\"row_heading level0 row7\" >7</th>\n",
       "      <td id=\"T_1743f_row7_col0\" class=\"data row7 col0\" >0</td>\n",
       "      <td id=\"T_1743f_row7_col1\" class=\"data row7 col1\" >0</td>\n",
       "      <td id=\"T_1743f_row7_col2\" class=\"data row7 col2\" >0</td>\n",
       "      <td id=\"T_1743f_row7_col3\" class=\"data row7 col3\" >0</td>\n",
       "      <td id=\"T_1743f_row7_col4\" class=\"data row7 col4\" >0</td>\n",
       "      <td id=\"T_1743f_row7_col5\" class=\"data row7 col5\" >0</td>\n",
       "      <td id=\"T_1743f_row7_col6\" class=\"data row7 col6\" >0</td>\n",
       "      <td id=\"T_1743f_row7_col7\" class=\"data row7 col7\" >14</td>\n",
       "      <td id=\"T_1743f_row7_col8\" class=\"data row7 col8\" >101</td>\n",
       "      <td id=\"T_1743f_row7_col9\" class=\"data row7 col9\" >223</td>\n",
       "      <td id=\"T_1743f_row7_col10\" class=\"data row7 col10\" >253</td>\n",
       "      <td id=\"T_1743f_row7_col11\" class=\"data row7 col11\" >248</td>\n",
       "      <td id=\"T_1743f_row7_col12\" class=\"data row7 col12\" >124</td>\n",
       "      <td id=\"T_1743f_row7_col13\" class=\"data row7 col13\" >0</td>\n",
       "      <td id=\"T_1743f_row7_col14\" class=\"data row7 col14\" >0</td>\n",
       "      <td id=\"T_1743f_row7_col15\" class=\"data row7 col15\" >0</td>\n",
       "      <td id=\"T_1743f_row7_col16\" class=\"data row7 col16\" >0</td>\n",
       "      <td id=\"T_1743f_row7_col17\" class=\"data row7 col17\" >0</td>\n",
       "    </tr>\n",
       "    <tr>\n",
       "      <th id=\"T_1743f_level0_row8\" class=\"row_heading level0 row8\" >8</th>\n",
       "      <td id=\"T_1743f_row8_col0\" class=\"data row8 col0\" >0</td>\n",
       "      <td id=\"T_1743f_row8_col1\" class=\"data row8 col1\" >0</td>\n",
       "      <td id=\"T_1743f_row8_col2\" class=\"data row8 col2\" >0</td>\n",
       "      <td id=\"T_1743f_row8_col3\" class=\"data row8 col3\" >0</td>\n",
       "      <td id=\"T_1743f_row8_col4\" class=\"data row8 col4\" >0</td>\n",
       "      <td id=\"T_1743f_row8_col5\" class=\"data row8 col5\" >11</td>\n",
       "      <td id=\"T_1743f_row8_col6\" class=\"data row8 col6\" >166</td>\n",
       "      <td id=\"T_1743f_row8_col7\" class=\"data row8 col7\" >239</td>\n",
       "      <td id=\"T_1743f_row8_col8\" class=\"data row8 col8\" >253</td>\n",
       "      <td id=\"T_1743f_row8_col9\" class=\"data row8 col9\" >253</td>\n",
       "      <td id=\"T_1743f_row8_col10\" class=\"data row8 col10\" >253</td>\n",
       "      <td id=\"T_1743f_row8_col11\" class=\"data row8 col11\" >187</td>\n",
       "      <td id=\"T_1743f_row8_col12\" class=\"data row8 col12\" >30</td>\n",
       "      <td id=\"T_1743f_row8_col13\" class=\"data row8 col13\" >0</td>\n",
       "      <td id=\"T_1743f_row8_col14\" class=\"data row8 col14\" >0</td>\n",
       "      <td id=\"T_1743f_row8_col15\" class=\"data row8 col15\" >0</td>\n",
       "      <td id=\"T_1743f_row8_col16\" class=\"data row8 col16\" >0</td>\n",
       "      <td id=\"T_1743f_row8_col17\" class=\"data row8 col17\" >0</td>\n",
       "    </tr>\n",
       "    <tr>\n",
       "      <th id=\"T_1743f_level0_row9\" class=\"row_heading level0 row9\" >9</th>\n",
       "      <td id=\"T_1743f_row9_col0\" class=\"data row9 col0\" >0</td>\n",
       "      <td id=\"T_1743f_row9_col1\" class=\"data row9 col1\" >0</td>\n",
       "      <td id=\"T_1743f_row9_col2\" class=\"data row9 col2\" >0</td>\n",
       "      <td id=\"T_1743f_row9_col3\" class=\"data row9 col3\" >0</td>\n",
       "      <td id=\"T_1743f_row9_col4\" class=\"data row9 col4\" >0</td>\n",
       "      <td id=\"T_1743f_row9_col5\" class=\"data row9 col5\" >16</td>\n",
       "      <td id=\"T_1743f_row9_col6\" class=\"data row9 col6\" >248</td>\n",
       "      <td id=\"T_1743f_row9_col7\" class=\"data row9 col7\" >250</td>\n",
       "      <td id=\"T_1743f_row9_col8\" class=\"data row9 col8\" >253</td>\n",
       "      <td id=\"T_1743f_row9_col9\" class=\"data row9 col9\" >253</td>\n",
       "      <td id=\"T_1743f_row9_col10\" class=\"data row9 col10\" >253</td>\n",
       "      <td id=\"T_1743f_row9_col11\" class=\"data row9 col11\" >253</td>\n",
       "      <td id=\"T_1743f_row9_col12\" class=\"data row9 col12\" >232</td>\n",
       "      <td id=\"T_1743f_row9_col13\" class=\"data row9 col13\" >213</td>\n",
       "      <td id=\"T_1743f_row9_col14\" class=\"data row9 col14\" >111</td>\n",
       "      <td id=\"T_1743f_row9_col15\" class=\"data row9 col15\" >2</td>\n",
       "      <td id=\"T_1743f_row9_col16\" class=\"data row9 col16\" >0</td>\n",
       "      <td id=\"T_1743f_row9_col17\" class=\"data row9 col17\" >0</td>\n",
       "    </tr>\n",
       "    <tr>\n",
       "      <th id=\"T_1743f_level0_row10\" class=\"row_heading level0 row10\" >10</th>\n",
       "      <td id=\"T_1743f_row10_col0\" class=\"data row10 col0\" >0</td>\n",
       "      <td id=\"T_1743f_row10_col1\" class=\"data row10 col1\" >0</td>\n",
       "      <td id=\"T_1743f_row10_col2\" class=\"data row10 col2\" >0</td>\n",
       "      <td id=\"T_1743f_row10_col3\" class=\"data row10 col3\" >0</td>\n",
       "      <td id=\"T_1743f_row10_col4\" class=\"data row10 col4\" >0</td>\n",
       "      <td id=\"T_1743f_row10_col5\" class=\"data row10 col5\" >0</td>\n",
       "      <td id=\"T_1743f_row10_col6\" class=\"data row10 col6\" >0</td>\n",
       "      <td id=\"T_1743f_row10_col7\" class=\"data row10 col7\" >43</td>\n",
       "      <td id=\"T_1743f_row10_col8\" class=\"data row10 col8\" >98</td>\n",
       "      <td id=\"T_1743f_row10_col9\" class=\"data row10 col9\" >98</td>\n",
       "      <td id=\"T_1743f_row10_col10\" class=\"data row10 col10\" >208</td>\n",
       "      <td id=\"T_1743f_row10_col11\" class=\"data row10 col11\" >253</td>\n",
       "      <td id=\"T_1743f_row10_col12\" class=\"data row10 col12\" >253</td>\n",
       "      <td id=\"T_1743f_row10_col13\" class=\"data row10 col13\" >253</td>\n",
       "      <td id=\"T_1743f_row10_col14\" class=\"data row10 col14\" >253</td>\n",
       "      <td id=\"T_1743f_row10_col15\" class=\"data row10 col15\" >187</td>\n",
       "      <td id=\"T_1743f_row10_col16\" class=\"data row10 col16\" >22</td>\n",
       "      <td id=\"T_1743f_row10_col17\" class=\"data row10 col17\" >0</td>\n",
       "    </tr>\n",
       "    <tr>\n",
       "      <th id=\"T_1743f_level0_row11\" class=\"row_heading level0 row11\" >11</th>\n",
       "      <td id=\"T_1743f_row11_col0\" class=\"data row11 col0\" >0</td>\n",
       "      <td id=\"T_1743f_row11_col1\" class=\"data row11 col1\" >0</td>\n",
       "      <td id=\"T_1743f_row11_col2\" class=\"data row11 col2\" >0</td>\n",
       "      <td id=\"T_1743f_row11_col3\" class=\"data row11 col3\" >0</td>\n",
       "      <td id=\"T_1743f_row11_col4\" class=\"data row11 col4\" >0</td>\n",
       "      <td id=\"T_1743f_row11_col5\" class=\"data row11 col5\" >0</td>\n",
       "      <td id=\"T_1743f_row11_col6\" class=\"data row11 col6\" >0</td>\n",
       "      <td id=\"T_1743f_row11_col7\" class=\"data row11 col7\" >0</td>\n",
       "      <td id=\"T_1743f_row11_col8\" class=\"data row11 col8\" >0</td>\n",
       "      <td id=\"T_1743f_row11_col9\" class=\"data row11 col9\" >0</td>\n",
       "      <td id=\"T_1743f_row11_col10\" class=\"data row11 col10\" >9</td>\n",
       "      <td id=\"T_1743f_row11_col11\" class=\"data row11 col11\" >51</td>\n",
       "      <td id=\"T_1743f_row11_col12\" class=\"data row11 col12\" >119</td>\n",
       "      <td id=\"T_1743f_row11_col13\" class=\"data row11 col13\" >253</td>\n",
       "      <td id=\"T_1743f_row11_col14\" class=\"data row11 col14\" >253</td>\n",
       "      <td id=\"T_1743f_row11_col15\" class=\"data row11 col15\" >253</td>\n",
       "      <td id=\"T_1743f_row11_col16\" class=\"data row11 col16\" >76</td>\n",
       "      <td id=\"T_1743f_row11_col17\" class=\"data row11 col17\" >0</td>\n",
       "    </tr>\n",
       "    <tr>\n",
       "      <th id=\"T_1743f_level0_row12\" class=\"row_heading level0 row12\" >12</th>\n",
       "      <td id=\"T_1743f_row12_col0\" class=\"data row12 col0\" >0</td>\n",
       "      <td id=\"T_1743f_row12_col1\" class=\"data row12 col1\" >0</td>\n",
       "      <td id=\"T_1743f_row12_col2\" class=\"data row12 col2\" >0</td>\n",
       "      <td id=\"T_1743f_row12_col3\" class=\"data row12 col3\" >0</td>\n",
       "      <td id=\"T_1743f_row12_col4\" class=\"data row12 col4\" >0</td>\n",
       "      <td id=\"T_1743f_row12_col5\" class=\"data row12 col5\" >0</td>\n",
       "      <td id=\"T_1743f_row12_col6\" class=\"data row12 col6\" >0</td>\n",
       "      <td id=\"T_1743f_row12_col7\" class=\"data row12 col7\" >0</td>\n",
       "      <td id=\"T_1743f_row12_col8\" class=\"data row12 col8\" >0</td>\n",
       "      <td id=\"T_1743f_row12_col9\" class=\"data row12 col9\" >0</td>\n",
       "      <td id=\"T_1743f_row12_col10\" class=\"data row12 col10\" >0</td>\n",
       "      <td id=\"T_1743f_row12_col11\" class=\"data row12 col11\" >0</td>\n",
       "      <td id=\"T_1743f_row12_col12\" class=\"data row12 col12\" >1</td>\n",
       "      <td id=\"T_1743f_row12_col13\" class=\"data row12 col13\" >183</td>\n",
       "      <td id=\"T_1743f_row12_col14\" class=\"data row12 col14\" >253</td>\n",
       "      <td id=\"T_1743f_row12_col15\" class=\"data row12 col15\" >253</td>\n",
       "      <td id=\"T_1743f_row12_col16\" class=\"data row12 col16\" >139</td>\n",
       "      <td id=\"T_1743f_row12_col17\" class=\"data row12 col17\" >0</td>\n",
       "    </tr>\n",
       "    <tr>\n",
       "      <th id=\"T_1743f_level0_row13\" class=\"row_heading level0 row13\" >13</th>\n",
       "      <td id=\"T_1743f_row13_col0\" class=\"data row13 col0\" >0</td>\n",
       "      <td id=\"T_1743f_row13_col1\" class=\"data row13 col1\" >0</td>\n",
       "      <td id=\"T_1743f_row13_col2\" class=\"data row13 col2\" >0</td>\n",
       "      <td id=\"T_1743f_row13_col3\" class=\"data row13 col3\" >0</td>\n",
       "      <td id=\"T_1743f_row13_col4\" class=\"data row13 col4\" >0</td>\n",
       "      <td id=\"T_1743f_row13_col5\" class=\"data row13 col5\" >0</td>\n",
       "      <td id=\"T_1743f_row13_col6\" class=\"data row13 col6\" >0</td>\n",
       "      <td id=\"T_1743f_row13_col7\" class=\"data row13 col7\" >0</td>\n",
       "      <td id=\"T_1743f_row13_col8\" class=\"data row13 col8\" >0</td>\n",
       "      <td id=\"T_1743f_row13_col9\" class=\"data row13 col9\" >0</td>\n",
       "      <td id=\"T_1743f_row13_col10\" class=\"data row13 col10\" >0</td>\n",
       "      <td id=\"T_1743f_row13_col11\" class=\"data row13 col11\" >0</td>\n",
       "      <td id=\"T_1743f_row13_col12\" class=\"data row13 col12\" >0</td>\n",
       "      <td id=\"T_1743f_row13_col13\" class=\"data row13 col13\" >182</td>\n",
       "      <td id=\"T_1743f_row13_col14\" class=\"data row13 col14\" >253</td>\n",
       "      <td id=\"T_1743f_row13_col15\" class=\"data row13 col15\" >253</td>\n",
       "      <td id=\"T_1743f_row13_col16\" class=\"data row13 col16\" >104</td>\n",
       "      <td id=\"T_1743f_row13_col17\" class=\"data row13 col17\" >0</td>\n",
       "    </tr>\n",
       "    <tr>\n",
       "      <th id=\"T_1743f_level0_row14\" class=\"row_heading level0 row14\" >14</th>\n",
       "      <td id=\"T_1743f_row14_col0\" class=\"data row14 col0\" >0</td>\n",
       "      <td id=\"T_1743f_row14_col1\" class=\"data row14 col1\" >0</td>\n",
       "      <td id=\"T_1743f_row14_col2\" class=\"data row14 col2\" >0</td>\n",
       "      <td id=\"T_1743f_row14_col3\" class=\"data row14 col3\" >0</td>\n",
       "      <td id=\"T_1743f_row14_col4\" class=\"data row14 col4\" >0</td>\n",
       "      <td id=\"T_1743f_row14_col5\" class=\"data row14 col5\" >0</td>\n",
       "      <td id=\"T_1743f_row14_col6\" class=\"data row14 col6\" >0</td>\n",
       "      <td id=\"T_1743f_row14_col7\" class=\"data row14 col7\" >0</td>\n",
       "      <td id=\"T_1743f_row14_col8\" class=\"data row14 col8\" >0</td>\n",
       "      <td id=\"T_1743f_row14_col9\" class=\"data row14 col9\" >0</td>\n",
       "      <td id=\"T_1743f_row14_col10\" class=\"data row14 col10\" >0</td>\n",
       "      <td id=\"T_1743f_row14_col11\" class=\"data row14 col11\" >0</td>\n",
       "      <td id=\"T_1743f_row14_col12\" class=\"data row14 col12\" >85</td>\n",
       "      <td id=\"T_1743f_row14_col13\" class=\"data row14 col13\" >249</td>\n",
       "      <td id=\"T_1743f_row14_col14\" class=\"data row14 col14\" >253</td>\n",
       "      <td id=\"T_1743f_row14_col15\" class=\"data row14 col15\" >253</td>\n",
       "      <td id=\"T_1743f_row14_col16\" class=\"data row14 col16\" >36</td>\n",
       "      <td id=\"T_1743f_row14_col17\" class=\"data row14 col17\" >0</td>\n",
       "    </tr>\n",
       "    <tr>\n",
       "      <th id=\"T_1743f_level0_row15\" class=\"row_heading level0 row15\" >15</th>\n",
       "      <td id=\"T_1743f_row15_col0\" class=\"data row15 col0\" >0</td>\n",
       "      <td id=\"T_1743f_row15_col1\" class=\"data row15 col1\" >0</td>\n",
       "      <td id=\"T_1743f_row15_col2\" class=\"data row15 col2\" >0</td>\n",
       "      <td id=\"T_1743f_row15_col3\" class=\"data row15 col3\" >0</td>\n",
       "      <td id=\"T_1743f_row15_col4\" class=\"data row15 col4\" >0</td>\n",
       "      <td id=\"T_1743f_row15_col5\" class=\"data row15 col5\" >0</td>\n",
       "      <td id=\"T_1743f_row15_col6\" class=\"data row15 col6\" >0</td>\n",
       "      <td id=\"T_1743f_row15_col7\" class=\"data row15 col7\" >0</td>\n",
       "      <td id=\"T_1743f_row15_col8\" class=\"data row15 col8\" >0</td>\n",
       "      <td id=\"T_1743f_row15_col9\" class=\"data row15 col9\" >0</td>\n",
       "      <td id=\"T_1743f_row15_col10\" class=\"data row15 col10\" >0</td>\n",
       "      <td id=\"T_1743f_row15_col11\" class=\"data row15 col11\" >60</td>\n",
       "      <td id=\"T_1743f_row15_col12\" class=\"data row15 col12\" >214</td>\n",
       "      <td id=\"T_1743f_row15_col13\" class=\"data row15 col13\" >253</td>\n",
       "      <td id=\"T_1743f_row15_col14\" class=\"data row15 col14\" >253</td>\n",
       "      <td id=\"T_1743f_row15_col15\" class=\"data row15 col15\" >173</td>\n",
       "      <td id=\"T_1743f_row15_col16\" class=\"data row15 col16\" >11</td>\n",
       "      <td id=\"T_1743f_row15_col17\" class=\"data row15 col17\" >0</td>\n",
       "    </tr>\n",
       "    <tr>\n",
       "      <th id=\"T_1743f_level0_row16\" class=\"row_heading level0 row16\" >16</th>\n",
       "      <td id=\"T_1743f_row16_col0\" class=\"data row16 col0\" >0</td>\n",
       "      <td id=\"T_1743f_row16_col1\" class=\"data row16 col1\" >0</td>\n",
       "      <td id=\"T_1743f_row16_col2\" class=\"data row16 col2\" >0</td>\n",
       "      <td id=\"T_1743f_row16_col3\" class=\"data row16 col3\" >0</td>\n",
       "      <td id=\"T_1743f_row16_col4\" class=\"data row16 col4\" >0</td>\n",
       "      <td id=\"T_1743f_row16_col5\" class=\"data row16 col5\" >0</td>\n",
       "      <td id=\"T_1743f_row16_col6\" class=\"data row16 col6\" >0</td>\n",
       "      <td id=\"T_1743f_row16_col7\" class=\"data row16 col7\" >0</td>\n",
       "      <td id=\"T_1743f_row16_col8\" class=\"data row16 col8\" >0</td>\n",
       "      <td id=\"T_1743f_row16_col9\" class=\"data row16 col9\" >0</td>\n",
       "      <td id=\"T_1743f_row16_col10\" class=\"data row16 col10\" >98</td>\n",
       "      <td id=\"T_1743f_row16_col11\" class=\"data row16 col11\" >247</td>\n",
       "      <td id=\"T_1743f_row16_col12\" class=\"data row16 col12\" >253</td>\n",
       "      <td id=\"T_1743f_row16_col13\" class=\"data row16 col13\" >253</td>\n",
       "      <td id=\"T_1743f_row16_col14\" class=\"data row16 col14\" >226</td>\n",
       "      <td id=\"T_1743f_row16_col15\" class=\"data row16 col15\" >9</td>\n",
       "      <td id=\"T_1743f_row16_col16\" class=\"data row16 col16\" >0</td>\n",
       "      <td id=\"T_1743f_row16_col17\" class=\"data row16 col17\" >0</td>\n",
       "    </tr>\n",
       "    <tr>\n",
       "      <th id=\"T_1743f_level0_row17\" class=\"row_heading level0 row17\" >17</th>\n",
       "      <td id=\"T_1743f_row17_col0\" class=\"data row17 col0\" >0</td>\n",
       "      <td id=\"T_1743f_row17_col1\" class=\"data row17 col1\" >0</td>\n",
       "      <td id=\"T_1743f_row17_col2\" class=\"data row17 col2\" >0</td>\n",
       "      <td id=\"T_1743f_row17_col3\" class=\"data row17 col3\" >0</td>\n",
       "      <td id=\"T_1743f_row17_col4\" class=\"data row17 col4\" >0</td>\n",
       "      <td id=\"T_1743f_row17_col5\" class=\"data row17 col5\" >0</td>\n",
       "      <td id=\"T_1743f_row17_col6\" class=\"data row17 col6\" >0</td>\n",
       "      <td id=\"T_1743f_row17_col7\" class=\"data row17 col7\" >0</td>\n",
       "      <td id=\"T_1743f_row17_col8\" class=\"data row17 col8\" >42</td>\n",
       "      <td id=\"T_1743f_row17_col9\" class=\"data row17 col9\" >150</td>\n",
       "      <td id=\"T_1743f_row17_col10\" class=\"data row17 col10\" >252</td>\n",
       "      <td id=\"T_1743f_row17_col11\" class=\"data row17 col11\" >253</td>\n",
       "      <td id=\"T_1743f_row17_col12\" class=\"data row17 col12\" >253</td>\n",
       "      <td id=\"T_1743f_row17_col13\" class=\"data row17 col13\" >233</td>\n",
       "      <td id=\"T_1743f_row17_col14\" class=\"data row17 col14\" >53</td>\n",
       "      <td id=\"T_1743f_row17_col15\" class=\"data row17 col15\" >0</td>\n",
       "      <td id=\"T_1743f_row17_col16\" class=\"data row17 col16\" >0</td>\n",
       "      <td id=\"T_1743f_row17_col17\" class=\"data row17 col17\" >0</td>\n",
       "    </tr>\n",
       "    <tr>\n",
       "      <th id=\"T_1743f_level0_row18\" class=\"row_heading level0 row18\" >18</th>\n",
       "      <td id=\"T_1743f_row18_col0\" class=\"data row18 col0\" >0</td>\n",
       "      <td id=\"T_1743f_row18_col1\" class=\"data row18 col1\" >0</td>\n",
       "      <td id=\"T_1743f_row18_col2\" class=\"data row18 col2\" >42</td>\n",
       "      <td id=\"T_1743f_row18_col3\" class=\"data row18 col3\" >115</td>\n",
       "      <td id=\"T_1743f_row18_col4\" class=\"data row18 col4\" >42</td>\n",
       "      <td id=\"T_1743f_row18_col5\" class=\"data row18 col5\" >60</td>\n",
       "      <td id=\"T_1743f_row18_col6\" class=\"data row18 col6\" >115</td>\n",
       "      <td id=\"T_1743f_row18_col7\" class=\"data row18 col7\" >159</td>\n",
       "      <td id=\"T_1743f_row18_col8\" class=\"data row18 col8\" >240</td>\n",
       "      <td id=\"T_1743f_row18_col9\" class=\"data row18 col9\" >253</td>\n",
       "      <td id=\"T_1743f_row18_col10\" class=\"data row18 col10\" >253</td>\n",
       "      <td id=\"T_1743f_row18_col11\" class=\"data row18 col11\" >250</td>\n",
       "      <td id=\"T_1743f_row18_col12\" class=\"data row18 col12\" >175</td>\n",
       "      <td id=\"T_1743f_row18_col13\" class=\"data row18 col13\" >25</td>\n",
       "      <td id=\"T_1743f_row18_col14\" class=\"data row18 col14\" >0</td>\n",
       "      <td id=\"T_1743f_row18_col15\" class=\"data row18 col15\" >0</td>\n",
       "      <td id=\"T_1743f_row18_col16\" class=\"data row18 col16\" >0</td>\n",
       "      <td id=\"T_1743f_row18_col17\" class=\"data row18 col17\" >0</td>\n",
       "    </tr>\n",
       "    <tr>\n",
       "      <th id=\"T_1743f_level0_row19\" class=\"row_heading level0 row19\" >19</th>\n",
       "      <td id=\"T_1743f_row19_col0\" class=\"data row19 col0\" >0</td>\n",
       "      <td id=\"T_1743f_row19_col1\" class=\"data row19 col1\" >0</td>\n",
       "      <td id=\"T_1743f_row19_col2\" class=\"data row19 col2\" >187</td>\n",
       "      <td id=\"T_1743f_row19_col3\" class=\"data row19 col3\" >253</td>\n",
       "      <td id=\"T_1743f_row19_col4\" class=\"data row19 col4\" >253</td>\n",
       "      <td id=\"T_1743f_row19_col5\" class=\"data row19 col5\" >253</td>\n",
       "      <td id=\"T_1743f_row19_col6\" class=\"data row19 col6\" >253</td>\n",
       "      <td id=\"T_1743f_row19_col7\" class=\"data row19 col7\" >253</td>\n",
       "      <td id=\"T_1743f_row19_col8\" class=\"data row19 col8\" >253</td>\n",
       "      <td id=\"T_1743f_row19_col9\" class=\"data row19 col9\" >253</td>\n",
       "      <td id=\"T_1743f_row19_col10\" class=\"data row19 col10\" >197</td>\n",
       "      <td id=\"T_1743f_row19_col11\" class=\"data row19 col11\" >86</td>\n",
       "      <td id=\"T_1743f_row19_col12\" class=\"data row19 col12\" >0</td>\n",
       "      <td id=\"T_1743f_row19_col13\" class=\"data row19 col13\" >0</td>\n",
       "      <td id=\"T_1743f_row19_col14\" class=\"data row19 col14\" >0</td>\n",
       "      <td id=\"T_1743f_row19_col15\" class=\"data row19 col15\" >0</td>\n",
       "      <td id=\"T_1743f_row19_col16\" class=\"data row19 col16\" >0</td>\n",
       "      <td id=\"T_1743f_row19_col17\" class=\"data row19 col17\" >0</td>\n",
       "    </tr>\n",
       "    <tr>\n",
       "      <th id=\"T_1743f_level0_row20\" class=\"row_heading level0 row20\" >20</th>\n",
       "      <td id=\"T_1743f_row20_col0\" class=\"data row20 col0\" >0</td>\n",
       "      <td id=\"T_1743f_row20_col1\" class=\"data row20 col1\" >0</td>\n",
       "      <td id=\"T_1743f_row20_col2\" class=\"data row20 col2\" >103</td>\n",
       "      <td id=\"T_1743f_row20_col3\" class=\"data row20 col3\" >253</td>\n",
       "      <td id=\"T_1743f_row20_col4\" class=\"data row20 col4\" >253</td>\n",
       "      <td id=\"T_1743f_row20_col5\" class=\"data row20 col5\" >253</td>\n",
       "      <td id=\"T_1743f_row20_col6\" class=\"data row20 col6\" >253</td>\n",
       "      <td id=\"T_1743f_row20_col7\" class=\"data row20 col7\" >253</td>\n",
       "      <td id=\"T_1743f_row20_col8\" class=\"data row20 col8\" >232</td>\n",
       "      <td id=\"T_1743f_row20_col9\" class=\"data row20 col9\" >67</td>\n",
       "      <td id=\"T_1743f_row20_col10\" class=\"data row20 col10\" >1</td>\n",
       "      <td id=\"T_1743f_row20_col11\" class=\"data row20 col11\" >0</td>\n",
       "      <td id=\"T_1743f_row20_col12\" class=\"data row20 col12\" >0</td>\n",
       "      <td id=\"T_1743f_row20_col13\" class=\"data row20 col13\" >0</td>\n",
       "      <td id=\"T_1743f_row20_col14\" class=\"data row20 col14\" >0</td>\n",
       "      <td id=\"T_1743f_row20_col15\" class=\"data row20 col15\" >0</td>\n",
       "      <td id=\"T_1743f_row20_col16\" class=\"data row20 col16\" >0</td>\n",
       "      <td id=\"T_1743f_row20_col17\" class=\"data row20 col17\" >0</td>\n",
       "    </tr>\n",
       "    <tr>\n",
       "      <th id=\"T_1743f_level0_row21\" class=\"row_heading level0 row21\" >21</th>\n",
       "      <td id=\"T_1743f_row21_col0\" class=\"data row21 col0\" >0</td>\n",
       "      <td id=\"T_1743f_row21_col1\" class=\"data row21 col1\" >0</td>\n",
       "      <td id=\"T_1743f_row21_col2\" class=\"data row21 col2\" >0</td>\n",
       "      <td id=\"T_1743f_row21_col3\" class=\"data row21 col3\" >0</td>\n",
       "      <td id=\"T_1743f_row21_col4\" class=\"data row21 col4\" >0</td>\n",
       "      <td id=\"T_1743f_row21_col5\" class=\"data row21 col5\" >0</td>\n",
       "      <td id=\"T_1743f_row21_col6\" class=\"data row21 col6\" >0</td>\n",
       "      <td id=\"T_1743f_row21_col7\" class=\"data row21 col7\" >0</td>\n",
       "      <td id=\"T_1743f_row21_col8\" class=\"data row21 col8\" >0</td>\n",
       "      <td id=\"T_1743f_row21_col9\" class=\"data row21 col9\" >0</td>\n",
       "      <td id=\"T_1743f_row21_col10\" class=\"data row21 col10\" >0</td>\n",
       "      <td id=\"T_1743f_row21_col11\" class=\"data row21 col11\" >0</td>\n",
       "      <td id=\"T_1743f_row21_col12\" class=\"data row21 col12\" >0</td>\n",
       "      <td id=\"T_1743f_row21_col13\" class=\"data row21 col13\" >0</td>\n",
       "      <td id=\"T_1743f_row21_col14\" class=\"data row21 col14\" >0</td>\n",
       "      <td id=\"T_1743f_row21_col15\" class=\"data row21 col15\" >0</td>\n",
       "      <td id=\"T_1743f_row21_col16\" class=\"data row21 col16\" >0</td>\n",
       "      <td id=\"T_1743f_row21_col17\" class=\"data row21 col17\" >0</td>\n",
       "    </tr>\n",
       "  </tbody>\n",
       "</table>\n"
      ],
      "text/plain": [
       "<pandas.io.formats.style.Styler at 0x1484885e0>"
      ]
     },
     "execution_count": 9,
     "metadata": {},
     "output_type": "execute_result"
    }
   ],
   "source": [
    "from fastai.vision.data import pd\n",
    "\n",
    "im3_t = tensor(im3)\n",
    "# TODO : I brute forced the 4:26, 4:22 to get the right size. Why?\n",
    "# FYI the full image is 28x28 for a total of 784 pixels\n",
    "df = pd.DataFrame(im3_t[4:26, 4:22]) # type: ignore\n",
    "df.style.set_properties(**{'font-size': '6pt'}).background_gradient('Greys')\n"
   ]
  },
  {
   "cell_type": "code",
   "execution_count": 10,
   "metadata": {},
   "outputs": [
    {
     "name": "stdout",
     "output_type": "stream",
     "text": [
      "seven [6131] three [6265]\n"
     ]
    }
   ],
   "source": [
    "seven_tensors = [tensor(Image.open(o)) for o in sevens] # type: ignore\n",
    "three_tensors = [tensor(Image.open(o)) for o in threes] # type: ignore\n",
    "\n",
    "print(f\"seven [{len(three_tensors)}] three [{len(seven_tensors)}]\")"
   ]
  },
  {
   "cell_type": "code",
   "execution_count": 11,
   "metadata": {},
   "outputs": [
    {
     "data": {
      "text/plain": [
       "<AxesSubplot:>"
      ]
     },
     "execution_count": 11,
     "metadata": {},
     "output_type": "execute_result"
    },
    {
     "data": {
      "image/png": "[encoded data removed]",
      "text/plain": [
       "<Figure size 72x72 with 1 Axes>"
      ]
     },
     "metadata": {
      "needs_background": "light"
     },
     "output_type": "display_data"
    }
   ],
   "source": [
    "from fastai.vision.data import show_image\n",
    "\n",
    "show_image(three_tensors[1])"
   ]
  },
  {
   "cell_type": "code",
   "execution_count": 12,
   "metadata": {},
   "outputs": [
    {
     "data": {
      "text/plain": [
       "torch.Size([6131, 28, 28])"
      ]
     },
     "execution_count": 12,
     "metadata": {},
     "output_type": "execute_result"
    }
   ],
   "source": [
    "from fastai.vision.data import torch\n",
    "\n",
    "stacked_threes = torch.stack(three_tensors).float()/255 # type: ignore\n",
    "stacked_sevens = torch.stack(seven_tensors).float()/255 # type: ignore\n",
    "\n",
    "# IMPORTANT : commit tensor (1) shape and (2) rank(not dimension) to memory\n",
    "# Why rank != dimension? 3D position is a 3D vector, but rank is 1 ... leads to rank/dimension word mismatch\n",
    "# shape is the length of each axis\n",
    "# stacked_threes shape is => 61631 images, 28 x pixels, 28 y pixels\n",
    "stacked_threes.shape\n"
   ]
  },
  {
   "cell_type": "code",
   "execution_count": 21,
   "metadata": {},
   "outputs": [
    {
     "name": "stdout",
     "output_type": "stream",
     "text": [
      "rank (length of shapes) => 3 (or num of dimension) => 3 \n",
      "shape (length/size of each axis) torch.Size([6131, 28, 28])\n"
     ]
    }
   ],
   "source": [
    "# rank is the number of axes in a tensor, shape is the lenght/size of each axis\n",
    "# stacked_threes rank is 3 axes => (num of images, x pixels, y pixels)\n",
    "# stacked_threes.ndim : number of dimensions add to word mismatch\n",
    "print(f'rank (length of shapes) => {len(stacked_threes.shape)} (or num of dimension) => {stacked_threes.ndim} \\nshape (length/size of each axis) {stacked_threes.shape}')"
   ]
  },
  {
   "cell_type": "code",
   "execution_count": 22,
   "metadata": {},
   "outputs": [
    {
     "data": {
      "text/plain": [
       "<AxesSubplot:>"
      ]
     },
     "execution_count": 22,
     "metadata": {},
     "output_type": "execute_result"
    },
    {
     "data": {
      "image/png": "[encoded data removed]",
      "text/plain": [
       "<Figure size 72x72 with 1 Axes>"
      ]
     },
     "metadata": {
      "needs_background": "light"
     },
     "output_type": "display_data"
    }
   ],
   "source": [
    "mean3 = stacked_threes.mean(0) # type: ignore\n",
    "# This is what peak number 3 looks like lol\n",
    "# output is wispy and willowy where images disagree and solid where they agree\n",
    "# Just like Tesla FSD Beta visualization lol\n",
    "# TODO : verify that mean == average; also difference between mean, median and mode\n",
    "show_image(mean3)"
   ]
  },
  {
   "cell_type": "code",
   "execution_count": 23,
   "metadata": {},
   "outputs": [
    {
     "data": {
      "text/plain": [
       "<AxesSubplot:>"
      ]
     },
     "execution_count": 23,
     "metadata": {},
     "output_type": "execute_result"
    },
    {
     "data": {
      "image/png": "[encoded data removed]",
      "text/plain": [
       "<Figure size 72x72 with 1 Axes>"
      ]
     },
     "metadata": {
      "needs_background": "light"
     },
     "output_type": "display_data"
    }
   ],
   "source": [
    "mean7 = stacked_sevens.mean(0) # type: ignore\n",
    "show_image(mean7)"
   ]
  },
  {
   "cell_type": "code",
   "execution_count": 24,
   "metadata": {},
   "outputs": [
    {
     "data": {
      "text/plain": [
       "<AxesSubplot:>"
      ]
     },
     "execution_count": 24,
     "metadata": {},
     "output_type": "execute_result"
    },
    {
     "data": {
      "image/png": "[encoded data removed]",
      "text/plain": [
       "<Figure size 72x72 with 1 Axes>"
      ]
     },
     "metadata": {
      "needs_background": "light"
     },
     "output_type": "display_data"
    }
   ],
   "source": [
    "a_3 = stacked_threes[1]\n",
    "show_image(a_3)"
   ]
  },
  {
   "cell_type": "code",
   "execution_count": 25,
   "metadata": {},
   "outputs": [
    {
     "name": "stdout",
     "output_type": "stream",
     "text": [
      "abs [0.11143654584884644] sqr [0.20208320021629333]\n"
     ]
    }
   ],
   "source": [
    "# diff between 3 and mean3 abs and sqr\n",
    "a_3_mean3_diff = a_3 - mean3\n",
    "dist_3_abs = a_3_mean3_diff.abs().mean()\n",
    "dist_3_sqr = (a_3_mean3_diff**2).mean().sqrt()\n",
    "print(f'abs [{dist_3_abs}] sqr [{dist_3_sqr}]')"
   ]
  },
  {
   "cell_type": "code",
   "execution_count": 26,
   "metadata": {},
   "outputs": [
    {
     "name": "stdout",
     "output_type": "stream",
     "text": [
      "abs [0.15861910581588745] sqr [0.30210891366004944]\n"
     ]
    }
   ],
   "source": [
    "# diff between 3 and mean7 abs and sqr\n",
    "a_3_mean7_diff = a_3 - mean7\n",
    "dist_7_abs = a_3_mean7_diff.abs().mean()\n",
    "dist_7_sqr = (a_3_mean7_diff**2).mean().sqrt()\n",
    "print(f'abs [{dist_7_abs}] sqr [{dist_7_sqr}]')"
   ]
  },
  {
   "cell_type": "code",
   "execution_count": 27,
   "metadata": {},
   "outputs": [
    {
     "data": {
      "text/plain": [
       "(tensor(0.1586), tensor(0.3021))"
      ]
     },
     "execution_count": 27,
     "metadata": {},
     "output_type": "execute_result"
    }
   ],
   "source": [
    "import torch.nn.functional as F\n",
    "F.l1_loss(a_3.float(), mean7), F.mse_loss(a_3, mean7).sqrt() # type: ignore"
   ]
  },
  {
   "cell_type": "code",
   "execution_count": 28,
   "metadata": {},
   "outputs": [
    {
     "name": "stdout",
     "output_type": "stream",
     "text": [
      "[[1 2 3]\n",
      " [4 5 6]] # numpy \n",
      "tensor([[1, 2, 3],\n",
      "        [4, 5, 6]]) # pytorch\n",
      "tensor([4, 5, 6]) # row\n",
      "tensor([2, 5]) # column\n",
      "tensor([5, 6]) # row, column slice (end is excluded)\n",
      "tensor([[2, 3, 4],\n",
      "        [5, 6, 7]]) # tns+1 standard operator +-*/ works => here we add a scalar one to each element\n",
      "torch.LongTensor # tensors have a type\n",
      "tensor([[1.5000, 3.0000, 4.5000],\n",
      "        [6.0000, 7.5000, 9.0000]]) # type changes as needed => here our int values are converted to float during multiplication\n"
     ]
    }
   ],
   "source": [
    "data = [[1,2,3], [4,5,6]]\n",
    "arr = array(data)\n",
    "tns = tensor(data)\n",
    "\n",
    "# Perhaps the most important new coding skill for Python programmers is to use the array and tensor APIs\n",
    "# printing common exercise outputs\n",
    "print(f'{arr} # numpy \\n{tns} # pytorch') # type: ignore\n",
    "print(f'{tns[1]} # row')\n",
    "print(f'{tns[:,1]} # column')\n",
    "print(f'{tns[1, 1:3]} # row, column slice (end is excluded)')\n",
    "print(f'{tns+1} # tns+1 standard operator +-*/ works => here we add a scalar one to each element')\n",
    "print(f'{tns.type()} # tensors have a type')\n",
    "print(f'{tns*1.5} # type changes as needed => here our int values are converted to float during multiplication')\n"
   ]
  },
  {
   "cell_type": "code",
   "execution_count": 29,
   "metadata": {},
   "outputs": [
    {
     "name": "stdout",
     "output_type": "stream",
     "text": [
      "[SHAPE] 3 => torch.Size([6131, 28, 28]) # training set \n",
      "[SHAPE] 7 => torch.Size([6265, 28, 28]) # training set\n",
      "[SHAPE] 3 => torch.Size([1010, 28, 28]) # validation set \n",
      "[SHAPE] 7 => torch.Size([1028, 28, 28]) # validation set\n"
     ]
    }
   ],
   "source": [
    "# validation set : luckily MNIST is already split into train and valid\n",
    "valid_3_files = (path/'valid'/'3').ls() # type: ignore\n",
    "valid_3_tens = torch.stack([tensor(Image.open(o)) for o in valid_3_files])\n",
    "# TODO : why do we have to convert to float? since we are dividing by 255 that should auto convert to float\n",
    "# maybe we want to be explicit about the conversion?\n",
    "valid_3_tens = valid_3_tens.float()/255\n",
    "\n",
    "valid_7_files = (path/'valid'/'7').ls() # type: ignore\n",
    "valid_7_tens = torch.stack([tensor(Image.open(o)) for o in valid_7_files])\n",
    "valid_7_tens = valid_7_tens.float()/255\n",
    "\n",
    "# Good habit to verify tensor SHAPES as you go\n",
    "print(f'[SHAPE] 3 => {stacked_threes.shape} # training set \\n[SHAPE] 7 => {stacked_sevens.shape} # training set')\n",
    "print(f'[SHAPE] 3 => {valid_3_tens.shape} # validation set \\n[SHAPE] 7 => {valid_7_tens.shape} # validation set')\n"
   ]
  },
  {
   "cell_type": "code",
   "execution_count": 30,
   "metadata": {},
   "outputs": [
    {
     "name": "stdout",
     "output_type": "stream",
     "text": [
      "0.11143654584884644 distance between single image [3] and single [mean3] image\n",
      "tensor([0.1634, 0.1145, 0.1363,  ..., 0.1105, 0.1111, 0.1640]) \n",
      "torch.Size([1010]) # shape of valid_3_dist\n"
     ]
    }
   ],
   "source": [
    "def mnist_distance(a, b):\n",
    "    # (a-b) is element wise subtraction; pytorch broadcasting! makes tensor code much easier to write\n",
    "    # broadcasting expands the element with the smaller rank to match the larger rank\n",
    "    # TODO : here a single scalar (a) is expanded to match array (b) ... but what if (a) is a vector?\n",
    "    # ANSWER : it actually accumulates tensor([1,2,3]) + tensor(1) + tensor(3) = tensor([5,6,7])\n",
    "    # Broadcasting is done in C on cpu or cuda on gpu and is 10ks or millions of times faster than python\n",
    "    # and is the most IMPORTANT feature of pytorch\n",
    "\n",
    "    # (-1, -2) is a tuple of x,y axes to sum over from shape (num of images (0 or -3 lol), x pixels(-2), y pixels(-1))\n",
    "    # In other words for every image we averaged the intensity of all pixels in each image using mean()\n",
    "    # TODO : assumes that tensor shape is 3 dimensional ... what if it is 4 dimensional? Track this implicitly?\n",
    "    return (a-b).abs().mean((-1, -2))\n",
    "\n",
    "valid_3_dist = mnist_distance(valid_3_tens, mean3)\n",
    "\n",
    "print(f'{mnist_distance(a_3, mean3)} distance between single image [3] and single [mean3] image')\n",
    "print(f'{valid_3_dist} \\n{valid_3_dist.shape} # shape of valid_3_dist')\n"
   ]
  },
  {
   "cell_type": "code",
   "execution_count": 31,
   "metadata": {},
   "outputs": [
    {
     "data": {
      "text/plain": [
       "tensor([True, True, True,  ..., True, True, True])"
      ]
     },
     "execution_count": 31,
     "metadata": {},
     "output_type": "execute_result"
    }
   ],
   "source": [
    "def is_3(x):\n",
    "    return mnist_distance(x, mean3) < mnist_distance(x, mean7)\n",
    "\n",
    "is_3(a_3), is_3(a_3).float() # type: ignore\n",
    "is_3(valid_3_tens) # with broadcasting we can check the entire validation set at once"
   ]
  },
  {
   "cell_type": "code",
   "execution_count": 32,
   "metadata": {},
   "outputs": [
    {
     "data": {
      "text/plain": [
       "(tensor(0.9168), tensor(0.9854), tensor(0.9511))"
      ]
     },
     "execution_count": 32,
     "metadata": {},
     "output_type": "execute_result"
    }
   ],
   "source": [
    "accuracy3s = is_3(valid_3_tens).float().mean()\n",
    "accuracy7s = (1-is_3(valid_7_tens).float()).mean()\n",
    "\n",
    "# Measuring distance between image and it's mean is a good way to classify images ...\n",
    "# but to LEARN we need a way for our model to IMPROVE when updated with MORE data (0-9, not just 3 and 7)\n",
    "# SGD - Stochastic Gradient Descent can test and improve (lift lol) models with WEIGHTS and BIAS\n",
    "accuracy3s, accuracy7s, (accuracy3s+accuracy7s)/2 # type: ignore"
   ]
  },
  {
   "cell_type": "code",
   "execution_count": 33,
   "metadata": {},
   "outputs": [
    {
     "data": {
      "text/plain": [
       "<matplotlib.collections.PathCollection at 0x17eca2520>"
      ]
     },
     "execution_count": 33,
     "metadata": {},
     "output_type": "execute_result"
    },
    {
     "data": {
      "image/png": "[encoded data removed]",
      "text/plain": [
       "<Figure size 432x288 with 1 Axes>"
      ]
     },
     "metadata": {
      "needs_background": "light"
     },
     "output_type": "display_data"
    }
   ],
   "source": [
    "# TODO : didn't know that fastbook was importable, copied search_images_bing string from their earlier lol\n",
    "from fastbook import plot_function\n",
    "import matplotlib.pyplot as plt\n",
    "\n",
    "def f(x):\n",
    "    return x**2\n",
    "\n",
    "plot_function(f, 'x', 'x**2')\n",
    "# f(-1.5) is the y value of the red dot\n",
    "plt.scatter(-1.5, f(-1.5), color='red')"
   ]
  },
  {
   "cell_type": "code",
   "execution_count": 34,
   "metadata": {},
   "outputs": [
    {
     "data": {
      "text/plain": [
       "tensor(9., grad_fn=<PowBackward0>)"
      ]
     },
     "execution_count": 34,
     "metadata": {},
     "output_type": "execute_result"
    }
   ],
   "source": [
    "from fastai.vision.data import torch, tensor\n",
    "\n",
    "# picking a value where we want gradients\n",
    "# requires_grad is tagging the value for pytorch to compute gradients for\n",
    "xt = tensor(3.).requires_grad_()\n",
    "# pytorch syntax is to focus on the arguments as opposed to the gradient function\n",
    "# Can be confusing because in math and science, \"gradient\" of a function is another\n",
    "# function (it's derivative)\n",
    "# But in deep learning \"gradient\" is the value of a function's derivative at a \n",
    "# particular argument value, NOT the (derivative) function used to compute the gradient\n",
    "# That's why pytorch uses \"requires_grad_()\" to tag the VALUE to compute\n",
    "# Different focus, but can feel backwards\n",
    "yt = f(xt)\n",
    "yt # type: ignore"
   ]
  },
  {
   "cell_type": "code",
   "execution_count": 35,
   "metadata": {},
   "outputs": [],
   "source": [
    "# TODO : running this twice errors out ... why?\n",
    "# ANSWER : because we are trying to run backward() on a tensor that has already been backwarded (?)\n",
    "# RuntimeError: Trying to backward through the graph a second time (or directly access saved tensors \n",
    "# after they have already been freed). Saved intermediate values of the graph are freed when you \n",
    "# call .backward() or autograd.grad(). Specify retain_graph=True if you need to backward through the \n",
    "# graph a second time or if you need to access saved tensors after calling backward.\n",
    "\n",
    "# Here we tell pytorch to calculate the gradient for us\n",
    "# \"backward\" refers to backpropagation, life would be easier if \"backward\" was just called \"calculate_grad\"\n",
    "yt.backward()"
   ]
  },
  {
   "cell_type": "code",
   "execution_count": 36,
   "metadata": {},
   "outputs": [
    {
     "data": {
      "text/plain": [
       "tensor(6.)"
      ]
     },
     "execution_count": 36,
     "metadata": {},
     "output_type": "execute_result"
    }
   ],
   "source": [
    "# we can now view the gradients by checking the grad attribute of our tensor\n",
    "# Derivative of x**2 is 2*x, and x=3 so the gradient should be 2*3 = 6\n",
    "xt.grad"
   ]
  },
  {
   "cell_type": "code",
   "execution_count": 37,
   "metadata": {},
   "outputs": [
    {
     "data": {
      "text/plain": [
       "tensor([ 3.,  4., 10.], requires_grad=True)"
      ]
     },
     "execution_count": 37,
     "metadata": {},
     "output_type": "execute_result"
    }
   ],
   "source": [
    "# apply pytorch gradient calculation to a vector instead of a scalar\n",
    "xt = tensor([3., 4., 10.]).requires_grad_()\n",
    "xt # type: ignore"
   ]
  },
  {
   "cell_type": "code",
   "execution_count": 38,
   "metadata": {},
   "outputs": [],
   "source": [
    "# update function with sum, so we take a vector (rank-1 tensor) and \n",
    "# return a scalar (rank-0 tensor)\n",
    "# TODO : clarify diff rank-1 and rank-0 vs dimensions\n",
    "def f_sum(x):\n",
    "    return (x**2).sum()"
   ]
  },
  {
   "cell_type": "code",
   "execution_count": 39,
   "metadata": {},
   "outputs": [
    {
     "data": {
      "text/plain": [
       "tensor(125., grad_fn=<SumBackward0>)"
      ]
     },
     "execution_count": 39,
     "metadata": {},
     "output_type": "execute_result"
    }
   ],
   "source": [
    "# TODO: rerunning without re-init xt tensor is accumulative, why?\n",
    "yt = f_sum(xt)\n",
    "yt # type: ignore"
   ]
  },
  {
   "cell_type": "code",
   "execution_count": 40,
   "metadata": {},
   "outputs": [
    {
     "data": {
      "text/plain": [
       "tensor([ 6.,  8., 20.])"
      ]
     },
     "execution_count": 40,
     "metadata": {},
     "output_type": "execute_result"
    }
   ],
   "source": [
    "yt.backward()\n",
    "xt.grad # type: ignore"
   ]
  },
  {
   "cell_type": "code",
   "execution_count": 41,
   "metadata": {},
   "outputs": [
    {
     "name": "stdout",
     "output_type": "stream",
     "text": [
      "time tensor([ 0.,  1.,  2.,  3.,  4.,  5.,  6.,  7.,  8.,  9., 10., 11., 12., 13., 14., 15., 16., 17., 18., 19.]) \n",
      "speed tensor([74.4682, 59.6494, 45.8897, 26.3709, 21.4131, 19.4225, 12.5899, 10.7294,  3.7551, -0.8724, -0.2926,  3.4120,  4.9926, 10.3128, 15.4328, 26.2671, 31.7583, 42.0004, 57.5977, 66.8227])\n"
     ]
    },
    {
     "data": {
      "text/plain": [
       "<matplotlib.collections.PathCollection at 0x17ed79d90>"
      ]
     },
     "execution_count": 41,
     "metadata": {},
     "output_type": "execute_result"
    },
    {
     "data": {
      "image/png": "[encoded data removed]",
      "text/plain": [
       "<Figure size 432x288 with 1 Axes>"
      ]
     },
     "metadata": {
      "needs_background": "light"
     },
     "output_type": "display_data"
    }
   ],
   "source": [
    "time = torch.arange(0, 20).float(); time #type: ignore\n",
    "# add noise because measuring things manually is not precise\n",
    "# this makes \"what's the roller coasters speed\" difficult to answer\n",
    "speed = torch.randn(20)*3 + 0.75 * (time-9.5)**2 +1\n",
    "print(f'time {time} \\nspeed {speed}')\n",
    "\n",
    "plt.scatter(time, speed)"
   ]
  },
  {
   "cell_type": "code",
   "execution_count": 42,
   "metadata": {},
   "outputs": [],
   "source": [
    "def f_approx_speed(t, params):\n",
    "    a, b, c = params\n",
    "    # we are guessing that approx speed is quadratic because we can't consider\n",
    "    # every possible function derivative\n",
    "    # TODO : why is QUADRATIC a good guess?\n",
    "    # ANSWER : quadratic simplifies the problem because it's fully defined by a,b,c?\n",
    "    # If not a given, how would I know this though lol\n",
    "    return a*(t**2) + (b*t)+c\n",
    "\n",
    "def mse(preds, targets):\n",
    "    return ((preds-targets)**2).mean().sqrt()\n"
   ]
  },
  {
   "cell_type": "code",
   "execution_count": 43,
   "metadata": {},
   "outputs": [
    {
     "name": "stdout",
     "output_type": "stream",
     "text": [
      "params: tensor([-0.7658, -0.7506,  1.3525], requires_grad=True) \n",
      "preds: tensor([ 1.3525e+00, -1.6391e-01, -3.2121e+00, -7.7919e+00, -1.3903e+01, -2.1547e+01, -3.0721e+01, -4.1428e+01, -5.3666e+01, -6.7436e+01, -8.2738e+01, -9.9571e+01, -1.1794e+02, -1.3783e+02,\n",
      "        -1.5926e+02, -1.8222e+02, -2.0671e+02, -2.3274e+02, -2.6029e+02, -2.8938e+02], grad_fn=<AddBackward0>) \n",
      "loss: 160.6978759765625 # random loss is very high\n"
     ]
    }
   ],
   "source": [
    "# Initialize parameters\n",
    "params = torch.randn(3).requires_grad_()\n",
    "# Calculate predictions\n",
    "preds = f_approx_speed(time, params)\n",
    "\n",
    "# calculate loss\n",
    "loss = mse(preds, speed)\n",
    "\n",
    "print(f'params: {params} \\npreds: {preds} \\nloss: {loss} # random loss is very high')"
   ]
  },
  {
   "cell_type": "code",
   "execution_count": 44,
   "metadata": {},
   "outputs": [
    {
     "data": {
      "image/png": "[encoded data removed]",
      "text/plain": [
       "<Figure size 432x288 with 1 Axes>"
      ]
     },
     "metadata": {
      "needs_background": "light"
     },
     "output_type": "display_data"
    }
   ],
   "source": [
    "from fastai.torch_core import to_np\n",
    "\n",
    "def show_preds(preds, ax=None):\n",
    "    if ax is None: ax=plt.subplots()[1]\n",
    "    ax.scatter(time, speed)\n",
    "    ax.scatter(time, to_np(preds), color='red') # type: ignore convert tensor to numpy array\n",
    "    ax.set_ylim(-300, 100)\n",
    "\n",
    "# when we graph the random predictions, it looks like our roller coaster is\n",
    "# going backwards lol\n",
    "show_preds(preds)"
   ]
  },
  {
   "cell_type": "code",
   "execution_count": 45,
   "metadata": {},
   "outputs": [
    {
     "data": {
      "text/plain": [
       "tensor([-165.5151,  -10.6402,   -0.7900])"
      ]
     },
     "execution_count": 45,
     "metadata": {},
     "output_type": "execute_result"
    }
   ],
   "source": [
    "# calculate the gradient, or an approximation of how the parameters need to change\n",
    "loss.backward()\n",
    "params.grad\n"
   ]
  },
  {
   "cell_type": "code",
   "execution_count": 46,
   "metadata": {},
   "outputs": [
    {
     "data": {
      "text/plain": [
       "tensor([-1.6552e-03, -1.0640e-04, -7.8996e-06])"
      ]
     },
     "execution_count": 46,
     "metadata": {},
     "output_type": "execute_result"
    }
   ],
   "source": [
    "params.grad * 1e-5 # type: ignore 1e-5 = 0.00001"
   ]
  },
  {
   "cell_type": "code",
   "execution_count": 47,
   "metadata": {},
   "outputs": [
    {
     "data": {
      "text/plain": [
       "tensor([-0.7658, -0.7506,  1.3525], requires_grad=True)"
      ]
     },
     "execution_count": 47,
     "metadata": {},
     "output_type": "execute_result"
    }
   ],
   "source": [
    "params"
   ]
  },
  {
   "cell_type": "code",
   "execution_count": 48,
   "metadata": {},
   "outputs": [],
   "source": [
    "# step the weights in the direction of the gradient\n",
    "lr = 1e-5\n",
    "params.data -= lr * params.grad.data # type: ignore\n",
    "params.grad = None # type: ignore\n"
   ]
  },
  {
   "cell_type": "code",
   "execution_count": 49,
   "metadata": {},
   "outputs": [
    {
     "data": {
      "text/plain": [
       "tensor(160.4228, grad_fn=<SqrtBackward0>)"
      ]
     },
     "execution_count": 49,
     "metadata": {},
     "output_type": "execute_result"
    }
   ],
   "source": [
    "preds = f_approx_speed(time, params)\n",
    "mse(preds, speed)"
   ]
  },
  {
   "cell_type": "code",
   "execution_count": 50,
   "metadata": {},
   "outputs": [
    {
     "data": {
      "image/png": "[encoded data removed]",
      "text/plain": [
       "<Figure size 432x288 with 1 Axes>"
      ]
     },
     "metadata": {
      "needs_background": "light"
     },
     "output_type": "display_data"
    }
   ],
   "source": [
    "show_preds(preds)"
   ]
  },
  {
   "cell_type": "code",
   "execution_count": 51,
   "metadata": {},
   "outputs": [],
   "source": [
    "def apply_step(params, prn=True):\n",
    "    preds = f_approx_speed(time, params)\n",
    "    loss = mse(preds, speed)\n",
    "    loss.backward()\n",
    "    lr = 1e-3 # TODO : why is this a good learning rate? brute force p-hacked \n",
    "              # from 1e-5 => 1e-3\n",
    "    params.data -= lr * params.grad.data\n",
    "    params.grad = None\n",
    "    if prn : \n",
    "        print(f'apply_step : loss.item => {loss.item()} params.data => {params.data}')\n",
    "    return preds"
   ]
  },
  {
   "cell_type": "code",
   "execution_count": 52,
   "metadata": {},
   "outputs": [
    {
     "data": {
      "text/plain": [
       "'\\nfor i in range(10):\\n    preds = apply_step(params)\\n'"
      ]
     },
     "execution_count": 52,
     "metadata": {},
     "output_type": "execute_result"
    }
   ],
   "source": [
    "# repeat the process\n",
    "'''\n",
    "for i in range(10):\n",
    "    preds = apply_step(params)\n",
    "'''"
   ]
  },
  {
   "cell_type": "code",
   "execution_count": 53,
   "metadata": {},
   "outputs": [
    {
     "name": "stdout",
     "output_type": "stream",
     "text": [
      "apply_step : loss.item => 160.42279052734375 params.data => tensor([-0.5987, -0.7399,  1.3533])\n",
      "apply_step : loss.item => 132.9931182861328 params.data => tensor([-0.4342, -0.7293,  1.3541])\n",
      "apply_step : loss.item => 105.96342468261719 params.data => tensor([-0.2716, -0.7188,  1.3550])\n",
      "apply_step : loss.item => 79.701171875 params.data => tensor([-0.1131, -0.7086,  1.3558])\n"
     ]
    },
    {
     "data": {
      "image/png": "[encoded data removed]",
      "text/plain": [
       "<Figure size 864x216 with 4 Axes>"
      ]
     },
     "metadata": {
      "needs_background": "light"
     },
     "output_type": "display_data"
    }
   ],
   "source": [
    "_,axs = plt.subplots(1, 4, figsize=(12,3))\n",
    "for ax in axs:\n",
    "    show_preds(apply_step(params, True), ax)\n",
    "# TODO : why doen't this show a larger convergence? why does it look like it's still\n",
    "# Answer : needed to comment out # repeat the process cell\n",
    "plt.tight_layout()"
   ]
  },
  {
   "cell_type": "code",
   "execution_count": 54,
   "metadata": {},
   "outputs": [
    {
     "name": "stdout",
     "output_type": "stream",
     "text": [
      "train_x.shape torch.Size([12396, 784]) train_y.shape torch.Size([12396, 1])\n",
      "threes 6131 sevens 6265\n",
      "x.shape torch.Size([784]) y tensor([1])\n"
     ]
    }
   ],
   "source": [
    "# MNIST Loss Function\n",
    "# The MNIST images ar our x (the independent variable)\n",
    "# Let's concanete all the 3s and all the 7s into a single tensor\n",
    "# And format them from a rank-3 tensor (list of matrices) to a \n",
    "# rank-2 tensor (a list of vectors)\n",
    "# .view is a Pytorch that changes tensor shape without content changes\n",
    "# -1 is a special parameter that \"make this axis as big as necessary to fit all \n",
    "# the data\"\n",
    "train_x = torch.cat([stacked_threes, stacked_sevens]).view(-1, 28*28)\n",
    "\n",
    "# create a tensor of labels for the images, we'll use 1 for 3s and 0 for 7s\n",
    "# unsqueeze adds a dimension of size 1 at the specified index ... \n",
    "# Ah ... [1]*len(threes) generate a 6131 list of 1s and [0]*len(sevens) \n",
    "# generates a 6265 list of 0s ... \n",
    "# TODO : why is this a list of 1s and 0s?\n",
    "# ANSWER : because we only have 2 classes, 3s and 7s, and are hashing to 0 or 1\n",
    "train_y = tensor([1]*len(threes) + [0]*len(sevens)).unsqueeze(1)\n",
    "print(f'train_x.shape {train_x.shape} train_y.shape {train_y.shape}')\n",
    "print(f'threes {len(threes)} sevens {len(sevens)}')\n",
    "\n",
    "\n",
    "dset = list(zip(train_x, train_y))\n",
    "x,y = dset[0]\n",
    "print(f'x.shape {x.shape} y {y}')\n",
    "\n",
    "valid_x = torch.cat([valid_3_tens, valid_7_tens]).view(-1, 28*28)\n",
    "valid_y = tensor([1]*len(valid_3_tens) + [0]*len(valid_7_tens)).unsqueeze(1)\n",
    "valid_dset = list(zip(valid_x, valid_y))\n"
   ]
  },
  {
   "cell_type": "code",
   "execution_count": 55,
   "metadata": {},
   "outputs": [],
   "source": [
    "# MNIST Initialize Weights\n",
    "def init_params(size, std=1.0):\n",
    "    return (torch.randn(size)*std).requires_grad_()\n",
    "\n",
    "# line is y= (weights * x) + bias // where x = each MNIST image\n",
    "# together weights and bias makeup the parameters, so we need to initialize them\n",
    "weights = init_params((28*28, 1))\n",
    "bias = init_params(1)"
   ]
  },
  {
   "cell_type": "code",
   "execution_count": 56,
   "metadata": {},
   "outputs": [
    {
     "data": {
      "text/plain": [
       "tensor([20.2336], grad_fn=<AddBackward0>)"
      ]
     },
     "execution_count": 56,
     "metadata": {},
     "output_type": "execute_result"
    }
   ],
   "source": [
    "(train_x[0] * weights.T).sum() + bias #type: ignore"
   ]
  },
  {
   "cell_type": "code",
   "execution_count": 57,
   "metadata": {},
   "outputs": [
    {
     "name": "stdout",
     "output_type": "stream",
     "text": [
      "tensor([[20.2336],\n",
      "        [17.0644],\n",
      "        [15.2384],\n",
      "        ...,\n",
      "        [18.3804],\n",
      "        [23.8567],\n",
      "        [28.6816]], grad_fn=<AddBackward0>)\n"
     ]
    }
   ],
   "source": [
    "def linear1(xb):\n",
    "    # @ is matrix multiplication in Python\n",
    "    return xb@weights + bias # type: ignore\n",
    "\n",
    "preds = linear1(train_x)\n",
    "print(f'{preds}')"
   ]
  },
  {
   "cell_type": "code",
   "execution_count": 58,
   "metadata": {},
   "outputs": [
    {
     "name": "stdout",
     "output_type": "stream",
     "text": [
      "tensor([[ True],\n",
      "        [ True],\n",
      "        [ True],\n",
      "        ...,\n",
      "        [False],\n",
      "        [False],\n",
      "        [False]])\n",
      "0.4912068545818329 # mean of corrects is the accuracy\n"
     ]
    }
   ],
   "source": [
    "corrects = (preds>0.0).float() == train_y\n",
    "print(f'{corrects}')\n",
    "print(f'{corrects.float().mean()} # mean of corrects is the accuracy')\n",
    "\n",
    "# what happens when there is a small change in the weights?\n",
    "# TODO : to prevent leaf variable error ... why?\n",
    "# Commenting out weight in place of weights[0] does not work ... figure out later\n",
    "# weights[0] *= 1.0001\n"
   ]
  },
  {
   "cell_type": "code",
   "execution_count": 59,
   "metadata": {},
   "outputs": [
    {
     "name": "stdout",
     "output_type": "stream",
     "text": [
      "0.4912068545818329 # after small change in weights\n"
     ]
    }
   ],
   "source": [
    "preds = linear1(train_x)\n",
    "# TODO : why is this not the same as the previous corrects? ... also true in book\n",
    "print(f'{((preds>0.0).float() == train_y).float().mean()} # after small change in weights')"
   ]
  },
  {
   "cell_type": "code",
   "execution_count": 60,
   "metadata": {},
   "outputs": [
    {
     "data": {
      "image/png": "[encoded data removed]",
      "text/plain": [
       "<Figure size 432x288 with 1 Axes>"
      ]
     },
     "metadata": {
      "needs_background": "light"
     },
     "output_type": "display_data"
    }
   ],
   "source": [
    "def mnist_loss(predictions, targets):\n",
    "    predictions = predictions.sigmoid()\n",
    "    return torch.where(targets==1, 1-predictions, predictions).mean()\n",
    "\n",
    "def sigmoid(x):\n",
    "    return 1/(1+torch.exp(-x))\n",
    "\n",
    "plot_function(torch.sigmoid, title='Sigmoid', min=-4, max=4)"
   ]
  },
  {
   "cell_type": "code",
   "execution_count": 61,
   "metadata": {},
   "outputs": [
    {
     "data": {
      "text/plain": [
       "tensor(0.3993)"
      ]
     },
     "execution_count": 61,
     "metadata": {},
     "output_type": "execute_result"
    }
   ],
   "source": [
    "trgts = tensor([1,0,1])\n",
    "preds = tensor([0.9, 0.4, 0.2])\n",
    "\n",
    "torch.where(trgts==1, 1-preds, preds)\n",
    "mnist_loss(preds, trgts)\n",
    "mnist_loss(tensor([0.9, 0.4, 0.8]), trgts)"
   ]
  },
  {
   "cell_type": "code",
   "execution_count": 62,
   "metadata": {},
   "outputs": [
    {
     "data": {
      "text/plain": [
       "[tensor([ 3, 12,  8, 10,  2]),\n",
       " tensor([ 9,  4,  7, 14,  5]),\n",
       " tensor([ 1, 13,  0,  6, 11])]"
      ]
     },
     "execution_count": 62,
     "metadata": {},
     "output_type": "execute_result"
    }
   ],
   "source": [
    "from fastai.vision.data import DataLoader\n",
    "# Optimization step for SGD\n",
    "coll = range(15)\n",
    "dl = DataLoader(coll, batch_size=5, shuffle=True)\n",
    "list(dl)"
   ]
  },
  {
   "cell_type": "code",
   "execution_count": 63,
   "metadata": {},
   "outputs": [
    {
     "data": {
      "text/plain": [
       "(#26) [(0, 'a'),(1, 'b'),(2, 'c'),(3, 'd'),(4, 'e'),(5, 'f'),(6, 'g'),(7, 'h'),(8, 'i'),(9, 'j')...]"
      ]
     },
     "execution_count": 63,
     "metadata": {},
     "output_type": "execute_result"
    }
   ],
   "source": [
    "from fastai.vision.data import L, string\n",
    "ds = L(enumerate(string.ascii_lowercase))\n",
    "ds"
   ]
  },
  {
   "cell_type": "code",
   "execution_count": 64,
   "metadata": {},
   "outputs": [
    {
     "data": {
      "text/plain": [
       "[(tensor([17, 18, 10, 22,  8, 14]), ('r', 's', 'k', 'w', 'i', 'o')),\n",
       " (tensor([20, 15,  9, 13, 21, 12]), ('u', 'p', 'j', 'n', 'v', 'm')),\n",
       " (tensor([ 7, 25,  6,  5, 11, 23]), ('h', 'z', 'g', 'f', 'l', 'x')),\n",
       " (tensor([ 1,  3,  0, 24, 19, 16]), ('b', 'd', 'a', 'y', 't', 'q')),\n",
       " (tensor([2, 4]), ('c', 'e'))]"
      ]
     },
     "execution_count": 64,
     "metadata": {},
     "output_type": "execute_result"
    }
   ],
   "source": [
    "dl = DataLoader(ds, batch_size=6, shuffle=True)\n",
    "list(dl)"
   ]
  },
  {
   "cell_type": "code",
   "execution_count": 65,
   "metadata": {},
   "outputs": [
    {
     "data": {
      "text/plain": [
       "(torch.Size([256, 784]), torch.Size([256, 1]))"
      ]
     },
     "execution_count": 65,
     "metadata": {},
     "output_type": "execute_result"
    }
   ],
   "source": [
    "from fastai.vision.data import first\n",
    "'''\n",
    "for x,y in dl:\n",
    "    pred = model(x)\n",
    "    loss = loss_func(pred, y)\n",
    "    loss.backward()\n",
    "    parameters -= parameters.grad * lr\n",
    "'''\n",
    "\n",
    "weights = init_params(28*28, 1)\n",
    "bias = init_params(1)\n",
    "\n",
    "dl = DataLoader(dset, batch_size=256)\n",
    "xb,yb = first(dl) #type: ignore\n",
    "xb.shape, yb.shape"
   ]
  },
  {
   "cell_type": "code",
   "execution_count": 66,
   "metadata": {},
   "outputs": [],
   "source": [
    "# setup validation set\n",
    "valid_dl = DataLoader(valid_dset, batch_size=256)"
   ]
  },
  {
   "cell_type": "code",
   "execution_count": 67,
   "metadata": {},
   "outputs": [
    {
     "data": {
      "text/plain": [
       "tensor([-2.1876, -8.3973,  2.5000, -4.9473], grad_fn=<AddBackward0>)"
      ]
     },
     "execution_count": 67,
     "metadata": {},
     "output_type": "execute_result"
    }
   ],
   "source": [
    "batch = train_x[:4]\n",
    "batch.shape\n",
    "\n",
    "torch.Size([4, 784])\n",
    "preds = linear1(batch)\n",
    "preds"
   ]
  },
  {
   "cell_type": "code",
   "execution_count": 68,
   "metadata": {},
   "outputs": [
    {
     "data": {
      "text/plain": [
       "tensor(0.7419, grad_fn=<MeanBackward0>)"
      ]
     },
     "execution_count": 68,
     "metadata": {},
     "output_type": "execute_result"
    }
   ],
   "source": [
    "loss = mnist_loss(preds, train_y[:4])\n",
    "loss"
   ]
  },
  {
   "cell_type": "code",
   "execution_count": 69,
   "metadata": {},
   "outputs": [
    {
     "data": {
      "text/plain": [
       "(torch.Size([784]), tensor(-0.0061), tensor([-0.0420]))"
      ]
     },
     "execution_count": 69,
     "metadata": {},
     "output_type": "execute_result"
    }
   ],
   "source": [
    "loss.backward()\n",
    "weights.grad.shape, weights.grad.mean(), bias.grad # type: ignore"
   ]
  },
  {
   "cell_type": "code",
   "execution_count": 70,
   "metadata": {},
   "outputs": [],
   "source": [
    "def calc_grad(xb, yb, model):\n",
    "    preds = model(xb)\n",
    "    loss = mnist_loss(preds, yb)\n",
    "    loss.backward()"
   ]
  },
  {
   "cell_type": "code",
   "execution_count": 72,
   "metadata": {},
   "outputs": [
    {
     "data": {
      "text/plain": [
       "tensor([0.])"
      ]
     },
     "execution_count": 72,
     "metadata": {},
     "output_type": "execute_result"
    }
   ],
   "source": [
    "# NOTE : fastai functions with _ are inplace => zero_()\n",
    "weights.grad.zero_()\n",
    "bias.grad.zero_()"
   ]
  },
  {
   "cell_type": "code",
   "execution_count": 73,
   "metadata": {},
   "outputs": [
    {
     "data": {
      "text/plain": [
       "(tensor(-0.0061), tensor([-0.0420]))"
      ]
     },
     "execution_count": 73,
     "metadata": {},
     "output_type": "execute_result"
    }
   ],
   "source": [
    "calc_grad(batch, train_y[:4], linear1)\n",
    "weights.grad.mean(), bias.grad # type: ignore"
   ]
  },
  {
   "cell_type": "code",
   "execution_count": 74,
   "metadata": {},
   "outputs": [
    {
     "data": {
      "text/plain": [
       "tensor([[False, False,  True, False],\n",
       "        [False, False,  True, False],\n",
       "        [False, False,  True, False],\n",
       "        [False, False,  True, False]])"
      ]
     },
     "execution_count": 74,
     "metadata": {},
     "output_type": "execute_result"
    }
   ],
   "source": [
    "def train_epoch(model, lr, params):\n",
    "    for xb, yb in dl:\n",
    "        calc_grad(xb, yb, model)\n",
    "        for p in params:\n",
    "            p.data -= p.grad * lr\n",
    "            p.grad.zero_()\n",
    "\n",
    "(preds>0.5).float() == train_y[:4]"
   ]
  },
  {
   "cell_type": "code",
   "execution_count": 75,
   "metadata": {},
   "outputs": [],
   "source": [
    "def batch_accuracy(xb, yb):\n",
    "    preds = xb.sigmoid()\n",
    "    correct = (preds>0.5).float() == yb\n",
    "    return correct.float().mean()"
   ]
  },
  {
   "cell_type": "code",
   "execution_count": 76,
   "metadata": {},
   "outputs": [
    {
     "data": {
      "text/plain": [
       "tensor(0.2500)"
      ]
     },
     "execution_count": 76,
     "metadata": {},
     "output_type": "execute_result"
    }
   ],
   "source": [
    "batch_accuracy(linear1(batch), train_y[:4])"
   ]
  },
  {
   "cell_type": "code",
   "execution_count": 77,
   "metadata": {},
   "outputs": [],
   "source": [
    "def validate_epoch(model):\n",
    "    accs = [batch_accuracy(model(xb), yb) for xb, yb in valid_dl]\n",
    "    return round(torch.stack(accs).mean().item(), 4)"
   ]
  },
  {
   "cell_type": "code",
   "execution_count": 78,
   "metadata": {},
   "outputs": [
    {
     "data": {
      "text/plain": [
       "0.5247"
      ]
     },
     "execution_count": 78,
     "metadata": {},
     "output_type": "execute_result"
    }
   ],
   "source": [
    "validate_epoch(linear1)"
   ]
  },
  {
   "cell_type": "code",
   "execution_count": 79,
   "metadata": {},
   "outputs": [
    {
     "data": {
      "text/plain": [
       "0.6675"
      ]
     },
     "execution_count": 79,
     "metadata": {},
     "output_type": "execute_result"
    }
   ],
   "source": [
    "lr = 1.\n",
    "params = weights, bias\n",
    "train_epoch(linear1, lr, params)\n",
    "validate_epoch(linear1)"
   ]
  },
  {
   "cell_type": "code",
   "execution_count": 80,
   "metadata": {},
   "outputs": [
    {
     "name": "stdout",
     "output_type": "stream",
     "text": [
      "epoch 0 0.8205\n",
      "epoch 1 0.8786\n",
      "epoch 2 0.9075\n",
      "epoch 3 0.9166\n",
      "epoch 4 0.9285\n",
      "epoch 5 0.9343\n",
      "epoch 6 0.9372\n",
      "epoch 7 0.9405\n",
      "epoch 8 0.9438\n",
      "epoch 9 0.9457\n",
      "epoch 10 0.9471\n",
      "epoch 11 0.9486\n",
      "epoch 12 0.9491\n",
      "epoch 13 0.9496\n",
      "epoch 14 0.951\n",
      "epoch 15 0.9515\n",
      "epoch 16 0.9524\n",
      "epoch 17 0.9539\n",
      "epoch 18 0.9543\n",
      "epoch 19 0.9538\n"
     ]
    }
   ],
   "source": [
    "for i in range(20):\n",
    "    train_epoch(linear1, lr, params)\n",
    "    print(f'epoch {i} {validate_epoch(linear1)}')"
   ]
  },
  {
   "cell_type": "code",
   "execution_count": 81,
   "metadata": {},
   "outputs": [
    {
     "data": {
      "text/plain": [
       "(torch.Size([1, 784]), torch.Size([1]))"
      ]
     },
     "execution_count": 81,
     "metadata": {},
     "output_type": "execute_result"
    }
   ],
   "source": [
    "from fastai.vision.data import nn\n",
    "\n",
    "linear_model = nn.Linear(28*28, 1)\n",
    "w,b = linear_model.parameters()\n",
    "w.shape, b.shape"
   ]
  },
  {
   "cell_type": "code",
   "execution_count": 82,
   "metadata": {},
   "outputs": [],
   "source": [
    "class BasicOptim:\n",
    "    def __init__(self, params, lr):\n",
    "        self.params, self.lr = list(params), lr\n",
    "\n",
    "    def step(self, *args, **kwargs):\n",
    "        for p in self.params:\n",
    "            p.data -= p.grad.data * self.lr\n",
    "\n",
    "    def zero_grad(self, *args, **kwargs):\n",
    "        for p in self.params:\n",
    "            p.grad = None"
   ]
  },
  {
   "cell_type": "code",
   "execution_count": 84,
   "metadata": {},
   "outputs": [],
   "source": [
    "opt = BasicOptim(linear_model.parameters(), lr)"
   ]
  },
  {
   "cell_type": "code",
   "execution_count": 86,
   "metadata": {},
   "outputs": [],
   "source": [
    "def train_epoch(model):\n",
    "    for xb, yb in dl:\n",
    "        calc_grad(xb, yb, model)\n",
    "        opt.step()\n",
    "        opt.zero_grad()"
   ]
  },
  {
   "cell_type": "code",
   "execution_count": 87,
   "metadata": {},
   "outputs": [
    {
     "data": {
      "text/plain": [
       "0.4606"
      ]
     },
     "execution_count": 87,
     "metadata": {},
     "output_type": "execute_result"
    }
   ],
   "source": [
    "validate_epoch(linear_model)"
   ]
  },
  {
   "cell_type": "code",
   "execution_count": 88,
   "metadata": {},
   "outputs": [],
   "source": [
    "def train_model(model, epochs):\n",
    "    for i in range(epochs):\n",
    "        train_epoch(model)\n",
    "        print(f' epoch {i} {validate_epoch(model)}')"
   ]
  },
  {
   "cell_type": "code",
   "execution_count": 89,
   "metadata": {},
   "outputs": [
    {
     "name": "stdout",
     "output_type": "stream",
     "text": [
      " epoch 0 0.4932\n",
      " epoch 1 0.7686\n",
      " epoch 2 0.8554\n",
      " epoch 3 0.9136\n",
      " epoch 4 0.9346\n",
      " epoch 5 0.9482\n",
      " epoch 6 0.957\n",
      " epoch 7 0.9634\n",
      " epoch 8 0.9658\n",
      " epoch 9 0.9678\n",
      " epoch 10 0.9697\n",
      " epoch 11 0.9717\n",
      " epoch 12 0.9736\n",
      " epoch 13 0.9746\n",
      " epoch 14 0.9761\n",
      " epoch 15 0.977\n",
      " epoch 16 0.9775\n",
      " epoch 17 0.9775\n",
      " epoch 18 0.978\n",
      " epoch 19 0.9785\n"
     ]
    }
   ],
   "source": [
    "train_model(linear_model, 20)"
   ]
  },
  {
   "cell_type": "code",
   "execution_count": 90,
   "metadata": {},
   "outputs": [
    {
     "name": "stdout",
     "output_type": "stream",
     "text": [
      " epoch 0 0.4932\n",
      " epoch 1 0.8179\n",
      " epoch 2 0.8496\n",
      " epoch 3 0.914\n",
      " epoch 4 0.9346\n",
      " epoch 5 0.9482\n",
      " epoch 6 0.957\n",
      " epoch 7 0.9619\n",
      " epoch 8 0.9658\n",
      " epoch 9 0.9673\n",
      " epoch 10 0.9692\n",
      " epoch 11 0.9712\n",
      " epoch 12 0.9741\n",
      " epoch 13 0.9751\n",
      " epoch 14 0.9761\n",
      " epoch 15 0.9775\n",
      " epoch 16 0.9775\n",
      " epoch 17 0.978\n",
      " epoch 18 0.9785\n",
      " epoch 19 0.979\n"
     ]
    }
   ],
   "source": [
    "from fastai.vision.learner import SGD\n",
    "\n",
    "linear_model = nn.Linear(28*28, 1)\n",
    "opt = SGD(linear_model.parameters(), lr)\n",
    "train_model(linear_model, 20)"
   ]
  },
  {
   "cell_type": "code",
   "execution_count": 91,
   "metadata": {},
   "outputs": [
    {
     "data": {
      "text/html": [
       "\n",
       "<style>\n",
       "    /* Turns off some styling */\n",
       "    progress {\n",
       "        /* gets rid of default border in Firefox and Opera. */\n",
       "        border: none;\n",
       "        /* Needs to be in here for Safari polyfill so background images work as expected. */\n",
       "        background-size: auto;\n",
       "    }\n",
       "    progress:not([value]), progress:not([value])::-webkit-progress-bar {\n",
       "        background: repeating-linear-gradient(45deg, #7e7e7e, #7e7e7e 10px, #5c5c5c 10px, #5c5c5c 20px);\n",
       "    }\n",
       "    .progress-bar-interrupted, .progress-bar-interrupted::-webkit-progress-bar {\n",
       "        background: #F44336;\n",
       "    }\n",
       "</style>\n"
      ],
      "text/plain": [
       "<IPython.core.display.HTML object>"
      ]
     },
     "metadata": {},
     "output_type": "display_data"
    },
    {
     "data": {
      "text/html": [
       "<table border=\"1\" class=\"dataframe\">\n",
       "  <thead>\n",
       "    <tr style=\"text-align: left;\">\n",
       "      <th>epoch</th>\n",
       "      <th>train_loss</th>\n",
       "      <th>valid_loss</th>\n",
       "      <th>batch_accuracy</th>\n",
       "      <th>time</th>\n",
       "    </tr>\n",
       "  </thead>\n",
       "  <tbody>\n",
       "    <tr>\n",
       "      <td>0</td>\n",
       "      <td>0.636709</td>\n",
       "      <td>0.503144</td>\n",
       "      <td>0.495584</td>\n",
       "      <td>00:00</td>\n",
       "    </tr>\n",
       "    <tr>\n",
       "      <td>1</td>\n",
       "      <td>0.429828</td>\n",
       "      <td>0.248517</td>\n",
       "      <td>0.777233</td>\n",
       "      <td>00:00</td>\n",
       "    </tr>\n",
       "    <tr>\n",
       "      <td>2</td>\n",
       "      <td>0.161680</td>\n",
       "      <td>0.155361</td>\n",
       "      <td>0.861629</td>\n",
       "      <td>00:00</td>\n",
       "    </tr>\n",
       "    <tr>\n",
       "      <td>3</td>\n",
       "      <td>0.072948</td>\n",
       "      <td>0.097722</td>\n",
       "      <td>0.917566</td>\n",
       "      <td>00:00</td>\n",
       "    </tr>\n",
       "    <tr>\n",
       "      <td>4</td>\n",
       "      <td>0.040128</td>\n",
       "      <td>0.073205</td>\n",
       "      <td>0.936212</td>\n",
       "      <td>00:00</td>\n",
       "    </tr>\n",
       "    <tr>\n",
       "      <td>5</td>\n",
       "      <td>0.027210</td>\n",
       "      <td>0.059466</td>\n",
       "      <td>0.950442</td>\n",
       "      <td>00:00</td>\n",
       "    </tr>\n",
       "    <tr>\n",
       "      <td>6</td>\n",
       "      <td>0.021837</td>\n",
       "      <td>0.050799</td>\n",
       "      <td>0.957802</td>\n",
       "      <td>00:00</td>\n",
       "    </tr>\n",
       "    <tr>\n",
       "      <td>7</td>\n",
       "      <td>0.019398</td>\n",
       "      <td>0.044980</td>\n",
       "      <td>0.964181</td>\n",
       "      <td>00:00</td>\n",
       "    </tr>\n",
       "    <tr>\n",
       "      <td>8</td>\n",
       "      <td>0.018122</td>\n",
       "      <td>0.040853</td>\n",
       "      <td>0.966143</td>\n",
       "      <td>00:00</td>\n",
       "    </tr>\n",
       "    <tr>\n",
       "      <td>9</td>\n",
       "      <td>0.017330</td>\n",
       "      <td>0.037788</td>\n",
       "      <td>0.968106</td>\n",
       "      <td>00:00</td>\n",
       "    </tr>\n",
       "    <tr>\n",
       "      <td>10</td>\n",
       "      <td>0.016759</td>\n",
       "      <td>0.035419</td>\n",
       "      <td>0.969578</td>\n",
       "      <td>00:00</td>\n",
       "    </tr>\n",
       "    <tr>\n",
       "      <td>11</td>\n",
       "      <td>0.016304</td>\n",
       "      <td>0.033521</td>\n",
       "      <td>0.972031</td>\n",
       "      <td>00:00</td>\n",
       "    </tr>\n",
       "    <tr>\n",
       "      <td>12</td>\n",
       "      <td>0.015923</td>\n",
       "      <td>0.031959</td>\n",
       "      <td>0.973994</td>\n",
       "      <td>00:00</td>\n",
       "    </tr>\n",
       "    <tr>\n",
       "      <td>13</td>\n",
       "      <td>0.015598</td>\n",
       "      <td>0.030645</td>\n",
       "      <td>0.974485</td>\n",
       "      <td>00:00</td>\n",
       "    </tr>\n",
       "    <tr>\n",
       "      <td>14</td>\n",
       "      <td>0.015319</td>\n",
       "      <td>0.029526</td>\n",
       "      <td>0.975957</td>\n",
       "      <td>00:00</td>\n",
       "    </tr>\n",
       "    <tr>\n",
       "      <td>15</td>\n",
       "      <td>0.015077</td>\n",
       "      <td>0.028563</td>\n",
       "      <td>0.976938</td>\n",
       "      <td>00:00</td>\n",
       "    </tr>\n",
       "    <tr>\n",
       "      <td>16</td>\n",
       "      <td>0.014865</td>\n",
       "      <td>0.027728</td>\n",
       "      <td>0.977429</td>\n",
       "      <td>00:00</td>\n",
       "    </tr>\n",
       "    <tr>\n",
       "      <td>17</td>\n",
       "      <td>0.014677</td>\n",
       "      <td>0.026998</td>\n",
       "      <td>0.977920</td>\n",
       "      <td>00:00</td>\n",
       "    </tr>\n",
       "    <tr>\n",
       "      <td>18</td>\n",
       "      <td>0.014509</td>\n",
       "      <td>0.026355</td>\n",
       "      <td>0.977920</td>\n",
       "      <td>00:00</td>\n",
       "    </tr>\n",
       "    <tr>\n",
       "      <td>19</td>\n",
       "      <td>0.014356</td>\n",
       "      <td>0.025785</td>\n",
       "      <td>0.978410</td>\n",
       "      <td>00:00</td>\n",
       "    </tr>\n",
       "  </tbody>\n",
       "</table>"
      ],
      "text/plain": [
       "<IPython.core.display.HTML object>"
      ]
     },
     "metadata": {},
     "output_type": "display_data"
    }
   ],
   "source": [
    "from fastai.vision.learner import DataLoaders, Learner, SGD\n",
    "\n",
    "dls = DataLoaders(dl, valid_dl)\n",
    "learn = Learner(dls, nn.Linear(28*28, 1), opt_func=SGD, loss_func=mnist_loss, metrics=batch_accuracy) # type: ignore\n",
    "learn.fit(20, lr=lr)"
   ]
  }
 ],
 "metadata": {
  "kernelspec": {
   "display_name": "Python 3.9.13 ('torch-gpu')",
   "language": "python",
   "name": "python3"
  },
  "language_info": {
   "codemirror_mode": {
    "name": "ipython",
    "version": 3
   },
   "file_extension": ".py",
   "mimetype": "text/x-python",
   "name": "python",
   "nbconvert_exporter": "python",
   "pygments_lexer": "ipython3",
   "version": "3.9.13"
  },
  "orig_nbformat": 4,
  "vscode": {
   "interpreter": {
    "hash": "0203b3654eb8bc60da03d36108deed569263a68c1ed718ab77fdacb38634fa76"
   }
  }
 },
 "nbformat": 4,
 "nbformat_minor": 2
}
