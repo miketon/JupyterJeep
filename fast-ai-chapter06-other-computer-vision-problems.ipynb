{
 "cells": [
  {
   "cell_type": "code",
   "execution_count": 1,
   "metadata": {},
   "outputs": [
    {
     "data": {
      "text/html": [
       "\n",
       "<style>\n",
       "    /* Turns off some styling */\n",
       "    progress {\n",
       "        /* gets rid of default border in Firefox and Opera. */\n",
       "        border: none;\n",
       "        /* Needs to be in here for Safari polyfill so background images work as expected. */\n",
       "        background-size: auto;\n",
       "    }\n",
       "    progress:not([value]), progress:not([value])::-webkit-progress-bar {\n",
       "        background: repeating-linear-gradient(45deg, #7e7e7e, #7e7e7e 10px, #5c5c5c 10px, #5c5c5c 20px);\n",
       "    }\n",
       "    .progress-bar-interrupted, .progress-bar-interrupted::-webkit-progress-bar {\n",
       "        background: #F44336;\n",
       "    }\n",
       "</style>\n"
      ],
      "text/plain": [
       "<IPython.core.display.HTML object>"
      ]
     },
     "metadata": {},
     "output_type": "display_data"
    },
    {
     "data": {
      "text/html": [
       "\n",
       "    <div>\n",
       "      <progress value='1637801984' class='' max='1637796771' style='width:300px; height:20px; vertical-align: middle;'></progress>\n",
       "      100.00% [1637801984/1637796771 14:25&lt;00:00]\n",
       "    </div>\n",
       "    "
      ],
      "text/plain": [
       "<IPython.core.display.HTML object>"
      ]
     },
     "metadata": {},
     "output_type": "display_data"
    }
   ],
   "source": [
    "from fastai.vision.utils import untar_data, URLs\n",
    "# PASCAL dataset can have more than one label per image\n",
    "path = untar_data(URLs.PASCAL_2007)"
   ]
  },
  {
   "cell_type": "code",
   "execution_count": 2,
   "metadata": {},
   "outputs": [
    {
     "data": {
      "text/html": [
       "<div>\n",
       "<style scoped>\n",
       "    .dataframe tbody tr th:only-of-type {\n",
       "        vertical-align: middle;\n",
       "    }\n",
       "\n",
       "    .dataframe tbody tr th {\n",
       "        vertical-align: top;\n",
       "    }\n",
       "\n",
       "    .dataframe thead th {\n",
       "        text-align: right;\n",
       "    }\n",
       "</style>\n",
       "<table border=\"1\" class=\"dataframe\">\n",
       "  <thead>\n",
       "    <tr style=\"text-align: right;\">\n",
       "      <th></th>\n",
       "      <th>fname</th>\n",
       "      <th>labels</th>\n",
       "      <th>is_valid</th>\n",
       "    </tr>\n",
       "  </thead>\n",
       "  <tbody>\n",
       "    <tr>\n",
       "      <th>0</th>\n",
       "      <td>000005.jpg</td>\n",
       "      <td>chair</td>\n",
       "      <td>True</td>\n",
       "    </tr>\n",
       "    <tr>\n",
       "      <th>1</th>\n",
       "      <td>000007.jpg</td>\n",
       "      <td>car</td>\n",
       "      <td>True</td>\n",
       "    </tr>\n",
       "    <tr>\n",
       "      <th>2</th>\n",
       "      <td>000009.jpg</td>\n",
       "      <td>horse person</td>\n",
       "      <td>True</td>\n",
       "    </tr>\n",
       "    <tr>\n",
       "      <th>3</th>\n",
       "      <td>000012.jpg</td>\n",
       "      <td>car</td>\n",
       "      <td>False</td>\n",
       "    </tr>\n",
       "    <tr>\n",
       "      <th>4</th>\n",
       "      <td>000016.jpg</td>\n",
       "      <td>bicycle</td>\n",
       "      <td>True</td>\n",
       "    </tr>\n",
       "  </tbody>\n",
       "</table>\n",
       "</div>"
      ],
      "text/plain": [
       "        fname        labels  is_valid\n",
       "0  000005.jpg         chair      True\n",
       "1  000007.jpg           car      True\n",
       "2  000009.jpg  horse person      True\n",
       "3  000012.jpg           car     False\n",
       "4  000016.jpg       bicycle      True"
      ]
     },
     "execution_count": 2,
     "metadata": {},
     "output_type": "execute_result"
    }
   ],
   "source": [
    "import pandas as pd\n",
    "\n",
    "# uses CVS file to get the labels per image as opposed to file name and folder\n",
    "# structure as conventions as previous single label datasets\n",
    "# TODO : Is it possible to manage multiple labels per image with file/folder?\n",
    "# Answer : Likely not worth it, since explicity CSV list is easy to check vs\n",
    "# super fancy naming convention (experience from managing Pokemon assets lol)\n",
    "df = pd.read_csv(path/'train.csv')\n",
    "# inspect the CVS file by reading it into a Pandas DataFrame\n",
    "# output shows that a list of categories in each image is shown as a space\n",
    "# separated string\n",
    "df.head()"
   ]
  },
  {
   "cell_type": "code",
   "execution_count": 21,
   "metadata": {},
   "outputs": [
    {
     "name": "stdout",
     "output_type": "stream",
     "text": [
      "--[first_row]--\n",
      "fname       000005.jpg\n",
      "labels           chair\n",
      "is_valid          True\n",
      "Name: 0, dtype: object\n",
      "--[first_column]--\n",
      "0       000005.jpg\n",
      "1       000007.jpg\n",
      "2       000009.jpg\n",
      "3       000012.jpg\n",
      "4       000016.jpg\n",
      "           ...    \n",
      "5006    009954.jpg\n",
      "5007    009955.jpg\n",
      "5008    009958.jpg\n",
      "5009    009959.jpg\n",
      "5010    009961.jpg\n",
      "Name: fname, Length: 5011, dtype: object\n"
     ]
    }
   ],
   "source": [
    "# PANDAS and DATAFRAMES\n",
    "# Pandas is a Python library to edit and analyze tabular and time series data\n",
    "# DataFrames are a table of rows and columns : the main data structure in Pandas\n",
    "\n",
    "# Trailing :s are optional (in numpy, pytorch, pandas, etc)\n",
    "# so both of these first row variants work\n",
    "# first_row = df.iloc[0,:]\n",
    "first_row = df.iloc[0]\n",
    "first_column = df.iloc[:, 0]\n",
    "print(f'--[first_row]--\\n{first_row}\\n--[first_column]--\\n{first_column}')\n",
    "\n",
    "# can also index by column name\n",
    "fname_column = df['fname']\n",
    "#print(f'--[fname_column]--\\n{fname_column}')\n"
   ]
  },
  {
   "cell_type": "code",
   "execution_count": 20,
   "metadata": {},
   "outputs": [
    {
     "name": "stdout",
     "output_type": "stream",
     "text": [
      "--[a_column]--\n",
      "0    1\n",
      "1    2\n",
      "2    3\n",
      "3    4\n",
      "Name: a, dtype: int64\n",
      "--[b_column]--\n",
      "0    10\n",
      "1    20\n",
      "2    30\n",
      "3    40\n",
      "Name: b, dtype: int64\n",
      "--[sum_column]--\n",
      "0    11\n",
      "1    22\n",
      "2    33\n",
      "3    44\n",
      "dtype: int64\n"
     ]
    }
   ],
   "source": [
    "# Create new columns and use them to do calculations\n",
    "df1 = pd.DataFrame()\n",
    "df1['a'] = [1,2,3, 4]\n",
    "df1['b'] = [10, 20, 30, 40]\n",
    "sum_column = df1['a'] + df1['b']\n",
    "print(f'--[a_column]--\\n{df1[\"a\"]}\\n--[b_column]--\\n{df1[\"b\"]}\\n--[sum_column]--\\n{sum_column}')"
   ]
  },
  {
   "cell_type": "code",
   "execution_count": 25,
   "metadata": {},
   "outputs": [
    {
     "name": "stdout",
     "output_type": "stream",
     "text": [
      "--[train]--\n",
      "(fname                  009819.jpg\n",
      "labels      diningtable chair cat\n",
      "is_valid                     True\n",
      "Name: 4938, dtype: object, fname                  009819.jpg\n",
      "labels      diningtable chair cat\n",
      "is_valid                     True\n",
      "Name: 4938, dtype: object)\n",
      "--[valid]--\n",
      "(fname       008843.jpg\n",
      "labels             car\n",
      "is_valid          True\n",
      "Name: 4435, dtype: object, fname       008843.jpg\n",
      "labels             car\n",
      "is_valid          True\n",
      "Name: 4435, dtype: object)\n"
     ]
    }
   ],
   "source": [
    "from fastai.vision.data import DataBlock\n",
    "\n",
    "dblock = DataBlock()\n",
    "dsets = dblock.datasets(df)\n",
    "\n",
    "# a row of the DataFrame is returned TWICE ... once for the image and once for\n",
    "# the label ... because the DataBlock assumes we have :\n",
    "# - input\n",
    "# - target\n",
    "print(f'--[train]--\\n{dsets.train[0]}\\n--[valid]--\\n{dsets.valid[0]}')\n",
    "#dsets.train[0]\n",
    "#dsets.valid[0]\n"
   ]
  },
  {
   "cell_type": "code",
   "execution_count": 46,
   "metadata": {},
   "outputs": [
    {
     "name": "stdout",
     "output_type": "stream",
     "text": [
      "--[train]--\n",
      "('003865.jpg', 'diningtable person chair bottle')\n",
      "--[valid]--\n",
      "('000772.jpg', 'dog')\n"
     ]
    }
   ],
   "source": [
    "# We will need to capture explicitly from the DataFrame :\n",
    "# - 'fname' the image file name\n",
    "def get_fname(row):\n",
    "    return row['fname']\n",
    "# - 'labels' the list of labels\n",
    "def get_labels(row):\n",
    "    return row['labels']\n",
    "\n",
    "dblock=DataBlock(get_x=get_fname, get_y=get_labels)\n",
    "dsets=dblock.datasets(df)\n",
    "\n",
    "print(f'--[train]--\\n{dsets.train[0]}\\n--[valid]--\\n{dsets.valid[0]}')"
   ]
  },
  {
   "cell_type": "code",
   "execution_count": 47,
   "metadata": {},
   "outputs": [
    {
     "data": {
      "text/plain": [
       "\"\\n#dblock = DataBlock(get_x=lambda r:r['fname'], get_y=lambda r:r['labels'])\\n#dsets = dblock.datasets(df)\\n#dsets.train[0]\\n\""
      ]
     },
     "execution_count": 47,
     "metadata": {},
     "output_type": "execute_result"
    }
   ],
   "source": [
    "'''\n",
    "#dblock = DataBlock(get_x=lambda r:r['fname'], get_y=lambda r:r['labels'])\n",
    "#dsets = dblock.datasets(df)\n",
    "#dsets.train[0]\n",
    "'''"
   ]
  }
 ],
 "metadata": {
  "kernelspec": {
   "display_name": "torch-gpu",
   "language": "python",
   "name": "python3"
  },
  "language_info": {
   "codemirror_mode": {
    "name": "ipython",
    "version": 3
   },
   "file_extension": ".py",
   "mimetype": "text/x-python",
   "name": "python",
   "nbconvert_exporter": "python",
   "pygments_lexer": "ipython3",
   "version": "3.9.13"
  },
  "orig_nbformat": 4,
  "vscode": {
   "interpreter": {
    "hash": "0203b3654eb8bc60da03d36108deed569263a68c1ed718ab77fdacb38634fa76"
   }
  }
 },
 "nbformat": 4,
 "nbformat_minor": 2
}
