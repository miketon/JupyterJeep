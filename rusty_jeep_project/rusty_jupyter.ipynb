{
 "cells": [
  {
   "cell_type": "code",
   "execution_count": null,
   "metadata": {},
   "outputs": [],
   "source": [
    "println!(\"Hello, world! From Jupyter Notebook Rust Kernel\")"
   ]
  },
  {
   "cell_type": "code",
   "execution_count": 3,
   "metadata": {},
   "outputs": [
    {
     "data": {
      "text/plain": [
       "13"
      ]
     },
     "execution_count": 3,
     "metadata": {},
     "output_type": "execute_result"
    }
   ],
   "source": [
    "let a = 13;\n",
    "a"
   ]
  },
  {
   "cell_type": "code",
   "execution_count": 9,
   "metadata": {},
   "outputs": [
    {
     "name": "stdout",
     "output_type": "stream",
     "text": [
      "Guess the number!\n",
      "Please input your guess.\n"
     ]
    }
   ],
   "source": [
    "use std::io;\n",
    "\n",
    "fn main(){\n",
    "    println!(\"Guess the number!\");\n",
    "    println!(\"Please input your guess.\");\n",
    "    let mut guess = String::new();\n",
    "    io::stdin()\n",
    "        .read_line(&mut guess)\n",
    "        .expect(\"Failed to read line\");\n",
    "\n",
    "    println!(\"You guessed: {guess}\")\n",
    "}\n",
    "\n",
    "main()"
   ]
  }
 ],
 "metadata": {
  "kernelspec": {
   "display_name": "Rust",
   "language": "rust",
   "name": "rust"
  },
  "language_info": {
   "codemirror_mode": "rust",
   "file_extension": ".rs",
   "mimetype": "text/rust",
   "name": "rust",
   "pygment_lexer": "rust",
   "version": ""
  },
  "orig_nbformat": 4
 },
 "nbformat": 4,
 "nbformat_minor": 2
}
