{
 "cells": [
  {
   "attachments": {},
   "cell_type": "markdown",
   "metadata": {},
   "source": [
    "Module System\n",
    "---\n",
    "\n",
    "Rust has a number of features that allow you to manage your code’s organization,  \n",
    "including which details are exposed, which details are private, and what names  \n",
    "are in each scope in your programs. These features, sometimes collectively  \n",
    "referred to as the module system, include:  \n",
    "\n",
    "- **`Packages`**: A Cargo feature that lets you build, test, and share crates\n",
    "- **`Crates`**: A tree of modules that produces a library or executable\n",
    "- **`Modules and use`**: Let you control the organization, scope, and privacy of paths\n",
    "- **`Paths`**: A way of naming an item, such as a struct, function, or module\n",
    "\n",
    "> In this chapter, we’ll cover all these features, discuss how they interact,  \n",
    "and explain how to use them to manage scope. By the end, you should have a solid  \n",
    "understanding of the module system and be able to work with scopes like a pro!"
   ]
  },
  {
   "attachments": {},
   "cell_type": "markdown",
   "metadata": {},
   "source": [
    "Packages and Crates\n",
    "---\n",
    "\n",
    "A crate is the smallest amount of code that the Rust compiler considers at a  \n",
    "time. Even if you run rustc rather than cargo and pass a single source code file  \n",
    "(as we did all the way back in the “Writing and Running a Rust Program” section  \n",
    "of Chapter 1), the compiler considers that file to be a crate. Crates can  \n",
    "contain modules, and the modules may be defined in other files that get compiled  \n",
    "with the crate, as we’ll see in the coming sections.\n",
    "\n",
    "A crate can come in one of two forms:  \n",
    "\n",
    "- **`Binary crates`** are programs you can compile to an executable that you can run,  \n",
    "such as a command-line program or a server. Each must have a function called  \n",
    "main that defines what happens when the executable runs. All the crates we’ve  \n",
    "created so far have been binary crates.\n",
    "- **`Library crates`** don’t have a main function, and they don’t compile to an  \n",
    "executable. Instead, they define functionality intended to be shared with  \n",
    "multiple projects. For example, the rand crate we used in Chapter 2 provides  \n",
    "functionality that generates random numbers. Most of the time when Rustaceans  \n",
    "say “crate”, they mean library crate, and they use “crate” interchangeably with  \n",
    "the general programming concept of a “library\"."
   ]
  },
  {
   "cell_type": "code",
   "execution_count": null,
   "metadata": {},
   "outputs": [],
   "source": []
  }
 ],
 "metadata": {
  "kernelspec": {
   "display_name": "Rust",
   "language": "rust",
   "name": "rust"
  },
  "language_info": {
   "name": "rust"
  },
  "orig_nbformat": 4
 },
 "nbformat": 4,
 "nbformat_minor": 2
}
