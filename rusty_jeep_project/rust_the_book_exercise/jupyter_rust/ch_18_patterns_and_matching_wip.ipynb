{
 "cells": [
  {
   "attachments": {},
   "cell_type": "markdown",
   "metadata": {},
   "source": [
    "Patterns And Matching\n",
    "---\n",
    "\n",
    "Patterns are a special syntax in Rust for matching against the structure of  \n",
    "types, both complex and simple. Using patterns in conjunction with match  \n",
    "expressions and other constructs gives you more control over a program’s  \n",
    "control flow. A pattern consists of some combination of the following:\n",
    "\n",
    "- Literals\n",
    "- Destructured arrays, enums, structs, or tuples\n",
    "- Variables\n",
    "- Wildcards\n",
    "- Placeholders\n",
    "\n",
    "Some example patterns include x, (a, 3), and Some(Color::Red). In the contexts  \n",
    "in which patterns are valid, these components describe the shape of data. Our  \n",
    "program then matches values against the patterns to determine whether it has  \n",
    "the correct shape of data to continue running a particular piece of code.\n",
    "\n",
    "To use a pattern, we compare it to some value. If the pattern matches the value,  \n",
    "we use the value parts in our code. Recall the match expressions in Chapter 6  \n",
    "that used patterns, such as the coin-sorting machine example. If the value fits  \n",
    "the shape of the pattern, we can use the named pieces. If it doesn’t, the code  \n",
    "associated with the pattern won’t run.\n",
    "\n",
    "This chapter is a reference on all things related to patterns. We’ll cover the  \n",
    "valid places to use patterns, the difference between refutable and irrefutable  \n",
    "patterns, and the different kinds of pattern syntax that you might see. By the  \n",
    "end of the chapter, you’ll know how to use patterns to express many concepts in  \n",
    "a clear way."
   ]
  }
 ],
 "metadata": {
  "language_info": {
   "name": "python"
  },
  "orig_nbformat": 4
 },
 "nbformat": 4,
 "nbformat_minor": 2
}
