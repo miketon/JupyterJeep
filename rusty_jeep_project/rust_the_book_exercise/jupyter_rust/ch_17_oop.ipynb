{
 "cells": [
  {
   "cell_type": "markdown",
   "metadata": {},
   "source": [
    "Object-Oriented Programming Features of Rust\n",
    "---\n",
    "\n",
    "Object-oriented programming (OOP) is a way of modeling programs. Objects as a  \n",
    "programmatic concept were introduced in the programming language `Simula` in the  \n",
    "1960s. Those objects influenced Alan Kay’s programming architecture in which  \n",
    "objects pass messages to each other. To describe this architecture, he coined  \n",
    "the term object-oriented programming in 1967. Many competing definitions  \n",
    "describe what OOP is, and by some of these definitions Rust is object-oriented,  \n",
    "but by others it is not.  \n",
    "\n",
    "In this chapter, we’ll explore certain characteristics that are commonly  \n",
    "considered object-oriented and how those characteristics translate to idiomatic  \n",
    "Rust. We’ll then show you how to implement an object-oriented design pattern in  \n",
    "Rust and discuss the trade-offs of doing so versus implementing a solution using  \n",
    "some of Rust’s strengths instead."
   ]
  },
  {
   "cell_type": "markdown",
   "metadata": {},
   "source": [
    "Characteristics of Object-Oriented Languages\n",
    "---\n",
    "\n",
    "There is no consensus in the programming community about what features a  \n",
    "language must have to be considered object-oriented. Rust is influenced by many  \n",
    "programming paradigms, including OOP; for example, we explored the features that  \n",
    "came from functional programming in Chapter 13. Arguably, OOP languages share  \n",
    "certain common characteristics, namely objects, encapsulation, and inheritance.  \n",
    "Let’s look at what each of those characteristics means and whether Rust supports  \n",
    "it."
   ]
  },
  {
   "cell_type": "markdown",
   "metadata": {},
   "source": [
    "### Objects Contain Data and Behaviour\n",
    "\n",
    "The book Design Patterns: Elements of Reusable Object-Oriented Software by Erich  \n",
    "Gamma, Richard Helm, Ralph Johnson, and John Vlissides  \n",
    "(Addison-Wesley Professional, 1994), colloquially referred to as  \n",
    "The Gang of Four book, is a catalog of object-oriented design patterns.  \n",
    "\n",
    "It defines OOP this way:\n",
    "\n",
    "- Object-oriented programs are made up of objects.  \n",
    "- An object packages both data and the procedures that operate on that data. \n",
    "- The procedures are typically called methods or operations.\n",
    "\n",
    "Using this definition, Rust is object-oriented:  \n",
    "\n",
    "- structs and enums have data, and  \n",
    "- impl blocks provide methods on structs and enums.  \n",
    "\n",
    "Even though structs and enums with methods aren’t called objects, they provide  \n",
    "the same functionality, according to the Gang of Four’s definition of objects."
   ]
  },
  {
   "cell_type": "markdown",
   "metadata": {},
   "source": [
    "### Encapsulation that Hides Implementation Details\n",
    "\n",
    "Another aspect commonly associated with OOP is the idea of encapsulation, which  \n",
    "means that the implementation details of an object aren’t accessible to code  \n",
    "using that object. Therefore, the only way to interact with an object is through  \n",
    "its public API;  \n",
    "\n",
    "- code using the object shouldn’t be able to reach into the object’s internals  \n",
    "and change data or behavior directly.  \n",
    "\n",
    "> This enables the programmer to change and refactor an object’s internals  \n",
    "without needing to change the code that uses the object.\n",
    "\n",
    "We discussed how to control encapsulation in Chapter 7: we can use the  \n",
    "pub keyword to decide which modules, types, functions, and methods in our code  \n",
    "should be public, and by default everything else is private. For example, we  \n",
    "can define a struct AveragedCollection that has a field containing a  \n",
    "vector of i32 values. The struct can also have a field that contains the  \n",
    "average of the values in the vector, meaning the average doesn’t have to be  \n",
    "computed on demand whenever anyone needs it. In other words, AveragedCollection  \n",
    "will cache the calculated average for us. Listing 17-1 has the definition of the  \n",
    "AveragedCollection struct:\n",
    "\n",
    "> Filename: src/lib.rs"
   ]
  },
  {
   "cell_type": "code",
   "execution_count": 2,
   "metadata": {
    "vscode": {
     "languageId": "rust"
    }
   },
   "outputs": [],
   "source": [
    "pub struct AveragedCollection {\n",
    "    list: Vec<i32>,\n",
    "    average: f64,\n",
    "}"
   ]
  },
  {
   "cell_type": "markdown",
   "metadata": {},
   "source": [
    "> Listing 17-1: An AveragedCollection struct that maintains a list of integers  \n",
    "and the average of the items in the collection\n",
    "\n",
    "The struct is marked pub so that other code can use it, but the fields within  \n",
    "the struct remain private. This is important in this case because we want to  \n",
    "ensure that whenever a value is added or removed from the list, the average is  \n",
    "also updated. We do this by implementing add, remove, and average methods on  \n",
    "the struct, as shown in Listing 17-2:\n",
    "\n",
    "> Filename: src/lib.rs"
   ]
  },
  {
   "cell_type": "code",
   "execution_count": 4,
   "metadata": {
    "vscode": {
     "languageId": "rust"
    }
   },
   "outputs": [],
   "source": [
    "impl AveragedCollection {\n",
    "    pub fn add(&mut self, value: i32){\n",
    "        self.list.push(value);\n",
    "        self.update_average();\n",
    "    }\n",
    "\n",
    "    pub fn remove(&mut self) -> Option<i32> {\n",
    "        let result = self.list.pop();\n",
    "        match result {\n",
    "            Some(value) => {\n",
    "                self.update_average();\n",
    "                Some(value)\n",
    "            }\n",
    "            None => None,\n",
    "        }\n",
    "    }\n",
    "\n",
    "    pub fn average(&mut self) -> f64 {\n",
    "        self.average\n",
    "    }\n",
    "\n",
    "    fn update_average(&mut self) {\n",
    "        // @audit : should we check that list is not empty? \n",
    "        // to avoid division by zero \n",
    "        let total: i32 = self.list.iter().sum();\n",
    "        self.average = total as f64 / self.list.len() as f64;\n",
    "    }\n",
    "}"
   ]
  },
  {
   "cell_type": "markdown",
   "metadata": {},
   "source": [
    "> Listing 17-2: Implementations of the public methods add, remove, and average  \n",
    "on AveragedCollection\n",
    "\n",
    "The public methods add, remove, and average are the only ways to access or  \n",
    "modify data in an instance of AveragedCollection. When an item is added to list  \n",
    "using the add method or removed using the remove method, the implementations of  \n",
    "each call the private update_average method that handles updating the average  \n",
    "field as well.\n",
    "\n",
    "We leave the list and average fields private so there is no way for external  \n",
    "code to add or remove items to or from the list field directly; otherwise, the  \n",
    "average field might become out of sync when the list changes. The average  \n",
    "method returns the value in the average field, allowing external code to read  \n",
    "the average but not modify it."
   ]
  },
  {
   "cell_type": "markdown",
   "metadata": {},
   "source": [
    "Because we’ve encapsulated the implementation details of the struct  \n",
    "AveragedCollection, we can easily change aspects, such as the data structure,  \n",
    "in the future. For instance, we could use a HashSet<i32> instead of a Vec<i32>  \n",
    "for the list field. As long as the signatures of the add, remove, and average  \n",
    "public methods stay the same, code using AveragedCollection wouldn’t need to  \n",
    "change. If we made list public instead, this wouldn’t necessarily be the case:  \n",
    "HashSet<i32> and Vec<i32> have different methods for adding and removing items,  \n",
    "so the external code would likely have to change if it were modifying list  \n",
    "directly.\n",
    "\n",
    "If encapsulation is a required aspect for a language to be considered  \n",
    "object-oriented, then Rust meets that requirement. The option to use pub or not  \n",
    "for different parts of code enables encapsulation of implementation details."
   ]
  },
  {
   "cell_type": "markdown",
   "metadata": {},
   "source": [
    "### Inheritance as a Type System and as Code Sharing\n",
    "\n",
    "Inheritance is a mechanism whereby an object can inherit elements from another  \n",
    "object’s definition, thus gaining the parent object’s data and behavior without  \n",
    "you having to define them again.\n",
    "\n",
    "If a language must have inheritance to be an object-oriented language, then Rust  \n",
    "is not one. There is no way to define a struct that inherits the parent struct’s  \n",
    "fields and method implementations without using a macro.\n",
    "\n",
    "However, if you’re used to having inheritance in your programming toolbox, you  \n",
    "can use other solutions in Rust, depending on your reason for reaching for  \n",
    "inheritance in the first place."
   ]
  },
  {
   "cell_type": "markdown",
   "metadata": {},
   "source": [
    "You would choose inheritance for two main reasons.  \n",
    "\n",
    "One is for reuse of code: you can implement particular behavior for one type,  \n",
    "and inheritance enables you to reuse that implementation for a different type.  \n",
    "You can do this in a limited way in Rust code using default trait method  \n",
    "implementations, which you saw in Listing 10-14 when we added a default  \n",
    "implementation of the summarize method on the Summary trait. Any type  \n",
    "implementing the Summary trait would have the summarize method available on it  \n",
    "without any further code.  \n",
    "\n",
    "This is similar to a parent class having an implementation of a method and an  \n",
    "inheriting child class also having the implementation of the method. We can also  \n",
    "override the default implementation of the summarize method when we implement  \n",
    "the Summary trait, which is similar to a child class overriding the  \n",
    "implementation of a method inherited from a parent class."
   ]
  },
  {
   "cell_type": "markdown",
   "metadata": {},
   "source": [
    "The other reason to use inheritance relates to the type system:  \n",
    "\n",
    "- to enable a child type to be used in the same places as the parent type.  \n",
    "\n",
    "This is also called polymorphism, which means that you can substitute multiple  \n",
    "objects for each other at runtime if they share certain characteristics.\n",
    "\n",
    "#### -- Polymorphism --\n",
    "\n",
    "> To many people, polymorphism is synonymous with inheritance. But it’s actually  \n",
    "a more general concept that refers to code that can work with data of multiple  \n",
    "types. For inheritance, those types are generally subclasses.\n",
    "\n",
    "Rust instead uses generics to abstract over different possible types and trait  \n",
    "bounds to impose constraints on what those types must provide. This is sometimes  \n",
    "called bounded parametric polymorphism."
   ]
  },
  {
   "cell_type": "markdown",
   "metadata": {},
   "source": [
    "Inheritance has recently fallen out of favor as a programming design solution in  \n",
    "many programming languages because it’s often at risk of sharing more code than  \n",
    "necessary. Subclasses shouldn’t always share all characteristics of their parent  \n",
    "class but will do so with inheritance. This can make a program’s design less  \n",
    "flexible. It also introduces the possibility of calling methods on subclasses  \n",
    "that don’t make sense or that cause errors because the methods don’t apply to  \n",
    "the subclass. In addition, some languages will only allow single inheritance  \n",
    "(meaning a subclass can only inherit from one class), further restricting the  \n",
    "flexibility of a program’s design.\n",
    "\n",
    "For these reasons, Rust takes the different approach of using trait objects  \n",
    "instead of inheritance. Let’s look at how trait objects enable polymorphism in  \n",
    "Rust."
   ]
  },
  {
   "cell_type": "markdown",
   "metadata": {},
   "source": [
    "Using Trait Objects That Allow for Values of Different Types\n",
    "---\n",
    "\n",
    "In Chapter 8, we mentioned that one limitation of vectors is that they can store  \n",
    "elements of only one type. We created a workaround in Listing 8-9 where we  \n",
    "defined a SpreadsheetCell enum that had variants to hold integers, floats, and  \n",
    "text. This meant we could store different types of data in each cell and still  \n",
    "have a vector that represented a row of cells. This is a perfectly good solution  \n",
    "when our interchangeable items are a fixed set of types that we know when our  \n",
    "code is compiled.\n",
    "\n",
    "However, sometimes we want our library user to be able to extend the set of  \n",
    "types that are valid in a particular situation. To show how we might achieve  \n",
    "this, we’ll create an example graphical user interface (GUI) tool that iterates  \n",
    "through a list of items, calling a draw method on each one to draw it to the  \n",
    "screen—a common technique for GUI tools. We’ll create a library crate called  \n",
    "gui that contains the structure of a GUI library. This crate might include some  \n",
    "types for people to use, such as Button or TextField. In addition, gui users  \n",
    "will want to create their own types that can be drawn: \n",
    "\n",
    "- for instance, one programmer might add an Image and \n",
    "- another might add a SelectBox.\n",
    "\n",
    "We won’t implement a fully fledged GUI library for this example but will show  \n",
    "how the pieces would fit together. At the time of writing the library, we can’t  \n",
    "know and define all the types other programmers might want to create. But we do  \n",
    "know that gui needs to keep track of many values of different types, and it  \n",
    "needs to call a draw method on each of these differently typed values. It  \n",
    "doesn’t need to know exactly what will happen when we call the draw method, just  \n",
    "that the value will have that method available for us to call.\n",
    "\n",
    "To do this in a language with inheritance, we might define a class named  \n",
    "Component that has a method named draw on it. The other classes, such as  \n",
    "Button, Image, and SelectBox, would inherit from Component and thus inherit the  \n",
    "draw method. They could each override the draw method to define their custom  \n",
    "behavior, but the framework could treat all of the types as if they were  \n",
    "Component instances and call draw on them.  \n",
    "\n",
    "But because Rust doesn’t have inheritance, we need another way to structure the  \n",
    "gui library to allow users to extend it with new types."
   ]
  }
 ],
 "metadata": {
  "kernelspec": {
   "display_name": "Rust",
   "language": "rust",
   "name": "rust"
  },
  "language_info": {
   "codemirror_mode": "rust",
   "file_extension": ".rs",
   "mimetype": "text/rust",
   "name": "Rust",
   "pygment_lexer": "rust",
   "version": ""
  },
  "orig_nbformat": 4
 },
 "nbformat": 4,
 "nbformat_minor": 2
}
