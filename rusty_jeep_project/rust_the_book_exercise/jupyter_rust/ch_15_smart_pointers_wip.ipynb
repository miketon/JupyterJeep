{
 "cells": [
  {
   "attachments": {},
   "cell_type": "markdown",
   "metadata": {},
   "source": [
    "Smart Pointers\n",
    "---\n",
    "\n",
    "A pointer is a general concept for a variable that contains an address in memory.  \n",
    "This address refers to, or “points at,” some other data. The most common kind of  \n",
    "pointer in Rust is a reference, which you learned about in Chapter 4. References  \n",
    "are indicated by the & symbol and borrow the value they point to. They don’t  \n",
    "have any special capabilities other than referring to data, and have no overhead.  \n",
    "\n",
    "Smart pointers, on the other hand, are data structures that act like a pointer  \n",
    "but also have additional metadata and capabilities. The concept of smart  \n",
    "pointers isn’t unique to Rust: smart pointers originated in C++ and exist in  \n",
    "other languages as well. Rust has a variety of smart pointers defined in the  \n",
    "standard library that provide functionality beyond that provided by references.  \n",
    "To explore the general concept, we’ll look at a couple of different examples of  \n",
    "smart pointers, including a reference counting smart pointer type. This pointer  \n",
    "enables you to allow data to have multiple owners by keeping track of the number  \n",
    "of owners and, when no owners remain, cleaning up the data.  "
   ]
  },
  {
   "attachments": {},
   "cell_type": "markdown",
   "metadata": {},
   "source": [
    "#### -- Smart Pointers own Data, References only Borrow --\n",
    "\n",
    "Rust, with its concept of ownership and borrowing, has an additional difference  \n",
    "between references and smart pointers: while references only borrow data, in  \n",
    "many cases, smart pointers own the data they point to.  "
   ]
  },
  {
   "attachments": {},
   "cell_type": "markdown",
   "metadata": {},
   "source": [
    "Though we didn’t call them as such at the time, we’ve already encountered a few  \n",
    "smart pointers in this book, including `String` and `Vec<T>` in Chapter 8. Both  \n",
    "these types count as smart pointers because they own some memory and allow you  \n",
    "to manipulate it. They also have metadata and extra capabilities or guarantees.  \n",
    "String, for example, stores its capacity as metadata and has the extra ability  \n",
    "to ensure its data will always be valid UTF-8.  \n",
    "\n",
    "#### -- Structs with Deref and Drop Traits --\n",
    "\n",
    "Smart pointers are usually implemented using structs. Unlike an ordinary struct,  \n",
    "smart pointers implement the `Deref` and `Drop` traits. \n",
    "- The `Deref` trait allows an instance of the smart pointer struct to behave  \n",
    "like a reference so you can write your code to work with either references or  \n",
    "smart pointers.  \n",
    "- The `Drop` trait allows you to customize the code that’s run when an instance  \n",
    "of the smart pointer goes out of scope.  \n",
    "\n",
    "In this chapter, we’ll discuss both traits and demonstrate why they’re important  \n",
    "to smart pointers."
   ]
  },
  {
   "cell_type": "code",
   "execution_count": 3,
   "metadata": {},
   "outputs": [
    {
     "name": "stdout",
     "output_type": "stream",
     "text": [
      "Bender is alive!\n",
      "Bender has been DROPPED\n"
     ]
    },
    {
     "data": {
      "text/plain": [
       "()"
      ]
     },
     "execution_count": 3,
     "metadata": {},
     "output_type": "execute_result"
    }
   ],
   "source": [
    "struct ToyRobot{\n",
    "    name: String\n",
    "}\n",
    "\n",
    "impl Drop for ToyRobot{\n",
    "    fn drop(&mut self){\n",
    "        println!(\"{} has been DROPPED\", self.name);\n",
    "    }\n",
    "}\n",
    "\n",
    "{   // start playing with ToyRobot\n",
    "    let my_robot = ToyRobot{name: String::from(\"Bender\")};\n",
    "    println!(\"{} is alive!\", my_robot.name);\n",
    "}   // done playing with ToyRobot\n",
    "    // <- At this point the ToyRobot is dropped\n",
    "    // \"Bender has been DROPPED\" will get printed before the end of the block"
   ]
  },
  {
   "attachments": {},
   "cell_type": "markdown",
   "metadata": {},
   "source": [
    "#### -- Scope of Smart Pointer Pattern Covered Here --\n",
    "\n",
    "Given that the smart pointer pattern is a general design pattern used frequently  \n",
    "in Rust, this chapter won’t cover every existing smart pointer. Many libraries  \n",
    "have their own smart pointers, and you can even write your own. We’ll cover the  \n",
    "most common smart pointers in the standard library:  \n",
    "\n",
    "- **`Box<T>`** for allocating values on the heap  \n",
    "- **`Rc<T>`**, a reference counting type that enables multiple ownership  \n",
    "- **`Ref<T>`** and **`RefMut<T>`**, accessed through **`RefCell<T>`**, a type  \n",
    "that enforces the borrowing rules at runtime instead of compile time  \n",
    "\n",
    "\n",
    "In addition, we’ll cover : \n",
    "- the interior mutability pattern where an immutable type exposes an API for  \n",
    "mutating an interior value. \n",
    "\n",
    "We’ll also discuss reference cycles: \n",
    "- how they can leak memory and how to prevent them.  \n",
    "\n",
    "Let’s dive in!  "
   ]
  },
  {
   "attachments": {},
   "cell_type": "markdown",
   "metadata": {},
   "source": [
    "Using Box<T> to Point to Data on the Heap\n",
    "---\n",
    "\n",
    "The most straightforward smart pointer is a box, whose type is written `Box<T>`.  \n",
    "Boxes allow you to store data on the heap rather than the stack. What remains on  \n",
    "the stack is the pointer to the heap data. Refer to Chapter 4 to review the  \n",
    "difference between the stack and the heap.  \n",
    "\n",
    "Boxes don’t have performance overhead, other than storing their data on the heap  \n",
    "instead of on the stack. But they don’t have many extra capabilities either.  \n",
    "You’ll use them most often in these situations:  \n",
    "\n",
    "- When you have a `type whose size can’t be known at compile time` and  \n",
    "you want to use a value of that type in a context that requires an exact size  \n",
    "- When you have a large amount of data and you want to `transfer ownership` but  \n",
    "`ensure the data won’t be copied` when you do so  \n",
    "- When you want to own a value and you care only that it’s a type that  \n",
    "implements a particular trait rather than being of a specific type **`????`**\n",
    "\n",
    "We’ll demonstrate the first situation in the  \n",
    "“Enabling Recursive Types with Boxes” section. In the second case, transferring  \n",
    "ownership of a large amount of data can take a long time because the data is  \n",
    "copied around on the stack. To improve performance in this situation, we can  \n",
    "store the large amount of data on the heap in a box. Then, only the small amount  \n",
    "of pointer data is copied around on the stack, while the data it references  \n",
    "stays in one place on the heap. The third case is known as a trait object, and  \n",
    "Chapter 17 devotes an entire section, “Using Trait Objects That Allow for Values  \n",
    "of Different Types,” just to that topic. So what you learn here you’ll apply  \n",
    "again in Chapter 17!"
   ]
  },
  {
   "attachments": {},
   "cell_type": "markdown",
   "metadata": {},
   "source": [
    "### Using a Box<T> to Store Data on the Heap\n",
    "\n",
    "Before we discuss the heap storage use case for Box<T>, we’ll cover the syntax  \n",
    "and how to interact with values stored within a Box<T>.\n",
    "\n",
    "Listing 15-1 shows how to use a box to store an i32 value on the heap:  \n",
    "\n",
    "> Filename: src/main.rs\n"
   ]
  },
  {
   "cell_type": "code",
   "execution_count": 2,
   "metadata": {},
   "outputs": [
    {
     "name": "stdout",
     "output_type": "stream",
     "text": [
      "b = 5\n"
     ]
    },
    {
     "data": {
      "text/plain": [
       "()"
      ]
     },
     "execution_count": 2,
     "metadata": {},
     "output_type": "execute_result"
    }
   ],
   "source": [
    "// the closure is defined and pushed to the stack\n",
    "{   // closure begin\n",
    "    \n",
    "    let b = Box::new(5);   // the value 5 is allocated on the heap\n",
    "                           // `b `is box pointer allocated on the stack pointing\n",
    "                           // to the heap location where (address) value 5 is \n",
    "                           // stored\n",
    "    println!(\"b = {}\", b);  // prinln is accessing 'b' by dereferencing it\n",
    "                            // `b` is a pointer to the heap location where the\n",
    "                            // value 5 is stored\n",
    "                            // effectively value 5 is printed\n",
    "    // - storing a single compile time known value on the heap is not very useful\n",
    "    // - storing on the heap is more useful in later examples when we store much\n",
    "    // LARGER and VARIABLE amounts of data on the heap\n",
    "\n",
    "}   // closure ends\n",
    "// the Box pointer `b` is deallocated\n",
    "// the heap memory address where the value 5 is stored is deallocated\n",
    "// closure is popped off the stack"
   ]
  },
  {
   "attachments": {},
   "cell_type": "markdown",
   "metadata": {},
   "source": [
    "> Listing 15-1: Storing an i32 value on the heap using a box\n",
    "\n",
    "#### -- Line by Line Stack and Heap op for Box Declaration --\n",
    "\n",
    "We define the variable b to have the value of a Box that points to the value 5,  \n",
    "which is allocated on the heap. This program will print b = 5; in this case, we  \n",
    "can access the data in the box similar to how we would if this data were on the  \n",
    "stack. Just like any owned value, when a box goes out of scope, as b does at the  \n",
    "end of main, it will be deallocated. The deallocation happens both for the box  \n",
    "(stored on the stack) and the data it points to (stored on the heap).  \n",
    "\n",
    "Putting a single value on the heap isn’t very useful, so you won’t use boxes by  \n",
    "themselves in this way very often. Having values like a single i32 on the stack,  \n",
    "where they’re stored by default, is more appropriate in the majority of  \n",
    "situations. Let’s look at a case where boxes allow us to define types that we  \n",
    "wouldn’t be allowed to if we didn’t have boxes."
   ]
  },
  {
   "attachments": {},
   "cell_type": "markdown",
   "metadata": {},
   "source": [
    "### Enabling Recursive Types with Boxes\n",
    "\n",
    "A value of recursive type can have another value of the same type as part of  \n",
    "itself. Recursive types pose an issue because at compile time Rust needs to know  \n",
    "how much space a type takes up. However, the nesting of values of recursive  \n",
    "types could theoretically continue infinitely, so Rust can’t know how much space  \n",
    "the value needs. Because boxes have a known size, we can enable recursive types  \n",
    "by inserting a box in the recursive type definition.  \n",
    "\n",
    "As an example of a recursive type, let’s explore the cons list. This is a data  \n",
    "type commonly found in functional programming languages. The cons list type  \n",
    "we’ll define is straightforward except for the recursion; therefore, the  \n",
    "concepts in the example we’ll work with will be useful any time you get into  \n",
    "more complex situations involving recursive types.  "
   ]
  },
  {
   "attachments": {},
   "cell_type": "markdown",
   "metadata": {},
   "source": [
    "#### -- Explain Recursion with the Cons List --\n",
    "\n",
    "A cons list is a data structure that comes from the Lisp programming language  \n",
    "and its dialects and is made up of nested pairs, and is the Lisp version of a  \n",
    "linked list. Its name comes from the cons function (“construct function”) in  \n",
    "Lisp that constructs a new pair from its two arguments. By calling cons on a  \n",
    "pair consisting of a value and another pair, we can construct cons lists made up  \n",
    "of recursive pairs.  "
   ]
  },
  {
   "attachments": {},
   "cell_type": "markdown",
   "metadata": {},
   "source": [
    "#### -- Cons List Pseudo Code Example --\n",
    "\n",
    "For example, here’s a pseudocode representation of a cons list containing the  \n",
    "list 1, 2, 3 with each pair in parentheses:  \n",
    "\n",
    "```rust\n",
    "(1, (2, (3, Nil)))\n",
    "```\n",
    "\n",
    "Each item in a cons list contains two elements: the value of the current item  \n",
    "and the next item. The last item in the list contains only a value called Nil  \n",
    "without a next item. A cons list is produced by recursively calling the cons  \n",
    "function. The canonical name to denote the base case of the recursion is Nil.  \n",
    "Note that this is not the same as the “null” or “nil” concept in Chapter 6,  \n",
    "which is an invalid or absent value.\n",
    "\n",
    "> The cons list isn’t a commonly used data structure in Rust. Most of the time  \n",
    "when you have a list of items in Rust, Vec<T> is a better choice to use. Other,  \n",
    "more complex recursive data types are useful in various situations, but by  \n",
    "starting with the cons list in this chapter, we can explore how boxes let us  \n",
    "define a recursive data type without much distraction.  "
   ]
  },
  {
   "attachments": {},
   "cell_type": "markdown",
   "metadata": {},
   "source": [
    "#### -- Cons List Implemented as an Enum Definition --\n",
    "\n",
    "Listing 15-2 contains an enum definition for a cons list. Note that this code  \n",
    "won’t compile yet because the List type doesn’t have a known size, which we’ll  \n",
    "demonstrate.\n",
    "\n",
    "> Filename: src/main.rs"
   ]
  },
  {
   "cell_type": "code",
   "execution_count": 8,
   "metadata": {},
   "outputs": [
    {
     "ename": "Error",
     "evalue": "recursive type `List` has infinite size",
     "output_type": "error",
     "traceback": [
      "\u001b[31m[E0072] Error:\u001b[0m recursive type `List` has infinite size",
      "   \u001b[38;5;246m╭\u001b[0m\u001b[38;5;246m─\u001b[0m\u001b[38;5;246m[\u001b[0mcommand_8:1:1\u001b[38;5;246m]\u001b[0m",
      "   \u001b[38;5;246m│\u001b[0m",
      " \u001b[38;5;246m1 │\u001b[0m \u001b[38;5;100me\u001b[0m\u001b[38;5;100mn\u001b[0m\u001b[38;5;100mu\u001b[0m\u001b[38;5;100mm\u001b[0m\u001b[38;5;100m \u001b[0m\u001b[38;5;100mL\u001b[0m\u001b[38;5;100mi\u001b[0m\u001b[38;5;100ms\u001b[0m\u001b[38;5;100mt\u001b[0m\u001b[38;5;249m \u001b[0m\u001b[38;5;249m{\u001b[0m",
      " \u001b[38;5;246m  ·\u001b[0m \u001b[38;5;100m─\u001b[0m\u001b[38;5;100m─\u001b[0m\u001b[38;5;100m─\u001b[0m\u001b[38;5;100m─\u001b[0m\u001b[38;5;100m┬\u001b[0m\u001b[38;5;100m─\u001b[0m\u001b[38;5;100m─\u001b[0m\u001b[38;5;100m─\u001b[0m\u001b[38;5;100m─\u001b[0m  ",
      " \u001b[38;5;246m  ·\u001b[0m     \u001b[38;5;100m╰\u001b[0m\u001b[38;5;100m─\u001b[0m\u001b[38;5;100m─\u001b[0m\u001b[38;5;100m─\u001b[0m\u001b[38;5;100m─\u001b[0m\u001b[38;5;100m─\u001b[0m\u001b[38;5;100m─\u001b[0m error: recursive type `List` has infinite size",
      " \u001b[38;5;246m2 │\u001b[0m \u001b[38;5;249m \u001b[0m\u001b[38;5;249m \u001b[0m\u001b[38;5;249m \u001b[0m\u001b[38;5;249m \u001b[0m\u001b[38;5;249mC\u001b[0m\u001b[38;5;249mo\u001b[0m\u001b[38;5;249mn\u001b[0m\u001b[38;5;249ms\u001b[0m\u001b[38;5;249m(\u001b[0m\u001b[38;5;249mi\u001b[0m\u001b[38;5;249m3\u001b[0m\u001b[38;5;249m2\u001b[0m\u001b[38;5;249m,\u001b[0m\u001b[38;5;249m \u001b[0m\u001b[38;5;54mL\u001b[0m\u001b[38;5;54mi\u001b[0m\u001b[38;5;54ms\u001b[0m\u001b[38;5;54mt\u001b[0m\u001b[38;5;249m)\u001b[0m\u001b[38;5;249m,\u001b[0m",
      " \u001b[38;5;246m  ·\u001b[0m               \u001b[38;5;54m─\u001b[0m\u001b[38;5;54m─\u001b[0m\u001b[38;5;54m┬\u001b[0m\u001b[38;5;54m─\u001b[0m  ",
      " \u001b[38;5;246m  ·\u001b[0m                 \u001b[38;5;54m╰\u001b[0m\u001b[38;5;54m─\u001b[0m\u001b[38;5;54m─\u001b[0m\u001b[38;5;54m─\u001b[0m recursive without indirection",
      "\u001b[38;5;246m───╯\u001b[0m"
     ]
    }
   ],
   "source": [
    "enum List { // Recursive type List has INFINITE size\n",
    "    // Recursive without indirection\n",
    "    Cons(i32, List),\n",
    "    Nil,\n",
    "}"
   ]
  },
  {
   "attachments": {},
   "cell_type": "markdown",
   "metadata": {},
   "source": [
    "#### -- Compile Error : Recursion Without Indirection -- \n",
    "\n",
    "> Listing 15-2: The first attempt at defining an enum to represent a cons list  \n",
    "data structure of i32 values\n",
    "\n",
    "```lua\n",
    "Note: We’re implementing a cons list that holds only i32 values for the purposes  \n",
    "of this example. We could have implemented it using generics, as we discussed in  \n",
    "Chapter 10, to define a cons list type that could store values of any type.\n",
    "```\n",
    "\n",
    "Using the List type to store the list 1, 2, 3 would look like the code in  \n",
    "Listing 15-3:\n",
    "\n",
    "> Filename: src/main.rs\n",
    "\n",
    "The first Cons value holds 1 and another List value. This List value is another  \n",
    "Cons value that holds 2 and another List value. This List value is one more Cons  \n",
    "value that holds 3 and a List value, which is finally Nil, the non-recursive  \n",
    "variant that signals the end of the list.  \n",
    "\n",
    "If we try to compile the code in Listing 15-3, we get the error shown in  \n",
    "Listing 15-4:  \n",
    "\n",
    "```sh\n",
    "$ cargo run\n",
    "   Compiling cons-list v0.1.0 (file:///projects/cons-list)\n",
    "error[E0072]: recursive type `List` has infinite size\n",
    " --> src/main.rs:1:1\n",
    "  |\n",
    "1 | enum List {\n",
    "  | ^^^^^^^^^\n",
    "2 |     Cons(i32, List),\n",
    "  |               ---- recursive without indirection\n",
    "  |\n",
    "help: insert some indirection (e.g., a `Box`, `Rc`, or `&`) to break the cycle\n",
    "  |\n",
    "2 |     Cons(i32, Box<List>),\n",
    "  |               ++++    +\n",
    "\n",
    "For more information about this error, try `rustc --explain E0072`.  \n",
    "error: could not compile `cons-list` due to previous error  \n",
    "```\n",
    "\n",
    "> Listing 15-4: The error we get when attempting to define a recursive enum"
   ]
  },
  {
   "cell_type": "code",
   "execution_count": 7,
   "metadata": {},
   "outputs": [
    {
     "name": "stdout",
     "output_type": "stream",
     "text": [
      "list = Cons(1, Cons(2, Cons(3, Nil)))\n",
      "Dropping Cons with value 1 -> next Cons(2, Cons(3, Nil))\n",
      "Dropping Cons with value 2 -> next Cons(3, Nil)\n",
      "Dropping Cons with value 3 -> next Nil\n",
      "Dropping Nil\n"
     ]
    }
   ],
   "source": [
    "// Derive the Debug trait for pretty printing the List enum using {:?} specifier\n",
    "#[derive(Debug)]    // Rust will GENERATE the Debug Trait for enum List\n",
    "enum List {         // Define an enum with 2 variants\n",
    "                    // - Cons\n",
    "                    // - Nil\n",
    "    // Using Box<> here avoids the infinite recursion size issue because\n",
    "    // Box<List> is a heap allocated value that allows us to store another List\n",
    "    // - Instead of potentially expanding to infinite size of the Cons List,\n",
    "    // We are recursively writing and retrieving from the defined address on the\n",
    "    // heap as we process the List\n",
    "    // @audit-ok : Time Recursion on Fixed Space -> One shot on Unbounded Space?\n",
    "    // ANSWER : No, it's not a recursion on fixed space, it's just recursion on\n",
    "    // the heap and the heap is LARGER than the stack so the recursion can go\n",
    "    // DEEPER, but it's not actually INFINITE \n",
    "    // It's BOUNDED to the PHYSICAL memory of our compute SUBSTRATE\n",
    "    Cons(i32, Box<List>), \n",
    "    // Nil variant represents an empty list\n",
    "    // Essentially the EOF (end of file) equivalent for Cons List\n",
    "    Nil,\n",
    "}\n",
    "\n",
    "impl Drop for List {\n",
    "    fn drop(&mut self){\n",
    "        match self{\n",
    "            Cons (value, next) => println!(\"Dropping Cons with value {} -> next {:?}\", value, next),\n",
    "            Nil => println!(\"Dropping Nil\"),\n",
    "        }\n",
    "        // println!(\"Dropping {:?}\", self);\n",
    "    }\n",
    "}\n",
    "\n",
    "    // push new frame to the stack\n",
    "{   // begin new scope\n",
    "\n",
    "    // `list` comes into scope, creating a VARIABLE Cons List\n",
    "    // - With 3 cons elements : 1 -> 2 -> 3 -> Nil\n",
    "    // - Each cons element is followed by another List wrapped in a Box<>\n",
    "    // - The last element is Nil which is the EOL (end-of-list) for the List\n",
    "    // - While creating this list, we allocate memory for each Box<List>\n",
    "    let list = List::Cons(1, Box::new(List::Cons(2, Box::new(List::Cons(3, Box::new(List::Nil))))));\n",
    "    println!(\"list = {:?}\", list);\n",
    "}   // end scope\n",
    "    \n",
    "// `list` goes out of scope\n",
    "// - Rust calls the drop function for each Box<List> in the list\n",
    "// - this deallocates the heap memory for each Box<List>\n",
    "// - Finally the stack memory used by the `list` variable is deallocated\n",
    "// pop frame off the stack"
   ]
  },
  {
   "attachments": {},
   "cell_type": "markdown",
   "metadata": {},
   "source": [
    "#### -- Cons List Fixed : Indirect to `Box<List>` recursion --\n",
    "\n",
    "The error shows this type “has infinite size.” The reason is that we’ve defined  \n",
    "List with a variant that is recursive: it holds another value of itself directly.  \n",
    "As a result, Rust can’t figure out how much space it needs to store a List value.  \n",
    "Let’s break down why we get this error. First, we’ll look at how Rust decides  \n",
    "how much space it needs to store a value of a non-recursive type.  "
   ]
  },
  {
   "attachments": {},
   "cell_type": "markdown",
   "metadata": {},
   "source": [
    "### Computing the Size of a Non-Recursive Type\n",
    "\n",
    "Recall the Message enum we defined in Listing 6-2 when we discussed enum  \n",
    "definitions in Chapter 6:  \n",
    "\n",
    "```rust\n",
    "enum Message {\n",
    "    Quit,\n",
    "    Move { x: i32, y: i32 },\n",
    "    Write(String),\n",
    "    ChangeColor(i32, i32, i32),\n",
    "}\n",
    "```\n",
    "\n",
    "To determine how much `space to allocate for a Message value`, Rust goes  \n",
    "through each of the variants to `see which variant needs the most space`\n",
    "\n",
    "Rust sees that :  \n",
    "\n",
    "- Message::Quit doesn’t need any space,  \n",
    "- Message::Move needs enough space to store two i32 values,  \n",
    "- and so forth.  \n",
    "\n",
    "Because only one variant will be used, the most space a Message value will need  \n",
    "is the space it would take to store the largest of its variants.\n"
   ]
  },
  {
   "attachments": {},
   "cell_type": "markdown",
   "metadata": {},
   "source": [
    "#### -- Illustrate Recursion (-)Indirection : Compile Time Error --\n",
    "\n",
    "Contrast this with what happens when Rust tries to determine how much space a  \n",
    "recursive type like the List enum in Listing 15-2 needs. The compiler starts by  \n",
    "looking at the Cons variant, which holds a value of type i32 and a value of type  \n",
    "List. Therefore, Cons needs an amount of space equal to the size of an i32 plus  \n",
    "the size of a List. To figure out how much memory the List type needs, the  \n",
    "compiler looks at the variants, starting with the Cons variant. The Cons variant  \n",
    "holds a value of type i32 and a value of type List, and this process continues  \n",
    "infinitely, as shown in Figure 15-1.  \n",
    "\n",
    "<img src=\"https://doc.rust-lang.org/book/img/trpl15-01.svg\" width=50% height=50%>\n",
    "\n",
    "> Figure 15-1: An infinite List consisting of infinite Cons variants\n"
   ]
  },
  {
   "attachments": {},
   "cell_type": "markdown",
   "metadata": {},
   "source": [
    "### Using Box<T> to Get a Recursive Type with a Known Size\n",
    "\n",
    "Because Rust can’t figure out how much space to allocate for recursively defined  \n",
    "types, the compiler gives an error with this helpful suggestion:  \n",
    "\n",
    "```sh\n",
    "help: insert some indirection (e.g., a `Box`, `Rc`, or `&`) to make `List` representable\n",
    "  |\n",
    "2 |     Cons(i32, Box<List>),\n",
    "  |               ++++    +\n",
    "```\n",
    "\n",
    "In this suggestion, “indirection” means that instead of **storing a value directly**,  \n",
    "we should change the data structure to store the value indirectly by **storing a  \n",
    "pointer to the value** instead.  "
   ]
  },
  {
   "attachments": {},
   "cell_type": "markdown",
   "metadata": {},
   "source": [
    "#### -- `Box<T>` the pointer is Fixed Size regardless of Data --\n",
    "\n",
    "Because a Box<T> is a pointer, Rust always knows how much space a Box<T> needs:  \n",
    "a pointer’s size doesn’t change based on the amount of data it’s pointing to.  \n",
    "This means we can put a Box<T> inside the Cons variant instead of another List  \n",
    "value directly. The Box<T> will point to the next List value that will be on the  \n",
    "heap rather than inside the Cons variant. Conceptually, we still have a list,  \n",
    "created with lists holding other lists, but this implementation is now more like  \n",
    "placing the items next to one another rather than inside one another.  \n",
    "\n",
    "We can change the definition of the List enum in Listing 15-2 and the usage of  \n",
    "the List in Listing 15-3 to the code in Listing 15-5, which will compile:  \n",
    "\n",
    "> Filename: src/main.rs"
   ]
  },
  {
   "cell_type": "code",
   "execution_count": 2,
   "metadata": {},
   "outputs": [
    {
     "name": "stdout",
     "output_type": "stream",
     "text": [
      "Box<List> list = Cons(1, Cons(2, Cons(3, Nil)))\n",
      "Dropping List: Cons(1, Cons(2, Cons(3, Nil)))\n",
      "Dropping List: Cons(2, Cons(3, Nil))\n",
      "Dropping List: Cons(3, Nil)\n",
      "Dropping List: Nil\n"
     ]
    },
    {
     "data": {
      "text/plain": [
       "()"
      ]
     },
     "execution_count": 2,
     "metadata": {},
     "output_type": "execute_result"
    }
   ],
   "source": [
    "use crate::List::{Cons, Nil};\n",
    "\n",
    "#[derive(Debug)]\n",
    "enum List{\n",
    "    Cons(i32, Box<List>),\n",
    "    Nil,\n",
    "}\n",
    "\n",
    "impl Drop for List{\n",
    "    fn drop(&mut self){\n",
    "        println!(\"Dropping List: {:?}\", self);\n",
    "    }\n",
    "}\n",
    "\n",
    "{\n",
    "    let list = Cons(1, Box::new(Cons(2, Box::new(Cons(3, Box::new(Nil))))));\n",
    "    println!(\"Box<List> list = {:?}\", list);\n",
    "}"
   ]
  },
  {
   "attachments": {},
   "cell_type": "markdown",
   "metadata": {},
   "source": [
    "***\n",
    "###### -- [GPT Ask] --\n",
    "***\n",
    "\n",
    "> Dropping List: Cons(1, Cons(2, Cons(3, Nil)))  \n",
    "Dropping List: Cons(2, Cons(3, Nil))  \n",
    "Dropping List: Cons(3, Nil)  \n",
    "Dropping List: Nil  \n",
    "\n",
    "> Explain the drop ORDER ^\n",
    "\n",
    "In the given code, the `List` enum is created using the `Cons` variant, which  \n",
    "contains an `i32` value and a `Box<List>`. The `list` is built using nested  \n",
    "`Cons` variants, each containing a boxed tail of the list:\n",
    "\n",
    "```rust\n",
    "let list = Cons(1, Box::new(Cons(2, Box::new(Cons(3, Box::new(Nil))))));\n",
    "```\n",
    "\n",
    "This `list` can be visualized as follows:\n",
    "\n",
    "```rust\n",
    "Cons(1) -> Cons(2) -> Cons(3) -> Nil\n",
    "```\n",
    "\n",
    "The `Drop` trait is implemented for the `List` enum. When the `list` goes out of  \n",
    "scope at the end of the `main` function, the `drop` method is called for each  \n",
    "element of the list, starting from the outermost `Cons` variant and working its  \n",
    "way inwards.\n",
    "\n",
    "The drop order can be understood by analyzing how the list is stored in memory  \n",
    "and how the ownership of the boxed tails works:\n",
    "\n",
    "1. When `list` goes out of scope, the `drop` method is called for the outermost  \n",
    "`Cons` variant containing the value `1`. This prints the message \"Dropping Cons  \n",
    "with value 1\". The ownership of the boxed tail (Cons(2, Cons(3, Nil))) is  \n",
    "transferred to the `drop` method.\n",
    "\n",
    "2. Now, the `drop` method is called for the next `Cons` variant containing the  \n",
    "value `2`. This prints the message \"Dropping Cons with value 2\". The ownership  \n",
    "of the boxed tail (Cons(3, Nil)) is transferred to the `drop` method.\n",
    "\n",
    "3. The `drop` method is called for the next `Cons` variant containing the value  \n",
    "`3`. This prints the message \"Dropping Cons with value 3\". The ownership of the  \n",
    "boxed tail (Nil) is transferred to the `drop` method.\n",
    "\n",
    "4. Finally, the `drop` method is called for the `Nil` variant. This prints the  \n",
    "message \"Dropping Nil\".\n",
    "\n",
    "The drop order follows the nested structure of the list, as each `Cons` element  \n",
    "owns a boxed tail, and the drop method is called recursively for each owned  \n",
    "tail. As a result, the drop order is:\n",
    "\n",
    "```\n",
    "Dropping List: Cons(1, Cons(2, Cons(3, Nil)))\n",
    "Dropping List: Cons(2, Cons(3, Nil))\n",
    "Dropping List: Cons(3, Nil)\n",
    "Dropping List: Nil\n",
    "```"
   ]
  },
  {
   "attachments": {},
   "cell_type": "markdown",
   "metadata": {},
   "source": [
    "> Listing 15-5: Definition of List that uses Box<T> in order to have a known size\n",
    "\n",
    "#### -- Box breaks Recursive Chain => Indexed Chain --\n",
    "\n",
    "The Cons variant needs the size of an i32 plus the space to store the box’s  \n",
    "pointer data. The Nil variant stores no values, so it needs less space than the  \n",
    "Cons variant. We now know that any List value will take up the size of an i32  \n",
    "plus the size of a box’s pointer data. By using a box, we’ve broken the  \n",
    "infinite, recursive chain, so the compiler can figure out the size it needs to  \n",
    "store a List value. Figure 15-2 shows what the Cons variant looks like now.\n",
    "\n",
    "<img src=\"https://doc.rust-lang.org/book/img/trpl15-02.svg\" width=33%, height=33%>"
   ]
  },
  {
   "attachments": {},
   "cell_type": "markdown",
   "metadata": {},
   "source": [
    "> Figure 15-2: A List that is not infinitely sized because Cons holds a Box\n",
    "\n",
    "#### -- Illustrate Recursion (+) Indirection : Compiles Ok --\n",
    "\n",
    "Boxes provide only the indirection and heap allocation; they don’t have any  \n",
    "other special capabilities, like those we’ll see with the other smart pointer  \n",
    "types. They also don’t have the performance overhead that these special  \n",
    "capabilities incur, so they can be useful in cases like the cons list where the  \n",
    "indirection is the only feature we need. We’ll look at more use cases for boxes  \n",
    "in Chapter 17, too.\n",
    "\n",
    "The Box<T> type is a smart pointer because it implements the Deref trait,  \n",
    "which allows Box<T> values to be treated like references. When a Box<T> value  \n",
    "goes out of scope, the heap data that the box is pointing to is cleaned up as  \n",
    "well because of the Drop trait implementation. These two traits will be even  \n",
    "more important to the functionality provided by the other smart pointer types  \n",
    "we’ll discuss in the rest of this chapter. Let’s explore these two traits in  \n",
    "more detail."
   ]
  },
  {
   "attachments": {},
   "cell_type": "markdown",
   "metadata": {},
   "source": [
    "Treating Smart Pointers Like Regular References with the `Deref` Trait\n",
    "---\n",
    "Implementing the `Deref` trait allows you to customize the behavior of the  \n",
    "dereference operator `*` (not to be confused with the multiplication or glob  \n",
    "operator). By implementing `Deref` in such a way that a smart pointer can be  \n",
    "treated like a regular reference, you can write code that operates on references  \n",
    "and use that code with smart pointers too.\n",
    "\n",
    "Let’s first look at how the dereference operator works with regular references.  \n",
    "Then we’ll try to define a custom type that behaves like Box<T>, and see why the  \n",
    "dereference operator doesn’t work like a reference on our newly defined type.  \n",
    "We’ll explore how implementing the `Deref` trait makes it possible for smart  \n",
    "pointers to work in ways similar to references. Then we’ll look at Rust’s deref  \n",
    "coercion feature and how it lets us work with either references or smart  \n",
    "pointers.\n",
    "\n",
    "> Note: there’s one big difference between the MyBox<T> type we’re about to  \n",
    "build and the real Box<T>: our version will not store its data on the heap. We  \n",
    "are focusing this example on Deref, so where the data is actually stored is less  \n",
    "important than the pointer-like behavior.\n"
   ]
  },
  {
   "attachments": {},
   "cell_type": "markdown",
   "metadata": {},
   "source": [
    "### Following the Pointer to the Value\n",
    "\n",
    "A regular `reference` is a type of pointer, and one way to think of a pointer is  \n",
    "as an `arrow to a value stored somewhere` else. In Listing 15-6, we create a  \n",
    "`reference` to an `i32` value and then use the `dereference` operator to  \n",
    "`follow` the `reference` to the `value`:\n",
    "\n",
    "> Filename: src/main.rs"
   ]
  },
  {
   "cell_type": "code",
   "execution_count": 8,
   "metadata": {},
   "outputs": [
    {
     "data": {
      "text/plain": [
       "()"
      ]
     },
     "execution_count": 8,
     "metadata": {},
     "output_type": "execute_result"
    }
   ],
   "source": [
    "{\n",
    "    let x = 5;   // x is assigned 5\n",
    "    let y = &x;  // y is assigned the address of x\n",
    "\n",
    "    assert_eq!(5, x);  // 5 is the value at x\n",
    "    assert_eq!(5, *y); // 5 is the value we get FOLLOWING where y is pointed to\n",
    "    // assert_eq!(5, y);  // compilation error : 5 and y (a pointer) are different types\n",
    "}"
   ]
  },
  {
   "attachments": {},
   "cell_type": "markdown",
   "metadata": {},
   "source": [
    "#### -- Line by Line Assert Pointer, Dereference and their Value --\n",
    "\n",
    "Line by line explanation :\n",
    "\n",
    "- The variable x holds an i32 `value` 5. \n",
    "- We set y equal to a `reference` to x. \n",
    "\n",
    "We can assert that : \n",
    "- x is equal to 5.  \n",
    "\n",
    "However, if we want to make an assertion about the value in y :  \n",
    "- we have to use `*y` to `follow the reference to the value` it’s pointing  \n",
    "to (hence dereference) so the compiler can compare the actual value. \n",
    "\n",
    "Once we `dereference y`, we have access to the integer value y is pointing to : \n",
    "- we can `compare with 5`\n",
    "\n",
    "If we tried to write assert_eq!(5, y); instead, we would get this compilation  \n",
    "error:\n",
    "\n",
    "```sh\n",
    "$ cargo run\n",
    "   Compiling deref-example v0.1.0 (file:///projects/deref-example)\n",
    "error[E0277]: can't compare `{integer}` with `&{integer}`\n",
    " --> src/main.rs:6:5\n",
    "  |\n",
    "6 |     assert_eq!(5, y);\n",
    "  |     ^^^^^^^^^^^^^^^^ no implementation for `{integer} == &{integer}`\n",
    "  |\n",
    "  = help: the trait `PartialEq<&{integer}>` is not implemented for `{integer}`\n",
    "  = help: the following other types implement trait `PartialEq<Rhs>`:\n",
    "            f32\n",
    "            f64\n",
    "            i128\n",
    "            i16\n",
    "            i32\n",
    "            i64\n",
    "            i8\n",
    "            isize\n",
    "          and 6 others\n",
    "  = note: this error originates in the macro `assert_eq` (in Nightly builds,  \n",
    "  run with -Z macro-backtrace for more info)\n",
    "\n",
    "For more information about this error, try `rustc --explain E0277`.\n",
    "error: could not compile `deref-example` due to previous error\n",
    "```\n",
    "\n",
    "> Comparing a number and a reference to a number isn’t allowed because they’re  \n",
    "different types. We **must use the dereference operator to follow** the reference  \n",
    "to the **value it’s pointing to**."
   ]
  },
  {
   "attachments": {},
   "cell_type": "markdown",
   "metadata": {},
   "source": [
    "### Using Box<T> Like a Reference\n",
    "\n",
    "We can rewrite the code in Listing 15-6 to use a Box<T> instead of a reference;  \n",
    "the dereference operator used on the Box<T> in Listing 15-7 functions in the  \n",
    "same way as the dereference operator used on the reference in Listing 15-6:\n",
    "\n",
    "> Filename: src/main.rs"
   ]
  },
  {
   "cell_type": "code",
   "execution_count": 12,
   "metadata": {},
   "outputs": [
    {
     "data": {
      "text/plain": [
       "()"
      ]
     },
     "execution_count": 12,
     "metadata": {},
     "output_type": "execute_result"
    }
   ],
   "source": [
    "{\n",
    "    let x = 5;\n",
    "    let y = Box::new(x); // y is a Box containing the value of x\n",
    "\n",
    "    assert_eq!(5, x);   // x still has it's original value\n",
    "    assert_eq!(5, *y);  // *y dereferences the Box, giving us the value stored inside\n",
    "\n",
    "    // This also works because z is assigned a Box containing the value 5 DIRECTLY\n",
    "    let z = Box::new(5);\n",
    "    assert_eq!(5, *z);   // z dereferences the Box, giving us the value stored inside\n",
    "}"
   ]
  },
  {
   "attachments": {},
   "cell_type": "markdown",
   "metadata": {},
   "source": [
    "> Listing 15-7: Using the dereference operator on a Box<i32>\n",
    "\n",
    "#### -- Difference between Box and Reference Example --\n",
    "\n",
    "The main difference between Listing 15-7 and Listing 15-6 is that here we set y  \n",
    "to be an instance of a Box<T> pointing to a copied value of x rather than a  \n",
    "reference pointing to the value of x. In the last assertion, we can use the  \n",
    "dereference operator to follow the pointer of the Box<T> in the same way that  \n",
    "we did when y was a reference. Next, we’ll explore what is special about Box<T>  \n",
    "that enables us to use the dereference operator by defining our own type."
   ]
  },
  {
   "attachments": {},
   "cell_type": "markdown",
   "metadata": {},
   "source": [
    "***\n",
    "###### -- [GPT Ask] --\n",
    "***\n",
    "\n",
    "> Can you explain the difference between a Box and a reference?\n",
    "\n",
    "Certainly! Both `Box` and references (`&` and `&mut`) in Rust are used for  \n",
    "working with data indirectly, but they serve different purposes and have  \n",
    "different properties. Here's a brief explanation of the differences between a  \n",
    "`Box` and a reference:\n",
    "\n",
    "1. **Ownership and lifetime:** A `Box` is a smart pointer that owns the data it  \n",
    "points to and is responsible for deallocating the memory when it goes out of  \n",
    "scope. References, on the other hand, do not own the data they point to and do  \n",
    "not deallocate memory. Instead, they \"borrow\" the data from the owner  \n",
    "temporarily, and their lifetimes are bound to the scope of the owner.\n",
    "\n",
    "2. **Heap allocation:** A `Box` always allocates its data on the heap, which is  \n",
    "suitable for large or dynamically sized data structures. References do not  \n",
    "allocate memory themselves; they point to data that may be stored on the stack  \n",
    "or the heap, depending on the original owner.\n",
    "\n",
    "3. **Mutability:** A `Box` allows mutable access to the data it owns if it is  \n",
    "declared as mutable (e.g., `let mut x = Box::new(5)`). References can be either  \n",
    "mutable (`&mut`) or immutable (`&`), but the mutable references follow Rust's  \n",
    "borrowing rules, which prevent multiple mutable references or a mix of mutable  \n",
    "and immutable references to the same data simultaneously. This ensures memory  \n",
    "safety and prevents data races.\n",
    "\n",
    "4. **Dereferencing:** Both `Box` and references can be dereferenced to access  \n",
    "the underlying data. With a `Box`, you use the `*` operator to dereference  \n",
    "(e.g., `*my_box`), and you do the same with references (e.g., `*my_ref`).\n",
    "\n",
    "5. **Use cases:** A `Box` is often used for heap-allocated data, recursive data  \n",
    "structures, or when transferring ownership of data between different parts of  \n",
    "the code. References, on the other hand, are used for temporarily borrowing data  \n",
    "without transferring ownership. This allows for more flexible and safe  \n",
    "interactions with data, following Rust's borrowing rules.\n",
    "\n",
    "In summary, a `Box` is a smart pointer that owns the data it points to and  \n",
    "allocates it on the heap, while references are a way to temporarily borrow data  \n",
    "without taking ownership. Both can be used to work with data indirectly, but  \n",
    "their properties and use cases are different, depending on the needs of your  \n",
    "program."
   ]
  },
  {
   "attachments": {},
   "cell_type": "markdown",
   "metadata": {},
   "source": [
    "### Defining Our Own Smart Pointer\n",
    "\n",
    "Let’s build a smart pointer similar to the Box<T> type provided by the standard  \n",
    "library to experience how smart pointers behave differently from references by  \n",
    "default. Then we’ll look at how to add the ability to use the dereference  \n",
    "operator.\n",
    "\n",
    "The Box<T> type is ultimately defined as a tuple struct with one element, so  \n",
    "Listing 15-8 defines a MyBox<T> type in the same way. We’ll also define a new  \n",
    "function to match the new function defined on Box<T>.\n",
    "\n",
    "> Filename: src/main.rs"
   ]
  },
  {
   "cell_type": "code",
   "execution_count": 20,
   "metadata": {},
   "outputs": [],
   "source": [
    "#[derive(Debug)]\n",
    "struct MyBox<T>(T);\n",
    "\n",
    "impl<T> MyBox<T>{\n",
    "    fn new(x:T) -> MyBox<T>{\n",
    "        MyBox(x)\n",
    "    }\n",
    "}"
   ]
  },
  {
   "attachments": {},
   "cell_type": "markdown",
   "metadata": {},
   "source": [
    "> Listing 15-8: Defining a MyBox<T> type\n",
    "\n",
    "#### -- Minimum HomeBrew `MyBox<T>` Plain Struct Example --\n",
    "\n",
    "We define a struct named MyBox and declare a generic parameter T, because we  \n",
    "want our type to hold values of any type. The MyBox type is a tuple struct with  \n",
    "one element of type T. The MyBox::new function takes one parameter of type T and  \n",
    "returns a MyBox instance that holds the value passed in.  \n",
    "\n",
    "Let’s try adding the main function in Listing 15-7 to Listing 15-8 and changing  \n",
    "it to use the MyBox<T> type we’ve defined instead of Box<T>. The code in  \n",
    "Listing 15-9 won’t compile because Rust doesn’t know how to dereference MyBox.  \n",
    "\n",
    "> Filename: src/main.rs"
   ]
  },
  {
   "cell_type": "code",
   "execution_count": 3,
   "metadata": {},
   "outputs": [
    {
     "ename": "Error",
     "evalue": "type `MyBox<{integer}>` cannot be dereferenced",
     "output_type": "error",
     "traceback": [
      "\u001b[31m[E0614] Error:\u001b[0m type `MyBox<{integer}>` cannot be dereferenced",
      "   \u001b[38;5;246m╭\u001b[0m\u001b[38;5;246m─\u001b[0m\u001b[38;5;246m[\u001b[0mcommand_3:1:1\u001b[38;5;246m]\u001b[0m",
      "   \u001b[38;5;246m│\u001b[0m",
      " \u001b[38;5;246m6 │\u001b[0m \u001b[38;5;249m \u001b[0m\u001b[38;5;249m \u001b[0m\u001b[38;5;249m \u001b[0m\u001b[38;5;249m \u001b[0m\u001b[38;5;249ma\u001b[0m\u001b[38;5;249ms\u001b[0m\u001b[38;5;249ms\u001b[0m\u001b[38;5;249me\u001b[0m\u001b[38;5;249mr\u001b[0m\u001b[38;5;249mt\u001b[0m\u001b[38;5;249m_\u001b[0m\u001b[38;5;249me\u001b[0m\u001b[38;5;249mq\u001b[0m\u001b[38;5;249m!\u001b[0m\u001b[38;5;249m(\u001b[0m\u001b[38;5;249m5\u001b[0m\u001b[38;5;249m,\u001b[0m\u001b[38;5;249m \u001b[0m\u001b[38;5;54m*\u001b[0m\u001b[38;5;54my\u001b[0m\u001b[38;5;249m)\u001b[0m\u001b[38;5;249m;\u001b[0m\u001b[38;5;249m \u001b[0m\u001b[38;5;249m \u001b[0m\u001b[38;5;249m/\u001b[0m\u001b[38;5;249m/\u001b[0m\u001b[38;5;249m \u001b[0m\u001b[38;5;249me\u001b[0m\u001b[38;5;249mr\u001b[0m\u001b[38;5;249mr\u001b[0m\u001b[38;5;249mo\u001b[0m\u001b[38;5;249mr\u001b[0m\u001b[38;5;249m:\u001b[0m\u001b[38;5;249m \u001b[0m\u001b[38;5;249mt\u001b[0m\u001b[38;5;249my\u001b[0m\u001b[38;5;249mp\u001b[0m\u001b[38;5;249me\u001b[0m\u001b[38;5;249m \u001b[0m\u001b[38;5;249m`\u001b[0m\u001b[38;5;249mM\u001b[0m\u001b[38;5;249my\u001b[0m\u001b[38;5;249mB\u001b[0m\u001b[38;5;249mo\u001b[0m\u001b[38;5;249mx\u001b[0m\u001b[38;5;249m<\u001b[0m\u001b[38;5;249m{\u001b[0m\u001b[38;5;249mi\u001b[0m\u001b[38;5;249mn\u001b[0m\u001b[38;5;249mt\u001b[0m\u001b[38;5;249me\u001b[0m\u001b[38;5;249mg\u001b[0m\u001b[38;5;249me\u001b[0m\u001b[38;5;249mr\u001b[0m\u001b[38;5;249m}\u001b[0m\u001b[38;5;249m>\u001b[0m\u001b[38;5;249m`\u001b[0m\u001b[38;5;249m \u001b[0m\u001b[38;5;249mc\u001b[0m\u001b[38;5;249ma\u001b[0m\u001b[38;5;249mn\u001b[0m\u001b[38;5;249mn\u001b[0m\u001b[38;5;249mo\u001b[0m\u001b[38;5;249mt\u001b[0m\u001b[38;5;249m \u001b[0m\u001b[38;5;249mb\u001b[0m\u001b[38;5;249me\u001b[0m\u001b[38;5;249m \u001b[0m\u001b[38;5;249md\u001b[0m\u001b[38;5;249me\u001b[0m\u001b[38;5;249mr\u001b[0m\u001b[38;5;249me\u001b[0m\u001b[38;5;249mf\u001b[0m\u001b[38;5;249me\u001b[0m\u001b[38;5;249mr\u001b[0m\u001b[38;5;249me\u001b[0m\u001b[38;5;249mn\u001b[0m\u001b[38;5;249mc\u001b[0m\u001b[38;5;249me\u001b[0m\u001b[38;5;249md\u001b[0m",
      " \u001b[38;5;246m  ·\u001b[0m                   \u001b[38;5;54m─\u001b[0m\u001b[38;5;54m┬\u001b[0m  ",
      " \u001b[38;5;246m  ·\u001b[0m                    \u001b[38;5;54m╰\u001b[0m\u001b[38;5;54m─\u001b[0m\u001b[38;5;54m─\u001b[0m error: type `MyBox<{integer}>` cannot be dereferenced",
      "\u001b[38;5;246m───╯\u001b[0m"
     ]
    }
   ],
   "source": [
    "{\n",
    "    let x = 5;\n",
    "    let y = MyBox::new(x);\n",
    "\n",
    "    assert_eq!(5, x);\n",
    "    assert_eq!(5, *y);  // error: type `MyBox<{integer}>` cannot be dereferenced\n",
    "                        // To enable the * operator, we need to implement the Deref trait\n",
    "}"
   ]
  },
  {
   "attachments": {},
   "cell_type": "markdown",
   "metadata": {},
   "source": [
    "\n",
    "> Listing 15-9: Attempting to use MyBox<T> in the same way we used references and Box<T>\n",
    "\n",
    "Here’s the resulting compilation error:  \n",
    "\n",
    "```sh\n",
    "$ cargo run\n",
    "   Compiling deref-example v0.1.0 (file:///projects/deref-example)\n",
    "error[E0614]: type `MyBox<{integer}>` cannot be dereferenced\n",
    "  --> src/main.rs:14:19\n",
    "   |\n",
    "14 |     assert_eq!(5, *y);\n",
    "   |                   ^^\n",
    "\n",
    "For more information about this error, try `rustc --explain E0614`.\n",
    "error: could not compile `deref-example` due to previous error\n",
    "```\n",
    "\n",
    "#### -- Plain Struct doesn't Deref : Compilation Error --\n",
    "\n",
    "Our MyBox<T> type can’t be dereferenced because we haven’t implemented that  \n",
    "ability on our type. To enable dereferencing with the * operator, we implement  \n",
    "the Deref trait."
   ]
  },
  {
   "attachments": {},
   "cell_type": "markdown",
   "metadata": {},
   "source": [
    "### Treating a Type Like a Reference by Implementing the `Deref` Trait\n",
    "\n",
    "As discussed in the “Implementing a Trait on a Type” section of Chapter 10, to  \n",
    "implement a trait, we need to provide implementations for the trait’s required  \n",
    "methods. The `Deref` trait, provided by the standard library, requires us to  \n",
    "implement one method named deref that `borrows` self and `returns a reference` to  \n",
    "the inner data. Listing 15-10 contains an implementation of Deref to add to the  \n",
    "definition of MyBox:\n",
    "\n",
    "Filename: src/main.rs"
   ]
  },
  {
   "cell_type": "code",
   "execution_count": 35,
   "metadata": {},
   "outputs": [
    {
     "name": "stdout",
     "output_type": "stream",
     "text": [
      "Deref for MyBox<T> is called MyBox(5)\n"
     ]
    }
   ],
   "source": [
    "use std::ops::Deref;\n",
    "use std::fmt::Debug; // Debug trait is required for println! macro\n",
    "\n",
    "impl<T: Debug> Deref for MyBox<T>{ // Deref trait is implemented for MyBox<T>\n",
    "    type Target = T;\n",
    "    fn deref(&self) -> &Self::Target{\n",
    "        println!(\"Deref for MyBox<T> is called {:?}\", self);\n",
    "        &self.0\n",
    "    }\n",
    "}\n",
    "\n",
    "{   \n",
    "    let x = 5;\n",
    "    let y = MyBox::new(x);\n",
    "\n",
    "    assert_eq!(5, x);\n",
    "    // deref for MyBox now works\n",
    "    // @audit-ok - explain why does deref work for MyBox now\n",
    "    // ANSWER : Because we implemented the Deref trait for MyBox\n",
    "    assert_eq!(5, *y); \n",
    "}\n",
    "\n",
    "// @audit-ok : why is there an error when I run this cell twice?\n",
    "// ANSWER : We need to clear the previous implementation of Deref\n",
    "// REPL we need to reset manually -> Developer : Reload Window\n",
    "// Actually can be closured ..."
   ]
  },
  {
   "attachments": {},
   "cell_type": "markdown",
   "metadata": {},
   "source": [
    "> Listing 15-10: Implementing Deref on MyBox<T>\n",
    "\n",
    "#### -- Implmenting Deref on `MyBox<T>` --\n",
    "\n",
    "- The type `Target = T;` syntax defines an associated type for the `Deref` trait  \n",
    "to use. Associated types are a slightly different way of declaring a generic  \n",
    "parameter, but you don’t need to worry about them for now; we’ll cover them in  \n",
    "more detail in Chapter 19.  \n",
    "\n",
    "- We fill in the body of the deref method with `&self.0` so deref returns a  \n",
    "reference to the value we want to access with the * operator; recall from the  \n",
    "“Using Tuple Structs without Named Fields to Create Different Types” section of  \n",
    "Chapter 5 that `.0 accesses the first value in a tuple struct`. The main  \n",
    "function in Listing 15-9 that calls * on the MyBox<T> value now compiles, and  \n",
    "the assertions pass!"
   ]
  },
  {
   "attachments": {},
   "cell_type": "markdown",
   "metadata": {},
   "source": [
    "#### -- *(y.deref()) // * syntatic sugar => impl Deref --\n",
    "\n",
    "Without the Deref trait, the compiler can only dereference & references. The  \n",
    "deref method gives the compiler the ability to take a value of any type that  \n",
    "implements Deref and call the deref method to get a & reference that it knows  \n",
    "how to dereference.\n",
    "\n",
    "When we entered *y in Listing 15-9, behind the scenes Rust actually ran this  \n",
    "code:  \n",
    "\n",
    "```rust\n",
    "*(y.deref()) // syntatic sugar for *\n",
    "\n",
    "// the plain dereference outside the parentheses in *(y.deref()) is still \n",
    "// necessary because if the deref method returned the value DIRECTLY the \n",
    "// - value would be moved out of self\n",
    "// - we don't want OWNERSHIP of the inner value when DEREFERENCING in  \n",
    "// most cases\n",
    "// - *(deref()) pattern is a bias to Rust OWNERSHIP rules\n",
    "\n",
    "```\n",
    "\n",
    "Rust `substitutes the * operator with a call to the deref method`  \n",
    "and then a plain dereference so we don’t have to think about whether or not we  \n",
    "need to call the deref method. This Rust feature lets us write code that  \n",
    "functions identically whether we have a regular reference or a type that  \n",
    "implements Deref."
   ]
  },
  {
   "attachments": {},
   "cell_type": "markdown",
   "metadata": {},
   "source": [
    "#### -- Ownership system requires indirect ref preserve self --\n",
    "\n",
    "The reason the deref method returns a reference to a value, and that the plain  \n",
    "dereference outside the parentheses in *(y.deref()) is still necessary, is to  \n",
    "do with the ownership system. If the deref method returned the value directly  \n",
    "instead of a reference to the value, the value would be moved out of self. We  \n",
    "don’t want to take ownership of the inner value inside MyBox<T> in this case or  \n",
    "in most cases where we use the dereference operator.  \n",
    "\n",
    "> Note that the * operator is replaced with a call to the deref method and then  \n",
    "a call to the * operator just once, each time we use a * in our code. Because  \n",
    "the substitution of the * operator does not recurse infinitely, we end up with  \n",
    "data of type i32, which matches the 5 in assert_eq! in Listing 15-9.  "
   ]
  },
  {
   "attachments": {},
   "cell_type": "markdown",
   "metadata": {},
   "source": [
    "### Implicit Deref Coercions with Functions and Methods\n",
    "\n",
    "Deref coercion converts a reference to a type that implements the Deref trait  \n",
    "into a reference to another type. \n",
    "\n",
    "For example, deref coercion can convert :\n",
    "\n",
    "- `&String` to `&str` \n",
    "- because `String` implements the `Deref` trait such that it returns `&str` \n",
    "\n",
    "Deref coercion is a convenience Rust performs on arguments to functions and  \n",
    "methods, and works only on types that implement the Deref trait. It happens  \n",
    "automatically when we pass a reference to a particular type’s value as an  \n",
    "argument to a function or method that doesn’t match the parameter type in the  \n",
    "function or method definition. A sequence of calls to the deref method converts  \n",
    "the type we provided into the type the parameter needs."
   ]
  },
  {
   "attachments": {},
   "cell_type": "markdown",
   "metadata": {},
   "source": [
    "Deref coercion was added to Rust so that programmers writing function and method  \n",
    "calls don’t need to add as many explicit references and dereferences  \n",
    "with & and *. The deref coercion feature also lets us write more code that can  \n",
    "work for either references or smart pointers.\n",
    "\n",
    "To see deref coercion in action, let’s use the MyBox<T> type we defined in  \n",
    "Listing 15-8 as well as the implementation of Deref that we added in  \n",
    "Listing 15-10. Listing 15-11 shows the definition of a function that has a  \n",
    "string slice parameter:\n",
    "\n",
    "> Filename: src/main.rs"
   ]
  },
  {
   "cell_type": "code",
   "execution_count": 36,
   "metadata": {},
   "outputs": [],
   "source": [
    "fn hello(name: &str) {\n",
    "    println!(\"Hello, {}!\", name);\n",
    "}"
   ]
  },
  {
   "attachments": {},
   "cell_type": "markdown",
   "metadata": {},
   "source": [
    "> Listing 15-11: A hello function that has the parameter name of type &str\n",
    "\n",
    "We can call the hello function with a string slice as an argument, such as  \n",
    "hello(\"Rust\"); for example. Deref coercion makes it possible to call hello with  \n",
    "a reference to a value of type MyBox<String>, as shown in Listing 15-12:\n",
    "\n",
    "> Filename: src/main.rs"
   ]
  },
  {
   "cell_type": "code",
   "execution_count": 38,
   "metadata": {},
   "outputs": [
    {
     "name": "stdout",
     "output_type": "stream",
     "text": [
      "Deref for MyBox<T> is called MyBox(\"Rust\")\n",
      "Hello, Rust!\n"
     ]
    },
    {
     "data": {
      "text/plain": [
       "()"
      ]
     },
     "execution_count": 38,
     "metadata": {},
     "output_type": "execute_result"
    }
   ],
   "source": [
    "{\n",
    "    let m = MyBox::new(String::from(\"Rust\"));\n",
    "    hello(&m);\n",
    "}"
   ]
  },
  {
   "attachments": {},
   "cell_type": "markdown",
   "metadata": {},
   "source": [
    "Listing 15-12: Calling hello with a reference to a MyBox<String> value, which  \n",
    "works because of deref coercion\n",
    "\n",
    "Here we’re calling the hello function with the argument &m, which is a reference  \n",
    "to a MyBox<String> value. Because we implemented the Deref trait on MyBox<T> in  \n",
    "Listing 15-10, Rust can turn &MyBox<String> into &String by calling deref. The  \n",
    "standard library provides an implementation of Deref on String that returns a  \n",
    "string slice, and this is in the API documentation for Deref. Rust calls deref  \n",
    "again to turn the &String into &str, which matches the hello function’s definition.\n",
    "\n",
    "If Rust didn’t implement deref coercion, we would have to write the code in  \n",
    "Listing 15-13 instead of the code in Listing 15-12 to call hello with a value of  \n",
    "type &MyBox<String>.\n",
    "\n",
    "Filename: src/main.rs"
   ]
  },
  {
   "cell_type": "code",
   "execution_count": 42,
   "metadata": {},
   "outputs": [
    {
     "name": "stdout",
     "output_type": "stream",
     "text": [
      "Deref for MyBox<T> is called MyBox(\"Rust\")\n",
      "Hello, Rust!\n"
     ]
    },
    {
     "data": {
      "text/plain": [
       "()"
      ]
     },
     "execution_count": 42,
     "metadata": {},
     "output_type": "execute_result"
    }
   ],
   "source": [
    "{\n",
    "    let m = MyBox::new(String::from(\"Rust\"));\n",
    "    // hello(&(m.deref()));\n",
    "    hello(&(*m)[..]);\n",
    "}"
   ]
  },
  {
   "attachments": {},
   "cell_type": "markdown",
   "metadata": {},
   "source": [
    "> Listing 15-13: The code we would have to write if Rust didn’t have deref  \n",
    "coercion\n",
    "\n",
    "The (*m) dereferences the MyBox<String> into a String. Then the & and [..] take  \n",
    "a string slice of the String that is equal to the whole string to match the  \n",
    "signature of hello. This code without deref coercions is harder to read, write,  \n",
    "and understand with all of these symbols involved. Deref coercion allows Rust to  \n",
    "handle these conversions for us automatically.\n",
    "\n",
    "When the Deref trait is defined for the types involved, Rust will analyze the  \n",
    "types and use Deref::deref as many times as necessary to get a reference to  \n",
    "match the parameter’s type. The number of times that Deref::deref needs to be  \n",
    "inserted is resolved at compile time, so there is no runtime penalty for taking  \n",
    "advantage of deref coercion!"
   ]
  },
  {
   "attachments": {},
   "cell_type": "markdown",
   "metadata": {},
   "source": [
    "### How Deref Coercion Interacts with Mutability\n",
    "\n",
    "Similar to how you use the Deref trait to override the * operator on immutable  \n",
    "references, you can use the DerefMut trait to override the * operator on mutable  \n",
    "references.\n",
    "\n",
    "Rust does deref coercion when it finds types and trait implementations in three  \n",
    "cases:\n",
    "- From &T to &U when T: Deref<Target=U>\n",
    "- From &mut T to &mut U when T: DerefMut<Target=U>\n",
    "- From &mut T to &U when T: Deref<Target=U>\n",
    "\n",
    "The first two cases are the same as each other except that the second implements  \n",
    "mutability. The first case states that if you have a &T, and T implements Deref  \n",
    "to some type U, you can get a &U transparently. The second case states that the  \n",
    "same deref coercion happens for mutable references.\n",
    "\n",
    "The third case is trickier: Rust will also coerce a mutable reference to an  \n",
    "immutable one. But the reverse is not possible: immutable references will never  \n",
    "coerce to mutable references. Because of the borrowing rules, if you have a  \n",
    "mutable reference, that mutable reference must be the only reference to that  \n",
    "data (otherwise, the program wouldn’t compile). Converting one mutable reference  \n",
    "to one immutable reference will never break the borrowing rules. Converting an  \n",
    "immutable reference to a mutable reference would require that the initial  \n",
    "immutable reference is the only immutable reference to that data, but the  \n",
    "borrowing rules don’t guarantee that. Therefore, Rust can’t make the assumption  \n",
    "that converting an immutable reference to a mutable reference is possible."
   ]
  },
  {
   "attachments": {},
   "cell_type": "markdown",
   "metadata": {},
   "source": [
    "Running Code on Cleanup with the `Drop` Trait\n",
    "---\n",
    "\n",
    "The second trait important to the smart pointer pattern is Drop, which lets you  \n",
    "customize what happens when a value is about to go out of scope. You can provide  \n",
    "an implementation for the Drop trait on any type, and that code can be used to  \n",
    "release resources like files or network connections.\n",
    "\n",
    "We’re introducing Drop in the context of smart pointers because the  \n",
    "functionality of the Drop trait is almost always used when implementing a smart  \n",
    "pointer. For example, when a Box<T> is dropped it will deallocate the space on  \n",
    "the heap that the box points to."
   ]
  },
  {
   "attachments": {},
   "cell_type": "markdown",
   "metadata": {},
   "source": [
    "In some languages, for some types, the programmer must call code to free memory  \n",
    "or resources every time they finish using an instance of those types. Examples  \n",
    "include file handles, sockets, or locks. If they forget, the system might become  \n",
    "overloaded and crash. In Rust, you can specify that a particular bit of code be  \n",
    "run whenever a value goes out of scope, and the compiler will insert this code  \n",
    "automatically. As a result, you don’t need to be careful about placing cleanup  \n",
    "code everywhere in a program that an instance of a particular type is finished  \n",
    "with—you still won’t leak resources!"
   ]
  },
  {
   "attachments": {},
   "cell_type": "markdown",
   "metadata": {},
   "source": [
    "You specify the code to run when a value goes out of scope by implementing the  \n",
    "Drop trait. The Drop trait requires you to implement one method named drop that  \n",
    "takes a mutable reference to self. To see when Rust calls drop, let’s implement  \n",
    "drop with println! statements for now.\n",
    "\n",
    "Listing 15-14 shows a CustomSmartPointer struct whose only custom functionality  \n",
    "is that it will print Dropping CustomSmartPointer! when the instance goes out of  \n",
    "scope, to show when Rust runs the drop function.\n",
    "\n",
    "Filename: src/main.rs"
   ]
  },
  {
   "cell_type": "code",
   "execution_count": 49,
   "metadata": {},
   "outputs": [
    {
     "name": "stdout",
     "output_type": "stream",
     "text": [
      "CustomSmartPointers created!\n",
      "Dropping CustomSmartPointer with data `the kids off`!\n",
      "Dropping CustomSmartPointer with data `at the pool`!\n"
     ]
    },
    {
     "data": {
      "text/plain": [
       "()"
      ]
     },
     "execution_count": 49,
     "metadata": {},
     "output_type": "execute_result"
    }
   ],
   "source": [
    "struct CustomSmartPointer{\n",
    "    data: String,\n",
    "}\n",
    "\n",
    "impl Drop for CustomSmartPointer{\n",
    "    fn drop(&mut self){\n",
    "        println!(\"Dropping CustomSmartPointer with data `{}`!\", self.data);\n",
    "    }\n",
    "}\n",
    "\n",
    "// a real mature scenario lol\n",
    "{\n",
    "    let d = CustomSmartPointer{\n",
    "        data: String::from(\"at the pool\"),\n",
    "    };\n",
    "    let c = CustomSmartPointer{\n",
    "        data: String::from(\"the kids off\"),\n",
    "    };\n",
    "    // The order of droppage is the reverse of the order of creation\n",
    "    println!(\"CustomSmartPointers created!\");\n",
    "}"
   ]
  }
 ],
 "metadata": {
  "kernelspec": {
   "display_name": "Rust",
   "language": "rust",
   "name": "rust"
  },
  "language_info": {
   "codemirror_mode": "rust",
   "file_extension": ".rs",
   "mimetype": "text/rust",
   "name": "rust",
   "pygment_lexer": "rust",
   "version": ""
  },
  "orig_nbformat": 4
 },
 "nbformat": 4,
 "nbformat_minor": 2
}
