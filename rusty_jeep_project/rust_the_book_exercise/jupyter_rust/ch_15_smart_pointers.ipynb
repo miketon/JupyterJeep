{
 "cells": [
  {
   "attachments": {},
   "cell_type": "markdown",
   "metadata": {},
   "source": [
    "Smart Pointers\n",
    "---\n",
    "\n",
    "A pointer is a general concept for a variable that contains an address in memory.  \n",
    "This address refers to, or “points at,” some other data. The most common kind of  \n",
    "pointer in Rust is a reference, which you learned about in Chapter 4. References  \n",
    "are indicated by the & symbol and borrow the value they point to. They don’t  \n",
    "have any special capabilities other than referring to data, and have no overhead.  \n",
    "\n",
    "Smart pointers, on the other hand, are data structures that act like a pointer  \n",
    "but also have additional metadata and capabilities. The concept of smart  \n",
    "pointers isn’t unique to Rust: smart pointers originated in C++ and exist in  \n",
    "other languages as well. Rust has a variety of smart pointers defined in the  \n",
    "standard library that provide functionality beyond that provided by references.  \n",
    "To explore the general concept, we’ll look at a couple of different examples of  \n",
    "smart pointers, including a reference counting smart pointer type. This pointer  \n",
    "enables you to allow data to have multiple owners by keeping track of the number  \n",
    "of owners and, when no owners remain, cleaning up the data.  \n",
    "\n",
    "Rust, with its concept of ownership and borrowing, has an additional difference  \n",
    "between references and smart pointers: while references only borrow data, in  \n",
    "many cases, smart pointers own the data they point to.  "
   ]
  },
  {
   "attachments": {},
   "cell_type": "markdown",
   "metadata": {},
   "source": [
    "Though we didn’t call them as such at the time, we’ve already encountered a few  \n",
    "smart pointers in this book, including `String` and `Vec<T>` in Chapter 8. Both  \n",
    "these types count as smart pointers because they own some memory and allow you  \n",
    "to manipulate it. They also have metadata and extra capabilities or guarantees.  \n",
    "String, for example, stores its capacity as metadata and has the extra ability  \n",
    "to ensure its data will always be valid UTF-8.  \n",
    "\n",
    "Smart pointers are usually implemented using structs. Unlike an ordinary struct,  \n",
    "smart pointers implement the `Deref` and `Drop` traits. \n",
    "- The `Deref` trait allows an instance of the smart pointer struct to behave  \n",
    "like a reference so you can write your code to work with either references or  \n",
    "smart pointers.  \n",
    "- The `Drop` trait allows you to customize the code that’s run when an instance  \n",
    "of the smart pointer goes out of scope.  \n",
    "\n",
    "In this chapter, we’ll discuss both traits and demonstrate why they’re important  \n",
    "to smart pointers."
   ]
  },
  {
   "attachments": {},
   "cell_type": "markdown",
   "metadata": {},
   "source": [
    "Given that the smart pointer pattern is a general design pattern used frequently  \n",
    "in Rust, this chapter won’t cover every existing smart pointer. Many libraries  \n",
    "have their own smart pointers, and you can even write your own. We’ll cover the  \n",
    "most common smart pointers in the standard library:  \n",
    "\n",
    "- Box<T> for allocating values on the heap  \n",
    "- Rc<T>, a reference counting type that enables multiple ownership  \n",
    "- Ref<T> and RefMut<T>, accessed through RefCell<T>, a type that enforces the  \n",
    "borrowing rules at runtime instead of compile time  \n",
    "\n",
    "\n",
    "In addition, we’ll cover the interior mutability pattern where an immutable type  \n",
    "exposes an API for mutating an interior value. We’ll also discuss reference  \n",
    "cycles: how they can leak memory and how to prevent them.  \n",
    "\n",
    "Let’s dive in!  "
   ]
  },
  {
   "attachments": {},
   "cell_type": "markdown",
   "metadata": {},
   "source": [
    "Using Box<T> to Point to Data on the Heap\n",
    "---\n",
    "\n",
    "The most straightforward smart pointer is a box, whose type is written `Box<T>`.  \n",
    "Boxes allow you to store data on the heap rather than the stack. What remains on  \n",
    "the stack is the pointer to the heap data. Refer to Chapter 4 to review the  \n",
    "difference between the stack and the heap.  \n",
    "\n",
    "Boxes don’t have performance overhead, other than storing their data on the heap  \n",
    "instead of on the stack. But they don’t have many extra capabilities either.  \n",
    "You’ll use them most often in these situations:  \n",
    "\n",
    "- When you have a type whose size can’t be known at compile time and you want to  \n",
    "use a value of that type in a context that requires an exact size  \n",
    "- When you have a large amount of data and you want to transfer ownership but  \n",
    "ensure the data won’t be copied when you do so  \n",
    "- When you want to own a value and you care only that it’s a type that  \n",
    "implements a particular trait rather than being of a specific type\n",
    "\n",
    "We’ll demonstrate the first situation in the  \n",
    "“Enabling Recursive Types with Boxes” section. In the second case, transferring  \n",
    "ownership of a large amount of data can take a long time because the data is  \n",
    "copied around on the stack. To improve performance in this situation, we can  \n",
    "store the large amount of data on the heap in a box. Then, only the small amount  \n",
    "of pointer data is copied around on the stack, while the data it references  \n",
    "stays in one place on the heap. The third case is known as a trait object, and  \n",
    "Chapter 17 devotes an entire section, “Using Trait Objects That Allow for Values  \n",
    "of Different Types,” just to that topic. So what you learn here you’ll apply  \n",
    "again in Chapter 17!"
   ]
  },
  {
   "attachments": {},
   "cell_type": "markdown",
   "metadata": {},
   "source": [
    "### Using a Box<T> to Store Data on the Heap\n",
    "\n",
    "Before we discuss the heap storage use case for Box<T>, we’ll cover the syntax  \n",
    "and how to interact with values stored within a Box<T>.\n",
    "\n",
    "Listing 15-1 shows how to use a box to store an i32 value on the heap:  \n",
    "\n",
    "> Filename: src/main.rs\n"
   ]
  },
  {
   "cell_type": "code",
   "execution_count": 2,
   "metadata": {
    "vscode": {
     "languageId": "rust"
    }
   },
   "outputs": [
    {
     "name": "stdout",
     "output_type": "stream",
     "text": [
      "b = 5\n"
     ]
    },
    {
     "data": {
      "text/plain": [
       "()"
      ]
     },
     "execution_count": 2,
     "metadata": {},
     "output_type": "execute_result"
    }
   ],
   "source": [
    "{\n",
    "    let b = Box::new(5);\n",
    "    println!(\"b = {}\", b);\n",
    "}"
   ]
  },
  {
   "attachments": {},
   "cell_type": "markdown",
   "metadata": {},
   "source": [
    "> Listing 15-1: Storing an i32 value on the heap using a box\n",
    "\n",
    "We define the variable b to have the value of a Box that points to the value 5,  \n",
    "which is allocated on the heap. This program will print b = 5; in this case, we  \n",
    "can access the data in the box similar to how we would if this data were on the  \n",
    "stack. Just like any owned value, when a box goes out of scope, as b does at the  \n",
    "end of main, it will be deallocated. The deallocation happens both for the box  \n",
    "(stored on the stack) and the data it points to (stored on the heap).  \n",
    "\n",
    "Putting a single value on the heap isn’t very useful, so you won’t use boxes by  \n",
    "themselves in this way very often. Having values like a single i32 on the stack,  \n",
    "where they’re stored by default, is more appropriate in the majority of  \n",
    "situations. Let’s look at a case where boxes allow us to define types that we  \n",
    "wouldn’t be allowed to if we didn’t have boxes."
   ]
  },
  {
   "attachments": {},
   "cell_type": "markdown",
   "metadata": {},
   "source": [
    "### Enabling Recursive Types with Boxes\n",
    "\n",
    "A value of recursive type can have another value of the same type as part of  \n",
    "itself. Recursive types pose an issue because at compile time Rust needs to know  \n",
    "how much space a type takes up. However, the nesting of values of recursive  \n",
    "types could theoretically continue infinitely, so Rust can’t know how much space  \n",
    "the value needs. Because boxes have a known size, we can enable recursive types  \n",
    "by inserting a box in the recursive type definition.  \n",
    "\n",
    "As an example of a recursive type, let’s explore the cons list. This is a data  \n",
    "type commonly found in functional programming languages. The cons list type  \n",
    "we’ll define is straightforward except for the recursion; therefore, the  \n",
    "concepts in the example we’ll work with will be useful any time you get into  \n",
    "more complex situations involving recursive types.  "
   ]
  },
  {
   "attachments": {},
   "cell_type": "markdown",
   "metadata": {},
   "source": [
    "##### More Information About the Cons List\n",
    "\n",
    "A cons list is a data structure that comes from the Lisp programming language  \n",
    "and its dialects and is made up of nested pairs, and is the Lisp version of a  \n",
    "linked list. Its name comes from the cons function  \n",
    "(short for “construct function”) in Lisp that constructs a new pair from its  \n",
    "two arguments. By calling cons on a pair consisting of a value and another pair,  \n",
    "we can construct cons lists made up of recursive pairs.  \n",
    "\n",
    "For example, here’s a pseudocode representation of a cons list containing the  \n",
    "list 1, 2, 3 with each pair in parentheses:  \n",
    "\n",
    "```rust\n",
    "(1, (2, (3, Nil)))\n",
    "```\n",
    "\n",
    "Each item in a cons list contains two elements: the value of the current item  \n",
    "and the next item. The last item in the list contains only a value called Nil  \n",
    "without a next item. A cons list is produced by recursively calling the cons  \n",
    "function. The canonical name to denote the base case of the recursion is Nil.  \n",
    "Note that this is not the same as the “null” or “nil” concept in Chapter 6,  \n",
    "which is an invalid or absent value.  "
   ]
  },
  {
   "attachments": {},
   "cell_type": "markdown",
   "metadata": {},
   "source": [
    "The cons list isn’t a commonly used data structure in Rust. Most of the time  \n",
    "when you have a list of items in Rust, Vec<T> is a better choice to use. Other,  \n",
    "more complex recursive data types are useful in various situations, but by  \n",
    "starting with the cons list in this chapter, we can explore how boxes let us  \n",
    "define a recursive data type without much distraction.  \n",
    "\n",
    "Listing 15-2 contains an enum definition for a cons list. Note that this code  \n",
    "won’t compile yet because the List type doesn’t have a known size, which we’ll  \n",
    "demonstrate.\n",
    "\n",
    "> Filename: src/main.rs"
   ]
  },
  {
   "cell_type": "code",
   "execution_count": 15,
   "metadata": {
    "vscode": {
     "languageId": "rust"
    }
   },
   "outputs": [
    {
     "ename": "Error",
     "evalue": "recursive type `List` has infinite size",
     "output_type": "error",
     "traceback": [
      "\u001b[31m[E0072] Error:\u001b[0m recursive type `List` has infinite size",
      "   \u001b[38;5;246m╭\u001b[0m\u001b[38;5;246m─\u001b[0m\u001b[38;5;246m[\u001b[0mcommand_15:1:1\u001b[38;5;246m]\u001b[0m",
      "   \u001b[38;5;246m│\u001b[0m",
      " \u001b[38;5;246m1 │\u001b[0m \u001b[38;5;100me\u001b[0m\u001b[38;5;100mn\u001b[0m\u001b[38;5;100mu\u001b[0m\u001b[38;5;100mm\u001b[0m\u001b[38;5;100m \u001b[0m\u001b[38;5;100mL\u001b[0m\u001b[38;5;100mi\u001b[0m\u001b[38;5;100ms\u001b[0m\u001b[38;5;100mt\u001b[0m\u001b[38;5;249m \u001b[0m\u001b[38;5;249m{\u001b[0m",
      " \u001b[38;5;246m  ·\u001b[0m \u001b[38;5;100m─\u001b[0m\u001b[38;5;100m─\u001b[0m\u001b[38;5;100m─\u001b[0m\u001b[38;5;100m─\u001b[0m\u001b[38;5;100m┬\u001b[0m\u001b[38;5;100m─\u001b[0m\u001b[38;5;100m─\u001b[0m\u001b[38;5;100m─\u001b[0m\u001b[38;5;100m─\u001b[0m  ",
      " \u001b[38;5;246m  ·\u001b[0m     \u001b[38;5;100m╰\u001b[0m\u001b[38;5;100m─\u001b[0m\u001b[38;5;100m─\u001b[0m\u001b[38;5;100m─\u001b[0m\u001b[38;5;100m─\u001b[0m\u001b[38;5;100m─\u001b[0m\u001b[38;5;100m─\u001b[0m error: recursive type `List` has infinite size",
      " \u001b[38;5;246m2 │\u001b[0m \u001b[38;5;249m \u001b[0m\u001b[38;5;249m \u001b[0m\u001b[38;5;249m \u001b[0m\u001b[38;5;249m \u001b[0m\u001b[38;5;249mC\u001b[0m\u001b[38;5;249mo\u001b[0m\u001b[38;5;249mn\u001b[0m\u001b[38;5;249ms\u001b[0m\u001b[38;5;249m(\u001b[0m\u001b[38;5;249mi\u001b[0m\u001b[38;5;249m3\u001b[0m\u001b[38;5;249m2\u001b[0m\u001b[38;5;249m,\u001b[0m\u001b[38;5;249m \u001b[0m\u001b[38;5;54mL\u001b[0m\u001b[38;5;54mi\u001b[0m\u001b[38;5;54ms\u001b[0m\u001b[38;5;54mt\u001b[0m\u001b[38;5;249m)\u001b[0m\u001b[38;5;249m,\u001b[0m",
      " \u001b[38;5;246m  ·\u001b[0m               \u001b[38;5;54m─\u001b[0m\u001b[38;5;54m─\u001b[0m\u001b[38;5;54m┬\u001b[0m\u001b[38;5;54m─\u001b[0m  ",
      " \u001b[38;5;246m  ·\u001b[0m                 \u001b[38;5;54m╰\u001b[0m\u001b[38;5;54m─\u001b[0m\u001b[38;5;54m─\u001b[0m\u001b[38;5;54m─\u001b[0m recursive without indirection",
      "\u001b[38;5;246m───╯\u001b[0m"
     ]
    }
   ],
   "source": [
    "enum List {\n",
    "    Cons(i32, List),\n",
    "    Nil,\n",
    "}"
   ]
  },
  {
   "attachments": {},
   "cell_type": "markdown",
   "metadata": {},
   "source": [
    "> Listing 15-2: The first attempt at defining an enum to represent a cons list  \n",
    "data structure of i32 values\n",
    "\n",
    "```sh\n",
    "Note: We’re implementing a cons list that holds only i32 values for the purposes  \n",
    "of this example. We could have implemented it using generics, as we discussed in  \n",
    "Chapter 10, to define a cons list type that could store values of any type.\n",
    "```\n",
    "\n",
    "Using the List type to store the list 1, 2, 3 would look like the code in  \n",
    "Listing 15-3:\n",
    "\n",
    "> Filename: src/main.rs"
   ]
  },
  {
   "cell_type": "code",
   "execution_count": 21,
   "metadata": {
    "vscode": {
     "languageId": "rust"
    }
   },
   "outputs": [
    {
     "ename": "Error",
     "evalue": "recursive type `List` has infinite size",
     "output_type": "error",
     "traceback": [
      "\u001b[31m[E0072] Error:\u001b[0m recursive type `List` has infinite size",
      "   \u001b[38;5;246m╭\u001b[0m\u001b[38;5;246m─\u001b[0m\u001b[38;5;246m[\u001b[0mcommand_21:1:1\u001b[38;5;246m]\u001b[0m",
      "   \u001b[38;5;246m│\u001b[0m",
      " \u001b[38;5;246m1 │\u001b[0m \u001b[38;5;100me\u001b[0m\u001b[38;5;100mn\u001b[0m\u001b[38;5;100mu\u001b[0m\u001b[38;5;100mm\u001b[0m\u001b[38;5;100m \u001b[0m\u001b[38;5;100mL\u001b[0m\u001b[38;5;100mi\u001b[0m\u001b[38;5;100ms\u001b[0m\u001b[38;5;100mt\u001b[0m\u001b[38;5;249m \u001b[0m\u001b[38;5;249m{\u001b[0m",
      " \u001b[38;5;246m  ·\u001b[0m \u001b[38;5;100m─\u001b[0m\u001b[38;5;100m─\u001b[0m\u001b[38;5;100m─\u001b[0m\u001b[38;5;100m─\u001b[0m\u001b[38;5;100m┬\u001b[0m\u001b[38;5;100m─\u001b[0m\u001b[38;5;100m─\u001b[0m\u001b[38;5;100m─\u001b[0m\u001b[38;5;100m─\u001b[0m  ",
      " \u001b[38;5;246m  ·\u001b[0m     \u001b[38;5;100m╰\u001b[0m\u001b[38;5;100m─\u001b[0m\u001b[38;5;100m─\u001b[0m\u001b[38;5;100m─\u001b[0m\u001b[38;5;100m─\u001b[0m\u001b[38;5;100m─\u001b[0m\u001b[38;5;100m─\u001b[0m error: recursive type `List` has infinite size",
      " \u001b[38;5;246m2 │\u001b[0m \u001b[38;5;249m \u001b[0m\u001b[38;5;249m \u001b[0m\u001b[38;5;249m \u001b[0m\u001b[38;5;249m \u001b[0m\u001b[38;5;249mC\u001b[0m\u001b[38;5;249mo\u001b[0m\u001b[38;5;249mn\u001b[0m\u001b[38;5;249ms\u001b[0m\u001b[38;5;249m(\u001b[0m\u001b[38;5;249mi\u001b[0m\u001b[38;5;249m3\u001b[0m\u001b[38;5;249m2\u001b[0m\u001b[38;5;249m,\u001b[0m\u001b[38;5;249m \u001b[0m\u001b[38;5;54mL\u001b[0m\u001b[38;5;54mi\u001b[0m\u001b[38;5;54ms\u001b[0m\u001b[38;5;54mt\u001b[0m\u001b[38;5;249m)\u001b[0m\u001b[38;5;249m,\u001b[0m",
      " \u001b[38;5;246m  ·\u001b[0m               \u001b[38;5;54m─\u001b[0m\u001b[38;5;54m─\u001b[0m\u001b[38;5;54m┬\u001b[0m\u001b[38;5;54m─\u001b[0m  ",
      " \u001b[38;5;246m  ·\u001b[0m                 \u001b[38;5;54m╰\u001b[0m\u001b[38;5;54m─\u001b[0m\u001b[38;5;54m─\u001b[0m\u001b[38;5;54m─\u001b[0m recursive without indirection",
      "\u001b[38;5;246m───╯\u001b[0m"
     ]
    }
   ],
   "source": [
    "enum List {\n",
    "    Cons(i32, List),\n",
    "    Nil,\n",
    "}\n",
    "\n",
    "use crate::List::{Cons, Nil};\n",
    "\n",
    "{\n",
    "    let list = Cons(1, Cons(2, Cons(3, Nil)));\n",
    "}\n"
   ]
  },
  {
   "attachments": {},
   "cell_type": "markdown",
   "metadata": {},
   "source": [
    "The first Cons value holds 1 and another List value. This List value is another  \n",
    "Cons value that holds 2 and another List value. This List value is one more Cons  \n",
    "value that holds 3 and a List value, which is finally Nil, the non-recursive  \n",
    "variant that signals the end of the list.  \n",
    "\n",
    "If we try to compile the code in Listing 15-3, we get the error shown in  \n",
    "Listing 15-4:  \n",
    "\n",
    "```sh\n",
    "$ cargo run\n",
    "   Compiling cons-list v0.1.0 (file:///projects/cons-list)\n",
    "error[E0072]: recursive type `List` has infinite size\n",
    " --> src/main.rs:1:1\n",
    "  |\n",
    "1 | enum List {\n",
    "  | ^^^^^^^^^\n",
    "2 |     Cons(i32, List),\n",
    "  |               ---- recursive without indirection\n",
    "  |\n",
    "help: insert some indirection (e.g., a `Box`, `Rc`, or `&`) to break the cycle\n",
    "  |\n",
    "2 |     Cons(i32, Box<List>),\n",
    "  |               ++++    +\n",
    "\n",
    "For more information about this error, try `rustc --explain E0072`.  \n",
    "error: could not compile `cons-list` due to previous error  \n",
    "```\n",
    "\n",
    "> Listing 15-4: The error we get when attempting to define a recursive enum\n",
    "\n",
    "The error shows this type “has infinite size.” The reason is that we’ve defined  \n",
    "List with a variant that is recursive: it holds another value of itself directly.  \n",
    "As a result, Rust can’t figure out how much space it needs to store a List value.  \n",
    "Let’s break down why we get this error. First, we’ll look at how Rust decides  \n",
    "how much space it needs to store a value of a non-recursive type.  "
   ]
  },
  {
   "attachments": {},
   "cell_type": "markdown",
   "metadata": {},
   "source": [
    "### Computing the Size of a Non-Recursive Type\n",
    "\n",
    "Recall the Message enum we defined in Listing 6-2 when we discussed enum  \n",
    "definitions in Chapter 6:  \n",
    "\n",
    "```rust\n",
    "enum Message {\n",
    "    Quit,\n",
    "    Move { x: i32, y: i32 },\n",
    "    Write(String),\n",
    "    ChangeColor(i32, i32, i32),\n",
    "}\n",
    "```\n",
    "\n",
    "To determine how much space to allocate for a Message value, Rust goes through  \n",
    "each of the variants to see which variant needs the most space. Rust sees that :  \n",
    "\n",
    "- Message::Quit doesn’t need any space,  \n",
    "- Message::Move needs enough space to store two i32 values,  \n",
    "- and so forth.  \n",
    "\n",
    "Because only one variant will be used, the most space a Message value will need  \n",
    "is the space it would take to store the largest of its variants.\n"
   ]
  },
  {
   "attachments": {},
   "cell_type": "markdown",
   "metadata": {},
   "source": [
    "Contrast this with what happens when Rust tries to determine how much space a  \n",
    "recursive type like the List enum in Listing 15-2 needs. The compiler starts by  \n",
    "looking at the Cons variant, which holds a value of type i32 and a value of type  \n",
    "List. Therefore, Cons needs an amount of space equal to the size of an i32 plus  \n",
    "the size of a List. To figure out how much memory the List type needs, the  \n",
    "compiler looks at the variants, starting with the Cons variant. The Cons variant  \n",
    "holds a value of type i32 and a value of type List, and this process continues  \n",
    "infinitely, as shown in Figure 15-1.  \n",
    "\n",
    "<img src=\"https://doc.rust-lang.org/book/img/trpl15-01.svg\" width=50% height=50%>\n",
    "\n",
    "> Figure 15-1: An infinite List consisting of infinite Cons variants\n"
   ]
  },
  {
   "attachments": {},
   "cell_type": "markdown",
   "metadata": {},
   "source": [
    "### Using Box<T> to Get a Recursive Type with a Known Size\n",
    "\n",
    "Because Rust can’t figure out how much space to allocate for recursively defined  \n",
    "types, the compiler gives an error with this helpful suggestion:  \n",
    "\n",
    "```sh\n",
    "help: insert some indirection (e.g., a `Box`, `Rc`, or `&`) to make `List` representable\n",
    "  |\n",
    "2 |     Cons(i32, Box<List>),\n",
    "  |               ++++    +\n",
    "```\n",
    "\n",
    "In this suggestion, “indirection” means that instead of **storing a value directly**,  \n",
    "we should change the data structure to store the value indirectly by **storing a  \n",
    "pointer to the value** instead.  "
   ]
  },
  {
   "attachments": {},
   "cell_type": "markdown",
   "metadata": {},
   "source": [
    "Because a Box<T> is a pointer, Rust always knows how much space a Box<T> needs:  \n",
    "a pointer’s size doesn’t change based on the amount of data it’s pointing to.  \n",
    "This means we can put a Box<T> inside the Cons variant instead of another List  \n",
    "value directly. The Box<T> will point to the next List value that will be on the  \n",
    "heap rather than inside the Cons variant. Conceptually, we still have a list,  \n",
    "created with lists holding other lists, but this implementation is now more like  \n",
    "placing the items next to one another rather than inside one another.  \n",
    "\n",
    "We can change the definition of the List enum in Listing 15-2 and the usage of  \n",
    "the List in Listing 15-3 to the code in Listing 15-5, which will compile:  \n",
    "\n",
    "> Filename: src/main.rs"
   ]
  },
  {
   "cell_type": "code",
   "execution_count": 27,
   "metadata": {
    "vscode": {
     "languageId": "rust"
    }
   },
   "outputs": [
    {
     "name": "stdout",
     "output_type": "stream",
     "text": [
      "Box<List> list = Cons(1, Cons(2, Cons(3, Nil)))\n"
     ]
    },
    {
     "data": {
      "text/plain": [
       "()"
      ]
     },
     "execution_count": 27,
     "metadata": {},
     "output_type": "execute_result"
    }
   ],
   "source": [
    "#[derive(Debug)]\n",
    "enum List{\n",
    "    Cons(i32, Box<List>),\n",
    "    Nil,\n",
    "}\n",
    "\n",
    "use crate::List::{Cons, Nil};\n",
    "\n",
    "{\n",
    "    let list = Cons(1, Box::new(Cons(2, Box::new(Cons(3, Box::new(Nil))))));\n",
    "    println!(\"Box<List> list = {:?}\", list);\n",
    "}"
   ]
  },
  {
   "attachments": {},
   "cell_type": "markdown",
   "metadata": {},
   "source": [
    "> Listing 15-5: Definition of List that uses Box<T> in order to have a known size\n",
    "\n",
    "The Cons variant needs the size of an i32 plus the space to store the box’s  \n",
    "pointer data. The Nil variant stores no values, so it needs less space than the  \n",
    "Cons variant. We now know that any List value will take up the size of an i32  \n",
    "plus the size of a box’s pointer data. By using a box, we’ve broken the  \n",
    "infinite, recursive chain, so the compiler can figure out the size it needs to  \n",
    "store a List value. Figure 15-2 shows what the Cons variant looks like now.\n",
    "\n",
    "<img src=\"https://doc.rust-lang.org/book/img/trpl15-02.svg\" width=33%, height=33%>"
   ]
  },
  {
   "attachments": {},
   "cell_type": "markdown",
   "metadata": {},
   "source": [
    "> Figure 15-2: A List that is not infinitely sized because Cons holds a Box\n",
    "\n",
    "Boxes provide only the indirection and heap allocation; they don’t have any  \n",
    "other special capabilities, like those we’ll see with the other smart pointer  \n",
    "types. They also don’t have the performance overhead that these special  \n",
    "capabilities incur, so they can be useful in cases like the cons list where the  \n",
    "indirection is the only feature we need. We’ll look at more use cases for boxes  \n",
    "in Chapter 17, too.\n",
    "\n",
    "The Box<T> type is a smart pointer because it implements the Deref trait,  \n",
    "which allows Box<T> values to be treated like references. When a Box<T> value  \n",
    "goes out of scope, the heap data that the box is pointing to is cleaned up as  \n",
    "well because of the Drop trait implementation. These two traits will be even  \n",
    "more important to the functionality provided by the other smart pointer types  \n",
    "we’ll discuss in the rest of this chapter. Let’s explore these two traits in  \n",
    "more detail."
   ]
  }
 ],
 "metadata": {
  "kernelspec": {
   "display_name": "Rust",
   "language": "rust",
   "name": "rust"
  },
  "language_info": {
   "codemirror_mode": "rust",
   "file_extension": ".rs",
   "mimetype": "text/rust",
   "name": "Rust",
   "pygment_lexer": "rust",
   "version": ""
  },
  "orig_nbformat": 4
 },
 "nbformat": 4,
 "nbformat_minor": 2
}
