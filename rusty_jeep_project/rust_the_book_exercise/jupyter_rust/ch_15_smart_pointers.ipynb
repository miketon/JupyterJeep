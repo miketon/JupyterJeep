{
 "cells": [
  {
   "attachments": {},
   "cell_type": "markdown",
   "metadata": {},
   "source": [
    "Smart Pointers\n",
    "---\n",
    "\n",
    "A pointer is a general concept for a variable that contains an address in memory.  \n",
    "This address refers to, or “points at,” some other data. The most common kind of  \n",
    "pointer in Rust is a reference, which you learned about in Chapter 4. References  \n",
    "are indicated by the & symbol and borrow the value they point to. They don’t  \n",
    "have any special capabilities other than referring to data, and have no overhead.  \n",
    "\n",
    "Smart pointers, on the other hand, are data structures that act like a pointer  \n",
    "but also have additional metadata and capabilities. The concept of smart  \n",
    "pointers isn’t unique to Rust: smart pointers originated in C++ and exist in  \n",
    "other languages as well. Rust has a variety of smart pointers defined in the  \n",
    "standard library that provide functionality beyond that provided by references.  \n",
    "To explore the general concept, we’ll look at a couple of different examples of  \n",
    "smart pointers, including a reference counting smart pointer type. This pointer  \n",
    "enables you to allow data to have multiple owners by keeping track of the number  \n",
    "of owners and, when no owners remain, cleaning up the data.  \n",
    "\n",
    "Rust, with its concept of ownership and borrowing, has an additional difference  \n",
    "between references and smart pointers: while references only borrow data, in  \n",
    "many cases, smart pointers own the data they point to.  "
   ]
  },
  {
   "attachments": {},
   "cell_type": "markdown",
   "metadata": {},
   "source": [
    "Though we didn’t call them as such at the time, we’ve already encountered a few  \n",
    "smart pointers in this book, including `String` and `Vec<T>` in Chapter 8. Both  \n",
    "these types count as smart pointers because they own some memory and allow you  \n",
    "to manipulate it. They also have metadata and extra capabilities or guarantees.  \n",
    "String, for example, stores its capacity as metadata and has the extra ability  \n",
    "to ensure its data will always be valid UTF-8.  \n",
    "\n",
    "Smart pointers are usually implemented using structs. Unlike an ordinary struct,  \n",
    "smart pointers implement the `Deref` and `Drop` traits. \n",
    "- The `Deref` trait allows an instance of the smart pointer struct to behave  \n",
    "like a reference so you can write your code to work with either references or  \n",
    "smart pointers.  \n",
    "- The `Drop` trait allows you to customize the code that’s run when an instance  \n",
    "of the smart pointer goes out of scope.  \n",
    "\n",
    "In this chapter, we’ll discuss both traits and demonstrate why they’re important  \n",
    "to smart pointers."
   ]
  },
  {
   "attachments": {},
   "cell_type": "markdown",
   "metadata": {},
   "source": [
    "Given that the smart pointer pattern is a general design pattern used frequently  \n",
    "in Rust, this chapter won’t cover every existing smart pointer. Many libraries  \n",
    "have their own smart pointers, and you can even write your own. We’ll cover the  \n",
    "most common smart pointers in the standard library:  \n",
    "\n",
    "- Box<T> for allocating values on the heap  \n",
    "- Rc<T>, a reference counting type that enables multiple ownership  \n",
    "- Ref<T> and RefMut<T>, accessed through RefCell<T>, a type that enforces the  \n",
    "borrowing rules at runtime instead of compile time  \n",
    "\n",
    "\n",
    "In addition, we’ll cover the interior mutability pattern where an immutable type  \n",
    "exposes an API for mutating an interior value. We’ll also discuss reference  \n",
    "cycles: how they can leak memory and how to prevent them.  \n",
    "\n",
    "Let’s dive in!  "
   ]
  },
  {
   "attachments": {},
   "cell_type": "markdown",
   "metadata": {},
   "source": [
    "Using Box<T> to Point to Data on the Heap\n",
    "---\n",
    "\n",
    "The most straightforward smart pointer is a box, whose type is written `Box<T>`.  \n",
    "Boxes allow you to store data on the heap rather than the stack. What remains on  \n",
    "the stack is the pointer to the heap data. Refer to Chapter 4 to review the  \n",
    "difference between the stack and the heap.  \n",
    "\n",
    "Boxes don’t have performance overhead, other than storing their data on the heap  \n",
    "instead of on the stack. But they don’t have many extra capabilities either.  \n",
    "You’ll use them most often in these situations:  \n",
    "\n",
    "- When you have a type whose size can’t be known at compile time and you want to  \n",
    "use a value of that type in a context that requires an exact size  \n",
    "- When you have a large amount of data and you want to transfer ownership but  \n",
    "ensure the data won’t be copied when you do so  \n",
    "- When you want to own a value and you care only that it’s a type that  \n",
    "implements a particular trait rather than being of a specific type\n",
    "\n"
   ]
  }
 ],
 "metadata": {
  "language_info": {
   "name": "python"
  },
  "orig_nbformat": 4
 },
 "nbformat": 4,
 "nbformat_minor": 2
}
