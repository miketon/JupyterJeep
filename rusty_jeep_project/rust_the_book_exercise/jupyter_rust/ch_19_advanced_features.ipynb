{
 "cells": [
  {
   "attachments": {},
   "cell_type": "markdown",
   "metadata": {},
   "source": [
    "Advanced Features\n",
    "---\n",
    "\n",
    "By now, you’ve learned the most commonly used parts of the Rust programming  \n",
    "language. Before we do one more project in Chapter 20, we’ll look at a few  \n",
    "aspects of the language :  \n",
    "\n",
    "- you might run into every once in a while,  \n",
    "- but may not use every day.  \n",
    "\n",
    "You can use this chapter as a reference for when you encounter any unknowns.  \n",
    "The features covered here are useful in very specific situations. Although you  \n",
    "might not reach for them often, we want to make sure you have a grasp of all  \n",
    "the features Rust has to offer.\n",
    "\n",
    "In this chapter, we’ll cover:\n",
    "\n",
    "- **`Unsafe Rust:`** how to opt out of some of Rust’s guarantees and take  \n",
    "responsibility for manually upholding those guarantees\n",
    "- **`Advanced traits:`** \n",
    "    - associated types, \n",
    "    - default type parameters, \n",
    "    - fully qualified syntax,  \n",
    "    - supertraits,  \n",
    "    - and the newtype pattern in relation to traits\n",
    "- **`Advanced types:`** more about :  \n",
    "    - the newtype pattern, \n",
    "    - type aliases, \n",
    "    - the never type, \n",
    "    - and dynamically sized types\n",
    "- **`Advanced functions and closures:`** function pointers and returning  \n",
    "closures  \n",
    "- **`Macros:`** ways to define code that defines more code at compile time  \n",
    "\n",
    "It’s a panoply of Rust features with something for everyone! Let’s dive in!"
   ]
  },
  {
   "attachments": {},
   "cell_type": "markdown",
   "metadata": {},
   "source": [
    "Unsafe Rust\n",
    "---\n",
    "\n",
    "All the code we’ve discussed so far has had Rust’s memory safety guarantees  \n",
    "enforced at compile time. However, Rust has a **`second language hidden`**  \n",
    "inside it that **`doesn’t enforce these memory safety`**` guarantees:  \n",
    "\n",
    "- it’s called **`unsafe Rust`** and works just like regular Rust, but gives us  \n",
    "**`extra superpowers`**.\n",
    "\n",
    "#### -- Unsafe Exists : Hardware and Static Check is Conservative --\n",
    "\n",
    "**`Unsafe Rust`** exists because :  \n",
    "- by nature, **`static analysis is conservative`**.  \n",
    "When the compiler tries to determine whether or not code upholds the guarantees,  \n",
    "it’s better for it to reject some valid programs than to accept some invalid  \n",
    "programs.  \n",
    "- Although the code might be okay, if the **`Rust compiler`** doesn’t have  \n",
    "enough information to be confident, it will reject the code. In these cases,  \n",
    "you can use unsafe code to tell the compiler, \n",
    "- **“Trust me, I know what I’m doing.”**  \n",
    "\n",
    "Be warned, however, that you use **`unsafe Rust at your own risk`**:  \n",
    "\n",
    "- if you use unsafe code incorrectly,  \n",
    "- problems can occur due to `memory unsafety`,  \n",
    "- such as `null pointer dereferencing`.\n",
    "\n",
    "Another reason Rust has an unsafe alter ego is that :  \n",
    "\n",
    "- the underlying computer **`hardware is inherently unsafe`**.  \n",
    "\n",
    "If Rust didn’t let you do `unsafe` operations, you couldn’t do certain tasks.  \n",
    "Rust needs to allow you to do `low-level systems programming`, such as :  \n",
    "\n",
    "- directly interacting with the operating system  \n",
    "- or even writing your own operating system.  \n",
    "\n",
    "Working with low-level systems programming is one of the goals of the language.  \n",
    "Let’s **`explore what we can do with unsafe`** Rust and how to do it."
   ]
  },
  {
   "attachments": {},
   "cell_type": "markdown",
   "metadata": {},
   "source": [
    "### Unsafe SuperPowers\n",
    "\n",
    "To switch to unsafe Rust :  \n",
    "\n",
    "- use the **`unsafe`** keyword  \n",
    "- and then start a **`new block`** that holds the unsafe code.  \n",
    "\n",
    "You can take five actions in unsafe Rust that you can’t in safe Rust, which we  \n",
    "call unsafe superpowers. Those superpowers include the ability to:\n",
    "\n",
    "- **`Dereference`** a **raw** pointer\n",
    "- Call an **`unsafe function or method`**\n",
    "- Access or modify a **`mutable static`** variable\n",
    "- Implement an **`unsafe trait`**\n",
    "- Access **`fields of unions`**\n",
    "\n",
    "It’s important to understand that unsafe :  \n",
    "\n",
    "- **`doesn’t turn off the borrow checker`**  \n",
    "- or **`disable any other of Rust’s safety checks`**:  \n",
    "- if you use a reference in unsafe code, **`it will still be checked`**\n",
    "\n",
    "The `unsafe` keyword only :  \n",
    "\n",
    "- gives you `access` to these `five features`  \n",
    "- that are then not checked by the compiler for memory safety.  \n",
    "\n",
    "You’ll still get some degree of safety inside of an unsafe block.\n",
    "\n",
    "In addition, unsafe does not mean the code inside the block is necessarily  \n",
    "dangerous or that it will definitely have memory safety problems:  \n",
    "\n",
    "- the intent is that as the programmer, you’ll ensure the code inside an unsafe  \n",
    "block will access memory in a valid way.\n",
    "\n",
    "People are fallible, and mistakes will happen, but by requiring these five  \n",
    "unsafe operations to be inside blocks annotated with unsafe you’ll know that  \n",
    "any errors related to memory safety must be within an unsafe block. Keep unsafe  \n",
    "blocks small; you’ll be thankful later when you investigate memory bugs.\n",
    "\n",
    "### -- Isolate Unsafe Code as Much as Possible --\n",
    "\n",
    "To isolate unsafe code as much as possible :  \n",
    "- it’s best to enclose unsafe code within a safe abstraction and  \n",
    "- provide a safe API, (which we’ll discuss later in the chapter when we examine  \n",
    "unsafe functions and methods)\n",
    "\n",
    "Parts of the standard library are implemented as :  \n",
    "\n",
    "- safe abstractions  \n",
    "- over unsafe code that has been audited.  \n",
    "\n",
    "Wrapping unsafe code in a safe abstraction prevents uses of unsafe from leaking  \n",
    "out into all the places that you or your users might want to use the  \n",
    "functionality implemented with unsafe code, because using a safe abstraction  \n",
    "is safe.\n",
    "\n",
    "Let’s look at each of the five unsafe superpowers in turn. We’ll also look at  \n",
    "some abstractions that provide a safe interface to unsafe code."
   ]
  },
  {
   "attachments": {},
   "cell_type": "markdown",
   "metadata": {},
   "source": [
    "### Dereferencing a Raw Pointer\n",
    "\n",
    "In Chapter 4, in the “Dangling References” section, we mentioned that the  \n",
    "compiler ensures references are always valid. \n",
    "\n",
    "Unsafe Rust has two new types called : \n",
    "- `raw pointers` that are similar to `references`.  \n",
    "\n",
    "#### -- UNSAFE TYPES : `*const` and `*mut` --\n",
    "\n",
    "As with references, raw pointers can be `immutable` or `mutable` and are  \n",
    "written as :  \n",
    "\n",
    "- **` *const `** `T`  \n",
    "- **` *mut `** `T`,  \n",
    "\n",
    "respectively. \n",
    "\n",
    "- The `asterisk isn’t the dereference operator`; \n",
    "- it’s `part of the type name`.  \n",
    "\n",
    "In the context of raw pointers :  \n",
    "\n",
    "- `immutable` means that the pointer can’t be directly assigned to after being  \n",
    "dereferenced.\n",
    "\n",
    "Different from `references` and `smart pointers`, `raw pointers`:\n",
    "\n",
    "- Are allowed to `ignore the borrowing rules` \n",
    "- by having both `immutable` and `mutable` pointers \n",
    "- or `multiple mutable pointers` to the same location\n",
    "- `Aren’t guaranteed` to point to valid memory\n",
    "- Are `allowed to be null`\n",
    "- `Don’t` implement any `automatic cleanup`\n",
    "\n",
    "#### -- Raw Pointers TradeOff : Perf and Hardware direct vs Memory Safety --\n",
    "\n",
    "By opting out of having Rust enforce these guarantees : \n",
    "\n",
    "- you can give up guaranteed safety  \n",
    "- in exchange for **`greater performance`**  \n",
    "- or the ability to interface with another language or **`hardware`** where  \n",
    "Rust’s guarantees don’t apply.\n",
    "\n",
    "> Listing 19-1 shows how to create an immutable and a mutable raw pointer  \n",
    "from references."
   ]
  },
  {
   "cell_type": "code",
   "execution_count": 2,
   "metadata": {
    "vscode": {
     "languageId": "rust"
    }
   },
   "outputs": [
    {
     "data": {
      "text/plain": [
       "()"
      ]
     },
     "execution_count": 2,
     "metadata": {},
     "output_type": "execute_result"
    }
   ],
   "source": [
    "{\n",
    "    let mut num = 5;\n",
    "\n",
    "    // @audit-ok : the * operator is part of the TYPE NAME\n",
    "    // - NOT a dereference operator\n",
    "    let r1 = &num as *const i32;\n",
    "    let r2 = &mut num as *mut i32;\n",
    "}"
   ]
  },
  {
   "attachments": {},
   "cell_type": "markdown",
   "metadata": {},
   "source": [
    "> Listing 19-1: Creating raw pointers from references\n",
    "\n",
    "#### -- Raw Pointers : MUST be DEREFERENCED in UNSAFE CODE --\n",
    "\n",
    "Notice that we don’t include the `unsafe` keyword in this code :  \n",
    "- We can create `raw pointers` in `safe code`;  \n",
    "- we just can’t `dereference` raw pointers `outside an unsafe` block, as you’ll  \n",
    "see in a bit.\n",
    "\n",
    "We’ve created raw pointers by :  \n",
    "\n",
    "- using `as` to `cast` an immutable and a mutable reference  \n",
    "- into their corresponding raw pointer types.  \n",
    "\n",
    "#### -- Raw Pointers : ok to CREATE in SAFE CODE --\n",
    "\n",
    "Because we created them directly from references guaranteed to be valid :  \n",
    "\n",
    "- we know these particular raw pointers are valid,  \n",
    "- but we can’t make that assumption about just any raw pointer.\n",
    "\n",
    "To demonstrate this, next we’ll create a raw pointer whose validity we can’t be  \n",
    "so certain of.  \n",
    "\n",
    "#### -- EXAMPLE of Raw Pointer created in ARBITRARY memory location --\n",
    "\n",
    "> Listing 19-2 shows how to create a raw pointer to an arbitrary location in  \n",
    "memory.  \n",
    "\n",
    "Trying to use arbitrary memory is undefined:  \n",
    "- there might be data at that address or there might not,  \n",
    "- the compiler might optimize the code so there is no memory access,  \n",
    "- or the program might error with a segmentation fault.  \n",
    "\n",
    "Usually, there is no good reason to write code like this, but it is possible."
   ]
  },
  {
   "cell_type": "code",
   "execution_count": 4,
   "metadata": {
    "vscode": {
     "languageId": "rust"
    }
   },
   "outputs": [
    {
     "data": {
      "text/plain": [
       "()"
      ]
     },
     "execution_count": 4,
     "metadata": {},
     "output_type": "execute_result"
    }
   ],
   "source": [
    "{   // Usually there is NO GOOD reason to write code like this.. but is possible\n",
    "    \n",
    "    // Trying to use abitrary memory is UNDEFINED\n",
    "    // - there might be data at that address or not\n",
    "    // - compiler may have optimized out the data, no memory access\n",
    "    // - or program might error with segmentation fault\n",
    "    let address = 0x012345usize;\n",
    "    let r = address as *const i32; \n",
    "}"
   ]
  },
  {
   "attachments": {},
   "cell_type": "markdown",
   "metadata": {},
   "source": [
    "> Listing 19-2: Creating a raw pointer to an arbitrary memory address\n",
    "\n",
    "#### -- EXAMPLE : Dereference Raw Pointer with UNSAFE Block --\n",
    "\n",
    "Recall that : \n",
    "\n",
    "- we can create raw pointers in safe code,  \n",
    "- but we can’t dereference raw pointers and read the data being pointed to. \n",
    "\n",
    "> In Listing 19-3, we use the dereference operator * on a raw pointer that  \n",
    "requires an unsafe block."
   ]
  },
  {
   "cell_type": "code",
   "execution_count": 6,
   "metadata": {
    "vscode": {
     "languageId": "rust"
    }
   },
   "outputs": [
    {
     "name": "stdout",
     "output_type": "stream",
     "text": [
      "r1 is 5\n",
      "r2 is 5\n"
     ]
    },
    {
     "data": {
      "text/plain": [
       "()"
      ]
     },
     "execution_count": 6,
     "metadata": {},
     "output_type": "execute_result"
    }
   ],
   "source": [
    "{\n",
    "    let mut num = 5;\n",
    "\n",
    "    // Creating a pointer does no harm @audit-ok : why???\n",
    "    // ANSWER :\n",
    "    // Because we're sourcing the pointer from a Rust reference, which is\n",
    "    // guaranteed to point to a valid value\n",
    "    // NOTE : with raw pointers, we are able to point to the SAME memory address\n",
    "    // &num\n",
    "    // - with references, Rust borrow rule would prevent us from having a\n",
    "    //  mutable reference AND an immutable reference in the same scope\n",
    "    let r1 = &num as *const i32;\n",
    "    let r2 = &mut num as *mut i32;\n",
    "\n",
    "    // To DEREFERENCE a raw pointer, we MUST us an `unsafe` block\n",
    "    unsafe {\n",
    "        // It's only when we try to access the value that it points at that we\n",
    "        // might end up dealing with an invalid value\n",
    "        println!(\"r1 is {}\", *r1);\n",
    "        println!(\"r2 is {}\", *r2);\n",
    "    }\n",
    "}"
   ]
  },
  {
   "attachments": {},
   "cell_type": "markdown",
   "metadata": {},
   "source": [
    "> Listing 19-3: Dereferencing raw pointers within an unsafe block\n",
    "\n",
    "Creating a pointer does no harm;  \n",
    "- it’s only when we try to access the value  \n",
    "- that it points at that we might end up dealing with an invalid value.\n",
    "\n",
    "Note also that in Listing 19-1 and 19-3, we created :  \n",
    "- `*const i32` and \n",
    "- `*mut i32` \n",
    "- raw pointers that both pointed to the same memory location, \n",
    "- where num is stored.  \n",
    "\n",
    "If we instead tried to create an `immutable` and a `mutable` reference to num, \n",
    "the code would not have compiled because Rust’s ownership rules :  \n",
    "- don’t allow a `mutable` reference  \n",
    "- at the same time as any `immutable` references.  \n",
    "\n",
    "#### -- Raw Pointers can point to SAME ADDRESS, References can NOT --\n",
    "\n",
    "With raw pointers, we can create :  \n",
    "\n",
    "- a mutable pointer  \n",
    "- and an immutable pointer to the same location \n",
    "- and change data through the mutable pointer,  \n",
    "- **potentially creating a data race**.  \n",
    "\n",
    "Be careful!\n",
    "\n",
    "With all of these dangers, why would you ever use raw pointers?  \n",
    "\n",
    "- One major use case is when interfacing with C code, as you’ll see in the next  \n",
    "section, “Calling an Unsafe Function or Method.”  \n",
    "- Another case is when building up safe abstractions that the borrow checker  \n",
    "doesn’t understand.  \n",
    "\n",
    "We’ll introduce unsafe functions and then look at an example of a safe  \n",
    "abstraction that uses unsafe code."
   ]
  },
  {
   "attachments": {},
   "cell_type": "markdown",
   "metadata": {},
   "source": [
    "### Calling an Unsafe Function or Method\n",
    "\n",
    "The second type of operation you can perform in an unsafe block is calling  \n",
    "unsafe functions. Unsafe functions and methods look exactly like regular  \n",
    "functions and methods, but they have an extra unsafe before the rest of the  \n",
    "definition. The unsafe keyword in this context indicates the function has  \n",
    "requirements we need to uphold when we call this function, because Rust can’t  \n",
    "guarantee we’ve met these requirements. By calling an unsafe function within an  \n",
    "unsafe block, we’re saying that we’ve read this function’s documentation and  \n",
    "take responsibility for upholding the function’s contracts.\n",
    "\n",
    "Here is an unsafe function named dangerous that doesn’t do anything in its  \n",
    "body:"
   ]
  },
  {
   "cell_type": "code",
   "execution_count": 13,
   "metadata": {
    "vscode": {
     "languageId": "rust"
    }
   },
   "outputs": [
    {
     "data": {
      "text/plain": [
       "()"
      ]
     },
     "execution_count": 13,
     "metadata": {},
     "output_type": "execute_result"
    }
   ],
   "source": [
    "unsafe fn dangerous() {}\n",
    "\n",
    "// this unsafe block is required to call an unsafe function\n",
    "unsafe {\n",
    "    dangerous();\n",
    "}"
   ]
  },
  {
   "attachments": {},
   "cell_type": "markdown",
   "metadata": {},
   "source": [
    "#### -- `unsafe` Function MUST be called in `unsafe` code block --\n",
    "\n",
    "We must : \n",
    "\n",
    "- call the `dangerous` function within a separate `unsafe` block.  \n",
    "- If we try to call `dangerous without the unsafe` block,  \n",
    "- we’ll get an error:\n",
    "\n",
    "```sh\n",
    "$ cargo run\n",
    "   Compiling unsafe-example v0.1.0 (file:///projects/unsafe-example)\n",
    "error[E0133]: call to unsafe function is unsafe and requires unsafe function or block\n",
    " --> src/main.rs:4:5\n",
    "  |\n",
    "4 |     dangerous();\n",
    "  |     ^^^^^^^^^^^ call to unsafe function\n",
    "  |\n",
    "  = note: consult the function's documentation for information on how to avoid undefined behavior\n",
    "\n",
    "For more information about this error, try `rustc --explain E0133`.\n",
    "error: could not compile `unsafe-example` due to previous error\n",
    "```\n",
    "\n",
    "With the `unsafe` block, we’re asserting to Rust that :  \n",
    "\n",
    "- we’ve read the function’s documentation,  \n",
    "- we understand how to use it properly, and  \n",
    "- we’ve verified that we’re fulfilling the contract of the function.\n",
    "\n",
    "Bodies of `unsafe` functions are effectively `unsafe` blocks :  \n",
    "\n",
    "- so to perform other `unsafe` operations within an `unsafe` function,  \n",
    "- we don’t need to add another `unsafe` block."
   ]
  },
  {
   "attachments": {},
   "cell_type": "markdown",
   "metadata": {},
   "source": [
    "### Creating a Safe Abstraction over Unsafe Code\n",
    "\n",
    "Just because a function contains unsafe code doesn’t mean we need to mark the  \n",
    "entire function as unsafe. In fact, wrapping unsafe code in a safe function is  \n",
    "a common abstraction. As an example, let’s study the `split_at_mut` function  \n",
    "from the standard library, which requires some `unsafe` code. We’ll explore how  \n",
    "we might implement it. \n",
    "\n",
    "This safe method is defined on mutable slices:  \n",
    "- it takes one slice and makes it two by splitting the slice at the index given  \n",
    "as an argument. \n",
    "\n",
    "> Listing 19-4 shows how to use split_at_mut."
   ]
  },
  {
   "cell_type": "code",
   "execution_count": 61,
   "metadata": {
    "vscode": {
     "languageId": "rust"
    }
   },
   "outputs": [
    {
     "data": {
      "text/plain": [
       "()"
      ]
     },
     "execution_count": 61,
     "metadata": {},
     "output_type": "execute_result"
    }
   ],
   "source": [
    "{\n",
    "    let mut v = vec![1, 2, 3, 4, 5, 6];\n",
    "\n",
    "    let r = &mut v[..];\n",
    "\n",
    "    let (a, b) = r.split_at_mut(3);\n",
    "\n",
    "    assert_eq!(a, &mut [1, 2, 3]);\n",
    "    assert_eq!(b, &mut [4, 5, 6]);\n",
    "}"
   ]
  },
  {
   "attachments": {},
   "cell_type": "markdown",
   "metadata": {},
   "source": [
    "> Listing 19-4: Using the safe split_at_mut function\n",
    "\n",
    "#### -- Attempting to implement `split_at_mut` with safe Rust --\n",
    "\n",
    "We can’t implement this function using only safe Rust. An attempt might look  \n",
    "something like Listing 19-5, which won’t compile. For simplicity, we’ll  \n",
    "implement :  \n",
    "\n",
    "- `split_at_mut` as a function rather than a method \n",
    "- and only for slices of `i32` values rather than for a generic type `T`."
   ]
  },
  {
   "cell_type": "code",
   "execution_count": 64,
   "metadata": {
    "vscode": {
     "languageId": "rust"
    }
   },
   "outputs": [
    {
     "ename": "Error",
     "evalue": "unused variable: `f`",
     "output_type": "error",
     "traceback": [
      "\u001b[31m[unused_variables] Error:\u001b[0m unused variable: `f`"
     ]
    },
    {
     "ename": "Error",
     "evalue": "cannot borrow `*values` as mutable more than once at a time",
     "output_type": "error",
     "traceback": [
      "\u001b[31m[E0499] Error:\u001b[0m cannot borrow `*values` as mutable more than once at a time",
      "    \u001b[38;5;246m╭\u001b[0m\u001b[38;5;246m─\u001b[0m\u001b[38;5;246m[\u001b[0mcommand_64:1:1\u001b[38;5;246m]\u001b[0m",
      "    \u001b[38;5;246m│\u001b[0m",
      " \u001b[38;5;246m 4 │\u001b[0m \u001b[38;5;249mf\u001b[0m\u001b[38;5;249mn\u001b[0m\u001b[38;5;249m \u001b[0m\u001b[38;5;249ms\u001b[0m\u001b[38;5;249mp\u001b[0m\u001b[38;5;249ml\u001b[0m\u001b[38;5;249mi\u001b[0m\u001b[38;5;249mt\u001b[0m\u001b[38;5;249m_\u001b[0m\u001b[38;5;249ma\u001b[0m\u001b[38;5;249mt\u001b[0m\u001b[38;5;249m_\u001b[0m\u001b[38;5;249mm\u001b[0m\u001b[38;5;249mu\u001b[0m\u001b[38;5;249mt\u001b[0m\u001b[38;5;249m(\u001b[0m\u001b[38;5;249mv\u001b[0m\u001b[38;5;249ma\u001b[0m\u001b[38;5;249ml\u001b[0m\u001b[38;5;249mu\u001b[0m\u001b[38;5;249me\u001b[0m\u001b[38;5;249ms\u001b[0m\u001b[38;5;249m:\u001b[0m\u001b[38;5;249m \u001b[0m\u001b[38;5;68m&\u001b[0m\u001b[38;5;249mm\u001b[0m\u001b[38;5;249mu\u001b[0m\u001b[38;5;249mt\u001b[0m\u001b[38;5;249m \u001b[0m\u001b[38;5;249m[\u001b[0m\u001b[38;5;249mi\u001b[0m\u001b[38;5;249m3\u001b[0m\u001b[38;5;249m2\u001b[0m\u001b[38;5;249m]\u001b[0m\u001b[38;5;249m,\u001b[0m\u001b[38;5;249m \u001b[0m\u001b[38;5;249mm\u001b[0m\u001b[38;5;249mi\u001b[0m\u001b[38;5;249md\u001b[0m\u001b[38;5;249m:\u001b[0m\u001b[38;5;249m \u001b[0m\u001b[38;5;249mu\u001b[0m\u001b[38;5;249ms\u001b[0m\u001b[38;5;249mi\u001b[0m\u001b[38;5;249mz\u001b[0m\u001b[38;5;249me\u001b[0m\u001b[38;5;249m)\u001b[0m\u001b[38;5;249m \u001b[0m\u001b[38;5;249m-\u001b[0m\u001b[38;5;249m>\u001b[0m\u001b[38;5;249m \u001b[0m\u001b[38;5;249m(\u001b[0m\u001b[38;5;249m&\u001b[0m\u001b[38;5;249mm\u001b[0m\u001b[38;5;249mu\u001b[0m\u001b[38;5;249mt\u001b[0m\u001b[38;5;249m \u001b[0m\u001b[38;5;249m[\u001b[0m\u001b[38;5;249mi\u001b[0m\u001b[38;5;249m3\u001b[0m\u001b[38;5;249m2\u001b[0m\u001b[38;5;249m]\u001b[0m\u001b[38;5;249m,\u001b[0m\u001b[38;5;249m \u001b[0m\u001b[38;5;249m&\u001b[0m\u001b[38;5;249mm\u001b[0m\u001b[38;5;249mu\u001b[0m\u001b[38;5;249mt\u001b[0m\u001b[38;5;249m \u001b[0m\u001b[38;5;249m[\u001b[0m\u001b[38;5;249mi\u001b[0m\u001b[38;5;249m3\u001b[0m\u001b[38;5;249m2\u001b[0m\u001b[38;5;249m]\u001b[0m\u001b[38;5;249m)\u001b[0m\u001b[38;5;249m \u001b[0m\u001b[38;5;249m{\u001b[0m",
      " \u001b[38;5;246m   ·\u001b[0m                         \u001b[38;5;68m┬\u001b[0m  ",
      " \u001b[38;5;246m   ·\u001b[0m                         \u001b[38;5;68m╰\u001b[0m\u001b[38;5;68m─\u001b[0m\u001b[38;5;68m─\u001b[0m let's call the lifetime of this reference `'1`",
      " \u001b[38;5;246m   ·\u001b[0m ",
      " \u001b[38;5;246m15 │\u001b[0m \u001b[38;5;249m \u001b[0m\u001b[38;5;249m \u001b[0m\u001b[38;5;249m \u001b[0m\u001b[38;5;249m \u001b[0m\u001b[38;5;37m(\u001b[0m\u001b[38;5;37m&\u001b[0m\u001b[38;5;37mm\u001b[0m\u001b[38;5;37mu\u001b[0m\u001b[38;5;37mt\u001b[0m\u001b[38;5;37m \u001b[0m\u001b[38;5;54mv\u001b[0m\u001b[38;5;54ma\u001b[0m\u001b[38;5;54ml\u001b[0m\u001b[38;5;54mu\u001b[0m\u001b[38;5;54me\u001b[0m\u001b[38;5;54ms\u001b[0m\u001b[38;5;37m[\u001b[0m\u001b[38;5;37m.\u001b[0m\u001b[38;5;37m.\u001b[0m\u001b[38;5;37mm\u001b[0m\u001b[38;5;37mi\u001b[0m\u001b[38;5;37md\u001b[0m\u001b[38;5;37m]\u001b[0m\u001b[38;5;37m,\u001b[0m\u001b[38;5;37m \u001b[0m\u001b[38;5;37m&\u001b[0m\u001b[38;5;37mm\u001b[0m\u001b[38;5;37mu\u001b[0m\u001b[38;5;37mt\u001b[0m\u001b[38;5;37m \u001b[0m\u001b[38;5;100mv\u001b[0m\u001b[38;5;100ma\u001b[0m\u001b[38;5;100ml\u001b[0m\u001b[38;5;100mu\u001b[0m\u001b[38;5;100me\u001b[0m\u001b[38;5;100ms\u001b[0m\u001b[38;5;37m[\u001b[0m\u001b[38;5;37mm\u001b[0m\u001b[38;5;37mi\u001b[0m\u001b[38;5;37md\u001b[0m\u001b[38;5;37m.\u001b[0m\u001b[38;5;37m.\u001b[0m\u001b[38;5;37m]\u001b[0m\u001b[38;5;37m)\u001b[0m",
      " \u001b[38;5;246m   ·\u001b[0m     \u001b[38;5;37m─\u001b[0m\u001b[38;5;37m─\u001b[0m\u001b[38;5;37m─\u001b[0m\u001b[38;5;37m─\u001b[0m\u001b[38;5;37m─\u001b[0m\u001b[38;5;37m─\u001b[0m\u001b[38;5;54m─\u001b[0m\u001b[38;5;54m─\u001b[0m\u001b[38;5;54m─\u001b[0m\u001b[38;5;54m┬\u001b[0m\u001b[38;5;54m─\u001b[0m\u001b[38;5;54m─\u001b[0m\u001b[38;5;37m─\u001b[0m\u001b[38;5;37m─\u001b[0m\u001b[38;5;37m─\u001b[0m\u001b[38;5;37m─\u001b[0m\u001b[38;5;37m─\u001b[0m\u001b[38;5;37m─\u001b[0m\u001b[38;5;37m─\u001b[0m\u001b[38;5;37m─\u001b[0m\u001b[38;5;37m┬\u001b[0m\u001b[38;5;37m─\u001b[0m\u001b[38;5;37m─\u001b[0m\u001b[38;5;37m─\u001b[0m\u001b[38;5;37m─\u001b[0m\u001b[38;5;37m─\u001b[0m\u001b[38;5;100m─\u001b[0m\u001b[38;5;100m─\u001b[0m\u001b[38;5;100m─\u001b[0m\u001b[38;5;100m┬\u001b[0m\u001b[38;5;100m─\u001b[0m\u001b[38;5;100m─\u001b[0m\u001b[38;5;37m─\u001b[0m\u001b[38;5;37m─\u001b[0m\u001b[38;5;37m─\u001b[0m\u001b[38;5;37m─\u001b[0m\u001b[38;5;37m─\u001b[0m\u001b[38;5;37m─\u001b[0m\u001b[38;5;37m─\u001b[0m\u001b[38;5;37m─\u001b[0m  ",
      " \u001b[38;5;246m   ·\u001b[0m              \u001b[38;5;54m╰\u001b[0m\u001b[38;5;54m─\u001b[0m\u001b[38;5;54m─\u001b[0m\u001b[38;5;54m─\u001b[0m\u001b[38;5;54m─\u001b[0m\u001b[38;5;54m─\u001b[0m\u001b[38;5;54m─\u001b[0m\u001b[38;5;54m─\u001b[0m\u001b[38;5;54m─\u001b[0m\u001b[38;5;54m─\u001b[0m\u001b[38;5;54m─\u001b[0m\u001b[38;5;54m─\u001b[0m\u001b[38;5;54m─\u001b[0m\u001b[38;5;54m─\u001b[0m\u001b[38;5;54m─\u001b[0m\u001b[38;5;54m─\u001b[0m\u001b[38;5;54m─\u001b[0m\u001b[38;5;54m─\u001b[0m\u001b[38;5;54m─\u001b[0m\u001b[38;5;54m─\u001b[0m\u001b[38;5;54m─\u001b[0m\u001b[38;5;54m─\u001b[0m\u001b[38;5;54m─\u001b[0m\u001b[38;5;54m─\u001b[0m\u001b[38;5;54m─\u001b[0m\u001b[38;5;54m─\u001b[0m\u001b[38;5;54m─\u001b[0m\u001b[38;5;54m─\u001b[0m\u001b[38;5;54m─\u001b[0m\u001b[38;5;54m─\u001b[0m\u001b[38;5;54m─\u001b[0m\u001b[38;5;54m─\u001b[0m\u001b[38;5;54m─\u001b[0m first mutable borrow occurs here",
      " \u001b[38;5;246m   ·\u001b[0m                         \u001b[38;5;37m│\u001b[0m        \u001b[38;5;100m│\u001b[0m            ",
      " \u001b[38;5;246m   ·\u001b[0m                         \u001b[38;5;37m╰\u001b[0m\u001b[38;5;37m─\u001b[0m\u001b[38;5;37m─\u001b[0m\u001b[38;5;37m─\u001b[0m\u001b[38;5;37m─\u001b[0m\u001b[38;5;37m─\u001b[0m\u001b[38;5;37m─\u001b[0m\u001b[38;5;37m─\u001b[0m\u001b[38;5;37m─\u001b[0m\u001b[38;5;37m─\u001b[0m\u001b[38;5;37m─\u001b[0m\u001b[38;5;37m─\u001b[0m\u001b[38;5;37m─\u001b[0m\u001b[38;5;37m─\u001b[0m\u001b[38;5;37m─\u001b[0m\u001b[38;5;37m─\u001b[0m\u001b[38;5;37m─\u001b[0m\u001b[38;5;37m─\u001b[0m\u001b[38;5;37m─\u001b[0m\u001b[38;5;37m─\u001b[0m\u001b[38;5;37m─\u001b[0m\u001b[38;5;37m─\u001b[0m returning this value requires that `*values` is borrowed for `'1`",
      " \u001b[38;5;246m   ·\u001b[0m                                  \u001b[38;5;100m│\u001b[0m            ",
      " \u001b[38;5;246m   ·\u001b[0m                                  \u001b[38;5;100m╰\u001b[0m\u001b[38;5;100m─\u001b[0m\u001b[38;5;100m─\u001b[0m\u001b[38;5;100m─\u001b[0m\u001b[38;5;100m─\u001b[0m\u001b[38;5;100m─\u001b[0m\u001b[38;5;100m─\u001b[0m\u001b[38;5;100m─\u001b[0m\u001b[38;5;100m─\u001b[0m\u001b[38;5;100m─\u001b[0m\u001b[38;5;100m─\u001b[0m\u001b[38;5;100m─\u001b[0m\u001b[38;5;100m─\u001b[0m second mutable borrow occurs here",
      "\u001b[38;5;246m────╯\u001b[0m"
     ]
    }
   ],
   "source": [
    "/// Takes a slice\n",
    "/// - split at mid\n",
    "/// - returns a tuple of the resulting 2 slices\n",
    "fn split_at_mut(values: &mut [i32], mid: usize) -> (&mut [i32], &mut [i32]) {\n",
    "    let len = values.len();\n",
    "\n",
    "    // safety check that `mid` is within our slice bounds\n",
    "    // - else, PANIC and TERMINATE program HERE\n",
    "    assert!(mid <= len);\n",
    "\n",
    "    // @audit-ok : rust borrow checker will not allow this because `values` is \n",
    "    // mutable\n",
    "    // - and can ONLY be borrowed ONCE\n",
    "    // - in generating the 2nd slice, `values` is borrowed AGAIN\n",
    "    (&mut values[..mid], &mut values[mid..])\n",
    "    // Borrowing different NON OVERLAPPING parts of a slice is FUNDAMENTALLY OK\n",
    "    // @audit-ok ... but Rust borrow checker DOES NOT KNOW THIS\n",
    "    // - this is a SUFFICIENT ENOUGH basis to deploy `unsafe` code\n",
    "}"
   ]
  },
  {
   "attachments": {},
   "cell_type": "markdown",
   "metadata": {},
   "source": [
    "> Listing 19-5: An attempted implementation of split_at_mut using only safe Rust\n",
    "\n",
    "This function :  \n",
    "\n",
    "- first gets the total length of the slice.  \n",
    "- Then it asserts that the index given as a parameter is within the slice  \n",
    "- by checking whether it’s less than or equal to the length.  \n",
    "\n",
    "The assertion means that if we pass an index that is greater than the length to  \n",
    "split the slice at, the function will panic before it attempts to use that  \n",
    "index.\n",
    "\n",
    "#### -- Assertion GUARANTEES that the 2 mutable slices DO NOT OVERLAP --\n",
    "\n",
    "Then we return two mutable slices in a tuple: \n",
    "\n",
    "- one from the start of the original slice to the mid index  \n",
    "- and another from mid to the end of the slice.\n",
    "\n",
    "When we try to compile the code in Listing 19-5, we’ll get an error.\n",
    "\n",
    "```sh\n",
    "$ cargo run\n",
    "   Compiling unsafe-example v0.1.0 (file:///projects/unsafe-example)\n",
    "error[E0499]: cannot borrow `*values` as mutable more than once at a time\n",
    " --> src/main.rs:6:31\n",
    "  |\n",
    "1 | fn split_at_mut(values: &mut [i32], mid: usize) -> (&mut [i32], &mut [i32]) {\n",
    "  |                         - let's call the lifetime of this reference `'1`\n",
    "...\n",
    "6 |     (&mut values[..mid], &mut values[mid..])\n",
    "  |     --------------------------^^^^^^--------\n",
    "  |     |     |                   |\n",
    "  |     |     |                   second mutable borrow occurs here\n",
    "  |     |     first mutable borrow occurs here\n",
    "  |     returning this value requires that `*values` is borrowed for `'1`\n",
    "\n",
    "For more information about this error, try `rustc --explain E0499`.\n",
    "error: could not compile `unsafe-example` due to previous error\n",
    "```\n",
    "\n",
    "#### -- Rust checker ERROR : only ONE mutable borrow ALLOWED --\n",
    "\n",
    "Rust’s borrow checker can’t understand that we’re borrowing different parts of  \n",
    "the slice; it only knows that we’re borrowing from the same slice twice.  \n",
    "\n",
    "- Borrowing different parts of a slice is **`fundamentally okay`** \n",
    "- because the two slices **`aren’t overlapping`**,  \n",
    "- but **`Rust isn’t smart enough to know this`**.  \n",
    "\n",
    "When we know code is okay, but Rust doesn’t, it’s time to reach for unsafe code.\n",
    "\n",
    "> Listing 19-6 shows how to use an unsafe block, a raw pointer, and some calls to  \n",
    "unsafe functions to make the implementation of split_at_mut work."
   ]
  },
  {
   "cell_type": "code",
   "execution_count": 66,
   "metadata": {
    "vscode": {
     "languageId": "rust"
    }
   },
   "outputs": [],
   "source": [
    "// import slice module from standard library\n",
    "// - provides functions for handling slices\n",
    "use std::slice;\n",
    "\n",
    "/// Takes a slice : \n",
    "/// - splits at mid\n",
    "/// - returns a tuple of those two slices\n",
    "fn split_at_mut(value: &mut [i32], mid: usize) -> (&mut [i32], &mut [i32]){\n",
    "    // @note : notation [i32] signifies a slice where every element is an i32\n",
    "    // - slices are a REFERENCE to a contigous sequence of elements in memory\n",
    "    // - while we can change ANY element (value) in the slice\n",
    "    // - the length of the slice is fixed, and can NOT be changed\n",
    "    // - Use a `Vec` if you want to be able to change the size of the collection\n",
    "    // The fixed length NATURE of the slice ALLOWS us to SPLIT the slice!\n",
    "\n",
    "    // get original slice length\n",
    "    let len = value.len();\n",
    "\n",
    "    // safety check that mid is within the slice bound\n",
    "    // - if out of bound, PANIC and TERMINATE the program\n",
    "    assert!(mid <= len);\n",
    "\n",
    "    // get RAW POINTER to the data in the slice\n",
    "    // - RAW POINTER allow for MORE CONTROL and LESS SAFETY in Rust\n",
    "    let ptr = value.as_mut_ptr();\n",
    "\n",
    "    // start an unsafe block\n",
    "    unsafe {\n",
    "        // returns a tuple of two mutable slices\n",
    "        (\n",
    "            // from_raw_parts_mut : creates a mutable slice from :\n",
    "            // - ptr : a raw pointer to the first element in the slice\n",
    "            // - the length of the slice : mid\n",
    "            slice::from_raw_parts_mut(ptr, mid),\n",
    "            // from_raw_parts_mut : creates a mutable slice from :\n",
    "            // - ptr : a raw pointer to starting point of ([0] + mid)\n",
    "            // - the length of the slice : (len - mid)\n",
    "            slice::from_raw_parts_mut(ptr.add(mid), len -mid)\n",
    "        )\n",
    "    }\n",
    "}"
   ]
  },
  {
   "attachments": {},
   "cell_type": "markdown",
   "metadata": {},
   "source": [
    "> Listing 19-6: Using unsafe code in the implementation of the split_at_mut  \n",
    "function\n",
    "\n",
    "#### -- Slice have a FIXED LENGTH, this ALLOWS it to be SAFELY SPLIT --\n",
    "\n",
    "<iframe src=\"https://giphy.com/embed/AvMJCeu1EMmhG\" width=\"480\" height=\"199\" frameBorder=\"0\" class=\"giphy-embed\" allowFullScreen></iframe><p><a href=\"https://giphy.com/gifs/reaction-this-is-the-end-breaks-AvMJCeu1EMmhG\">via GIPHY</a></p>\n",
    "\n",
    "Recall from “The Slice Type” section in Chapter 4 that `slices` are : \n",
    "\n",
    "- a `pointer` to some data  \n",
    "- and the `length` of the slice.  \n",
    "\n",
    "We use : \n",
    "\n",
    "- the `len` method to get the length of a slice  \n",
    "- and the `as_mut_ptr` method to access the raw pointer of a slice. \n",
    "\n",
    "In this case, because we have a mutable slice to :  \n",
    "\n",
    "- `i32` values, \n",
    "- `as_mut_ptr` returns  \n",
    "- a `raw pointer` with the type `*mut i32`, \n",
    "- which we’ve stored in the variable `ptr`.\n",
    "\n",
    "We keep the `assertion` that the `mid index is within the slice`. Then we  \n",
    "get to the `unsafe` code: \n",
    "\n",
    "- the `slice::from_raw_parts_mut` function \n",
    "- takes a `raw pointer` and a `length`,  \n",
    "- and it `creates a slice`.  \n",
    "\n",
    "We use this function to : \n",
    "\n",
    "- create a slice that \n",
    "- `starts` from `ptr` \n",
    "- and is `mid` items long. \n",
    "- Then we call the `add` method on `ptr` with `mid` as an argument  \n",
    "- to get a `raw pointer`  \n",
    "- that starts at `mid`,  \n",
    "- and we create a slice using that pointer and the remaining number of items  \n",
    "after mid as the `length`.\n",
    "\n",
    "The function `slice::from_raw_parts_mut` is `unsafe` because :  \n",
    "\n",
    "- it takes a raw pointer  \n",
    "- and must trust that this pointer is valid.  \n",
    "\n",
    "The `add` method on raw pointers is also `unsafe`, because :  \n",
    "- it must trust that the offset location is also a valid pointer.  \n",
    "\n",
    "#### -- Manual code REVIEW and ASSERTION informs that our CODE is valid --\n",
    "\n",
    "Therefore, we had to put an unsafe block around our calls to  \n",
    "`slice::from_raw_parts_mut` and `add` so we could call them. By looking at the  \n",
    "code and by adding the `assertion` that mid must be less than or equal to len,  \n",
    "we can tell that : \n",
    "\n",
    "- all the raw pointers used within the unsafe block will be valid pointers to  \n",
    "data within the slice.  \n",
    "- This is an acceptable and appropriate use of `unsafe`.\n",
    "\n",
    "> Note that we don’t need to mark the resulting `split_at_mut` function as  \n",
    "`unsafe`, and we can call this function from safe Rust. We’ve created a  \n",
    "`safe abstraction` to the unsafe code with an implementation of the function  \n",
    "that uses `unsafe` code in a safe way, because it creates only valid pointers  \n",
    "from the data this function has access to.\n",
    "\n",
    "#### -- Contrast with UNSAFE code that is INSUFFICIENTLY bounded --\n",
    "\n",
    "In contrast, the use of `slice::from_raw_parts_mut` in Listing 19-7 would likely  \n",
    "crash when the slice is used. This code takes an arbitrary memory location and  \n",
    "creates a slice 10,000 items long."
   ]
  },
  {
   "cell_type": "code",
   "execution_count": 67,
   "metadata": {
    "vscode": {
     "languageId": "rust"
    }
   },
   "outputs": [
    {
     "name": "stdout",
     "output_type": "stream",
     "text": [
      "address dec : 4660\n",
      "address hex : 1234\n"
     ]
    },
    {
     "name": "stderr",
     "output_type": "stream",
     "text": [
      "Segmentation fault.\n",
      "   0: backtrace::capture::Backtrace::new\n",
      "   1: evcxr::runtime::Runtime::install_crash_handlers::segfault_handler\n",
      "   2: __platform_memmove\n",
      "   3: core::fmt::builders::DebugInner::entry\n",
      "   4: core::fmt::builders::DebugInner::entry\n",
      "   5: core::fmt::builders::DebugList::entry\n",
      "   6: <&T as core::fmt::Debug>::fmt\n",
      "   7: core::fmt::write\n",
      "   8: <&std::io::stdio::Stdout as std::io::Write>::write_fmt\n",
      "   9: std::io::stdio::_print\n",
      "  10: <core::panic::unwind_safe::AssertUnwindSafe<F> as core::ops::function::FnOnce<()>>::call_once\n",
      "  11: _run_user_code_48\n",
      "  12: evcxr::runtime::Runtime::run_loop\n",
      "  13: evcxr::runtime::runtime_hook\n",
      "  14: evcxr_jupyter::main\n",
      "  15: std::sys_common::backtrace::__rust_begin_short_backtrace\n",
      "  16: std::rt::lang_start::{{closure}}\n",
      "  17: std::rt::lang_start_internal\n",
      "  18: _main\n",
      "\n"
     ]
    },
    {
     "ename": "Error",
     "evalue": "Subprocess terminated with status: signal: 6 (SIGABRT)",
     "output_type": "error",
     "traceback": [
      "Subprocess terminated with status: signal: 6 (SIGABRT)"
     ]
    }
   ],
   "source": [
    "{\n",
    "    use std::slice;\n",
    "\n",
    "    let address = 0x01234usize;\n",
    "    // @audit-ok : Why is the address printed as 0x1234 => 4660\n",
    "    // - how is the address 0x01234usize => 4660\n",
    "    // ANSWER :\n",
    "    // 0*16^4 + 1*16^3 + 2*16^2 + 3*16^1 + 4*16^0\n",
    "    // =    0 + 4096   + 512    + 48     + 4 = 4660\n",
    "    println!(\"address dec : {}\", address);\n",
    "    println!(\"address hex : {:x}\", address);\n",
    "    let r = address as *mut i32;\n",
    "\n",
    "    let values: &[i32] = unsafe {\n",
    "        slice::from_raw_parts_mut(r, 10000)\n",
    "    };\n",
    "\n",
    "    // trying to print the value causes a segfault\n",
    "    // - Segmentation fault.\n",
    "    // 0: backtrace::capture::Backtrace::new\n",
    "    // 1: evcxr::runtime::Runtime::install_crash_handlers::segfault_handler\n",
    "    // 2: __platform_memmove\n",
    "    // ...\n",
    "    println!(\"{:?}\", values);\n",
    "}"
   ]
  },
  {
   "attachments": {},
   "cell_type": "markdown",
   "metadata": {},
   "source": [
    "> Listing 19-7: Creating a slice from an arbitrary memory location\n",
    "\n",
    "#### -- because WE DO NOT own MEMORY at this LOCATION --\n",
    "\n",
    "We don’t own the memory at this arbitrary location, and there is `no guarantee`  \n",
    "that the slice this code creates contains `valid i32` values. Attempting to use  \n",
    "values as though it’s a valid slice results in undefined behavior."
   ]
  },
  {
   "attachments": {},
   "cell_type": "markdown",
   "metadata": {},
   "source": [
    "### Using `extern` Functions to Call External Code\n",
    "\n",
    "Sometimes, your Rust code might need to interact with code written in another  \n",
    "language. For this, Rust has :  \n",
    "\n",
    "- the keyword **`extern`** \n",
    "- that facilitates the creation and use of a Foreign Function Interface (FFI). \n",
    "\n",
    "An FFI is a way for a programming language to define functions and enable a  \n",
    "different (foreign) programming language to call those functions.\n",
    "\n",
    "Listing 19-8 demonstrates how to :  \n",
    "\n",
    "- set up an integration with the `abs` function from the `C` standard library. \n",
    "\n",
    "<iframe src=\"https://giphy.com/embed/LlhKIWfRs2FPO\" width=\"480\" height=\"414\" frameBorder=\"0\" class=\"giphy-embed\" allowFullScreen></iframe><p><a href=\"https://giphy.com/gifs/isis-mh17-casebook-LlhKIWfRs2FPO\">via GIPHY</a></p>\n",
    "\n",
    "Functions declared within `extern` blocks are always `unsafe` to call from Rust  \n",
    "code. The reason is that other languages don’t enforce Rust’s rules and  \n",
    "guarantees, and **`Rust can’t check them`**, so responsibility falls on the  \n",
    "programmer to ensure safety.\n",
    "\n",
    "> Filename: src/main.rs"
   ]
  },
  {
   "cell_type": "code",
   "execution_count": 6,
   "metadata": {
    "vscode": {
     "languageId": "rust"
    }
   },
   "outputs": [
    {
     "name": "stdout",
     "output_type": "stream",
     "text": [
      "Absolute value of -3 according to C: 3\n"
     ]
    },
    {
     "data": {
      "text/plain": [
       "()"
      ]
     },
     "execution_count": 6,
     "metadata": {},
     "output_type": "execute_result"
    }
   ],
   "source": [
    "{\n",
    "    // Jupyter cell errors if we try to run this cell multiple times\n",
    "    // - [E0428] Error: the name `abs` is defined multiple times\n",
    "    // - so we will enclose this in a cell block\n",
    "    extern \"C\" {\n",
    "        // abs is an actual C function???\n",
    "        // - @audit : How do I get a list of other available C functions?\n",
    "        fn abs(input: i32)->i32;\n",
    "    }\n",
    "\n",
    "    unsafe {\n",
    "        println!(\"Absolute value of -3 according to C: {}\", abs(-3));\n",
    "    }\n",
    "\n",
    "}"
   ]
  },
  {
   "attachments": {},
   "cell_type": "markdown",
   "metadata": {},
   "source": [
    "> Listing 19-8: Declaring and calling an extern function defined in another  \n",
    "language\n",
    "\n",
    "#### -- extern => ABI (Application Binary Interface) --\n",
    "\n",
    "Within the `extern` \"C\" block :  \n",
    "\n",
    "- we list the `names` and `signatures`  \n",
    "- of `external functions` from another language we want to call.  \n",
    "- The \"C\" part defines which application binary interface (ABI) the external  \n",
    "function uses:  \n",
    "- the ABI defines how to call the function at the assembly level.  \n",
    "\n",
    "The \"C\" ABI is the most common and follows the C programming language’s ABI."
   ]
  },
  {
   "attachments": {},
   "cell_type": "markdown",
   "metadata": {},
   "source": [
    "***\n",
    "###### -- GPT Asks --\n",
    "***\n",
    "\n",
    "Imagine you and your friend have two different sets of building blocks. You  \n",
    "have colorful LEGO blocks, and your friend has wooden blocks. You both love  \n",
    "building cool structures, but the problem is that your LEGO blocks and your  \n",
    "friend's wooden blocks don't fit together directly.\n",
    "\n",
    "So, what do you do? You decide to create a special set of rules that tells you  \n",
    "how to connect LEGO blocks and wooden blocks. These rules might include using  \n",
    "special connectors or arranging the blocks in a certain way. This set of rules  \n",
    "is like the Application Binary Interface (ABI).\n",
    "\n",
    "Now, let's look at the \"C\" part. Suppose your friend who has wooden blocks  \n",
    "speaks a different language, say French, and you speak English. To communicate  \n",
    "how to connect the blocks, you both decide to use a common language, say  \n",
    "Spanish. In this case, Spanish is like the \"C\" ABI. It's a common way that  \n",
    "different parts of a computer program (which might be written in different  \n",
    "programming languages) can talk to each other.\n",
    "\n",
    "So, in your code, when you're writing an `extern \"C\"` block, you're writing the  \n",
    "rules in Spanish (the common language) to explain how to connect your LEGO  \n",
    "blocks (your program) with your friend's wooden blocks (the external functions  \n",
    "from another language). The names and signatures of the external functions are  \n",
    "like the descriptions of which blocks to use and how to connect them.\n",
    "\n",
    "I hope this makes the concept of ABI and `extern \"C\"` a bit clearer!"
   ]
  },
  {
   "attachments": {},
   "cell_type": "markdown",
   "metadata": {},
   "source": [
    "#### -- Calling Rust Functions from Other Languages --\n",
    "\n",
    "We can also use `extern` to create an interface that :  \n",
    "\n",
    "- allows **other** languages **to call Rust** functions.  \n",
    "\n",
    "Instead of creating a whole `extern` block : \n",
    "\n",
    "- we add the `extern` keyword  \n",
    "- and `specify the ABI` to use \n",
    "- just before the `fn` keyword for the relevant function.  \n",
    "\n",
    "#### -- **`#[no_mangle]`** for Rust funcs that allow ffi access --\n",
    "\n",
    "<iframe src=\"https://giphy.com/embed/lrK5A69PGsflFQiPmM\" width=\"480\" height=\"270\" frameBorder=\"0\" class=\"giphy-embed\" allowFullScreen></iframe><p><a href=\"https://giphy.com/gifs/animation-2d-2danimation-lrK5A69PGsflFQiPmM\">via GIPHY</a></p>\n",
    "\n",
    "We also need to add a **`#[no_mangle]`** annotation to tell the Rust compiler  \n",
    "not to `mangle the name` of this function. Mangling is when a compiler changes  \n",
    "the name we’ve given a function to a different name that contains more  \n",
    "information for other parts of the compilation process to consume but is less  \n",
    "human readable. Every programming language compiler mangles names slightly  \n",
    "differently :  \n",
    "\n",
    "- so for a Rust function to be nameable by other languages,  \n",
    "- we must disable the Rust compiler’s name mangling.\n",
    "\n",
    "#### -- Then compile to SHARED LIBRARY and LINK from C --\n",
    "\n",
    "In the following example, we make the `call_from_c` function accessible from  \n",
    "`C` code, after it’s :  \n",
    "\n",
    "- compiled to a shared library  \n",
    "- and linked from C:\n",
    "\n",
    "```rust\n",
    "#[no_mangle]\n",
    "pub extern \"C\" fn call_from_c() {\n",
    "    println!(\"Just called a Rust function from C!\");\n",
    "}\n",
    "```\n",
    "\n",
    "> This usage of extern does not require unsafe.\n"
   ]
  },
  {
   "cell_type": "code",
   "execution_count": 7,
   "metadata": {
    "vscode": {
     "languageId": "rust"
    }
   },
   "outputs": [],
   "source": [
    "\n",
    "#[no_mangle]\n",
    "pub extern \"C\" fn call_from_c() {\n",
    "    println!(\"Just called a Rust function from C!\");\n",
    "}"
   ]
  },
  {
   "attachments": {},
   "cell_type": "markdown",
   "metadata": {},
   "source": [
    "### Accessing or Modifying a Mutable Static Variable\n",
    "\n",
    "<iframe src=\"https://giphy.com/embed/3oFzm9D3ofutq98QIU\" width=\"480\" height=\"275\" frameBorder=\"0\" class=\"giphy-embed\" allowFullScreen></iframe><p><a href=\"https://giphy.com/gifs/art-illustration-world-3oFzm9D3ofutq98QIU\">via GIPHY</a></p>\n",
    "\n",
    "In this book, we’ve not yet talked about `global variables`, which Rust does  \n",
    "support but can be problematic with Rust’s ownership rules.  \n",
    "\n",
    "- If `two threads` are accessing the `same mutable global` variable,  \n",
    "- it can cause a `data race`\n",
    "\n",
    "In Rust, `global` variables are called `static` variables. Listing 19-9 shows  \n",
    "an example declaration and use of a `static` variable with a `string slice` as  \n",
    "a `value`.\n",
    "\n",
    "> Filename: src/main.rs"
   ]
  },
  {
   "cell_type": "code",
   "execution_count": 11,
   "metadata": {
    "vscode": {
     "languageId": "rust"
    }
   },
   "outputs": [
    {
     "name": "stdout",
     "output_type": "stream",
     "text": [
      "name is : Hello, world!\n"
     ]
    },
    {
     "data": {
      "text/plain": [
       "()"
      ]
     },
     "execution_count": 11,
     "metadata": {},
     "output_type": "execute_result"
    }
   ],
   "source": [
    "static HELLO_WORLD: &str = \"Hello, world!\";\n",
    "\n",
    "{\n",
    "    println!(\"name is : {}\", HELLO_WORLD);\n",
    "}"
   ]
  },
  {
   "attachments": {},
   "cell_type": "markdown",
   "metadata": {},
   "source": [
    "> Listing 19-9: Defining and using an immutable static variable\n",
    "\n",
    "#### -- Similarities between `static` and `constants`\n",
    "\n",
    "<iframe src=\"https://giphy.com/embed/3orif1k94sLl0lFCQ8\" width=\"480\" height=\"362\" frameBorder=\"0\" class=\"giphy-embed\" allowFullScreen></iframe><p><a href=\"https://giphy.com/gifs/season-17-the-simpsons-17x10-3orif1k94sLl0lFCQ8\">via GIPHY</a></p>\n",
    "\n",
    "`Static` variables are similar to `constants`, which we discussed in the  \n",
    "“Differences Between Variables and Constants” section in Chapter 3.  \n",
    "\n",
    "- The names of static variables are in `SCREAMING_SNAKE_CASE` by convention.  \n",
    "- Static variables can only store references with the 'static lifetime,  \n",
    "- which means the Rust compiler can figure out the lifetime  \n",
    "- and we aren’t required to annotate it explicitly.  \n",
    "\n",
    "Accessing an `immutable static` variable is `safe`.\n",
    "\n",
    "#### -- Differences between `static` and `constants`\n",
    "\n",
    "A subtle difference between `constants` and `immutable static` variables is  \n",
    "that :  \n",
    "\n",
    "- values in a `static` variable have a `fixed address` in memory.  \n",
    "- Using the value will always access the same data. \n",
    "- `Constants`, on the other hand, are `allowed to duplicate` their data  \n",
    "whenever they’re used.  \n",
    "- Another difference is that `static` variables can be `mutable`.  \n",
    "\n",
    "#### -- Mutable Static Variables are UNSAFE\n",
    "\n",
    "Accessing and modifying `mutable static variables is unsafe`.  \n",
    "Listing 19-10 shows how to :  \n",
    "\n",
    "- declare,  \n",
    "- access, and  \n",
    "- modify a `mutable static` variable named `COUNTER`.\n",
    "\n",
    "> Filename: src/main.rs"
   ]
  },
  {
   "cell_type": "code",
   "execution_count": 8,
   "metadata": {
    "vscode": {
     "languageId": "rust"
    }
   },
   "outputs": [
    {
     "name": "stdout",
     "output_type": "stream",
     "text": [
      "COUNTER : 3\n"
     ]
    },
    {
     "data": {
      "text/plain": [
       "()"
      ]
     },
     "execution_count": 8,
     "metadata": {},
     "output_type": "execute_result"
    }
   ],
   "source": [
    "// As with regular variables, we specify mutability using the `mut` keyword\n",
    "static mut COUNTER: u32 = 0;\n",
    "\n",
    "fn add_to_count(inc: u32) {\n",
    "    // MODIFYING a static mutable variable is UNSAFE\n",
    "    // - and requires an `unsafe` block\n",
    "    unsafe {\n",
    "        COUNTER += inc;\n",
    "    }\n",
    "}\n",
    "\n",
    "{\n",
    "    add_to_count(3);\n",
    "\n",
    "    // Even ACCESSING a static mutable variable is UNSAFE\n",
    "    // - and requires an `unsafe` block\n",
    "    unsafe {\n",
    "        println!(\"COUNTER : {}\", COUNTER);\n",
    "    }\n",
    "}"
   ]
  },
  {
   "attachments": {},
   "cell_type": "markdown",
   "metadata": {},
   "source": [
    "> Listing 19-10: Reading from or writing to a mutable static variable is unsafe\n",
    "\n",
    "As with regular variables, we specify mutability using the `mut` keyword. Any  \n",
    "code that :  \n",
    "\n",
    "- reads or writes from `COUNTER` \n",
    "- must be within an `unsafe block`.  \n",
    "\n",
    "This code compiles and prints `COUNTER: 3` as we would expect because it’s  \n",
    "single threaded. Having `multiple threads` access `COUNTER` would likely  \n",
    "result in `data races`.\n",
    "\n",
    "#### -- Mutable Static are @HIGH RISK For Data RACES --\n",
    "\n",
    "<iframe src=\"https://giphy.com/embed/l2Je81HPSZRLSCNtC\" width=\"480\" height=\"366\" frameBorder=\"0\" class=\"giphy-embed\" allowFullScreen></iframe><p><a href=\"https://giphy.com/gifs/season-6-the-simpsons-6x20-l2Je81HPSZRLSCNtC\">via GIPHY</a></p>\n",
    "\n",
    "With `mutable data` that is `globally accessible`, it’s :  \n",
    "- difficult to ensure there are no data races,  \n",
    "- which is why Rust considers `mutable static` variables to be unsafe.  \n",
    "\n",
    "#### -- Instead use CONCURRENCY and thread-safe SMART POINTERS --\n",
    "\n",
    "Where possible, it’s preferable to : \n",
    "\n",
    "- use the concurrency techniques  \n",
    "- and thread-safe smart pointers we discussed in Chapter 16  \n",
    "- so the compiler checks that data accessed from different threads is done  \n",
    "safely."
   ]
  },
  {
   "attachments": {},
   "cell_type": "markdown",
   "metadata": {},
   "source": [
    "### Implementing an Unsafe Trait\n",
    "\n",
    "We can use `unsafe` to implement an `unsafe trait`. A `trait` is `unsafe`  \n",
    "when :  \n",
    "\n",
    "- at least `one of its methods` has some invariant that the  \n",
    "`compiler can’t verify`.  \n",
    "\n",
    "We declare that a `trait` is `unsafe` by :  \n",
    "- adding the `unsafe` keyword before `trait` and  \n",
    "- marking the `implementation` of the `trait` as `unsafe` too, \n",
    "\n",
    "> as shown in Listing 19-11."
   ]
  },
  {
   "cell_type": "code",
   "execution_count": 11,
   "metadata": {
    "vscode": {
     "languageId": "rust"
    }
   },
   "outputs": [
    {
     "data": {
      "text/plain": [
       "()"
      ]
     },
     "execution_count": 11,
     "metadata": {},
     "output_type": "execute_result"
    }
   ],
   "source": [
    "unsafe trait Foo {\n",
    "    // methods go here\n",
    "}\n",
    "\n",
    "unsafe impl Foo for i32 {\n",
    "    // method implementations go here\n",
    "}\n",
    "\n",
    "{\n",
    "    // main calls here\n",
    "}"
   ]
  },
  {
   "attachments": {},
   "cell_type": "markdown",
   "metadata": {},
   "source": [
    "> Listing 19-11: Defining and implementing an unsafe trait\n",
    "\n",
    "#### -- Trait is `unsafe` if > 0 methods is NOT COMPILER VERIFIABLE --\n",
    "\n",
    "By using `unsafe impl`, we’re promising that we’ll uphold the `invariants` that  \n",
    "the `compiler can’t verify`.\n",
    "\n",
    "As an example, recall the `Sync` and `Send` marker `traits` we discussed in the  \n",
    "“Extensible Concurrency with the Sync and Send Traits” section in Chapter 16:  \n",
    "\n",
    "- the `compiler implements` these `traits automatically` if our types are  \n",
    "composed entirely of `Send` and `Sync` types.  \n",
    "- If we implement a type that contains a type that is `not Send or Sync`, such  \n",
    "as raw pointers,  \n",
    "- and we want to mark that type as `Send or Sync`, \n",
    "- we must use `unsafe`.  \n",
    "\n",
    "Rust can’t verify that our type upholds the guarantees that it can be safely  \n",
    "sent across threads or accessed from multiple threads; therefore, we need to  \n",
    "do those checks manually and indicate as such with `unsafe`."
   ]
  },
  {
   "attachments": {},
   "cell_type": "markdown",
   "metadata": {},
   "source": [
    "### Accessing Fields of a Union\n",
    "\n",
    "The final action that works only with `unsafe` is :  \n",
    "\n",
    "- accessing `fields` of a `union`.  \n",
    "\n",
    "A `union` is similar to a `struct`, but : \n",
    "\n",
    "- `only one declared field` is used in a particular instance at one time.  \n",
    "- `Unions` are primarily used to `interface` with `unions` in `C` code.  \n",
    "\n",
    "Accessing `union` fields is `unsafe` because Rust can’t guarantee the type of  \n",
    "the data currently being stored in the `union` instance. You can learn more  \n",
    "about `unions` in the Rust Reference."
   ]
  },
  {
   "attachments": {},
   "cell_type": "markdown",
   "metadata": {},
   "source": [
    "### When to Use Unsafe Code\n",
    "\n",
    "Using `unsafe` to take one of the `five` actions (superpowers) just discussed  \n",
    "isn’t `wrong` or even frowned upon. But it is trickier to get `unsafe` code  \n",
    "`correct` because the `compiler can’t help` uphold memory safety.  \n",
    "\n",
    "#### -- Unsafe Code blocks NARROW problem search space --\n",
    "\n",
    "When you have a reason to use `unsafe` code, you can do so, and having the  \n",
    "explicit `unsafe` annotation makes it easier to track down the source of  \n",
    "problems when they occur."
   ]
  },
  {
   "attachments": {},
   "cell_type": "markdown",
   "metadata": {},
   "source": [
    "Advanced Traits\n",
    "---\n",
    "\n",
    "We first covered `traits` in the :  \n",
    "\n",
    "> “Traits: Defining Shared Behavior” section of Chapter 10,  \n",
    "\n",
    "but we didn’t discuss the more `advanced details`. Now that you know more about  \n",
    "Rust, we can get into the `nitty-gritty`."
   ]
  },
  {
   "attachments": {},
   "cell_type": "markdown",
   "metadata": {},
   "source": [
    "### Specifying PlaceHolder Types in Trait Definitions with Associated Types\n",
    "\n",
    "`Associated types` connect a type `placeholder` with a `trait` such that :  \n",
    "\n",
    "- the `trait method` definitions can `use` these `placeholder` types in their  \n",
    "`signatures`.  \n",
    "- The `implementor` of a `trait` will specify the `concrete type` to be used  \n",
    "instead of the placeholder type for the particular implementation.  \n",
    "- That way, we can define a `trait` that uses some types without needing to  \n",
    "know exactly what those types are until the `trait` is implemented.\n",
    "\n",
    "We’ve described most of the advanced features in this chapter as being rarely  \n",
    "needed. Associated types are somewhere in the middle: they’re used more rarely  \n",
    "than features explained in the rest of the book but more commonly than many of  \n",
    "the other features discussed in this chapter.\n",
    "\n",
    "One example of a `trait` with an `associated type` is :  \n",
    "\n",
    "- the `Iterator trait` that the standard library provides.  \n",
    "- The `associated type` is named `Item` and stands in for the type of the  \n",
    "values the `type implementing the Iterator trait` is iterating  \n",
    "over.  \n",
    "\n",
    "> The definition of the Iterator trait is as shown in Listing 19-12."
   ]
  },
  {
   "cell_type": "code",
   "execution_count": 2,
   "metadata": {
    "vscode": {
     "languageId": "rust"
    }
   },
   "outputs": [],
   "source": [
    "pub trait Iterator {\n",
    "    type Item;\n",
    "\n",
    "    fn next(&mut self) -> Option<Self::Item>;\n",
    "}"
   ]
  },
  {
   "attachments": {},
   "cell_type": "markdown",
   "metadata": {},
   "source": [
    "> Listing 19-12: The definition of the Iterator trait that has an associated type  \n",
    "Item\n",
    "\n",
    "#### -- Iterator trait is an example of Associated Types --\n",
    "\n",
    "- The type `Item` is a `placeholder`, and \n",
    "- the `next` method’s definition shows that it will `return` values of `type` `Option<Self::Item>`.  \n",
    "- Implementors of the `Iterator` trait  \n",
    "- will specify the `concrete type for Item`,  \n",
    "- and the `next` method will `return`  \n",
    "- an `Option` containing a `value of that concrete type`.\n",
    "\n",
    "#### -- Difference between Associated Type and Generics? --\n",
    "\n",
    "`Associated types` might seem like a similar concept to `generics`, in that :  \n",
    "\n",
    "- the latter allow us to define a function `without specifying` what `types`  \n",
    "it can handle.  \n",
    "\n",
    "To examine the difference between the two concepts, we’ll look at an  \n",
    "implementation of the `Iterator` trait on a type named `Counter` that specifies  \n",
    "the `Item` type is `u32`:\n",
    "\n",
    "> Filename: src/lib.rs"
   ]
  },
  {
   "cell_type": "code",
   "execution_count": 3,
   "metadata": {
    "vscode": {
     "languageId": "rust"
    }
   },
   "outputs": [],
   "source": [
    "struct Counter {}\n",
    "\n",
    "impl Iterator for Counter {\n",
    "    type Item = u32;\n",
    "\n",
    "    fn next(&mut self) -> Option<Self::Item> {\n",
    "        // --snip--\n",
    "        None\n",
    "    }\n",
    "}"
   ]
  },
  {
   "attachments": {},
   "cell_type": "markdown",
   "metadata": {},
   "source": [
    "#### -- The syntax looks like Generics, why not use that? --\n",
    "\n",
    "This syntax seems comparable to that of generics. So why not just define the  \n",
    "Iterator trait with generics, as shown in  \n",
    "\n",
    "> Listing 19-13?"
   ]
  },
  {
   "cell_type": "code",
   "execution_count": 4,
   "metadata": {
    "vscode": {
     "languageId": "rust"
    }
   },
   "outputs": [
    {
     "ename": "Error",
     "evalue": "type `Item` is not a member of trait `Iterator`",
     "output_type": "error",
     "traceback": [
      "\u001b[31m[E0437] Error:\u001b[0m type `Item` is not a member of trait `Iterator`"
     ]
    },
    {
     "ename": "Error",
     "evalue": "missing generics for trait `Iterator`",
     "output_type": "error",
     "traceback": [
      "\u001b[31m[E0107] Error:\u001b[0m missing generics for trait `Iterator`"
     ]
    },
    {
     "ename": "Error",
     "evalue": "associated type `Item` not found for `Self`",
     "output_type": "error",
     "traceback": [
      "\u001b[31m[E0220] Error:\u001b[0m associated type `Item` not found for `Self`"
     ]
    }
   ],
   "source": [
    "pub trait Iterator<T> {\n",
    "    fn next(&mut self) -> Option<T>;\n",
    "}"
   ]
  },
  {
   "attachments": {},
   "cell_type": "markdown",
   "metadata": {},
   "source": [
    "> Listing 19-13: A hypothetical definition of the Iterator trait using generics\n",
    "\n",
    "#### -- Generics : Each Impl req Annotation, int, String...etc  --\n",
    "\n",
    "The difference is that when using generics, as in Listing 19-13 :  \n",
    "\n",
    "- we must annotate the types in each implementation;  \n",
    "- because we can also implement `Iterator<String>` for `Counter`  \n",
    "- or any other type, we could have multiple implementations of `Iterator`  \n",
    "for `Counter`.  \n",
    "\n",
    "\n",
    "#### -- Generics can be Imp multiple TIMES as a Result --\n",
    "\n",
    "In other words, when a trait has a generic parameter :  \n",
    "\n",
    "- it can be implemented for a type multiple times,  \n",
    "- changing the concrete types of the generic type parameters each time.  \n",
    "- When we use the `next` method on `Counter`, we would have to provide type  \n",
    "annotations to indicate which implementation of `Iterator` we want to use.\n",
    "\n",
    "#### -- Associated Types ONLY ONE IMPL per Trait --\n",
    "\n",
    "With associated types :  \n",
    "\n",
    "- we don’t need to annotate types because  \n",
    "- we can’t implement a trait on a type multiple times.  \n",
    "\n",
    "In Listing 19-12 with the definition that uses associated types, we can only   \n",
    "choose what the type of `Item` will be once, because there can only be one  \n",
    "`impl Iterator` for `Counter`. We don’t have to specify that we want an  \n",
    "iterator of `u32` values everywhere that we call next on `Counter`.\n",
    "\n",
    "Associated types also become part of the trait’s contract:  \n",
    "\n",
    "- implementors of the trait must provide a type to stand in for the associated  \n",
    "type placeholder.  \n",
    "- Associated types often have a name that describes how the type will be used,  \n",
    "and documenting the associated type in the API documentation is good practice."
   ]
  },
  {
   "attachments": {},
   "cell_type": "markdown",
   "metadata": {},
   "source": [
    "### Default Generic Type Parameters and Operator Overloading\n",
    "\n",
    "When we use generic type parameters, we can specify a default concrete type for  \n",
    "the generic type. This eliminates the need for implementors of the trait to  \n",
    "specify a concrete type if the default type works. You specify a default type  \n",
    "when declaring a generic type with the `<PlaceholderType=ConcreteType>` syntax.\n",
    "\n",
    "A great example of a situation where this technique is useful is with operator  \n",
    "overloading, in which you customize the behavior of an operator (such as +) in  \n",
    "particular situations.\n",
    "\n",
    "Rust doesn’t allow :  \n",
    "\n",
    "- you to create your own operators or overload arbitrary operators.  \n",
    "- But you can overload the operations and corresponding traits listed in  \n",
    "`std::ops`  \n",
    "- by implementing the traits associated with the operator.  \n",
    "\n",
    "#### -- Example `+` Overload for `Point struct` --\n",
    "\n",
    "For example, in Listing 19-14 we overload the `+` operator to :  \n",
    "\n",
    "- add two `Point` instances together.  \n",
    "\n",
    "We do this by `implementing the Add` trait on a `Point struct`:\n",
    "\n",
    "> Filename: src/main.rs"
   ]
  },
  {
   "cell_type": "code",
   "execution_count": 7,
   "metadata": {
    "vscode": {
     "languageId": "rust"
    }
   },
   "outputs": [
    {
     "data": {
      "text/plain": [
       "()"
      ]
     },
     "execution_count": 7,
     "metadata": {},
     "output_type": "execute_result"
    }
   ],
   "source": [
    "// we can overload any operator in std::ops by implementing it's corresponding\n",
    "// trait : here we implement the `Add` trait to overload the `+` operator\n",
    "use std::ops::Add;\n",
    "\n",
    "// defining our own `Point` struct\n",
    "// - PartialEq trait allows us to use the `==` operator\n",
    "#[derive(Debug, Copy, Clone, PartialEq)]\n",
    "struct Point {\n",
    "    x: i32,\n",
    "    y: i32,\n",
    "}\n",
    "\n",
    "// block to implement the `Add` trait for our `Point` struct\n",
    "// - Point + Point => Point; \n",
    "// allows us to `+` two `Point` structs\n",
    "impl Add for Point {\n",
    "    type Output = Point;\n",
    "\n",
    "    // 'add()' is a method that are part of the `Add` trait contract that we\n",
    "    // MUST implement - else compile error\n",
    "    // returns a new SUMMED `Point` struct from adding self and other\n",
    "    fn add(self, other: Point) -> Point {\n",
    "        Point {\n",
    "            x: self.x + other.x,\n",
    "            y: self.y + other.y,\n",
    "        }\n",
    "    }\n",
    "}\n",
    "\n",
    "{\n",
    "    assert_eq! {\n",
    "        Point { x: 1, y: 0 } + Point { x: 2, y: 3 },\n",
    "        Point { x: 3, y: 3 }\n",
    "    }\n",
    "}"
   ]
  },
  {
   "attachments": {},
   "cell_type": "markdown",
   "metadata": {},
   "source": [
    "> Listing 19-14: Implementing the Add trait to overload the + operator for  \n",
    "Point instances\n",
    "\n",
    "The add method :  \n",
    "\n",
    "- adds the x values of two Point instances  \n",
    "- and the y values of two Point instances  \n",
    "- to create a new Point.  \n",
    "\n",
    "\n",
    "The `Add` trait has an associated type named Output that determines the type  \n",
    "returned from the `add` method.\n",
    "\n",
    "#### -- Rhs \"Right Hand Side\" is a Default type Parameter --\n",
    "\n",
    "The default generic type in this code is within the Add trait. Here is its  \n",
    "definition:\n",
    "\n",
    "```rust\n",
    "trait Add<Rhs=Self> {\n",
    "    type Output;\n",
    "\n",
    "    fn add(self, rhs: Rhs) -> Self::Output;\n",
    "}\n",
    "```\n",
    "\n",
    "This code should look generally familiar:  \n",
    "\n",
    "- a trait with one method and an associated type.  \n",
    "- The new part is `Rhs=Self:` this syntax is called default type parameters.  \n",
    "- The `Rhs` generic type parameter (short for “right hand side”) defines the  \n",
    "type of the rhs parameter in the `add` method.  \n",
    "\n",
    "If we don’t specify a concrete type for `Rhs` when we implement the `Add`  \n",
    "trait :  \n",
    "\n",
    "- the type of `Rhs` will default to `Self`, \n",
    "- which will be the type we’re implementing `Add` on.\n",
    "\n",
    "When we implemented `Add` for `Point`, we used the default for `Rhs` because  \n",
    "we wanted to add two `Point` instances. Let’s look at an example of  \n",
    "implementing the `Add` trait where :  \n",
    "\n",
    "- we want to customize the `Rhs` type \n",
    "- rather than using the default.\n",
    "\n",
    "We have two structs, `Millimeters` and `Meters`, holding values in different  \n",
    "units. This thin wrapping of an existing type in another struct is known as the  \n",
    "newtype pattern, which we describe in more detail in the “Using the Newtype  \n",
    "Pattern to Implement External Traits on External Types” section.  \n",
    "\n",
    "We want to :  \n",
    "\n",
    "- add values in millimeters  \n",
    "- to values in meters  \n",
    "- and have the implementation of `Add` do the conversion correctly. \n",
    "\n",
    "We can implement `Add` for `Millimeters` with `Meters` as the `Rhs`, as shown  \n",
    "in Listing 19-15.\n",
    "\n",
    "> Filename: src/lib.rs"
   ]
  },
  {
   "cell_type": "code",
   "execution_count": 9,
   "metadata": {
    "vscode": {
     "languageId": "rust"
    }
   },
   "outputs": [],
   "source": [
    "use std::ops::Add;\n",
    "\n",
    "struct Millimeters(u32);\n",
    "struct Meters(u32);\n",
    "\n",
    "// impl block for the Add trait for : \n",
    "// - the Millimeters struct\n",
    "// - when adding a Meters struct\n",
    "impl Add<Meters> for Millimeters {\n",
    "    // we want to return millimeters ...\n",
    "    type Output = Millimeters;\n",
    "\n",
    "    // when adding other(Meters) to self(Millimeters)\n",
    "    fn add(self, other: Meters) -> Millimeters {\n",
    "        // we return a new Millimeters struct\n",
    "        Millimeters(self.0 + (other.0 * 1000)) // 1 meter = 1000 millimeters\n",
    "    }\n",
    "}"
   ]
  },
  {
   "attachments": {},
   "cell_type": "markdown",
   "metadata": {},
   "source": [
    "> Listing 19-15: Implementing the Add trait on Millimeters to add Millimeters to  \n",
    "Meters\n",
    "\n",
    "To add `Millimeters` and `Meters`, we specify impl `Add<Meters>` to : \n",
    "\n",
    "- set the value of the `Rhs` type parameter  \n",
    "- instead of using the `default of Self`\n",
    "\n",
    "You’ll use default type parameters in two main ways:\n",
    "\n",
    "- To extend a type without breaking existing code\n",
    "- To allow customization in specific cases most users won’t need\n",
    "\n",
    "#### -- Rhs allows `Add` to handle different TYPES --\n",
    "\n",
    "The standard library’s `Add` trait is an example of the second purpose:  \n",
    "\n",
    "- usually, you’ll add two like types,  \n",
    "- but the `Add` trait provides the ability to customize beyond that.  \n",
    "\n",
    "Using a default type parameter in the `Add` trait definition means you don’t  \n",
    "have to specify the extra parameter most of the time. In other words, a bit of  \n",
    "implementation boilerplate isn’t needed, making it easier to use the trait.\n",
    "\n",
    "The first purpose is similar to the second but in reverse:  \n",
    "\n",
    "- if you want to add a type parameter to an existing trait,  \n",
    "- you can give it a default to allow extension of the functionality of the  \n",
    "trait without breaking the existing implementation code."
   ]
  },
  {
   "attachments": {},
   "cell_type": "markdown",
   "metadata": {},
   "source": [
    "### Fully Qualified Syntax for Disambiguation: Calling Methods with the Same Name\n",
    "\n",
    "Nothing in Rust prevents :  \n",
    "\n",
    "- a trait from having a method with the same name  \n",
    "- as another trait’s method,  \n",
    "- nor does Rust prevent you from implementing both traits on one type.  \n",
    "- It’s also possible to implement a method directly on the type with the same  \n",
    "name as methods from traits.\n",
    "\n",
    "When calling methods with the same name, you’ll need to tell Rust which one you  \n",
    "want to use. Consider the code in Listing 19-16 where we’ve :  \n",
    "\n",
    "- defined two traits, `Pilot` and `Wizard`,  \n",
    "- that both have a method called `fly`.  \n",
    "- We then implement both traits on a type `Human` that already has a method  \n",
    "named `fly` implemented on it.  \n",
    "\n",
    "Each `fly` method does something different.\n",
    "\n",
    "> Filename: src/main.rs"
   ]
  },
  {
   "cell_type": "code",
   "execution_count": 9,
   "metadata": {
    "vscode": {
     "languageId": "rust"
    }
   },
   "outputs": [],
   "source": [
    "trait Pilot {\n",
    "    fn fly(&self);\n",
    "}\n",
    "\n",
    "trait Wizard {\n",
    "    fn fly(&self);\n",
    "}\n",
    "\n",
    "struct Human;\n",
    "\n",
    "impl Pilot for Human {\n",
    "    // Pilot::fly() method\n",
    "    fn fly(&self) {\n",
    "        println!(\"This is your captain speaking.\");\n",
    "    }\n",
    "}\n",
    "\n",
    "impl Wizard for Human {\n",
    "    // Wizard::fly() method\n",
    "    fn fly(&self) {\n",
    "        println!(\"Up!\");\n",
    "    }\n",
    "}\n",
    "\n",
    "impl Human {\n",
    "    // Human::fly() method\n",
    "    fn fly(&self) {\n",
    "        println!(\"*waving arms furiously*\");\n",
    "    }\n",
    "}\n"
   ]
  },
  {
   "attachments": {},
   "cell_type": "markdown",
   "metadata": {},
   "source": [
    "> Listing 19-16: Two traits are defined to have a fly method and are implemented  \n",
    "on the Human type, and a fly method is implemented on Human directly\n",
    "\n",
    "#### -- Default Method is Human::fly() ... DIRECTLY impl on the TYPE --\n",
    "\n",
    "When we call `fly` on an instance of `Human` :  \n",
    "\n",
    "- the compiler defaults to calling the method that is directly implemented on  \n",
    "the type, as shown in Listing 19-17.\n",
    "\n",
    "> Filename: src/main.rs"
   ]
  },
  {
   "cell_type": "code",
   "execution_count": 12,
   "metadata": {
    "vscode": {
     "languageId": "rust"
    }
   },
   "outputs": [
    {
     "name": "stdout",
     "output_type": "stream",
     "text": [
      "*waving arms furiously*\n"
     ]
    },
    {
     "data": {
      "text/plain": [
       "()"
      ]
     },
     "execution_count": 12,
     "metadata": {},
     "output_type": "execute_result"
    }
   ],
   "source": [
    "{\n",
    "    let person = Human;\n",
    "    // Default is the direct IMPL method\n",
    "    person.fly();\n",
    "}"
   ]
  },
  {
   "attachments": {},
   "cell_type": "markdown",
   "metadata": {},
   "source": [
    "> Listing 19-17: Calling fly on an instance of Human\n",
    "\n",
    "#### -- We need to DisAMBIGUATE PATH to access other TRAITS --\n",
    "\n",
    "Running this code will print *waving arms furiously*, showing that Rust called  \n",
    "the `fly` method implemented on `Human` directly.\n",
    "\n",
    "To call the `fly` methods from either the `Pilot` trait or the `Wizard` trait,  \n",
    "we need to use more explicit syntax to specify which `fly` method we mean.  \n",
    "\n",
    "> Listing 19-18 demonstrates this syntax.\n",
    "\n",
    "> Filename: src/main.rs"
   ]
  },
  {
   "cell_type": "code",
   "execution_count": 11,
   "metadata": {
    "vscode": {
     "languageId": "rust"
    }
   },
   "outputs": [
    {
     "name": "stdout",
     "output_type": "stream",
     "text": [
      "This is your captain speaking.\n",
      "Up!\n",
      "*waving arms furiously*\n"
     ]
    },
    {
     "data": {
      "text/plain": [
       "()"
      ]
     },
     "execution_count": 11,
     "metadata": {},
     "output_type": "execute_result"
    }
   ],
   "source": [
    "{\n",
    "    let person = Human;\n",
    "    // Explicit disambiguation for Pilot::fly() method\n",
    "    Pilot::fly(&person);\n",
    "    // Explicit disambiguation for Wizard::fly() method\n",
    "    Wizard::fly(&person);\n",
    "    // Default is the direct IMPL method\n",
    "    person.fly();\n",
    "}"
   ]
  },
  {
   "attachments": {},
   "cell_type": "markdown",
   "metadata": {},
   "source": [
    "> Listing 19-18: Specifying which trait’s fly method we want to call\n",
    "\n",
    "<div style=\"width:480px\"><iframe allow=\"fullscreen\" frameBorder=\"0\" height=\"270\" src=\"https://giphy.com/embed/GGqYKkLq4qGEDmEBTa/video\" width=\"480\"></iframe></div>\n",
    "\n",
    "Specifying the trait name before the method name clarifies to Rust which  \n",
    "implementation of `fly` we want to call.  \n",
    "\n",
    "We could also write :  \n",
    "\n",
    "- `Human`::fly(&person), \n",
    "- which is equivalent to the `person.fly()` that we used in Listing 19-18, but this  \n",
    "is a bit longer to write if we don’t need to disambiguate.\n",
    "\n",
    "Running this code prints the following:\n",
    "\n",
    "```sh\n",
    "$ cargo run\n",
    "   Compiling traits-example v0.1.0 (file:///projects/traits-example)\n",
    "    Finished dev [unoptimized + debuginfo] target(s) in 0.46s\n",
    "     Running `target/debug/traits-example`\n",
    "This is your captain speaking.\n",
    "Up!\n",
    "*waving arms furiously*\n",
    "```\n",
    "\n",
    "#### -- fly(self) : the self let's Rust figure out which IMPL --\n",
    "\n",
    "Because the `fly` method takes a self parameter, if we had two types that both  \n",
    "implement one trait, Rust could figure out which implementation of a trait to  \n",
    "use based on the type of self.\n",
    "\n",
    "#### -- However Associated Functions are NOT METHODS and don't have a self --\n",
    "\n",
    "However, associated functions that are not methods don’t have a self parameter.  \n",
    "When there are multiple types or traits that define non-method functions with  \n",
    "the same function name, Rust doesn't always know which type you mean unless you  \n",
    "use fully qualified syntax.  \n",
    "\n",
    "For example, in Listing 19-19 we create a trait for an animal shelter that  \n",
    "wants to name all baby dogs 'Spot' :\n",
    "- We make an `Animal` trait with an associated non-method function `baby_name`.  \n",
    "- The `Animal` trait is implemented for the struct `Dog`, on which we also  \n",
    "provide an associated non-method function `baby_name` directly.\n",
    "\n",
    "> Filename: src/main.rs"
   ]
  },
  {
   "cell_type": "code",
   "execution_count": 2,
   "metadata": {
    "vscode": {
     "languageId": "rust"
    }
   },
   "outputs": [
    {
     "name": "stdout",
     "output_type": "stream",
     "text": [
      "A baby dog is called a Spot\n"
     ]
    },
    {
     "data": {
      "text/plain": [
       "()"
      ]
     },
     "execution_count": 2,
     "metadata": {},
     "output_type": "execute_result"
    }
   ],
   "source": [
    "trait Animal {\n",
    "    fn baby_name() -> String;\n",
    "}\n",
    "\n",
    "struct Dog {}\n",
    "\n",
    "impl Dog {\n",
    "    fn baby_name() -> String {\n",
    "        String::from(\"Spot\")\n",
    "    }\n",
    "}\n",
    "\n",
    "impl Animal for Dog {\n",
    "    fn baby_name() -> String {\n",
    "        String::from(\"puppy\")\n",
    "    }\n",
    "}\n",
    "\n",
    "{\n",
    "    println!(\"A baby dog is called a {}\", Dog::baby_name());\n",
    "}"
   ]
  },
  {
   "attachments": {},
   "cell_type": "markdown",
   "metadata": {},
   "source": [
    "> Listing 19-19: A trait with an associated function and a type with an  \n",
    "associated function of the same name that also implements the trait\n",
    "\n",
    "We implement the code for naming all puppies :  \n",
    "\n",
    "- Spot in the `baby_name` associated function that is defined on `Dog`. \n",
    "- The `Dog` type also implements the trait `Animal`, which describes  \n",
    "characteristics that all animals have.  \n",
    "- Baby dogs are called puppies, and that is expressed in the implementation of  \n",
    "the `Animal` trait on `Dog` in the `baby_name` function associated with the  \n",
    "`Animal` trait.\n",
    "\n",
    "#### -- Dog::baby_name() or Animal::baby_name() is INSUFFICIENT --\n",
    "\n",
    "In main, we call :  \n",
    "\n",
    "- the `Dog::baby_name` function,  \n",
    "- which calls the associated function defined on `Dog` directly.  \n",
    "\n",
    "This code prints the following:\n",
    "\n",
    "```sh\n",
    "$ cargo run\n",
    "   Compiling traits-example v0.1.0 (file:///projects/traits-example)\n",
    "    Finished dev [unoptimized + debuginfo] target(s) in 0.54s\n",
    "     Running `target/debug/traits-example`\n",
    "A baby dog is called a Spot\n",
    "```\n",
    "\n",
    "#### -- Because baby_name() is a FUNCTION not a METHOD with self access --\n",
    "\n",
    "This output isn’t what we wanted. We want to :  \n",
    "\n",
    "- call the `baby_name` function that is part of the `Animal` trait  \n",
    "- that we implemented on `Dog`  \n",
    "- so the code prints 'A baby dog is called a puppy'.  \n",
    "\n",
    "The technique of specifying the `trait` name that we used in Listing 19-18  \n",
    "doesn’t help here; if we change main to the code in Listing 19-20, we’ll get a  \n",
    "compilation error.\n",
    "\n",
    "> Filename: src/main.rs"
   ]
  },
  {
   "cell_type": "code",
   "execution_count": 3,
   "metadata": {
    "vscode": {
     "languageId": "rust"
    }
   },
   "outputs": [
    {
     "ename": "Error",
     "evalue": "cannot call associated function on trait without specifying the corresponding `impl` type",
     "output_type": "error",
     "traceback": [
      "\u001b[31m[E0790] Error:\u001b[0m cannot call associated function on trait without specifying the corresponding `impl` type",
      "   \u001b[38;5;246m╭\u001b[0m\u001b[38;5;246m─\u001b[0m\u001b[38;5;246m[\u001b[0mcommand_3:1:1\u001b[38;5;246m]\u001b[0m",
      "   \u001b[38;5;246m│\u001b[0m",
      " \u001b[38;5;246m2 │\u001b[0m \u001b[38;5;249m \u001b[0m\u001b[38;5;249m \u001b[0m\u001b[38;5;249m \u001b[0m\u001b[38;5;249m \u001b[0m\u001b[38;5;249mp\u001b[0m\u001b[38;5;249mr\u001b[0m\u001b[38;5;249mi\u001b[0m\u001b[38;5;249mn\u001b[0m\u001b[38;5;249mt\u001b[0m\u001b[38;5;249ml\u001b[0m\u001b[38;5;249mn\u001b[0m\u001b[38;5;249m!\u001b[0m\u001b[38;5;249m(\u001b[0m\u001b[38;5;249m\"\u001b[0m\u001b[38;5;249mA\u001b[0m\u001b[38;5;249m \u001b[0m\u001b[38;5;249mb\u001b[0m\u001b[38;5;249ma\u001b[0m\u001b[38;5;249mb\u001b[0m\u001b[38;5;249my\u001b[0m\u001b[38;5;249m \u001b[0m\u001b[38;5;249md\u001b[0m\u001b[38;5;249mo\u001b[0m\u001b[38;5;249mg\u001b[0m\u001b[38;5;249m \u001b[0m\u001b[38;5;249mi\u001b[0m\u001b[38;5;249ms\u001b[0m\u001b[38;5;249m \u001b[0m\u001b[38;5;249mc\u001b[0m\u001b[38;5;249ma\u001b[0m\u001b[38;5;249ml\u001b[0m\u001b[38;5;249ml\u001b[0m\u001b[38;5;249me\u001b[0m\u001b[38;5;249md\u001b[0m\u001b[38;5;249m \u001b[0m\u001b[38;5;249ma\u001b[0m\u001b[38;5;249m \u001b[0m\u001b[38;5;249m{\u001b[0m\u001b[38;5;249m}\u001b[0m\u001b[38;5;249m\"\u001b[0m\u001b[38;5;249m,\u001b[0m\u001b[38;5;249m \u001b[0m\u001b[38;5;54mA\u001b[0m\u001b[38;5;54mn\u001b[0m\u001b[38;5;54mi\u001b[0m\u001b[38;5;54mm\u001b[0m\u001b[38;5;54ma\u001b[0m\u001b[38;5;54ml\u001b[0m\u001b[38;5;54m:\u001b[0m\u001b[38;5;54m:\u001b[0m\u001b[38;5;54mb\u001b[0m\u001b[38;5;54ma\u001b[0m\u001b[38;5;54mb\u001b[0m\u001b[38;5;54my\u001b[0m\u001b[38;5;54m_\u001b[0m\u001b[38;5;54mn\u001b[0m\u001b[38;5;54ma\u001b[0m\u001b[38;5;54mm\u001b[0m\u001b[38;5;54me\u001b[0m\u001b[38;5;249m(\u001b[0m\u001b[38;5;249m)\u001b[0m\u001b[38;5;249m)\u001b[0m\u001b[38;5;249m;\u001b[0m",
      " \u001b[38;5;246m  ·\u001b[0m                                           \u001b[38;5;54m─\u001b[0m\u001b[38;5;54m─\u001b[0m\u001b[38;5;54m─\u001b[0m\u001b[38;5;54m─\u001b[0m\u001b[38;5;54m─\u001b[0m\u001b[38;5;54m─\u001b[0m\u001b[38;5;54m─\u001b[0m\u001b[38;5;54m─\u001b[0m\u001b[38;5;54m┬\u001b[0m\u001b[38;5;54m─\u001b[0m\u001b[38;5;54m─\u001b[0m\u001b[38;5;54m─\u001b[0m\u001b[38;5;54m─\u001b[0m\u001b[38;5;54m─\u001b[0m\u001b[38;5;54m─\u001b[0m\u001b[38;5;54m─\u001b[0m\u001b[38;5;54m─\u001b[0m  ",
      " \u001b[38;5;246m  ·\u001b[0m                                                   \u001b[38;5;54m╰\u001b[0m\u001b[38;5;54m─\u001b[0m\u001b[38;5;54m─\u001b[0m\u001b[38;5;54m─\u001b[0m\u001b[38;5;54m─\u001b[0m\u001b[38;5;54m─\u001b[0m\u001b[38;5;54m─\u001b[0m\u001b[38;5;54m─\u001b[0m\u001b[38;5;54m─\u001b[0m\u001b[38;5;54m─\u001b[0m\u001b[38;5;54m─\u001b[0m cannot call associated function of trait",
      "\u001b[38;5;246m───╯\u001b[0m"
     ]
    }
   ],
   "source": [
    "{\n",
    "    println!(\"A baby dog is called a {}\", Animal::baby_name());\n",
    "}"
   ]
  },
  {
   "attachments": {},
   "cell_type": "markdown",
   "metadata": {},
   "source": [
    "> Listing 19-20: Attempting to call the baby_name function from the Animal  \n",
    "trait, but Rust doesn’t know which implementation to use\n",
    "\n",
    "#### -- OTHER Types impl Animal trait adds MORE DISAMBIGUATION! --\n",
    "\n",
    "Because `Animal::baby_name` :  \n",
    "\n",
    "- doesn’t have a `self` parameter, and  \n",
    "- there could be other types that implement the `Animal` trait,  \n",
    "- Rust can’t figure out which implementation of `Animal::baby_name` we want.\n",
    "\n",
    "We’ll get this compiler error:\n",
    "\n",
    "```sh\n",
    "$ cargo run\n",
    "   Compiling traits-example v0.1.0 (file:///projects/traits-example)\n",
    "error[E0790]: cannot call associated function on trait without specifying the corresponding `impl` type\n",
    "  --> src/main.rs:20:43\n",
    "   |\n",
    "2  |     fn baby_name() -> String;\n",
    "   |     ------------------------- `Animal::baby_name` defined here\n",
    "...\n",
    "20 |     println!(\"A baby dog is called a {}\", Animal::baby_name());\n",
    "   |                                           ^^^^^^^^^^^^^^^^^ cannot call associated function of trait\n",
    "   |\n",
    "help: use the fully-qualified path to the only available implementation\n",
    "   |\n",
    "20 |     println!(\"A baby dog is called a {}\", <Dog as Animal>::baby_name());\n",
    "   |                                           +++++++       +\n",
    "\n",
    "For more information about this error, try `rustc --explain E0790`.\n",
    "error: could not compile `traits-example` due to previous error\n",
    "```\n",
    "\n",
    "To disambiguate and tell Rust that we want to :  \n",
    "\n",
    "- use the implementation of `Animal` for `Dog`  \n",
    "- as opposed to the implementation of `Animal` for some other type,  \n",
    "- we need to use fully qualified syntax.  \n",
    "\n",
    "> Listing 19-21 demonstrates how to use fully qualified syntax.\n",
    "\n",
    "> Filename: src/main.rs"
   ]
  },
  {
   "cell_type": "code",
   "execution_count": 4,
   "metadata": {
    "vscode": {
     "languageId": "rust"
    }
   },
   "outputs": [
    {
     "name": "stdout",
     "output_type": "stream",
     "text": [
      "A baby dog is called a puppy\n"
     ]
    },
    {
     "data": {
      "text/plain": [
       "()"
      ]
     },
     "execution_count": 4,
     "metadata": {},
     "output_type": "execute_result"
    }
   ],
   "source": [
    "{\n",
    "    println!(\"A baby dog is called a {}\", <Dog as Animal>::baby_name());\n",
    "}"
   ]
  },
  {
   "attachments": {},
   "cell_type": "markdown",
   "metadata": {},
   "source": [
    "> Listing 19-21: Using fully qualified syntax to specify that we want to call  \n",
    "the baby_name function from the Animal trait as implemented on Dog\n",
    "\n",
    "#### -- Fully Qualified Syntax : `<Dog as Animal>::baby_name()` --\n",
    "\n",
    "We’re providing Rust with a type annotation within the angle brackets, which  \n",
    "indicates :  \n",
    "\n",
    "- we want to call the `baby_name` method from the `Animal` trait  \n",
    "- `as` implemented on `Dog`  \n",
    "- by saying that we want to treat the `Dog` type `as` an `Animal` for this function call.  \n",
    "\n",
    "This code will now print what we want:\n",
    "\n",
    "```sh\n",
    "$ cargo run\n",
    "   Compiling traits-example v0.1.0 (file:///projects/traits-example)\n",
    "    Finished dev [unoptimized + debuginfo] target(s) in 0.48s\n",
    "     Running `target/debug/traits-example`\n",
    "A baby dog is called a puppy\n",
    "```\n",
    "\n",
    "In general, fully qualified syntax is defined as follows:\n",
    "\n",
    "- `<Type as Trait>`::function(receiver_if_method, next_arg, ...);\n",
    "\n",
    "For associated functions that aren’t methods, there would not be a receiver:  \n",
    "there would only be the list of other arguments. You could use fully qualified  \n",
    "syntax everywhere that you : \n",
    "\n",
    "- call functions or methods.  \n",
    "- However, you’re allowed to omit any part of this syntax that Rust can figure out from other information in the program.  \n",
    "\n",
    "You only need to use this more verbose syntax in cases where : \n",
    "\n",
    "- there are multiple implementations that use the same name  \n",
    "- and Rust needs help to identify which implementation you want to call."
   ]
  },
  {
   "attachments": {},
   "cell_type": "markdown",
   "metadata": {},
   "source": [
    "### Using Supertraits to Require One Trait's Functionality Within Another Trait\n",
    "\n",
    "Sometimes, you might write a trait definition that depends on another trait:  \n",
    "\n",
    "- for a type to implement the first trait,  \n",
    "- you want to require that type to also implement the second trait.  \n",
    "\n",
    "You would do this so that your trait definition can make use of the associated  \n",
    "items of the second trait. The trait your trait definition is relying on is  \n",
    "called a supertrait of your trait.\n",
    "\n",
    "For example, let’s say we want to make an :  \n",
    "\n",
    "- `OutlinePrint` trait with an `outline_print` method  \n",
    "- that will print a given value formatted so that it's framed in asterisks.  \n",
    "\n",
    "That is :  \n",
    "\n",
    "- given a `Point` struct  \n",
    "- that implements the standard library trait `Display` to result in (x, y),  \n",
    "- when we call `outline_print` on a Point instance  \n",
    "- that has '1 for x' and '3 for y', it should print the following:\n",
    "\n",
    "```sh\n",
    "**********\n",
    "*        *\n",
    "* (1, 3) *\n",
    "*        *\n",
    "**********\n",
    "```\n",
    "\n",
    "In the implementation of the `outline_print` method, we want to use the   `Display` trait’s functionality. \n",
    "\n",
    "Therefore, we need to specify that :  \n",
    "\n",
    "- the `OutlinePrint` trait will work only for types  \n",
    "- that also implement `Display` and  \n",
    "- provide the functionality that `OutlinePrint` needs.  \n",
    "\n",
    "We can do that in the trait definition by :  \n",
    "- specifying `OutlinePrint: Display`.  \n",
    "\n",
    "This technique is similar to adding a trait bound to the trait.  \n",
    "\n",
    "> Listing 19-22 shows an implementation of the OutlinePrint trait.\n",
    "\n",
    "> Filename: src/main.rs"
   ]
  },
  {
   "cell_type": "code",
   "execution_count": 4,
   "metadata": {
    "vscode": {
     "languageId": "rust"
    }
   },
   "outputs": [],
   "source": [
    "use std::fmt;\n",
    "\n",
    "trait OutlinePrint: fmt::Display {\n",
    "    fn outline_print(&self) {\n",
    "        let output = self.to_string();\n",
    "        let len = output.len();\n",
    "\n",
    "        // what if we capture the var and do no calc? ... NOPE LOL\n",
    "        let outer = \"*\".repeat(len + 4);\n",
    "        let inner = \" \".repeat(len + 2);\n",
    "\n",
    "        // @audit - figure out how to print serialized NOT randomized\n",
    "        let mut lines = Vec::new();\n",
    "\n",
    "        lines.push(format!(\"{}\", outer));\n",
    "        lines.push(format!(\"*{}*\", inner));\n",
    "        lines.push(format!(\"* {} *\", output));\n",
    "        lines.push(format!(\"*{}*\", inner));\n",
    "        lines.push(format!(\"{}\", outer));\n",
    "\n",
    "        // print all lines at once\n",
    "        let results = lines.join(\"\\n\");\n",
    "        println!(\"{}\", results);\n",
    "    }\n",
    "}"
   ]
  },
  {
   "attachments": {},
   "cell_type": "markdown",
   "metadata": {},
   "source": [
    "> Listing 19-22: Implementing the OutlinePrint trait that requires the \n",
    "functionality from Display\n",
    "\n",
    "#### -- OutlinePrint: fmt::Display -> OutlinePrint req Display trait --\n",
    "\n",
    "Because we’ve specified that :  \n",
    "\n",
    "- `OutlinePrint` requires the `Display` trait,  \n",
    "- we can use the to_string function that is automatically implemented for any  \n",
    "type that implements `Display`.  \n",
    "\n",
    "If we tried to use to_string without adding a colon and specifying the `Display`  \n",
    "trait after the trait name, we’d get an error saying that no method named  \n",
    "`to_string was found for the type &Self in the current scope.\n",
    "\n",
    "Let’s see what happens when we try to implement `OutlinePrint` on a type that  \n",
    "doesn’t implement `Display`, such as the Point struct:\n",
    "\n",
    "> Filename: src/main.rs"
   ]
  },
  {
   "cell_type": "code",
   "execution_count": 13,
   "metadata": {
    "vscode": {
     "languageId": "rust"
    }
   },
   "outputs": [],
   "source": [
    "struct Point {\n",
    "    x: i32,\n",
    "    y: i32,\n",
    "}\n",
    "\n",
    "// impl OutlinePrint for Point {}"
   ]
  },
  {
   "attachments": {},
   "cell_type": "markdown",
   "metadata": {},
   "source": [
    "#### -- impl OutlinePrint for Point reqs impl Display Too --\n",
    "\n",
    "We get an error saying that `Display` is required but not implemented:\n",
    "\n",
    "```sh\n",
    "$ cargo run\n",
    "   Compiling traits-example v0.1.0 (file:///projects/traits-example)\n",
    "error[E0277]: `Point` doesn't implement `std::fmt::Display`\n",
    "  --> src/main.rs:20:6\n",
    "   |\n",
    "20 | impl OutlinePrint for Point {}\n",
    "   |      ^^^^^^^^^^^^ `Point` cannot be formatted with the default formatter\n",
    "   |\n",
    "   = help: the trait `std::fmt::Display` is not implemented for `Point`\n",
    "   = note: in format strings you may be able to use `{:?}` (or {:#?} for pretty-print) instead\n",
    "note: required by a bound in `OutlinePrint`\n",
    "  --> src/main.rs:3:21\n",
    "   |\n",
    "3  | trait OutlinePrint: fmt::Display {\n",
    "   |                     ^^^^^^^^^^^^ required by this bound in `OutlinePrint`\n",
    "\n",
    "For more information about this error, try `rustc --explain E0277`.\n",
    "error: could not compile `traits-example` due to previous error\n",
    "```\n",
    "\n",
    "To fix this, we implement `Display` on `Point` and satisfy the constraint that  \n",
    "`OutlinePrint` requires, like so:\n",
    "\n",
    "> Filename: src/main.rs"
   ]
  },
  {
   "cell_type": "code",
   "execution_count": 6,
   "metadata": {
    "vscode": {
     "languageId": "rust"
    }
   },
   "outputs": [],
   "source": [
    "use std::fmt;\n",
    "\n",
    "impl fmt::Display for Point {\n",
    "    fn fmt(&self, f: &mut fmt::Formatter) -> fmt::Result {\n",
    "        write!(f, \"({}, {})\", self.x, self.y)\n",
    "    }\n",
    "}\n",
    "    \n",
    "// @audit - running twice causes error - why?\n",
    "impl OutlinePrint for Point {}"
   ]
  },
  {
   "cell_type": "code",
   "execution_count": 12,
   "metadata": {
    "vscode": {
     "languageId": "rust"
    }
   },
   "outputs": [
    {
     "name": "stdout",
     "output_type": "stream",
     "text": [
      "*****************\n",
      "*               *\n",
      "* (19999, 8888) *\n",
      "*               *\n",
      "*****************\n"
     ]
    },
    {
     "data": {
      "text/plain": [
       "()"
      ]
     },
     "execution_count": 12,
     "metadata": {},
     "output_type": "execute_result"
    }
   ],
   "source": [
    "{\n",
    "    let p = Point { x: 19999, y: 8888 };\n",
    "    p.outline_print();\n",
    "}"
   ]
  },
  {
   "attachments": {},
   "cell_type": "markdown",
   "metadata": {},
   "source": [
    "#### -- Compiles when both Super Trait and sub Trait are Impl --\n",
    "\n",
    "Then implementing the `OutlinePrint` trait on `Point` will compile successfully,  \n",
    "and we can call `outline_print` on a `Point` instance to display it within an   \n",
    "outline of asterisks."
   ]
  },
  {
   "attachments": {},
   "cell_type": "markdown",
   "metadata": {},
   "source": [
    "### Using the NewType Pattern to Implement External Traits on External Types\n",
    "\n",
    "In Chapter 10 in the “Implementing a Trait on a Type” section, we mentioned the  \n",
    "`orphan rule` that states :  \n",
    "\n",
    "- we’re only allowed to implement a trait on a type  \n",
    "- if either the trait or the type are local to our crate.  \n",
    "\n",
    "#### -- NewType Pattern allows bypassing `Orphan Rule` --\n",
    "\n",
    "It’s possible to get around this restriction using the `newtype` pattern, which involves creating a new type in a `tuple struct`.  \n",
    "\n",
    "> (We covered tuple structs in the “Using Tuple Structs without Named Fields to  \n",
    "Create Different Types” section of Chapter 5.)  \n",
    "\n",
    "#### -- By wrapping the Type in a Tuple Struct --\n",
    "\n",
    "The `tuple struct` will :  \n",
    "\n",
    "- have `one field` and be a  \n",
    "- thin wrapper around the type we want to implement a trait for.  \n",
    "- Then the wrapper type is local to our crate,  \n",
    "- and we can implement the trait on the wrapper.  \n",
    "\n",
    "Newtype is a term that originates from the Haskell programming language.  \n",
    "\n",
    "- There is no runtime performance penalty for using this pattern,  \n",
    "- and the wrapper type is elided at compile time.\n",
    "\n",
    "#### -- And impl a trait on the Wrapper Struct --\n",
    "\n",
    "As an example, let’s say we want to implement `Display` on `Vec<T>` :  \n",
    "\n",
    "- which the `orphan rule` prevents us from doing directly  \n",
    "- because the `Display` trait and the `Vec<T>` type are defined outside our   \n",
    "crate.  \n",
    "\n",
    "We can make a `Wrapper` struct that :  \n",
    "\n",
    "- holds an instance of `Vec<T>`;  \n",
    "- then we can implement `Display` on `Wrapper`  \n",
    "- and use the `Vec<T>` value,  \n",
    "\n",
    "> as shown in Listing 19-23.\n",
    "\n",
    "> Filename: src/main.rs"
   ]
  },
  {
   "cell_type": "code",
   "execution_count": 15,
   "metadata": {
    "vscode": {
     "languageId": "rust"
    }
   },
   "outputs": [
    {
     "name": "stdout",
     "output_type": "stream",
     "text": [
      "w = Wrapped Print [hello, world]\n"
     ]
    },
    {
     "data": {
      "text/plain": [
       "()"
      ]
     },
     "execution_count": 15,
     "metadata": {},
     "output_type": "execute_result"
    }
   ],
   "source": [
    "// fmt module contains traits that control how objects are formatted including:\n",
    "// - Display which is used with {} in println! macro\n",
    "// - Debug which is used with {:?} in println! macro\n",
    "use std::fmt;\n",
    "\n",
    "// defines a new Wrapper with one UNNAMED field :\n",
    "// - Vec<String> which is a vector of strings\n",
    "struct Wrapper(Vec<String>);\n",
    "\n",
    "// implements the Display trait for Wrapper\n",
    "// ... similar how toString() is implemented in other languages\n",
    "impl fmt::Display for Wrapper {\n",
    "    fn fmt(&self, f: &mut fmt::Formatter) -> fmt::Result {\n",
    "        // self.0 refers to the first and ONLY field of the Wrapper struct\n",
    "        // ... which is a vector of strings\n",
    "        // - join() creates a single string from the vector of strings,\n",
    "        // with each element separated by a comma\n",
    "        write!(f, \"Wrapped Print [{}]\", self.0.join(\", \"))\n",
    "    }\n",
    "}\n",
    "\n",
    "{\n",
    "    let w = Wrapper(vec![String::from(\"hello\"), String::from(\"world\")]);\n",
    "    println!(\"w = {}\", w);\n",
    "}\n"
   ]
  },
  {
   "attachments": {},
   "cell_type": "markdown",
   "metadata": {},
   "source": [
    "> Listing 19-23: Creating a Wrapper type around Vec<String> to implement Display\n",
    "\n",
    "The implementation of `Display` :  \n",
    "\n",
    "- uses `self.0` to access the inner `Vec<T>`,  \n",
    "- because `Wrapper` is a `tuple struct` and  \n",
    "- `Vec<T>` is the item at `index 0` in the `tuple`  \n",
    "- Then we can use the functionality of the `Display` type on `Wrapper``\n",
    "\n",
    "#### -- Downside is Wrapper is a NEW Type, NO method access to it's values --\n",
    "\n",
    "The downside of using this technique is that :  \n",
    "\n",
    "- `Wrapper` is a new type,  \n",
    "- so it doesn’t have the `methods` of the value it’s holding.  \n",
    "- We would have to implement all the methods of `Vec<T>` directly on `Wrapper`  \n",
    "- such that the methods delegate to `self.0`,  \n",
    "- which would allow us to treat `Wrapper` exactly like a `Vec<T>` \n",
    "\n",
    "#### -- impl Deref will give us access to ALL of values methods --\n",
    "\n",
    "If we wanted the new type to have every method the inner type has, implementing  \n",
    "the `Deref` trait  \n",
    "\n",
    "> (discussed in Chapter 15 in the “Treating Smart Pointers Like Regular  \n",
    "References with the Deref Trait” section)  \n",
    "\n",
    "on the `Wrapper` to return the inner type would be a solution. If we don’t want  \n",
    "the `Wrapper` type to have all the methods of the inner type—for example, to  \n",
    "restrict the Wrapper type’s behavior—we would have to implement just the  \n",
    "methods we do want manually.\n",
    "\n",
    "#### -- else manually impl each method if we want to be SELECTIVE --\n",
    "\n",
    "This newtype pattern is also useful even when traits are not involved. Let’s  \n",
    "switch focus and look at some advanced ways to interact with Rust’s type system."
   ]
  },
  {
   "attachments": {},
   "cell_type": "markdown",
   "metadata": {},
   "source": [
    "Advanced Type\n",
    "---\n",
    "\n",
    "The Rust type system has some features that we’ve so far mentioned but haven’t  \n",
    "yet discussed. We’ll start by discussing newtypes in general as we examine why  \n",
    "newtypes are useful as types. Then we’ll move on to type aliases, a feature  \n",
    "similar to newtypes but with slightly different semantics. We’ll also discuss  \n",
    "the ! type and dynamically sized types."
   ]
  },
  {
   "attachments": {},
   "cell_type": "markdown",
   "metadata": {},
   "source": [
    "### Using the Newtype Pattern for Type Safety and Abstraction\n",
    "\n",
    "> Note: This section assumes you’ve read the earlier section “Using the Newtype  \n",
    "Pattern to Implement External Traits on External Types.”\n",
    "\n",
    "#### -- NewType Pattern can statically enforce units of values mm v m --\n",
    "\n",
    "The `newtype` pattern is also useful for tasks beyond those we’ve discussed so  \n",
    "far, including :  \n",
    "\n",
    "- statically enforcing that values are never confused and  \n",
    "- indicating the units of a value.  \n",
    "\n",
    "You saw an example of using newtypes to indicate units in Listing 19-15: recall that the `Millimeters` and `Meters` structs wrapped `u32` values in a newtype.  \n",
    "If we wrote a function with a parameter of type `Millimeters`, we couldn’t  \n",
    "compile a program that accidentally tried to call that function with a value of  \n",
    "type `Meters` or a plain `u32`.\n",
    "\n",
    "#### -- NewType pattern is a lightweight way to encapsulate --\n",
    "\n",
    "We can also use the newtype pattern to abstract away some implementation  \n",
    "details of a type:  \n",
    "\n",
    "- the new type can expose a `public` API  \n",
    "- that is different from the API of the `private inner` type.\n",
    "\n",
    "Newtypes can also hide internal implementation. For example :  \n",
    "\n",
    "- we could provide a `People` type to wrap a `HashMap<i32, String>`  \n",
    "- that stores a person’s `ID` associated with their name.  \n",
    "\n",
    "Code using `People` would only interact with the public API we provide, such as:  \n",
    "\n",
    " - a method to add a name string to the `People` collection;  \n",
    " - that code wouldn’t need to know that we assign an i32 ID to names internally.  \n",
    " \n",
    "The newtype pattern is a lightweight way to achieve encapsulation to hide  \n",
    "implementation details, which we discussed in the “Encapsulation that Hides  \n",
    "Implementation Details” section of Chapter 17."
   ]
  },
  {
   "attachments": {},
   "cell_type": "markdown",
   "metadata": {},
   "source": [
    "### Creating Type Synonyms with Type Aliases\n",
    "\n",
    "Rust provides the ability to declare a type `alias` to give an existing type  \n",
    "another name. For this we use the `type` keyword. For example, we can create the  \n",
    "alias `Kilometers` to `i32` like so:"
   ]
  },
  {
   "cell_type": "code",
   "execution_count": 28,
   "metadata": {
    "vscode": {
     "languageId": "rust"
    }
   },
   "outputs": [],
   "source": [
    "type Kilometers = i32;"
   ]
  },
  {
   "attachments": {},
   "cell_type": "markdown",
   "metadata": {},
   "source": [
    "#### -- alias is NOT a seperate NEW type --\n",
    "\n",
    "Now, the alias `Kilometers` is a synonym for i32;  \n",
    "\n",
    "- unlike the `Millimeters` and `Meters` types we created in Listing 19-15,  \n",
    "- `Kilometers` is not a separate, new type.  \n",
    "- Values that have the type `Kilometers` will be treated the same as values  \n",
    "of type `i32`:\n"
   ]
  },
  {
   "cell_type": "code",
   "execution_count": 29,
   "metadata": {
    "vscode": {
     "languageId": "rust"
    }
   },
   "outputs": [
    {
     "name": "stdout",
     "output_type": "stream",
     "text": [
      "x + y = 10\n"
     ]
    }
   ],
   "source": [
    "type Kilometers = i32;\n",
    "\n",
    "let x: i32 = 5;\n",
    "let y: Kilometers = 5;\n",
    "\n",
    "println!(\"x + y = {}\", x + y);"
   ]
  },
  {
   "attachments": {},
   "cell_type": "markdown",
   "metadata": {},
   "source": [
    "#### -- Aliased values can be used INTERCHANGEABLY --\n",
    "\n",
    "Because `Kilometers` and `i32` are the same type, we can :  \n",
    "\n",
    "- `add` values of both types and  \n",
    "- we can pass `Kilometers` values to functions that take `i32` parameters.  \n",
    "\n",
    "However, using this method :  \n",
    "\n",
    "- we don’t get the type checking benefits that we get from the newtype pattern  \n",
    "discussed earlier.  \n",
    "\n",
    "In other words, if we mix up `Kilometers` and `i32` values somewhere, the   \n",
    "compiler will not give us an error.\n",
    "\n",
    "#### -- Alias synonyms are mainly used to REDUCE repetition --\n",
    "\n",
    "<iframe src=\"https://giphy.com/embed/pyeJwcqwt3EFW\" width=\"480\" height=\"336\" frameBorder=\"0\" class=\"giphy-embed\" allowFullScreen></iframe><p><a href=\"https://giphy.com/gifs/adweek-pointing-adweek-pyeJwcqwt3EFW\">via GIPHY</a></p>\n",
    "\n",
    "The main use case for type synonyms is to reduce repetition. For example, we  \n",
    "might have a lengthy type like this:\n",
    "\n",
    "```rust\n",
    "Box<dyn Fn() + Send + 'static>\n",
    "```\n",
    "\n",
    "Writing this lengthy type in function signatures and as type annotations all  \n",
    "over the code can be tiresome and error prone. Imagine having a project full of  \n",
    "code like that in Listing 19-24."
   ]
  },
  {
   "cell_type": "code",
   "execution_count": 35,
   "metadata": {
    "vscode": {
     "languageId": "rust"
    }
   },
   "outputs": [],
   "source": [
    "let f: Box<dyn Fn() + Send + 'static> = Box::new(|| println!(\"hi\"));\n",
    "\n",
    "fn takes_long_type(f: Box<dyn Fn() + Send + 'static>) {\n",
    "    // --snip--\n",
    "}\n",
    "\n",
    "fn returns_long_type() -> Box<dyn Fn() + Send + 'static> {\n",
    "    // --snip--\n",
    "    Box::new(|| println!(\"hi\"))\n",
    "}"
   ]
  },
  {
   "attachments": {},
   "cell_type": "markdown",
   "metadata": {},
   "source": [
    "> Listing 19-24: Using a long type in many places\n",
    "\n",
    "#### -- alias reduces long type annotations => THUNK for repeated usage --\n",
    "\n",
    "A type `alias` makes this code more manageable by reducing the repetition.  \n",
    "\n",
    "In Listing 19-25, we’ve introduced an alias named Thunk for the verbose type  \n",
    "and can replace all uses of the type with the shorter alias Thunk."
   ]
  },
  {
   "cell_type": "code",
   "execution_count": 39,
   "metadata": {
    "vscode": {
     "languageId": "rust"
    }
   },
   "outputs": [],
   "source": [
    "// defining a type alias named Thunk that refers to a : \n",
    "// - boxed (heap allocated) \n",
    "// - dyn (dynamic) closure \n",
    "//   - that takes no arguments (Fn())\n",
    "//    - and returns nothing\n",
    "// The Send trait bound indicates the closure can be sent between threads\n",
    "// The 'static lifetime means it can NOT contain ANY stack references\n",
    "// - non-static are only valid for the lifetime of the stack frame\n",
    "// - so no stack allocated references are  allowed\n",
    "type Thunk = Box<dyn Fn() + Send + 'static>;\n",
    "\n",
    "// Thunk as a type alias is useful for reducing repetition of long and complex\n",
    "// type signatures\n",
    "// - it also signals that takes_long_type and returns_long_type are deailing\n",
    "// with the SAME EXACT TYPE\n",
    "fn takes_long_type(f: Thunk) {\n",
    "    // --snip--\n",
    "}\n",
    "\n",
    "fn returns_long_type() -> Thunk {\n",
    "    // --snip--\n",
    "    // a new `result` Thunk is created on the heap that :\n",
    "    // - boxed and non-static (heap allocated)\n",
    "    // - contains no arguments\n",
    "    // - returns nothing\n",
    "    let result: Thunk = Box::new(|| println!(\"hi\"));\n",
    "    result\n",
    "}"
   ]
  },
  {
   "attachments": {},
   "cell_type": "markdown",
   "metadata": {},
   "source": [
    "> Listing 19-25: Introducing a type alias Thunk to reduce repetition\n",
    "\n",
    "This code is much easier to read and write!  \n",
    "\n",
    "- Choosing a meaningful name for a type alias can help communicate your intent  \n",
    "as well  \n",
    "- `thunk` is a word for code to be evaluated at a later time, so it’s an  \n",
    "appropriate name for a closure that gets stored\n",
    "\n",
    "#### -- Type Aliases useful for `Result<T, E>` --\n",
    "\n",
    "Type aliases are also commonly used with the `Result<T, E>` type for reducing  \n",
    "repetition. Consider the `std::io` module in the standard library.  \n",
    "\n",
    "- I/O operations often return a `Result<T, E>` to handle situations when  \n",
    "operations fail to work.  \n",
    "\n",
    "This library has a `std::io::Error` struct that represents all possible I/O  \n",
    "errors. Many of the functions in `std::io` will be returning `Result<T, E>`  \n",
    "where the `E` is `std::io::Error`, such as these functions in the `Write` trait:"
   ]
  },
  {
   "cell_type": "code",
   "execution_count": 42,
   "metadata": {
    "vscode": {
     "languageId": "rust"
    }
   },
   "outputs": [],
   "source": [
    "use std::fmt;\n",
    "use std::io::Error;\n",
    "\n",
    "pub trait Write {\n",
    "    fn write(&mut self, buf: &[u8]) -> Result<usize, Error>;\n",
    "    fn flush(&mut self) -> Result<(), Error>;\n",
    "\n",
    "    fn write_all(&mut self, buf: &[u8]) -> Result<(), Error>;\n",
    "    fn write_fmt(&mut self, fmt: fmt::Arguments) -> Result<(), Error>;\n",
    "}"
   ]
  },
  {
   "attachments": {},
   "cell_type": "markdown",
   "metadata": {},
   "source": [
    "The `Result<..., Error>` is repeated a lot. As such, `std::io` has this type  \n",
    "alias declaration:\n",
    "\n",
    "```rust\n",
    "type Result<T> = std::result::Result<T, std::io::Error>;\n",
    "```\n",
    "\n",
    "#### -- Example Write trait using Result Alias --\n",
    "\n",
    "Because this declaration is in the `std::io` module : \n",
    "\n",
    "- we can use the fully qualified alias `std::io::Result<T>`;  \n",
    "- that is, a `Result<T, E>` with the `E` filled in as `std::io::Error`.  \n",
    "\n",
    "The `Write` trait function signatures end up looking like this:"
   ]
  },
  {
   "cell_type": "code",
   "execution_count": 49,
   "metadata": {
    "vscode": {
     "languageId": "rust"
    }
   },
   "outputs": [],
   "source": [
    "type Result<T> = std::result::Result<T, std::io::Error>;\n",
    "\n",
    "pub trait Write {\n",
    "    fn write(&mut self, buf: &[u8]) -> Result<usize>;\n",
    "    fn flush(&mut self) -> Result<()>;\n",
    "\n",
    "    fn write_all(&mut self, buf: &[u8]) -> Result<()>;\n",
    "    fn write_fmt(&mut self, fmt: fmt::Arguments) -> Result<()>;\n",
    "}"
   ]
  },
  {
   "attachments": {},
   "cell_type": "markdown",
   "metadata": {},
   "source": [
    "#### -- Alias : Easier to write and consistent interface --\n",
    "\n",
    "The type alias helps in two ways:  \n",
    "\n",
    "- it makes code easier to write  \n",
    "- and it gives us a consistent interface across all of `std::io`.  \n",
    "\n",
    "Because it’s an alias, it’s just another `Result<T, E>`, which means we can use  \n",
    "any methods that work on `Result<T, E>` with it, as well as special syntax like  \n",
    "the `?` operator."
   ]
  },
  {
   "attachments": {},
   "cell_type": "markdown",
   "metadata": {},
   "source": [
    "### The Never Type that Never Returns\n",
    "\n",
    "Rust has a special type named `!` that’s known in type theory lingo as :  \n",
    "\n",
    "- the `empty type` because it has no values.  \n",
    "\n",
    "We prefer to call it the `never` type because it stands in the place of the  \n",
    "`return` type when a function will never return. \n",
    " \n",
    "Here is an example:"
   ]
  },
  {
   "cell_type": "code",
   "execution_count": 26,
   "metadata": {
    "vscode": {
     "languageId": "rust"
    }
   },
   "outputs": [
    {
     "ename": "Error",
     "evalue": "mismatched types",
     "output_type": "error",
     "traceback": [
      "\u001b[31m[E0308] Error:\u001b[0m mismatched types",
      "   \u001b[38;5;246m╭\u001b[0m\u001b[38;5;246m─\u001b[0m\u001b[38;5;246m[\u001b[0mcommand_26:1:1\u001b[38;5;246m]\u001b[0m",
      "   \u001b[38;5;246m│\u001b[0m",
      " \u001b[38;5;246m1 │\u001b[0m \u001b[38;5;249mf\u001b[0m\u001b[38;5;249mn\u001b[0m\u001b[38;5;249m \u001b[0m\u001b[38;5;100mb\u001b[0m\u001b[38;5;100ma\u001b[0m\u001b[38;5;100mr\u001b[0m\u001b[38;5;249m(\u001b[0m\u001b[38;5;249m)\u001b[0m\u001b[38;5;249m \u001b[0m\u001b[38;5;249m-\u001b[0m\u001b[38;5;249m>\u001b[0m\u001b[38;5;249m \u001b[0m\u001b[38;5;54m!\u001b[0m\u001b[38;5;249m \u001b[0m\u001b[38;5;249m{\u001b[0m",
      " \u001b[38;5;246m  ·\u001b[0m    \u001b[38;5;100m─\u001b[0m\u001b[38;5;100m┬\u001b[0m\u001b[38;5;100m─\u001b[0m      \u001b[38;5;54m┬\u001b[0m  ",
      " \u001b[38;5;246m  ·\u001b[0m     \u001b[38;5;100m╰\u001b[0m\u001b[38;5;100m─\u001b[0m\u001b[38;5;100m─\u001b[0m\u001b[38;5;100m─\u001b[0m\u001b[38;5;100m─\u001b[0m\u001b[38;5;100m─\u001b[0m\u001b[38;5;100m─\u001b[0m\u001b[38;5;100m─\u001b[0m\u001b[38;5;100m─\u001b[0m\u001b[38;5;100m─\u001b[0m\u001b[38;5;100m─\u001b[0m implicitly returns `()` as its body has no tail or `return` expression",
      " \u001b[38;5;246m  ·\u001b[0m             \u001b[38;5;54m│\u001b[0m  ",
      " \u001b[38;5;246m  ·\u001b[0m             \u001b[38;5;54m╰\u001b[0m\u001b[38;5;54m─\u001b[0m\u001b[38;5;54m─\u001b[0m expected `!`, found `()`",
      "\u001b[38;5;246m───╯\u001b[0m"
     ]
    }
   ],
   "source": [
    "fn bar() -> ! {\n",
    "    // --snip--\n",
    "}"
   ]
  },
  {
   "attachments": {},
   "cell_type": "markdown",
   "metadata": {},
   "source": [
    "#### -- Diverging Functions -> ! --\n",
    "\n",
    "This code is read as “the function bar returns never.” Functions that return  \n",
    "never are called `diverging functions`. We can’t create values of the type `!`  \n",
    "so bar can never possibly return.\n",
    "\n",
    "But what use is a type you can never create values for? Recall the code from  \n",
    "Listing 2-5, part of the number guessing game; we’ve reproduced a bit of it  \n",
    "here in Listing 19-26."
   ]
  },
  {
   "cell_type": "code",
   "execution_count": 57,
   "metadata": {
    "vscode": {
     "languageId": "rust"
    }
   },
   "outputs": [
    {
     "ename": "Error",
     "evalue": "`continue` outside of a loop",
     "output_type": "error",
     "traceback": [
      "\u001b[31m[E0268] Error:\u001b[0m `continue` outside of a loop",
      "   \u001b[38;5;246m╭\u001b[0m\u001b[38;5;246m─\u001b[0m\u001b[38;5;246m[\u001b[0mcommand_57:1:1\u001b[38;5;246m]\u001b[0m",
      "   \u001b[38;5;246m│\u001b[0m",
      " \u001b[38;5;246m5 │\u001b[0m \u001b[38;5;249m \u001b[0m\u001b[38;5;249m \u001b[0m\u001b[38;5;249m \u001b[0m\u001b[38;5;249m \u001b[0m\u001b[38;5;249mE\u001b[0m\u001b[38;5;249mr\u001b[0m\u001b[38;5;249mr\u001b[0m\u001b[38;5;249m(\u001b[0m\u001b[38;5;249m_\u001b[0m\u001b[38;5;249m)\u001b[0m\u001b[38;5;249m \u001b[0m\u001b[38;5;249m=\u001b[0m\u001b[38;5;249m>\u001b[0m\u001b[38;5;249m \u001b[0m\u001b[38;5;54mc\u001b[0m\u001b[38;5;54mo\u001b[0m\u001b[38;5;54mn\u001b[0m\u001b[38;5;54mt\u001b[0m\u001b[38;5;54mi\u001b[0m\u001b[38;5;54mn\u001b[0m\u001b[38;5;54mu\u001b[0m\u001b[38;5;54me\u001b[0m\u001b[38;5;249m,\u001b[0m",
      " \u001b[38;5;246m  ·\u001b[0m               \u001b[38;5;54m─\u001b[0m\u001b[38;5;54m─\u001b[0m\u001b[38;5;54m─\u001b[0m\u001b[38;5;54m─\u001b[0m\u001b[38;5;54m┬\u001b[0m\u001b[38;5;54m─\u001b[0m\u001b[38;5;54m─\u001b[0m\u001b[38;5;54m─\u001b[0m  ",
      " \u001b[38;5;246m  ·\u001b[0m                   \u001b[38;5;54m╰\u001b[0m\u001b[38;5;54m─\u001b[0m\u001b[38;5;54m─\u001b[0m\u001b[38;5;54m─\u001b[0m\u001b[38;5;54m─\u001b[0m\u001b[38;5;54m─\u001b[0m cannot `continue` outside of a loop",
      "\u001b[38;5;246m───╯\u001b[0m"
     ]
    }
   ],
   "source": [
    "let guess = String::from(\"3\");\n",
    "\n",
    "let guess: u32 = match guess.trim().parse() {\n",
    "    Ok(num) => num,\n",
    "    Err(_) => continue,\n",
    "};"
   ]
  },
  {
   "attachments": {},
   "cell_type": "markdown",
   "metadata": {},
   "source": [
    "> Listing 19-26: A match with an arm that ends in continue\n",
    "\n",
    "#### -- Review : Match Arms MUST each return the SAME type --\n",
    "\n",
    "At the time, we skipped over some details in this code. In Chapter 6 in  \n",
    "“The match Control Flow Operator” section, we discussed that match arms must  \n",
    "all return the same type. So, for example, the following code doesn’t work:"
   ]
  },
  {
   "cell_type": "code",
   "execution_count": 59,
   "metadata": {
    "vscode": {
     "languageId": "rust"
    }
   },
   "outputs": [
    {
     "ename": "Error",
     "evalue": "`match` arms have incompatible types",
     "output_type": "error",
     "traceback": [
      "\u001b[31m[E0308] Error:\u001b[0m `match` arms have incompatible types",
      "   \u001b[38;5;246m╭\u001b[0m\u001b[38;5;246m─\u001b[0m\u001b[38;5;246m[\u001b[0mcommand_59:1:1\u001b[38;5;246m]\u001b[0m",
      "   \u001b[38;5;246m│\u001b[0m",
      " \u001b[38;5;246m3 │\u001b[0m \u001b[38;5;68m╭\u001b[0m\u001b[38;5;68m─\u001b[0m\u001b[38;5;68m▶\u001b[0m\u001b[38;5;68m \u001b[0m\u001b[38;5;249ml\u001b[0m\u001b[38;5;249me\u001b[0m\u001b[38;5;249mt\u001b[0m\u001b[38;5;249m \u001b[0m\u001b[38;5;249mg\u001b[0m\u001b[38;5;249mu\u001b[0m\u001b[38;5;249me\u001b[0m\u001b[38;5;249ms\u001b[0m\u001b[38;5;249ms\u001b[0m\u001b[38;5;249m \u001b[0m\u001b[38;5;249m=\u001b[0m\u001b[38;5;249m \u001b[0m\u001b[38;5;68mm\u001b[0m\u001b[38;5;68ma\u001b[0m\u001b[38;5;68mt\u001b[0m\u001b[38;5;68mc\u001b[0m\u001b[38;5;68mh\u001b[0m\u001b[38;5;68m \u001b[0m\u001b[38;5;68mg\u001b[0m\u001b[38;5;68mu\u001b[0m\u001b[38;5;68me\u001b[0m\u001b[38;5;68ms\u001b[0m\u001b[38;5;68ms\u001b[0m\u001b[38;5;68m.\u001b[0m\u001b[38;5;68mt\u001b[0m\u001b[38;5;68mr\u001b[0m\u001b[38;5;68mi\u001b[0m\u001b[38;5;68mm\u001b[0m\u001b[38;5;68m(\u001b[0m\u001b[38;5;68m)\u001b[0m\u001b[38;5;68m.\u001b[0m\u001b[38;5;68mp\u001b[0m\u001b[38;5;68ma\u001b[0m\u001b[38;5;68mr\u001b[0m\u001b[38;5;68ms\u001b[0m\u001b[38;5;68me\u001b[0m\u001b[38;5;68m(\u001b[0m\u001b[38;5;68m)\u001b[0m\u001b[38;5;68m \u001b[0m\u001b[38;5;68m{\u001b[0m",
      " \u001b[38;5;246m4 │\u001b[0m \u001b[38;5;68m│\u001b[0m   \u001b[38;5;68m \u001b[0m\u001b[38;5;68m \u001b[0m\u001b[38;5;68m \u001b[0m\u001b[38;5;68m \u001b[0m\u001b[38;5;68mO\u001b[0m\u001b[38;5;68mk\u001b[0m\u001b[38;5;68m(\u001b[0m\u001b[38;5;68m_\u001b[0m\u001b[38;5;68m)\u001b[0m\u001b[38;5;68m \u001b[0m\u001b[38;5;68m=\u001b[0m\u001b[38;5;68m>\u001b[0m\u001b[38;5;68m \u001b[0m\u001b[38;5;100m5\u001b[0m\u001b[38;5;68m,\u001b[0m",
      " \u001b[38;5;246m  ·\u001b[0m \u001b[38;5;68m│\u001b[0m                \u001b[38;5;100m┬\u001b[0m  ",
      " \u001b[38;5;246m  ·\u001b[0m \u001b[38;5;68m│\u001b[0m                \u001b[38;5;100m╰\u001b[0m\u001b[38;5;100m─\u001b[0m\u001b[38;5;100m─\u001b[0m this is found to be of type `{integer}`",
      " \u001b[38;5;246m5 │\u001b[0m \u001b[38;5;68m│\u001b[0m   \u001b[38;5;68m \u001b[0m\u001b[38;5;68m \u001b[0m\u001b[38;5;68m \u001b[0m\u001b[38;5;68m \u001b[0m\u001b[38;5;68mE\u001b[0m\u001b[38;5;68mr\u001b[0m\u001b[38;5;68mr\u001b[0m\u001b[38;5;68m(\u001b[0m\u001b[38;5;68m_\u001b[0m\u001b[38;5;68m)\u001b[0m\u001b[38;5;68m \u001b[0m\u001b[38;5;68m=\u001b[0m\u001b[38;5;68m>\u001b[0m\u001b[38;5;68m \u001b[0m\u001b[38;5;54m\"\u001b[0m\u001b[38;5;54mh\u001b[0m\u001b[38;5;54me\u001b[0m\u001b[38;5;54ml\u001b[0m\u001b[38;5;54ml\u001b[0m\u001b[38;5;54mo\u001b[0m\u001b[38;5;54m\"\u001b[0m\u001b[38;5;68m,\u001b[0m",
      " \u001b[38;5;246m  ·\u001b[0m \u001b[38;5;68m│\u001b[0m                 \u001b[38;5;54m─\u001b[0m\u001b[38;5;54m─\u001b[0m\u001b[38;5;54m─\u001b[0m\u001b[38;5;54m┬\u001b[0m\u001b[38;5;54m─\u001b[0m\u001b[38;5;54m─\u001b[0m\u001b[38;5;54m─\u001b[0m  ",
      " \u001b[38;5;246m  ·\u001b[0m \u001b[38;5;68m│\u001b[0m                    \u001b[38;5;54m╰\u001b[0m\u001b[38;5;54m─\u001b[0m\u001b[38;5;54m─\u001b[0m\u001b[38;5;54m─\u001b[0m\u001b[38;5;54m─\u001b[0m\u001b[38;5;54m─\u001b[0m expected integer, found `&str`",
      " \u001b[38;5;246m6 │\u001b[0m \u001b[38;5;68m├\u001b[0m\u001b[38;5;68m─\u001b[0m\u001b[38;5;68m▶\u001b[0m\u001b[38;5;68m \u001b[0m\u001b[38;5;68m}\u001b[0m\u001b[38;5;249m;\u001b[0m",
      " \u001b[38;5;246m  ·\u001b[0m \u001b[38;5;68m│\u001b[0m        ",
      " \u001b[38;5;246m  ·\u001b[0m \u001b[38;5;68m╰\u001b[0m\u001b[38;5;68m─\u001b[0m\u001b[38;5;68m─\u001b[0m\u001b[38;5;68m─\u001b[0m\u001b[38;5;68m─\u001b[0m\u001b[38;5;68m─\u001b[0m\u001b[38;5;68m─\u001b[0m\u001b[38;5;68m─\u001b[0m\u001b[38;5;68m─\u001b[0m `match` arms have incompatible types",
      "\u001b[38;5;246m───╯\u001b[0m"
     ]
    }
   ],
   "source": [
    "let guess = String::from(\"5\");\n",
    "\n",
    "let guess = match guess.trim().parse() {\n",
    "    Ok(_) => 5,\n",
    "    Err(_) => \"hello\",\n",
    "};"
   ]
  },
  {
   "attachments": {},
   "cell_type": "markdown",
   "metadata": {},
   "source": [
    "The type of guess in this code : \n",
    "\n",
    "- would have to be an `integer` and a `string`, and  \n",
    "- Rust requires that `guess` have `only one type`.  \n",
    "- So what does `continue` return?  \n",
    "\n",
    "How were we allowed to :  \n",
    "- return a `u32` from one arm  \n",
    "- and have another arm that ends with `continue` in Listing 19-26?\n",
    "\n",
    "#### -- `continue` returns a `!` value --\n",
    "\n",
    "As you might have guessed, `continue` has a `!` value. That is, when Rust computes :  \n",
    "\n",
    "- the type of `guess`,  \n",
    "- it looks at both match arms,  \n",
    "- the former with a value of `u32`  \n",
    "- and the latter with a `!` value  \n",
    "- Because `!` can never have a value,  \n",
    "- Rust decides that the type of `guess` is `u32``\n",
    "\n",
    "#### -- `!` Expressions can be `COERCED` into ANY OTHER TYPE --\n",
    "\n",
    "The formal way of describing this behavior is that expressions of type `!` can  \n",
    "be coerced into any other type. We’re allowed to :  \n",
    "- end this match arm with `continue`  \n",
    "- because `continue` doesn’t return a value;  \n",
    "- instead, it moves control back to the top of the loop,  \n",
    "- so in the `Err` case, we `never` assign a `value to guess`.\n",
    "\n",
    "The `never` type is useful with the `panic!` macro as well. Recall the unwrap  \n",
    "function that we call on `Option<T>` values to produce a `value` or `panic`  \n",
    "with this definition:"
   ]
  },
  {
   "cell_type": "code",
   "execution_count": 27,
   "metadata": {
    "vscode": {
     "languageId": "rust"
    }
   },
   "outputs": [
    {
     "ename": "Error",
     "evalue": "cannot define inherent `impl` for a type outside of the crate where the type is defined",
     "output_type": "error",
     "traceback": [
      "\u001b[31m[E0116] Error:\u001b[0m cannot define inherent `impl` for a type outside of the crate where the type is defined",
      "   \u001b[38;5;246m╭\u001b[0m\u001b[38;5;246m─\u001b[0m\u001b[38;5;246m[\u001b[0mcommand_27:1:1\u001b[38;5;246m]\u001b[0m",
      "   \u001b[38;5;246m│\u001b[0m",
      " \u001b[38;5;246m1 │\u001b[0m \u001b[38;5;54mi\u001b[0m\u001b[38;5;54mm\u001b[0m\u001b[38;5;54mp\u001b[0m\u001b[38;5;54ml\u001b[0m\u001b[38;5;54m<\u001b[0m\u001b[38;5;54mT\u001b[0m\u001b[38;5;54m>\u001b[0m\u001b[38;5;54m \u001b[0m\u001b[38;5;54mO\u001b[0m\u001b[38;5;54mp\u001b[0m\u001b[38;5;54mt\u001b[0m\u001b[38;5;54mi\u001b[0m\u001b[38;5;54mo\u001b[0m\u001b[38;5;54mn\u001b[0m\u001b[38;5;54m<\u001b[0m\u001b[38;5;54mT\u001b[0m\u001b[38;5;54m>\u001b[0m\u001b[38;5;249m \u001b[0m\u001b[38;5;249m{\u001b[0m",
      " \u001b[38;5;246m  ·\u001b[0m \u001b[38;5;54m─\u001b[0m\u001b[38;5;54m─\u001b[0m\u001b[38;5;54m─\u001b[0m\u001b[38;5;54m─\u001b[0m\u001b[38;5;54m─\u001b[0m\u001b[38;5;54m─\u001b[0m\u001b[38;5;54m─\u001b[0m\u001b[38;5;54m─\u001b[0m\u001b[38;5;54m┬\u001b[0m\u001b[38;5;54m─\u001b[0m\u001b[38;5;54m─\u001b[0m\u001b[38;5;54m─\u001b[0m\u001b[38;5;54m─\u001b[0m\u001b[38;5;54m─\u001b[0m\u001b[38;5;54m─\u001b[0m\u001b[38;5;54m─\u001b[0m\u001b[38;5;54m─\u001b[0m  ",
      " \u001b[38;5;246m  ·\u001b[0m         \u001b[38;5;54m╰\u001b[0m\u001b[38;5;54m─\u001b[0m\u001b[38;5;54m─\u001b[0m\u001b[38;5;54m─\u001b[0m\u001b[38;5;54m─\u001b[0m\u001b[38;5;54m─\u001b[0m\u001b[38;5;54m─\u001b[0m\u001b[38;5;54m─\u001b[0m\u001b[38;5;54m─\u001b[0m\u001b[38;5;54m─\u001b[0m\u001b[38;5;54m─\u001b[0m impl for type defined outside of crate.",
      "\u001b[38;5;246m───╯\u001b[0m"
     ]
    }
   ],
   "source": [
    "impl<T> Option<T> {\n",
    "    pub fn unwrap(self) -> T {\n",
    "        match self {\n",
    "            Some(val) => val,\n",
    "            None => panic!(\"called `Option::unwrap()` on a `None` value\"),\n",
    "        }\n",
    "    }\n",
    "}"
   ]
  },
  {
   "attachments": {},
   "cell_type": "markdown",
   "metadata": {},
   "source": [
    "#### -- `!` Expressions are useful for `panic!` too --\n",
    "\n",
    "In this code, the same thing happens as in the match in Listing 19-26: \n",
    "\n",
    "- Rust sees that `val` has the type `T`  \n",
    "- and `panic!` has the type `!`,  \n",
    "- so the result of the overall `match` expression is `T`  \n",
    "\n",
    "This code works because :  \n",
    "\n",
    "- `panic!` doesn’t produce a `value`;  \n",
    "- it ends the program.  \n",
    "\n",
    "In the `None` case :  \n",
    "\n",
    "- we won’t be returning a `value` from unwrap,  \n",
    "- so this code is valid.\n",
    "\n",
    "#### -- `!` Expression are useful for `loop` as well --\n",
    "\n",
    "One final expression that has the type `!` is a loop:\n",
    "\n",
    "```rust\n",
    "    print!(\"forever \");\n",
    "\n",
    "    loop {\n",
    "        print!(\"and ever \");\n",
    "    }\n",
    "```\n",
    "\n",
    "Here, the `loop` never ends, so `!` is the value of the expression.  \n",
    "\n",
    "- However, this wouldn’t be true if we `included a break`,  \n",
    "- because the `loop would terminate` when it got to the break."
   ]
  },
  {
   "attachments": {},
   "cell_type": "markdown",
   "metadata": {},
   "source": [
    "### Dynamically Sized Types and the `Sized` Trait\n",
    "\n",
    "Rust needs to know certain details about its types, such as how much space to  \n",
    "allocate for a value of a particular type. This leaves one corner of its type  \n",
    "system a little confusing at first: the concept of dynamically sized types.  \n",
    "Sometimes referred to as DSTs or unsized types, these types let us write code  \n",
    "using values whose size we can know only at runtime.\n",
    "\n",
    "Let’s dig into the details of a dynamically sized type called str, which we’ve  \n",
    "been using throughout the book. That’s right, not &str, but str on its own, is  \n",
    "a DST. We can’t know how long the string is until runtime, meaning we can’t  \n",
    "create a variable of type str, nor can we take an argument of type str.  \n",
    "Consider the following code, which does not work:"
   ]
  },
  {
   "cell_type": "code",
   "execution_count": 2,
   "metadata": {
    "vscode": {
     "languageId": "rust"
    }
   },
   "outputs": [
    {
     "ename": "Error",
     "evalue": "mismatched types",
     "output_type": "error",
     "traceback": [
      "\u001b[31m[E0308] Error:\u001b[0m mismatched types",
      "   \u001b[38;5;246m╭\u001b[0m\u001b[38;5;246m─\u001b[0m\u001b[38;5;246m[\u001b[0mcommand_2:1:1\u001b[38;5;246m]\u001b[0m",
      "   \u001b[38;5;246m│\u001b[0m",
      " \u001b[38;5;246m2 │\u001b[0m \u001b[38;5;249m \u001b[0m\u001b[38;5;249m \u001b[0m\u001b[38;5;249m \u001b[0m\u001b[38;5;249m \u001b[0m\u001b[38;5;249ml\u001b[0m\u001b[38;5;249me\u001b[0m\u001b[38;5;249mt\u001b[0m\u001b[38;5;249m \u001b[0m\u001b[38;5;249ms\u001b[0m\u001b[38;5;249m1\u001b[0m\u001b[38;5;249m:\u001b[0m\u001b[38;5;249m \u001b[0m\u001b[38;5;100ms\u001b[0m\u001b[38;5;100mt\u001b[0m\u001b[38;5;100mr\u001b[0m\u001b[38;5;249m \u001b[0m\u001b[38;5;249m=\u001b[0m\u001b[38;5;249m \u001b[0m\u001b[38;5;54m\"\u001b[0m\u001b[38;5;54mH\u001b[0m\u001b[38;5;54me\u001b[0m\u001b[38;5;54ml\u001b[0m\u001b[38;5;54ml\u001b[0m\u001b[38;5;54mo\u001b[0m\u001b[38;5;54m \u001b[0m\u001b[38;5;54mt\u001b[0m\u001b[38;5;54mh\u001b[0m\u001b[38;5;54me\u001b[0m\u001b[38;5;54mr\u001b[0m\u001b[38;5;54me\u001b[0m\u001b[38;5;54m!\u001b[0m\u001b[38;5;54m\"\u001b[0m\u001b[38;5;249m;\u001b[0m",
      " \u001b[38;5;246m  ·\u001b[0m             \u001b[38;5;100m─\u001b[0m\u001b[38;5;100m┬\u001b[0m\u001b[38;5;100m─\u001b[0m   \u001b[38;5;54m─\u001b[0m\u001b[38;5;54m─\u001b[0m\u001b[38;5;54m─\u001b[0m\u001b[38;5;54m─\u001b[0m\u001b[38;5;54m─\u001b[0m\u001b[38;5;54m─\u001b[0m\u001b[38;5;54m─\u001b[0m\u001b[38;5;54m┬\u001b[0m\u001b[38;5;54m─\u001b[0m\u001b[38;5;54m─\u001b[0m\u001b[38;5;54m─\u001b[0m\u001b[38;5;54m─\u001b[0m\u001b[38;5;54m─\u001b[0m\u001b[38;5;54m─\u001b[0m  ",
      " \u001b[38;5;246m  ·\u001b[0m              \u001b[38;5;100m╰\u001b[0m\u001b[38;5;100m─\u001b[0m\u001b[38;5;100m─\u001b[0m\u001b[38;5;100m─\u001b[0m\u001b[38;5;100m─\u001b[0m\u001b[38;5;100m─\u001b[0m\u001b[38;5;100m─\u001b[0m\u001b[38;5;100m─\u001b[0m\u001b[38;5;100m─\u001b[0m\u001b[38;5;100m─\u001b[0m\u001b[38;5;100m─\u001b[0m\u001b[38;5;100m─\u001b[0m\u001b[38;5;100m─\u001b[0m\u001b[38;5;100m─\u001b[0m\u001b[38;5;100m─\u001b[0m\u001b[38;5;100m─\u001b[0m\u001b[38;5;100m─\u001b[0m\u001b[38;5;100m─\u001b[0m\u001b[38;5;100m─\u001b[0m\u001b[38;5;100m─\u001b[0m\u001b[38;5;100m─\u001b[0m expected due to this",
      " \u001b[38;5;246m  ·\u001b[0m                          \u001b[38;5;54m│\u001b[0m        ",
      " \u001b[38;5;246m  ·\u001b[0m                          \u001b[38;5;54m╰\u001b[0m\u001b[38;5;54m─\u001b[0m\u001b[38;5;54m─\u001b[0m\u001b[38;5;54m─\u001b[0m\u001b[38;5;54m─\u001b[0m\u001b[38;5;54m─\u001b[0m\u001b[38;5;54m─\u001b[0m\u001b[38;5;54m─\u001b[0m\u001b[38;5;54m─\u001b[0m expected `str`, found `&str`",
      "\u001b[38;5;246m───╯\u001b[0m"
     ]
    },
    {
     "ename": "Error",
     "evalue": "mismatched types",
     "output_type": "error",
     "traceback": [
      "\u001b[31m[E0308] Error:\u001b[0m mismatched types",
      "   \u001b[38;5;246m╭\u001b[0m\u001b[38;5;246m─\u001b[0m\u001b[38;5;246m[\u001b[0mcommand_2:1:1\u001b[38;5;246m]\u001b[0m",
      "   \u001b[38;5;246m│\u001b[0m",
      " \u001b[38;5;246m3 │\u001b[0m \u001b[38;5;249m \u001b[0m\u001b[38;5;249m \u001b[0m\u001b[38;5;249m \u001b[0m\u001b[38;5;249m \u001b[0m\u001b[38;5;249ml\u001b[0m\u001b[38;5;249me\u001b[0m\u001b[38;5;249mt\u001b[0m\u001b[38;5;249m \u001b[0m\u001b[38;5;249ms\u001b[0m\u001b[38;5;249m2\u001b[0m\u001b[38;5;249m:\u001b[0m\u001b[38;5;249m \u001b[0m\u001b[38;5;100ms\u001b[0m\u001b[38;5;100mt\u001b[0m\u001b[38;5;100mr\u001b[0m\u001b[38;5;249m \u001b[0m\u001b[38;5;249m=\u001b[0m\u001b[38;5;249m \u001b[0m\u001b[38;5;54m\"\u001b[0m\u001b[38;5;54mH\u001b[0m\u001b[38;5;54mo\u001b[0m\u001b[38;5;54mw\u001b[0m\u001b[38;5;54m'\u001b[0m\u001b[38;5;54ms\u001b[0m\u001b[38;5;54m \u001b[0m\u001b[38;5;54mi\u001b[0m\u001b[38;5;54mt\u001b[0m\u001b[38;5;54m \u001b[0m\u001b[38;5;54mg\u001b[0m\u001b[38;5;54mo\u001b[0m\u001b[38;5;54mi\u001b[0m\u001b[38;5;54mn\u001b[0m\u001b[38;5;54mg\u001b[0m\u001b[38;5;54m?\u001b[0m\u001b[38;5;54m\"\u001b[0m\u001b[38;5;249m;\u001b[0m",
      " \u001b[38;5;246m  ·\u001b[0m             \u001b[38;5;100m─\u001b[0m\u001b[38;5;100m┬\u001b[0m\u001b[38;5;100m─\u001b[0m   \u001b[38;5;54m─\u001b[0m\u001b[38;5;54m─\u001b[0m\u001b[38;5;54m─\u001b[0m\u001b[38;5;54m─\u001b[0m\u001b[38;5;54m─\u001b[0m\u001b[38;5;54m─\u001b[0m\u001b[38;5;54m─\u001b[0m\u001b[38;5;54m─\u001b[0m\u001b[38;5;54m┬\u001b[0m\u001b[38;5;54m─\u001b[0m\u001b[38;5;54m─\u001b[0m\u001b[38;5;54m─\u001b[0m\u001b[38;5;54m─\u001b[0m\u001b[38;5;54m─\u001b[0m\u001b[38;5;54m─\u001b[0m\u001b[38;5;54m─\u001b[0m\u001b[38;5;54m─\u001b[0m  ",
      " \u001b[38;5;246m  ·\u001b[0m              \u001b[38;5;100m╰\u001b[0m\u001b[38;5;100m─\u001b[0m\u001b[38;5;100m─\u001b[0m\u001b[38;5;100m─\u001b[0m\u001b[38;5;100m─\u001b[0m\u001b[38;5;100m─\u001b[0m\u001b[38;5;100m─\u001b[0m\u001b[38;5;100m─\u001b[0m\u001b[38;5;100m─\u001b[0m\u001b[38;5;100m─\u001b[0m\u001b[38;5;100m─\u001b[0m\u001b[38;5;100m─\u001b[0m\u001b[38;5;100m─\u001b[0m\u001b[38;5;100m─\u001b[0m\u001b[38;5;100m─\u001b[0m\u001b[38;5;100m─\u001b[0m\u001b[38;5;100m─\u001b[0m\u001b[38;5;100m─\u001b[0m\u001b[38;5;100m─\u001b[0m\u001b[38;5;100m─\u001b[0m\u001b[38;5;100m─\u001b[0m\u001b[38;5;100m─\u001b[0m\u001b[38;5;100m─\u001b[0m\u001b[38;5;100m─\u001b[0m expected due to this",
      " \u001b[38;5;246m  ·\u001b[0m                           \u001b[38;5;54m│\u001b[0m          ",
      " \u001b[38;5;246m  ·\u001b[0m                           \u001b[38;5;54m╰\u001b[0m\u001b[38;5;54m─\u001b[0m\u001b[38;5;54m─\u001b[0m\u001b[38;5;54m─\u001b[0m\u001b[38;5;54m─\u001b[0m\u001b[38;5;54m─\u001b[0m\u001b[38;5;54m─\u001b[0m\u001b[38;5;54m─\u001b[0m\u001b[38;5;54m─\u001b[0m\u001b[38;5;54m─\u001b[0m\u001b[38;5;54m─\u001b[0m expected `str`, found `&str`",
      "\u001b[38;5;246m───╯\u001b[0m"
     ]
    },
    {
     "ename": "Error",
     "evalue": "the size for values of type `str` cannot be known at compilation time",
     "output_type": "error",
     "traceback": [
      "\u001b[31m[E0277] Error:\u001b[0m the size for values of type `str` cannot be known at compilation time",
      "   \u001b[38;5;246m╭\u001b[0m\u001b[38;5;246m─\u001b[0m\u001b[38;5;246m[\u001b[0mcommand_2:1:1\u001b[38;5;246m]\u001b[0m",
      "   \u001b[38;5;246m│\u001b[0m",
      " \u001b[38;5;246m2 │\u001b[0m \u001b[38;5;249m \u001b[0m\u001b[38;5;249m \u001b[0m\u001b[38;5;249m \u001b[0m\u001b[38;5;249m \u001b[0m\u001b[38;5;249ml\u001b[0m\u001b[38;5;249me\u001b[0m\u001b[38;5;249mt\u001b[0m\u001b[38;5;249m \u001b[0m\u001b[38;5;54ms\u001b[0m\u001b[38;5;54m1\u001b[0m\u001b[38;5;249m:\u001b[0m\u001b[38;5;249m \u001b[0m\u001b[38;5;249ms\u001b[0m\u001b[38;5;249mt\u001b[0m\u001b[38;5;249mr\u001b[0m\u001b[38;5;249m \u001b[0m\u001b[38;5;249m=\u001b[0m\u001b[38;5;249m \u001b[0m\u001b[38;5;249m\"\u001b[0m\u001b[38;5;249mH\u001b[0m\u001b[38;5;249me\u001b[0m\u001b[38;5;249ml\u001b[0m\u001b[38;5;249ml\u001b[0m\u001b[38;5;249mo\u001b[0m\u001b[38;5;249m \u001b[0m\u001b[38;5;249mt\u001b[0m\u001b[38;5;249mh\u001b[0m\u001b[38;5;249me\u001b[0m\u001b[38;5;249mr\u001b[0m\u001b[38;5;249me\u001b[0m\u001b[38;5;249m!\u001b[0m\u001b[38;5;249m\"\u001b[0m\u001b[38;5;249m;\u001b[0m",
      " \u001b[38;5;246m  ·\u001b[0m         \u001b[38;5;54m─\u001b[0m\u001b[38;5;54m┬\u001b[0m  \u001b[38;5;100m│\u001b[0m ",
      " \u001b[38;5;246m  ·\u001b[0m          \u001b[38;5;54m╰\u001b[0m\u001b[38;5;54m─\u001b[0m\u001b[38;5;54m─\u001b[0m\u001b[38;5;54m─\u001b[0m\u001b[38;5;54m─\u001b[0m doesn't have a size known at compile-time",
      " \u001b[38;5;246m  ·\u001b[0m             \u001b[38;5;100m│\u001b[0m ",
      " \u001b[38;5;246m  ·\u001b[0m             \u001b[38;5;100m╰\u001b[0m\u001b[38;5;100m─\u001b[0m help: consider borrowing here: `&`",
      "\u001b[38;5;246m───╯\u001b[0m"
     ]
    },
    {
     "ename": "Error",
     "evalue": "the size for values of type `str` cannot be known at compilation time",
     "output_type": "error",
     "traceback": [
      "\u001b[31m[E0277] Error:\u001b[0m the size for values of type `str` cannot be known at compilation time",
      "   \u001b[38;5;246m╭\u001b[0m\u001b[38;5;246m─\u001b[0m\u001b[38;5;246m[\u001b[0mcommand_2:1:1\u001b[38;5;246m]\u001b[0m",
      "   \u001b[38;5;246m│\u001b[0m",
      " \u001b[38;5;246m3 │\u001b[0m \u001b[38;5;249m \u001b[0m\u001b[38;5;249m \u001b[0m\u001b[38;5;249m \u001b[0m\u001b[38;5;249m \u001b[0m\u001b[38;5;249ml\u001b[0m\u001b[38;5;249me\u001b[0m\u001b[38;5;249mt\u001b[0m\u001b[38;5;249m \u001b[0m\u001b[38;5;54ms\u001b[0m\u001b[38;5;54m2\u001b[0m\u001b[38;5;249m:\u001b[0m\u001b[38;5;249m \u001b[0m\u001b[38;5;249ms\u001b[0m\u001b[38;5;249mt\u001b[0m\u001b[38;5;249mr\u001b[0m\u001b[38;5;249m \u001b[0m\u001b[38;5;249m=\u001b[0m\u001b[38;5;249m \u001b[0m\u001b[38;5;249m\"\u001b[0m\u001b[38;5;249mH\u001b[0m\u001b[38;5;249mo\u001b[0m\u001b[38;5;249mw\u001b[0m\u001b[38;5;249m'\u001b[0m\u001b[38;5;249ms\u001b[0m\u001b[38;5;249m \u001b[0m\u001b[38;5;249mi\u001b[0m\u001b[38;5;249mt\u001b[0m\u001b[38;5;249m \u001b[0m\u001b[38;5;249mg\u001b[0m\u001b[38;5;249mo\u001b[0m\u001b[38;5;249mi\u001b[0m\u001b[38;5;249mn\u001b[0m\u001b[38;5;249mg\u001b[0m\u001b[38;5;249m?\u001b[0m\u001b[38;5;249m\"\u001b[0m\u001b[38;5;249m;\u001b[0m",
      " \u001b[38;5;246m  ·\u001b[0m         \u001b[38;5;54m─\u001b[0m\u001b[38;5;54m┬\u001b[0m  \u001b[38;5;100m│\u001b[0m ",
      " \u001b[38;5;246m  ·\u001b[0m          \u001b[38;5;54m╰\u001b[0m\u001b[38;5;54m─\u001b[0m\u001b[38;5;54m─\u001b[0m\u001b[38;5;54m─\u001b[0m\u001b[38;5;54m─\u001b[0m doesn't have a size known at compile-time",
      " \u001b[38;5;246m  ·\u001b[0m             \u001b[38;5;100m│\u001b[0m ",
      " \u001b[38;5;246m  ·\u001b[0m             \u001b[38;5;100m╰\u001b[0m\u001b[38;5;100m─\u001b[0m help: consider borrowing here: `&`",
      "\u001b[38;5;246m───╯\u001b[0m"
     ]
    }
   ],
   "source": [
    "{\n",
    "    let s1: str = \"Hello there!\";\n",
    "    let s2: str = \"How's it going?\";\n",
    "}"
   ]
  },
  {
   "attachments": {},
   "cell_type": "markdown",
   "metadata": {},
   "source": [
    "Rust needs to know how much memory to allocate for any value of a particular  \n",
    "type, and all values of a type must use the same amount of memory. If Rust  \n",
    "allowed us to write this code, these two str values would need to take up the  \n",
    "same amount of space. But they have different lengths:  \n",
    "\n",
    "- s1 needs 12 bytes of storage and  \n",
    "- s2 needs 15.  \n",
    "\n",
    "This is why it’s not possible to create a variable holding a dynamically sized  \n",
    "type.\n",
    "\n",
    "So what do we do? In this case, you already know the answer:  \n",
    "\n",
    "- we make the types of s1 and s2 a &str rather than a str.  \n",
    "\n",
    "Recall from the “String Slices” section of Chapter 4 that the slice data  \n",
    "structure just stores the starting position and the length of the slice. So  \n",
    "although a &T is a single value that stores the memory address of where the T  \n",
    "is located, a &str is two values:  \n",
    "\n",
    "- the address of the str  \n",
    "- and its length.  \n",
    "\n",
    "As such, we can know the size of a &str value at compile time: it’s twice the  \n",
    "length of a usize. That is, we always know the size of a &str, no matter how  \n",
    "long the string it refers to is. In general, this is the way in which  \n",
    "dynamically sized types are used in Rust: they have an extra bit of metadata  \n",
    "that stores the size of the dynamic information. The golden rule of  \n",
    "dynamically sized types is that we must always put values of dynamically sized  \n",
    "types behind a pointer of some kind.\n",
    "\n",
    "We can combine str with all kinds of pointers: for example, Box<str> or Rc<str>.  \n",
    "In fact, you’ve seen this before but with a different dynamically sized type:  \n",
    "traits. Every trait is a dynamically sized type we can refer to by using the  \n",
    "name of the trait. In Chapter 17 in the “Using Trait Objects That Allow for  \n",
    "Values of Different Types” section, we mentioned that to use traits as trait  \n",
    "objects, we must put them behind a pointer, such as &dyn Trait or  \n",
    "Box<dyn Trait> (Rc<dyn Trait> would work too)."
   ]
  },
  {
   "attachments": {},
   "cell_type": "markdown",
   "metadata": {},
   "source": [
    "To work with DSTs, Rust provides the Sized trait to determine whether or not a  \n",
    "type’s size is known at compile time. This trait is automatically implemented  \n",
    "for everything whose size is known at compile time. In addition, Rust  \n",
    "implicitly adds a bound on Sized to every generic function. That is, a generic  \n",
    "function definition like this:\n",
    "\n",
    "```rust\n",
    "fn generic<T>(t: T) {\n",
    "    // --snip--\n",
    "}\n",
    "```\n",
    "\n",
    "is actually treated as though we had written this:\n",
    "\n",
    "```rust\n",
    "fn generic<T: Sized>(t: T) {\n",
    "    // --snip--\n",
    "}\n",
    "```\n",
    "\n",
    "By default, generic functions will work only on types that have a known size at  \n",
    "compile time. However, you can use the following special syntax to relax this  \n",
    "restriction:\n",
    "\n",
    "```rust\n",
    "fn generic<T: ?Sized>(t: &T) {\n",
    "    // --snip--\n",
    "}\n",
    "```\n",
    "\n",
    "A trait bound on ?Sized means “T may or may not be Sized” and this notation  \n",
    "overrides the default that generic types must have a known size at compile time.  \n",
    "The ?Trait syntax with this meaning is only available for Sized, not any other  \n",
    "traits.\n",
    "\n",
    "Also note that :  \n",
    "- we switched the type of the t parameter from T to &T.  \n",
    "- Because the type might not be Sized,  \n",
    "- we need to use it behind some kind of pointer. \n",
    "\n",
    "In this case, we’ve chosen a reference.\n",
    "\n",
    "Next, we’ll talk about functions and closures!"
   ]
  },
  {
   "attachments": {},
   "cell_type": "markdown",
   "metadata": {},
   "source": [
    "Advanced Functions and Closures\n",
    "---\n",
    "\n",
    "This section explores some advanced features related to functions and closures,  \n",
    "including function pointers and returning closures."
   ]
  },
  {
   "attachments": {},
   "cell_type": "markdown",
   "metadata": {},
   "source": [
    "### Function Pointers\n",
    "\n",
    "We’ve talked about how to pass closures to functions; you can also pass regular  \n",
    "functions to functions! This technique is useful when you want to pass a  \n",
    "function you’ve already defined rather than defining a new closure. Functions  \n",
    "coerce to the type fn (with a lowercase f), not to be confused with the Fn  \n",
    "closure trait. The fn type is called a function pointer. Passing functions with  \n",
    "function pointers will allow you to use functions as arguments to other  \n",
    "functions.\n",
    "\n",
    "The syntax for specifying that a parameter is a function pointer is similar to  \n",
    "that of closures, as shown in Listing 19-27, where we’ve defined a function  \n",
    "add_one that adds one to its parameter. The function do_twice takes two  \n",
    "parameters:  \n",
    "\n",
    "-  a function pointer to any function that takes an i32 parameter and returns  \n",
    "an i32, and one i32 value.  \n",
    "\n",
    "The do_twice function calls the function f twice, passing it the arg value,  \n",
    "then adds the two function call results together. The main function calls  \n",
    "do_twice with the arguments add_one and 5.\n",
    "\n",
    "> Filename: src/main.rs"
   ]
  },
  {
   "cell_type": "code",
   "execution_count": 4,
   "metadata": {
    "vscode": {
     "languageId": "rust"
    }
   },
   "outputs": [
    {
     "name": "stdout",
     "output_type": "stream",
     "text": [
      "The answer is: 12\n"
     ]
    },
    {
     "data": {
      "text/plain": [
       "()"
      ]
     },
     "execution_count": 4,
     "metadata": {},
     "output_type": "execute_result"
    }
   ],
   "source": [
    "fn add_one(x: i32) -> i32 {\n",
    "    x + 1\n",
    "}\n",
    "\n",
    "fn do_twice(f: fn(i32) -> i32, arg: i32) -> i32 {\n",
    "    f(arg) + f(arg)\n",
    "}\n",
    "\n",
    "{\n",
    "    let answer = do_twice(add_one, 5);\n",
    "    println!(\"The answer is: {}\", answer);\n",
    "}"
   ]
  },
  {
   "attachments": {},
   "cell_type": "markdown",
   "metadata": {},
   "source": [
    "> Listing 19-27: Using the fn type to accept a function pointer as an argument\n",
    "\n",
    "This code prints The answer is: 12. We specify that the parameter f in  \n",
    "do_twice is an fn that takes one parameter of type i32 and returns an i32.  \n",
    "We can then call f in the body of do_twice. In main, we can pass the function  \n",
    "name add_one as the first argument to do_twice.\n",
    "\n",
    "Unlike closures, fn is a type rather than a trait, so we specify fn as the  \n",
    "parameter type directly rather than declaring a generic type parameter with  \n",
    "one of the Fn traits as a trait bound.\n",
    "\n",
    "Function pointers implement all three of the closure traits  \n",
    "(Fn, FnMut, and FnOnce), meaning you can always pass a function pointer as an  \n",
    "argument for a function that expects a closure. It’s best to write functions  \n",
    "using a generic type and one of the closure traits so your functions can accept  \n",
    "either functions or closures."
   ]
  },
  {
   "attachments": {},
   "cell_type": "markdown",
   "metadata": {},
   "source": [
    "##### GPT answers\n",
    "***\n",
    "\n",
    "> The sentence \"Unlike closures, fn is a type rather than a trait, so we specify  \n",
    "fn as the parameter type directly rather than declaring a generic type parameter  \n",
    "with one of the Fn traits as a trait bound\" is saying that :  \n",
    "\n",
    "- when we use fn as a parameter type, we're directly asking for a specific type  \n",
    "of thing (like a car). \n",
    "- But when we use Fn as a trait bound, we're asking for any type of thing that  \n",
    "has a certain ability (like any toy that can move).\n",
    "\n",
    "###### --[ Type ]--\n",
    "\n",
    "Imagine you're playing with a box of toys. In this box, there are all kinds of  \n",
    "toys: cars, dolls, balls, blocks, and so on. Each of these kinds of toys is  \n",
    "like a \"type\" in Rust. Cars are one type of toy, dolls are another type, and  \n",
    "so on.\n",
    "\n",
    "###### --[ Trait ]--\n",
    "\n",
    "Now, imagine you want to play a specific game, like a racing game. For this  \n",
    "game, you need toys that can move, like cars and balls, but not toys that can't  \n",
    "move, like blocks. This idea of \"toys that can move\" is like a \"trait\" in Rust.  \n",
    "A trait is like a special ability or feature that some types have, but not  \n",
    "others.\n",
    "\n",
    "So in Rust, fn is a type, like cars or dolls. It's a specific thing with its  \n",
    "own properties. On the other hand, Fn is a trait, like \"can move\". It's a  \n",
    "feature or ability that some types, like fn, can have.\n",
    "\n",
    "- When you declare a function parameter with fn, you're saying \"I need a toy  \n",
    "car\".  \n",
    "- But when you declare a function parameter with Fn, you're saying \"I need a  \n",
    "toy that can move\"."
   ]
  },
  {
   "attachments": {},
   "cell_type": "markdown",
   "metadata": {},
   "source": [
    "That said, one example of where you would want to only accept fn and not  \n",
    "closures is when interfacing with external code that doesn’t have closures:  \n",
    "\n",
    "- C functions can accept functions as arguments,  \n",
    "- but C doesn’t have closures.\n",
    "\n",
    "As an example of where you could use either a closure defined inline or a  \n",
    "named function, let’s look at a use of the map method provided by the Iterator  \n",
    "trait in the standard library. To use the map function to turn a vector of  \n",
    "numbers into a vector of strings, we could use a closure, like this:\n",
    "\n",
    "```rust\n",
    "let list_of_numbers = vec![1, 2, 3];\n",
    "let list_of_strings: Vec<String> = \n",
    "    list_of_numbers.iter().map(|i| i.to_string()).collect();\n",
    "```\n",
    "\n",
    "Or we could name a function as the argument to map instead of the closure, like  \n",
    "this:\n",
    "\n",
    "```rust\n",
    "let list_of_numbers = vec![1, 2, 3];\n",
    "let list_of_strings: Vec<String> ]\n",
    "    list_of_numbers.iter().map(ToString::to_string).collect();\n",
    "```\n",
    "\n",
    "Note that we must use the fully qualified syntax that we talked about earlier  \n",
    "in the “Advanced Traits” section because there are multiple functions available  \n",
    "named to_string. Here, we’re using the to_string function defined in the  \n",
    "ToString trait, which the standard library has implemented for any type that \n",
    "implements Display."
   ]
  },
  {
   "attachments": {},
   "cell_type": "markdown",
   "metadata": {},
   "source": [
    "Recall from the “Enum values” section of Chapter 6 that the name of each enum  \n",
    "variant that we define also becomes an initializer function. We can use these  \n",
    "initializer functions as function pointers that implement the closure traits,  \n",
    "which means we can specify the initializer functions as arguments for methods  \n",
    "that take closures, like so:"
   ]
  },
  {
   "cell_type": "code",
   "execution_count": 6,
   "metadata": {
    "vscode": {
     "languageId": "rust"
    }
   },
   "outputs": [
    {
     "ename": "Error",
     "evalue": "type mismatch in function arguments",
     "output_type": "error",
     "traceback": [
      "\u001b[31m[E0631] Error:\u001b[0m type mismatch in function arguments",
      "   \u001b[38;5;246m╭\u001b[0m\u001b[38;5;246m─\u001b[0m\u001b[38;5;246m[\u001b[0mcommand_6:1:1\u001b[38;5;246m]\u001b[0m",
      "   \u001b[38;5;246m│\u001b[0m",
      " \u001b[38;5;246m2 │\u001b[0m \u001b[38;5;249m \u001b[0m\u001b[38;5;249m \u001b[0m\u001b[38;5;249m \u001b[0m\u001b[38;5;249m \u001b[0m\u001b[38;5;100mV\u001b[0m\u001b[38;5;100ma\u001b[0m\u001b[38;5;100ml\u001b[0m\u001b[38;5;100mu\u001b[0m\u001b[38;5;100me\u001b[0m\u001b[38;5;249m(\u001b[0m\u001b[38;5;249mi\u001b[0m\u001b[38;5;249m3\u001b[0m\u001b[38;5;249m2\u001b[0m\u001b[38;5;249m)\u001b[0m\u001b[38;5;249m,\u001b[0m",
      " \u001b[38;5;246m  ·\u001b[0m     \u001b[38;5;100m─\u001b[0m\u001b[38;5;100m─\u001b[0m\u001b[38;5;100m┬\u001b[0m\u001b[38;5;100m─\u001b[0m\u001b[38;5;100m─\u001b[0m  ",
      " \u001b[38;5;246m  ·\u001b[0m       \u001b[38;5;100m╰\u001b[0m\u001b[38;5;100m─\u001b[0m\u001b[38;5;100m─\u001b[0m\u001b[38;5;100m─\u001b[0m\u001b[38;5;100m─\u001b[0m found signature defined here",
      " \u001b[38;5;246m  ·\u001b[0m ",
      " \u001b[38;5;246m7 │\u001b[0m \u001b[38;5;249m \u001b[0m\u001b[38;5;249m \u001b[0m\u001b[38;5;249m \u001b[0m\u001b[38;5;249m \u001b[0m\u001b[38;5;249ml\u001b[0m\u001b[38;5;249me\u001b[0m\u001b[38;5;249mt\u001b[0m\u001b[38;5;249m \u001b[0m\u001b[38;5;249ml\u001b[0m\u001b[38;5;249mi\u001b[0m\u001b[38;5;249ms\u001b[0m\u001b[38;5;249mt\u001b[0m\u001b[38;5;249m_\u001b[0m\u001b[38;5;249mo\u001b[0m\u001b[38;5;249mf\u001b[0m\u001b[38;5;249m_\u001b[0m\u001b[38;5;249ms\u001b[0m\u001b[38;5;249mt\u001b[0m\u001b[38;5;249ma\u001b[0m\u001b[38;5;249mt\u001b[0m\u001b[38;5;249mu\u001b[0m\u001b[38;5;249ms\u001b[0m\u001b[38;5;249me\u001b[0m\u001b[38;5;249ms\u001b[0m\u001b[38;5;249m:\u001b[0m\u001b[38;5;249m \u001b[0m\u001b[38;5;249mV\u001b[0m\u001b[38;5;249me\u001b[0m\u001b[38;5;249mc\u001b[0m\u001b[38;5;249m<\u001b[0m\u001b[38;5;249mS\u001b[0m\u001b[38;5;249mt\u001b[0m\u001b[38;5;249ma\u001b[0m\u001b[38;5;249mt\u001b[0m\u001b[38;5;249mu\u001b[0m\u001b[38;5;249ms\u001b[0m\u001b[38;5;249m>\u001b[0m\u001b[38;5;249m \u001b[0m\u001b[38;5;249m=\u001b[0m\u001b[38;5;249m \u001b[0m\u001b[38;5;249m(\u001b[0m\u001b[38;5;249m0\u001b[0m\u001b[38;5;249mu\u001b[0m\u001b[38;5;249m3\u001b[0m\u001b[38;5;249m2\u001b[0m\u001b[38;5;249m.\u001b[0m\u001b[38;5;249m.\u001b[0m\u001b[38;5;249m2\u001b[0m\u001b[38;5;249m0\u001b[0m\u001b[38;5;249m)\u001b[0m\u001b[38;5;249m.\u001b[0m\u001b[38;5;68mm\u001b[0m\u001b[38;5;68ma\u001b[0m\u001b[38;5;68mp\u001b[0m\u001b[38;5;249m(\u001b[0m\u001b[38;5;54mS\u001b[0m\u001b[38;5;54mt\u001b[0m\u001b[38;5;54ma\u001b[0m\u001b[38;5;54mt\u001b[0m\u001b[38;5;54mu\u001b[0m\u001b[38;5;54ms\u001b[0m\u001b[38;5;54m:\u001b[0m\u001b[38;5;54m:\u001b[0m\u001b[38;5;54mV\u001b[0m\u001b[38;5;54ma\u001b[0m\u001b[38;5;54ml\u001b[0m\u001b[38;5;54mu\u001b[0m\u001b[38;5;54me\u001b[0m\u001b[38;5;249m)\u001b[0m\u001b[38;5;249m.\u001b[0m\u001b[38;5;249mc\u001b[0m\u001b[38;5;249mo\u001b[0m\u001b[38;5;249ml\u001b[0m\u001b[38;5;249ml\u001b[0m\u001b[38;5;249me\u001b[0m\u001b[38;5;249mc\u001b[0m\u001b[38;5;249mt\u001b[0m\u001b[38;5;249m(\u001b[0m\u001b[38;5;249m)\u001b[0m\u001b[38;5;249m;\u001b[0m",
      " \u001b[38;5;246m  ·\u001b[0m                                                    \u001b[38;5;68m─\u001b[0m\u001b[38;5;68m┬\u001b[0m\u001b[38;5;68m─\u001b[0m \u001b[38;5;54m─\u001b[0m\u001b[38;5;54m─\u001b[0m\u001b[38;5;54m─\u001b[0m\u001b[38;5;54m─\u001b[0m\u001b[38;5;54m─\u001b[0m\u001b[38;5;54m─\u001b[0m\u001b[38;5;54m┬\u001b[0m\u001b[38;5;54m─\u001b[0m\u001b[38;5;54m─\u001b[0m\u001b[38;5;54m─\u001b[0m\u001b[38;5;54m─\u001b[0m\u001b[38;5;54m─\u001b[0m\u001b[38;5;54m─\u001b[0m  ",
      " \u001b[38;5;246m  ·\u001b[0m                                                     \u001b[38;5;68m╰\u001b[0m\u001b[38;5;68m─\u001b[0m\u001b[38;5;68m─\u001b[0m\u001b[38;5;68m─\u001b[0m\u001b[38;5;68m─\u001b[0m\u001b[38;5;68m─\u001b[0m\u001b[38;5;68m─\u001b[0m\u001b[38;5;68m─\u001b[0m\u001b[38;5;68m─\u001b[0m\u001b[38;5;68m─\u001b[0m\u001b[38;5;68m─\u001b[0m\u001b[38;5;68m─\u001b[0m\u001b[38;5;68m─\u001b[0m\u001b[38;5;68m─\u001b[0m\u001b[38;5;68m─\u001b[0m\u001b[38;5;68m─\u001b[0m\u001b[38;5;68m─\u001b[0m\u001b[38;5;68m─\u001b[0m required by a bound introduced by this call",
      " \u001b[38;5;246m  ·\u001b[0m                                                              \u001b[38;5;54m│\u001b[0m        ",
      " \u001b[38;5;246m  ·\u001b[0m                                                              \u001b[38;5;54m╰\u001b[0m\u001b[38;5;54m─\u001b[0m\u001b[38;5;54m─\u001b[0m\u001b[38;5;54m─\u001b[0m\u001b[38;5;54m─\u001b[0m\u001b[38;5;54m─\u001b[0m\u001b[38;5;54m─\u001b[0m\u001b[38;5;54m─\u001b[0m\u001b[38;5;54m─\u001b[0m expected due to this",
      " \u001b[38;5;246m  ·\u001b[0m ",
      " \u001b[38;5;246m  ·\u001b[0m \u001b[38;5;115mNote\u001b[0m: required by this bound in `Iterator::map`",
      "\u001b[38;5;246m───╯\u001b[0m"
     ]
    },
    {
     "ename": "Error",
     "evalue": "the method `collect` exists for struct `Map<Range<u32>, fn(i32) -> Status {Status::Value}>`, but its trait bounds were not satisfied",
     "output_type": "error",
     "traceback": [
      "\u001b[31m[E0599] Error:\u001b[0m the method `collect` exists for struct `Map<Range<u32>, fn(i32) -> Status {Status::Value}>`, but its trait bounds were not satisfied",
      "   \u001b[38;5;246m╭\u001b[0m\u001b[38;5;246m─\u001b[0m\u001b[38;5;246m[\u001b[0mcommand_6:1:1\u001b[38;5;246m]\u001b[0m",
      "   \u001b[38;5;246m│\u001b[0m",
      " \u001b[38;5;246m7 │\u001b[0m \u001b[38;5;249m \u001b[0m\u001b[38;5;249m \u001b[0m\u001b[38;5;249m \u001b[0m\u001b[38;5;249m \u001b[0m\u001b[38;5;249ml\u001b[0m\u001b[38;5;249me\u001b[0m\u001b[38;5;249mt\u001b[0m\u001b[38;5;249m \u001b[0m\u001b[38;5;249ml\u001b[0m\u001b[38;5;249mi\u001b[0m\u001b[38;5;249ms\u001b[0m\u001b[38;5;249mt\u001b[0m\u001b[38;5;249m_\u001b[0m\u001b[38;5;249mo\u001b[0m\u001b[38;5;249mf\u001b[0m\u001b[38;5;249m_\u001b[0m\u001b[38;5;249ms\u001b[0m\u001b[38;5;249mt\u001b[0m\u001b[38;5;249ma\u001b[0m\u001b[38;5;249mt\u001b[0m\u001b[38;5;249mu\u001b[0m\u001b[38;5;249ms\u001b[0m\u001b[38;5;249me\u001b[0m\u001b[38;5;249ms\u001b[0m\u001b[38;5;249m:\u001b[0m\u001b[38;5;249m \u001b[0m\u001b[38;5;249mV\u001b[0m\u001b[38;5;249me\u001b[0m\u001b[38;5;249mc\u001b[0m\u001b[38;5;249m<\u001b[0m\u001b[38;5;249mS\u001b[0m\u001b[38;5;249mt\u001b[0m\u001b[38;5;249ma\u001b[0m\u001b[38;5;249mt\u001b[0m\u001b[38;5;249mu\u001b[0m\u001b[38;5;249ms\u001b[0m\u001b[38;5;249m>\u001b[0m\u001b[38;5;249m \u001b[0m\u001b[38;5;249m=\u001b[0m\u001b[38;5;249m \u001b[0m\u001b[38;5;249m(\u001b[0m\u001b[38;5;249m0\u001b[0m\u001b[38;5;249mu\u001b[0m\u001b[38;5;249m3\u001b[0m\u001b[38;5;249m2\u001b[0m\u001b[38;5;249m.\u001b[0m\u001b[38;5;249m.\u001b[0m\u001b[38;5;249m2\u001b[0m\u001b[38;5;249m0\u001b[0m\u001b[38;5;249m)\u001b[0m\u001b[38;5;249m.\u001b[0m\u001b[38;5;249mm\u001b[0m\u001b[38;5;249ma\u001b[0m\u001b[38;5;249mp\u001b[0m\u001b[38;5;249m(\u001b[0m\u001b[38;5;249mS\u001b[0m\u001b[38;5;249mt\u001b[0m\u001b[38;5;249ma\u001b[0m\u001b[38;5;249mt\u001b[0m\u001b[38;5;249mu\u001b[0m\u001b[38;5;249ms\u001b[0m\u001b[38;5;249m:\u001b[0m\u001b[38;5;249m:\u001b[0m\u001b[38;5;249mV\u001b[0m\u001b[38;5;249ma\u001b[0m\u001b[38;5;249ml\u001b[0m\u001b[38;5;249mu\u001b[0m\u001b[38;5;249me\u001b[0m\u001b[38;5;249m)\u001b[0m\u001b[38;5;249m.\u001b[0m\u001b[38;5;54mc\u001b[0m\u001b[38;5;54mo\u001b[0m\u001b[38;5;54ml\u001b[0m\u001b[38;5;54ml\u001b[0m\u001b[38;5;54me\u001b[0m\u001b[38;5;54mc\u001b[0m\u001b[38;5;54mt\u001b[0m\u001b[38;5;249m(\u001b[0m\u001b[38;5;249m)\u001b[0m\u001b[38;5;249m;\u001b[0m",
      " \u001b[38;5;246m  ·\u001b[0m                                                                       \u001b[38;5;54m─\u001b[0m\u001b[38;5;54m─\u001b[0m\u001b[38;5;54m─\u001b[0m\u001b[38;5;54m┬\u001b[0m\u001b[38;5;54m─\u001b[0m\u001b[38;5;54m─\u001b[0m\u001b[38;5;54m─\u001b[0m  ",
      " \u001b[38;5;246m  ·\u001b[0m                                                                          \u001b[38;5;54m╰\u001b[0m\u001b[38;5;54m─\u001b[0m\u001b[38;5;54m─\u001b[0m\u001b[38;5;54m─\u001b[0m\u001b[38;5;54m─\u001b[0m\u001b[38;5;54m─\u001b[0m method cannot be called on `Map<Range<u32>, fn(i32) -> Status {Status::Value}>` due to unsatisfied trait bounds",
      "\u001b[38;5;246m───╯\u001b[0m"
     ]
    }
   ],
   "source": [
    "enum Status {\n",
    "    Value(i32),\n",
    "    Stop,\n",
    "}\n",
    "\n",
    "{\n",
    "    let list_of_statuses: Vec<Status> = (0u32..20).map(Status::Value).collect();\n",
    "}"
   ]
  },
  {
   "attachments": {},
   "cell_type": "markdown",
   "metadata": {},
   "source": [
    "Here we create Status::Value instances using each u32 value in the range that  \n",
    "map is called on by using the initializer function of Status::Value. Some  \n",
    "people prefer this style, and some people prefer to use closures. They compile  \n",
    "to the same code, so use whichever style is clearer to you."
   ]
  },
  {
   "attachments": {},
   "cell_type": "markdown",
   "metadata": {},
   "source": [
    "### Returning Closures\n",
    "\n",
    "Closures are represented by traits, which means you can’t return closures  \n",
    "directly. In most cases where you might want to return a trait, you can instead  \n",
    "use the concrete type that implements the trait as the return value of the  \n",
    "function. However, you can’t do that with closures because they don’t have a  \n",
    "concrete type that is returnable; you’re not allowed to use the function  \n",
    "pointer fn as a return type, for example.\n",
    "\n",
    "The following code tries to return a closure directly, but it won’t compile:"
   ]
  },
  {
   "cell_type": "code",
   "execution_count": 2,
   "metadata": {
    "vscode": {
     "languageId": "rust"
    }
   },
   "outputs": [
    {
     "ename": "Error",
     "evalue": "return type cannot have an unboxed trait object",
     "output_type": "error",
     "traceback": [
      "\u001b[31m[E0746] Error:\u001b[0m return type cannot have an unboxed trait object",
      "   \u001b[38;5;246m╭\u001b[0m\u001b[38;5;246m─\u001b[0m\u001b[38;5;246m[\u001b[0mcommand_2:1:1\u001b[38;5;246m]\u001b[0m",
      "   \u001b[38;5;246m│\u001b[0m",
      " \u001b[38;5;246m1 │\u001b[0m \u001b[38;5;249mf\u001b[0m\u001b[38;5;249mn\u001b[0m\u001b[38;5;249m \u001b[0m\u001b[38;5;249mr\u001b[0m\u001b[38;5;249me\u001b[0m\u001b[38;5;249mt\u001b[0m\u001b[38;5;249mu\u001b[0m\u001b[38;5;249mr\u001b[0m\u001b[38;5;249mn\u001b[0m\u001b[38;5;249m_\u001b[0m\u001b[38;5;249mc\u001b[0m\u001b[38;5;249ml\u001b[0m\u001b[38;5;249mo\u001b[0m\u001b[38;5;249ms\u001b[0m\u001b[38;5;249mu\u001b[0m\u001b[38;5;249mr\u001b[0m\u001b[38;5;249me\u001b[0m\u001b[38;5;249ms\u001b[0m\u001b[38;5;249m(\u001b[0m\u001b[38;5;249m)\u001b[0m\u001b[38;5;249m \u001b[0m\u001b[38;5;249m-\u001b[0m\u001b[38;5;249m>\u001b[0m\u001b[38;5;249m \u001b[0m\u001b[38;5;54md\u001b[0m\u001b[38;5;54my\u001b[0m\u001b[38;5;54mn\u001b[0m\u001b[38;5;54m \u001b[0m\u001b[38;5;54mF\u001b[0m\u001b[38;5;54mn\u001b[0m\u001b[38;5;54m(\u001b[0m\u001b[38;5;54mi\u001b[0m\u001b[38;5;54m3\u001b[0m\u001b[38;5;54m2\u001b[0m\u001b[38;5;54m)\u001b[0m\u001b[38;5;54m \u001b[0m\u001b[38;5;54m-\u001b[0m\u001b[38;5;54m>\u001b[0m\u001b[38;5;54m \u001b[0m\u001b[38;5;54mi\u001b[0m\u001b[38;5;54m3\u001b[0m\u001b[38;5;54m2\u001b[0m\u001b[38;5;249m \u001b[0m\u001b[38;5;249m{\u001b[0m",
      " \u001b[38;5;246m  ·\u001b[0m                         \u001b[38;5;54m─\u001b[0m\u001b[38;5;54m─\u001b[0m\u001b[38;5;54m─\u001b[0m\u001b[38;5;54m─\u001b[0m\u001b[38;5;54m─\u001b[0m\u001b[38;5;54m─\u001b[0m\u001b[38;5;54m─\u001b[0m\u001b[38;5;54m─\u001b[0m\u001b[38;5;54m─\u001b[0m\u001b[38;5;54m┬\u001b[0m\u001b[38;5;54m─\u001b[0m\u001b[38;5;54m─\u001b[0m\u001b[38;5;54m─\u001b[0m\u001b[38;5;54m─\u001b[0m\u001b[38;5;54m─\u001b[0m\u001b[38;5;54m─\u001b[0m\u001b[38;5;54m─\u001b[0m\u001b[38;5;54m─\u001b[0m  ",
      " \u001b[38;5;246m  ·\u001b[0m                                  \u001b[38;5;54m╰\u001b[0m\u001b[38;5;54m─\u001b[0m\u001b[38;5;54m─\u001b[0m\u001b[38;5;54m─\u001b[0m\u001b[38;5;54m─\u001b[0m\u001b[38;5;54m─\u001b[0m\u001b[38;5;54m─\u001b[0m\u001b[38;5;54m─\u001b[0m\u001b[38;5;54m─\u001b[0m\u001b[38;5;54m─\u001b[0m\u001b[38;5;54m─\u001b[0m doesn't have a size known at compile-time",
      " \u001b[38;5;246m  ·\u001b[0m                                  \u001b[38;5;100m│\u001b[0m          ",
      " \u001b[38;5;246m  ·\u001b[0m                                  \u001b[38;5;100m╰\u001b[0m\u001b[38;5;100m─\u001b[0m\u001b[38;5;100m─\u001b[0m\u001b[38;5;100m─\u001b[0m\u001b[38;5;100m─\u001b[0m\u001b[38;5;100m─\u001b[0m\u001b[38;5;100m─\u001b[0m\u001b[38;5;100m─\u001b[0m\u001b[38;5;100m─\u001b[0m\u001b[38;5;100m─\u001b[0m\u001b[38;5;100m─\u001b[0m help: use `impl Fn(i32) -> i32` as the return type, as all return paths are of type `[closure@src/lib.rs:3:5: 3:8]`, which implements `Fn(i32) -> i32`: `impl Fn(i32) -> i32`",
      "\u001b[38;5;246m───╯\u001b[0m"
     ]
    }
   ],
   "source": [
    "fn return_closures() -> dyn Fn(i32) -> i32 {\n",
    "    |x| x + 1\n",
    "}"
   ]
  },
  {
   "attachments": {},
   "cell_type": "markdown",
   "metadata": {},
   "source": [
    "The compiler error is as follows:\n",
    "\n",
    "```sh\n",
    "$ cargo build\n",
    "   Compiling functions-example v0.1.0 (file:///projects/functions-example)\n",
    "error[E0746]: return type cannot have an unboxed trait object\n",
    " --> src/lib.rs:1:25\n",
    "  |\n",
    "1 | fn returns_closure() -> dyn Fn(i32) -> i32 {\n",
    "  |                         ^^^^^^^^^^^^^^^^^^ doesn't have a size known at compile-time\n",
    "  |\n",
    "  = note: for information on `impl Trait`, see <https://doc.rust-lang.org/book/ch10-02-traits.html#returning-types-that-implement-traits>\n",
    "help: use `impl Fn(i32) -> i32` as the return type, as all return paths are of type `[closure@src/lib.rs:2:5: 2:8]`, which implements `Fn(i32) -> i32`\n",
    "  |\n",
    "1 | fn returns_closure() -> impl Fn(i32) -> i32 {\n",
    "  |                         ~~~~~~~~~~~~~~~~~~~\n",
    "\n",
    "For more information about this error, try `rustc --explain E0746`.\n",
    "error: could not compile `functions-example` due to previous error\n",
    "```\n",
    "\n",
    "The error references the Sized trait again! Rust doesn’t know how much space  \n",
    "it will need to store the closure. We saw a solution to this problem earlier.  \n",
    "We can use a trait object:"
   ]
  },
  {
   "cell_type": "code",
   "execution_count": 3,
   "metadata": {
    "vscode": {
     "languageId": "rust"
    }
   },
   "outputs": [],
   "source": [
    "fn return_closure() -> Box<dyn Fn(i32) -> i32> {\n",
    "    Box::new(|x| x + 1)\n",
    "}"
   ]
  },
  {
   "attachments": {},
   "cell_type": "markdown",
   "metadata": {},
   "source": [
    "This code will compile just fine. For more about trait objects, refer to the \n",
    "section “Using Trait Objects That Allow for Values of Different Types” in  \n",
    "Chapter 17.\n",
    "\n",
    "Next, let’s look at macros!"
   ]
  },
  {
   "attachments": {},
   "cell_type": "markdown",
   "metadata": {},
   "source": [
    "Macros\n",
    "---\n",
    "\n",
    "We’ve used macros like `println!` throughout this book, but we haven’t fully  \n",
    "explored what a macro is and how it works. The term macro refers to a family of  \n",
    "features in Rust:  \n",
    "\n",
    "Declarative macros with `macro_rules!` and three kinds of `procedural macros`:\n",
    "\n",
    "- Custom `#[derive] macros` that specify code added with the derive attribute  \n",
    "used on `structs` and `enums`\n",
    "- `Attribute-like macros` that define custom attributes usable on any item\n",
    "- `Function-like macros` that look like function calls but operate on the tokens  \n",
    "specified as their argument\n",
    "\n",
    "We’ll talk about each of these in turn, but first, let’s look at why we even  \n",
    "need macros when we already have functions."
   ]
  },
  {
   "attachments": {},
   "cell_type": "markdown",
   "metadata": {},
   "source": [
    "### The Difference Between Macros and Functions\n",
    "\n",
    "Fundamentally, `macros` are a way of writing code that writes other code, which  \n",
    "is known as `metaprogramming`. In Appendix C, we discuss the derive attribute,  \n",
    "which generates an implementation of various traits for you. We’ve also used  \n",
    "the `println!` and `vec!` macros throughout the book. All of these macros expand  \n",
    "to produce more code than the code you’ve written manually.\n",
    "\n",
    "Metaprogramming is useful for reducing the amount of code you have to write  \n",
    "and maintain, which is also one of the roles of functions. However, macros have  \n",
    "some additional powers that functions don’t.\n",
    "\n",
    "- A function signature `must` declare the `number and type` of parameters the  \n",
    "function has.  \n",
    "- Macros, on the other hand, can take a `variable number` of parameters:  \n",
    "\n",
    "- we can call println!(\"hello\") with one argument  \n",
    "- or println!(\"hello {}\", name) with two arguments.  \n",
    "\n",
    "#### -- Macros are expanded before Compiler interprets code --\n",
    "\n",
    "Also :  \n",
    "\n",
    "- `macros` are expanded `before the compiler` interprets the meaning of the  \n",
    "code,  \n",
    "- so a macro can, for example, `implement a trait` on a given `type`.  \n",
    "- A function can’t, because it gets called at runtime and a trait needs to be  \n",
    "implemented at compile time.\n",
    "\n",
    "#### -- Macros are more COMPLEX to write, read and maintain --\n",
    "\n",
    "The downside to implementing a macro instead of a function is that macro  \n",
    "definitions are more complex than function definitions because you’re  \n",
    "writing Rust code that writes Rust code. Due to this indirection, macro  \n",
    "definitions are generally more difficult to read, understand, and maintain  \n",
    "than function definitions.\n",
    "\n",
    "Another important difference between macros and functions is that you must  \n",
    "define macros or bring them into scope before you call them in a file, as  \n",
    "opposed to functions you can define anywhere and call anywhere (@note :  \n",
    "provided that there's a valid definition)."
   ]
  },
  {
   "attachments": {},
   "cell_type": "markdown",
   "metadata": {},
   "source": [
    "### Declarative Macros with `macro_rules!` for General Metaprogramming\n",
    "\n",
    "The most widely used form of macros in Rust is the `declarative macro`. These  \n",
    "are also sometimes referred to as :  \n",
    "\n",
    "- “macros by example,”  \n",
    "- “macro_rules! macros,”  \n",
    "- or just plain “macros.”  \n",
    "\n",
    "At their core :  \n",
    "\n",
    "- `declarative macros` allow you to write something `similar` to a Rust  \n",
    "`match expression``  \n",
    "\n",
    "As discussed in Chapter 6, match expressions are control structures that take  \n",
    "an expression, compare the resulting value of the expression to patterns, and  \n",
    "then run the code associated with the matching pattern. Macros also compare a  \n",
    "value to patterns that are associated with particular code:  \n",
    "\n",
    "- in this situation, the `value is` the literal Rust `source code` passed to  \n",
    "the macro;  \n",
    "- the `patterns` are compared with the `structure of that source code`;  \n",
    "- and the code associated with each pattern, when matched,  \n",
    "- replaces the code passed to the macro.  \n",
    "\n",
    "This all happens during compilation.\n",
    "\n",
    "To define a macro, you use the `macro_rules!` construct. Let’s explore how to  \n",
    "use `macro_rules!` by looking at how the `vec!` macro is defined. Chapter 8  \n",
    "covered how we can use the `vec!` macro to create a new vector with particular  \n",
    "values. For example, the following macro creates a new vector containing three  \n",
    "integers:  \n",
    "\n",
    "#### -- vec! can build a vector from x number and y type of values --\n",
    "\n",
    "```rust\n",
    "let v: Vec<u32> = vec![1, 2, 3];\n",
    "```\n",
    "\n",
    "We could also use the `vec!` macro to :  \n",
    "\n",
    "- make a vector of two integers  \n",
    "- or a vector of five string slices.  \n",
    "- We wouldn’t be able to use a function to do the same because we wouldn’t know  \n",
    "the number or type of values up front.\n",
    "\n",
    "> Listing 19-28 shows a slightly simplified definition of the vec! macro.\n",
    "\n",
    "> Filename: src/lib.rs"
   ]
  },
  {
   "cell_type": "code",
   "execution_count": 3,
   "metadata": {
    "vscode": {
     "languageId": "rust"
    }
   },
   "outputs": [
    {
     "name": "stdout",
     "output_type": "stream",
     "text": [
      "macro_vec: [4, 2, 5]\n"
     ]
    }
   ],
   "source": [
    "// this macro_export annotation indicates that the macro is part of the the\n",
    "// crate, and should be brought into scope whenever the crate is brought into\n",
    "// @audit-ok : Without this annotation the macro can NOT be brought into scope!\n",
    "#[macro_export]\n",
    "// 'macro_rules!' starts the macro definition\n",
    "// 'vmc' is the name of the macro\n",
    "macro_rules! vmc { // starts the body of the macro\n",
    "                   // with a structure similar to a match expression\n",
    "    // ($( ... ), *) is a one arm with a pattern that if matches will proceed\n",
    "    // to execute the code block => { ... }\n",
    "    // - given that there's only one match here, any other pattern will ERROR\n",
    "    // - more complex macros may have multiple arms\n",
    "    // @audit-ok : Because macro patterns are matched against Rust \n",
    "    // 'code structure' as opposed to 'values', valid match pattern syntax will\n",
    "    // be different than that of a match expression\n",
    "    // - (...) first we encompass the WHOLE pattern in parentheses\n",
    "    // - we then use $( ... ) to declare a variable in the macro system to \n",
    "    // contain Rust code matching pattern\n",
    "    // - the dollar sign $ indicates that this is a 'macro' variable as opposed  \n",
    "    // to a regular variable\n",
    "    // \n",
    "    // - ($( ... ), *) \n",
    "    // - $x:expr => matches any Rust expression and gives it the name $x\n",
    "    // - the comma following $x:expr indicates that ther might be 0 or more \n",
    "    // comma separated expressions that match the pattern\n",
    "    // - the * indicates that the pattern matches 0 or more of the preceeding\n",
    "    ( $( $x:expr ), * ) => {\n",
    "        {\n",
    "            let mut temp_vec = Vec::new();\n",
    "            $(\n",
    "                // code inside this block is generated for each expression that\n",
    "                // matches $x:expr\n",
    "                // - example vmc![1, 2, 3] => $x:expr matches 1, 2, 3\n",
    "                // so each of these values will be pushed to the temp_vec\n",
    "                temp_vec.push($x);\n",
    "            )*\n",
    "            temp_vec\n",
    "        }\n",
    "    };\n",
    "}\n",
    "\n",
    "let macro_vec = vmc![4, 2, 5];\n",
    "println!(\"macro_vec: {:?}\", macro_vec);"
   ]
  },
  {
   "attachments": {},
   "cell_type": "markdown",
   "metadata": {},
   "source": [
    "> Listing 19-28: A simplified version of the vec! macro definition\n",
    "\n",
    "> Note: The actual definition of the vec! macro in the standard library  \n",
    "includes code to preallocate the correct amount of memory up front. That code  \n",
    "is an optimization that we don’t include here to make the example simpler.\n",
    "\n",
    "The `#[macro_export]` annotation indicates that this macro should be made  \n",
    "available whenever the crate in which the macro is defined is brought into  \n",
    "scope. Without this annotation, the macro can’t be brought into scope.\n",
    "\n",
    "We then start the macro definition with `macro_rules!` and the name of the  \n",
    "macro we’re defining without the exclamation mark. The name, in this case `vmc`,  \n",
    "is followed by curly brackets denoting the body of the macro definition.\n",
    "\n",
    "The structure in the `vmc!` body is similar to the structure of a `match`  \n",
    "expression. Here we have one arm with the pattern `( $( $x:expr ),* )`,  \n",
    "followed by `=>` and the `block of code` associated with this pattern. If the  \n",
    "pattern matches, the associated block of code will be emitted. Given that this  \n",
    "is the only pattern in this macro :  \n",
    "\n",
    "- there is only one valid way to match;  \n",
    "- any other pattern will result in an error.  \n",
    "- More complex macros will have more than one arm.\n",
    "\n",
    "Valid pattern syntax in macro definitions is different than the pattern syntax  \n",
    "covered in Chapter 18 because:  \n",
    "- macro patterns are matched against Rust code structure  \n",
    "- rather than values.  \n",
    "\n",
    "Let’s walk through what the pattern pieces in Listing 19-28 mean; for the full  \n",
    "macro pattern syntax, see the Rust Reference.\n",
    "\n",
    "- First we use a set of parentheses to encompass the whole pattern.  \n",
    "- We use a dollar sign `($)` to `declare a variable` in the macro system that  \n",
    "will contain the Rust `code matching the pattern`.  \n",
    "- The `dollar sign` makes it clear this is a `macro` variable as opposed to a  \n",
    "regular Rust variable.  \n",
    "- Next comes a set of parentheses that captures values that match the pattern  \n",
    "within the parentheses for use in the replacement code.  \n",
    "- Within `$()` is `$x:expr`, which matches any Rust expression and gives the  \n",
    "expression the name `$x`.\n",
    "- The `comma` following `$()` indicates that a literal comma separator  \n",
    "character could optionally appear after the code that matches the code in `$()`.  \n",
    "- The `*` specifies that the pattern matches `zero or more` of whatever  \n",
    "precedes the `*`.\n",
    "\n",
    "When we call this macro with `vec![1, 2, 3];`, \n",
    "- the `$x` pattern matches three times  \n",
    "- with the three expressions 1, 2, and 3.\n",
    "\n",
    "Now let’s look at the pattern in the body of the code associated with this arm:  \n",
    "\n",
    "- `temp_vec.push()` within `$()*` is generated for each part that `matches $()`  \n",
    "in the pattern zero or more times depending on how many times the pattern  \n",
    "matches. \n",
    "- The `$x` is replaced with each expression matched.  \n",
    "- When we call this macro with `vec![1, 2, 3];`, the code generated that  \n",
    "replaces this macro call will be the following:"
   ]
  },
  {
   "cell_type": "code",
   "execution_count": 4,
   "metadata": {
    "vscode": {
     "languageId": "rust"
    }
   },
   "outputs": [
    {
     "data": {
      "text/plain": [
       "[1, 2, 3]"
      ]
     },
     "execution_count": 4,
     "metadata": {},
     "output_type": "execute_result"
    }
   ],
   "source": [
    "{\n",
    "    let mut temp_vec = Vec::new();\n",
    "    temp_vec.push(1);\n",
    "    temp_vec.push(2);\n",
    "    temp_vec.push(3);\n",
    "    temp_vec\n",
    "}"
   ]
  },
  {
   "attachments": {},
   "cell_type": "markdown",
   "metadata": {},
   "source": [
    "We’ve defined a macro that can take any number of arguments of any type and can  \n",
    "generate code to create a vector containing the specified elements.\n",
    "\n",
    "To learn more about how to write macros, consult the online documentation or  \n",
    "other resources, such as “The Little Book of Rust Macros” started by Daniel Keep  \n",
    "and continued by Lukas Wirth."
   ]
  },
  {
   "attachments": {},
   "cell_type": "markdown",
   "metadata": {},
   "source": [
    "### Procedural Macros for Generating Code from Attributes\n",
    "\n",
    "The second form of macros is the `procedural macro`, which acts more like a  \n",
    "`function` (and is a type of procedure).  \n",
    "\n",
    "Procedural macros :  \n",
    "\n",
    "- accept some code as an input,  \n",
    "- operate on that code,  \n",
    "- and produce some code as an output  \n",
    "\n",
    "Rather than matching against patterns and replacing the code with other code  \n",
    "as declarative macros do.  \n",
    "\n",
    "The three kinds of procedural macros are : \n",
    "\n",
    "- custom derive,  \n",
    "- attribute-like,  \n",
    "- and function-like,  \n",
    "- and all work in a similar fashion.\n",
    "\n",
    "#### -- COMPLEX TECHNICAL REASONS F**KING my JUPYTER CELL LOL --\n",
    "\n",
    "When creating procedural macros, the definitions must reside in their own crate  \n",
    "with a special crate type. This is for complex technical reasons that we hope  \n",
    "to eliminate in the future. In Listing 19-29, we show how to define a  \n",
    "procedural macro, where some_attribute is a placeholder for using a specific  \n",
    "macro variety.\n",
    "\n",
    "> Filename: src/lib.rs"
   ]
  },
  {
   "cell_type": "code",
   "execution_count": 5,
   "metadata": {
    "vscode": {
     "languageId": "rust"
    }
   },
   "outputs": [
    {
     "ename": "Error",
     "evalue": "cannot find attribute `some_attribute` in this scope",
     "output_type": "error",
     "traceback": [
      "\u001b[31mError:\u001b[0m cannot find attribute `some_attribute` in this scope",
      "   \u001b[38;5;246m╭\u001b[0m\u001b[38;5;246m─\u001b[0m\u001b[38;5;246m[\u001b[0mcommand_5:1:1\u001b[38;5;246m]\u001b[0m",
      "   \u001b[38;5;246m│\u001b[0m",
      " \u001b[38;5;246m3 │\u001b[0m \u001b[38;5;249m#\u001b[0m\u001b[38;5;249m[\u001b[0m\u001b[38;5;54ms\u001b[0m\u001b[38;5;54mo\u001b[0m\u001b[38;5;54mm\u001b[0m\u001b[38;5;54me\u001b[0m\u001b[38;5;54m_\u001b[0m\u001b[38;5;54ma\u001b[0m\u001b[38;5;54mt\u001b[0m\u001b[38;5;54mt\u001b[0m\u001b[38;5;54mr\u001b[0m\u001b[38;5;54mi\u001b[0m\u001b[38;5;54mb\u001b[0m\u001b[38;5;54mu\u001b[0m\u001b[38;5;54mt\u001b[0m\u001b[38;5;54me\u001b[0m\u001b[38;5;249m]\u001b[0m",
      " \u001b[38;5;246m  ·\u001b[0m   \u001b[38;5;54m─\u001b[0m\u001b[38;5;54m─\u001b[0m\u001b[38;5;54m─\u001b[0m\u001b[38;5;54m─\u001b[0m\u001b[38;5;54m─\u001b[0m\u001b[38;5;54m─\u001b[0m\u001b[38;5;54m─\u001b[0m\u001b[38;5;54m┬\u001b[0m\u001b[38;5;54m─\u001b[0m\u001b[38;5;54m─\u001b[0m\u001b[38;5;54m─\u001b[0m\u001b[38;5;54m─\u001b[0m\u001b[38;5;54m─\u001b[0m\u001b[38;5;54m─\u001b[0m  ",
      " \u001b[38;5;246m  ·\u001b[0m          \u001b[38;5;54m╰\u001b[0m\u001b[38;5;54m─\u001b[0m\u001b[38;5;54m─\u001b[0m\u001b[38;5;54m─\u001b[0m\u001b[38;5;54m─\u001b[0m\u001b[38;5;54m─\u001b[0m\u001b[38;5;54m─\u001b[0m\u001b[38;5;54m─\u001b[0m\u001b[38;5;54m─\u001b[0m error: cannot find attribute `some_attribute` in this scope",
      "\u001b[38;5;246m───╯\u001b[0m"
     ]
    },
    {
     "ename": "Error",
     "evalue": "cannot find type `TokenStream` in this scope",
     "output_type": "error",
     "traceback": [
      "\u001b[31m[E0412] Error:\u001b[0m cannot find type `TokenStream` in this scope",
      "   \u001b[38;5;246m╭\u001b[0m\u001b[38;5;246m─\u001b[0m\u001b[38;5;246m[\u001b[0mcommand_5:1:1\u001b[38;5;246m]\u001b[0m",
      "   \u001b[38;5;246m│\u001b[0m",
      " \u001b[38;5;246m4 │\u001b[0m \u001b[38;5;249mp\u001b[0m\u001b[38;5;249mu\u001b[0m\u001b[38;5;249mb\u001b[0m\u001b[38;5;249m \u001b[0m\u001b[38;5;249mf\u001b[0m\u001b[38;5;249mn\u001b[0m\u001b[38;5;249m \u001b[0m\u001b[38;5;249ms\u001b[0m\u001b[38;5;249mo\u001b[0m\u001b[38;5;249mm\u001b[0m\u001b[38;5;249me\u001b[0m\u001b[38;5;249m_\u001b[0m\u001b[38;5;249mn\u001b[0m\u001b[38;5;249ma\u001b[0m\u001b[38;5;249mm\u001b[0m\u001b[38;5;249me\u001b[0m\u001b[38;5;249m(\u001b[0m\u001b[38;5;249m \u001b[0m\u001b[38;5;249mi\u001b[0m\u001b[38;5;249mn\u001b[0m\u001b[38;5;249mp\u001b[0m\u001b[38;5;249mu\u001b[0m\u001b[38;5;249mt\u001b[0m\u001b[38;5;249m:\u001b[0m\u001b[38;5;249m \u001b[0m\u001b[38;5;54mT\u001b[0m\u001b[38;5;54mo\u001b[0m\u001b[38;5;54mk\u001b[0m\u001b[38;5;54me\u001b[0m\u001b[38;5;54mn\u001b[0m\u001b[38;5;54mS\u001b[0m\u001b[38;5;54mt\u001b[0m\u001b[38;5;54mr\u001b[0m\u001b[38;5;54me\u001b[0m\u001b[38;5;54ma\u001b[0m\u001b[38;5;54mm\u001b[0m\u001b[38;5;249m \u001b[0m\u001b[38;5;249m)\u001b[0m\u001b[38;5;249m \u001b[0m\u001b[38;5;249m-\u001b[0m\u001b[38;5;249m>\u001b[0m\u001b[38;5;249m \u001b[0m\u001b[38;5;249mT\u001b[0m\u001b[38;5;249mo\u001b[0m\u001b[38;5;249mk\u001b[0m\u001b[38;5;249me\u001b[0m\u001b[38;5;249mn\u001b[0m\u001b[38;5;249mS\u001b[0m\u001b[38;5;249mt\u001b[0m\u001b[38;5;249mr\u001b[0m\u001b[38;5;249me\u001b[0m\u001b[38;5;249ma\u001b[0m\u001b[38;5;249mm\u001b[0m\u001b[38;5;249m \u001b[0m\u001b[38;5;249m{\u001b[0m",
      " \u001b[38;5;246m  ·\u001b[0m                          \u001b[38;5;54m─\u001b[0m\u001b[38;5;54m─\u001b[0m\u001b[38;5;54m─\u001b[0m\u001b[38;5;54m─\u001b[0m\u001b[38;5;54m─\u001b[0m\u001b[38;5;54m┬\u001b[0m\u001b[38;5;54m─\u001b[0m\u001b[38;5;54m─\u001b[0m\u001b[38;5;54m─\u001b[0m\u001b[38;5;54m─\u001b[0m\u001b[38;5;54m─\u001b[0m  ",
      " \u001b[38;5;246m  ·\u001b[0m                               \u001b[38;5;54m╰\u001b[0m\u001b[38;5;54m─\u001b[0m\u001b[38;5;54m─\u001b[0m\u001b[38;5;54m─\u001b[0m\u001b[38;5;54m─\u001b[0m\u001b[38;5;54m─\u001b[0m\u001b[38;5;54m─\u001b[0m\u001b[38;5;54m─\u001b[0m not found in this scope",
      "\u001b[38;5;246m───╯\u001b[0m"
     ]
    },
    {
     "ename": "Error",
     "evalue": "cannot find type `TokenStream` in this scope",
     "output_type": "error",
     "traceback": [
      "\u001b[31m[E0412] Error:\u001b[0m cannot find type `TokenStream` in this scope",
      "   \u001b[38;5;246m╭\u001b[0m\u001b[38;5;246m─\u001b[0m\u001b[38;5;246m[\u001b[0mcommand_5:1:1\u001b[38;5;246m]\u001b[0m",
      "   \u001b[38;5;246m│\u001b[0m",
      " \u001b[38;5;246m4 │\u001b[0m \u001b[38;5;249mp\u001b[0m\u001b[38;5;249mu\u001b[0m\u001b[38;5;249mb\u001b[0m\u001b[38;5;249m \u001b[0m\u001b[38;5;249mf\u001b[0m\u001b[38;5;249mn\u001b[0m\u001b[38;5;249m \u001b[0m\u001b[38;5;249ms\u001b[0m\u001b[38;5;249mo\u001b[0m\u001b[38;5;249mm\u001b[0m\u001b[38;5;249me\u001b[0m\u001b[38;5;249m_\u001b[0m\u001b[38;5;249mn\u001b[0m\u001b[38;5;249ma\u001b[0m\u001b[38;5;249mm\u001b[0m\u001b[38;5;249me\u001b[0m\u001b[38;5;249m(\u001b[0m\u001b[38;5;249m \u001b[0m\u001b[38;5;249mi\u001b[0m\u001b[38;5;249mn\u001b[0m\u001b[38;5;249mp\u001b[0m\u001b[38;5;249mu\u001b[0m\u001b[38;5;249mt\u001b[0m\u001b[38;5;249m:\u001b[0m\u001b[38;5;249m \u001b[0m\u001b[38;5;249mT\u001b[0m\u001b[38;5;249mo\u001b[0m\u001b[38;5;249mk\u001b[0m\u001b[38;5;249me\u001b[0m\u001b[38;5;249mn\u001b[0m\u001b[38;5;249mS\u001b[0m\u001b[38;5;249mt\u001b[0m\u001b[38;5;249mr\u001b[0m\u001b[38;5;249me\u001b[0m\u001b[38;5;249ma\u001b[0m\u001b[38;5;249mm\u001b[0m\u001b[38;5;249m \u001b[0m\u001b[38;5;249m)\u001b[0m\u001b[38;5;249m \u001b[0m\u001b[38;5;249m-\u001b[0m\u001b[38;5;249m>\u001b[0m\u001b[38;5;249m \u001b[0m\u001b[38;5;54mT\u001b[0m\u001b[38;5;54mo\u001b[0m\u001b[38;5;54mk\u001b[0m\u001b[38;5;54me\u001b[0m\u001b[38;5;54mn\u001b[0m\u001b[38;5;54mS\u001b[0m\u001b[38;5;54mt\u001b[0m\u001b[38;5;54mr\u001b[0m\u001b[38;5;54me\u001b[0m\u001b[38;5;54ma\u001b[0m\u001b[38;5;54mm\u001b[0m\u001b[38;5;249m \u001b[0m\u001b[38;5;249m{\u001b[0m",
      " \u001b[38;5;246m  ·\u001b[0m                                           \u001b[38;5;54m─\u001b[0m\u001b[38;5;54m─\u001b[0m\u001b[38;5;54m─\u001b[0m\u001b[38;5;54m─\u001b[0m\u001b[38;5;54m─\u001b[0m\u001b[38;5;54m┬\u001b[0m\u001b[38;5;54m─\u001b[0m\u001b[38;5;54m─\u001b[0m\u001b[38;5;54m─\u001b[0m\u001b[38;5;54m─\u001b[0m\u001b[38;5;54m─\u001b[0m  ",
      " \u001b[38;5;246m  ·\u001b[0m                                                \u001b[38;5;54m╰\u001b[0m\u001b[38;5;54m─\u001b[0m\u001b[38;5;54m─\u001b[0m\u001b[38;5;54m─\u001b[0m\u001b[38;5;54m─\u001b[0m\u001b[38;5;54m─\u001b[0m\u001b[38;5;54m─\u001b[0m\u001b[38;5;54m─\u001b[0m not found in this scope",
      "\u001b[38;5;246m───╯\u001b[0m"
     ]
    }
   ],
   "source": [
    "use proc_macro;\n",
    "\n",
    "#[some_attribute]\n",
    "pub fn some_name( input: TokenStream ) -> TokenStream {\n",
    "    // --snip--\n",
    "}"
   ]
  },
  {
   "attachments": {},
   "cell_type": "markdown",
   "metadata": {},
   "source": [
    "> Listing 19-29: An example of defining a procedural macro\n",
    "\n",
    "The function that defines a procedural macro :  \n",
    "\n",
    "- takes a `TokenStream` as an input  \n",
    "- and produces a `TokenStream` as an output.  \n",
    "\n",
    "The TokenStream type is defined by the `proc_macro` crate that is included with  \n",
    "Rust and represents a sequence of tokens.  \n",
    "\n",
    "This is the core of the macro:  \n",
    "\n",
    "- the source code that the macro is operating on makes up the input  \n",
    "`TokenStream`, \n",
    "- and the code the macro produces is the output `TokenStream`.  \n",
    "\n",
    "The function also has an attribute attached to it that specifies which kind of  \n",
    "procedural macro we’re creating. We can have multiple kinds of procedural  \n",
    "macros in the same crate.\n",
    "\n",
    "Let’s look at the different kinds of procedural macros. We’ll start with a  \n",
    "custom derive macro and then explain the small dissimilarities that make the  \n",
    "other forms different."
   ]
  },
  {
   "attachments": {},
   "cell_type": "markdown",
   "metadata": {},
   "source": [
    "### How to Write a Custom `derive` Macro\n",
    "\n",
    "Let’s create :  \n",
    "\n",
    "- a crate named `hello_macro`  \n",
    "- that defines a `trait` named `HelloMacro` \n",
    "- with one associated function named `hello_macro`.  \n",
    "\n",
    "Rather than making our users :  \n",
    "\n",
    "- implement the `HelloMacro` trait for each of their types,  \n",
    "- we’ll provide a procedural macro so users can annotate their type with  \n",
    "`#[derive(HelloMacro)]`  \n",
    "- to get a default implementation of the `hello_macro` function.  \n",
    "\n",
    "The default implementation will print :  \n",
    "\n",
    "- Hello, Macro! My name is TypeName!  \n",
    "- where TypeName is the name of the type on which this trait has been defined.  \n",
    "\n",
    "In other words, we’ll write a crate that enables another programmer to write  \n",
    "code like Listing 19-30 using our crate.\n",
    "\n",
    "> Filename: src/main.rs"
   ]
  },
  {
   "cell_type": "code",
   "execution_count": 6,
   "metadata": {
    "vscode": {
     "languageId": "rust"
    }
   },
   "outputs": [
    {
     "ename": "Error",
     "evalue": "unresolved import `hello_macro_derive`",
     "output_type": "error",
     "traceback": [
      "\u001b[31m[E0432] Error:\u001b[0m unresolved import `hello_macro_derive`"
     ]
    },
    {
     "ename": "Error",
     "evalue": "cannot determine resolution for the derive macro `HelloMacro`",
     "output_type": "error",
     "traceback": [
      "\u001b[31mError:\u001b[0m cannot determine resolution for the derive macro `HelloMacro`",
      "   \u001b[38;5;246m╭\u001b[0m\u001b[38;5;246m─\u001b[0m\u001b[38;5;246m[\u001b[0mcommand_6:1:1\u001b[38;5;246m]\u001b[0m",
      "   \u001b[38;5;246m│\u001b[0m",
      " \u001b[38;5;246m4 │\u001b[0m \u001b[38;5;249m#\u001b[0m\u001b[38;5;249m[\u001b[0m\u001b[38;5;249md\u001b[0m\u001b[38;5;249me\u001b[0m\u001b[38;5;249mr\u001b[0m\u001b[38;5;249mi\u001b[0m\u001b[38;5;249mv\u001b[0m\u001b[38;5;249me\u001b[0m\u001b[38;5;249m(\u001b[0m\u001b[38;5;54mH\u001b[0m\u001b[38;5;54me\u001b[0m\u001b[38;5;54ml\u001b[0m\u001b[38;5;54ml\u001b[0m\u001b[38;5;54mo\u001b[0m\u001b[38;5;54mM\u001b[0m\u001b[38;5;54ma\u001b[0m\u001b[38;5;54mc\u001b[0m\u001b[38;5;54mr\u001b[0m\u001b[38;5;54mo\u001b[0m\u001b[38;5;249m)\u001b[0m\u001b[38;5;249m]\u001b[0m",
      " \u001b[38;5;246m  ·\u001b[0m          \u001b[38;5;54m─\u001b[0m\u001b[38;5;54m─\u001b[0m\u001b[38;5;54m─\u001b[0m\u001b[38;5;54m─\u001b[0m\u001b[38;5;54m─\u001b[0m\u001b[38;5;54m┬\u001b[0m\u001b[38;5;54m─\u001b[0m\u001b[38;5;54m─\u001b[0m\u001b[38;5;54m─\u001b[0m\u001b[38;5;54m─\u001b[0m  ",
      " \u001b[38;5;246m  ·\u001b[0m               \u001b[38;5;54m╰\u001b[0m\u001b[38;5;54m─\u001b[0m\u001b[38;5;54m─\u001b[0m\u001b[38;5;54m─\u001b[0m\u001b[38;5;54m─\u001b[0m\u001b[38;5;54m─\u001b[0m\u001b[38;5;54m─\u001b[0m error: cannot determine resolution for the derive macro `HelloMacro`",
      "\u001b[38;5;246m───╯\u001b[0m"
     ]
    },
    {
     "ename": "Error",
     "evalue": "no function or associated item named `hello_macro` found for struct `Pancakes` in the current scope",
     "output_type": "error",
     "traceback": [
      "\u001b[31m[E0599] Error:\u001b[0m no function or associated item named `hello_macro` found for struct `Pancakes` in the current scope",
      "   \u001b[38;5;246m╭\u001b[0m\u001b[38;5;246m─\u001b[0m\u001b[38;5;246m[\u001b[0mcommand_6:1:1\u001b[38;5;246m]\u001b[0m",
      "   \u001b[38;5;246m│\u001b[0m",
      " \u001b[38;5;246m5 │\u001b[0m \u001b[38;5;54ms\u001b[0m\u001b[38;5;54mt\u001b[0m\u001b[38;5;54mr\u001b[0m\u001b[38;5;54mu\u001b[0m\u001b[38;5;54mc\u001b[0m\u001b[38;5;54mt\u001b[0m\u001b[38;5;54m \u001b[0m\u001b[38;5;54mP\u001b[0m\u001b[38;5;54ma\u001b[0m\u001b[38;5;54mn\u001b[0m\u001b[38;5;54mc\u001b[0m\u001b[38;5;54ma\u001b[0m\u001b[38;5;54mk\u001b[0m\u001b[38;5;54me\u001b[0m\u001b[38;5;54ms\u001b[0m\u001b[38;5;249m;\u001b[0m",
      " \u001b[38;5;246m  ·\u001b[0m \u001b[38;5;54m─\u001b[0m\u001b[38;5;54m─\u001b[0m\u001b[38;5;54m─\u001b[0m\u001b[38;5;54m─\u001b[0m\u001b[38;5;54m─\u001b[0m\u001b[38;5;54m─\u001b[0m\u001b[38;5;54m─\u001b[0m\u001b[38;5;54m┬\u001b[0m\u001b[38;5;54m─\u001b[0m\u001b[38;5;54m─\u001b[0m\u001b[38;5;54m─\u001b[0m\u001b[38;5;54m─\u001b[0m\u001b[38;5;54m─\u001b[0m\u001b[38;5;54m─\u001b[0m\u001b[38;5;54m─\u001b[0m  ",
      " \u001b[38;5;246m  ·\u001b[0m        \u001b[38;5;54m╰\u001b[0m\u001b[38;5;54m─\u001b[0m\u001b[38;5;54m─\u001b[0m\u001b[38;5;54m─\u001b[0m\u001b[38;5;54m─\u001b[0m\u001b[38;5;54m─\u001b[0m\u001b[38;5;54m─\u001b[0m\u001b[38;5;54m─\u001b[0m\u001b[38;5;54m─\u001b[0m\u001b[38;5;54m─\u001b[0m function or associated item `hello_macro` not found for this struct",
      " \u001b[38;5;246m  ·\u001b[0m ",
      " \u001b[38;5;246m8 │\u001b[0m \u001b[38;5;249m \u001b[0m\u001b[38;5;249m \u001b[0m\u001b[38;5;249m \u001b[0m\u001b[38;5;249m \u001b[0m\u001b[38;5;249mP\u001b[0m\u001b[38;5;249ma\u001b[0m\u001b[38;5;249mn\u001b[0m\u001b[38;5;249mc\u001b[0m\u001b[38;5;249ma\u001b[0m\u001b[38;5;249mk\u001b[0m\u001b[38;5;249me\u001b[0m\u001b[38;5;249ms\u001b[0m\u001b[38;5;249m:\u001b[0m\u001b[38;5;249m:\u001b[0m\u001b[38;5;100mh\u001b[0m\u001b[38;5;100me\u001b[0m\u001b[38;5;100ml\u001b[0m\u001b[38;5;100ml\u001b[0m\u001b[38;5;100mo\u001b[0m\u001b[38;5;100m_\u001b[0m\u001b[38;5;100mm\u001b[0m\u001b[38;5;100ma\u001b[0m\u001b[38;5;100mc\u001b[0m\u001b[38;5;100mr\u001b[0m\u001b[38;5;100mo\u001b[0m\u001b[38;5;249m(\u001b[0m\u001b[38;5;249m)\u001b[0m\u001b[38;5;249m;\u001b[0m",
      " \u001b[38;5;246m  ·\u001b[0m               \u001b[38;5;100m─\u001b[0m\u001b[38;5;100m─\u001b[0m\u001b[38;5;100m─\u001b[0m\u001b[38;5;100m─\u001b[0m\u001b[38;5;100m─\u001b[0m\u001b[38;5;100m┬\u001b[0m\u001b[38;5;100m─\u001b[0m\u001b[38;5;100m─\u001b[0m\u001b[38;5;100m─\u001b[0m\u001b[38;5;100m─\u001b[0m\u001b[38;5;100m─\u001b[0m  ",
      " \u001b[38;5;246m  ·\u001b[0m                    \u001b[38;5;100m╰\u001b[0m\u001b[38;5;100m─\u001b[0m\u001b[38;5;100m─\u001b[0m\u001b[38;5;100m─\u001b[0m\u001b[38;5;100m─\u001b[0m\u001b[38;5;100m─\u001b[0m\u001b[38;5;100m─\u001b[0m\u001b[38;5;100m─\u001b[0m function or associated item not found in `Pancakes`",
      "\u001b[38;5;246m───╯\u001b[0m"
     ]
    }
   ],
   "source": [
    "use hello_macro::HelloMacro;\n",
    "use hello_macro_derive::HelloMacro;\n",
    "\n",
    "#[derive(HelloMacro)]\n",
    "struct Pancakes;\n",
    "\n",
    "{\n",
    "    Pancakes::hello_macro();\n",
    "}"
   ]
  },
  {
   "attachments": {},
   "cell_type": "markdown",
   "metadata": {},
   "source": [
    "> Listing 19-30: The code a user of our crate will be able to write when using  \n",
    "our procedural macro\n",
    "\n",
    "This code will print Hello, Macro! My name is Pancakes! when we’re done. The  \n",
    "first step is to make a new library crate, like this:\n",
    "\n",
    "```sh\n",
    "$ cargo new hello_macro --lib\n",
    "```\n",
    "\n",
    "Next, we’ll define the HelloMacro trait and its associated function:\n",
    "\n",
    "> Filename: src/lib.rs // actually in hello_macro/src/lib.rs\n",
    "\n",
    "```rust\n",
    "pub trait HelloMacro {\n",
    "    fn hello_macro();\n",
    "}\n",
    "```\n",
    "\n",
    "We have a trait and its function. At this point, our crate user could implement  \n",
    "the trait to achieve the desired functionality, like so:"
   ]
  },
  {
   "cell_type": "code",
   "execution_count": 8,
   "metadata": {
    "vscode": {
     "languageId": "rust"
    }
   },
   "outputs": [
    {
     "ename": "Error",
     "evalue": "unresolved import `hello_macro`",
     "output_type": "error",
     "traceback": [
      "\u001b[31m[E0432] Error:\u001b[0m unresolved import `hello_macro`"
     ]
    }
   ],
   "source": [
    "use hello_macro::HelloMacro;\n",
    "\n",
    "struct Pancakes;\n",
    "\n",
    "impl HelloMacro for Pancakes {\n",
    "    fn hello_macro() {\n",
    "        println!(\"Hello, Macro! My name is Pancakes!\");\n",
    "    }\n",
    "}\n",
    "\n",
    "fn main() {\n",
    "    Pancakes::hello_macro();\n",
    "}"
   ]
  },
  {
   "attachments": {},
   "cell_type": "markdown",
   "metadata": {},
   "source": [
    "However, they would need to write the implementation block for each type they  \n",
    "wanted to use with hello_macro; we want to spare them from having to do this  \n",
    "work.\n",
    "\n",
    "Additionally, we can’t yet provide the hello_macro function with default  \n",
    "implementation that will print the name of the type the trait is implemented  \n",
    "on: Rust doesn’t have reflection capabilities, so it can’t look up the type’s  \n",
    "name at runtime. We need a macro to generate code at compile time.\n",
    "\n",
    "The next step is to define the procedural macro. At the time of this writing,  \n",
    "procedural macros need to be in their own crate. Eventually, this restriction  \n",
    "might be lifted. The convention for structuring crates and macro crates is as  \n",
    "follows:  \n",
    "\n",
    "- for a crate named foo,  \n",
    "- a custom derive procedural macro crate is called foo_derive.  \n",
    "\n",
    "Let’s start a new crate called hello_macro_derive inside our hello_macro  \n",
    "project:\n",
    "\n",
    "```sh\n",
    "$ cargo new hello_macro_derive --lib\n",
    "```\n",
    "\n",
    "Our two crates are tightly related, so we create the procedural macro crate  \n",
    "within the directory of our hello_macro crate. If we change the trait definition  \n",
    "in hello_macro, we’ll have to change the implementation of the procedural macro  \n",
    "in hello_macro_derive as well. The two crates will need to be published  \n",
    "separately, and programmers using these crates will need to add both as  \n",
    "dependencies and bring them both into scope. We could instead have the  \n",
    "hello_macro crate use hello_macro_derive as a dependency and re-export the  \n",
    "procedural macro code. However, the way we’ve structured the project makes it  \n",
    "possible for programmers to use hello_macro even if they don’t want the derive  \n",
    "functionality.\n",
    "\n",
    "We need to declare the hello_macro_derive crate as a procedural macro crate.  \n",
    "We’ll also need functionality from the syn and quote crates, as you’ll see in a  \n",
    "moment, so we need to add them as dependencies. Add the following to the  \n",
    "Cargo.toml file for hello_macro_derive:\n",
    "\n",
    "> Filename: hello_macro_derive/Cargo.toml"
   ]
  },
  {
   "attachments": {},
   "cell_type": "markdown",
   "metadata": {},
   "source": [
    "```toml\n",
    "[lib]\n",
    "proc-macro = true\n",
    "\n",
    "[dependencies]\n",
    "syn = \"1.0\"\n",
    "quote = \"1.0\"\n",
    "```"
   ]
  },
  {
   "attachments": {},
   "cell_type": "markdown",
   "metadata": {},
   "source": [
    "To start defining the procedural macro, place the code in Listing 19-31 into  \n",
    "your src/lib.rs file for the hello_macro_derive crate. Note that this code  \n",
    "won’t compile until we add a definition for the impl_hello_macro function.\n",
    "\n",
    "Filename: hello_macro_derive/src/lib.rs"
   ]
  },
  {
   "cell_type": "code",
   "execution_count": null,
   "metadata": {
    "vscode": {
     "languageId": "rust"
    }
   },
   "outputs": [],
   "source": [
    "use proc_macro::TokenStream;\n",
    "use quote::quote;\n",
    "use syn;\n",
    "\n",
    "#[proc_macro_derive(HelloMacro)]\n",
    "pub fn hello_macro_derive(input: TokenStream) -> TokenStream {\n",
    "    // Construct a representation of Rust code as a syntax tree\n",
    "    // that we can manipulate\n",
    "    let ast = syn::parse(input).unwrap();\n",
    "\n",
    "    // Build the trait implementation\n",
    "    impl_hello_macro(&ast)\n",
    "}"
   ]
  },
  {
   "attachments": {},
   "cell_type": "markdown",
   "metadata": {},
   "source": [
    "> Listing 19-31: Code that most procedural macro crates will require in order  \n",
    "to process Rust code\n",
    "\n",
    "Notice that we’ve split the code into the hello_macro_derive function, which is  \n",
    "responsible for parsing the TokenStream, and the impl_hello_macro function,  \n",
    "which is responsible for transforming the syntax tree: this makes writing a  \n",
    "procedural macro more convenient. The code in the outer function  \n",
    "(hello_macro_derive in this case) will be the same for almost every procedural  \n",
    "macro crate you see or create. The code you specify in the body of the inner  \n",
    "function (impl_hello_macro in this case) will be different depending on your  \n",
    "procedural macro’s purpose.\n",
    "\n",
    "We’ve introduced three new crates:  \n",
    "\n",
    "- proc_macro,  \n",
    "- syn, and  \n",
    "- quote.  \n",
    "\n",
    "The proc_macro crate comes with Rust, so we didn’t need to add that to the  \n",
    "dependencies in Cargo.toml. The proc_macro crate is the compiler’s API that  \n",
    "allows us to read and manipulate Rust code from our code.\n",
    "\n",
    "The syn crate parses Rust code from a string into a data structure that we can  \n",
    "perform operations on. The quote crate turns syn data structures back into Rust  \n",
    "code. These crates make it much simpler to parse any sort of Rust code we might  \n",
    "want to handle: writing a full parser for Rust code is no simple task.\n",
    "\n",
    "The hello_macro_derive function will be called when a user of our library  \n",
    "specifies #[derive(HelloMacro)] on a type. This is possible because we’ve  \n",
    "annotated the hello_macro_derive function here with proc_macro_derive and  \n",
    "specified the name HelloMacro, which matches our trait name; this is the  \n",
    "convention most procedural macros follow.\n",
    "\n",
    "The hello_macro_derive function first converts the input from a TokenStream to  \n",
    "a data structure that we can then interpret and perform operations on. This is  \n",
    "where syn comes into play. The parse function in syn takes a TokenStream and  \n",
    "returns a DeriveInput struct representing the parsed Rust code. Listing 19-32  \n",
    "shows the relevant parts of the DeriveInput struct we get from parsing the  \n",
    "struct Pancakes; string:"
   ]
  },
  {
   "cell_type": "code",
   "execution_count": 9,
   "metadata": {
    "vscode": {
     "languageId": "rust"
    }
   },
   "outputs": [
    {
     "ename": "Error",
     "evalue": "expected one of `!` or `[`, found `0`",
     "output_type": "error",
     "traceback": [
      "\u001b[31mError:\u001b[0m expected one of `!` or `[`, found `0`",
      "   \u001b[38;5;246m╭\u001b[0m\u001b[38;5;246m─\u001b[0m\u001b[38;5;246m[\u001b[0mcommand_9:1:1\u001b[38;5;246m]\u001b[0m",
      "   \u001b[38;5;246m│\u001b[0m",
      " \u001b[38;5;246m4 │\u001b[0m \u001b[38;5;249m \u001b[0m\u001b[38;5;249m \u001b[0m\u001b[38;5;249m \u001b[0m\u001b[38;5;249m \u001b[0m\u001b[38;5;249mi\u001b[0m\u001b[38;5;249md\u001b[0m\u001b[38;5;249me\u001b[0m\u001b[38;5;249mn\u001b[0m\u001b[38;5;249mt\u001b[0m\u001b[38;5;249m:\u001b[0m\u001b[38;5;249m \u001b[0m\u001b[38;5;100mI\u001b[0m\u001b[38;5;100md\u001b[0m\u001b[38;5;100me\u001b[0m\u001b[38;5;100mn\u001b[0m\u001b[38;5;100mt\u001b[0m\u001b[38;5;249m \u001b[0m\u001b[38;5;249m{\u001b[0m",
      " \u001b[38;5;246m  ·\u001b[0m            \u001b[38;5;100m─\u001b[0m\u001b[38;5;100m─\u001b[0m\u001b[38;5;100m┬\u001b[0m\u001b[38;5;100m─\u001b[0m\u001b[38;5;100m─\u001b[0m  ",
      " \u001b[38;5;246m  ·\u001b[0m              \u001b[38;5;100m╰\u001b[0m\u001b[38;5;100m─\u001b[0m\u001b[38;5;100m─\u001b[0m\u001b[38;5;100m─\u001b[0m\u001b[38;5;100m─\u001b[0m while parsing this struct",
      " \u001b[38;5;246m  ·\u001b[0m ",
      " \u001b[38;5;246m6 │\u001b[0m \u001b[38;5;249m \u001b[0m\u001b[38;5;249m \u001b[0m\u001b[38;5;249m \u001b[0m\u001b[38;5;249m \u001b[0m\u001b[38;5;249m \u001b[0m\u001b[38;5;249m \u001b[0m\u001b[38;5;249m \u001b[0m\u001b[38;5;249m \u001b[0m\u001b[38;5;249ms\u001b[0m\u001b[38;5;249mp\u001b[0m\u001b[38;5;249ma\u001b[0m\u001b[38;5;249mn\u001b[0m\u001b[38;5;249m:\u001b[0m\u001b[38;5;249m \u001b[0m\u001b[38;5;249m#\u001b[0m\u001b[38;5;54m0\u001b[0m\u001b[38;5;249m \u001b[0m\u001b[38;5;249mb\u001b[0m\u001b[38;5;249my\u001b[0m\u001b[38;5;249mt\u001b[0m\u001b[38;5;249me\u001b[0m\u001b[38;5;249ms\u001b[0m\u001b[38;5;249m(\u001b[0m\u001b[38;5;249m9\u001b[0m\u001b[38;5;249m5\u001b[0m\u001b[38;5;249m.\u001b[0m\u001b[38;5;249m.\u001b[0m\u001b[38;5;249m1\u001b[0m\u001b[38;5;249m0\u001b[0m\u001b[38;5;249m3\u001b[0m\u001b[38;5;249m)\u001b[0m",
      " \u001b[38;5;246m  ·\u001b[0m                \u001b[38;5;54m┬\u001b[0m  ",
      " \u001b[38;5;246m  ·\u001b[0m                \u001b[38;5;54m╰\u001b[0m\u001b[38;5;54m─\u001b[0m\u001b[38;5;54m─\u001b[0m expected one of `!` or `[`",
      "\u001b[38;5;246m───╯\u001b[0m"
     ]
    },
    {
     "ename": "Error",
     "evalue": "cannot find struct, variant or union type `DeriveInput` in this scope",
     "output_type": "error",
     "traceback": [
      "\u001b[31m[E0422] Error:\u001b[0m cannot find struct, variant or union type `DeriveInput` in this scope",
      "   \u001b[38;5;246m╭\u001b[0m\u001b[38;5;246m─\u001b[0m\u001b[38;5;246m[\u001b[0mcommand_9:1:1\u001b[38;5;246m]\u001b[0m",
      "   \u001b[38;5;246m│\u001b[0m",
      " \u001b[38;5;246m1 │\u001b[0m \u001b[38;5;54mD\u001b[0m\u001b[38;5;54me\u001b[0m\u001b[38;5;54mr\u001b[0m\u001b[38;5;54mi\u001b[0m\u001b[38;5;54mv\u001b[0m\u001b[38;5;54me\u001b[0m\u001b[38;5;54mI\u001b[0m\u001b[38;5;54mn\u001b[0m\u001b[38;5;54mp\u001b[0m\u001b[38;5;54mu\u001b[0m\u001b[38;5;54mt\u001b[0m\u001b[38;5;249m \u001b[0m\u001b[38;5;249m{\u001b[0m",
      " \u001b[38;5;246m  ·\u001b[0m \u001b[38;5;54m─\u001b[0m\u001b[38;5;54m─\u001b[0m\u001b[38;5;54m─\u001b[0m\u001b[38;5;54m─\u001b[0m\u001b[38;5;54m─\u001b[0m\u001b[38;5;54m┬\u001b[0m\u001b[38;5;54m─\u001b[0m\u001b[38;5;54m─\u001b[0m\u001b[38;5;54m─\u001b[0m\u001b[38;5;54m─\u001b[0m\u001b[38;5;54m─\u001b[0m  ",
      " \u001b[38;5;246m  ·\u001b[0m      \u001b[38;5;54m╰\u001b[0m\u001b[38;5;54m─\u001b[0m\u001b[38;5;54m─\u001b[0m\u001b[38;5;54m─\u001b[0m\u001b[38;5;54m─\u001b[0m\u001b[38;5;54m─\u001b[0m\u001b[38;5;54m─\u001b[0m\u001b[38;5;54m─\u001b[0m not found in this scope",
      "\u001b[38;5;246m───╯\u001b[0m"
     ]
    },
    {
     "ename": "Error",
     "evalue": "cannot find struct, variant or union type `Ident` in this scope",
     "output_type": "error",
     "traceback": [
      "\u001b[31m[E0422] Error:\u001b[0m cannot find struct, variant or union type `Ident` in this scope",
      "   \u001b[38;5;246m╭\u001b[0m\u001b[38;5;246m─\u001b[0m\u001b[38;5;246m[\u001b[0mcommand_9:1:1\u001b[38;5;246m]\u001b[0m",
      "   \u001b[38;5;246m│\u001b[0m",
      " \u001b[38;5;246m4 │\u001b[0m \u001b[38;5;249m \u001b[0m\u001b[38;5;249m \u001b[0m\u001b[38;5;249m \u001b[0m\u001b[38;5;249m \u001b[0m\u001b[38;5;249mi\u001b[0m\u001b[38;5;249md\u001b[0m\u001b[38;5;249me\u001b[0m\u001b[38;5;249mn\u001b[0m\u001b[38;5;249mt\u001b[0m\u001b[38;5;249m:\u001b[0m\u001b[38;5;249m \u001b[0m\u001b[38;5;54mI\u001b[0m\u001b[38;5;54md\u001b[0m\u001b[38;5;54me\u001b[0m\u001b[38;5;54mn\u001b[0m\u001b[38;5;54mt\u001b[0m\u001b[38;5;249m \u001b[0m\u001b[38;5;249m{\u001b[0m",
      " \u001b[38;5;246m  ·\u001b[0m            \u001b[38;5;54m─\u001b[0m\u001b[38;5;54m─\u001b[0m\u001b[38;5;54m┬\u001b[0m\u001b[38;5;54m─\u001b[0m\u001b[38;5;54m─\u001b[0m  ",
      " \u001b[38;5;246m  ·\u001b[0m              \u001b[38;5;54m╰\u001b[0m\u001b[38;5;54m─\u001b[0m\u001b[38;5;54m─\u001b[0m\u001b[38;5;54m─\u001b[0m\u001b[38;5;54m─\u001b[0m not found in this scope",
      "\u001b[38;5;246m───╯\u001b[0m"
     ]
    },
    {
     "ename": "Error",
     "evalue": "cannot find struct, variant or union type `DataStruct` in this scope",
     "output_type": "error",
     "traceback": [
      "\u001b[31m[E0422] Error:\u001b[0m cannot find struct, variant or union type `DataStruct` in this scope",
      "   \u001b[38;5;246m╭\u001b[0m\u001b[38;5;246m─\u001b[0m\u001b[38;5;246m[\u001b[0mcommand_9:1:1\u001b[38;5;246m]\u001b[0m",
      "   \u001b[38;5;246m│\u001b[0m",
      " \u001b[38;5;246m9 │\u001b[0m \u001b[38;5;249m \u001b[0m\u001b[38;5;249m \u001b[0m\u001b[38;5;249m \u001b[0m\u001b[38;5;249m \u001b[0m\u001b[38;5;249m \u001b[0m\u001b[38;5;249m \u001b[0m\u001b[38;5;249m \u001b[0m\u001b[38;5;249m \u001b[0m\u001b[38;5;54mD\u001b[0m\u001b[38;5;54ma\u001b[0m\u001b[38;5;54mt\u001b[0m\u001b[38;5;54ma\u001b[0m\u001b[38;5;54mS\u001b[0m\u001b[38;5;54mt\u001b[0m\u001b[38;5;54mr\u001b[0m\u001b[38;5;54mu\u001b[0m\u001b[38;5;54mc\u001b[0m\u001b[38;5;54mt\u001b[0m\u001b[38;5;249m \u001b[0m\u001b[38;5;249m{\u001b[0m",
      " \u001b[38;5;246m  ·\u001b[0m         \u001b[38;5;54m─\u001b[0m\u001b[38;5;54m─\u001b[0m\u001b[38;5;54m─\u001b[0m\u001b[38;5;54m─\u001b[0m\u001b[38;5;54m─\u001b[0m\u001b[38;5;54m┬\u001b[0m\u001b[38;5;54m─\u001b[0m\u001b[38;5;54m─\u001b[0m\u001b[38;5;54m─\u001b[0m\u001b[38;5;54m─\u001b[0m  ",
      " \u001b[38;5;246m  ·\u001b[0m              \u001b[38;5;54m╰\u001b[0m\u001b[38;5;54m─\u001b[0m\u001b[38;5;54m─\u001b[0m\u001b[38;5;54m─\u001b[0m\u001b[38;5;54m─\u001b[0m\u001b[38;5;54m─\u001b[0m\u001b[38;5;54m─\u001b[0m not found in this scope",
      "\u001b[38;5;246m───╯\u001b[0m"
     ]
    },
    {
     "ename": "Error",
     "evalue": "cannot find value `Struct` in this scope",
     "output_type": "error",
     "traceback": [
      "\u001b[31m[E0425] Error:\u001b[0m cannot find value `Struct` in this scope",
      "    \u001b[38;5;246m╭\u001b[0m\u001b[38;5;246m─\u001b[0m\u001b[38;5;246m[\u001b[0mcommand_9:1:1\u001b[38;5;246m]\u001b[0m",
      "    \u001b[38;5;246m│\u001b[0m",
      " \u001b[38;5;246m10 │\u001b[0m \u001b[38;5;249m \u001b[0m\u001b[38;5;249m \u001b[0m\u001b[38;5;249m \u001b[0m\u001b[38;5;249m \u001b[0m\u001b[38;5;249m \u001b[0m\u001b[38;5;249m \u001b[0m\u001b[38;5;249m \u001b[0m\u001b[38;5;249m \u001b[0m\u001b[38;5;249m \u001b[0m\u001b[38;5;249m \u001b[0m\u001b[38;5;249m \u001b[0m\u001b[38;5;249m \u001b[0m\u001b[38;5;249ms\u001b[0m\u001b[38;5;249mt\u001b[0m\u001b[38;5;249mr\u001b[0m\u001b[38;5;249mu\u001b[0m\u001b[38;5;249mc\u001b[0m\u001b[38;5;249mt\u001b[0m\u001b[38;5;249m_\u001b[0m\u001b[38;5;249mt\u001b[0m\u001b[38;5;249mo\u001b[0m\u001b[38;5;249mk\u001b[0m\u001b[38;5;249me\u001b[0m\u001b[38;5;249mn\u001b[0m\u001b[38;5;249m:\u001b[0m\u001b[38;5;249m \u001b[0m\u001b[38;5;54mS\u001b[0m\u001b[38;5;54mt\u001b[0m\u001b[38;5;54mr\u001b[0m\u001b[38;5;54mu\u001b[0m\u001b[38;5;54mc\u001b[0m\u001b[38;5;54mt\u001b[0m\u001b[38;5;249m,\u001b[0m",
      " \u001b[38;5;246m   ·\u001b[0m                           \u001b[38;5;54m─\u001b[0m\u001b[38;5;54m─\u001b[0m\u001b[38;5;54m─\u001b[0m\u001b[38;5;54m┬\u001b[0m\u001b[38;5;54m─\u001b[0m\u001b[38;5;54m─\u001b[0m  ",
      " \u001b[38;5;246m   ·\u001b[0m                              \u001b[38;5;54m╰\u001b[0m\u001b[38;5;54m─\u001b[0m\u001b[38;5;54m─\u001b[0m\u001b[38;5;54m─\u001b[0m\u001b[38;5;54m─\u001b[0m not found in this scope",
      "\u001b[38;5;246m────╯\u001b[0m"
     ]
    },
    {
     "ename": "Error",
     "evalue": "cannot find value `Unit` in this scope",
     "output_type": "error",
     "traceback": [
      "\u001b[31m[E0425] Error:\u001b[0m cannot find value `Unit` in this scope",
      "    \u001b[38;5;246m╭\u001b[0m\u001b[38;5;246m─\u001b[0m\u001b[38;5;246m[\u001b[0mcommand_9:1:1\u001b[38;5;246m]\u001b[0m",
      "    \u001b[38;5;246m│\u001b[0m",
      " \u001b[38;5;246m11 │\u001b[0m \u001b[38;5;249m \u001b[0m\u001b[38;5;249m \u001b[0m\u001b[38;5;249m \u001b[0m\u001b[38;5;249m \u001b[0m\u001b[38;5;249m \u001b[0m\u001b[38;5;249m \u001b[0m\u001b[38;5;249m \u001b[0m\u001b[38;5;249m \u001b[0m\u001b[38;5;249m \u001b[0m\u001b[38;5;249m \u001b[0m\u001b[38;5;249m \u001b[0m\u001b[38;5;249m \u001b[0m\u001b[38;5;249mf\u001b[0m\u001b[38;5;249mi\u001b[0m\u001b[38;5;249me\u001b[0m\u001b[38;5;249ml\u001b[0m\u001b[38;5;249md\u001b[0m\u001b[38;5;249ms\u001b[0m\u001b[38;5;249m:\u001b[0m\u001b[38;5;249m \u001b[0m\u001b[38;5;54mU\u001b[0m\u001b[38;5;54mn\u001b[0m\u001b[38;5;54mi\u001b[0m\u001b[38;5;54mt\u001b[0m\u001b[38;5;249m,\u001b[0m",
      " \u001b[38;5;246m   ·\u001b[0m                     \u001b[38;5;54m─\u001b[0m\u001b[38;5;54m─\u001b[0m\u001b[38;5;54m┬\u001b[0m\u001b[38;5;54m─\u001b[0m  ",
      " \u001b[38;5;246m   ·\u001b[0m                       \u001b[38;5;54m╰\u001b[0m\u001b[38;5;54m─\u001b[0m\u001b[38;5;54m─\u001b[0m\u001b[38;5;54m─\u001b[0m not found in this scope",
      "\u001b[38;5;246m────╯\u001b[0m"
     ]
    },
    {
     "ename": "Error",
     "evalue": "cannot find value `Semi` in this scope",
     "output_type": "error",
     "traceback": [
      "\u001b[31m[E0425] Error:\u001b[0m cannot find value `Semi` in this scope",
      "    \u001b[38;5;246m╭\u001b[0m\u001b[38;5;246m─\u001b[0m\u001b[38;5;246m[\u001b[0mcommand_9:1:1\u001b[38;5;246m]\u001b[0m",
      "    \u001b[38;5;246m│\u001b[0m",
      " \u001b[38;5;246m13 │\u001b[0m \u001b[38;5;249m \u001b[0m\u001b[38;5;249m \u001b[0m\u001b[38;5;249m \u001b[0m\u001b[38;5;249m \u001b[0m\u001b[38;5;249m \u001b[0m\u001b[38;5;249m \u001b[0m\u001b[38;5;249m \u001b[0m\u001b[38;5;249m \u001b[0m\u001b[38;5;249m \u001b[0m\u001b[38;5;249m \u001b[0m\u001b[38;5;249m \u001b[0m\u001b[38;5;249m \u001b[0m\u001b[38;5;249m \u001b[0m\u001b[38;5;249m \u001b[0m\u001b[38;5;249m \u001b[0m\u001b[38;5;249m \u001b[0m\u001b[38;5;54mS\u001b[0m\u001b[38;5;54me\u001b[0m\u001b[38;5;54mm\u001b[0m\u001b[38;5;54mi\u001b[0m",
      " \u001b[38;5;246m   ·\u001b[0m                 \u001b[38;5;54m─\u001b[0m\u001b[38;5;54m─\u001b[0m\u001b[38;5;54m┬\u001b[0m\u001b[38;5;54m─\u001b[0m  ",
      " \u001b[38;5;246m   ·\u001b[0m                   \u001b[38;5;54m╰\u001b[0m\u001b[38;5;54m─\u001b[0m\u001b[38;5;54m─\u001b[0m\u001b[38;5;54m─\u001b[0m not found in this scope",
      "\u001b[38;5;246m────╯\u001b[0m"
     ]
    },
    {
     "ename": "Error",
     "evalue": "cannot find function, tuple struct or tuple variant `Struct` in this scope",
     "output_type": "error",
     "traceback": [
      "\u001b[31m[E0425] Error:\u001b[0m cannot find function, tuple struct or tuple variant `Struct` in this scope",
      "   \u001b[38;5;246m╭\u001b[0m\u001b[38;5;246m─\u001b[0m\u001b[38;5;246m[\u001b[0mcommand_9:1:1\u001b[38;5;246m]\u001b[0m",
      "   \u001b[38;5;246m│\u001b[0m",
      " \u001b[38;5;246m8 │\u001b[0m \u001b[38;5;249m \u001b[0m\u001b[38;5;249m \u001b[0m\u001b[38;5;249m \u001b[0m\u001b[38;5;249m \u001b[0m\u001b[38;5;249md\u001b[0m\u001b[38;5;249ma\u001b[0m\u001b[38;5;249mt\u001b[0m\u001b[38;5;249ma\u001b[0m\u001b[38;5;249m:\u001b[0m\u001b[38;5;249m \u001b[0m\u001b[38;5;54mS\u001b[0m\u001b[38;5;54mt\u001b[0m\u001b[38;5;54mr\u001b[0m\u001b[38;5;54mu\u001b[0m\u001b[38;5;54mc\u001b[0m\u001b[38;5;54mt\u001b[0m\u001b[38;5;249m(\u001b[0m",
      " \u001b[38;5;246m  ·\u001b[0m           \u001b[38;5;54m─\u001b[0m\u001b[38;5;54m─\u001b[0m\u001b[38;5;54m─\u001b[0m\u001b[38;5;54m┬\u001b[0m\u001b[38;5;54m─\u001b[0m\u001b[38;5;54m─\u001b[0m  ",
      " \u001b[38;5;246m  ·\u001b[0m              \u001b[38;5;54m╰\u001b[0m\u001b[38;5;54m─\u001b[0m\u001b[38;5;54m─\u001b[0m\u001b[38;5;54m─\u001b[0m\u001b[38;5;54m─\u001b[0m not found in this scope",
      "\u001b[38;5;246m───╯\u001b[0m"
     ]
    }
   ],
   "source": [
    "DeriveInput {\n",
    "    // --snip--\n",
    "\n",
    "    ident: Ident {\n",
    "        ident: \"Pancakes\",\n",
    "        span: #0 bytes(95..103)\n",
    "    },\n",
    "    data: Struct(\n",
    "        DataStruct {\n",
    "            struct_token: Struct,\n",
    "            fields: Unit,\n",
    "            semi_token: Some(\n",
    "                Semi\n",
    "            )\n",
    "        }\n",
    "    )\n",
    "}"
   ]
  },
  {
   "attachments": {},
   "cell_type": "markdown",
   "metadata": {},
   "source": [
    "> Listing 19-32: The DeriveInput instance we get when parsing the code that has  \n",
    "the macro’s attribute in Listing 19-30\n",
    "\n",
    "The fields of this struct show that the Rust code we’ve parsed is a unit struct  \n",
    "with the ident (identifier, meaning the name) of Pancakes. There are more fields  \n",
    "on this struct for describing all sorts of Rust code; check the syn  \n",
    "documentation for DeriveInput for more information.\n",
    "\n",
    "Soon we’ll define the impl_hello_macro function, which is where we’ll build the  \n",
    "new Rust code we want to include. But before we do, note that the output for  \n",
    "our derive macro is also a TokenStream. The returned TokenStream is added to  \n",
    "the code that our crate users write, so when they compile their crate, they’ll  \n",
    "get the extra functionality that we provide in the modified TokenStream.\n",
    "\n",
    "You might have noticed that we’re calling unwrap to cause the  \n",
    "hello_macro_derive function to panic if the call to the syn::parse function  \n",
    "fails here. It’s necessary for our procedural macro to panic on errors because  \n",
    "proc_macro_derive functions must return TokenStream rather than Result to  \n",
    "conform to the procedural macro API. We’ve simplified this example by using  \n",
    "unwrap; in production code, you should provide more specific error messages  \n",
    "about what went wrong by using panic! or expect.\n",
    "\n",
    "Now that we have the code to turn the annotated Rust code from a TokenStream  \n",
    "into a DeriveInput instance, let’s generate the code that implements the  \n",
    "HelloMacro trait on the annotated type, as shown in Listing 19-33.\n",
    "\n",
    "> Filename: hello_macro_derive/src/lib.rs"
   ]
  },
  {
   "cell_type": "code",
   "execution_count": 10,
   "metadata": {
    "vscode": {
     "languageId": "rust"
    }
   },
   "outputs": [
    {
     "ename": "Error",
     "evalue": "cannot find macro `quote` in this scope",
     "output_type": "error",
     "traceback": [
      "\u001b[31mError:\u001b[0m cannot find macro `quote` in this scope",
      "   \u001b[38;5;246m╭\u001b[0m\u001b[38;5;246m─\u001b[0m\u001b[38;5;246m[\u001b[0mcommand_10:1:1\u001b[38;5;246m]\u001b[0m",
      "   \u001b[38;5;246m│\u001b[0m",
      " \u001b[38;5;246m3 │\u001b[0m \u001b[38;5;249m \u001b[0m\u001b[38;5;249m \u001b[0m\u001b[38;5;249m \u001b[0m\u001b[38;5;249m \u001b[0m\u001b[38;5;249ml\u001b[0m\u001b[38;5;249me\u001b[0m\u001b[38;5;249mt\u001b[0m\u001b[38;5;249m \u001b[0m\u001b[38;5;249mg\u001b[0m\u001b[38;5;249me\u001b[0m\u001b[38;5;249mn\u001b[0m\u001b[38;5;249m \u001b[0m\u001b[38;5;249m=\u001b[0m\u001b[38;5;249m \u001b[0m\u001b[38;5;54mq\u001b[0m\u001b[38;5;54mu\u001b[0m\u001b[38;5;54mo\u001b[0m\u001b[38;5;54mt\u001b[0m\u001b[38;5;54me\u001b[0m\u001b[38;5;249m!\u001b[0m\u001b[38;5;249m \u001b[0m\u001b[38;5;249m{\u001b[0m",
      " \u001b[38;5;246m  ·\u001b[0m               \u001b[38;5;54m─\u001b[0m\u001b[38;5;54m─\u001b[0m\u001b[38;5;54m┬\u001b[0m\u001b[38;5;54m─\u001b[0m\u001b[38;5;54m─\u001b[0m  ",
      " \u001b[38;5;246m  ·\u001b[0m                 \u001b[38;5;54m╰\u001b[0m\u001b[38;5;54m─\u001b[0m\u001b[38;5;54m─\u001b[0m\u001b[38;5;54m─\u001b[0m\u001b[38;5;54m─\u001b[0m error: cannot find macro `quote` in this scope",
      "\u001b[38;5;246m───╯\u001b[0m"
     ]
    },
    {
     "ename": "Error",
     "evalue": "failed to resolve: use of undeclared crate or module `syn`",
     "output_type": "error",
     "traceback": [
      "\u001b[31m[E0433] Error:\u001b[0m failed to resolve: use of undeclared crate or module `syn`",
      "   \u001b[38;5;246m╭\u001b[0m\u001b[38;5;246m─\u001b[0m\u001b[38;5;246m[\u001b[0mcommand_10:1:1\u001b[38;5;246m]\u001b[0m",
      "   \u001b[38;5;246m│\u001b[0m",
      " \u001b[38;5;246m1 │\u001b[0m \u001b[38;5;249mf\u001b[0m\u001b[38;5;249mn\u001b[0m\u001b[38;5;249m \u001b[0m\u001b[38;5;249mi\u001b[0m\u001b[38;5;249mm\u001b[0m\u001b[38;5;249mp\u001b[0m\u001b[38;5;249ml\u001b[0m\u001b[38;5;249m_\u001b[0m\u001b[38;5;249mh\u001b[0m\u001b[38;5;249me\u001b[0m\u001b[38;5;249ml\u001b[0m\u001b[38;5;249ml\u001b[0m\u001b[38;5;249mo\u001b[0m\u001b[38;5;249m_\u001b[0m\u001b[38;5;249mm\u001b[0m\u001b[38;5;249ma\u001b[0m\u001b[38;5;249mc\u001b[0m\u001b[38;5;249mr\u001b[0m\u001b[38;5;249mo\u001b[0m\u001b[38;5;249m(\u001b[0m\u001b[38;5;249ma\u001b[0m\u001b[38;5;249ms\u001b[0m\u001b[38;5;249mt\u001b[0m\u001b[38;5;249m:\u001b[0m\u001b[38;5;249m \u001b[0m\u001b[38;5;249m&\u001b[0m\u001b[38;5;54ms\u001b[0m\u001b[38;5;54my\u001b[0m\u001b[38;5;54mn\u001b[0m\u001b[38;5;249m:\u001b[0m\u001b[38;5;249m:\u001b[0m\u001b[38;5;249mD\u001b[0m\u001b[38;5;249me\u001b[0m\u001b[38;5;249mr\u001b[0m\u001b[38;5;249mi\u001b[0m\u001b[38;5;249mv\u001b[0m\u001b[38;5;249me\u001b[0m\u001b[38;5;249mI\u001b[0m\u001b[38;5;249mn\u001b[0m\u001b[38;5;249mp\u001b[0m\u001b[38;5;249mu\u001b[0m\u001b[38;5;249mt\u001b[0m\u001b[38;5;249m)\u001b[0m\u001b[38;5;249m \u001b[0m\u001b[38;5;249m-\u001b[0m\u001b[38;5;249m>\u001b[0m\u001b[38;5;249m \u001b[0m\u001b[38;5;249mT\u001b[0m\u001b[38;5;249mo\u001b[0m\u001b[38;5;249mk\u001b[0m\u001b[38;5;249me\u001b[0m\u001b[38;5;249mn\u001b[0m\u001b[38;5;249mS\u001b[0m\u001b[38;5;249mt\u001b[0m\u001b[38;5;249mr\u001b[0m\u001b[38;5;249me\u001b[0m\u001b[38;5;249ma\u001b[0m\u001b[38;5;249mm\u001b[0m\u001b[38;5;249m \u001b[0m\u001b[38;5;249m{\u001b[0m",
      " \u001b[38;5;246m  ·\u001b[0m                           \u001b[38;5;54m─\u001b[0m\u001b[38;5;54m┬\u001b[0m\u001b[38;5;54m─\u001b[0m  ",
      " \u001b[38;5;246m  ·\u001b[0m                            \u001b[38;5;54m╰\u001b[0m\u001b[38;5;54m─\u001b[0m\u001b[38;5;54m─\u001b[0m\u001b[38;5;54m─\u001b[0m use of undeclared crate or module `syn`",
      "\u001b[38;5;246m───╯\u001b[0m"
     ]
    },
    {
     "ename": "Error",
     "evalue": "cannot find type `TokenStream` in this scope",
     "output_type": "error",
     "traceback": [
      "\u001b[31m[E0412] Error:\u001b[0m cannot find type `TokenStream` in this scope",
      "   \u001b[38;5;246m╭\u001b[0m\u001b[38;5;246m─\u001b[0m\u001b[38;5;246m[\u001b[0mcommand_10:1:1\u001b[38;5;246m]\u001b[0m",
      "   \u001b[38;5;246m│\u001b[0m",
      " \u001b[38;5;246m1 │\u001b[0m \u001b[38;5;249mf\u001b[0m\u001b[38;5;249mn\u001b[0m\u001b[38;5;249m \u001b[0m\u001b[38;5;249mi\u001b[0m\u001b[38;5;249mm\u001b[0m\u001b[38;5;249mp\u001b[0m\u001b[38;5;249ml\u001b[0m\u001b[38;5;249m_\u001b[0m\u001b[38;5;249mh\u001b[0m\u001b[38;5;249me\u001b[0m\u001b[38;5;249ml\u001b[0m\u001b[38;5;249ml\u001b[0m\u001b[38;5;249mo\u001b[0m\u001b[38;5;249m_\u001b[0m\u001b[38;5;249mm\u001b[0m\u001b[38;5;249ma\u001b[0m\u001b[38;5;249mc\u001b[0m\u001b[38;5;249mr\u001b[0m\u001b[38;5;249mo\u001b[0m\u001b[38;5;249m(\u001b[0m\u001b[38;5;249ma\u001b[0m\u001b[38;5;249ms\u001b[0m\u001b[38;5;249mt\u001b[0m\u001b[38;5;249m:\u001b[0m\u001b[38;5;249m \u001b[0m\u001b[38;5;249m&\u001b[0m\u001b[38;5;249ms\u001b[0m\u001b[38;5;249my\u001b[0m\u001b[38;5;249mn\u001b[0m\u001b[38;5;249m:\u001b[0m\u001b[38;5;249m:\u001b[0m\u001b[38;5;249mD\u001b[0m\u001b[38;5;249me\u001b[0m\u001b[38;5;249mr\u001b[0m\u001b[38;5;249mi\u001b[0m\u001b[38;5;249mv\u001b[0m\u001b[38;5;249me\u001b[0m\u001b[38;5;249mI\u001b[0m\u001b[38;5;249mn\u001b[0m\u001b[38;5;249mp\u001b[0m\u001b[38;5;249mu\u001b[0m\u001b[38;5;249mt\u001b[0m\u001b[38;5;249m)\u001b[0m\u001b[38;5;249m \u001b[0m\u001b[38;5;249m-\u001b[0m\u001b[38;5;249m>\u001b[0m\u001b[38;5;249m \u001b[0m\u001b[38;5;54mT\u001b[0m\u001b[38;5;54mo\u001b[0m\u001b[38;5;54mk\u001b[0m\u001b[38;5;54me\u001b[0m\u001b[38;5;54mn\u001b[0m\u001b[38;5;54mS\u001b[0m\u001b[38;5;54mt\u001b[0m\u001b[38;5;54mr\u001b[0m\u001b[38;5;54me\u001b[0m\u001b[38;5;54ma\u001b[0m\u001b[38;5;54mm\u001b[0m\u001b[38;5;249m \u001b[0m\u001b[38;5;249m{\u001b[0m",
      " \u001b[38;5;246m  ·\u001b[0m                                                \u001b[38;5;54m─\u001b[0m\u001b[38;5;54m─\u001b[0m\u001b[38;5;54m─\u001b[0m\u001b[38;5;54m─\u001b[0m\u001b[38;5;54m─\u001b[0m\u001b[38;5;54m┬\u001b[0m\u001b[38;5;54m─\u001b[0m\u001b[38;5;54m─\u001b[0m\u001b[38;5;54m─\u001b[0m\u001b[38;5;54m─\u001b[0m\u001b[38;5;54m─\u001b[0m  ",
      " \u001b[38;5;246m  ·\u001b[0m                                                     \u001b[38;5;54m╰\u001b[0m\u001b[38;5;54m─\u001b[0m\u001b[38;5;54m─\u001b[0m\u001b[38;5;54m─\u001b[0m\u001b[38;5;54m─\u001b[0m\u001b[38;5;54m─\u001b[0m\u001b[38;5;54m─\u001b[0m\u001b[38;5;54m─\u001b[0m not found in this scope",
      "\u001b[38;5;246m───╯\u001b[0m"
     ]
    }
   ],
   "source": [
    "fn impl_hello_macro(ast: &syn::DeriveInput) -> TokenStream {\n",
    "    let name = &ast.ident;\n",
    "    let gen = quote! {\n",
    "        impl HelloMacro for #name {\n",
    "            fn hello_macro() {\n",
    "                println!(\"Hello, Macro! My name is {}!\", stringify!(#name));\n",
    "            }\n",
    "        }\n",
    "    };\n",
    "    gen.into()\n",
    "}"
   ]
  },
  {
   "attachments": {},
   "cell_type": "markdown",
   "metadata": {},
   "source": [
    "> Listing 19-33: Implementing the HelloMacro trait using the parsed Rust code\n",
    "\n",
    "We get an Ident struct instance containing the name (identifier) of the  \n",
    "annotated type using ast.ident. The struct in Listing 19-32 shows that when we  \n",
    "run the impl_hello_macro function on the code in Listing 19-30, the ident we  \n",
    "get will have the ident field with a value of \"Pancakes\". Thus, the name  \n",
    "variable in Listing 19-33 will contain an Ident struct instance that, when  \n",
    "printed, will be the string \"Pancakes\", the name of the struct in Listing 19-30.\n",
    "\n",
    "The quote! macro lets us define the Rust code that we want to return. The  \n",
    "compiler expects something different to the direct result of the quote!  \n",
    "macro’s execution, so we need to convert it to a TokenStream. We do this by  \n",
    "calling the into method, which consumes this intermediate representation and  \n",
    "returns a value of the required TokenStream type.\n",
    "\n",
    "The quote! macro also provides some very cool templating mechanics: we can  \n",
    "enter #name, and quote! will replace it with the value in the variable name.  \n",
    "You can even do some repetition similar to the way regular macros work. Check  \n",
    "out the quote crate’s docs for a thorough introduction.\n",
    "\n",
    "We want our procedural macro to generate an implementation of our HelloMacro  \n",
    "trait for the type the user annotated, which we can get by using #name. The  \n",
    "trait implementation has the one function hello_macro, whose body contains the  \n",
    "functionality we want to provide: printing Hello, Macro! My name is and then  \n",
    "the name of the annotated type.\n",
    "\n",
    "The stringify! macro used here is built into Rust. It takes a Rust expression,  \n",
    "such as 1 + 2, and at compile time turns the expression into a string literal,  \n",
    "such as \"1 + 2\". This is different than format! or println!, macros which  \n",
    "evaluate the expression and then turn the result into a String. There is a  \n",
    "possibility that the #name input might be an expression to print literally, so  \n",
    "we use stringify!. Using stringify! also saves an allocation by converting  \n",
    "#name to a string literal at compile time.\n",
    "\n",
    "At this point, cargo build should complete successfully in both hello_macro and  \n",
    "hello_macro_derive. Let’s hook up these crates to the code in Listing 19-30 to  \n",
    "see the procedural macro in action! Create a new binary project in your  \n",
    "projects directory using cargo new pancakes. We need to add hello_macro and  \n",
    "hello_macro_derive as dependencies in the pancakes crate’s Cargo.toml. If  \n",
    "you’re publishing your versions of hello_macro and hello_macro_derive to  \n",
    "crates.io, they would be regular dependencies; if not, you can specify them  \n",
    "as path dependencies as follows:"
   ]
  },
  {
   "attachments": {},
   "cell_type": "markdown",
   "metadata": {},
   "source": [
    "```toml\n",
    "hello_macro = { path = \"../hello_macro\" }\n",
    "hello_macro_derive = { path = \"../hello_macro/hello_macro_derive\" }\n",
    "```\n",
    "\n",
    "Put the code in Listing 19-30 into src/main.rs, and run cargo run: it should  \n",
    "print Hello, Macro! My name is Pancakes! The implementation of the HelloMacro  \n",
    "trait from the procedural macro was included without the pancakes crate needing  \n",
    "to implement it; the #[derive(HelloMacro)] added the trait implementation.\n",
    "\n",
    "Next, let’s explore how the other kinds of procedural macros differ from custom  \n",
    "derive macros."
   ]
  },
  {
   "attachments": {},
   "cell_type": "markdown",
   "metadata": {},
   "source": [
    "### Attribute-like macros\n",
    "\n",
    "Attribute-like macros are similar to custom derive macros, but :  \n",
    "\n",
    "- instead of generating code for the derive attribute,  \n",
    "- they allow you to create new attributes. \n",
    "\n",
    "They’re also more flexible:  \n",
    "\n",
    "- derive only works for structs and enums;  \n",
    "- attributes can be applied to other items as well, such as functions.  \n",
    "\n",
    "Here’s an example of using an attribute-like macro: say you have an attribute  \n",
    "named route that annotates functions when using a web application framework:\n",
    "\n",
    "```rust\n",
    "#[route(GET, \"/\")]\n",
    "fn index() {\n",
    "```\n",
    "\n",
    "This #[route] attribute would be defined by the framework as a procedural macro.  \n",
    "The signature of the macro definition function would look like this:\n",
    "\n",
    "```rust\n",
    "#[proc_macro_attribute]\n",
    "pub fn route(attr: TokenStream, item: TokenStream) -> TokenStream {\n",
    "```\n",
    "\n",
    "Here, we have two parameters of type TokenStream. The first is for the contents  \n",
    "of the attribute: the GET, \"/\" part. The second is the body of the item the  \n",
    "attribute is attached to: in this case, fn index() {} and the rest of the  \n",
    "function’s body.\n",
    "\n",
    "Other than that, attribute-like macros work the same way as custom derive  \n",
    "macros: you create a crate with the proc-macro crate type and implement a  \n",
    "function that generates the code you want!"
   ]
  },
  {
   "attachments": {},
   "cell_type": "markdown",
   "metadata": {},
   "source": [
    "### Function-like macros\n",
    "\n",
    "Function-like macros define macros that look like function calls. Similarly to  \n",
    "macro_rules! macros, they’re more flexible than functions; for example, they  \n",
    "can take an unknown number of arguments. However, macro_rules! macros can be  \n",
    "defined only using the match-like syntax we discussed in the section  \n",
    "“Declarative Macros with macro_rules! for General Metaprogramming” earlier.  \n",
    "Function-like macros take a TokenStream parameter and their definition  \n",
    "manipulates that TokenStream using Rust code as the other two types of  \n",
    "procedural macros do. An example of a function-like macro is an sql! macro that  \n",
    "might be called like so:\n",
    "\n",
    "```rust\n",
    "let sql = sql!(SELECT * FROM posts WHERE id=1);\n",
    "```\n",
    "\n",
    "This macro would parse the SQL statement inside it and check that it’s  \n",
    "syntactically correct, which is much more complex processing than a macro_rules!  \n",
    "macro can do. The sql! macro would be defined like this:\n",
    "\n",
    "```rust\n",
    "#[proc_macro]\n",
    "pub fn sql(input: TokenStream) -> TokenStream {\n",
    "```\n",
    "\n",
    "This definition is similar to the custom derive macro’s signature: we receive  \n",
    "the tokens that are inside the parentheses and return the code we wanted to  \n",
    "generate."
   ]
  },
  {
   "attachments": {},
   "cell_type": "markdown",
   "metadata": {},
   "source": [
    "Summary\n",
    "---\n",
    "\n",
    "Whew! Now you have some Rust features in your toolbox that you likely won’t use  \n",
    "often, but you’ll know they’re available in very particular circumstances. We’ve  \n",
    "introduced several complex topics so that when you encounter them in error  \n",
    "message suggestions or in other peoples’ code, you’ll be able to recognize these  \n",
    "concepts and syntax. Use this chapter as a reference to guide you to solutions.\n",
    "\n",
    "Next, we’ll put everything we’ve discussed throughout the book into practice  \n",
    "and do one more project!"
   ]
  }
 ],
 "metadata": {
  "kernelspec": {
   "display_name": "Rust",
   "language": "rust",
   "name": "rust"
  },
  "language_info": {
   "codemirror_mode": "rust",
   "file_extension": ".rs",
   "mimetype": "text/rust",
   "name": "Rust",
   "pygment_lexer": "rust",
   "version": ""
  },
  "orig_nbformat": 4
 },
 "nbformat": 4,
 "nbformat_minor": 2
}
