{
 "cells": [
  {
   "attachments": {},
   "cell_type": "markdown",
   "metadata": {},
   "source": [
    "Advanced Features\n",
    "---\n",
    "\n",
    "By now, you’ve learned the most commonly used parts of the Rust programming  \n",
    "language. Before we do one more project in Chapter 20, we’ll look at a few  \n",
    "aspects of the language you might run into every once in a while, but may not  \n",
    "use every day. You can use this chapter as a reference for when you encounter  \n",
    "any unknowns. The features covered here are useful in very specific situations.  \n",
    "Although you might not reach for them often, we want to make sure you have a  \n",
    "grasp of all the features Rust has to offer.\n",
    "\n",
    "In this chapter, we’ll cover:\n",
    "\n",
    "- **`Unsafe Rust:`** how to opt out of some of Rust’s guarantees and take  \n",
    "responsibility for manually upholding those guarantees\n",
    "- **`Advanced traits:`** associated types, default type parameters, fully  \n",
    "qualified syntax, supertraits, and the newtype pattern in relation to traits\n",
    "- **`Advanced types:`** more about the newtype pattern, type aliases, the never  \n",
    "type, and dynamically sized types\n",
    "- **`Advanced functions and closures:`** function pointers and returning  \n",
    "closures  \n",
    "- **`Macros:`** ways to define code that defines more code at compile time  \n",
    "\n",
    "It’s a panoply of Rust features with something for everyone! Let’s dive in!"
   ]
  },
  {
   "cell_type": "markdown",
   "metadata": {},
   "source": [
    "### Unsafe Rust\n",
    "\n",
    "All the code we’ve discussed so far has had Rust’s memory safety guarantees  \n",
    "enforced at compile time. However, Rust has a second language hidden inside it  \n",
    "that doesn’t enforce these memory safety guarantees:  \n",
    "\n",
    "- it’s called unsafe Rust and works just like regular Rust, but gives us extra  \n",
    "superpowers.\n",
    "\n",
    "**`Unsafe Rust`** exists because, by nature, static analysis is conservative.  \n",
    "When the compiler tries to determine whether or not code upholds the guarantees,  \n",
    "it’s better for it to reject some valid programs than to accept some invalid  \n",
    "programs. Although the code might be okay, if the Rust compiler doesn’t have  \n",
    "enough information to be confident, it will reject the code. In these cases,  \n",
    "you can use unsafe code to tell the compiler, “Trust me, I know what I’m doing.”  \n",
    "Be warned, however, that you use unsafe Rust at your own risk:  \n",
    "\n",
    "- if you use unsafe code incorrectly, problems can occur due to memory unsafety,  \n",
    "such as null pointer dereferencing.\n",
    "\n",
    "Another reason Rust has an unsafe alter ego is that the underlying computer  \n",
    "hardware is inherently unsafe. If Rust didn’t let you do unsafe operations, you  \n",
    "couldn’t do certain tasks. Rust needs to allow you to do low-level systems  \n",
    "programming, such as directly interacting with the operating system or even  \n",
    "writing your own operating system. Working with low-level systems programming is  \n",
    "one of the goals of the language. Let’s explore what we can do with unsafe Rust  \n",
    "and how to do it."
   ]
  },
  {
   "cell_type": "markdown",
   "metadata": {},
   "source": [
    "### Unsafe SuperPowers\n",
    "\n",
    "To switch to unsafe Rust, use the **`unsafe`** keyword and then start a new  \n",
    "block that holds the unsafe code. You can take five actions in unsafe Rust that  \n",
    "you can’t in safe Rust, which we call unsafe superpowers. Those superpowers  \n",
    "include the ability to:\n",
    "\n",
    "- Dereference a raw pointer\n",
    "- Call an unsafe function or method\n",
    "- Access or modify a mutable static variable\n",
    "- Implement an unsafe trait\n",
    "- Access fields of `union`s\n",
    "\n",
    "It’s important to understand that unsafe doesn’t turn off the borrow checker or  \n",
    "disable any other of Rust’s safety checks:  \n",
    "- if you use a reference in unsafe code, it will still be checked.  \n",
    "The unsafe keyword only gives you access to these five features that are then  \n",
    "not checked by the compiler for memory safety. You’ll still get some degree of  \n",
    "safety inside of an unsafe block.\n",
    "\n",
    "In addition, unsafe does not mean the code inside the block is necessarily  \n",
    "dangerous or that it will definitely have memory safety problems:  \n",
    "\n",
    "- the intent is that as the programmer, you’ll ensure the code inside an unsafe  \n",
    "block will access memory in a valid way.\n",
    "\n",
    "People are fallible, and mistakes will happen, but by requiring these five  \n",
    "unsafe operations to be inside blocks annotated with unsafe you’ll know that  \n",
    "any errors related to memory safety must be within an unsafe block. Keep unsafe  \n",
    "blocks small; you’ll be thankful later when you investigate memory bugs.\n",
    "\n",
    "To isolate unsafe code as much as possible, it’s best to enclose unsafe code  \n",
    "within a safe abstraction and provide a safe API, which we’ll discuss later in  \n",
    "the chapter when we examine unsafe functions and methods. Parts of the standard  \n",
    "library are implemented as safe abstractions over unsafe code that has been  \n",
    "audited. Wrapping unsafe code in a safe abstraction prevents uses of unsafe  \n",
    "from leaking out into all the places that you or your users might want to use  \n",
    "the functionality implemented with unsafe code, because using a safe abstraction  \n",
    "is safe.\n",
    "\n",
    "Let’s look at each of the five unsafe superpowers in turn. We’ll also look at  \n",
    "some abstractions that provide a safe interface to unsafe code."
   ]
  },
  {
   "cell_type": "markdown",
   "metadata": {},
   "source": [
    "### Dereferencing a Raw Pointer\n",
    "\n",
    "In Chapter 4, in the “Dangling References” section, we mentioned that the  \n",
    "compiler ensures references are always valid. Unsafe Rust has two new types  \n",
    "called raw pointers that are similar to references. As with references, raw  \n",
    "pointers can be immutable or mutable and are written as *const T and *mut T,  \n",
    "respectively. The asterisk isn’t the dereference operator; it’s part of the  \n",
    "type name. In the context of raw pointers, immutable means that the pointer  \n",
    "can’t be directly assigned to after being dereferenced.\n",
    "\n",
    "Different from references and smart pointers, raw pointers:\n",
    "\n",
    "- Are allowed to ignore the borrowing rules by having both immutable and  \n",
    "mutable pointers or multiple mutable pointers to the same location\n",
    "- Aren’t guaranteed to point to valid memory\n",
    "- Are allowed to be null\n",
    "- Don’t implement any automatic cleanup\n",
    "\n",
    "By opting out of having Rust enforce these guarantees, you can give up  \n",
    "guaranteed safety in exchange for greater performance or the ability to  \n",
    "interface with another language or hardware where Rust’s guarantees don’t  \n",
    "apply.\n",
    "\n",
    "> Listing 19-1 shows how to create an immutable and a mutable raw pointer  \n",
    "from references."
   ]
  },
  {
   "cell_type": "code",
   "execution_count": 2,
   "metadata": {
    "vscode": {
     "languageId": "rust"
    }
   },
   "outputs": [
    {
     "data": {
      "text/plain": [
       "()"
      ]
     },
     "execution_count": 2,
     "metadata": {},
     "output_type": "execute_result"
    }
   ],
   "source": [
    "{\n",
    "    let mut num = 5;\n",
    "\n",
    "    let r1 = &num as *const i32;\n",
    "    let r2 = &mut num as *mut i32;\n",
    "}"
   ]
  },
  {
   "cell_type": "markdown",
   "metadata": {},
   "source": [
    "> Listing 19-1: Creating raw pointers from references\n",
    "\n",
    "Notice that we don’t include the unsafe keyword in this code. We can create raw  \n",
    "pointers in safe code; we just can’t dereference raw pointers outside an unsafe  \n",
    "block, as you’ll see in a bit.\n",
    "\n",
    "We’ve created raw pointers by using as to cast an immutable and a mutable  \n",
    "reference into their corresponding raw pointer types. Because we created them  \n",
    "directly from references guaranteed to be valid, we know these particular raw  \n",
    "pointers are valid, but we can’t make that assumption about just any raw pointer.\n",
    "\n",
    "To demonstrate this, next we’ll create a raw pointer whose validity we can’t be  \n",
    "so certain of. Listing 19-2 shows how to create a raw pointer to an arbitrary  \n",
    "location in memory. Trying to use arbitrary memory is undefined: there might be  \n",
    "data at that address or there might not, the compiler might optimize the code  \n",
    "so there is no memory access, or the program might error with a segmentation  \n",
    "fault. Usually, there is no good reason to write code like this, but it is  \n",
    "possible."
   ]
  },
  {
   "cell_type": "code",
   "execution_count": 3,
   "metadata": {
    "vscode": {
     "languageId": "rust"
    }
   },
   "outputs": [
    {
     "data": {
      "text/plain": [
       "()"
      ]
     },
     "execution_count": 3,
     "metadata": {},
     "output_type": "execute_result"
    }
   ],
   "source": [
    "{\n",
    "    let address = 0x012345usize;\n",
    "    let r = address as *const i32;\n",
    "}"
   ]
  },
  {
   "cell_type": "markdown",
   "metadata": {},
   "source": [
    "> Listing 19-2: Creating a raw pointer to an arbitrary memory address\n",
    "\n",
    "Recall that we can create raw pointers in safe code, but we can’t dereference  \n",
    "raw pointers and read the data being pointed to. In Listing 19-3, we use the  \n",
    "dereference operator * on a raw pointer that requires an unsafe block."
   ]
  },
  {
   "cell_type": "code",
   "execution_count": 6,
   "metadata": {
    "vscode": {
     "languageId": "rust"
    }
   },
   "outputs": [
    {
     "name": "stdout",
     "output_type": "stream",
     "text": [
      "r1 is 5\n",
      "r2 is 5\n"
     ]
    },
    {
     "data": {
      "text/plain": [
       "()"
      ]
     },
     "execution_count": 6,
     "metadata": {},
     "output_type": "execute_result"
    }
   ],
   "source": [
    "{\n",
    "    let mut num = 5;\n",
    "\n",
    "    let r1 = &num as *const i32;\n",
    "    let r2 = &mut num as *mut i32;\n",
    "\n",
    "    unsafe {\n",
    "        // Creating a pointer does no harm @audit : why???\n",
    "        // It's only when we try to access the value that it points at that we\n",
    "        // might end up dealing with an invalid value\n",
    "        println!(\"r1 is {}\", *r1);\n",
    "        println!(\"r2 is {}\", *r2);\n",
    "    }\n",
    "}"
   ]
  },
  {
   "cell_type": "markdown",
   "metadata": {},
   "source": [
    "> Listing 19-3: Dereferencing raw pointers within an unsafe block\n",
    "\n",
    "Creating a pointer does no harm; it’s only when we try to access the value that  \n",
    "it points at that we might end up dealing with an invalid value.\n",
    "\n",
    "Note also that in Listing 19-1 and 19-3, we created *const i32 and *mut i32 raw  \n",
    "pointers that both pointed to the same memory location, where num is stored. If  \n",
    "we instead tried to create an immutable and a mutable reference to num, the code  \n",
    "would not have compiled because Rust’s ownership rules don’t allow a mutable  \n",
    "reference at the same time as any immutable references. With raw pointers, we  \n",
    "can create a mutable pointer and an immutable pointer to the same location and  \n",
    "change data through the mutable pointer, potentially creating a data race.  \n",
    "Be careful!\n",
    "\n",
    "With all of these dangers, why would you ever use raw pointers? One major use  \n",
    "case is when interfacing with C code, as you’ll see in the next section,  \n",
    "“Calling an Unsafe Function or Method.” Another case is when building up safe  \n",
    "abstractions that the borrow checker doesn’t understand. We’ll introduce unsafe  \n",
    "functions and then look at an example of a safe abstraction that uses unsafe  \n",
    "code."
   ]
  },
  {
   "cell_type": "markdown",
   "metadata": {},
   "source": [
    "### Calling an Unsafe Function or Method\n",
    "\n",
    "The second type of operation you can perform in an unsafe block is calling  \n",
    "unsafe functions. Unsafe functions and methods look exactly like regular  \n",
    "functions and methods, but they have an extra unsafe before the rest of the  \n",
    "definition. The unsafe keyword in this context indicates the function has  \n",
    "requirements we need to uphold when we call this function, because Rust can’t  \n",
    "guarantee we’ve met these requirements. By calling an unsafe function within an  \n",
    "unsafe block, we’re saying that we’ve read this function’s documentation and  \n",
    "take responsibility for upholding the function’s contracts.\n",
    "\n",
    "Here is an unsafe function named dangerous that doesn’t do anything in its  \n",
    "body:"
   ]
  },
  {
   "cell_type": "code",
   "execution_count": 13,
   "metadata": {
    "vscode": {
     "languageId": "rust"
    }
   },
   "outputs": [
    {
     "data": {
      "text/plain": [
       "()"
      ]
     },
     "execution_count": 13,
     "metadata": {},
     "output_type": "execute_result"
    }
   ],
   "source": [
    "unsafe fn dangerous() {}\n",
    "\n",
    "// this unsafe block is required to call an unsafe function\n",
    "unsafe {\n",
    "    dangerous();\n",
    "}"
   ]
  },
  {
   "cell_type": "markdown",
   "metadata": {},
   "source": [
    "We must call the dangerous function within a separate unsafe block. If we try  \n",
    "to call dangerous without the unsafe block, we’ll get an error:\n",
    "\n",
    "```sh\n",
    "$ cargo run\n",
    "   Compiling unsafe-example v0.1.0 (file:///projects/unsafe-example)\n",
    "error[E0133]: call to unsafe function is unsafe and requires unsafe function or block\n",
    " --> src/main.rs:4:5\n",
    "  |\n",
    "4 |     dangerous();\n",
    "  |     ^^^^^^^^^^^ call to unsafe function\n",
    "  |\n",
    "  = note: consult the function's documentation for information on how to avoid undefined behavior\n",
    "\n",
    "For more information about this error, try `rustc --explain E0133`.\n",
    "error: could not compile `unsafe-example` due to previous error\n",
    "```\n",
    "\n",
    "With the unsafe block, we’re asserting to Rust that we’ve read the function’s  \n",
    "documentation, we understand how to use it properly, and we’ve verified that  \n",
    "we’re fulfilling the contract of the function.\n",
    "\n",
    "Bodies of unsafe functions are effectively unsafe blocks, so to perform other  \n",
    "unsafe operations within an unsafe function, we don’t need to add another  \n",
    "unsafe block."
   ]
  },
  {
   "cell_type": "markdown",
   "metadata": {},
   "source": [
    "### Creating a Safe Abstraction over Unsafe Code\n",
    "\n",
    "Just because a function contains unsafe code doesn’t mean we need to mark the  \n",
    "entire function as unsafe. In fact, wrapping unsafe code in a safe function is  \n",
    "a common abstraction. As an example, let’s study the split_at_mut function from  \n",
    "the standard library, which requires some unsafe code. We’ll explore how we  \n",
    "might implement it. \n",
    "\n",
    "This safe method is defined on mutable slices:  \n",
    "- it takes one slice and makes it two by splitting the slice at the index given  \n",
    "as an argument. \n",
    "\n",
    "> Listing 19-4 shows how to use split_at_mut."
   ]
  },
  {
   "cell_type": "code",
   "execution_count": 20,
   "metadata": {
    "vscode": {
     "languageId": "rust"
    }
   },
   "outputs": [
    {
     "data": {
      "text/plain": [
       "()"
      ]
     },
     "execution_count": 20,
     "metadata": {},
     "output_type": "execute_result"
    }
   ],
   "source": [
    "{\n",
    "    let mut v = vec![1, 2, 3, 4, 5, 6];\n",
    "\n",
    "    let r = &mut v[..];\n",
    "\n",
    "    let (a, b) = r.split_at_mut(3);\n",
    "\n",
    "    assert_eq!(a, &mut [1, 2, 3]);\n",
    "    assert_eq!(b, &mut [4, 5, 6]);\n",
    "}"
   ]
  },
  {
   "cell_type": "markdown",
   "metadata": {},
   "source": [
    "> Listing 19-4: Using the safe split_at_mut function\n",
    "\n",
    "We can’t implement this function using only safe Rust. An attempt might look  \n",
    "something like Listing 19-5, which won’t compile. For simplicity, we’ll  \n",
    "implement split_at_mut as a function rather than a method and only for slices  \n",
    "of i32 values rather than for a generic type T."
   ]
  },
  {
   "cell_type": "code",
   "execution_count": 35,
   "metadata": {
    "vscode": {
     "languageId": "rust"
    }
   },
   "outputs": [
    {
     "ename": "Error",
     "evalue": "cannot borrow `*values` as mutable more than once at a time",
     "output_type": "error",
     "traceback": [
      "\u001b[31m[E0499] Error:\u001b[0m cannot borrow `*values` as mutable more than once at a time",
      "    \u001b[38;5;246m╭\u001b[0m\u001b[38;5;246m─\u001b[0m\u001b[38;5;246m[\u001b[0mcommand_35:1:1\u001b[38;5;246m]\u001b[0m",
      "    \u001b[38;5;246m│\u001b[0m",
      " \u001b[38;5;246m 4 │\u001b[0m \u001b[38;5;249mf\u001b[0m\u001b[38;5;249mn\u001b[0m\u001b[38;5;249m \u001b[0m\u001b[38;5;249ms\u001b[0m\u001b[38;5;249mp\u001b[0m\u001b[38;5;249ml\u001b[0m\u001b[38;5;249mi\u001b[0m\u001b[38;5;249mt\u001b[0m\u001b[38;5;249m_\u001b[0m\u001b[38;5;249ma\u001b[0m\u001b[38;5;249mt\u001b[0m\u001b[38;5;249m_\u001b[0m\u001b[38;5;249mm\u001b[0m\u001b[38;5;249mu\u001b[0m\u001b[38;5;249mt\u001b[0m\u001b[38;5;249m(\u001b[0m\u001b[38;5;249mv\u001b[0m\u001b[38;5;249ma\u001b[0m\u001b[38;5;249ml\u001b[0m\u001b[38;5;249mu\u001b[0m\u001b[38;5;249me\u001b[0m\u001b[38;5;249ms\u001b[0m\u001b[38;5;249m:\u001b[0m\u001b[38;5;249m \u001b[0m\u001b[38;5;68m&\u001b[0m\u001b[38;5;249mm\u001b[0m\u001b[38;5;249mu\u001b[0m\u001b[38;5;249mt\u001b[0m\u001b[38;5;249m \u001b[0m\u001b[38;5;249m[\u001b[0m\u001b[38;5;249mi\u001b[0m\u001b[38;5;249m3\u001b[0m\u001b[38;5;249m2\u001b[0m\u001b[38;5;249m]\u001b[0m\u001b[38;5;249m,\u001b[0m\u001b[38;5;249m \u001b[0m\u001b[38;5;249mm\u001b[0m\u001b[38;5;249mi\u001b[0m\u001b[38;5;249md\u001b[0m\u001b[38;5;249m:\u001b[0m\u001b[38;5;249m \u001b[0m\u001b[38;5;249mu\u001b[0m\u001b[38;5;249ms\u001b[0m\u001b[38;5;249mi\u001b[0m\u001b[38;5;249mz\u001b[0m\u001b[38;5;249me\u001b[0m\u001b[38;5;249m)\u001b[0m\u001b[38;5;249m \u001b[0m\u001b[38;5;249m-\u001b[0m\u001b[38;5;249m>\u001b[0m\u001b[38;5;249m \u001b[0m\u001b[38;5;249m(\u001b[0m\u001b[38;5;249m&\u001b[0m\u001b[38;5;249mm\u001b[0m\u001b[38;5;249mu\u001b[0m\u001b[38;5;249mt\u001b[0m\u001b[38;5;249m \u001b[0m\u001b[38;5;249m[\u001b[0m\u001b[38;5;249mi\u001b[0m\u001b[38;5;249m3\u001b[0m\u001b[38;5;249m2\u001b[0m\u001b[38;5;249m]\u001b[0m\u001b[38;5;249m,\u001b[0m\u001b[38;5;249m \u001b[0m\u001b[38;5;249m&\u001b[0m\u001b[38;5;249mm\u001b[0m\u001b[38;5;249mu\u001b[0m\u001b[38;5;249mt\u001b[0m\u001b[38;5;249m \u001b[0m\u001b[38;5;249m[\u001b[0m\u001b[38;5;249mi\u001b[0m\u001b[38;5;249m3\u001b[0m\u001b[38;5;249m2\u001b[0m\u001b[38;5;249m]\u001b[0m\u001b[38;5;249m)\u001b[0m\u001b[38;5;249m{\u001b[0m",
      " \u001b[38;5;246m   ·\u001b[0m                         \u001b[38;5;68m┬\u001b[0m  ",
      " \u001b[38;5;246m   ·\u001b[0m                         \u001b[38;5;68m╰\u001b[0m\u001b[38;5;68m─\u001b[0m\u001b[38;5;68m─\u001b[0m let's call the lifetime of this reference `'1`",
      " \u001b[38;5;246m   ·\u001b[0m ",
      " \u001b[38;5;246m15 │\u001b[0m \u001b[38;5;249m \u001b[0m\u001b[38;5;249m \u001b[0m\u001b[38;5;249m \u001b[0m\u001b[38;5;249m \u001b[0m\u001b[38;5;37m(\u001b[0m\u001b[38;5;37m&\u001b[0m\u001b[38;5;37mm\u001b[0m\u001b[38;5;37mu\u001b[0m\u001b[38;5;37mt\u001b[0m\u001b[38;5;37m \u001b[0m\u001b[38;5;54mv\u001b[0m\u001b[38;5;54ma\u001b[0m\u001b[38;5;54ml\u001b[0m\u001b[38;5;54mu\u001b[0m\u001b[38;5;54me\u001b[0m\u001b[38;5;54ms\u001b[0m\u001b[38;5;37m[\u001b[0m\u001b[38;5;37m.\u001b[0m\u001b[38;5;37m.\u001b[0m\u001b[38;5;37mm\u001b[0m\u001b[38;5;37mi\u001b[0m\u001b[38;5;37md\u001b[0m\u001b[38;5;37m]\u001b[0m\u001b[38;5;37m,\u001b[0m\u001b[38;5;37m \u001b[0m\u001b[38;5;37m&\u001b[0m\u001b[38;5;37mm\u001b[0m\u001b[38;5;37mu\u001b[0m\u001b[38;5;37mt\u001b[0m\u001b[38;5;37m \u001b[0m\u001b[38;5;100mv\u001b[0m\u001b[38;5;100ma\u001b[0m\u001b[38;5;100ml\u001b[0m\u001b[38;5;100mu\u001b[0m\u001b[38;5;100me\u001b[0m\u001b[38;5;100ms\u001b[0m\u001b[38;5;37m[\u001b[0m\u001b[38;5;37mm\u001b[0m\u001b[38;5;37mi\u001b[0m\u001b[38;5;37md\u001b[0m\u001b[38;5;37m.\u001b[0m\u001b[38;5;37m.\u001b[0m\u001b[38;5;37m]\u001b[0m\u001b[38;5;37m)\u001b[0m",
      " \u001b[38;5;246m   ·\u001b[0m     \u001b[38;5;37m─\u001b[0m\u001b[38;5;37m─\u001b[0m\u001b[38;5;37m─\u001b[0m\u001b[38;5;37m─\u001b[0m\u001b[38;5;37m─\u001b[0m\u001b[38;5;37m─\u001b[0m\u001b[38;5;54m─\u001b[0m\u001b[38;5;54m─\u001b[0m\u001b[38;5;54m─\u001b[0m\u001b[38;5;54m┬\u001b[0m\u001b[38;5;54m─\u001b[0m\u001b[38;5;54m─\u001b[0m\u001b[38;5;37m─\u001b[0m\u001b[38;5;37m─\u001b[0m\u001b[38;5;37m─\u001b[0m\u001b[38;5;37m─\u001b[0m\u001b[38;5;37m─\u001b[0m\u001b[38;5;37m─\u001b[0m\u001b[38;5;37m─\u001b[0m\u001b[38;5;37m─\u001b[0m\u001b[38;5;37m┬\u001b[0m\u001b[38;5;37m─\u001b[0m\u001b[38;5;37m─\u001b[0m\u001b[38;5;37m─\u001b[0m\u001b[38;5;37m─\u001b[0m\u001b[38;5;37m─\u001b[0m\u001b[38;5;100m─\u001b[0m\u001b[38;5;100m─\u001b[0m\u001b[38;5;100m─\u001b[0m\u001b[38;5;100m┬\u001b[0m\u001b[38;5;100m─\u001b[0m\u001b[38;5;100m─\u001b[0m\u001b[38;5;37m─\u001b[0m\u001b[38;5;37m─\u001b[0m\u001b[38;5;37m─\u001b[0m\u001b[38;5;37m─\u001b[0m\u001b[38;5;37m─\u001b[0m\u001b[38;5;37m─\u001b[0m\u001b[38;5;37m─\u001b[0m\u001b[38;5;37m─\u001b[0m  ",
      " \u001b[38;5;246m   ·\u001b[0m              \u001b[38;5;54m╰\u001b[0m\u001b[38;5;54m─\u001b[0m\u001b[38;5;54m─\u001b[0m\u001b[38;5;54m─\u001b[0m\u001b[38;5;54m─\u001b[0m\u001b[38;5;54m─\u001b[0m\u001b[38;5;54m─\u001b[0m\u001b[38;5;54m─\u001b[0m\u001b[38;5;54m─\u001b[0m\u001b[38;5;54m─\u001b[0m\u001b[38;5;54m─\u001b[0m\u001b[38;5;54m─\u001b[0m\u001b[38;5;54m─\u001b[0m\u001b[38;5;54m─\u001b[0m\u001b[38;5;54m─\u001b[0m\u001b[38;5;54m─\u001b[0m\u001b[38;5;54m─\u001b[0m\u001b[38;5;54m─\u001b[0m\u001b[38;5;54m─\u001b[0m\u001b[38;5;54m─\u001b[0m\u001b[38;5;54m─\u001b[0m\u001b[38;5;54m─\u001b[0m\u001b[38;5;54m─\u001b[0m\u001b[38;5;54m─\u001b[0m\u001b[38;5;54m─\u001b[0m\u001b[38;5;54m─\u001b[0m\u001b[38;5;54m─\u001b[0m\u001b[38;5;54m─\u001b[0m\u001b[38;5;54m─\u001b[0m\u001b[38;5;54m─\u001b[0m\u001b[38;5;54m─\u001b[0m\u001b[38;5;54m─\u001b[0m\u001b[38;5;54m─\u001b[0m first mutable borrow occurs here",
      " \u001b[38;5;246m   ·\u001b[0m                         \u001b[38;5;37m│\u001b[0m        \u001b[38;5;100m│\u001b[0m            ",
      " \u001b[38;5;246m   ·\u001b[0m                         \u001b[38;5;37m╰\u001b[0m\u001b[38;5;37m─\u001b[0m\u001b[38;5;37m─\u001b[0m\u001b[38;5;37m─\u001b[0m\u001b[38;5;37m─\u001b[0m\u001b[38;5;37m─\u001b[0m\u001b[38;5;37m─\u001b[0m\u001b[38;5;37m─\u001b[0m\u001b[38;5;37m─\u001b[0m\u001b[38;5;37m─\u001b[0m\u001b[38;5;37m─\u001b[0m\u001b[38;5;37m─\u001b[0m\u001b[38;5;37m─\u001b[0m\u001b[38;5;37m─\u001b[0m\u001b[38;5;37m─\u001b[0m\u001b[38;5;37m─\u001b[0m\u001b[38;5;37m─\u001b[0m\u001b[38;5;37m─\u001b[0m\u001b[38;5;37m─\u001b[0m\u001b[38;5;37m─\u001b[0m\u001b[38;5;37m─\u001b[0m\u001b[38;5;37m─\u001b[0m returning this value requires that `*values` is borrowed for `'1`",
      " \u001b[38;5;246m   ·\u001b[0m                                  \u001b[38;5;100m│\u001b[0m            ",
      " \u001b[38;5;246m   ·\u001b[0m                                  \u001b[38;5;100m╰\u001b[0m\u001b[38;5;100m─\u001b[0m\u001b[38;5;100m─\u001b[0m\u001b[38;5;100m─\u001b[0m\u001b[38;5;100m─\u001b[0m\u001b[38;5;100m─\u001b[0m\u001b[38;5;100m─\u001b[0m\u001b[38;5;100m─\u001b[0m\u001b[38;5;100m─\u001b[0m\u001b[38;5;100m─\u001b[0m\u001b[38;5;100m─\u001b[0m\u001b[38;5;100m─\u001b[0m\u001b[38;5;100m─\u001b[0m second mutable borrow occurs here",
      "\u001b[38;5;246m────╯\u001b[0m"
     ]
    }
   ],
   "source": [
    "/// Takes a slice\n",
    "/// - split at mid\n",
    "/// - returns a tuple of the resulting 2 slices\n",
    "fn split_at_mut(values: &mut [i32], mid: usize) -> (&mut [i32], &mut [i32]){\n",
    "    let len = values.len();\n",
    "\n",
    "    // safety check that `mid` is within our slice bounds\n",
    "    // - else, PANIC and TERMINATE program HERE\n",
    "    assert!(mid <= len);\n",
    "\n",
    "    // @audit-ok : rust borrow checker will not allow this because `values` is \n",
    "    // mutable\n",
    "    // - and can ONLY be borrowed ONCE\n",
    "    // - in generating the 2nd slice, `values` is borrowed AGAIN\n",
    "    (&mut values[..mid], &mut values[mid..])\n",
    "    // Borrowing different NON OVERLAPPING parts of a slice is FUNDAMENTALLY OK\n",
    "    // @audit-ok ... but Rust borrow checker DOES NOT KNOW THIS\n",
    "    // - this is a SUFFICIENT ENOUGH basis to deploy `unsafe` code\n",
    "}"
   ]
  },
  {
   "cell_type": "markdown",
   "metadata": {},
   "source": [
    "> Listing 19-5: An attempted implementation of split_at_mut using only safe Rust\n",
    "\n",
    "This function first gets the total length of the slice. Then it asserts that  \n",
    "the index given as a parameter is within the slice by checking whether it’s  \n",
    "less than or equal to the length. The assertion means that if we pass an index  \n",
    "that is greater than the length to split the slice at, the function will panic  \n",
    "before it attempts to use that index.\n",
    "\n",
    "Then we return two mutable slices in a tuple: \n",
    "\n",
    "- one from the start of the original slice to the mid index  \n",
    "- and another from mid to the end of the slice.\n",
    "\n",
    "When we try to compile the code in Listing 19-5, we’ll get an error.\n",
    "\n",
    "```sh\n",
    "$ cargo run\n",
    "   Compiling unsafe-example v0.1.0 (file:///projects/unsafe-example)\n",
    "error[E0499]: cannot borrow `*values` as mutable more than once at a time\n",
    " --> src/main.rs:6:31\n",
    "  |\n",
    "1 | fn split_at_mut(values: &mut [i32], mid: usize) -> (&mut [i32], &mut [i32]) {\n",
    "  |                         - let's call the lifetime of this reference `'1`\n",
    "...\n",
    "6 |     (&mut values[..mid], &mut values[mid..])\n",
    "  |     --------------------------^^^^^^--------\n",
    "  |     |     |                   |\n",
    "  |     |     |                   second mutable borrow occurs here\n",
    "  |     |     first mutable borrow occurs here\n",
    "  |     returning this value requires that `*values` is borrowed for `'1`\n",
    "\n",
    "For more information about this error, try `rustc --explain E0499`.\n",
    "error: could not compile `unsafe-example` due to previous error\n",
    "```\n",
    "\n",
    "Rust’s borrow checker can’t understand that we’re borrowing different parts of  \n",
    "the slice; it only knows that we’re borrowing from the same slice twice.  \n",
    "\n",
    "- Borrowing different parts of a slice is fundamentally okay  \n",
    "- because the two slices aren’t overlapping,  \n",
    "- but Rust isn’t smart enough to know this.  \n",
    "\n",
    "When we know code is okay, but Rust doesn’t, it’s time to reach for unsafe code.\n",
    "\n",
    "Listing 19-6 shows how to use an unsafe block, a raw pointer, and some calls to  \n",
    "unsafe functions to make the implementation of split_at_mut work."
   ]
  },
  {
   "cell_type": "code",
   "execution_count": 32,
   "metadata": {
    "vscode": {
     "languageId": "rust"
    }
   },
   "outputs": [],
   "source": [
    "// import slice module from standard library\n",
    "// - provides functions for handling slices\n",
    "use std::slice;\n",
    "\n",
    "/// Takes a slice : \n",
    "/// - splits at mid\n",
    "/// - returns a tuple of those two slices\n",
    "fn split_at_mut(value: &mut [i32], mid: usize) -> (&mut [i32], &mut [i32]){\n",
    "\n",
    "    // get original slice length\n",
    "    let len = value.len();\n",
    "    // get RAW POINTER to the data in the slice\n",
    "    // - RAW POINTER allow for MORE CONTROL and LESS SAFETY in Rust\n",
    "    let ptr = value.as_mut_ptr();\n",
    "\n",
    "    // safety check that mid is within the slice bound\n",
    "    // - if out of bound, PANIC and TERMINATE the program\n",
    "    assert!(mid <= len);\n",
    "\n",
    "    // start an unsafe block\n",
    "    unsafe {\n",
    "        // returns a tuple of two mutable slices\n",
    "        (\n",
    "            // from_raw_parts_mut : creates a mutable slice from :\n",
    "            // - ptr : a raw pointer to the first element in the slice\n",
    "            // - the length of the slice : mid\n",
    "            slice::from_raw_parts_mut(ptr, mid),\n",
    "            // from_raw_parts_mut : creates a mutable slice from :\n",
    "            // - ptr : a raw pointer to starting point of ([0] + mid)\n",
    "            // - the length of the slice : (len - mid)\n",
    "            slice::from_raw_parts_mut(ptr.add(mid), len -mid)\n",
    "        )\n",
    "    }\n",
    "}"
   ]
  }
 ],
 "metadata": {
  "kernelspec": {
   "display_name": "Rust",
   "language": "rust",
   "name": "rust"
  },
  "language_info": {
   "codemirror_mode": "rust",
   "file_extension": ".rs",
   "mimetype": "text/rust",
   "name": "Rust",
   "pygment_lexer": "rust",
   "version": ""
  },
  "orig_nbformat": 4
 },
 "nbformat": 4,
 "nbformat_minor": 2
}
