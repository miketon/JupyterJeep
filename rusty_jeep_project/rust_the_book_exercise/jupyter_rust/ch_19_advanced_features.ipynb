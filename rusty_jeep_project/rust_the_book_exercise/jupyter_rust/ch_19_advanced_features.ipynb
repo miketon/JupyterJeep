{
 "cells": [
  {
   "attachments": {},
   "cell_type": "markdown",
   "metadata": {},
   "source": [
    "Advanced Features\n",
    "---\n",
    "\n",
    "By now, you’ve learned the most commonly used parts of the Rust programming  \n",
    "language. Before we do one more project in Chapter 20, we’ll look at a few  \n",
    "aspects of the language you might run into every once in a while, but may not  \n",
    "use every day. You can use this chapter as a reference for when you encounter  \n",
    "any unknowns. The features covered here are useful in very specific situations.  \n",
    "Although you might not reach for them often, we want to make sure you have a  \n",
    "grasp of all the features Rust has to offer.\n",
    "\n",
    "In this chapter, we’ll cover:\n",
    "\n",
    "- **`Unsafe Rust:`** how to opt out of some of Rust’s guarantees and take  \n",
    "responsibility for manually upholding those guarantees\n",
    "- **`Advanced traits:`** associated types, default type parameters, fully  \n",
    "qualified syntax, supertraits, and the newtype pattern in relation to traits\n",
    "- **`Advanced types:`** more about the newtype pattern, type aliases, the never  \n",
    "type, and dynamically sized types\n",
    "- **`Advanced functions and closures:`** function pointers and returning  \n",
    "closures  \n",
    "- **`Macros:`** ways to define code that defines more code at compile time  \n",
    "\n",
    "It’s a panoply of Rust features with something for everyone! Let’s dive in!"
   ]
  },
  {
   "cell_type": "markdown",
   "metadata": {},
   "source": [
    "### Unsafe Rust\n",
    "\n",
    "All the code we’ve discussed so far has had Rust’s memory safety guarantees  \n",
    "enforced at compile time. However, Rust has a second language hidden inside it  \n",
    "that doesn’t enforce these memory safety guarantees:  \n",
    "\n",
    "- it’s called unsafe Rust and works just like regular Rust, but gives us extra  \n",
    "superpowers.\n",
    "\n",
    "**`Unsafe Rust`** exists because, by nature, static analysis is conservative.  \n",
    "When the compiler tries to determine whether or not code upholds the guarantees,  \n",
    "it’s better for it to reject some valid programs than to accept some invalid  \n",
    "programs. Although the code might be okay, if the Rust compiler doesn’t have  \n",
    "enough information to be confident, it will reject the code. In these cases,  \n",
    "you can use unsafe code to tell the compiler, “Trust me, I know what I’m doing.”  \n",
    "Be warned, however, that you use unsafe Rust at your own risk:  \n",
    "\n",
    "- if you use unsafe code incorrectly, problems can occur due to memory unsafety,  \n",
    "such as null pointer dereferencing.\n",
    "\n",
    "Another reason Rust has an unsafe alter ego is that the underlying computer  \n",
    "hardware is inherently unsafe. If Rust didn’t let you do unsafe operations, you  \n",
    "couldn’t do certain tasks. Rust needs to allow you to do low-level systems  \n",
    "programming, such as directly interacting with the operating system or even  \n",
    "writing your own operating system. Working with low-level systems programming is  \n",
    "one of the goals of the language. Let’s explore what we can do with unsafe Rust  \n",
    "and how to do it."
   ]
  },
  {
   "cell_type": "markdown",
   "metadata": {},
   "source": [
    "### Unsafe SuperPowers\n",
    "\n",
    "To switch to unsafe Rust, use the **`unsafe`** keyword and then start a new  \n",
    "block that holds the unsafe code. You can take five actions in unsafe Rust that  \n",
    "you can’t in safe Rust, which we call unsafe superpowers. Those superpowers  \n",
    "include the ability to:\n",
    "\n",
    "- Dereference a raw pointer\n",
    "- Call an unsafe function or method\n",
    "- Access or modify a mutable static variable\n",
    "- Implement an unsafe trait\n",
    "- Access fields of `union`s\n",
    "\n",
    "It’s important to understand that unsafe doesn’t turn off the borrow checker or  \n",
    "disable any other of Rust’s safety checks:  \n",
    "- if you use a reference in unsafe code, it will still be checked.  \n",
    "The unsafe keyword only gives you access to these five features that are then  \n",
    "not checked by the compiler for memory safety. You’ll still get some degree of  \n",
    "safety inside of an unsafe block.\n",
    "\n",
    "In addition, unsafe does not mean the code inside the block is necessarily  \n",
    "dangerous or that it will definitely have memory safety problems:  \n",
    "\n",
    "- the intent is that as the programmer, you’ll ensure the code inside an unsafe  \n",
    "block will access memory in a valid way.\n",
    "\n",
    "People are fallible, and mistakes will happen, but by requiring these five  \n",
    "unsafe operations to be inside blocks annotated with unsafe you’ll know that  \n",
    "any errors related to memory safety must be within an unsafe block. Keep unsafe  \n",
    "blocks small; you’ll be thankful later when you investigate memory bugs.\n",
    "\n",
    "To isolate unsafe code as much as possible, it’s best to enclose unsafe code  \n",
    "within a safe abstraction and provide a safe API, which we’ll discuss later in  \n",
    "the chapter when we examine unsafe functions and methods. Parts of the standard  \n",
    "library are implemented as safe abstractions over unsafe code that has been  \n",
    "audited. Wrapping unsafe code in a safe abstraction prevents uses of unsafe  \n",
    "from leaking out into all the places that you or your users might want to use  \n",
    "the functionality implemented with unsafe code, because using a safe abstraction  \n",
    "is safe.\n",
    "\n",
    "Let’s look at each of the five unsafe superpowers in turn. We’ll also look at  \n",
    "some abstractions that provide a safe interface to unsafe code."
   ]
  },
  {
   "cell_type": "markdown",
   "metadata": {},
   "source": [
    "### Dereferencing a Raw Pointer\n",
    "\n",
    "In Chapter 4, in the “Dangling References” section, we mentioned that the  \n",
    "compiler ensures references are always valid. Unsafe Rust has two new types  \n",
    "called raw pointers that are similar to references. As with references, raw  \n",
    "pointers can be immutable or mutable and are written as *const T and *mut T,  \n",
    "respectively. The asterisk isn’t the dereference operator; it’s part of the  \n",
    "type name. In the context of raw pointers, immutable means that the pointer  \n",
    "can’t be directly assigned to after being dereferenced.\n",
    "\n",
    "Different from references and smart pointers, raw pointers:\n",
    "\n",
    "- Are allowed to ignore the borrowing rules by having both immutable and  \n",
    "mutable pointers or multiple mutable pointers to the same location\n",
    "- Aren’t guaranteed to point to valid memory\n",
    "- Are allowed to be null\n",
    "- Don’t implement any automatic cleanup\n",
    "\n",
    "By opting out of having Rust enforce these guarantees, you can give up  \n",
    "guaranteed safety in exchange for greater performance or the ability to  \n",
    "interface with another language or hardware where Rust’s guarantees don’t  \n",
    "apply.\n",
    "\n",
    "> Listing 19-1 shows how to create an immutable and a mutable raw pointer  \n",
    "from references."
   ]
  },
  {
   "cell_type": "code",
   "execution_count": 2,
   "metadata": {
    "vscode": {
     "languageId": "rust"
    }
   },
   "outputs": [
    {
     "data": {
      "text/plain": [
       "()"
      ]
     },
     "execution_count": 2,
     "metadata": {},
     "output_type": "execute_result"
    }
   ],
   "source": [
    "{\n",
    "    let mut num = 5;\n",
    "\n",
    "    let r1 = &num as *const i32;\n",
    "    let r2 = &mut num as *mut i32;\n",
    "}"
   ]
  },
  {
   "cell_type": "markdown",
   "metadata": {},
   "source": [
    "> Listing 19-1: Creating raw pointers from references\n",
    "\n",
    "Notice that we don’t include the unsafe keyword in this code. We can create raw  \n",
    "pointers in safe code; we just can’t dereference raw pointers outside an unsafe  \n",
    "block, as you’ll see in a bit.\n",
    "\n",
    "We’ve created raw pointers by using as to cast an immutable and a mutable  \n",
    "reference into their corresponding raw pointer types. Because we created them  \n",
    "directly from references guaranteed to be valid, we know these particular raw  \n",
    "pointers are valid, but we can’t make that assumption about just any raw pointer.\n",
    "\n",
    "To demonstrate this, next we’ll create a raw pointer whose validity we can’t be  \n",
    "so certain of. Listing 19-2 shows how to create a raw pointer to an arbitrary  \n",
    "location in memory. Trying to use arbitrary memory is undefined: there might be  \n",
    "data at that address or there might not, the compiler might optimize the code  \n",
    "so there is no memory access, or the program might error with a segmentation  \n",
    "fault. Usually, there is no good reason to write code like this, but it is  \n",
    "possible."
   ]
  },
  {
   "cell_type": "code",
   "execution_count": 3,
   "metadata": {
    "vscode": {
     "languageId": "rust"
    }
   },
   "outputs": [
    {
     "data": {
      "text/plain": [
       "()"
      ]
     },
     "execution_count": 3,
     "metadata": {},
     "output_type": "execute_result"
    }
   ],
   "source": [
    "{\n",
    "    let address = 0x012345usize;\n",
    "    let r = address as *const i32;\n",
    "}"
   ]
  },
  {
   "cell_type": "markdown",
   "metadata": {},
   "source": [
    "> Listing 19-2: Creating a raw pointer to an arbitrary memory address\n",
    "\n",
    "Recall that we can create raw pointers in safe code, but we can’t dereference  \n",
    "raw pointers and read the data being pointed to. In Listing 19-3, we use the  \n",
    "dereference operator * on a raw pointer that requires an unsafe block."
   ]
  },
  {
   "cell_type": "code",
   "execution_count": 6,
   "metadata": {
    "vscode": {
     "languageId": "rust"
    }
   },
   "outputs": [
    {
     "name": "stdout",
     "output_type": "stream",
     "text": [
      "r1 is 5\n",
      "r2 is 5\n"
     ]
    },
    {
     "data": {
      "text/plain": [
       "()"
      ]
     },
     "execution_count": 6,
     "metadata": {},
     "output_type": "execute_result"
    }
   ],
   "source": [
    "{\n",
    "    let mut num = 5;\n",
    "\n",
    "    let r1 = &num as *const i32;\n",
    "    let r2 = &mut num as *mut i32;\n",
    "\n",
    "    unsafe {\n",
    "        // Creating a pointer does no harm @audit : why???\n",
    "        // It's only when we try to access the value that it points at that we\n",
    "        // might end up dealing with an invalid value\n",
    "        println!(\"r1 is {}\", *r1);\n",
    "        println!(\"r2 is {}\", *r2);\n",
    "    }\n",
    "}"
   ]
  },
  {
   "cell_type": "markdown",
   "metadata": {},
   "source": [
    "> Listing 19-3: Dereferencing raw pointers within an unsafe block\n",
    "\n",
    "Creating a pointer does no harm; it’s only when we try to access the value that  \n",
    "it points at that we might end up dealing with an invalid value.\n",
    "\n",
    "Note also that in Listing 19-1 and 19-3, we created *const i32 and *mut i32 raw  \n",
    "pointers that both pointed to the same memory location, where num is stored. If  \n",
    "we instead tried to create an immutable and a mutable reference to num, the code  \n",
    "would not have compiled because Rust’s ownership rules don’t allow a mutable  \n",
    "reference at the same time as any immutable references. With raw pointers, we  \n",
    "can create a mutable pointer and an immutable pointer to the same location and  \n",
    "change data through the mutable pointer, potentially creating a data race.  \n",
    "Be careful!\n",
    "\n",
    "With all of these dangers, why would you ever use raw pointers? One major use  \n",
    "case is when interfacing with C code, as you’ll see in the next section,  \n",
    "“Calling an Unsafe Function or Method.” Another case is when building up safe  \n",
    "abstractions that the borrow checker doesn’t understand. We’ll introduce unsafe  \n",
    "functions and then look at an example of a safe abstraction that uses unsafe  \n",
    "code."
   ]
  },
  {
   "cell_type": "markdown",
   "metadata": {},
   "source": [
    "### Calling an Unsafe Function or Method\n",
    "\n",
    "The second type of operation you can perform in an unsafe block is calling  \n",
    "unsafe functions. Unsafe functions and methods look exactly like regular  \n",
    "functions and methods, but they have an extra unsafe before the rest of the  \n",
    "definition. The unsafe keyword in this context indicates the function has  \n",
    "requirements we need to uphold when we call this function, because Rust can’t  \n",
    "guarantee we’ve met these requirements. By calling an unsafe function within an  \n",
    "unsafe block, we’re saying that we’ve read this function’s documentation and  \n",
    "take responsibility for upholding the function’s contracts.\n",
    "\n",
    "Here is an unsafe function named dangerous that doesn’t do anything in its  \n",
    "body:"
   ]
  },
  {
   "cell_type": "code",
   "execution_count": 13,
   "metadata": {
    "vscode": {
     "languageId": "rust"
    }
   },
   "outputs": [
    {
     "data": {
      "text/plain": [
       "()"
      ]
     },
     "execution_count": 13,
     "metadata": {},
     "output_type": "execute_result"
    }
   ],
   "source": [
    "unsafe fn dangerous() {}\n",
    "\n",
    "// this unsafe block is required to call an unsafe function\n",
    "unsafe {\n",
    "    dangerous();\n",
    "}"
   ]
  },
  {
   "cell_type": "markdown",
   "metadata": {},
   "source": [
    "We must call the dangerous function within a separate unsafe block. If we try  \n",
    "to call dangerous without the unsafe block, we’ll get an error:\n",
    "\n",
    "```sh\n",
    "$ cargo run\n",
    "   Compiling unsafe-example v0.1.0 (file:///projects/unsafe-example)\n",
    "error[E0133]: call to unsafe function is unsafe and requires unsafe function or block\n",
    " --> src/main.rs:4:5\n",
    "  |\n",
    "4 |     dangerous();\n",
    "  |     ^^^^^^^^^^^ call to unsafe function\n",
    "  |\n",
    "  = note: consult the function's documentation for information on how to avoid undefined behavior\n",
    "\n",
    "For more information about this error, try `rustc --explain E0133`.\n",
    "error: could not compile `unsafe-example` due to previous error\n",
    "```\n",
    "\n",
    "With the unsafe block, we’re asserting to Rust that we’ve read the function’s  \n",
    "documentation, we understand how to use it properly, and we’ve verified that  \n",
    "we’re fulfilling the contract of the function.\n",
    "\n",
    "Bodies of unsafe functions are effectively unsafe blocks, so to perform other  \n",
    "unsafe operations within an unsafe function, we don’t need to add another  \n",
    "unsafe block."
   ]
  },
  {
   "cell_type": "markdown",
   "metadata": {},
   "source": [
    "### Creating a Safe Abstraction over Unsafe Code\n",
    "\n",
    "Just because a function contains unsafe code doesn’t mean we need to mark the  \n",
    "entire function as unsafe. In fact, wrapping unsafe code in a safe function is  \n",
    "a common abstraction. As an example, let’s study the split_at_mut function from  \n",
    "the standard library, which requires some unsafe code. We’ll explore how we  \n",
    "might implement it. \n",
    "\n",
    "This safe method is defined on mutable slices:  \n",
    "- it takes one slice and makes it two by splitting the slice at the index given  \n",
    "as an argument. \n",
    "\n",
    "> Listing 19-4 shows how to use split_at_mut."
   ]
  },
  {
   "cell_type": "code",
   "execution_count": 20,
   "metadata": {
    "vscode": {
     "languageId": "rust"
    }
   },
   "outputs": [
    {
     "data": {
      "text/plain": [
       "()"
      ]
     },
     "execution_count": 20,
     "metadata": {},
     "output_type": "execute_result"
    }
   ],
   "source": [
    "{\n",
    "    let mut v = vec![1, 2, 3, 4, 5, 6];\n",
    "\n",
    "    let r = &mut v[..];\n",
    "\n",
    "    let (a, b) = r.split_at_mut(3);\n",
    "\n",
    "    assert_eq!(a, &mut [1, 2, 3]);\n",
    "    assert_eq!(b, &mut [4, 5, 6]);\n",
    "}"
   ]
  },
  {
   "cell_type": "markdown",
   "metadata": {},
   "source": [
    "> Listing 19-4: Using the safe split_at_mut function\n",
    "\n",
    "We can’t implement this function using only safe Rust. An attempt might look  \n",
    "something like Listing 19-5, which won’t compile. For simplicity, we’ll  \n",
    "implement split_at_mut as a function rather than a method and only for slices  \n",
    "of i32 values rather than for a generic type T."
   ]
  },
  {
   "cell_type": "code",
   "execution_count": 35,
   "metadata": {
    "vscode": {
     "languageId": "rust"
    }
   },
   "outputs": [
    {
     "ename": "Error",
     "evalue": "cannot borrow `*values` as mutable more than once at a time",
     "output_type": "error",
     "traceback": [
      "\u001b[31m[E0499] Error:\u001b[0m cannot borrow `*values` as mutable more than once at a time",
      "    \u001b[38;5;246m╭\u001b[0m\u001b[38;5;246m─\u001b[0m\u001b[38;5;246m[\u001b[0mcommand_35:1:1\u001b[38;5;246m]\u001b[0m",
      "    \u001b[38;5;246m│\u001b[0m",
      " \u001b[38;5;246m 4 │\u001b[0m \u001b[38;5;249mf\u001b[0m\u001b[38;5;249mn\u001b[0m\u001b[38;5;249m \u001b[0m\u001b[38;5;249ms\u001b[0m\u001b[38;5;249mp\u001b[0m\u001b[38;5;249ml\u001b[0m\u001b[38;5;249mi\u001b[0m\u001b[38;5;249mt\u001b[0m\u001b[38;5;249m_\u001b[0m\u001b[38;5;249ma\u001b[0m\u001b[38;5;249mt\u001b[0m\u001b[38;5;249m_\u001b[0m\u001b[38;5;249mm\u001b[0m\u001b[38;5;249mu\u001b[0m\u001b[38;5;249mt\u001b[0m\u001b[38;5;249m(\u001b[0m\u001b[38;5;249mv\u001b[0m\u001b[38;5;249ma\u001b[0m\u001b[38;5;249ml\u001b[0m\u001b[38;5;249mu\u001b[0m\u001b[38;5;249me\u001b[0m\u001b[38;5;249ms\u001b[0m\u001b[38;5;249m:\u001b[0m\u001b[38;5;249m \u001b[0m\u001b[38;5;68m&\u001b[0m\u001b[38;5;249mm\u001b[0m\u001b[38;5;249mu\u001b[0m\u001b[38;5;249mt\u001b[0m\u001b[38;5;249m \u001b[0m\u001b[38;5;249m[\u001b[0m\u001b[38;5;249mi\u001b[0m\u001b[38;5;249m3\u001b[0m\u001b[38;5;249m2\u001b[0m\u001b[38;5;249m]\u001b[0m\u001b[38;5;249m,\u001b[0m\u001b[38;5;249m \u001b[0m\u001b[38;5;249mm\u001b[0m\u001b[38;5;249mi\u001b[0m\u001b[38;5;249md\u001b[0m\u001b[38;5;249m:\u001b[0m\u001b[38;5;249m \u001b[0m\u001b[38;5;249mu\u001b[0m\u001b[38;5;249ms\u001b[0m\u001b[38;5;249mi\u001b[0m\u001b[38;5;249mz\u001b[0m\u001b[38;5;249me\u001b[0m\u001b[38;5;249m)\u001b[0m\u001b[38;5;249m \u001b[0m\u001b[38;5;249m-\u001b[0m\u001b[38;5;249m>\u001b[0m\u001b[38;5;249m \u001b[0m\u001b[38;5;249m(\u001b[0m\u001b[38;5;249m&\u001b[0m\u001b[38;5;249mm\u001b[0m\u001b[38;5;249mu\u001b[0m\u001b[38;5;249mt\u001b[0m\u001b[38;5;249m \u001b[0m\u001b[38;5;249m[\u001b[0m\u001b[38;5;249mi\u001b[0m\u001b[38;5;249m3\u001b[0m\u001b[38;5;249m2\u001b[0m\u001b[38;5;249m]\u001b[0m\u001b[38;5;249m,\u001b[0m\u001b[38;5;249m \u001b[0m\u001b[38;5;249m&\u001b[0m\u001b[38;5;249mm\u001b[0m\u001b[38;5;249mu\u001b[0m\u001b[38;5;249mt\u001b[0m\u001b[38;5;249m \u001b[0m\u001b[38;5;249m[\u001b[0m\u001b[38;5;249mi\u001b[0m\u001b[38;5;249m3\u001b[0m\u001b[38;5;249m2\u001b[0m\u001b[38;5;249m]\u001b[0m\u001b[38;5;249m)\u001b[0m\u001b[38;5;249m{\u001b[0m",
      " \u001b[38;5;246m   ·\u001b[0m                         \u001b[38;5;68m┬\u001b[0m  ",
      " \u001b[38;5;246m   ·\u001b[0m                         \u001b[38;5;68m╰\u001b[0m\u001b[38;5;68m─\u001b[0m\u001b[38;5;68m─\u001b[0m let's call the lifetime of this reference `'1`",
      " \u001b[38;5;246m   ·\u001b[0m ",
      " \u001b[38;5;246m15 │\u001b[0m \u001b[38;5;249m \u001b[0m\u001b[38;5;249m \u001b[0m\u001b[38;5;249m \u001b[0m\u001b[38;5;249m \u001b[0m\u001b[38;5;37m(\u001b[0m\u001b[38;5;37m&\u001b[0m\u001b[38;5;37mm\u001b[0m\u001b[38;5;37mu\u001b[0m\u001b[38;5;37mt\u001b[0m\u001b[38;5;37m \u001b[0m\u001b[38;5;54mv\u001b[0m\u001b[38;5;54ma\u001b[0m\u001b[38;5;54ml\u001b[0m\u001b[38;5;54mu\u001b[0m\u001b[38;5;54me\u001b[0m\u001b[38;5;54ms\u001b[0m\u001b[38;5;37m[\u001b[0m\u001b[38;5;37m.\u001b[0m\u001b[38;5;37m.\u001b[0m\u001b[38;5;37mm\u001b[0m\u001b[38;5;37mi\u001b[0m\u001b[38;5;37md\u001b[0m\u001b[38;5;37m]\u001b[0m\u001b[38;5;37m,\u001b[0m\u001b[38;5;37m \u001b[0m\u001b[38;5;37m&\u001b[0m\u001b[38;5;37mm\u001b[0m\u001b[38;5;37mu\u001b[0m\u001b[38;5;37mt\u001b[0m\u001b[38;5;37m \u001b[0m\u001b[38;5;100mv\u001b[0m\u001b[38;5;100ma\u001b[0m\u001b[38;5;100ml\u001b[0m\u001b[38;5;100mu\u001b[0m\u001b[38;5;100me\u001b[0m\u001b[38;5;100ms\u001b[0m\u001b[38;5;37m[\u001b[0m\u001b[38;5;37mm\u001b[0m\u001b[38;5;37mi\u001b[0m\u001b[38;5;37md\u001b[0m\u001b[38;5;37m.\u001b[0m\u001b[38;5;37m.\u001b[0m\u001b[38;5;37m]\u001b[0m\u001b[38;5;37m)\u001b[0m",
      " \u001b[38;5;246m   ·\u001b[0m     \u001b[38;5;37m─\u001b[0m\u001b[38;5;37m─\u001b[0m\u001b[38;5;37m─\u001b[0m\u001b[38;5;37m─\u001b[0m\u001b[38;5;37m─\u001b[0m\u001b[38;5;37m─\u001b[0m\u001b[38;5;54m─\u001b[0m\u001b[38;5;54m─\u001b[0m\u001b[38;5;54m─\u001b[0m\u001b[38;5;54m┬\u001b[0m\u001b[38;5;54m─\u001b[0m\u001b[38;5;54m─\u001b[0m\u001b[38;5;37m─\u001b[0m\u001b[38;5;37m─\u001b[0m\u001b[38;5;37m─\u001b[0m\u001b[38;5;37m─\u001b[0m\u001b[38;5;37m─\u001b[0m\u001b[38;5;37m─\u001b[0m\u001b[38;5;37m─\u001b[0m\u001b[38;5;37m─\u001b[0m\u001b[38;5;37m┬\u001b[0m\u001b[38;5;37m─\u001b[0m\u001b[38;5;37m─\u001b[0m\u001b[38;5;37m─\u001b[0m\u001b[38;5;37m─\u001b[0m\u001b[38;5;37m─\u001b[0m\u001b[38;5;100m─\u001b[0m\u001b[38;5;100m─\u001b[0m\u001b[38;5;100m─\u001b[0m\u001b[38;5;100m┬\u001b[0m\u001b[38;5;100m─\u001b[0m\u001b[38;5;100m─\u001b[0m\u001b[38;5;37m─\u001b[0m\u001b[38;5;37m─\u001b[0m\u001b[38;5;37m─\u001b[0m\u001b[38;5;37m─\u001b[0m\u001b[38;5;37m─\u001b[0m\u001b[38;5;37m─\u001b[0m\u001b[38;5;37m─\u001b[0m\u001b[38;5;37m─\u001b[0m  ",
      " \u001b[38;5;246m   ·\u001b[0m              \u001b[38;5;54m╰\u001b[0m\u001b[38;5;54m─\u001b[0m\u001b[38;5;54m─\u001b[0m\u001b[38;5;54m─\u001b[0m\u001b[38;5;54m─\u001b[0m\u001b[38;5;54m─\u001b[0m\u001b[38;5;54m─\u001b[0m\u001b[38;5;54m─\u001b[0m\u001b[38;5;54m─\u001b[0m\u001b[38;5;54m─\u001b[0m\u001b[38;5;54m─\u001b[0m\u001b[38;5;54m─\u001b[0m\u001b[38;5;54m─\u001b[0m\u001b[38;5;54m─\u001b[0m\u001b[38;5;54m─\u001b[0m\u001b[38;5;54m─\u001b[0m\u001b[38;5;54m─\u001b[0m\u001b[38;5;54m─\u001b[0m\u001b[38;5;54m─\u001b[0m\u001b[38;5;54m─\u001b[0m\u001b[38;5;54m─\u001b[0m\u001b[38;5;54m─\u001b[0m\u001b[38;5;54m─\u001b[0m\u001b[38;5;54m─\u001b[0m\u001b[38;5;54m─\u001b[0m\u001b[38;5;54m─\u001b[0m\u001b[38;5;54m─\u001b[0m\u001b[38;5;54m─\u001b[0m\u001b[38;5;54m─\u001b[0m\u001b[38;5;54m─\u001b[0m\u001b[38;5;54m─\u001b[0m\u001b[38;5;54m─\u001b[0m\u001b[38;5;54m─\u001b[0m first mutable borrow occurs here",
      " \u001b[38;5;246m   ·\u001b[0m                         \u001b[38;5;37m│\u001b[0m        \u001b[38;5;100m│\u001b[0m            ",
      " \u001b[38;5;246m   ·\u001b[0m                         \u001b[38;5;37m╰\u001b[0m\u001b[38;5;37m─\u001b[0m\u001b[38;5;37m─\u001b[0m\u001b[38;5;37m─\u001b[0m\u001b[38;5;37m─\u001b[0m\u001b[38;5;37m─\u001b[0m\u001b[38;5;37m─\u001b[0m\u001b[38;5;37m─\u001b[0m\u001b[38;5;37m─\u001b[0m\u001b[38;5;37m─\u001b[0m\u001b[38;5;37m─\u001b[0m\u001b[38;5;37m─\u001b[0m\u001b[38;5;37m─\u001b[0m\u001b[38;5;37m─\u001b[0m\u001b[38;5;37m─\u001b[0m\u001b[38;5;37m─\u001b[0m\u001b[38;5;37m─\u001b[0m\u001b[38;5;37m─\u001b[0m\u001b[38;5;37m─\u001b[0m\u001b[38;5;37m─\u001b[0m\u001b[38;5;37m─\u001b[0m\u001b[38;5;37m─\u001b[0m returning this value requires that `*values` is borrowed for `'1`",
      " \u001b[38;5;246m   ·\u001b[0m                                  \u001b[38;5;100m│\u001b[0m            ",
      " \u001b[38;5;246m   ·\u001b[0m                                  \u001b[38;5;100m╰\u001b[0m\u001b[38;5;100m─\u001b[0m\u001b[38;5;100m─\u001b[0m\u001b[38;5;100m─\u001b[0m\u001b[38;5;100m─\u001b[0m\u001b[38;5;100m─\u001b[0m\u001b[38;5;100m─\u001b[0m\u001b[38;5;100m─\u001b[0m\u001b[38;5;100m─\u001b[0m\u001b[38;5;100m─\u001b[0m\u001b[38;5;100m─\u001b[0m\u001b[38;5;100m─\u001b[0m\u001b[38;5;100m─\u001b[0m second mutable borrow occurs here",
      "\u001b[38;5;246m────╯\u001b[0m"
     ]
    }
   ],
   "source": [
    "/// Takes a slice\n",
    "/// - split at mid\n",
    "/// - returns a tuple of the resulting 2 slices\n",
    "fn split_at_mut(values: &mut [i32], mid: usize) -> (&mut [i32], &mut [i32]){\n",
    "    let len = values.len();\n",
    "\n",
    "    // safety check that `mid` is within our slice bounds\n",
    "    // - else, PANIC and TERMINATE program HERE\n",
    "    assert!(mid <= len);\n",
    "\n",
    "    // @audit-ok : rust borrow checker will not allow this because `values` is \n",
    "    // mutable\n",
    "    // - and can ONLY be borrowed ONCE\n",
    "    // - in generating the 2nd slice, `values` is borrowed AGAIN\n",
    "    (&mut values[..mid], &mut values[mid..])\n",
    "    // Borrowing different NON OVERLAPPING parts of a slice is FUNDAMENTALLY OK\n",
    "    // @audit-ok ... but Rust borrow checker DOES NOT KNOW THIS\n",
    "    // - this is a SUFFICIENT ENOUGH basis to deploy `unsafe` code\n",
    "}"
   ]
  },
  {
   "cell_type": "markdown",
   "metadata": {},
   "source": [
    "> Listing 19-5: An attempted implementation of split_at_mut using only safe Rust\n",
    "\n",
    "This function first gets the total length of the slice. Then it asserts that  \n",
    "the index given as a parameter is within the slice by checking whether it’s  \n",
    "less than or equal to the length. The assertion means that if we pass an index  \n",
    "that is greater than the length to split the slice at, the function will panic  \n",
    "before it attempts to use that index.\n",
    "\n",
    "Then we return two mutable slices in a tuple: \n",
    "\n",
    "- one from the start of the original slice to the mid index  \n",
    "- and another from mid to the end of the slice.\n",
    "\n",
    "When we try to compile the code in Listing 19-5, we’ll get an error.\n",
    "\n",
    "```sh\n",
    "$ cargo run\n",
    "   Compiling unsafe-example v0.1.0 (file:///projects/unsafe-example)\n",
    "error[E0499]: cannot borrow `*values` as mutable more than once at a time\n",
    " --> src/main.rs:6:31\n",
    "  |\n",
    "1 | fn split_at_mut(values: &mut [i32], mid: usize) -> (&mut [i32], &mut [i32]) {\n",
    "  |                         - let's call the lifetime of this reference `'1`\n",
    "...\n",
    "6 |     (&mut values[..mid], &mut values[mid..])\n",
    "  |     --------------------------^^^^^^--------\n",
    "  |     |     |                   |\n",
    "  |     |     |                   second mutable borrow occurs here\n",
    "  |     |     first mutable borrow occurs here\n",
    "  |     returning this value requires that `*values` is borrowed for `'1`\n",
    "\n",
    "For more information about this error, try `rustc --explain E0499`.\n",
    "error: could not compile `unsafe-example` due to previous error\n",
    "```\n",
    "\n",
    "Rust’s borrow checker can’t understand that we’re borrowing different parts of  \n",
    "the slice; it only knows that we’re borrowing from the same slice twice.  \n",
    "\n",
    "- Borrowing different parts of a slice is fundamentally okay  \n",
    "- because the two slices aren’t overlapping,  \n",
    "- but Rust isn’t smart enough to know this.  \n",
    "\n",
    "When we know code is okay, but Rust doesn’t, it’s time to reach for unsafe code.\n",
    "\n",
    "Listing 19-6 shows how to use an unsafe block, a raw pointer, and some calls to  \n",
    "unsafe functions to make the implementation of split_at_mut work."
   ]
  },
  {
   "cell_type": "code",
   "execution_count": 32,
   "metadata": {
    "vscode": {
     "languageId": "rust"
    }
   },
   "outputs": [],
   "source": [
    "// import slice module from standard library\n",
    "// - provides functions for handling slices\n",
    "use std::slice;\n",
    "\n",
    "/// Takes a slice : \n",
    "/// - splits at mid\n",
    "/// - returns a tuple of those two slices\n",
    "fn split_at_mut(value: &mut [i32], mid: usize) -> (&mut [i32], &mut [i32]){\n",
    "\n",
    "    // get original slice length\n",
    "    let len = value.len();\n",
    "    // get RAW POINTER to the data in the slice\n",
    "    // - RAW POINTER allow for MORE CONTROL and LESS SAFETY in Rust\n",
    "    let ptr = value.as_mut_ptr();\n",
    "\n",
    "    // safety check that mid is within the slice bound\n",
    "    // - if out of bound, PANIC and TERMINATE the program\n",
    "    assert!(mid <= len);\n",
    "\n",
    "    // start an unsafe block\n",
    "    unsafe {\n",
    "        // returns a tuple of two mutable slices\n",
    "        (\n",
    "            // from_raw_parts_mut : creates a mutable slice from :\n",
    "            // - ptr : a raw pointer to the first element in the slice\n",
    "            // - the length of the slice : mid\n",
    "            slice::from_raw_parts_mut(ptr, mid),\n",
    "            // from_raw_parts_mut : creates a mutable slice from :\n",
    "            // - ptr : a raw pointer to starting point of ([0] + mid)\n",
    "            // - the length of the slice : (len - mid)\n",
    "            slice::from_raw_parts_mut(ptr.add(mid), len -mid)\n",
    "        )\n",
    "    }\n",
    "}"
   ]
  },
  {
   "cell_type": "markdown",
   "metadata": {},
   "source": [
    "> Listing 19-6: Using unsafe code in the implementation of the split_at_mut  \n",
    "function\n",
    "\n",
    "Recall from “The Slice Type” section in Chapter 4 that slices are a pointer to  \n",
    "some data and the length of the slice. We use the len method to get the length  \n",
    "of a slice and the as_mut_ptr method to access the raw pointer of a slice. In  \n",
    "this case, because we have a mutable slice to i32 values, as_mut_ptr returns a  \n",
    "raw pointer with the type *mut i32, which we’ve stored in the variable ptr.\n",
    "\n",
    "We keep the assertion that the mid index is within the slice. Then we get to the  \n",
    "unsafe code: the slice::from_raw_parts_mut function takes a raw pointer and a  \n",
    "length, and it creates a slice. We use this function to create a slice that  \n",
    "starts from ptr and is mid items long. Then we call the add method on ptr with  \n",
    "mid as an argument to get a raw pointer that starts at mid, and we create a  \n",
    "slice using that pointer and the remaining number of items after mid as the  \n",
    "length.\n",
    "\n",
    "The function slice::from_raw_parts_mut is unsafe because it takes a raw pointer  \n",
    "and must trust that this pointer is valid. The add method on raw pointers is  \n",
    "also unsafe, because it must trust that the offset location is also a valid  \n",
    "pointer. Therefore, we had to put an unsafe block around our calls to  \n",
    "slice::from_raw_parts_mut and add so we could call them. By looking at the code  \n",
    "and by adding the assertion that mid must be less than or equal to len, we can  \n",
    "tell that all the raw pointers used within the unsafe block will be valid  \n",
    "pointers to data within the slice. This is an acceptable and appropriate use of  \n",
    "unsafe.\n",
    "\n",
    "Note that we don’t need to mark the resulting split_at_mut function as unsafe,  \n",
    "and we can call this function from safe Rust. We’ve created a safe abstraction  \n",
    "to the unsafe code with an implementation of the function that uses unsafe code  \n",
    "in a safe way, because it creates only valid pointers from the data this  \n",
    "function has access to.\n",
    "\n",
    "In contrast, the use of slice::from_raw_parts_mut in Listing 19-7 would likely  \n",
    "crash when the slice is used. This code takes an arbitrary memory location and  \n",
    "creates a slice 10,000 items long."
   ]
  },
  {
   "cell_type": "code",
   "execution_count": 10,
   "metadata": {
    "vscode": {
     "languageId": "rust"
    }
   },
   "outputs": [
    {
     "name": "stdout",
     "output_type": "stream",
     "text": [
      "address dec : 4660\n",
      "address hex : 1234\n"
     ]
    },
    {
     "name": "stderr",
     "output_type": "stream",
     "text": [
      "Segmentation fault.\n",
      "   0: backtrace::capture::Backtrace::new\n",
      "   1: evcxr::runtime::Runtime::install_crash_handlers::segfault_handler\n",
      "   3: core::fmt::builders::DebugInner::entry\n",
      "   4: core::fmt::builders::DebugInner::entry\n",
      "   5: core::fmt::builders::DebugList::entry\n",
      "   6: <&T as core::fmt::Debug>::fmt\n",
      "   7: core::fmt::write\n",
      "   2: __platform_memmove\n",
      "   8: <&std::io::stdio::Stdout as std::io::Write>::write_fmt\n",
      "  10: std::panicking::try\n",
      "   9: std::io::stdio::_print\n",
      "  11: _run_user_code_6\n",
      "  12: evcxr::runtime::Runtime::run_loop\n",
      "  13: evcxr::runtime::runtime_hook\n",
      "  14: evcxr_jupyter::main\n",
      "  15: std::sys_common::backtrace::__rust_begin_short_backtrace\n",
      "  16: std::rt::lang_start::{{closure}}\n",
      "  17: std::rt::lang_start_internal\n",
      "  18: _main\n",
      "\n"
     ]
    },
    {
     "ename": "Error",
     "evalue": "Subprocess terminated with status: signal: 6 (SIGABRT)",
     "output_type": "error",
     "traceback": [
      "Subprocess terminated with status: signal: 6 (SIGABRT)"
     ]
    }
   ],
   "source": [
    "{\n",
    "    use std::slice;\n",
    "\n",
    "    let address = 0x01234usize;\n",
    "    // @audit-ok : Why is the address printed as 0x1234 => 4660\n",
    "    // - how is the address 0x01234usize => 4660\n",
    "    // ANSWER :\n",
    "    // 0*16^4 + 1*16^3 + 2*16^2 + 3*16^1 + 4*16^0\n",
    "    // =    0 + 4096   + 512    + 48     + 4 = 4660\n",
    "    println!(\"address dec : {}\", address);\n",
    "    println!(\"address hex : {:x}\", address);\n",
    "    let r = address as *mut i32;\n",
    "\n",
    "    let values: &[i32] = unsafe {\n",
    "        slice::from_raw_parts_mut(r, 10000)\n",
    "    };\n",
    "\n",
    "    // trying to print the value causes a segfault\n",
    "    // - Segmentation fault.\n",
    "    // 0: backtrace::capture::Backtrace::new\n",
    "    // 1: evcxr::runtime::Runtime::install_crash_handlers::segfault_handler\n",
    "    // 2: __platform_memmove\n",
    "    // ...\n",
    "    println!(\"{:?}\", values);\n",
    "}"
   ]
  },
  {
   "cell_type": "markdown",
   "metadata": {},
   "source": [
    "> Listing 19-7: Creating a slice from an arbitrary memory location\n",
    "\n",
    "We don’t own the memory at this arbitrary location, and there is no guarantee  \n",
    "that the slice this code creates contains valid i32 values. Attempting to use  \n",
    "values as though it’s a valid slice results in undefined behavior."
   ]
  },
  {
   "cell_type": "markdown",
   "metadata": {},
   "source": [
    "### Using `extern` Functions to Call External Code\n",
    "\n",
    "Sometimes, your Rust code might need to interact with code written in another  \n",
    "language. For this, Rust has the keyword extern that facilitates the creation  \n",
    "and use of a Foreign Function Interface (FFI). An FFI is a way for a programming  \n",
    "language to define functions and enable a different (foreign) programming  \n",
    "language to call those functions.\n",
    "\n",
    "Listing 19-8 demonstrates how to set up an integration with the abs function  \n",
    "from the C standard library. Functions declared within extern blocks are always  \n",
    "unsafe to call from Rust code. The reason is that other languages don’t enforce  \n",
    "Rust’s rules and guarantees, and Rust can’t check them, so responsibility falls  \n",
    "on the programmer to ensure safety.\n",
    "\n",
    "> Filename: src/main.rs"
   ]
  },
  {
   "cell_type": "code",
   "execution_count": 6,
   "metadata": {
    "vscode": {
     "languageId": "rust"
    }
   },
   "outputs": [
    {
     "name": "stdout",
     "output_type": "stream",
     "text": [
      "Absolute value of -3 according to C: 3\n"
     ]
    },
    {
     "data": {
      "text/plain": [
       "()"
      ]
     },
     "execution_count": 6,
     "metadata": {},
     "output_type": "execute_result"
    }
   ],
   "source": [
    "{\n",
    "    // Jupyter cell errors if we try to run this cell multiple times\n",
    "    // - [E0428] Error: the name `abs` is defined multiple times\n",
    "    // - so we will enclose this in a cell block\n",
    "    extern \"C\" {\n",
    "        // abs is an actual C function???\n",
    "        // - @audit : How do I get a list of other available C functions?\n",
    "        fn abs(input: i32)->i32;\n",
    "    }\n",
    "\n",
    "    unsafe {\n",
    "        println!(\"Absolute value of -3 according to C: {}\", abs(-3));\n",
    "    }\n",
    "\n",
    "}"
   ]
  },
  {
   "cell_type": "markdown",
   "metadata": {},
   "source": [
    "> Listing 19-8: Declaring and calling an extern function defined in another  \n",
    "language\n",
    "\n",
    "Within the extern \"C\" block, we list the names and signatures of external  \n",
    "functions from another language we want to call. The \"C\" part defines which  \n",
    "application binary interface (ABI) the external function uses: the ABI defines  \n",
    "how to call the function at the assembly level. The \"C\" ABI is the most common  \n",
    "and follows the C programming language’s ABI."
   ]
  },
  {
   "cell_type": "markdown",
   "metadata": {},
   "source": [
    "#### -- Calling Rust Functions from Other Languages --\n",
    "\n",
    "We can also use extern to create an interface that allows other languages to  \n",
    "call Rust functions. Instead of creating a whole extern block, we add the  \n",
    "extern keyword and specify the ABI to use just before the fn keyword for the  \n",
    "relevant function. We also need to add a #[no_mangle] annotation to tell the  \n",
    "Rust compiler not to mangle the name of this function. Mangling is when a  \n",
    "compiler changes the name we’ve given a function to a different name that  \n",
    "contains more information for other parts of the compilation process to consume  \n",
    "but is less human readable. Every programming language compiler mangles names  \n",
    "slightly differently, so for a Rust function to be nameable by other languages,  \n",
    "we must disable the Rust compiler’s name mangling.\n",
    "\n",
    "In the following example, we make the call_from_c function accessible from C  \n",
    "code, after it’s compiled to a shared library and linked from C:\n",
    "\n",
    "```rust\n",
    "#[no_mangle]\n",
    "pub extern \"C\" fn call_from_c() {\n",
    "    println!(\"Just called a Rust function from C!\");\n",
    "}\n",
    "```\n",
    "\n",
    "> This usage of extern does not require unsafe.\n"
   ]
  },
  {
   "cell_type": "code",
   "execution_count": 10,
   "metadata": {
    "vscode": {
     "languageId": "rust"
    }
   },
   "outputs": [],
   "source": [
    "\n",
    "#[no_mangle]\n",
    "pub extern \"C\" fn call_from_c() {\n",
    "    println!(\"Just called a Rust function from C!\");\n",
    "}"
   ]
  },
  {
   "cell_type": "markdown",
   "metadata": {},
   "source": [
    "### Accessing or Modifying a Mutable Static Variable\n",
    "\n",
    "In this book, we’ve not yet talked about global variables, which Rust does  \n",
    "support but can be problematic with Rust’s ownership rules. If two threads are  \n",
    "accessing the same mutable global variable, it can cause a data race.\n",
    "\n",
    "In Rust, global variables are called static variables. Listing 19-9 shows an  \n",
    "example declaration and use of a static variable with a string slice as a value.\n",
    "\n",
    "> Filename: src/main.rs"
   ]
  },
  {
   "cell_type": "code",
   "execution_count": 11,
   "metadata": {
    "vscode": {
     "languageId": "rust"
    }
   },
   "outputs": [
    {
     "name": "stdout",
     "output_type": "stream",
     "text": [
      "name is : Hello, world!\n"
     ]
    },
    {
     "data": {
      "text/plain": [
       "()"
      ]
     },
     "execution_count": 11,
     "metadata": {},
     "output_type": "execute_result"
    }
   ],
   "source": [
    "static HELLO_WORLD: &str = \"Hello, world!\";\n",
    "\n",
    "{\n",
    "    println!(\"name is : {}\", HELLO_WORLD);\n",
    "}"
   ]
  },
  {
   "cell_type": "markdown",
   "metadata": {},
   "source": [
    "> Listing 19-9: Defining and using an immutable static variable\n",
    "\n",
    "Static variables are similar to constants, which we discussed in the  \n",
    "“Differences Between Variables and Constants” section in Chapter 3. The names  \n",
    "of static variables are in SCREAMING_SNAKE_CASE by convention. Static variables  \n",
    "can only store references with the 'static lifetime, which means the Rust  \n",
    "compiler can figure out the lifetime and we aren’t required to annotate it  \n",
    "explicitly. Accessing an immutable static variable is safe.\n",
    "\n",
    "A subtle difference between constants and immutable static variables is that :  \n",
    "- values in a static variable have a fixed address in memory.  \n",
    "- Using the value will always access the same data. \n",
    "- Constants, on the other hand, are allowed to duplicate their data whenever  \n",
    "they’re used.  \n",
    "- Another difference is that static variables can be mutable.  \n",
    "\n",
    "Accessing and modifying mutable static variables is unsafe. Listing 19-10 shows  \n",
    "how to declare, access, and modify a mutable static variable named COUNTER.\n",
    "\n",
    "> Filename: src/main.rs"
   ]
  },
  {
   "cell_type": "code",
   "execution_count": 14,
   "metadata": {
    "vscode": {
     "languageId": "rust"
    }
   },
   "outputs": [
    {
     "name": "stdout",
     "output_type": "stream",
     "text": [
      "COUNTER : 3\n"
     ]
    },
    {
     "data": {
      "text/plain": [
       "()"
      ]
     },
     "execution_count": 14,
     "metadata": {},
     "output_type": "execute_result"
    }
   ],
   "source": [
    "static mut COUNTER: u32 = 0;\n",
    "\n",
    "fn add_to_count(inc: u32) {\n",
    "    unsafe {\n",
    "        COUNTER += inc;\n",
    "    }\n",
    "}\n",
    "\n",
    "{\n",
    "    add_to_count(3);\n",
    "\n",
    "    unsafe {\n",
    "        println!(\"COUNTER : {}\", COUNTER);\n",
    "    }\n",
    "}"
   ]
  },
  {
   "cell_type": "markdown",
   "metadata": {},
   "source": [
    "> Listing 19-10: Reading from or writing to a mutable static variable is unsafe\n",
    "\n",
    "As with regular variables, we specify mutability using the mut keyword. Any  \n",
    "code that :  \n",
    "- reads or writes from COUNTER \n",
    "- must be within an unsafe block.  \n",
    "\n",
    "This code compiles and prints COUNTER: 3 as we would expect because it’s single  \n",
    "threaded. Having multiple threads access COUNTER would likely result in data  \n",
    "races.\n",
    "\n",
    "With mutable data that is globally accessible, it’s difficult to ensure there  \n",
    "are no data races, which is why Rust considers mutable static variables to be  \n",
    "unsafe. Where possible, it’s preferable to use the concurrency techniques and  \n",
    "thread-safe smart pointers we discussed in Chapter 16 so the compiler checks  \n",
    "that data accessed from different threads is done safely."
   ]
  },
  {
   "cell_type": "markdown",
   "metadata": {},
   "source": [
    "### Implementing an Unsafe Trait\n",
    "\n",
    "We can use unsafe to implement an unsafe trait. A trait is unsafe when :  \n",
    "\n",
    "- at least one of its methods has some invariant that the compiler can’t verify.  \n",
    "\n",
    "We declare that a trait is unsafe by :  \n",
    "- adding the unsafe keyword before trait and  \n",
    "- marking the implementation of the trait as unsafe too, \n",
    "\n",
    "> as shown in Listing 19-11.\n",
    "\n"
   ]
  },
  {
   "cell_type": "code",
   "execution_count": 15,
   "metadata": {
    "vscode": {
     "languageId": "rust"
    }
   },
   "outputs": [
    {
     "data": {
      "text/plain": [
       "()"
      ]
     },
     "execution_count": 15,
     "metadata": {},
     "output_type": "execute_result"
    }
   ],
   "source": [
    "unsafe trait Foo {\n",
    "    // methods go here\n",
    "}\n",
    "\n",
    "unsafe impl Foo for i32 {\n",
    "    // method implementations go here\n",
    "}\n",
    "\n",
    "{\n",
    "    // main calls here\n",
    "}"
   ]
  },
  {
   "cell_type": "markdown",
   "metadata": {},
   "source": [
    "> Listing 19-11: Defining and implementing an unsafe trait\n",
    "\n",
    "By using unsafe impl, we’re promising that we’ll uphold the invariants that the  \n",
    "compiler can’t verify.\n",
    "\n",
    "As an example, recall the Sync and Send marker traits we discussed in the  \n",
    "“Extensible Concurrency with the Sync and Send Traits” section in Chapter 16:  \n",
    "the compiler implements these traits automatically if our types are composed  \n",
    "entirely of Send and Sync types. If we implement a type that contains a type  \n",
    "that is not Send or Sync, such as raw pointers, and we want to mark that type  \n",
    "as Send or Sync, we must use unsafe. Rust can’t verify that our type upholds  \n",
    "the guarantees that it can be safely sent across threads or accessed from  \n",
    "multiple threads; therefore, we need to do those checks manually and indicate  \n",
    "as such with unsafe."
   ]
  },
  {
   "cell_type": "markdown",
   "metadata": {},
   "source": [
    "### Accessing Fields of a Union\n",
    "\n",
    "The final action that works only with unsafe is accessing fields of a union. A  \n",
    "union is similar to a struct, but only one declared field is used in a  \n",
    "particular instance at one time. Unions are primarily used to interface with  \n",
    "unions in C code. Accessing union fields is unsafe because Rust can’t guarantee  \n",
    "the type of the data currently being stored in the union instance. You can  \n",
    "learn more about unions in the Rust Reference."
   ]
  },
  {
   "cell_type": "markdown",
   "metadata": {},
   "source": [
    "### When to Use Unsafe Code\n",
    "\n",
    "Using unsafe to take one of the five actions (superpowers) just discussed isn’t  \n",
    "wrong or even frowned upon. But it is trickier to get unsafe code correct  \n",
    "because the compiler can’t help uphold memory safety. When you have a reason to  \n",
    "use unsafe code, you can do so, and having the explicit unsafe annotation makes  \n",
    "it easier to track down the source of problems when they occur."
   ]
  },
  {
   "cell_type": "markdown",
   "metadata": {},
   "source": [
    "Advanced Traits\n",
    "---\n",
    "\n",
    "We first covered traits in the “Traits: Defining Shared Behavior” section of  \n",
    "Chapter 10, but we didn’t discuss the more advanced details. Now that you know  \n",
    "more about Rust, we can get into the nitty-gritty."
   ]
  },
  {
   "cell_type": "markdown",
   "metadata": {},
   "source": [
    "### Specifying PlaceHolder Types in Trait Definitions with Associated Types\n",
    "\n",
    "Associated types connect a type placeholder with a trait such that the trait  \n",
    "method definitions can use these placeholder types in their signatures. The  \n",
    "implementor of a trait will specify the concrete type to be used instead of the  \n",
    "placeholder type for the particular implementation. That way, we can define a  \n",
    "trait that uses some types without needing to know exactly what those types are  \n",
    "until the trait is implemented.\n",
    "\n",
    "We’ve described most of the advanced features in this chapter as being rarely  \n",
    "needed. Associated types are somewhere in the middle: they’re used more rarely  \n",
    "than features explained in the rest of the book but more commonly than many of  \n",
    "the other features discussed in this chapter.\n",
    "\n",
    "One example of a trait with an associated type is the Iterator trait that the  \n",
    "standard library provides. The associated type is named Item and stands in for  \n",
    "the type of the values the type implementing the Iterator trait is iterating  \n",
    "over. The definition of the Iterator trait is as shown in Listing 19-12."
   ]
  },
  {
   "cell_type": "code",
   "execution_count": 4,
   "metadata": {
    "vscode": {
     "languageId": "rust"
    }
   },
   "outputs": [],
   "source": [
    "pub trait Iterator {\n",
    "    type Item;\n",
    "\n",
    "    fn next(&mut self) -> Option<Self::Item>;\n",
    "}"
   ]
  },
  {
   "cell_type": "markdown",
   "metadata": {},
   "source": [
    "> Listing 19-12: The definition of the Iterator trait that has an associated type  \n",
    "Item\n",
    "\n",
    "The type Item is a placeholder, and the next method’s definition shows that it  \n",
    "will return values of type Option<Self::Item>. Implementors of the Iterator  \n",
    "trait will specify the concrete type for Item, and the next method will return  \n",
    "an Option containing a value of that concrete type.\n",
    "\n",
    "Associated types might seem like a similar concept to generics, in that the  \n",
    "latter allow us to define a function without specifying what types it can  \n",
    "handle. To examine the difference between the two concepts, we’ll look at an  \n",
    "implementation of the Iterator trait on a type named Counter that specifies the  \n",
    "Item type is u32:\n",
    "\n",
    "> Filename: src/lib.rs"
   ]
  },
  {
   "cell_type": "code",
   "execution_count": 5,
   "metadata": {
    "vscode": {
     "languageId": "rust"
    }
   },
   "outputs": [],
   "source": [
    "struct Counter {}\n",
    "\n",
    "impl Iterator for Counter {\n",
    "    type Item = u32;\n",
    "\n",
    "    fn next(&mut self) -> Option<Self::Item> {\n",
    "        // --snip--\n",
    "        None\n",
    "    }\n",
    "}"
   ]
  },
  {
   "cell_type": "markdown",
   "metadata": {},
   "source": [
    "This syntax seems comparable to that of generics. So why not just define the  \n",
    "Iterator trait with generics, as shown in  \n",
    "\n",
    "> Listing 19-13?"
   ]
  },
  {
   "cell_type": "code",
   "execution_count": 6,
   "metadata": {
    "vscode": {
     "languageId": "rust"
    }
   },
   "outputs": [
    {
     "ename": "Error",
     "evalue": "type `Item` is not a member of trait `Iterator`",
     "output_type": "error",
     "traceback": [
      "\u001b[31m[E0437] Error:\u001b[0m type `Item` is not a member of trait `Iterator`"
     ]
    },
    {
     "ename": "Error",
     "evalue": "missing generics for trait `Iterator`",
     "output_type": "error",
     "traceback": [
      "\u001b[31m[E0107] Error:\u001b[0m missing generics for trait `Iterator`"
     ]
    },
    {
     "ename": "Error",
     "evalue": "associated type `Item` not found for `Self`",
     "output_type": "error",
     "traceback": [
      "\u001b[31m[E0220] Error:\u001b[0m associated type `Item` not found for `Self`"
     ]
    }
   ],
   "source": [
    "pub trait Iterator<T> {\n",
    "    fn next(&mut self) -> Option<T>;\n",
    "}"
   ]
  },
  {
   "cell_type": "markdown",
   "metadata": {},
   "source": [
    "> Listing 19-13: A hypothetical definition of the Iterator trait using generics\n",
    "\n",
    "The difference is that when using generics, as in Listing 19-13, we must  \n",
    "annotate the types in each implementation; because we can also implement  \n",
    "Iterator<String> for Counter or any other type, we could have multiple  \n",
    "implementations of Iterator for Counter. In other words, when a trait has a  \n",
    "generic parameter, it can be implemented for a type multiple times, changing  \n",
    "the concrete types of the generic type parameters each time. When we use the  \n",
    "next method on Counter, we would have to provide type annotations to indicate  \n",
    "which implementation of Iterator we want to use.\n",
    "\n",
    "With associated types, we don’t need to annotate types because we can’t  \n",
    "implement a trait on a type multiple times. In Listing 19-12 with the  \n",
    "definition that uses associated types, we can only choose what the type of  \n",
    "Item will be once, because there can only be one impl Iterator for Counter. We  \n",
    "don’t have to specify that we want an iterator of u32 values everywhere that we  \n",
    "call next on Counter.\n",
    "\n",
    "Associated types also become part of the trait’s contract:  \n",
    "- implementors of the trait must provide a type to stand in for the associated  \n",
    "type placeholder. Associated types often have a name that describes how the  \n",
    "type will be used, and documenting the associated type in the API documentation  \n",
    "is good practice."
   ]
  },
  {
   "cell_type": "markdown",
   "metadata": {},
   "source": [
    "### Default Generic Type Parameters and Operator Overloading\n",
    "\n",
    "When we use generic type parameters, we can specify a default concrete type for  \n",
    "the generic type. This eliminates the need for implementors of the trait to  \n",
    "specify a concrete type if the default type works. You specify a default type  \n",
    "when declaring a generic type with the <PlaceholderType=ConcreteType> syntax.\n",
    "\n",
    "A great example of a situation where this technique is useful is with operator  \n",
    "overloading, in which you customize the behavior of an operator (such as +) in  \n",
    "particular situations.\n",
    "\n",
    "Rust doesn’t allow you to create your own operators or overload arbitrary  \n",
    "operators. But you can overload the operations and corresponding traits listed  \n",
    "in std::ops by implementing the traits associated with the operator. For  \n",
    "example, in Listing 19-14 we overload the + operator to add two Point instances  \n",
    "together. We do this by implementing the Add trait on a Point struct:\n",
    "\n",
    "> Filename: src/main.rs"
   ]
  },
  {
   "cell_type": "code",
   "execution_count": 7,
   "metadata": {
    "vscode": {
     "languageId": "rust"
    }
   },
   "outputs": [
    {
     "data": {
      "text/plain": [
       "()"
      ]
     },
     "execution_count": 7,
     "metadata": {},
     "output_type": "execute_result"
    }
   ],
   "source": [
    "use std::ops::Add;\n",
    "\n",
    "#[derive(Debug, Copy, Clone, PartialEq)]\n",
    "struct Point {\n",
    "    x: i32,\n",
    "    y: i32,\n",
    "}\n",
    "\n",
    "impl Add for Point {\n",
    "    type Output = Point;\n",
    "\n",
    "    fn add(self, other: Point) -> Point {\n",
    "        Point {\n",
    "            x: self.x + other.x,\n",
    "            y: self.y + other.y,\n",
    "        }\n",
    "    }\n",
    "}\n",
    "\n",
    "{\n",
    "    assert_eq! {\n",
    "        Point { x: 1, y: 0 } + Point { x: 2, y: 3 },\n",
    "        Point { x: 3, y: 3 }\n",
    "    }\n",
    "}"
   ]
  },
  {
   "cell_type": "markdown",
   "metadata": {},
   "source": [
    "> Listing 19-14: Implementing the Add trait to overload the + operator for  \n",
    "Point instances\n",
    "\n",
    "The add method :  \n",
    "\n",
    "- adds the x values of two Point instances  \n",
    "- and the y values of two Point instances  \n",
    "- to create a new Point.  \n",
    "\n",
    "The Add trait has an associated type named Output that determines the type  \n",
    "returned from the add method.\n",
    "\n",
    "The default generic type in this code is within the Add trait. Here is its  \n",
    "definition:\n",
    "\n",
    "```rust\n",
    "trait Add<Rhs=Self> {\n",
    "    type Output;\n",
    "\n",
    "    fn add(self, rhs: Rhs) -> Self::Output;\n",
    "}\n",
    "```\n",
    "\n",
    "This code should look generally familiar: a trait with one method and an  \n",
    "associated type. The new part is Rhs=Self: this syntax is called default  \n",
    "type parameters. The Rhs generic type parameter (short for “right hand side”)  \n",
    "defines the type of the rhs parameter in the add method. If we don’t specify a  \n",
    "concrete type for Rhs when we implement the Add trait, the type of Rhs will  \n",
    "default to Self, which will be the type we’re implementing Add on.\n",
    "\n",
    "When we implemented Add for Point, we used the default for Rhs because we  \n",
    "wanted to add two Point instances. Let’s look at an example of implementing the  \n",
    "Add trait where we want to customize the Rhs type rather than using the default.\n",
    "\n",
    "We have two structs, Millimeters and Meters, holding values in different units.  \n",
    "This thin wrapping of an existing type in another struct is known as the  \n",
    "newtype pattern, which we describe in more detail in the “Using the Newtype  \n",
    "Pattern to Implement External Traits on External Types” section. We want to add  \n",
    "values in millimeters to values in meters and have the implementation of Add do  \n",
    "the conversion correctly. We can implement Add for Millimeters with Meters as  \n",
    "the Rhs, as shown in Listing 19-15.\n",
    "\n",
    "> Filename: src/lib.rs"
   ]
  },
  {
   "cell_type": "code",
   "execution_count": 9,
   "metadata": {
    "vscode": {
     "languageId": "rust"
    }
   },
   "outputs": [],
   "source": [
    "use std::ops::Add;\n",
    "\n",
    "struct Millimeters(u32);\n",
    "struct Meters(u32);\n",
    "\n",
    "// impl block for the Add trait for : \n",
    "// - the Millimeters struct\n",
    "// - when adding a Meters struct\n",
    "impl Add<Meters> for Millimeters {\n",
    "    // we want to return millimeters ...\n",
    "    type Output = Millimeters;\n",
    "\n",
    "    // when adding other(Meters) to self(Millimeters)\n",
    "    fn add(self, other: Meters) -> Millimeters {\n",
    "        // we return a new Millimeters struct\n",
    "        Millimeters(self.0 + (other.0 * 1000)) // 1 meter = 1000 millimeters\n",
    "    }\n",
    "}"
   ]
  },
  {
   "cell_type": "markdown",
   "metadata": {},
   "source": [
    "> Listing 19-15: Implementing the Add trait on Millimeters to add Millimeters to  \n",
    "Meters\n",
    "\n",
    "To add Millimeters and Meters, we specify impl Add<Meters> to set the value of  \n",
    "the Rhs type parameter instead of using the default of Self.\n",
    "\n",
    "You’ll use default type parameters in two main ways:\n",
    "\n",
    "- To extend a type without breaking existing code\n",
    "- To allow customization in specific cases most users won’t need\n",
    "\n",
    "The standard library’s Add trait is an example of the second purpose:  \n",
    "\n",
    "- usually, you’ll add two like types,  \n",
    "- but the Add trait provides the ability to customize beyond that.  \n",
    "\n",
    "Using a default type parameter in the Add trait definition means you don’t have  \n",
    "to specify the extra parameter most of the time. In other words, a bit of  \n",
    "implementation boilerplate isn’t needed, making it easier to use the trait.\n",
    "\n",
    "The first purpose is similar to the second but in reverse: if you want to add a  \n",
    "type parameter to an existing trait, you can give it a default to allow  \n",
    "extension of the functionality of the trait without breaking the existing  \n",
    "implementation code."
   ]
  },
  {
   "cell_type": "markdown",
   "metadata": {},
   "source": [
    "### Fully Qualified Syntax for Disambiguation: Calling Methods with the Same Name\n",
    "\n",
    "Nothing in Rust prevents a trait from having a method with the same name as  \n",
    "another trait’s method, nor does Rust prevent you from implementing both traits  \n",
    "on one type. It’s also possible to implement a method directly on the type with  \n",
    "the same name as methods from traits.\n",
    "\n",
    "When calling methods with the same name, you’ll need to tell Rust which one you  \n",
    "want to use. Consider the code in Listing 19-16 where we’ve defined two traits,  \n",
    "Pilot and Wizard, that both have a method called fly. We then implement both  \n",
    "traits on a type Human that already has a method named fly implemented on it.  \n",
    "Each fly method does something different.\n",
    "\n",
    "> Filename: src/main.rs"
   ]
  },
  {
   "cell_type": "code",
   "execution_count": 19,
   "metadata": {
    "vscode": {
     "languageId": "rust"
    }
   },
   "outputs": [],
   "source": [
    "trait Pilot {\n",
    "    fn fly(&self);\n",
    "}\n",
    "\n",
    "trait Wizard {\n",
    "    fn fly(&self);\n",
    "}\n",
    "\n",
    "struct Human;\n",
    "\n",
    "impl Pilot for Human {\n",
    "    fn fly(&self) {\n",
    "        println!(\"This is your captain speaking.\");\n",
    "    }\n",
    "}\n",
    "\n",
    "impl Wizard for Human {\n",
    "    fn fly(&self) {\n",
    "        println!(\"Up!\");\n",
    "    }\n",
    "}\n",
    "\n",
    "impl Human {\n",
    "    fn fly(&self) {\n",
    "        println!(\"*waving arms furiously*\");\n",
    "    }\n",
    "}\n"
   ]
  },
  {
   "cell_type": "markdown",
   "metadata": {},
   "source": [
    "> Listing 19-16: Two traits are defined to have a fly method and are implemented  \n",
    "on the Human type, and a fly method is implemented on Human directly\n",
    "\n",
    "When we call fly on an instance of Human, the compiler defaults to calling the  \n",
    "method that is directly implemented on the type, as shown in Listing 19-17.\n",
    "\n",
    "> Filename: src/main.rs"
   ]
  },
  {
   "cell_type": "code",
   "execution_count": 20,
   "metadata": {
    "vscode": {
     "languageId": "rust"
    }
   },
   "outputs": [
    {
     "name": "stdout",
     "output_type": "stream",
     "text": [
      "*waving arms furiously*\n"
     ]
    },
    {
     "data": {
      "text/plain": [
       "()"
      ]
     },
     "execution_count": 20,
     "metadata": {},
     "output_type": "execute_result"
    }
   ],
   "source": [
    "{\n",
    "    let person = Human;\n",
    "    person.fly();\n",
    "}"
   ]
  },
  {
   "cell_type": "markdown",
   "metadata": {},
   "source": [
    "> Listing 19-17: Calling fly on an instance of Human\n",
    "\n",
    "Running this code will print *waving arms furiously*, showing that Rust called  \n",
    "the fly method implemented on Human directly.\n",
    "\n",
    "To call the fly methods from either the Pilot trait or the Wizard trait, we  \n",
    "need to use more explicit syntax to specify which fly method we mean.  \n",
    "\n",
    "> Listing 19-18 demonstrates this syntax.\n",
    "\n",
    "> Filename: src/main.rs"
   ]
  },
  {
   "cell_type": "code",
   "execution_count": 24,
   "metadata": {
    "vscode": {
     "languageId": "rust"
    }
   },
   "outputs": [
    {
     "name": "stdout",
     "output_type": "stream",
     "text": [
      "This is your captain speaking.\n",
      "Up!\n",
      "*waving arms furiously*\n"
     ]
    },
    {
     "data": {
      "text/plain": [
       "()"
      ]
     },
     "execution_count": 24,
     "metadata": {},
     "output_type": "execute_result"
    }
   ],
   "source": [
    "{\n",
    "    let person = Human;\n",
    "    Pilot::fly(&person);\n",
    "    Wizard::fly(&person);\n",
    "    person.fly();\n",
    "}"
   ]
  },
  {
   "cell_type": "markdown",
   "metadata": {},
   "source": [
    "> Listing 19-18: Specifying which trait’s fly method we want to call\n",
    "\n",
    "Specifying the trait name before the method name clarifies to Rust which  \n",
    "implementation of fly we want to call. We could also write Human::fly(&person),  \n",
    "which is equivalent to the person.fly() that we used in Listing 19-18, but this  \n",
    "is a bit longer to write if we don’t need to disambiguate.\n",
    "\n",
    "Running this code prints the following:\n",
    "\n",
    "```sh\n",
    "$ cargo run\n",
    "   Compiling traits-example v0.1.0 (file:///projects/traits-example)\n",
    "    Finished dev [unoptimized + debuginfo] target(s) in 0.46s\n",
    "     Running `target/debug/traits-example`\n",
    "This is your captain speaking.\n",
    "Up!\n",
    "*waving arms furiously*\n",
    "```\n",
    "\n",
    "Because the fly method takes a self parameter, if we had two types that both  \n",
    "implement one trait, Rust could figure out which implementation of a trait to  \n",
    "use based on the type of self.\n",
    "\n",
    "However, associated functions that are not methods don’t have a self parameter.  \n",
    "When there are multiple types or traits that define non-method functions with  \n",
    "the same function name, Rust doesn't always know which type you mean unless you  \n",
    "use fully qualified syntax. For example, in Listing 19-19 we create a trait for  \n",
    "an animal shelter that wants to name all baby dogs Spot. We make an Animal trait  \n",
    "with an associated non-method function baby_name. The Animal trait is  \n",
    "implemented for the struct Dog, on which we also provide an associated  \n",
    "non-method function baby_name directly.\n",
    "\n",
    "> Filename: src/main.rs"
   ]
  }
 ],
 "metadata": {
  "kernelspec": {
   "display_name": "Rust",
   "language": "rust",
   "name": "rust"
  },
  "language_info": {
   "codemirror_mode": "rust",
   "file_extension": ".rs",
   "mimetype": "text/rust",
   "name": "Rust",
   "pygment_lexer": "rust",
   "version": ""
  },
  "orig_nbformat": 4
 },
 "nbformat": 4,
 "nbformat_minor": 2
}
