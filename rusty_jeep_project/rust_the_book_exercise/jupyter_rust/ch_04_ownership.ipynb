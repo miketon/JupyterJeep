{
 "cells": [
  {
   "attachments": {},
   "cell_type": "markdown",
   "metadata": {},
   "source": [
    "References and Borrowing\n",
    "---"
   ]
  },
  {
   "attachments": {},
   "cell_type": "markdown",
   "metadata": {},
   "source": [
    "What is Ownership?\n",
    "---\n",
    "\n",
    "Ownership is a set of rules that govern how a Rust program manages memory.  \n",
    "All programs have to manage the way they use a computer’s memory while running.  \n",
    "Some languages have garbage collection that regularly looks for no-longer-used  \n",
    "memory as the program runs; in other languages, the programmer must explicitly  \n",
    "allocate and free the memory. Rust uses a third approach: memory is managed  \n",
    "through a system of ownership with a set of rules that the compiler checks.  \n",
    "If any of the rules are violated, the program won’t compile. None of the  \n",
    "features of ownership will slow down your program while it’s running.\n",
    "\n",
    "Because ownership is a new concept for many programmers, it does take some time  \n",
    "to get used to. The good news is that the more experienced you become with Rust  \n",
    "and the rules of the ownership system, the easier you’ll find it to naturally  \n",
    "develop code that is safe and efficient. Keep at it!\n",
    "\n",
    "When you understand ownership, you’ll have a solid foundation for understanding  \n",
    "the features that make Rust unique. In this chapter, you’ll learn ownership by  \n",
    "working through some examples that focus on a very common data structure:  \n",
    "\n",
    "- strings."
   ]
  },
  {
   "attachments": {},
   "cell_type": "markdown",
   "metadata": {},
   "source": [
    "### Stack and Heap\n",
    "***\n",
    "\n",
    "Many programming languages don’t require you to think about the stack and the  \n",
    "heap very often. But in a systems programming language like Rust, whether a  \n",
    "value is on the stack or the heap affects how the language behaves and why you  \n",
    "have to make certain decisions. Parts of ownership will be described in relation  \n",
    "to the stack and the heap later in this chapter, so here is a brief explanation  \n",
    "in preparation.\n",
    "\n",
    "Both the stack and the heap are parts of memory available to your code to use at  \n",
    "runtime, but they are structured in different ways. The stack stores values in  \n",
    "the order it gets them and removes the values in the opposite order. This is  \n",
    "referred to as last in, first out. Think of a stack of plates: when you add more  \n",
    "plates, you put them on top of the pile, and when you need a plate, you take one  \n",
    "off the top. Adding or removing plates from the middle or bottom wouldn’t work  \n",
    "as well! Adding data is called pushing onto the stack, and removing data is  \n",
    "called popping off the stack. All **`data stored on the stack`** must have a known,  \n",
    "**`fixed size`**. Data with an **`unknown size at compile time`** or a size that might  \n",
    "change must be **`stored on the heap`** instead.\n",
    "\n",
    "The heap is less organized: when you put data on the heap, you request a certain  \n",
    "amount of space. The memory allocator finds an empty spot in the heap that is  \n",
    "big enough, marks it as being in use, and returns a pointer, which is the  \n",
    "address of that location. This process is called allocating on the heap and is  \n",
    "sometimes abbreviated as just allocating (pushing values onto the stack is not  \n",
    " considered allocating). Because the **`pointer to the heap is a known, fixed size,`**  \n",
    " you can **`store the pointer on the stack`**, but when you want the actual data, you  \n",
    " must follow the pointer. Think of being seated at a restaurant. When you enter,  \n",
    " you state the number of people in your group, and the host finds an empty table  \n",
    " that fits everyone and leads you there. If someone in your group comes late,  \n",
    " they can ask where you’ve been seated to find you.\n",
    "\n",
    "Pushing to the stack is faster than allocating on the heap because the allocator  \n",
    "never has to search for a place to store new data; that location is always at  \n",
    "the top of the stack. Comparatively, allocating space on the heap requires more    \n",
    "work because the allocator must first find a big enough space to hold the data  \n",
    "and then perform bookkeeping to prepare for the next allocation.\n",
    "\n",
    "Accessing data in the heap is slower than accessing data on the stack because  \n",
    "you have to follow a pointer to get there. Contemporary processors are faster  \n",
    "if they jump around less in memory. Continuing the analogy, consider a server at  \n",
    "a restaurant taking orders from many tables. It’s most efficient to get all the  \n",
    "orders at one table before moving on to the next table. Taking an order from  \n",
    "table A, then an order from table B, then one from A again, and then one from B  \n",
    "again would be a much slower process. By the same token, a processor can do its  \n",
    "job better if it works on data that’s close to other data (as it is on the stack)  \n",
    "rather than farther away (as it can be on the heap).\n",
    "\n",
    "When your code calls a function, the values passed into the function (including,  \n",
    "potentially, pointers to data on the heap) and the function’s local variables  \n",
    "get pushed onto the stack. When the function is over, those values get popped  \n",
    "off the stack.\n",
    "\n",
    "Keeping track of what parts of code are using what data on the heap, minimizing  \n",
    "the amount of duplicate data on the heap, and cleaning up unused data on the  \n",
    "heap so you don’t run out of space are all problems that ownership addresses.  \n",
    "Once you understand ownership, you won’t need to think about the stack and the  \n",
    "heap very often, but knowing that the main purpose of ownership is to manage  \n",
    "heap data can help explain why it works the way it does.\n"
   ]
  },
  {
   "attachments": {},
   "cell_type": "markdown",
   "metadata": {},
   "source": [
    "Mutable References\n",
    "---"
   ]
  },
  {
   "cell_type": "code",
   "execution_count": 4,
   "metadata": {
    "vscode": {
     "languageId": "rust"
    }
   },
   "outputs": [
    {
     "name": "stdout",
     "output_type": "stream",
     "text": [
      "hello\n",
      "hello, world\n"
     ]
    },
    {
     "data": {
      "text/plain": [
       "()"
      ]
     },
     "execution_count": 4,
     "metadata": {},
     "output_type": "execute_result"
    }
   ],
   "source": [
    "{\n",
    "    let mut s = String::from(\"hello\"); // s comes into scope\n",
    "    println!(\"{}\", s);\n",
    "\n",
    "    change(&mut s);\n",
    "    println!(\"{}\", s);\n",
    "}"
   ]
  },
  {
   "cell_type": "code",
   "execution_count": 3,
   "metadata": {
    "vscode": {
     "languageId": "rust"
    }
   },
   "outputs": [],
   "source": [
    "fn change(some_string: &mut String){\n",
    "    some_string.push_str(\", world\");\n",
    "}"
   ]
  },
  {
   "cell_type": "code",
   "execution_count": 5,
   "metadata": {
    "vscode": {
     "languageId": "rust"
    }
   },
   "outputs": [
    {
     "ename": "Error",
     "evalue": "cannot borrow `s` as mutable more than once at a time",
     "output_type": "error",
     "traceback": [
      "\u001b[31m[E0499] Error:\u001b[0m cannot borrow `s` as mutable more than once at a time",
      "   \u001b[38;5;246m╭\u001b[0m\u001b[38;5;246m─\u001b[0m\u001b[38;5;246m[\u001b[0mcommand_5:1:1\u001b[38;5;246m]\u001b[0m",
      "   \u001b[38;5;246m│\u001b[0m",
      " \u001b[38;5;246m4 │\u001b[0m \u001b[38;5;249m \u001b[0m\u001b[38;5;249m \u001b[0m\u001b[38;5;249m \u001b[0m\u001b[38;5;249m \u001b[0m\u001b[38;5;249ml\u001b[0m\u001b[38;5;249me\u001b[0m\u001b[38;5;249mt\u001b[0m\u001b[38;5;249m \u001b[0m\u001b[38;5;249mr\u001b[0m\u001b[38;5;249m1\u001b[0m\u001b[38;5;249m \u001b[0m\u001b[38;5;249m=\u001b[0m\u001b[38;5;249m \u001b[0m\u001b[38;5;54m&\u001b[0m\u001b[38;5;54mm\u001b[0m\u001b[38;5;54mu\u001b[0m\u001b[38;5;54mt\u001b[0m\u001b[38;5;54m \u001b[0m\u001b[38;5;54ms\u001b[0m\u001b[38;5;249m;\u001b[0m",
      " \u001b[38;5;246m  ·\u001b[0m              \u001b[38;5;54m─\u001b[0m\u001b[38;5;54m─\u001b[0m\u001b[38;5;54m─\u001b[0m\u001b[38;5;54m┬\u001b[0m\u001b[38;5;54m─\u001b[0m\u001b[38;5;54m─\u001b[0m  ",
      " \u001b[38;5;246m  ·\u001b[0m                 \u001b[38;5;54m╰\u001b[0m\u001b[38;5;54m─\u001b[0m\u001b[38;5;54m─\u001b[0m\u001b[38;5;54m─\u001b[0m\u001b[38;5;54m─\u001b[0m first mutable borrow occurs here",
      " \u001b[38;5;246m5 │\u001b[0m \u001b[38;5;249m \u001b[0m\u001b[38;5;249m \u001b[0m\u001b[38;5;249m \u001b[0m\u001b[38;5;249m \u001b[0m\u001b[38;5;249ml\u001b[0m\u001b[38;5;249me\u001b[0m\u001b[38;5;249mt\u001b[0m\u001b[38;5;249m \u001b[0m\u001b[38;5;249mr\u001b[0m\u001b[38;5;249m2\u001b[0m\u001b[38;5;249m \u001b[0m\u001b[38;5;249m=\u001b[0m\u001b[38;5;249m \u001b[0m\u001b[38;5;100m&\u001b[0m\u001b[38;5;100mm\u001b[0m\u001b[38;5;100mu\u001b[0m\u001b[38;5;100mt\u001b[0m\u001b[38;5;100m \u001b[0m\u001b[38;5;100ms\u001b[0m\u001b[38;5;249m;\u001b[0m",
      " \u001b[38;5;246m  ·\u001b[0m              \u001b[38;5;100m─\u001b[0m\u001b[38;5;100m─\u001b[0m\u001b[38;5;100m─\u001b[0m\u001b[38;5;100m┬\u001b[0m\u001b[38;5;100m─\u001b[0m\u001b[38;5;100m─\u001b[0m  ",
      " \u001b[38;5;246m  ·\u001b[0m                 \u001b[38;5;100m╰\u001b[0m\u001b[38;5;100m─\u001b[0m\u001b[38;5;100m─\u001b[0m\u001b[38;5;100m─\u001b[0m\u001b[38;5;100m─\u001b[0m second mutable borrow occurs here",
      " \u001b[38;5;246m6 │\u001b[0m \u001b[38;5;249m \u001b[0m\u001b[38;5;249m \u001b[0m\u001b[38;5;249m \u001b[0m\u001b[38;5;249m \u001b[0m\u001b[38;5;249mp\u001b[0m\u001b[38;5;249mr\u001b[0m\u001b[38;5;249mi\u001b[0m\u001b[38;5;249mn\u001b[0m\u001b[38;5;249mt\u001b[0m\u001b[38;5;249ml\u001b[0m\u001b[38;5;249mn\u001b[0m\u001b[38;5;249m!\u001b[0m\u001b[38;5;249m(\u001b[0m\u001b[38;5;249m\"\u001b[0m\u001b[38;5;249m{\u001b[0m\u001b[38;5;249m}\u001b[0m\u001b[38;5;249m\"\u001b[0m\u001b[38;5;249m,\u001b[0m\u001b[38;5;249m \u001b[0m\u001b[38;5;68mr\u001b[0m\u001b[38;5;68m1\u001b[0m\u001b[38;5;249m)\u001b[0m\u001b[38;5;249m;\u001b[0m",
      " \u001b[38;5;246m  ·\u001b[0m                    \u001b[38;5;68m─\u001b[0m\u001b[38;5;68m┬\u001b[0m  ",
      " \u001b[38;5;246m  ·\u001b[0m                     \u001b[38;5;68m╰\u001b[0m\u001b[38;5;68m─\u001b[0m\u001b[38;5;68m─\u001b[0m first borrow later used here",
      "\u001b[38;5;246m───╯\u001b[0m"
     ]
    }
   ],
   "source": [
    "{\n",
    "    let mut s = String::from(\"hello\");\n",
    "\n",
    "    let r1 = &mut s;\n",
    "    let r2 = &mut s;\n",
    "    println!(\"{}\", r1);\n",
    "    println!(\"{}\", r2);\n",
    "}"
   ]
  },
  {
   "attachments": {},
   "cell_type": "markdown",
   "metadata": {},
   "source": [
    "This error says that this code is invalid because we **`cannot borrow s as mutable`**  \n",
    "**`more than once at a time`**. The first mutable borrow is in r1 and must last until  \n",
    "it’s used in the println!, but between the creation of that mutable reference  \n",
    "and its usage, we tried to create another mutable reference in r2 that borrows  \n",
    "the same data as r1.\n",
    "\n",
    "The restriction preventing multiple mutable references to the same data at the  \n",
    "same time allows for mutation but in a very controlled fashion. \n",
    "\n",
    "It’s something that new Rustaceans struggle with because most languages let you  \n",
    "mutate whenever you’d like. The benefit of having this restriction is that Rust  \n",
    "can prevent data races at compile time. A data race is similar to a race  \n",
    "condition and happens when these three behaviors occur:\n",
    "\n",
    "- Two or more pointers access the same data at the same time.\n",
    "- At least one of the pointers is being used to write to the data.\n",
    "- There’s no mechanism being used to synchronize access to the data.\n",
    "\n",
    "Data races cause undefined behavior and can be difficult to diagnose and fix  \n",
    "when you’re trying to track them down at runtime; Rust prevents this problem by  \n",
    "refusing to compile code with data races!"
   ]
  },
  {
   "attachments": {},
   "cell_type": "markdown",
   "metadata": {},
   "source": [
    "As always, we can use curly brackets to create a new scope, allowing for   \n",
    "multiple mutable references, just not simultaneous ones:\n"
   ]
  },
  {
   "cell_type": "code",
   "execution_count": 7,
   "metadata": {
    "vscode": {
     "languageId": "rust"
    }
   },
   "outputs": [
    {
     "name": "stdout",
     "output_type": "stream",
     "text": [
      "borrowing [s] mutable in [inner] scope hello\n",
      "borrowing [s] mutable in [outer] scope hello\n"
     ]
    }
   ],
   "source": [
    "{\n",
    "    let mut s = String::from(\"hello\");\n",
    "\n",
    "    {\n",
    "        let r1 = &mut s;\n",
    "        println!(\"borrowing [s] mutable in [inner] scope {}\", r1);\n",
    "    } // r1 goes out of scope here, so we can make a new reference with no problems.\n",
    "\n",
    "    let r2 = &mut s;\n",
    "    println!(\"borrowing [s] mutable in [outer] scope {}\", r2);\n",
    "}\n",
    "// In actual RUST env ^ this could be outer scope\n",
    "// BUT in Jupyter all rust code is in static scope so we needed to wrap it in \n",
    "// another BLOCK"
   ]
  },
  {
   "attachments": {},
   "cell_type": "markdown",
   "metadata": {},
   "source": [
    "Rust enforces a similar rule for combining mutable and immutable references.  \n",
    "This code results in an error:"
   ]
  },
  {
   "cell_type": "code",
   "execution_count": 10,
   "metadata": {
    "vscode": {
     "languageId": "rust"
    }
   },
   "outputs": [
    {
     "ename": "Error",
     "evalue": "cannot borrow `s` as mutable because it is also borrowed as immutable",
     "output_type": "error",
     "traceback": [
      "\u001b[31m[E0502] Error:\u001b[0m cannot borrow `s` as mutable because it is also borrowed as immutable",
      "   \u001b[38;5;246m╭\u001b[0m\u001b[38;5;246m─\u001b[0m\u001b[38;5;246m[\u001b[0mcommand_10:1:1\u001b[38;5;246m]\u001b[0m",
      "   \u001b[38;5;246m│\u001b[0m",
      " \u001b[38;5;246m4 │\u001b[0m \u001b[38;5;249m \u001b[0m\u001b[38;5;249m \u001b[0m\u001b[38;5;249m \u001b[0m\u001b[38;5;249m \u001b[0m\u001b[38;5;249ml\u001b[0m\u001b[38;5;249me\u001b[0m\u001b[38;5;249mt\u001b[0m\u001b[38;5;249m \u001b[0m\u001b[38;5;249mr\u001b[0m\u001b[38;5;249m1\u001b[0m\u001b[38;5;249m \u001b[0m\u001b[38;5;249m=\u001b[0m\u001b[38;5;249m \u001b[0m\u001b[38;5;100m&\u001b[0m\u001b[38;5;100ms\u001b[0m\u001b[38;5;249m;\u001b[0m\u001b[38;5;249m \u001b[0m\u001b[38;5;249m/\u001b[0m\u001b[38;5;249m/\u001b[0m\u001b[38;5;249m \u001b[0m\u001b[38;5;249mn\u001b[0m\u001b[38;5;249mo\u001b[0m\u001b[38;5;249m \u001b[0m\u001b[38;5;249mp\u001b[0m\u001b[38;5;249mr\u001b[0m\u001b[38;5;249mo\u001b[0m\u001b[38;5;249mb\u001b[0m\u001b[38;5;249ml\u001b[0m\u001b[38;5;249me\u001b[0m\u001b[38;5;249mm\u001b[0m",
      " \u001b[38;5;246m  ·\u001b[0m              \u001b[38;5;100m─\u001b[0m\u001b[38;5;100m┬\u001b[0m  ",
      " \u001b[38;5;246m  ·\u001b[0m               \u001b[38;5;100m╰\u001b[0m\u001b[38;5;100m─\u001b[0m\u001b[38;5;100m─\u001b[0m immutable borrow occurs here",
      " \u001b[38;5;246m  ·\u001b[0m ",
      " \u001b[38;5;246m7 │\u001b[0m \u001b[38;5;249m \u001b[0m\u001b[38;5;249m \u001b[0m\u001b[38;5;249m \u001b[0m\u001b[38;5;249m \u001b[0m\u001b[38;5;249ml\u001b[0m\u001b[38;5;249me\u001b[0m\u001b[38;5;249mt\u001b[0m\u001b[38;5;249m \u001b[0m\u001b[38;5;249mr\u001b[0m\u001b[38;5;249m3\u001b[0m\u001b[38;5;249m \u001b[0m\u001b[38;5;249m=\u001b[0m\u001b[38;5;249m \u001b[0m\u001b[38;5;54m&\u001b[0m\u001b[38;5;54mm\u001b[0m\u001b[38;5;54mu\u001b[0m\u001b[38;5;54mt\u001b[0m\u001b[38;5;54m \u001b[0m\u001b[38;5;54ms\u001b[0m\u001b[38;5;249m;\u001b[0m\u001b[38;5;249m \u001b[0m\u001b[38;5;249m/\u001b[0m\u001b[38;5;249m/\u001b[0m\u001b[38;5;249m \u001b[0m\u001b[38;5;249mB\u001b[0m\u001b[38;5;249mI\u001b[0m\u001b[38;5;249mG\u001b[0m\u001b[38;5;249m \u001b[0m\u001b[38;5;249mP\u001b[0m\u001b[38;5;249mR\u001b[0m\u001b[38;5;249mO\u001b[0m\u001b[38;5;249mB\u001b[0m\u001b[38;5;249mL\u001b[0m\u001b[38;5;249mE\u001b[0m\u001b[38;5;249mM\u001b[0m",
      " \u001b[38;5;246m  ·\u001b[0m              \u001b[38;5;54m─\u001b[0m\u001b[38;5;54m─\u001b[0m\u001b[38;5;54m─\u001b[0m\u001b[38;5;54m┬\u001b[0m\u001b[38;5;54m─\u001b[0m\u001b[38;5;54m─\u001b[0m  ",
      " \u001b[38;5;246m  ·\u001b[0m                 \u001b[38;5;54m╰\u001b[0m\u001b[38;5;54m─\u001b[0m\u001b[38;5;54m─\u001b[0m\u001b[38;5;54m─\u001b[0m\u001b[38;5;54m─\u001b[0m mutable borrow occurs here",
      " \u001b[38;5;246m  ·\u001b[0m ",
      " \u001b[38;5;246m9 │\u001b[0m \u001b[38;5;249m \u001b[0m\u001b[38;5;249m \u001b[0m\u001b[38;5;249m \u001b[0m\u001b[38;5;249m \u001b[0m\u001b[38;5;249mp\u001b[0m\u001b[38;5;249mr\u001b[0m\u001b[38;5;249mi\u001b[0m\u001b[38;5;249mn\u001b[0m\u001b[38;5;249mt\u001b[0m\u001b[38;5;249ml\u001b[0m\u001b[38;5;249mn\u001b[0m\u001b[38;5;249m!\u001b[0m\u001b[38;5;249m(\u001b[0m\u001b[38;5;249m\"\u001b[0m\u001b[38;5;249m{\u001b[0m\u001b[38;5;249m}\u001b[0m\u001b[38;5;249m,\u001b[0m\u001b[38;5;249m \u001b[0m\u001b[38;5;249m{\u001b[0m\u001b[38;5;249m}\u001b[0m\u001b[38;5;249m,\u001b[0m\u001b[38;5;249m \u001b[0m\u001b[38;5;249ma\u001b[0m\u001b[38;5;249mn\u001b[0m\u001b[38;5;249md\u001b[0m\u001b[38;5;249m \u001b[0m\u001b[38;5;249m{\u001b[0m\u001b[38;5;249m}\u001b[0m\u001b[38;5;249m\"\u001b[0m\u001b[38;5;249m,\u001b[0m\u001b[38;5;249m \u001b[0m\u001b[38;5;68mr\u001b[0m\u001b[38;5;68m1\u001b[0m\u001b[38;5;249m,\u001b[0m\u001b[38;5;249m \u001b[0m\u001b[38;5;249mr\u001b[0m\u001b[38;5;249m2\u001b[0m\u001b[38;5;249m,\u001b[0m\u001b[38;5;249m \u001b[0m\u001b[38;5;249mr\u001b[0m\u001b[38;5;249m3\u001b[0m\u001b[38;5;249m)\u001b[0m\u001b[38;5;249m;\u001b[0m",
      " \u001b[38;5;246m  ·\u001b[0m                                \u001b[38;5;68m─\u001b[0m\u001b[38;5;68m┬\u001b[0m  ",
      " \u001b[38;5;246m  ·\u001b[0m                                 \u001b[38;5;68m╰\u001b[0m\u001b[38;5;68m─\u001b[0m\u001b[38;5;68m─\u001b[0m immutable borrow later used here",
      "\u001b[38;5;246m───╯\u001b[0m"
     ]
    }
   ],
   "source": [
    "{\n",
    "    let mut s = String::from(\"hello\");\n",
    "\n",
    "    let r1 = &s; // no problem\n",
    "    let r2 = &s; // no problem\n",
    "    // let r3 = &s; // no problem\n",
    "    let r3 = &mut s; // BIG PROBLEM\n",
    "\n",
    "    println!(\"{}, {}, and {}\", r1, r2, r3);\n",
    "}"
   ]
  },
  {
   "attachments": {},
   "cell_type": "markdown",
   "metadata": {},
   "source": [
    "Whew! We also `cannot have a mutable reference while we have an immutable one` to  \n",
    "the same value.\n",
    "\n",
    "Users of an `immutable reference don’t expect the value to suddenly change` out  \n",
    "from under them! However, multiple immutable references are allowed because no  \n",
    "one who is just reading the data has the ability to affect anyone else’s  \n",
    "reading of the data.\n",
    "\n",
    "Note that a reference’s scope starts from where it is introduced and continues  \n",
    "through the last time that reference is used. For instance, this code will  \n",
    "compile because the last usage of the immutable references, the println!, occurs  \n",
    "before the mutable reference is introduced:"
   ]
  },
  {
   "cell_type": "code",
   "execution_count": 11,
   "metadata": {
    "vscode": {
     "languageId": "rust"
    }
   },
   "outputs": [
    {
     "name": "stdout",
     "output_type": "stream",
     "text": [
      "hello and hello\n",
      "hello\n"
     ]
    },
    {
     "data": {
      "text/plain": [
       "()"
      ]
     },
     "execution_count": 11,
     "metadata": {},
     "output_type": "execute_result"
    }
   ],
   "source": [
    "{\n",
    "    let mut s = String::from(\"hello\");\n",
    "\n",
    "    let r1 = &s; // no problem\n",
    "    let r2 = &s; // no problem\n",
    "\n",
    "    println!(\"{} and {}\", r1, r2);\n",
    "    // variables r1 and r2 will not be used after this point (code span)\n",
    "\n",
    "    let r3 = &mut s; // no problem, because this is non overlapping code span\n",
    "    println!(\"{}\", r3);\n",
    "}"
   ]
  },
  {
   "attachments": {},
   "cell_type": "markdown",
   "metadata": {},
   "source": [
    "The scopes of the immutable references r1 and r2 end after the println! where  \n",
    "they are last used, which is before the mutable reference r3 is created.  \n",
    "These scopes don’t overlap, so this code is allowed: the compiler can tell that  \n",
    "the reference is no longer being used at a point before the end of the scope.\n",
    "\n",
    "Even though borrowing errors may be frustrating at times, remember that it’s the  \n",
    "Rust compiler pointing out a potential bug early (at compile time rather than at  \n",
    "runtime) and showing you exactly where the problem is. Then you don’t have to  \n",
    "track down why your data isn’t what you thought it was."
   ]
  },
  {
   "attachments": {},
   "cell_type": "markdown",
   "metadata": {},
   "source": [
    "Dangling References\n",
    "---"
   ]
  }
 ],
 "metadata": {
  "kernelspec": {
   "display_name": "Rust",
   "language": "rust",
   "name": "rust"
  },
  "language_info": {
   "codemirror_mode": "rust",
   "file_extension": ".rs",
   "mimetype": "text/rust",
   "name": "Rust",
   "pygment_lexer": "rust",
   "version": ""
  },
  "orig_nbformat": 4
 },
 "nbformat": 4,
 "nbformat_minor": 2
}
