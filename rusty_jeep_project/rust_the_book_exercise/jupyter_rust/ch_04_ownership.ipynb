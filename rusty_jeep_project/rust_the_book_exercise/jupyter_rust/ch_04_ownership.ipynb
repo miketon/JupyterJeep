{
 "cells": [
  {
   "attachments": {},
   "cell_type": "markdown",
   "metadata": {},
   "source": [
    "References and Borrowing\n",
    "---"
   ]
  },
  {
   "attachments": {},
   "cell_type": "markdown",
   "metadata": {},
   "source": [
    "What is Ownership?\n",
    "---\n",
    "***\n",
    "\n",
    "Ownership is a set of rules that govern how a Rust program manages memory.  \n",
    "All programs have to manage the way they use a computer’s memory while running.  \n",
    "Some languages have garbage collection that regularly looks for no-longer-used  \n",
    "memory as the program runs; in other languages, the programmer must explicitly  \n",
    "allocate and free the memory. Rust uses a third approach: memory is managed  \n",
    "through a system of ownership with a set of rules that the compiler checks.  \n",
    "If any of the rules are violated, the program won’t compile. None of the  \n",
    "features of ownership will slow down your program while it’s running.\n",
    "\n",
    "Because ownership is a new concept for many programmers, it does take some time  \n",
    "to get used to. The good news is that the more experienced you become with Rust  \n",
    "and the rules of the ownership system, the easier you’ll find it to naturally  \n",
    "develop code that is safe and efficient. Keep at it!\n",
    "\n",
    "When you understand ownership, you’ll have a solid foundation for understanding  \n",
    "the features that make Rust unique. In this chapter, you’ll learn ownership by  \n",
    "working through some examples that focus on a very common data structure:  \n",
    "\n",
    "- strings."
   ]
  },
  {
   "attachments": {},
   "cell_type": "markdown",
   "metadata": {},
   "source": [
    "### Stack and Heap\n",
    "***\n",
    "\n",
    "Many programming languages don’t require you to think about the stack and the  \n",
    "heap very often. But in a systems programming language like Rust, whether a  \n",
    "value is on the stack or the heap affects how the language behaves and why you  \n",
    "have to make certain decisions. Parts of ownership will be described in relation  \n",
    "to the stack and the heap later in this chapter, so here is a brief explanation  \n",
    "in preparation.\n",
    "\n",
    "Both the stack and the heap are parts of memory available to your code to use at  \n",
    "runtime, but they are structured in different ways. The stack stores values in  \n",
    "the order it gets them and removes the values in the opposite order. This is  \n",
    "referred to as last in, first out. Think of a stack of plates: when you add more  \n",
    "plates, you put them on top of the pile, and when you need a plate, you take one  \n",
    "off the top. Adding or removing plates from the middle or bottom wouldn’t work  \n",
    "as well! Adding data is called pushing onto the stack, and removing data is  \n",
    "called popping off the stack. All **`data stored on the stack`** must have a known,  \n",
    "**`fixed size`**. Data with an **`unknown size at compile time`** or a size that might  \n",
    "change must be **`stored on the heap`** instead.\n",
    "\n",
    "The heap is less organized: when you put data on the heap, you request a certain  \n",
    "amount of space. The memory allocator finds an empty spot in the heap that is  \n",
    "big enough, marks it as being in use, and returns a pointer, which is the  \n",
    "address of that location. This process is called allocating on the heap and is  \n",
    "sometimes abbreviated as just allocating (pushing values onto the stack is not  \n",
    " considered allocating). Because the **`pointer to the heap is a known, fixed size,`**  \n",
    " you can **`store the pointer on the stack`**, but when you want the actual data, you  \n",
    " must follow the pointer. Think of being seated at a restaurant. When you enter,  \n",
    " you state the number of people in your group, and the host finds an empty table  \n",
    " that fits everyone and leads you there. If someone in your group comes late,  \n",
    " they can ask where you’ve been seated to find you.\n",
    "\n",
    "Pushing to the stack is faster than allocating on the heap because the allocator  \n",
    "never has to search for a place to store new data; that location is always at  \n",
    "the top of the stack. Comparatively, allocating space on the heap requires more    \n",
    "work because the allocator must first find a big enough space to hold the data  \n",
    "and then perform bookkeeping to prepare for the next allocation.\n",
    "\n",
    "Accessing data in the heap is slower than accessing data on the stack because  \n",
    "you have to follow a pointer to get there. Contemporary processors are faster  \n",
    "if they jump around less in memory. Continuing the analogy, consider a server at  \n",
    "a restaurant taking orders from many tables. It’s most efficient to get all the  \n",
    "orders at one table before moving on to the next table. Taking an order from  \n",
    "table A, then an order from table B, then one from A again, and then one from B  \n",
    "again would be a much slower process. By the same token, a processor can do its  \n",
    "job better if it works on data that’s close to other data (as it is on the stack)  \n",
    "rather than farther away (as it can be on the heap).\n",
    "\n",
    "When your code calls a function, the values passed into the function (including,  \n",
    "potentially, pointers to data on the heap) and the function’s local variables  \n",
    "get pushed onto the stack. When the function is over, those values get popped  \n",
    "off the stack.\n",
    "\n",
    "Keeping track of what parts of code are using what data on the heap, minimizing  \n",
    "the amount of duplicate data on the heap, and cleaning up unused data on the  \n",
    "heap so you don’t run out of space are all problems that ownership addresses.  \n",
    "Once you understand ownership, you won’t need to think about the stack and the  \n",
    "heap very often, but knowing that the main purpose of ownership is to manage  \n",
    "heap data can help explain why it works the way it does.\n"
   ]
  },
  {
   "attachments": {},
   "cell_type": "markdown",
   "metadata": {},
   "source": [
    "### Ownership Rules\n",
    "***\n",
    "\n",
    "First, let’s take a look at the ownership rules. Keep these rules in mind as we  \n",
    "work through the examples that illustrate them:\n",
    "\n",
    "- Each value in Rust has an owner.\n",
    "- There can only be one owner at a time.\n",
    "- When the owner goes out of scope, the value will be dropped."
   ]
  },
  {
   "attachments": {},
   "cell_type": "markdown",
   "metadata": {},
   "source": [
    "### Variable Scope"
   ]
  },
  {
   "cell_type": "code",
   "execution_count": 26,
   "metadata": {},
   "outputs": [],
   "source": [
    "{                       // s is not valid here, it’s not yet declared\n",
    "    let s = \"Hello\";    // s is valid from this point forward\n",
    "    // .. do stuff with s ..\n",
    "}                       // this scope is now over, and s is dropped and no longer valid"
   ]
  },
  {
   "attachments": {},
   "cell_type": "markdown",
   "metadata": {},
   "source": [
    "In other words, there are two important points in time here:\n",
    "\n",
    "- When s comes into scope, it is valid.\n",
    "- It remains valid until it goes out of scope.\n",
    "\n",
    "At this point, the relationship between scopes and when variables are valid is  \n",
    "similar to that in other programming languages. Now we’ll build on top of this  \n",
    "understanding by introducing the String type."
   ]
  },
  {
   "attachments": {},
   "cell_type": "markdown",
   "metadata": {},
   "source": [
    "### The String Type"
   ]
  },
  {
   "cell_type": "code",
   "execution_count": 27,
   "metadata": {},
   "outputs": [
    {
     "name": "stdout",
     "output_type": "stream",
     "text": [
      "[LITERAL] Hello\n",
      "[TYPE] Hello\n",
      "[TYPE is MUTABLE] Hello, world!\n"
     ]
    },
    {
     "data": {
      "text/plain": [
       "()"
      ]
     },
     "execution_count": 27,
     "metadata": {},
     "output_type": "execute_result"
    }
   ],
   "source": [
    "{\n",
    "    let s = \"Hello\";               // string LITERAL\n",
    "    println!(\"[LITERAL] {}\", s);\n",
    "    let mut s = String::from(\"Hello\"); // string TYPE (shadow)\n",
    "    println!(\"[TYPE] {}\", s);\n",
    "    s.push_str(\", world!\");        // push_str() appends a literal to a String\n",
    "    println!(\"[TYPE is MUTABLE] {}\", s);\n",
    "}"
   ]
  },
  {
   "attachments": {},
   "cell_type": "markdown",
   "metadata": {},
   "source": [
    "So, what’s the difference here? Why can String be mutated but literals cannot?  \n",
    "The difference is in how these two types deal with memory."
   ]
  },
  {
   "attachments": {},
   "cell_type": "markdown",
   "metadata": {},
   "source": [
    "### Memory and Allocation\n",
    "***\n",
    "\n",
    "In the case of a string literal, we know the `contents at compile time`, so the  \n",
    "text `is hardcoded directly into the final executable`. This is why string  \n",
    "literals are fast and efficient. But these properties only come from the string  \n",
    "literal’s `immutability`. Unfortunately, we can’t put a blob of memory into the  \n",
    "binary for each piece of text whose size is unknown at compile time and whose  \n",
    "size might change while running the program.\n",
    "\n",
    "With the `String type`, in order to `support a mutable, growable piece of text`, we  \n",
    "need to `allocate an amount of memory on the heap`, `unknown at compile time`, to  \n",
    "hold the contents. This means:\n",
    "\n",
    "- The memory must be requested from the memory allocator at runtime.  \n",
    "\n",
    "We need a way of returning this memory to the allocator when we’re done with our  \n",
    "String.\n",
    "\n",
    "That first part is done by us: when we call String::from, its implementation  \n",
    "requests the memory it needs. This is pretty much universal in programming  \n",
    "languages.\n",
    "\n",
    "However, the second part is different. In languages with a garbage collector  \n",
    "(GC), the GC keeps track of and cleans up memory that isn’t being used anymore,  \n",
    "and we don’t need to think about it. In most languages `without a GC`, it’s our  \n",
    "`responsibility to identify when memory is no longer being used` and to call code  \n",
    "to `explicitly free it`, just as we did to request it. Doing this correctly has  \n",
    "historically been a difficult programming problem. If we forget, we’ll waste  \n",
    "memory. If we do it too early, we’ll have an invalid variable. If we do it twice,  \n",
    "that’s a bug too. We need to pair exactly one allocate with exactly one free.\n",
    "\n",
    "Rust takes a different path: the memory is automatically returned once the  \n",
    "variable that owns it goes out of scope. Here’s a version of our scope example  \n",
    "from Listing 4-1 using a String instead of a string literal:"
   ]
  },
  {
   "cell_type": "code",
   "execution_count": 28,
   "metadata": {},
   "outputs": [],
   "source": [
    "{\n",
    "    let s = String::from(\"Hello\");  // s comes into scope\n",
    "    // ... do stuff with s ...\n",
    "}                                   // scope is now over, s is no longer valid\n",
    "                                    // and rust auto calls drop() to free memory"
   ]
  },
  {
   "attachments": {},
   "cell_type": "markdown",
   "metadata": {},
   "source": [
    "There is a natural point at which we can return the memory our String needs to  \n",
    "the allocator: when s goes out of scope. When a variable goes out of scope,  \n",
    "Rust calls a special function for us. This function is called drop, and it’s  \n",
    "where the author of String can put the code to return the memory. Rust calls  \n",
    "drop automatically at the closing curly bracket.\n",
    "\n",
    "Note: In C++, this pattern of deallocating resources at the end of an item’s  \n",
    "lifetime is sometimes called Resource Acquisition Is Initialization (RAII).  \n",
    "The drop function in Rust will be familiar to you if you’ve used RAII patterns.\n",
    "\n",
    "This pattern has a profound impact on the way Rust code is written. It may seem  \n",
    "simple right now, but the behavior of code can be unexpected in more complicated  \n",
    "situations when we want to have multiple variables use the data we’ve allocated  \n",
    "on the heap. Let’s explore some of those situations now."
   ]
  },
  {
   "attachments": {},
   "cell_type": "markdown",
   "metadata": {},
   "source": [
    "### Variables and Data Interacting with Move\n",
    "***\n",
    "\n",
    "Multiple variables can interact with the same data in different ways in Rust.  \n",
    "Let’s look at an example using an integer in Listing 4-2."
   ]
  },
  {
   "cell_type": "code",
   "execution_count": 29,
   "metadata": {},
   "outputs": [
    {
     "data": {
      "text/plain": [
       "()"
      ]
     },
     "execution_count": 29,
     "metadata": {},
     "output_type": "execute_result"
    }
   ],
   "source": [
    "{\n",
    "    let x = 5;\n",
    "    let y = x; // assigning integer value of x to y\n",
    "}"
   ]
  },
  {
   "attachments": {},
   "cell_type": "markdown",
   "metadata": {},
   "source": [
    "We can probably guess what this is doing: \n",
    "- “bind the value 5 to x; \n",
    "- then make a copy of the value in x\n",
    "-  and bind it to y.” \n",
    "\n",
    "We now have two variables, x and y, and both equal 5. This is indeed what is  \n",
    "happening, because integers are simple values with a known, fixed size, and  \n",
    "these two 5 values are pushed onto the stack.\n",
    "\n",
    "Now let’s look at the String version:"
   ]
  },
  {
   "cell_type": "code",
   "execution_count": 30,
   "metadata": {},
   "outputs": [
    {
     "data": {
      "text/plain": [
       "()"
      ]
     },
     "execution_count": 30,
     "metadata": {},
     "output_type": "execute_result"
    }
   ],
   "source": [
    "{\n",
    "    let s1 = String::from(\"Hello\");\n",
    "    let s2 = s1; // s1 is moved to s2\n",
    "}"
   ]
  },
  {
   "attachments": {},
   "cell_type": "markdown",
   "metadata": {},
   "source": [
    "This looks very similar, so we might assume that the way it works would be the  \n",
    "same: \n",
    "- that is, the second line would make a copy of the value in s1 and bind it to s2.  \n",
    "\n",
    "But this isn’t quite what happens...\n",
    "\n",
    "\n",
    "<img src='https://doc.rust-lang.org/book/img/trpl04-01.svg' width=50% height=50%/>\n",
    "\n",
    "\n",
    "> This is what is happening to String under the covers. A String is made up of  \n",
    "three parts, shown on the left:  \n",
    "- a pointer to the memory that holds the contents of the string, \n",
    "- a length, \n",
    "- and a capacity. \n",
    "\n",
    "> This group of data is stored on the stack. On the right is the memory on the  \n",
    "heap that holds the contents.  \n",
    "\n",
    "- The length is how much memory, in bytes, the contents of the String are  \n",
    "currently using. \n",
    "- The capacity is the total amount of memory, in bytes, that the String has  \n",
    "received from the allocator. \n",
    "- The difference between length and capacity matters, but not in this context,  \n",
    "so for now, it’s fine to ignore the capacity.\n"
   ]
  },
  {
   "attachments": {},
   "cell_type": "markdown",
   "metadata": {},
   "source": [
    "When we assign s1 to s2, the String data is copied, meaning we :\n",
    "\n",
    "- copy the pointer,   \n",
    "- the length,  \n",
    "- and the capacity that are on the stack. \n",
    "\n",
    "We do **`NOT`** copy the data on the **`HEAP`** that the pointer refers to.  \n",
    "In other words, the data representation in memory looks like :\n",
    "\n",
    "<img src=\"https://doc.rust-lang.org/book/img/trpl04-02.svg\" width=50% height=50% />\n",
    "\n",
    "Rust automatically calls the drop function and cleans up the heap memory for  \n",
    "that variable and if memory were to work like the ABOVE ^ diagram ... with:  \n",
    "- Both data pointers pointing to the same location...  \n",
    "- when s2 and s1 go out of scope, they will both try to free the same memory!  \n",
    "- This is known as a double free error ...  \n",
    "Freeing memory twice can lead to memory corruption, which can potentially lead  \n",
    "to security vulnerabilities.\n",
    "\n",
    "\n",
    "**`THIS IS A PROBLEM`**"
   ]
  },
  {
   "attachments": {},
   "cell_type": "markdown",
   "metadata": {},
   "source": [
    "**`AND THIS IS HOW RUST FIXES IT!`**\n",
    "\n",
    "### MOVE (GET OUT THE WAY LOL) \n",
    "\n",
    "> Because Rust also **`invalidates`** the first variable, instead of being called a  \n",
    "shallow copy, it’s known as a **`move`**. In this example, we would say that s1 was  \n",
    "moved into s2. So, what actually happens is shown :\n",
    "\n",
    "<img src=\"https://doc.rust-lang.org/book/img/trpl04-04.svg\" width=50% height=50%>\n",
    "\n",
    "(In other languages this would be a shallow copy, because the first variable is  \n",
    "NOT invalidated)"
   ]
  },
  {
   "cell_type": "code",
   "execution_count": 20,
   "metadata": {},
   "outputs": [
    {
     "ename": "Error",
     "evalue": "unused variable: `s2`",
     "output_type": "error",
     "traceback": [
      "\u001b[31m[unused_variables] Error:\u001b[0m unused variable: `s2`",
      "   \u001b[38;5;246m╭\u001b[0m\u001b[38;5;246m─\u001b[0m\u001b[38;5;246m[\u001b[0mcommand_20:1:1\u001b[38;5;246m]\u001b[0m",
      "   \u001b[38;5;246m│\u001b[0m",
      " \u001b[38;5;246m3 │\u001b[0m \u001b[38;5;249m \u001b[0m\u001b[38;5;249m \u001b[0m\u001b[38;5;249m \u001b[0m\u001b[38;5;249m \u001b[0m\u001b[38;5;249ml\u001b[0m\u001b[38;5;249me\u001b[0m\u001b[38;5;249mt\u001b[0m\u001b[38;5;249m \u001b[0m\u001b[38;5;54ms\u001b[0m\u001b[38;5;54m2\u001b[0m\u001b[38;5;249m \u001b[0m\u001b[38;5;249m=\u001b[0m\u001b[38;5;249m \u001b[0m\u001b[38;5;249ms\u001b[0m\u001b[38;5;249m1\u001b[0m\u001b[38;5;249m;\u001b[0m",
      " \u001b[38;5;246m  ·\u001b[0m         \u001b[38;5;54m─\u001b[0m\u001b[38;5;54m┬\u001b[0m  ",
      " \u001b[38;5;246m  ·\u001b[0m          \u001b[38;5;54m╰\u001b[0m\u001b[38;5;54m─\u001b[0m\u001b[38;5;54m─\u001b[0m warning: unused variable: `s2`",
      " \u001b[38;5;246m  ·\u001b[0m          \u001b[38;5;100m│\u001b[0m  ",
      " \u001b[38;5;246m  ·\u001b[0m          \u001b[38;5;100m╰\u001b[0m\u001b[38;5;100m─\u001b[0m\u001b[38;5;100m─\u001b[0m help: if this is intentional, prefix it with an underscore: `_s2`",
      "\u001b[38;5;246m───╯\u001b[0m"
     ]
    },
    {
     "ename": "Error",
     "evalue": "borrow of moved value: `s1`",
     "output_type": "error",
     "traceback": [
      "\u001b[31m[E0382] Error:\u001b[0m borrow of moved value: `s1`",
      "   \u001b[38;5;246m╭\u001b[0m\u001b[38;5;246m─\u001b[0m\u001b[38;5;246m[\u001b[0mcommand_20:1:1\u001b[38;5;246m]\u001b[0m",
      "   \u001b[38;5;246m│\u001b[0m",
      " \u001b[38;5;246m2 │\u001b[0m \u001b[38;5;249m \u001b[0m\u001b[38;5;249m \u001b[0m\u001b[38;5;249m \u001b[0m\u001b[38;5;249m \u001b[0m\u001b[38;5;249ml\u001b[0m\u001b[38;5;249me\u001b[0m\u001b[38;5;249mt\u001b[0m\u001b[38;5;249m \u001b[0m\u001b[38;5;68ms\u001b[0m\u001b[38;5;68m1\u001b[0m\u001b[38;5;249m \u001b[0m\u001b[38;5;249m=\u001b[0m\u001b[38;5;249m \u001b[0m\u001b[38;5;249mS\u001b[0m\u001b[38;5;249mt\u001b[0m\u001b[38;5;249mr\u001b[0m\u001b[38;5;249mi\u001b[0m\u001b[38;5;249mn\u001b[0m\u001b[38;5;249mg\u001b[0m\u001b[38;5;249m:\u001b[0m\u001b[38;5;249m:\u001b[0m\u001b[38;5;249mf\u001b[0m\u001b[38;5;249mr\u001b[0m\u001b[38;5;249mo\u001b[0m\u001b[38;5;249mm\u001b[0m\u001b[38;5;249m(\u001b[0m\u001b[38;5;249m\"\u001b[0m\u001b[38;5;249mH\u001b[0m\u001b[38;5;249me\u001b[0m\u001b[38;5;249ml\u001b[0m\u001b[38;5;249ml\u001b[0m\u001b[38;5;249mo\u001b[0m\u001b[38;5;249m\"\u001b[0m\u001b[38;5;249m)\u001b[0m\u001b[38;5;249m;\u001b[0m",
      " \u001b[38;5;246m  ·\u001b[0m         \u001b[38;5;68m─\u001b[0m\u001b[38;5;68m┬\u001b[0m  ",
      " \u001b[38;5;246m  ·\u001b[0m          \u001b[38;5;68m╰\u001b[0m\u001b[38;5;68m─\u001b[0m\u001b[38;5;68m─\u001b[0m move occurs because `s1` has type `String`, which does not implement the `Copy` trait",
      " \u001b[38;5;246m3 │\u001b[0m \u001b[38;5;249m \u001b[0m\u001b[38;5;249m \u001b[0m\u001b[38;5;249m \u001b[0m\u001b[38;5;249m \u001b[0m\u001b[38;5;249ml\u001b[0m\u001b[38;5;249me\u001b[0m\u001b[38;5;249mt\u001b[0m\u001b[38;5;249m \u001b[0m\u001b[38;5;249ms\u001b[0m\u001b[38;5;249m2\u001b[0m\u001b[38;5;249m \u001b[0m\u001b[38;5;249m=\u001b[0m\u001b[38;5;249m \u001b[0m\u001b[38;5;54ms\u001b[0m\u001b[38;5;54m1\u001b[0m\u001b[38;5;249m;\u001b[0m",
      " \u001b[38;5;246m  ·\u001b[0m              \u001b[38;5;54m─\u001b[0m\u001b[38;5;54m┬\u001b[0m\u001b[38;5;37m│\u001b[0m ",
      " \u001b[38;5;246m  ·\u001b[0m               \u001b[38;5;54m╰\u001b[0m\u001b[38;5;54m─\u001b[0m\u001b[38;5;54m─\u001b[0m value moved here",
      " \u001b[38;5;246m  ·\u001b[0m                \u001b[38;5;37m│\u001b[0m ",
      " \u001b[38;5;246m  ·\u001b[0m                \u001b[38;5;37m╰\u001b[0m\u001b[38;5;37m─\u001b[0m help: consider cloning the value if the performance cost is acceptable: `.clone()`",
      " \u001b[38;5;246m  ·\u001b[0m ",
      " \u001b[38;5;246m5 │\u001b[0m \u001b[38;5;249m \u001b[0m\u001b[38;5;249m \u001b[0m\u001b[38;5;249m \u001b[0m\u001b[38;5;249m \u001b[0m\u001b[38;5;249mp\u001b[0m\u001b[38;5;249mr\u001b[0m\u001b[38;5;249mi\u001b[0m\u001b[38;5;249mn\u001b[0m\u001b[38;5;249mt\u001b[0m\u001b[38;5;249ml\u001b[0m\u001b[38;5;249mn\u001b[0m\u001b[38;5;249m!\u001b[0m\u001b[38;5;249m(\u001b[0m\u001b[38;5;249m\"\u001b[0m\u001b[38;5;249m{\u001b[0m\u001b[38;5;249m}\u001b[0m\u001b[38;5;249m,\u001b[0m\u001b[38;5;249m \u001b[0m\u001b[38;5;249mw\u001b[0m\u001b[38;5;249mo\u001b[0m\u001b[38;5;249mr\u001b[0m\u001b[38;5;249ml\u001b[0m\u001b[38;5;249md\u001b[0m\u001b[38;5;249m!\u001b[0m\u001b[38;5;249m\"\u001b[0m\u001b[38;5;249m,\u001b[0m\u001b[38;5;249m \u001b[0m\u001b[38;5;100ms\u001b[0m\u001b[38;5;100m1\u001b[0m\u001b[38;5;249m)\u001b[0m\u001b[38;5;249m;\u001b[0m",
      " \u001b[38;5;246m  ·\u001b[0m                            \u001b[38;5;100m─\u001b[0m\u001b[38;5;100m┬\u001b[0m  ",
      " \u001b[38;5;246m  ·\u001b[0m                             \u001b[38;5;100m╰\u001b[0m\u001b[38;5;100m─\u001b[0m\u001b[38;5;100m─\u001b[0m value borrowed here after move",
      "\u001b[38;5;246m───╯\u001b[0m"
     ]
    }
   ],
   "source": [
    "{\n",
    "    let s1 = String::from(\"Hello\"); // s1 comes into scope\n",
    "    let s2 = s1;                    // pointer is moved to s2 ANDd invalidated at s1\n",
    "                                    // s1 is NO LONGER VALID\n",
    "                                    // So when we try to print s1 ...\n",
    "    println!(\"{}, world!\", s1);     // error: value borrowed here after move\n",
    "}"
   ]
  },
  {
   "attachments": {},
   "cell_type": "markdown",
   "metadata": {},
   "source": [
    "### Variables and Data Interacting with Clone\n",
    "\n",
    "**`RUST DEFINITELY DOES NOT COPY THE HEAP BY DEFAULT => \"CLONE\" MUST BE CALLED**`\n",
    "\n",
    "\n",
    "<img src=\"https://doc.rust-lang.org/book/img/trpl04-03.svg\" width=50% height=50%>\n",
    "\n",
    "\n",
    "**`RUST DEFINITELY DOES NOT COPY THE HEAP BY DEFAULT => \"CLONE\" MUST BE CALLED`**"
   ]
  },
  {
   "attachments": {},
   "cell_type": "markdown",
   "metadata": {},
   "source": [
    "If we do want to deeply copy the heap data of the String, not just the stack  \n",
    "data, we can use a common method called clone. We’ll discuss method syntax in  \n",
    "Chapter 5, but because methods are a common feature in many programming  \n",
    "languages, you’ve probably seen them before."
   ]
  },
  {
   "cell_type": "code",
   "execution_count": 32,
   "metadata": {},
   "outputs": [
    {
     "name": "stdout",
     "output_type": "stream",
     "text": [
      "s1 = Hello, s2 = Hello\n",
      "This works because we DEEP CLONED ... but we also made the code MORE EXPENSIVE\n"
     ]
    },
    {
     "data": {
      "text/plain": [
       "()"
      ]
     },
     "execution_count": 32,
     "metadata": {},
     "output_type": "execute_result"
    }
   ],
   "source": [
    "{\n",
    "    let s1 = String::from(\"Hello\");\n",
    "    let s2 = s1.clone(); // deep copy\n",
    "\n",
    "    println!(\"s1 = {}, s2 = {}\", s1, s2);\n",
    "    println!(\"This works because we DEEP CLONED ... but we also made the code MORE EXPENSIVE\");\n",
    "}"
   ]
  },
  {
   "attachments": {},
   "cell_type": "markdown",
   "metadata": {},
   "source": [
    "This works just fine and explicitly **`DEEP CLONED the ENTIRE HEAP DATA`**\n",
    "\n",
    ">When you see a call to clone, you know that some arbitrary code is being  \n",
    "executed and that code may be **`EXPENSIVE`**.  \n",
    "\n",
    "It’s a visual indicator that something different is going on."
   ]
  },
  {
   "attachments": {},
   "cell_type": "markdown",
   "metadata": {},
   "source": [
    "### Stack Only : Data Copy"
   ]
  },
  {
   "cell_type": "code",
   "execution_count": 33,
   "metadata": {},
   "outputs": [
    {
     "name": "stdout",
     "output_type": "stream",
     "text": [
      "x = 5, y = 5\n"
     ]
    },
    {
     "data": {
      "text/plain": [
       "()"
      ]
     },
     "execution_count": 33,
     "metadata": {},
     "output_type": "execute_result"
    }
   ],
   "source": [
    "{\n",
    "    let x = 5;\n",
    "    let y = x;\n",
    "\n",
    "    println!(\"x = {}, y = {}\", x, y);   // According to the HEAP rules this should NOT work\n",
    "                                        // But it does because integers are stored on the STACK\n",
    "}"
   ]
  },
  {
   "attachments": {},
   "cell_type": "markdown",
   "metadata": {},
   "source": [
    "> But this code seems to contradict what we just learned: we don’t have a call to  \n",
    "clone, but x is still valid and wasn’t moved into y.\n",
    "\n",
    "The reason is that types such as integers that have a known size at compile  \n",
    "time are stored entirely on the stack, so copies of the actual values are quick  \n",
    "to make. That means there’s no reason we would want to prevent x from being  \n",
    "valid after we create the variable y. In other words, there’s no difference  \n",
    "between deep and shallow copying here, so calling clone wouldn’t do anything  \n",
    "different from the usual shallow copying, and we can leave it out.  "
   ]
  },
  {
   "attachments": {},
   "cell_type": "markdown",
   "metadata": {},
   "source": [
    "### Copy Trait\n",
    "\n",
    "> Rust has a special annotation called the Copy trait that we can place on types  \n",
    "that are stored on the stack, as integers are  \n",
    "(we’ll talk more about traits in Chapter 10).  \n",
    "\n",
    "If a type implements the Copy trait, variables that use it do not move, but  \n",
    "rather are trivially copied, making them still valid after assignment to another  \n",
    "variable.\n",
    "\n",
    "> Rust won’t let us annotate a type with **`Copy`** if the type, or any of its parts,  \n",
    "has implemented the **`Drop`** trait. If the type needs something special to happen  \n",
    "when the value goes out of scope and we add the Copy annotation to that type,  \n",
    "we’ll get a compile-time error. To learn about how to add the Copy annotation  \n",
    "to your type to implement the trait, see “Derivable Traits” in Appendix C.  \n",
    "\n",
    "So, what types implement the Copy trait? You can check the documentation for the  \n",
    "given type to be sure, but as a general rule, any group of simple scalar values  \n",
    "can implement Copy, and nothing that requires allocation or is some form of  \n",
    "resource can implement Copy. Here are some of the types that implement Copy:\n",
    "\n",
    "@note All the integer types, such as u32.\n",
    "- The Boolean type, bool, with values true and false.\n",
    "- All the floating-point types, such as f64.\n",
    "- The character type, char.\n",
    "- Tuples, if they only contain types that also implement Copy.  \n",
    "  For example, (i32, i32) implements Copy, but (i32, String) does not."
   ]
  },
  {
   "attachments": {},
   "cell_type": "markdown",
   "metadata": {},
   "source": [
    "### Ownership and Functions\n",
    "\n",
    "The mechanics of passing a value to a function are similar to those when  \n",
    "assigning a value to a variable. Passing a variable to a function will move or  \n",
    "copy, just as assignment does. \n",
    "\n",
    "Here is an example with some annotations showing where variables go into and out  \n",
    "of scope:"
   ]
  },
  {
   "cell_type": "code",
   "execution_count": 42,
   "metadata": {},
   "outputs": [
    {
     "name": "stdout",
     "output_type": "stream",
     "text": [
      "is s still valid? Hello\n",
      "[fn] takes ownership of Hello\n",
      "[fn] makes copy of 5\n",
      "is x still valid? 5\n"
     ]
    }
   ],
   "source": [
    "{\n",
    "    \n",
    "    let s = String::from(\"Hello\");  // s comes into scope\n",
    "    println!(\"is s still valid? {}\", s);    // yes s is still in scope\n",
    "    takes_ownership(s);             // @note s's value FULLY moves into the function ...\n",
    "                                    // ... and so is NO LONBER VALID in this scope\n",
    "\n",
    "    // println!(\"is s still valid? {}\", s);    // error: value borrowed here after move\n",
    "                                                // and is no longer in scope\n",
    "\n",
    "    let x = 5;                      // x comes into scope\n",
    "    makes_copy(x);                  // x would move into the function, but it's COPIED\n",
    "                                    // because i32 has a Copy (trait), so it's value\n",
    "                                    // remains at this scope and AVAILABLE for use\n",
    "    println!(\"is x still valid? {}\", x);    // yes it is still 5 because i32 has a Copy trait\n",
    "\n",
    "}   // After this closure :\n",
    "    // - x goes out of scope\n",
    "    // - then s ... but because it's VALUE was already moved ... \n",
    "    // @note going out of scope is IDEMPOTENT\n",
    "\n",
    "fn takes_ownership(some_string: String){ // some_string comes into scope\n",
    "    println!(\"[fn] takes ownership of {}\", some_string);\n",
    "}   // @note Here some_string goes out of scope and 'drop' is called \n",
    "    // the backing memory is freed!\n",
    "\n",
    "fn makes_copy(some_integer: i32){   // some_integer comes into scope\n",
    "    println!(\"[fn] makes copy of {}\", some_integer);\n",
    "}   // Here some_integer goes out of scope, but because i32 has a Copy Trait\n",
    "    // @note Nothing special happens, this closure is IDEMPOTENT\n"
   ]
  },
  {
   "attachments": {},
   "cell_type": "markdown",
   "metadata": {},
   "source": [
    "### Return Value and Scope\n",
    "\n",
    "Returning values can also transfer ownership. Here is an example of a function  \n",
    "that returns some value, with step by step annotations"
   ]
  },
  {
   "cell_type": "code",
   "execution_count": 48,
   "metadata": {},
   "outputs": [
    {
     "name": "stdout",
     "output_type": "stream",
     "text": [
      "[fn] gives ownership of to s1 => This is Your Book Now\n"
     ]
    },
    {
     "name": "stdout",
     "output_type": "stream",
     "text": [
      "[fn] takes from s2 and gives back to s3 => Hold my Beer\n"
     ]
    }
   ],
   "source": [
    "{\n",
    "    let s1 = gives_ownership(); // fn gives_ownership moves it's return value into s1\n",
    "    println!(\"[fn] gives ownership of to s1 => {}\", s1);\n",
    "\n",
    "    let s2 = String::from(\"Hold my Beer\"); // s2 comes into scope\n",
    "\n",
    "    let s3 = takes_and_gives_back(s2);  // s2 values goes into fn ...\n",
    "                                        // ... fn then moves it's returned value to s3\n",
    "    // println!(\"is s2 still holding the beer {}\", s2);    // error: value borrowed here after move\n",
    "                                                        // s2 is invalid, it's value was moved to \n",
    "                                                        // fn ...which then moved it to s3\n",
    "    println!(\"[fn] takes from s2 and gives back to s3 => {}\", s3);\n",
    "\n",
    "}   // Here s3 goes out of scope and is dropped\n",
    "    // s2 was moved so nothing happened \n",
    "    // s1 goes out of scope and is dropped\n",
    "\n",
    "fn gives_ownership() -> String {    // gives_ownership will move it's return value into the calling function\n",
    "    let some_string = String::from(\"This is Your Book Now\");    // some_string comes into scope\n",
    "    some_string // some_string is moved out to the calling function\n",
    "}               // scope closes but nothing special happens\n",
    "\n",
    "fn takes_and_gives_back(a_string : String) -> String {  // will take ownership of a String and return a String\n",
    "                // a_string comes into scope\n",
    "    a_string    // a_string is moved out to the calling function\n",
    "}               // scope closes but nothing special happens"
   ]
  },
  {
   "attachments": {},
   "cell_type": "markdown",
   "metadata": {},
   "source": [
    "The ownership of a variable follows the same pattern every time: \n",
    "- assigning a value to another variable moves it. \n",
    "- When a variable that includes data on the heap goes out of scope, the value  \n",
    "will be cleaned up by drop unless ownership of the data has been moved to  \n",
    "another variable.\n",
    "\n",
    "> @audit-ok : Drop is ONLY called on data that includes heap?\n",
    "\n",
    "```\n",
    "Yes, the concept of ownership and the `Drop` trait in Rust primarily apply to  \n",
    "data that uses the heap. When a variable with heap-allocated data goes out of  \n",
    "scope, the `drop` function is called to clean up the resources, unless ownership  \n",
    "has been transferred to another variable.\n",
    "\n",
    "For data types that are stored entirely on the stack, Rust follows a last-in,  \n",
    "first-out (LIFO) order for cleaning up resources. When a variable goes out of  \n",
    "scope, its memory is automatically reclaimed, and there's no need for explicit  \n",
    "ownership management or dropping.\n",
    "\n",
    "However, it's important to note that even for stack-allocated data, you can use  \n",
    "ownership and borrowing concepts to control how the data is accessed and shared  \n",
    "across your program. This can help you write safer and more efficient code.\n",
    "```\n",
    "\n",
    "While this works, taking ownership and then returning ownership with every  \n",
    "function is a bit tedious. \n",
    "\n",
    "> What if we want to let a function use a value but not take ownership?  \n",
    "It’s quite annoying that anything we pass in also needs to be passed back if we  \n",
    "want to use it again, in addition to any data resulting from the body of the  \n",
    "function that we might want to return as well.\n",
    "\n",
    "Rust does let us return multiple values using a tuple"
   ]
  },
  {
   "cell_type": "code",
   "execution_count": 50,
   "metadata": {},
   "outputs": [
    {
     "name": "stdout",
     "output_type": "stream",
     "text": [
      "The length of '35lb KettleBell' is 15.\n"
     ]
    }
   ],
   "source": [
    "{\n",
    "    let s1 = String::from(\"35lb KettleBell\"); // s1 comes into scope\n",
    "\n",
    "    let (s2, len) = calculate_length(s1);   // s1 is moved into fn calculate_length\n",
    "                                            // fn returns ownership of s1 to s2, as well as the length\n",
    "\n",
    "    println!(\"The length of '{}' is {}.\", s2, len); \n",
    "\n",
    "}   // Here s2 goes out of scope and is dropped\n",
    "    // len goes out of scope and is dropped\n",
    "    // s1 is already dropped because it was moved to calculate_length\n",
    "    // so nothing special happens\n",
    "\n",
    "// takes ownership of a String to calculate it's length\n",
    "// then returns ownership of the length and in String as a TUPLE\n",
    "fn calculate_length(s: String) -> (String, usize) { // s is moved into scope\n",
    "    // calculate the length of s\n",
    "    let length = s.len(); // let comes into scope to store that length\n",
    "    (s, length) // s and length are moved out to the calling function as a tuple\n",
    "}"
   ]
  },
  {
   "attachments": {},
   "cell_type": "markdown",
   "metadata": {},
   "source": [
    "> But this is **`too much ceremony`** and a lot of work for a concept that should be  \n",
    "common. Luckily for us, Rust has a feature for using a value without  \n",
    "transferring ownership, called references."
   ]
  },
  {
   "attachments": {},
   "cell_type": "markdown",
   "metadata": {},
   "source": [
    "References and Borrowing\n",
    "---\n",
    "***  \n",
    "\n",
    "> The issue with the tuple code above ^ is that we have to return the String to  \n",
    "the calling function so we can still use the String after the call to  \n",
    "calculate_length, because the String was moved into calculate_length.  \n",
    "\n",
    "**`Instead, we can provide a reference to the String value.`**  \n",
    "\n",
    "A reference is like a pointer in that it’s an address we can follow to access  \n",
    "the data stored at that address; that data is owned by some other variable.  \n",
    "Unlike a pointer, a reference is guaranteed to point to a valid value of a  \n",
    "particular type for the life of that reference.\n",
    "\n",
    "Here is how you would define and use a calculate_length function that has a  \n",
    "reference to an object as a parameter instead of taking ownership of the value:"
   ]
  },
  {
   "attachments": {},
   "cell_type": "markdown",
   "metadata": {},
   "source": [
    "### Immutable Reference"
   ]
  },
  {
   "cell_type": "code",
   "execution_count": 53,
   "metadata": {},
   "outputs": [
    {
     "name": "stdout",
     "output_type": "stream",
     "text": [
      "The length of 'Hotel Key' is 9\n"
     ]
    }
   ],
   "source": [
    "{\n",
    "    let s1 = String::from(\"Hotel Key\"); // s1 comes into scope\n",
    "    // si is borrowed by calculate_length as an immutable reference (&)\n",
    "    let len = calculate_length(&s1);\n",
    "    // calculate_length goes out of scope ... \n",
    "    // @audit-ok : does anything happen to s1?\n",
    "    // ANSWER : Nothing happens to s1 because it was borrowed as an immutable ref\n",
    "    // ... like any other var, it's up to the owner (this scope) to drop it \n",
    "    println!(\"The length of '{}' is {}\", s1, len);\n",
    "\n",
    "}   // closure ends\n",
    "    // len goes out of scope and is dropped\n",
    "    // s1 goes out of scope and the owner (this scope) drops it\n",
    "\n",
    "fn calculate_length(s: &String)-> usize{ // s is an immutable ref (borrowed))\n",
    "    s.len() // len comes into scope and is (moved) returned to the calling function\n",
    "}   // closure ends\n",
    "    // s goes out of scope, but since we do NOT own it, we do NOT drop it\n",
    "    // @audit-ok what do we do instead?\n",
    "    // ANSWER : At this scope, NOTHING : it's the OWNER's responsibility to drop it!"
   ]
  },
  {
   "attachments": {},
   "cell_type": "markdown",
   "metadata": {},
   "source": [
    "When we pass &s1 into calculate_length and, in its definition we take : \n",
    "- **`&String`** \n",
    "- rather than **`String`**  \n",
    "\n",
    "The ampersands **`&`** represent references, and they allow you to **`refer`** to some  \n",
    "value **`without taking ownership`** of it\n",
    "\n",
    "\n",
    "<img src=\"https://doc.rust-lang.org/book/img/trpl04-05.svg\" width=50% height=50%>\n",
    "\n",
    "> A diagram of **`&String`** s pointing at **`String`** s1\n",
    "\n",
    "\n",
    "> Note: The opposite of referencing by using & is dereferencing, which is  \n",
    "accomplished with the dereference operator, *. \n",
    "\n",
    "We call the action of **`creating a reference`** == **`borrowing`**  \n",
    "As in real life, if a person owns something, you can borrow it from them.  \n",
    "When you’re done, you have to give it back. **`You don’t own it.`**"
   ]
  },
  {
   "cell_type": "code",
   "execution_count": 54,
   "metadata": {},
   "outputs": [
    {
     "ename": "Error",
     "evalue": "cannot borrow `*some_string` as mutable, as it is behind a `&` reference",
     "output_type": "error",
     "traceback": [
      "    some_string.push_str(\"Find Out\");   // Let's find out what happens if we try to change it",
      "    ^^^^^^^^^^^^^^^^^^^^^^^^^^^^^^^^ `some_string` is a `&` reference, so the data it refers to cannot be borrowed as mutable",
      "cannot borrow `*some_string` as mutable, as it is behind a `&` reference",
      "help: consider changing this to be a mutable reference\n\n&mut String"
     ]
    }
   ],
   "source": [
    "// So, what happens if we try to modify something we’re borrowing?\n",
    "// Let's fiddlestick around and find out LOL\n",
    "\n",
    "{\n",
    "    let s1 = String::from(\"Let's fiddlestick around and ...\"); // s1 comes into scope\n",
    "    change(&s1);    // s1 is borrowed as an immutable ref\n",
    "                    // ... and passed to fn change\n",
    "                    // ... which tries to change it\n",
    "                    // ... but it can't because it's an immutable ref\n",
    "                    // ... so it throws an error\n",
    "    println!(\"s1 was ONLY borrowed, it better have come back in the SAME CONDITION {}\", s1);\n",
    "}   // closure ends\n",
    "    // this scope owns s1, so it is our responsibility to drop it\n",
    "\n",
    "// Let's find out what happens when we try to MODIFY an immutable ref\n",
    "fn change(some_string: &String){        // &some_string comes in as an IMMUTABLE BORROW\n",
    "    some_string.push_str(\"Find Out\");   // Let's find out what happens if we try to change it\n",
    "}   // closure ends\n",
    "    // &some_string was borrowed, we DO NOT drop it ...\n",
    "    // that's the RESPONSIBILITY of the OWNER\n",
    "\n",
    "/*\n",
    "** ERROR **\n",
    "error[E0596]: cannot borrow immutable borrowed content `*some_string` as mutable\n",
    "    some_string.push_str(\"Find Out\");   // Let's find out what happens if we try to change it\n",
    "    ^^^^^^^^^^^^^^^^^^^^^^^^^^^^^^^^ `some_string` is a `&` reference, so the data it refers to cannot be borrowed as mutable\n",
    "cannot borrow `*some_string` as mutable, as it is behind a `&` reference\n",
    "help: consider changing this to be a mutable reference\n",
    "\n",
    "&mut String\n",
    " */"
   ]
  },
  {
   "attachments": {},
   "cell_type": "markdown",
   "metadata": {},
   "source": [
    "**`Just as variables are immutable by default, so are references.`**  \n",
    "We’re not allowed to modify something we have a reference to."
   ]
  },
  {
   "attachments": {},
   "cell_type": "markdown",
   "metadata": {},
   "source": [
    "### Mutable Reference\n"
   ]
  },
  {
   "cell_type": "code",
   "execution_count": 56,
   "metadata": {},
   "outputs": [
    {
     "name": "stdout",
     "output_type": "stream",
     "text": [
      "hello\n"
     ]
    },
    {
     "name": "stdout",
     "output_type": "stream",
     "text": [
      "hello, world\n"
     ]
    }
   ],
   "source": [
    "// Let's fix the error in cell 54\n",
    "\n",
    "{\n",
    "    let mut s = String::from(\"hello\"); // s comes into scope\n",
    "    println!(\"{}\", s);\n",
    "\n",
    "    change(&mut s);     // adding the mut keyword to s signals that it is a MUTABLE REF\n",
    "                        // ... so we can let fn change BORROW and MUTATE s\n",
    "    println!(\"{}\", s);\n",
    "}   // end of closure\n",
    "    // we OWN s, so we are responsible for dropping it\n",
    "    // s goes out of scope and is dropped\n",
    "\n",
    "// Adding the mut keyword to &some_string makes it a MUTABLE REF\n",
    "fn change(some_string: &mut String){    // now we can BORROW and MUTATE some_string\n",
    "    some_string.push_str(\", world\");    // mutate the borrowed value\n",
    "}   // end of closure\n",
    "    // since we only BORROWED some_string, we DO NOT drop it\n",
    "    // that is the responsiblity fo the OWNER \n",
    "    // ... which is the calling function in this case"
   ]
  },
  {
   "cell_type": "code",
   "execution_count": 5,
   "metadata": {},
   "outputs": [
    {
     "ename": "Error",
     "evalue": "cannot borrow `s` as mutable more than once at a time",
     "output_type": "error",
     "traceback": [
      "\u001b[31m[E0499] Error:\u001b[0m cannot borrow `s` as mutable more than once at a time",
      "   \u001b[38;5;246m╭\u001b[0m\u001b[38;5;246m─\u001b[0m\u001b[38;5;246m[\u001b[0mcommand_5:1:1\u001b[38;5;246m]\u001b[0m",
      "   \u001b[38;5;246m│\u001b[0m",
      " \u001b[38;5;246m4 │\u001b[0m \u001b[38;5;249m \u001b[0m\u001b[38;5;249m \u001b[0m\u001b[38;5;249m \u001b[0m\u001b[38;5;249m \u001b[0m\u001b[38;5;249ml\u001b[0m\u001b[38;5;249me\u001b[0m\u001b[38;5;249mt\u001b[0m\u001b[38;5;249m \u001b[0m\u001b[38;5;249mr\u001b[0m\u001b[38;5;249m1\u001b[0m\u001b[38;5;249m \u001b[0m\u001b[38;5;249m=\u001b[0m\u001b[38;5;249m \u001b[0m\u001b[38;5;54m&\u001b[0m\u001b[38;5;54mm\u001b[0m\u001b[38;5;54mu\u001b[0m\u001b[38;5;54mt\u001b[0m\u001b[38;5;54m \u001b[0m\u001b[38;5;54ms\u001b[0m\u001b[38;5;249m;\u001b[0m",
      " \u001b[38;5;246m  ·\u001b[0m              \u001b[38;5;54m─\u001b[0m\u001b[38;5;54m─\u001b[0m\u001b[38;5;54m─\u001b[0m\u001b[38;5;54m┬\u001b[0m\u001b[38;5;54m─\u001b[0m\u001b[38;5;54m─\u001b[0m  ",
      " \u001b[38;5;246m  ·\u001b[0m                 \u001b[38;5;54m╰\u001b[0m\u001b[38;5;54m─\u001b[0m\u001b[38;5;54m─\u001b[0m\u001b[38;5;54m─\u001b[0m\u001b[38;5;54m─\u001b[0m first mutable borrow occurs here",
      " \u001b[38;5;246m5 │\u001b[0m \u001b[38;5;249m \u001b[0m\u001b[38;5;249m \u001b[0m\u001b[38;5;249m \u001b[0m\u001b[38;5;249m \u001b[0m\u001b[38;5;249ml\u001b[0m\u001b[38;5;249me\u001b[0m\u001b[38;5;249mt\u001b[0m\u001b[38;5;249m \u001b[0m\u001b[38;5;249mr\u001b[0m\u001b[38;5;249m2\u001b[0m\u001b[38;5;249m \u001b[0m\u001b[38;5;249m=\u001b[0m\u001b[38;5;249m \u001b[0m\u001b[38;5;100m&\u001b[0m\u001b[38;5;100mm\u001b[0m\u001b[38;5;100mu\u001b[0m\u001b[38;5;100mt\u001b[0m\u001b[38;5;100m \u001b[0m\u001b[38;5;100ms\u001b[0m\u001b[38;5;249m;\u001b[0m",
      " \u001b[38;5;246m  ·\u001b[0m              \u001b[38;5;100m─\u001b[0m\u001b[38;5;100m─\u001b[0m\u001b[38;5;100m─\u001b[0m\u001b[38;5;100m┬\u001b[0m\u001b[38;5;100m─\u001b[0m\u001b[38;5;100m─\u001b[0m  ",
      " \u001b[38;5;246m  ·\u001b[0m                 \u001b[38;5;100m╰\u001b[0m\u001b[38;5;100m─\u001b[0m\u001b[38;5;100m─\u001b[0m\u001b[38;5;100m─\u001b[0m\u001b[38;5;100m─\u001b[0m second mutable borrow occurs here",
      " \u001b[38;5;246m6 │\u001b[0m \u001b[38;5;249m \u001b[0m\u001b[38;5;249m \u001b[0m\u001b[38;5;249m \u001b[0m\u001b[38;5;249m \u001b[0m\u001b[38;5;249mp\u001b[0m\u001b[38;5;249mr\u001b[0m\u001b[38;5;249mi\u001b[0m\u001b[38;5;249mn\u001b[0m\u001b[38;5;249mt\u001b[0m\u001b[38;5;249ml\u001b[0m\u001b[38;5;249mn\u001b[0m\u001b[38;5;249m!\u001b[0m\u001b[38;5;249m(\u001b[0m\u001b[38;5;249m\"\u001b[0m\u001b[38;5;249m{\u001b[0m\u001b[38;5;249m}\u001b[0m\u001b[38;5;249m\"\u001b[0m\u001b[38;5;249m,\u001b[0m\u001b[38;5;249m \u001b[0m\u001b[38;5;68mr\u001b[0m\u001b[38;5;68m1\u001b[0m\u001b[38;5;249m)\u001b[0m\u001b[38;5;249m;\u001b[0m",
      " \u001b[38;5;246m  ·\u001b[0m                    \u001b[38;5;68m─\u001b[0m\u001b[38;5;68m┬\u001b[0m  ",
      " \u001b[38;5;246m  ·\u001b[0m                     \u001b[38;5;68m╰\u001b[0m\u001b[38;5;68m─\u001b[0m\u001b[38;5;68m─\u001b[0m first borrow later used here",
      "\u001b[38;5;246m───╯\u001b[0m"
     ]
    }
   ],
   "source": [
    "{\n",
    "    let mut s = String::from(\"hello\");\n",
    "\n",
    "    let r1 = &mut s;\n",
    "    let r2 = &mut s;\n",
    "    println!(\"{}\", r1);\n",
    "    println!(\"{}\", r2);\n",
    "}"
   ]
  },
  {
   "attachments": {},
   "cell_type": "markdown",
   "metadata": {},
   "source": [
    "This error says that this code is invalid because we **`cannot borrow s as mutable`**  \n",
    "**`more than once at a time`**. The first mutable borrow is in r1 and must last until  \n",
    "it’s used in the println!, but between the creation of that mutable reference  \n",
    "and its usage, we tried to create another mutable reference in r2 that borrows  \n",
    "the same data as r1.\n",
    "\n",
    "The restriction preventing multiple mutable references to the same data at the  \n",
    "same time allows for mutation but in a very controlled fashion. \n",
    "\n",
    "It’s something that new Rustaceans struggle with because most languages let you  \n",
    "mutate whenever you’d like. The benefit of having this restriction is that Rust  \n",
    "can prevent data races at compile time. A data race is similar to a race  \n",
    "condition and happens when these three behaviors occur:\n",
    "\n",
    "- Two or more pointers access the same data at the same time.\n",
    "- At least one of the pointers is being used to write to the data.\n",
    "- There’s no mechanism being used to synchronize access to the data.\n",
    "\n",
    "Data races cause undefined behavior and can be difficult to diagnose and fix  \n",
    "when you’re trying to track them down at runtime; Rust prevents this problem by  \n",
    "refusing to compile code with data races!"
   ]
  },
  {
   "attachments": {},
   "cell_type": "markdown",
   "metadata": {},
   "source": [
    "As always, we can use curly brackets to create a new scope, allowing for   \n",
    "multiple mutable references, just not simultaneous ones:\n"
   ]
  },
  {
   "cell_type": "code",
   "execution_count": 2,
   "metadata": {},
   "outputs": [
    {
     "name": "stdout",
     "output_type": "stream",
     "text": [
      "borrowing [s] mutable in [inner] scope hello\n"
     ]
    },
    {
     "name": "stdout",
     "output_type": "stream",
     "text": [
      "borrowing [s] mutable in [outer] scope hello\n"
     ]
    }
   ],
   "source": [
    "{\n",
    "    let mut s = String::from(\"hello\"); // s comes into scope as a mutable\n",
    "\n",
    "    {\n",
    "        let r1 = &mut s;  // r1 comes into the inner scope as a mutable ref\n",
    "        println!(\"borrowing [s] mutable in [inner] scope {}\", r1);\n",
    "    } // r1 goes out of scope and is dropped here, releasing the mutable ref.\n",
    "\n",
    "    let r2 = &mut s;    // since there are no mutable refs to s in the outer scope\n",
    "                        // r2 can come into scope as a mutable ref to s\n",
    "    println!(\"borrowing [s] mutable in [outer] scope {}\", r2);\n",
    "}   // closure ends\n",
    "    // r2 goes out of scope and is dropped, RELEASING the mutable borrow on s\n",
    "    // s goies out of scope and is dropped, DEALLLOCATING it's memory\n",
    "\n",
    "\n",
    "// In actual RUST env ^ this could be outer scope\n",
    "// BUT in Jupyter all rust code is in static scope so we needed to wrap it in \n",
    "// another BLOCK"
   ]
  },
  {
   "attachments": {},
   "cell_type": "markdown",
   "metadata": {},
   "source": [
    "Rust enforces a similar rule for combining mutable and immutable references.  \n",
    "This code results in an error:"
   ]
  },
  {
   "cell_type": "code",
   "execution_count": 4,
   "metadata": {},
   "outputs": [
    {
     "ename": "Error",
     "evalue": "cannot borrow `s` as mutable because it is also borrowed as immutable",
     "output_type": "error",
     "traceback": [
      "\u001b[31m[E0502] Error:\u001b[0m cannot borrow `s` as mutable because it is also borrowed as immutable",
      "    \u001b[38;5;246m╭\u001b[0m\u001b[38;5;246m─\u001b[0m\u001b[38;5;246m[\u001b[0mcommand_4:1:1\u001b[38;5;246m]\u001b[0m",
      "    \u001b[38;5;246m│\u001b[0m",
      " \u001b[38;5;246m 4 │\u001b[0m \u001b[38;5;249m \u001b[0m\u001b[38;5;249m \u001b[0m\u001b[38;5;249m \u001b[0m\u001b[38;5;249m \u001b[0m\u001b[38;5;249ml\u001b[0m\u001b[38;5;249me\u001b[0m\u001b[38;5;249mt\u001b[0m\u001b[38;5;249m \u001b[0m\u001b[38;5;249mr\u001b[0m\u001b[38;5;249m1\u001b[0m\u001b[38;5;249m \u001b[0m\u001b[38;5;249m=\u001b[0m\u001b[38;5;249m \u001b[0m\u001b[38;5;100m&\u001b[0m\u001b[38;5;100ms\u001b[0m\u001b[38;5;249m;\u001b[0m\u001b[38;5;249m \u001b[0m\u001b[38;5;249m/\u001b[0m\u001b[38;5;249m/\u001b[0m\u001b[38;5;249m \u001b[0m\u001b[38;5;249mn\u001b[0m\u001b[38;5;249mo\u001b[0m\u001b[38;5;249m \u001b[0m\u001b[38;5;249mp\u001b[0m\u001b[38;5;249mr\u001b[0m\u001b[38;5;249mo\u001b[0m\u001b[38;5;249mb\u001b[0m\u001b[38;5;249ml\u001b[0m\u001b[38;5;249me\u001b[0m\u001b[38;5;249mm\u001b[0m\u001b[38;5;249m,\u001b[0m\u001b[38;5;249m \u001b[0m\u001b[38;5;249mr\u001b[0m\u001b[38;5;249m1\u001b[0m\u001b[38;5;249m \u001b[0m\u001b[38;5;249mi\u001b[0m\u001b[38;5;249ms\u001b[0m\u001b[38;5;249m \u001b[0m\u001b[38;5;249ma\u001b[0m\u001b[38;5;249mn\u001b[0m\u001b[38;5;249m \u001b[0m\u001b[38;5;249mi\u001b[0m\u001b[38;5;249mm\u001b[0m\u001b[38;5;249mm\u001b[0m\u001b[38;5;249mu\u001b[0m\u001b[38;5;249mt\u001b[0m\u001b[38;5;249ma\u001b[0m\u001b[38;5;249mb\u001b[0m\u001b[38;5;249ml\u001b[0m\u001b[38;5;249me\u001b[0m\u001b[38;5;249m \u001b[0m\u001b[38;5;249mr\u001b[0m\u001b[38;5;249me\u001b[0m\u001b[38;5;249mf\u001b[0m\u001b[38;5;249m \u001b[0m\u001b[38;5;249mt\u001b[0m\u001b[38;5;249mo\u001b[0m\u001b[38;5;249m \u001b[0m\u001b[38;5;249ms\u001b[0m",
      " \u001b[38;5;246m   ·\u001b[0m              \u001b[38;5;100m─\u001b[0m\u001b[38;5;100m┬\u001b[0m  ",
      " \u001b[38;5;246m   ·\u001b[0m               \u001b[38;5;100m╰\u001b[0m\u001b[38;5;100m─\u001b[0m\u001b[38;5;100m─\u001b[0m immutable borrow occurs here",
      " \u001b[38;5;246m   ·\u001b[0m ",
      " \u001b[38;5;246m 7 │\u001b[0m \u001b[38;5;249m \u001b[0m\u001b[38;5;249m \u001b[0m\u001b[38;5;249m \u001b[0m\u001b[38;5;249m \u001b[0m\u001b[38;5;249ml\u001b[0m\u001b[38;5;249me\u001b[0m\u001b[38;5;249mt\u001b[0m\u001b[38;5;249m \u001b[0m\u001b[38;5;249mr\u001b[0m\u001b[38;5;249m3\u001b[0m\u001b[38;5;249m \u001b[0m\u001b[38;5;249m=\u001b[0m\u001b[38;5;249m \u001b[0m\u001b[38;5;54m&\u001b[0m\u001b[38;5;54mm\u001b[0m\u001b[38;5;54mu\u001b[0m\u001b[38;5;54mt\u001b[0m\u001b[38;5;54m \u001b[0m\u001b[38;5;54ms\u001b[0m\u001b[38;5;249m;\u001b[0m\u001b[38;5;249m \u001b[0m\u001b[38;5;249m \u001b[0m\u001b[38;5;249m \u001b[0m\u001b[38;5;249m \u001b[0m\u001b[38;5;249m/\u001b[0m\u001b[38;5;249m/\u001b[0m\u001b[38;5;249m \u001b[0m\u001b[38;5;249mB\u001b[0m\u001b[38;5;249mI\u001b[0m\u001b[38;5;249mG\u001b[0m\u001b[38;5;249m \u001b[0m\u001b[38;5;249mP\u001b[0m\u001b[38;5;249mR\u001b[0m\u001b[38;5;249mO\u001b[0m\u001b[38;5;249mB\u001b[0m\u001b[38;5;249mL\u001b[0m\u001b[38;5;249mE\u001b[0m\u001b[38;5;249mM\u001b[0m\u001b[38;5;249m,\u001b[0m\u001b[38;5;249m \u001b[0m\u001b[38;5;249mb\u001b[0m\u001b[38;5;249me\u001b[0m\u001b[38;5;249mc\u001b[0m\u001b[38;5;249ma\u001b[0m\u001b[38;5;249mu\u001b[0m\u001b[38;5;249ms\u001b[0m\u001b[38;5;249me\u001b[0m\u001b[38;5;249m \u001b[0m\u001b[38;5;249mi\u001b[0m\u001b[38;5;249mt\u001b[0m\u001b[38;5;249m'\u001b[0m\u001b[38;5;249ms\u001b[0m\u001b[38;5;249m \u001b[0m\u001b[38;5;249ma\u001b[0m\u001b[38;5;249m \u001b[0m\u001b[38;5;249mm\u001b[0m\u001b[38;5;249mu\u001b[0m\u001b[38;5;249mt\u001b[0m\u001b[38;5;249ma\u001b[0m\u001b[38;5;249mb\u001b[0m\u001b[38;5;249ml\u001b[0m\u001b[38;5;249me\u001b[0m\u001b[38;5;249m \u001b[0m\u001b[38;5;249mr\u001b[0m\u001b[38;5;249me\u001b[0m\u001b[38;5;249mf\u001b[0m\u001b[38;5;249m \u001b[0m\u001b[38;5;249mt\u001b[0m\u001b[38;5;249mo\u001b[0m\u001b[38;5;249m \u001b[0m\u001b[38;5;249ms\u001b[0m",
      " \u001b[38;5;246m   ·\u001b[0m              \u001b[38;5;54m─\u001b[0m\u001b[38;5;54m─\u001b[0m\u001b[38;5;54m─\u001b[0m\u001b[38;5;54m┬\u001b[0m\u001b[38;5;54m─\u001b[0m\u001b[38;5;54m─\u001b[0m  ",
      " \u001b[38;5;246m   ·\u001b[0m                 \u001b[38;5;54m╰\u001b[0m\u001b[38;5;54m─\u001b[0m\u001b[38;5;54m─\u001b[0m\u001b[38;5;54m─\u001b[0m\u001b[38;5;54m─\u001b[0m mutable borrow occurs here",
      " \u001b[38;5;246m   ·\u001b[0m ",
      " \u001b[38;5;246m11 │\u001b[0m \u001b[38;5;249m \u001b[0m\u001b[38;5;249m \u001b[0m\u001b[38;5;249m \u001b[0m\u001b[38;5;249m \u001b[0m\u001b[38;5;249mp\u001b[0m\u001b[38;5;249mr\u001b[0m\u001b[38;5;249mi\u001b[0m\u001b[38;5;249mn\u001b[0m\u001b[38;5;249mt\u001b[0m\u001b[38;5;249ml\u001b[0m\u001b[38;5;249mn\u001b[0m\u001b[38;5;249m!\u001b[0m\u001b[38;5;249m(\u001b[0m\u001b[38;5;249m\"\u001b[0m\u001b[38;5;249m{\u001b[0m\u001b[38;5;249m}\u001b[0m\u001b[38;5;249m,\u001b[0m\u001b[38;5;249m \u001b[0m\u001b[38;5;249m{\u001b[0m\u001b[38;5;249m}\u001b[0m\u001b[38;5;249m,\u001b[0m\u001b[38;5;249m \u001b[0m\u001b[38;5;249ma\u001b[0m\u001b[38;5;249mn\u001b[0m\u001b[38;5;249md\u001b[0m\u001b[38;5;249m \u001b[0m\u001b[38;5;249m{\u001b[0m\u001b[38;5;249m}\u001b[0m\u001b[38;5;249m\"\u001b[0m\u001b[38;5;249m,\u001b[0m\u001b[38;5;249m \u001b[0m\u001b[38;5;68mr\u001b[0m\u001b[38;5;68m1\u001b[0m\u001b[38;5;249m,\u001b[0m\u001b[38;5;249m \u001b[0m\u001b[38;5;249mr\u001b[0m\u001b[38;5;249m2\u001b[0m\u001b[38;5;249m,\u001b[0m\u001b[38;5;249m \u001b[0m\u001b[38;5;249mr\u001b[0m\u001b[38;5;249m3\u001b[0m\u001b[38;5;249m)\u001b[0m\u001b[38;5;249m;\u001b[0m",
      " \u001b[38;5;246m   ·\u001b[0m                                \u001b[38;5;68m─\u001b[0m\u001b[38;5;68m┬\u001b[0m  ",
      " \u001b[38;5;246m   ·\u001b[0m                                 \u001b[38;5;68m╰\u001b[0m\u001b[38;5;68m─\u001b[0m\u001b[38;5;68m─\u001b[0m immutable borrow later used here",
      "\u001b[38;5;246m────╯\u001b[0m"
     ]
    }
   ],
   "source": [
    "{\n",
    "    let mut s = String::from(\"hello\"); // s comes into scope as a mutable\n",
    "\n",
    "    let r1 = &s; // no problem, r1 is an immutable ref to s\n",
    "    let r2 = &s; // no problem, r2 is an immutable ref to s\n",
    "    // let r3 = &s; // no problem, if r3 is an immutable ref to s\n",
    "    let r3 = &mut s;    // BIG PROBLEM : \n",
    "                        // r3 is a mutable ref to s when r1 and r2 are still in scope\n",
    "                        // when we want a mutable ref, it MUST be EXCLUSIVE\n",
    "                        // because r1 and r2 are in scope, r3 can NOT have an EXCLUSIVE ref to s\n",
    "                        // Else we risk data race where writes and read orders are not guaranteed\n",
    "                        // AND can cause undefined behavior\n",
    "\n",
    "    // This line will cause a compilation error due to the multiple borrow of s\n",
    "    // - @audit-ok : the issue is that we are printing r1, r2, and r3 in the SAME CODE SPAN\n",
    "    // - in this CODE SPAN the 2 reads and 1 write refs orders are NOT guaranteed\n",
    "    // and as a result can cause UNDEFINED BEHAVIOR\n",
    "    println!(\"{}, {}, and {}\", r1, r2, r3);\n",
    "}   // end of closure\n",
    "    // r3 goes out of scope and is dropped, releasing it's ref\n",
    "    // r2 goes out of scope and is dropped, releasing it's ref\n",
    "    // r1 goes out of scope and is dropped, releasing it's ref \n",
    "    // s goes oot of scope and is dropped, DEALLOCATING it's memory (heap)"
   ]
  },
  {
   "attachments": {},
   "cell_type": "markdown",
   "metadata": {},
   "source": [
    "> This code snippet demonstrates Rust's ownership and borrowing rules.  \n",
    "Specifically, it shows that you can't have a mutable reference to a value while  \n",
    "there are still active immutable references to the same value.  \n",
    "\n",
    "This is a safety feature of Rust that helps prevent data races and ensures safe  \n",
    "concurrency.\n",
    "\n",
    "In this snippet, the :  \n",
    "- `let r3 = &mut s;` line will cause a compilation error,  \n",
    "- since `r1` and `r2` are still in scope, holding immutable references to `s`.  \n",
    "\n",
    "> To fix this issue, you can either use only immutable references or ensure that  \n",
    "the mutable reference is exclusive by dropping or going out of scope the  \n",
    "immutable references before creating the mutable one."
   ]
  },
  {
   "attachments": {},
   "cell_type": "markdown",
   "metadata": {},
   "source": [
    "We `cannot have a mutable reference while we have an immutable one` to  \n",
    "the same value.\n",
    "\n",
    "Users of an `immutable reference don’t expect the value to suddenly change` out  \n",
    "from under them! However, multiple immutable references are allowed because no  \n",
    "one who is just reading the data has the ability to affect anyone else’s  \n",
    "reading of the data.\n",
    "\n",
    "Note that a reference’s scope starts from where it is introduced and continues  \n",
    "through the last time that reference is used. For instance, this code will  \n",
    "compile because the last usage of the immutable references, the println!, occurs  \n",
    "before the mutable reference is introduced:"
   ]
  },
  {
   "attachments": {},
   "cell_type": "markdown",
   "metadata": {},
   "source": [
    "**`RUST's Reference Acrobatics`**\n",
    "\n",
    "reference read and write flows are done at very granular level CODE SPAN\n",
    "\n",
    "> Explain SCOPE and CODE SPAN like I am 5\n",
    "\n",
    "**Scope**: Imagine you have a toy box in your room. You can play with the toys  \n",
    "only when you're in your room, and you can't play with them outside the room.  \n",
    "In this case, your room is like the \"scope\" for your toys. It's the area where  \n",
    "you can use and access your toys.\n",
    "\n",
    "**Code Span**: Now, let's say you want to play with your toys in a specific way,  \n",
    "like building a tower with your blocks. The time you spend building the tower is  \n",
    "like a \"code span.\" It's a specific activity or action you're doing with your  \n",
    "toys.\n",
    "\n",
    "> So, the \"scope\" is like the room where you can access and use your toys, while  \n",
    "the \"code span\" is like the individual activities or actions you do with your  \n",
    "toys."
   ]
  },
  {
   "cell_type": "code",
   "execution_count": 6,
   "metadata": {},
   "outputs": [
    {
     "name": "stdout",
     "output_type": "stream",
     "text": [
      "hello and hello\n"
     ]
    },
    {
     "name": "stdout",
     "output_type": "stream",
     "text": [
      "hello\n"
     ]
    }
   ],
   "source": [
    "// Rust's reference acrobatics :\n",
    "// - this code WILL compile because the last usage of the immutable reference \n",
    "// (the println! macro) occurs BEFORE the mutable reference is introduced\n",
    "// - @audit-ok : this GUARANTEES that there is NO RISK of r1, r2 reading STALE data from r3 writes!\n",
    "{\n",
    "    let mut s = String::from(\"hello\"); // s comes into scope as a mutable\n",
    "\n",
    "    /* ---------- CODE SPAN - [START] ------------ */\n",
    "    let r1 = &s; // no problem : r1 is an immutable ref to s\n",
    "    let r2 = &s; // no problem : r2 is an immutable ref to s\n",
    "\n",
    "    println!(\"{} and {}\", r1, r2); // LAST (and only) usage of r1 and r2\n",
    "    // variables r1 and r2 will not be used after this point (code span)\n",
    "    // @audit-ok : so if s is MUTATED after this point, there is NO RISK of  \n",
    "    // r1 and r2 using stale data\n",
    "    /* ---------- CODE SPAN - [END] ------------ */\n",
    "\n",
    "    /* ---------- CODE SPAN - [START] ------------ */\n",
    "    let r3 = &mut s;    // no problem, because there is no overlapping code span\n",
    "                        // EVEN THOUGH r3 does NOT have EXCLUSIVE mutable access  to s\n",
    "                        // @audit-ok : in this SCOPE, it has EXCLUSIVE access to s in this CODE SPAN\n",
    "    println!(\"{}\", r3); // NO RISK of data race between r1/r2 and r3 because :\n",
    "                        // - @audit-ok : print(r1, r2) and print(r3) are in DIFFERENT CODE SPANS\n",
    "    /* ---------- CODE SPAN - [END] ------------ */\n",
    "}   // closure ends\n",
    "    // r3 goes out of scope and is dropped, releasing it's ref\n",
    "    // r2 goes out of scope and is dropped, releasing it's ref\n",
    "    // r1 goes out of scope and is dropped, releasing it's ref\n",
    "    // s goes out of scope and is dropped, DEALLOCATING it's memory (heap)"
   ]
  },
  {
   "attachments": {},
   "cell_type": "markdown",
   "metadata": {},
   "source": [
    "> This code snippet illustrates how Rust's borrow checker ensures safe concurrency  \n",
    "by enforcing the borrowing rules at compile time. In this example, the code  \n",
    "compiles and runs correctly because the mutable reference `r3` is created and  \n",
    "used after the last usage of the immutable references `r1` and `r2`.\n",
    "  \n",
    "This guarantees that there is no risk of data races between the references.\n",
    "\n",
    "The comments provided give a clear explanation of why the code is safe and how  \n",
    "Rust's ownership and borrowing system helps to prevent data races and ensure  \n",
    "safe concurrency."
   ]
  },
  {
   "attachments": {},
   "cell_type": "markdown",
   "metadata": {},
   "source": [
    "The scopes of the immutable references r1 and r2 end after the println! where  \n",
    "they are last used, which is before the mutable reference r3 is created.  \n",
    "These scopes don’t overlap, so this code is allowed: the compiler can tell that  \n",
    "the reference is no longer being used at a point before the end of the scope.\n",
    "\n",
    "Even though borrowing errors may be frustrating at times, remember that it’s the  \n",
    "Rust compiler pointing out a potential bug early (at compile time rather than at  \n",
    "runtime) and showing you exactly where the problem is. Then you don’t have to  \n",
    "track down why your data isn’t what you thought it was."
   ]
  },
  {
   "attachments": {},
   "cell_type": "markdown",
   "metadata": {},
   "source": [
    "### Dangling References\n",
    "\n",
    "> Explain Dangling Reference like I am 5\n",
    "\n",
    "Imagine you have a favorite toy car that you always play with. One day, your mom  \n",
    "tells you it's time to clean up your room and put all your toys away. So, you  \n",
    "put your toy car in a special box and your mom puts the box on a high shelf,  \n",
    "where **`you can't reach it`**.\n",
    "\n",
    "A \"dangling reference\" is like when you still remember where your toy car is and  \n",
    "you try to play with it, but you can't because it's in the box on the high shelf.  \n",
    "Just like you can't reach your toy car, a dangling reference in a program points  \n",
    "to a memory location that it's not supposed to access anymore because the data  \n",
    "has been cleaned up, just like your toy car was put away. This can cause  \n",
    "problems and errors in the program, just like you might get sad or upset if you  \n",
    "can't play with your favorite toy car.\n",
    "\n",
    "***\n",
    "\n",
    "In languages with pointers, it’s easy to erroneously create a dangling pointer  \n",
    "— a pointer that references a location in memory that may have been given to  \n",
    "someone else—by freeing some memory while preserving a pointer to that memory.  \n",
    "\n",
    "In Rust, by contrast, the compiler guarantees that references will never be  \n",
    "dangling references: \n",
    "- if you have a reference to some data, the compiler will ensure that the data  \n",
    "will not go out of scope before the reference to the data does.  \n",
    "\n",
    "Let’s try to create a dangling reference to see how Rust prevents them with a  \n",
    "compile-time error:"
   ]
  },
  {
   "cell_type": "code",
   "execution_count": 8,
   "metadata": {},
   "outputs": [
    {
     "ename": "Error",
     "evalue": "missing lifetime specifier",
     "output_type": "error",
     "traceback": [
      "fn dangle() -> &String{ // entering dangle scope",
      "               ^ expected named lifetime parameter",
      "missing lifetime specifier",
      "help: this function's return type contains a borrowed value, but there is no value for it to be borrowed from",
      "help: consider using the `'static` lifetime\n\n'static"
     ]
    }
   ],
   "source": [
    "{   // entering scope\n",
    "    let reference_to_nothing = dangle(); // reference_to_nothing comes into scope\n",
    "}   // exiting scope\n",
    "\n",
    "fn dangle() -> &String{ // entering dangle scope\n",
    "    let s = String::from(\"Just Hanging Around Bro\"); // s enters scope \n",
    "    &s  // reference to s is returned to calling function\n",
    "}   // exiting dangle scope\n",
    "    // s goes out of scope and is dropped, DEALLOCACTING it's memory (heap)\n",
    "    // - the string \"Just Hanging Around Bro\" no longer exists ...\n",
    "    //   but &s ref still points to that address in memory\n",
    "\n",
    "// This snippet will cause a compilation error\n",
    "// because the main scope has a dangling reference to an address in memory that  \n",
    "// is UNDEFINED\n",
    "\n",
    "/*\n",
    "fn dangle() -> &String{ // entering dangle scope\n",
    "               ^ expected named lifetime parameter\n",
    "missing lifetime specifier\n",
    "help: this function's return type contains a borrowed value, but there is no value for it to be borrowed from\n",
    "help: consider using the `'static` lifetime\n",
    "\n",
    "'static\n",
    " */"
   ]
  },
  {
   "attachments": {},
   "cell_type": "markdown",
   "metadata": {},
   "source": [
    "> This code snippet demonstrates a common mistake in Rust: \n",
    "- **`returning a reference to a local variable that goes out of scope`**  \n",
    "\n",
    "In this example, the `dangle` function returns a reference to the local variable  \n",
    " `s`, which is deallocated when the function exits its scope.  This results in a  \n",
    "dangling reference (`reference_to_nothing`) that points to an invalid memory  \n",
    "location.\n",
    "\n",
    "Rust's ownership system and borrow checker prevent this mistake at compile time,  \n",
    "so this code will not compile.\n",
    "\n",
    "> To fix this issue, you can return the `String` directly, transferring ownership  \n",
    "to the calling function:"
   ]
  },
  {
   "cell_type": "code",
   "execution_count": 12,
   "metadata": {},
   "outputs": [
    {
     "name": "stdout",
     "output_type": "stream",
     "text": [
      "Valid address found for => This Wandering String\n"
     ]
    }
   ],
   "source": [
    "{   // entering scope\n",
    "    let owned_value = no_dangle();  // owned value enters scope\n",
    "                                    // scope is responsible for dropping owned_value\n",
    "    println!(\"Valid address found for => {}\", owned_value);\n",
    "}   // exiting scope\n",
    "    // owned_value goes out of scope and is dropped, DEALLOCATING it's memory (heap)\n",
    "\n",
    "fn no_dangle() -> String { // no_dangle will return a string to the calling function\n",
    "    let s = String::from(\"This Wandering String\"); // s enters scope\n",
    "    s   // s FULL OWNERSHIP is moved to to the calling function, on scope exit\n",
    "        // unlike dangle() which returns only a REFERENCE to s on scope exit\n",
    "}   // no_dangle scope ends\n",
    "    // s ownership is moved to be the responsibility of the calling function"
   ]
  },
  {
   "attachments": {},
   "cell_type": "markdown",
   "metadata": {},
   "source": [
    "This code snippet demonstrates the correct way to return a value from a function  \n",
    "in Rust without creating a dangling reference. In this example, the `no_dangle`  \n",
    "function returns the `String` `s` directly, transferring its ownership to the  \n",
    "calling function. The calling function's scope is then responsible for dropping  \n",
    "the `owned_value` and deallocating its memory when it goes out of scope."
   ]
  },
  {
   "attachments": {},
   "cell_type": "markdown",
   "metadata": {},
   "source": [
    "##### **`The Rules of Reference`**\n",
    "\n",
    "Let’s recap what we’ve discussed about references:\n",
    "\n",
    "At any given time, you can have either : \n",
    "\n",
    "- one mutable reference \n",
    "- or any number of immutable references.  \n",
    "\n",
    "> References must always be valid."
   ]
  },
  {
   "attachments": {},
   "cell_type": "markdown",
   "metadata": {},
   "source": [
    "The Slice Type\n",
    "---\n",
    "***\n",
    "\n",
    "Slices let you reference a contiguous sequence of elements in a collection  \n",
    "rather than the whole collection. \n",
    "\n",
    "> A slice is a kind of reference, so it does not have ownership.  \n",
    "\n",
    "Here’s a small programming problem: \n",
    "- write a function that takes a string of words separated by spaces  \n",
    "- and returns the first word it finds in that string. \n",
    "- If the function doesn’t find a space in the string, the whole string must be  \n",
    "one word, so the entire string should be returned.\n",
    "\n",
    "> Let’s work through how we’d write the signature of this function without using  \n",
    "slices, to understand the problem that slices will solve:\n",
    "\n",
    "\n",
    "```rust\n",
    "// The first_word function has a &String as a parameter ...\n",
    "// We don’t want ownership, so this is fine\n",
    "\n",
    "fn first_word(s: &String) -> ? // But what should we return?\n",
    "```\n",
    "\n",
    "We don’t really have a way to talk about **`part of a string`**. However, we could  \n",
    "**`return the index of the end of the word`**, indicated by a space. \n",
    "\n",
    "> Let’s try that :"
   ]
  },
  {
   "cell_type": "code",
   "execution_count": 18,
   "metadata": {},
   "outputs": [
    {
     "name": "stdout",
     "output_type": "stream",
     "text": [
      "index_first_word [5]\n",
      "first half [hello] second half [world]\n"
     ]
    },
    {
     "data": {
      "text/plain": [
       "()"
      ]
     },
     "execution_count": 18,
     "metadata": {},
     "output_type": "execute_result"
    }
   ],
   "source": [
    "fn first_word(s: &String) -> usize{\n",
    "    let bytes = s.as_bytes();\n",
    "    for (i, &item) in bytes.iter().enumerate(){\n",
    "        if item == b' '{\n",
    "            return i;   // return index of the first space char found\n",
    "                        // this correlates to the end of the first word\n",
    "        }\n",
    "    }\n",
    "\n",
    "    s.len() // no space found, we assume this is a single word\n",
    "            // so we return the length of the string\n",
    "}\n",
    "\n",
    "{\n",
    "    let mut s = String::from(\"hello world\");\n",
    "    let index_first_word = first_word(&s);\n",
    "    println!(\"index_first_word [{}]\", index_first_word);\n",
    "\n",
    "    // let hello = &s[0..5];\n",
    "    // let world = &s[6..11];\n",
    "    let hello = &s[0..index_first_word];\n",
    "    let world = &s[(index_first_word+1)..s.len()];\n",
    "\n",
    "    println!(\"first half [{}] second half [{}]\", hello, world);\n",
    "}"
   ]
  },
  {
   "attachments": {},
   "cell_type": "markdown",
   "metadata": {},
   "source": [
    "Rather than a reference to the entire String, hello is : \n",
    "\n",
    "- a reference to a portion of the String, \n",
    "- specified in the extra [0..5] bit.  \n",
    "\n",
    "We create slices using a range within brackets by specifying  \n",
    "[starting_index..ending_index], where starting_index is the first position in  \n",
    "the slice and ending_index is one more than the last position in the slice.  \n",
    "\n",
    "Internally, the slice data structure stores :  \n",
    "- the starting position and the length of the slice, \n",
    "- which corresponds to ending_index minus starting_index. \n",
    "\n",
    "> So, in the case of let world = &s[6..11];, world would be a slice that contains:   \n",
    "> - a pointer to the byte at index 6 of s  \n",
    "> - with a length value of 5.\n",
    "\n",
    "<img src=\"https://doc.rust-lang.org/book/img/trpl04-06.svg\" width=50% height=50%>"
   ]
  },
  {
   "attachments": {},
   "cell_type": "markdown",
   "metadata": {},
   "source": [
    "> Help explain rust owner ship with respect to shadowing variables : In a given closure, when I let var1 = 1, then I shadow it with var1  = 2, walk me through what is happening with ownership while in a closure and what happens when that closure exits"
   ]
  },
  {
   "cell_type": "code",
   "execution_count": 24,
   "metadata": {},
   "outputs": [
    {
     "name": "stdout",
     "output_type": "stream",
     "text": [
      "slice [3..len] => lo // explicit start/end expression\n",
      "slice [3..]    => lo // '[start..]' implicit goes to end\n",
      "slice [0..len] => hello // explict 0 to len of full slice\n",
      "slice [..]     => hello // implicit .. begin to end full slice\n"
     ]
    },
    {
     "data": {
      "text/plain": [
       "()"
      ]
     },
     "execution_count": 24,
     "metadata": {},
     "output_type": "execute_result"
    }
   ],
   "source": [
    "// Rust slice syntax explictt vs implicit examples\n",
    "{\n",
    "    let s = String::from(\"hello\");  // s comes into scope\n",
    "    let len = s.len();              // len comes into scope\n",
    "\n",
    "    let slice = &s[3..len]; // slice comes into scope\n",
    "    println!(\"slice [3..len] => {slice} // explicit start/end expression\");\n",
    "    let slice = &s[3..];    // slice\n",
    "    println!(\"slice [3..]    => {slice} // '[start..]' implicit goes to end\");\n",
    "\n",
    "    let slice = &s[0..len];\n",
    "    println!(\"slice [0..len] => {slice} // explict 0 to len of full slice\");\n",
    "    let slice = &s[..];\n",
    "    println!(\"slice [..]     => {slice} // implicit .. begin to end full slice\");\n",
    "}"
   ]
  },
  {
   "attachments": {},
   "cell_type": "markdown",
   "metadata": {},
   "source": [
    "> Note: String slice range indices must occur at valid UTF-8 character  \n",
    "boundaries. If you attempt to create a string slice in the middle of a multibyte  \n",
    "character, your program will exit with an error. For the purposes of introducing  \n",
    "string slices, we are assuming ASCII only in this section; a more thorough  \n",
    "discussion of UTF-8 handling is in the “Storing UTF-8 Encoded Text with Strings”  \n",
    "section of Chapter 8."
   ]
  },
  {
   "attachments": {},
   "cell_type": "markdown",
   "metadata": {},
   "source": [
    "A real \"mature\" Example lol\n",
    "\n",
    "Shadow MIGHT be ok to track a ==VALUE== across ==TYPE casting==, like from  \n",
    "&str to char #i-might-not-stab-you"
   ]
  },
  {
   "cell_type": "code",
   "execution_count": 44,
   "metadata": {},
   "outputs": [
    {
     "name": "stdout",
     "output_type": "stream",
     "text": [
      "her preference => D len > 1 of type [= &str =]\n",
      "the size she's getting D of type [= char =] lol\n"
     ]
    }
   ],
   "source": [
    "{   // enter closure\n",
    "    let s = String::from(\"Giving her a D\"); // s comes into scope\n",
    "    let len = s.len();  // len comes into scope\n",
    "\n",
    "    // retrives the last character \"D\" as a string slice\n",
    "    let d_for_her = &s[(len-1)..len]; // (a) d_for_her comes into scope\n",
    "\n",
    "    // verify that type is &string\n",
    "    let mut type_name = get_type_name(&d_for_her); // mut type_name comes into scope\n",
    "    println!(\"her preference => {} len > {} of type [= {} =]\", d_for_her, d_for_her.len(), type_name);\n",
    "\n",
    "    // SHADOW (a) d_for_her => &str with (b) d_for_her => char\n",
    "    let d_for_her = d_for_her.chars().next().unwrap(); // (b) d_for_her comes into scope\n",
    "    // verify that type is now char\n",
    "    type_name = get_type_name(&d_for_her); \n",
    "    println!(\"the size she's getting {} of type [= {} =] lol\", d_for_her, type_name);\n",
    "}   // Exit closure\n",
    "    // Variables go out of scope and are dropped in reverse order:\n",
    "    // - d_for_her (b - shadow of type charr) is dropped (char is popped off the STACK)\n",
    "    // - type_name is dropped\n",
    "    // - d_for_her (a - shadowed of type &str) is dropped, DEALLOCATING it's memory (heap)\n",
    "    // - len is dropped\n",
    "    // - s is dropped, DEALLOCATING it's memory (heap)\n",
    "    // Closure exited"
   ]
  },
  {
   "attachments": {},
   "cell_type": "markdown",
   "metadata": {},
   "source": [
    "With all this information in mind, let’s rewrite first_word to return a slice.  \n",
    "The type that signifies “string slice” is written as &str:"
   ]
  },
  {
   "cell_type": "code",
   "execution_count": 10,
   "metadata": {},
   "outputs": [
    {
     "name": "stdout",
     "output_type": "stream",
     "text": [
      "first word => terrible\n"
     ]
    },
    {
     "data": {
      "text/plain": [
       "()"
      ]
     },
     "execution_count": 10,
     "metadata": {},
     "output_type": "execute_result"
    }
   ],
   "source": [
    "// Define a function that takes a reference to a string and returns a string slice\n",
    "fn first_word(s: &str) -> &str{  // scope starts\n",
    "                                    // s is a reference to a String, \n",
    "                                    // - no ownership is taken\n",
    "                                    // - scope is NOT responsible for dropping s\n",
    "                                    // scope will return a reference to a slice of s\n",
    "                                    // to the calling function to TAKE OWNERSHIP of\n",
    "    let bytes = s.as_bytes();   // bytes comes into scope (it's a &[u8])\n",
    "                                // ... but because the length of the byte array \n",
    "                                // is UNKNOWN at compile time => HEAP\n",
    "\n",
    "    for (i, item) in bytes.iter().enumerate(){\n",
    "        if *item == b' '{\n",
    "            // on first item to == ' ' return the slice to this index\n",
    "            // - this is our first word\n",
    "            return &s[0..i] // scope will return a reference to a slice of s\n",
    "        }\n",
    "    }\n",
    "\n",
    "    // else return the full slice\n",
    "    // - either it's one word\n",
    "    // - or no space was found\n",
    "    // - or no words???\n",
    "    &s[..] // scope will return a reference to a slice of s\n",
    "}   // scope ends\n",
    "    // bytes is dropped, DEALLOCATING it's memory (heap)\n",
    "    // - @note because the size of the byte array is UNKNOWN at compile time => HEAP\n",
    "\n",
    "{   // enter closure\n",
    "    let mut s = String::from(\"terrible lunch walk conversation with Amy\"); // s comes into scope\n",
    "\n",
    "    let word = first_word(&s);  // word comes into scope\n",
    "    // s.clear(); // error! @audit ... I don't understand what the issue is\n",
    "    println!(\"first word => {}\", word);\n",
    "}   // exit closure\n",
    "    // WRONG!!** word is dropped, DEALLOCATING it's memory (heap) ** WRONG!!!\n",
    "    // word is a REFERENCE to a SLICE of s ... and are stored on the STACK\n",
    "    // - word is dropped but NO HEAP memory is deallocated\n",
    "    // s is dropped, DEALLOCATING it's memory (heap)\n"
   ]
  },
  {
   "attachments": {},
   "cell_type": "markdown",
   "metadata": {},
   "source": [
    "Recall from the borrowing rules that if we have an immutable reference to  \n",
    "something, we cannot also take a mutable reference. \n",
    "\n",
    "- Because `clear` needs to truncate the String, it `needs to get a mutable reference`. \n",
    "- The `println!` after the call to clear `uses the reference in word`, so the  \n",
    "immutable reference `must still be active at that point`. \n",
    "\n",
    "Rust disallows : \n",
    "- the mutable reference in **`clear`** \n",
    "- AND the immutable reference in **`word`** from `existing at the same time` \n",
    "- compilation FAILS as a result\n",
    "\n",
    "> Not only has Rust made our API easier to use, but it has also eliminated an  \n",
    "entire class of errors at compile time!"
   ]
  },
  {
   "attachments": {},
   "cell_type": "markdown",
   "metadata": {},
   "source": [
    "We now have a straightforward API that’s much harder to mess up because the  \n",
    "compiler will ensure the references into the String remain valid. Remember the  \n",
    "bug in the program in Listing 4-8, when we got the index to the end of the first  \n",
    "word but then cleared the string so our index was invalid? That code was  \n",
    "logically incorrect but didn’t show any immediate errors. \n",
    "\n",
    "The problems would show up later if we kept trying to use the first word index  \n",
    "with an emptied string.  \n",
    "\n",
    "> Slices make this bug impossible and let us know we have a problem with our code  \n",
    "much sooner.  \n",
    "\n",
    "Using the slice version of first_word will throw a compile-time error:"
   ]
  },
  {
   "attachments": {},
   "cell_type": "markdown",
   "metadata": {},
   "source": [
    "### String Literals as Slices\n",
    "\n",
    "Recall that we talked about string literals being stored inside the binary. Now  \n",
    "that we know about slices, we can properly understand string literals:\n",
    "\n",
    "```rust\n",
    "let s = \"Hello, world!\";\n",
    "```\n",
    "\n",
    "The type of s here is &str: it’s a slice pointing to that specific point of the  \n",
    "binary. This is also why string literals are immutable; &str is an immutable  \n",
    "reference."
   ]
  },
  {
   "attachments": {},
   "cell_type": "markdown",
   "metadata": {},
   "source": [
    "##### String Slices as Parameters\n",
    "\n",
    "Knowing that you can take slices of literals and String values leads us to one  \n",
    "more improvement on first_word, and that’s its signature:\n",
    "\n",
    "```rust\n",
    "fn first_word(s: &String) -> &str { ... }\n",
    "```\n",
    "\n",
    "A more experienced Rustacean would write the signature shown in Listing 4-9  \n",
    "instead because it allows us to use the same function on both &String values  \n",
    "and &str values.\n",
    "\n",
    "```rust\n",
    "fn first_word(s: &str) -> &str { ... }\n",
    "```\n",
    "\n",
    "> Listing 4-9: Improving the first_word function by using a string slice for the  \n",
    "type of the s parameter\n",
    "\n",
    "If we have a string slice, we can pass that directly. If we have a String, we  \n",
    "can pass a slice of the String or a reference to the String. This flexibility  \n",
    "takes advantage of deref coercions, a feature we will cover in  \n",
    "“Implicit Deref Coercions with Functions and Methods” section of Chapter 15.\n",
    "\n",
    "Defining a function to take a string slice instead of a reference to a String  \n",
    "makes our API more general and useful without losing any functionality:"
   ]
  },
  {
   "cell_type": "code",
   "execution_count": 24,
   "metadata": {},
   "outputs": [
    {
     "name": "stdout",
     "output_type": "stream",
     "text": [
      "first word => &my_string[0..4] [hell]\n",
      "first word => &my_string[..] [hello]\n",
      "first word => &my_string [hello]\n",
      "first word => &my_string_literal[0..3] [hey]\n",
      "first word => &my_string_literal[..] [heyao]\n",
      "first word => &my_string_literal [heyao]\n"
     ]
    },
    {
     "data": {
      "text/plain": [
       "()"
      ]
     },
     "execution_count": 24,
     "metadata": {},
     "output_type": "execute_result"
    }
   ],
   "source": [
    "{\n",
    "    let my_string = String::from(\"hello world\");\n",
    "\n",
    "    // first_word works on slices of 'String's, whether partial or full\n",
    "    let word = first_word(&my_string[0..4]);\n",
    "    println!(\"first word => &my_string[0..4] [{}]\", word); // hell\n",
    "    let word = first_word(&my_string[..]);\n",
    "    println!(\"first word => &my_string[..] [{}]\", word); // hello\n",
    "    \n",
    "    // first_word also works on reference to Strings, which are equivalent\n",
    "    // to whole slices of Strings\n",
    "    let word = first_word(&my_string);\n",
    "    println!(\"first word => &my_string [{}]\", word); // hello\n",
    "\n",
    "    let my_string_literal = \"heyao world\";\n",
    "    \n",
    "    // first_word works on slicees of literals, whether partial or whole\n",
    "    let word = first_word(&my_string_literal[0..3]);\n",
    "    println!(\"first word => &my_string_literal[0..3] [{}]\", word); // hey\n",
    "    let word = first_word(&my_string_literal[..]);\n",
    "    println!(\"first word => &my_string_literal[..] [{}]\", word); // heyao\n",
    "\n",
    "    // because string literals *are* string slices already,\n",
    "    // this works too, without the slice syntax!\n",
    "    let word = first_word(my_string_literal);\n",
    "    println!(\"first word => &my_string_literal [{}]\", word); // heyao\n",
    "\n",
    "}"
   ]
  },
  {
   "attachments": {},
   "cell_type": "markdown",
   "metadata": {},
   "source": [
    "##### Other Slices\n",
    "\n",
    "String slices, as you might imagine, are specific to strings. But there’s a more  \n",
    "general slice type too. Consider this array:\n",
    "\n",
    "```rust\n",
    "let a = [1, 2, 3, 4, 5];\n",
    "```\n",
    "Just as we might want to refer to part of a string, we might want to refer to  \n",
    "part of an array. We’d do so like this:\n",
    "\n",
    "```rust\n",
    "let a = [1, 2, 3, 4, 5];\n",
    "\n",
    "let slice = &a[1..3];\n",
    "\n",
    "assert_eq!(slice, &[2, 3]);\n",
    "```\n",
    "This slice has the type &[i32]. It works the same way as string slices do, by  \n",
    "storing a reference to the first element and a length. You’ll use this kind of  \n",
    "slice for all sorts of other collections. We’ll discuss these collections in  \n",
    "detail when we talk about vectors in Chapter 8."
   ]
  },
  {
   "attachments": {},
   "cell_type": "markdown",
   "metadata": {},
   "source": [
    "SUMMARY\n",
    "---\n",
    "\n",
    "The concepts of ownership, borrowing, and slices ensure memory safety in Rust  \n",
    "programs at compile time. The Rust language gives you control over your memory  \n",
    "usage in the same way as other systems programming languages, but having the  \n",
    "owner of data automatically clean up that data when the owner goes out of scope  \n",
    "means you don’t have to write and debug extra code to get this control.\n",
    "\n",
    "Ownership affects how lots of other parts of Rust work, so we’ll talk about  \n",
    "these concepts further throughout the rest of the book. Let’s move on to  \n",
    "Chapter 5 and look at grouping pieces of data together in a struct."
   ]
  }
 ],
 "metadata": {
  "kernelspec": {
   "display_name": "Rust",
   "language": "rust",
   "name": "rust"
  },
  "language_info": {
   "codemirror_mode": "rust",
   "file_extension": ".rs",
   "mimetype": "text/rust",
   "name": "rust",
   "pygment_lexer": "rust",
   "version": ""
  },
  "orig_nbformat": 4
 },
 "nbformat": 4,
 "nbformat_minor": 2
}
