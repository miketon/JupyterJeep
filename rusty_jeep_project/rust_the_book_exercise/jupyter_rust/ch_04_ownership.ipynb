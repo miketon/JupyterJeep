{
 "cells": [
  {
   "attachments": {},
   "cell_type": "markdown",
   "metadata": {},
   "source": [
    "References and Borrowing\n",
    "---"
   ]
  },
  {
   "attachments": {},
   "cell_type": "markdown",
   "metadata": {},
   "source": [
    "What is Ownership?\n",
    "---\n",
    "\n",
    "Ownership is a set of rules that govern how a Rust program manages memory.  \n",
    "All programs have to manage the way they use a computer’s memory while running.  \n",
    "Some languages have garbage collection that regularly looks for no-longer-used  \n",
    "memory as the program runs; in other languages, the programmer must explicitly  \n",
    "allocate and free the memory. Rust uses a third approach: memory is managed  \n",
    "through a system of ownership with a set of rules that the compiler checks.  \n",
    "If any of the rules are violated, the program won’t compile. None of the  \n",
    "features of ownership will slow down your program while it’s running.\n",
    "\n",
    "Because ownership is a new concept for many programmers, it does take some time  \n",
    "to get used to. The good news is that the more experienced you become with Rust  \n",
    "and the rules of the ownership system, the easier you’ll find it to naturally  \n",
    "develop code that is safe and efficient. Keep at it!\n",
    "\n",
    "When you understand ownership, you’ll have a solid foundation for understanding  \n",
    "the features that make Rust unique. In this chapter, you’ll learn ownership by  \n",
    "working through some examples that focus on a very common data structure:  \n",
    "\n",
    "- strings."
   ]
  },
  {
   "attachments": {},
   "cell_type": "markdown",
   "metadata": {},
   "source": [
    "### Stack and Heap\n",
    "***\n",
    "\n",
    "Many programming languages don’t require you to think about the stack and the  \n",
    "heap very often. But in a systems programming language like Rust, whether a  \n",
    "value is on the stack or the heap affects how the language behaves and why you  \n",
    "have to make certain decisions. Parts of ownership will be described in relation  \n",
    "to the stack and the heap later in this chapter, so here is a brief explanation  \n",
    "in preparation.\n",
    "\n",
    "Both the stack and the heap are parts of memory available to your code to use at  \n",
    "runtime, but they are structured in different ways. The stack stores values in  \n",
    "the order it gets them and removes the values in the opposite order. This is  \n",
    "referred to as last in, first out. Think of a stack of plates: when you add more  \n",
    "plates, you put them on top of the pile, and when you need a plate, you take one  \n",
    "off the top. Adding or removing plates from the middle or bottom wouldn’t work  \n",
    "as well! Adding data is called pushing onto the stack, and removing data is  \n",
    "called popping off the stack. All **`data stored on the stack`** must have a known,  \n",
    "**`fixed size`**. Data with an **`unknown size at compile time`** or a size that might  \n",
    "change must be **`stored on the heap`** instead.\n",
    "\n",
    "The heap is less organized: when you put data on the heap, you request a certain  \n",
    "amount of space. The memory allocator finds an empty spot in the heap that is  \n",
    "big enough, marks it as being in use, and returns a pointer, which is the  \n",
    "address of that location. This process is called allocating on the heap and is  \n",
    "sometimes abbreviated as just allocating (pushing values onto the stack is not  \n",
    " considered allocating). Because the **`pointer to the heap is a known, fixed size,`**  \n",
    " you can **`store the pointer on the stack`**, but when you want the actual data, you  \n",
    " must follow the pointer. Think of being seated at a restaurant. When you enter,  \n",
    " you state the number of people in your group, and the host finds an empty table  \n",
    " that fits everyone and leads you there. If someone in your group comes late,  \n",
    " they can ask where you’ve been seated to find you.\n",
    "\n",
    "Pushing to the stack is faster than allocating on the heap because the allocator  \n",
    "never has to search for a place to store new data; that location is always at  \n",
    "the top of the stack. Comparatively, allocating space on the heap requires more    \n",
    "work because the allocator must first find a big enough space to hold the data  \n",
    "and then perform bookkeeping to prepare for the next allocation.\n",
    "\n",
    "Accessing data in the heap is slower than accessing data on the stack because  \n",
    "you have to follow a pointer to get there. Contemporary processors are faster  \n",
    "if they jump around less in memory. Continuing the analogy, consider a server at  \n",
    "a restaurant taking orders from many tables. It’s most efficient to get all the  \n",
    "orders at one table before moving on to the next table. Taking an order from  \n",
    "table A, then an order from table B, then one from A again, and then one from B  \n",
    "again would be a much slower process. By the same token, a processor can do its  \n",
    "job better if it works on data that’s close to other data (as it is on the stack)  \n",
    "rather than farther away (as it can be on the heap).\n",
    "\n",
    "When your code calls a function, the values passed into the function (including,  \n",
    "potentially, pointers to data on the heap) and the function’s local variables  \n",
    "get pushed onto the stack. When the function is over, those values get popped  \n",
    "off the stack.\n",
    "\n",
    "Keeping track of what parts of code are using what data on the heap, minimizing  \n",
    "the amount of duplicate data on the heap, and cleaning up unused data on the  \n",
    "heap so you don’t run out of space are all problems that ownership addresses.  \n",
    "Once you understand ownership, you won’t need to think about the stack and the  \n",
    "heap very often, but knowing that the main purpose of ownership is to manage  \n",
    "heap data can help explain why it works the way it does.\n"
   ]
  },
  {
   "attachments": {},
   "cell_type": "markdown",
   "metadata": {},
   "source": [
    "### Ownership Rules\n",
    "***\n",
    "\n",
    "First, let’s take a look at the ownership rules. Keep these rules in mind as we  \n",
    "work through the examples that illustrate them:\n",
    "\n",
    "- Each value in Rust has an owner.\n",
    "- There can only be one owner at a time.\n",
    "- When the owner goes out of scope, the value will be dropped."
   ]
  },
  {
   "attachments": {},
   "cell_type": "markdown",
   "metadata": {},
   "source": [
    "### Variable Scope"
   ]
  },
  {
   "cell_type": "code",
   "execution_count": 26,
   "metadata": {
    "vscode": {
     "languageId": "rust"
    }
   },
   "outputs": [],
   "source": [
    "{                       // s is not valid here, it’s not yet declared\n",
    "    let s = \"Hello\";    // s is valid from this point forward\n",
    "    // .. do stuff with s ..\n",
    "}                       // this scope is now over, and s is dropped and no longer valid"
   ]
  },
  {
   "attachments": {},
   "cell_type": "markdown",
   "metadata": {},
   "source": [
    "In other words, there are two important points in time here:\n",
    "\n",
    "- When s comes into scope, it is valid.\n",
    "- It remains valid until it goes out of scope.\n",
    "\n",
    "At this point, the relationship between scopes and when variables are valid is  \n",
    "similar to that in other programming languages. Now we’ll build on top of this  \n",
    "understanding by introducing the String type."
   ]
  },
  {
   "attachments": {},
   "cell_type": "markdown",
   "metadata": {},
   "source": [
    "### The String Type"
   ]
  },
  {
   "cell_type": "code",
   "execution_count": 27,
   "metadata": {
    "vscode": {
     "languageId": "rust"
    }
   },
   "outputs": [
    {
     "name": "stdout",
     "output_type": "stream",
     "text": [
      "[LITERAL] Hello\n",
      "[TYPE] Hello\n",
      "[TYPE is MUTABLE] Hello, world!\n"
     ]
    },
    {
     "data": {
      "text/plain": [
       "()"
      ]
     },
     "execution_count": 27,
     "metadata": {},
     "output_type": "execute_result"
    }
   ],
   "source": [
    "{\n",
    "    let s = \"Hello\";               // string LITERAL\n",
    "    println!(\"[LITERAL] {}\", s);\n",
    "    let mut s = String::from(\"Hello\"); // string TYPE (shadow)\n",
    "    println!(\"[TYPE] {}\", s);\n",
    "    s.push_str(\", world!\");        // push_str() appends a literal to a String\n",
    "    println!(\"[TYPE is MUTABLE] {}\", s);\n",
    "}"
   ]
  },
  {
   "attachments": {},
   "cell_type": "markdown",
   "metadata": {},
   "source": [
    "So, what’s the difference here? Why can String be mutated but literals cannot?  \n",
    "The difference is in how these two types deal with memory."
   ]
  },
  {
   "attachments": {},
   "cell_type": "markdown",
   "metadata": {},
   "source": [
    "### Memory and Allocation\n",
    "***\n",
    "\n",
    "In the case of a string literal, we know the `contents at compile time`, so the  \n",
    "text `is hardcoded directly into the final executable`. This is why string  \n",
    "literals are fast and efficient. But these properties only come from the string  \n",
    "literal’s `immutability`. Unfortunately, we can’t put a blob of memory into the  \n",
    "binary for each piece of text whose size is unknown at compile time and whose  \n",
    "size might change while running the program.\n",
    "\n",
    "With the `String type`, in order to `support a mutable, growable piece of text`, we  \n",
    "need to `allocate an amount of memory on the heap`, `unknown at compile time`, to  \n",
    "hold the contents. This means:\n",
    "\n",
    "- The memory must be requested from the memory allocator at runtime.  \n",
    "\n",
    "We need a way of returning this memory to the allocator when we’re done with our  \n",
    "String.\n",
    "\n",
    "That first part is done by us: when we call String::from, its implementation  \n",
    "requests the memory it needs. This is pretty much universal in programming  \n",
    "languages.\n",
    "\n",
    "However, the second part is different. In languages with a garbage collector  \n",
    "(GC), the GC keeps track of and cleans up memory that isn’t being used anymore,  \n",
    "and we don’t need to think about it. In most languages `without a GC`, it’s our  \n",
    "`responsibility to identify when memory is no longer being used` and to call code  \n",
    "to `explicitly free it`, just as we did to request it. Doing this correctly has  \n",
    "historically been a difficult programming problem. If we forget, we’ll waste  \n",
    "memory. If we do it too early, we’ll have an invalid variable. If we do it twice,  \n",
    "that’s a bug too. We need to pair exactly one allocate with exactly one free.\n",
    "\n",
    "Rust takes a different path: the memory is automatically returned once the  \n",
    "variable that owns it goes out of scope. Here’s a version of our scope example  \n",
    "from Listing 4-1 using a String instead of a string literal:"
   ]
  },
  {
   "cell_type": "code",
   "execution_count": 28,
   "metadata": {
    "vscode": {
     "languageId": "rust"
    }
   },
   "outputs": [],
   "source": [
    "{\n",
    "    let s = String::from(\"Hello\");  // s comes into scope\n",
    "    // ... do stuff with s ...\n",
    "}                                   // scope is now over, s is no longer valid\n",
    "                                    // and rust auto calls drop() to free memory"
   ]
  },
  {
   "attachments": {},
   "cell_type": "markdown",
   "metadata": {},
   "source": [
    "There is a natural point at which we can return the memory our String needs to  \n",
    "the allocator: when s goes out of scope. When a variable goes out of scope,  \n",
    "Rust calls a special function for us. This function is called drop, and it’s  \n",
    "where the author of String can put the code to return the memory. Rust calls  \n",
    "drop automatically at the closing curly bracket.\n",
    "\n",
    "Note: In C++, this pattern of deallocating resources at the end of an item’s  \n",
    "lifetime is sometimes called Resource Acquisition Is Initialization (RAII).  \n",
    "The drop function in Rust will be familiar to you if you’ve used RAII patterns.\n",
    "\n",
    "This pattern has a profound impact on the way Rust code is written. It may seem  \n",
    "simple right now, but the behavior of code can be unexpected in more complicated  \n",
    "situations when we want to have multiple variables use the data we’ve allocated  \n",
    "on the heap. Let’s explore some of those situations now."
   ]
  },
  {
   "attachments": {},
   "cell_type": "markdown",
   "metadata": {},
   "source": [
    "### Variables and Data Interacting with Move\n",
    "***\n",
    "\n",
    "Multiple variables can interact with the same data in different ways in Rust.  \n",
    "Let’s look at an example using an integer in Listing 4-2."
   ]
  },
  {
   "cell_type": "code",
   "execution_count": 29,
   "metadata": {
    "vscode": {
     "languageId": "rust"
    }
   },
   "outputs": [
    {
     "data": {
      "text/plain": [
       "()"
      ]
     },
     "execution_count": 29,
     "metadata": {},
     "output_type": "execute_result"
    }
   ],
   "source": [
    "{\n",
    "    let x = 5;\n",
    "    let y = x; // assigning integer value of x to y\n",
    "}"
   ]
  },
  {
   "attachments": {},
   "cell_type": "markdown",
   "metadata": {},
   "source": [
    "We can probably guess what this is doing: \n",
    "- “bind the value 5 to x; \n",
    "- then make a copy of the value in x\n",
    "-  and bind it to y.” \n",
    "\n",
    "We now have two variables, x and y, and both equal 5. This is indeed what is  \n",
    "happening, because integers are simple values with a known, fixed size, and  \n",
    "these two 5 values are pushed onto the stack.\n",
    "\n",
    "Now let’s look at the String version:"
   ]
  },
  {
   "cell_type": "code",
   "execution_count": 30,
   "metadata": {
    "vscode": {
     "languageId": "rust"
    }
   },
   "outputs": [
    {
     "data": {
      "text/plain": [
       "()"
      ]
     },
     "execution_count": 30,
     "metadata": {},
     "output_type": "execute_result"
    }
   ],
   "source": [
    "{\n",
    "    let s1 = String::from(\"Hello\");\n",
    "    let s2 = s1; // s1 is moved to s2\n",
    "}"
   ]
  },
  {
   "attachments": {},
   "cell_type": "markdown",
   "metadata": {},
   "source": [
    "This looks very similar, so we might assume that the way it works would be the  \n",
    "same: \n",
    "- that is, the second line would make a copy of the value in s1 and bind it to s2.  \n",
    "\n",
    "But this isn’t quite what happens...\n",
    "\n",
    "\n",
    "<img src='https://doc.rust-lang.org/book/img/trpl04-01.svg' width=50% height=50%/>\n",
    "\n",
    "\n",
    "> This is what is happening to String under the covers. A String is made up of  \n",
    "three parts, shown on the left:  \n",
    "- a pointer to the memory that holds the contents of the string, \n",
    "- a length, \n",
    "- and a capacity. \n",
    "\n",
    "> This group of data is stored on the stack. On the right is the memory on the  \n",
    "heap that holds the contents.  \n",
    "\n",
    "- The length is how much memory, in bytes, the contents of the String are  \n",
    "currently using. \n",
    "- The capacity is the total amount of memory, in bytes, that the String has  \n",
    "received from the allocator. \n",
    "- The difference between length and capacity matters, but not in this context,  \n",
    "so for now, it’s fine to ignore the capacity.\n"
   ]
  },
  {
   "attachments": {},
   "cell_type": "markdown",
   "metadata": {},
   "source": [
    "When we assign s1 to s2, the String data is copied, meaning we :\n",
    "\n",
    "- copy the pointer,   \n",
    "- the length,  \n",
    "- and the capacity that are on the stack. \n",
    "\n",
    "We do **`NOT`** copy the data on the **`HEAP`** that the pointer refers to.  \n",
    "In other words, the data representation in memory looks like :\n",
    "\n",
    "<img src=\"https://doc.rust-lang.org/book/img/trpl04-02.svg\" width=50% height=50% />\n",
    "\n",
    "Rust automatically calls the drop function and cleans up the heap memory for  \n",
    "that variable and if memory were to work like the ABOVE ^ diagram ... with:  \n",
    "- Both data pointers pointing to the same location...  \n",
    "- when s2 and s1 go out of scope, they will both try to free the same memory!  \n",
    "- This is known as a double free error ...  \n",
    "Freeing memory twice can lead to memory corruption, which can potentially lead  \n",
    "to security vulnerabilities.\n",
    "\n",
    "\n",
    "**`THIS IS A PROBLEM`**"
   ]
  },
  {
   "attachments": {},
   "cell_type": "markdown",
   "metadata": {},
   "source": [
    "**`AND THIS IS HOW RUST FIXES IT!`**\n",
    "\n",
    "### MOVE (GET OUT THE WAY LOL) \n",
    "\n",
    "> Because Rust also **`invalidates`** the first variable, instead of being called a  \n",
    "shallow copy, it’s known as a **`move`**. In this example, we would say that s1 was  \n",
    "moved into s2. So, what actually happens is shown :\n",
    "\n",
    "<img src=\"https://doc.rust-lang.org/book/img/trpl04-04.svg\" width=50% height=50%>\n",
    "\n",
    "(In other languages this would be a shallow copy, because the first variable is  \n",
    "NOT invalidated)"
   ]
  },
  {
   "cell_type": "code",
   "execution_count": 20,
   "metadata": {
    "vscode": {
     "languageId": "rust"
    }
   },
   "outputs": [
    {
     "ename": "Error",
     "evalue": "unused variable: `s2`",
     "output_type": "error",
     "traceback": [
      "\u001b[31m[unused_variables] Error:\u001b[0m unused variable: `s2`",
      "   \u001b[38;5;246m╭\u001b[0m\u001b[38;5;246m─\u001b[0m\u001b[38;5;246m[\u001b[0mcommand_20:1:1\u001b[38;5;246m]\u001b[0m",
      "   \u001b[38;5;246m│\u001b[0m",
      " \u001b[38;5;246m3 │\u001b[0m \u001b[38;5;249m \u001b[0m\u001b[38;5;249m \u001b[0m\u001b[38;5;249m \u001b[0m\u001b[38;5;249m \u001b[0m\u001b[38;5;249ml\u001b[0m\u001b[38;5;249me\u001b[0m\u001b[38;5;249mt\u001b[0m\u001b[38;5;249m \u001b[0m\u001b[38;5;54ms\u001b[0m\u001b[38;5;54m2\u001b[0m\u001b[38;5;249m \u001b[0m\u001b[38;5;249m=\u001b[0m\u001b[38;5;249m \u001b[0m\u001b[38;5;249ms\u001b[0m\u001b[38;5;249m1\u001b[0m\u001b[38;5;249m;\u001b[0m",
      " \u001b[38;5;246m  ·\u001b[0m         \u001b[38;5;54m─\u001b[0m\u001b[38;5;54m┬\u001b[0m  ",
      " \u001b[38;5;246m  ·\u001b[0m          \u001b[38;5;54m╰\u001b[0m\u001b[38;5;54m─\u001b[0m\u001b[38;5;54m─\u001b[0m warning: unused variable: `s2`",
      " \u001b[38;5;246m  ·\u001b[0m          \u001b[38;5;100m│\u001b[0m  ",
      " \u001b[38;5;246m  ·\u001b[0m          \u001b[38;5;100m╰\u001b[0m\u001b[38;5;100m─\u001b[0m\u001b[38;5;100m─\u001b[0m help: if this is intentional, prefix it with an underscore: `_s2`",
      "\u001b[38;5;246m───╯\u001b[0m"
     ]
    },
    {
     "ename": "Error",
     "evalue": "borrow of moved value: `s1`",
     "output_type": "error",
     "traceback": [
      "\u001b[31m[E0382] Error:\u001b[0m borrow of moved value: `s1`",
      "   \u001b[38;5;246m╭\u001b[0m\u001b[38;5;246m─\u001b[0m\u001b[38;5;246m[\u001b[0mcommand_20:1:1\u001b[38;5;246m]\u001b[0m",
      "   \u001b[38;5;246m│\u001b[0m",
      " \u001b[38;5;246m2 │\u001b[0m \u001b[38;5;249m \u001b[0m\u001b[38;5;249m \u001b[0m\u001b[38;5;249m \u001b[0m\u001b[38;5;249m \u001b[0m\u001b[38;5;249ml\u001b[0m\u001b[38;5;249me\u001b[0m\u001b[38;5;249mt\u001b[0m\u001b[38;5;249m \u001b[0m\u001b[38;5;68ms\u001b[0m\u001b[38;5;68m1\u001b[0m\u001b[38;5;249m \u001b[0m\u001b[38;5;249m=\u001b[0m\u001b[38;5;249m \u001b[0m\u001b[38;5;249mS\u001b[0m\u001b[38;5;249mt\u001b[0m\u001b[38;5;249mr\u001b[0m\u001b[38;5;249mi\u001b[0m\u001b[38;5;249mn\u001b[0m\u001b[38;5;249mg\u001b[0m\u001b[38;5;249m:\u001b[0m\u001b[38;5;249m:\u001b[0m\u001b[38;5;249mf\u001b[0m\u001b[38;5;249mr\u001b[0m\u001b[38;5;249mo\u001b[0m\u001b[38;5;249mm\u001b[0m\u001b[38;5;249m(\u001b[0m\u001b[38;5;249m\"\u001b[0m\u001b[38;5;249mH\u001b[0m\u001b[38;5;249me\u001b[0m\u001b[38;5;249ml\u001b[0m\u001b[38;5;249ml\u001b[0m\u001b[38;5;249mo\u001b[0m\u001b[38;5;249m\"\u001b[0m\u001b[38;5;249m)\u001b[0m\u001b[38;5;249m;\u001b[0m",
      " \u001b[38;5;246m  ·\u001b[0m         \u001b[38;5;68m─\u001b[0m\u001b[38;5;68m┬\u001b[0m  ",
      " \u001b[38;5;246m  ·\u001b[0m          \u001b[38;5;68m╰\u001b[0m\u001b[38;5;68m─\u001b[0m\u001b[38;5;68m─\u001b[0m move occurs because `s1` has type `String`, which does not implement the `Copy` trait",
      " \u001b[38;5;246m3 │\u001b[0m \u001b[38;5;249m \u001b[0m\u001b[38;5;249m \u001b[0m\u001b[38;5;249m \u001b[0m\u001b[38;5;249m \u001b[0m\u001b[38;5;249ml\u001b[0m\u001b[38;5;249me\u001b[0m\u001b[38;5;249mt\u001b[0m\u001b[38;5;249m \u001b[0m\u001b[38;5;249ms\u001b[0m\u001b[38;5;249m2\u001b[0m\u001b[38;5;249m \u001b[0m\u001b[38;5;249m=\u001b[0m\u001b[38;5;249m \u001b[0m\u001b[38;5;54ms\u001b[0m\u001b[38;5;54m1\u001b[0m\u001b[38;5;249m;\u001b[0m",
      " \u001b[38;5;246m  ·\u001b[0m              \u001b[38;5;54m─\u001b[0m\u001b[38;5;54m┬\u001b[0m\u001b[38;5;37m│\u001b[0m ",
      " \u001b[38;5;246m  ·\u001b[0m               \u001b[38;5;54m╰\u001b[0m\u001b[38;5;54m─\u001b[0m\u001b[38;5;54m─\u001b[0m value moved here",
      " \u001b[38;5;246m  ·\u001b[0m                \u001b[38;5;37m│\u001b[0m ",
      " \u001b[38;5;246m  ·\u001b[0m                \u001b[38;5;37m╰\u001b[0m\u001b[38;5;37m─\u001b[0m help: consider cloning the value if the performance cost is acceptable: `.clone()`",
      " \u001b[38;5;246m  ·\u001b[0m ",
      " \u001b[38;5;246m5 │\u001b[0m \u001b[38;5;249m \u001b[0m\u001b[38;5;249m \u001b[0m\u001b[38;5;249m \u001b[0m\u001b[38;5;249m \u001b[0m\u001b[38;5;249mp\u001b[0m\u001b[38;5;249mr\u001b[0m\u001b[38;5;249mi\u001b[0m\u001b[38;5;249mn\u001b[0m\u001b[38;5;249mt\u001b[0m\u001b[38;5;249ml\u001b[0m\u001b[38;5;249mn\u001b[0m\u001b[38;5;249m!\u001b[0m\u001b[38;5;249m(\u001b[0m\u001b[38;5;249m\"\u001b[0m\u001b[38;5;249m{\u001b[0m\u001b[38;5;249m}\u001b[0m\u001b[38;5;249m,\u001b[0m\u001b[38;5;249m \u001b[0m\u001b[38;5;249mw\u001b[0m\u001b[38;5;249mo\u001b[0m\u001b[38;5;249mr\u001b[0m\u001b[38;5;249ml\u001b[0m\u001b[38;5;249md\u001b[0m\u001b[38;5;249m!\u001b[0m\u001b[38;5;249m\"\u001b[0m\u001b[38;5;249m,\u001b[0m\u001b[38;5;249m \u001b[0m\u001b[38;5;100ms\u001b[0m\u001b[38;5;100m1\u001b[0m\u001b[38;5;249m)\u001b[0m\u001b[38;5;249m;\u001b[0m",
      " \u001b[38;5;246m  ·\u001b[0m                            \u001b[38;5;100m─\u001b[0m\u001b[38;5;100m┬\u001b[0m  ",
      " \u001b[38;5;246m  ·\u001b[0m                             \u001b[38;5;100m╰\u001b[0m\u001b[38;5;100m─\u001b[0m\u001b[38;5;100m─\u001b[0m value borrowed here after move",
      "\u001b[38;5;246m───╯\u001b[0m"
     ]
    }
   ],
   "source": [
    "{\n",
    "    let s1 = String::from(\"Hello\"); // s1 comes into scope\n",
    "    let s2 = s1;                    // pointer is moved to s2 ANDd invalidated at s1\n",
    "                                    // s1 is NO LONGER VALID\n",
    "                                    // So when we try to print s1 ...\n",
    "    println!(\"{}, world!\", s1);     // error: value borrowed here after move\n",
    "}"
   ]
  },
  {
   "attachments": {},
   "cell_type": "markdown",
   "metadata": {},
   "source": [
    "### Variables and Data Interacting with Clone\n",
    "\n",
    "**`RUST DEFINITELY DOES NOT COPY THE HEAP BY DEFAULT => \"CLONE\" MUST BE CALLED**`\n",
    "\n",
    "\n",
    "<img src=\"https://doc.rust-lang.org/book/img/trpl04-03.svg\" width=50% height=50%>\n",
    "\n",
    "\n",
    "**`RUST DEFINITELY DOES NOT COPY THE HEAP BY DEFAULT => \"CLONE\" MUST BE CALLED`**"
   ]
  },
  {
   "attachments": {},
   "cell_type": "markdown",
   "metadata": {},
   "source": [
    "If we do want to deeply copy the heap data of the String, not just the stack  \n",
    "data, we can use a common method called clone. We’ll discuss method syntax in  \n",
    "Chapter 5, but because methods are a common feature in many programming  \n",
    "languages, you’ve probably seen them before."
   ]
  },
  {
   "cell_type": "code",
   "execution_count": 32,
   "metadata": {
    "vscode": {
     "languageId": "rust"
    }
   },
   "outputs": [
    {
     "name": "stdout",
     "output_type": "stream",
     "text": [
      "s1 = Hello, s2 = Hello\n",
      "This works because we DEEP CLONED ... but we also made the code MORE EXPENSIVE\n"
     ]
    },
    {
     "data": {
      "text/plain": [
       "()"
      ]
     },
     "execution_count": 32,
     "metadata": {},
     "output_type": "execute_result"
    }
   ],
   "source": [
    "{\n",
    "    let s1 = String::from(\"Hello\");\n",
    "    let s2 = s1.clone(); // deep copy\n",
    "\n",
    "    println!(\"s1 = {}, s2 = {}\", s1, s2);\n",
    "    println!(\"This works because we DEEP CLONED ... but we also made the code MORE EXPENSIVE\");\n",
    "}"
   ]
  },
  {
   "attachments": {},
   "cell_type": "markdown",
   "metadata": {},
   "source": [
    "This works just fine and explicitly **`DEEP CLONED the ENTIRE HEAP DATA`**\n",
    "\n",
    ">When you see a call to clone, you know that some arbitrary code is being  \n",
    "executed and that code may be **`EXPENSIVE`**.  \n",
    "\n",
    "It’s a visual indicator that something different is going on."
   ]
  },
  {
   "attachments": {},
   "cell_type": "markdown",
   "metadata": {},
   "source": [
    "### Stack Only : Data Copy"
   ]
  },
  {
   "cell_type": "code",
   "execution_count": 33,
   "metadata": {
    "vscode": {
     "languageId": "rust"
    }
   },
   "outputs": [
    {
     "name": "stdout",
     "output_type": "stream",
     "text": [
      "x = 5, y = 5\n"
     ]
    },
    {
     "data": {
      "text/plain": [
       "()"
      ]
     },
     "execution_count": 33,
     "metadata": {},
     "output_type": "execute_result"
    }
   ],
   "source": [
    "{\n",
    "    let x = 5;\n",
    "    let y = x;\n",
    "\n",
    "    println!(\"x = {}, y = {}\", x, y);   // According to the HEAP rules this should NOT work\n",
    "                                        // But it does because integers are stored on the STACK\n",
    "}"
   ]
  },
  {
   "attachments": {},
   "cell_type": "markdown",
   "metadata": {},
   "source": [
    "> But this code seems to contradict what we just learned: we don’t have a call to  \n",
    "clone, but x is still valid and wasn’t moved into y.\n",
    "\n",
    "The reason is that types such as integers that have a known size at compile  \n",
    "time are stored entirely on the stack, so copies of the actual values are quick  \n",
    "to make. That means there’s no reason we would want to prevent x from being  \n",
    "valid after we create the variable y. In other words, there’s no difference  \n",
    "between deep and shallow copying here, so calling clone wouldn’t do anything  \n",
    "different from the usual shallow copying, and we can leave it out.  "
   ]
  },
  {
   "attachments": {},
   "cell_type": "markdown",
   "metadata": {},
   "source": [
    "### Copy Trait\n",
    "\n",
    "> Rust has a special annotation called the Copy trait that we can place on types  \n",
    "that are stored on the stack, as integers are  \n",
    "(we’ll talk more about traits in Chapter 10).  \n",
    "\n",
    "If a type implements the Copy trait, variables that use it do not move, but  \n",
    "rather are trivially copied, making them still valid after assignment to another  \n",
    "variable.\n",
    "\n",
    "> Rust won’t let us annotate a type with **`Copy`** if the type, or any of its parts,  \n",
    "has implemented the **`Drop`** trait. If the type needs something special to happen  \n",
    "when the value goes out of scope and we add the Copy annotation to that type,  \n",
    "we’ll get a compile-time error. To learn about how to add the Copy annotation  \n",
    "to your type to implement the trait, see “Derivable Traits” in Appendix C.  \n",
    "\n",
    "So, what types implement the Copy trait? You can check the documentation for the  \n",
    "given type to be sure, but as a general rule, any group of simple scalar values  \n",
    "can implement Copy, and nothing that requires allocation or is some form of  \n",
    "resource can implement Copy. Here are some of the types that implement Copy:\n",
    "\n",
    "@note All the integer types, such as u32.\n",
    "- The Boolean type, bool, with values true and false.\n",
    "- All the floating-point types, such as f64.\n",
    "- The character type, char.\n",
    "- Tuples, if they only contain types that also implement Copy.  \n",
    "  For example, (i32, i32) implements Copy, but (i32, String) does not."
   ]
  },
  {
   "attachments": {},
   "cell_type": "markdown",
   "metadata": {},
   "source": [
    "### Ownership and Functions\n",
    "\n",
    "The mechanics of passing a value to a function are similar to those when  \n",
    "assigning a value to a variable. Passing a variable to a function will move or  \n",
    "copy, just as assignment does. \n",
    "\n",
    "Here is an example with some annotations showing where variables go into and out  \n",
    "of scope:"
   ]
  },
  {
   "cell_type": "code",
   "execution_count": 42,
   "metadata": {
    "vscode": {
     "languageId": "rust"
    }
   },
   "outputs": [
    {
     "name": "stdout",
     "output_type": "stream",
     "text": [
      "is s still valid? Hello\n",
      "[fn] takes ownership of Hello\n",
      "[fn] makes copy of 5\n",
      "is x still valid? 5\n"
     ]
    }
   ],
   "source": [
    "{\n",
    "    \n",
    "    let s = String::from(\"Hello\");  // s comes into scope\n",
    "    println!(\"is s still valid? {}\", s);    // yes s is still in scope\n",
    "    takes_ownership(s);             // @note s's value FULLY moves into the function ...\n",
    "                                    // ... and so is NO LONBER VALID in this scope\n",
    "\n",
    "    // println!(\"is s still valid? {}\", s);    // error: value borrowed here after move\n",
    "                                                // and is no longer in scope\n",
    "\n",
    "    let x = 5;                      // x comes into scope\n",
    "    makes_copy(x);                  // x would move into the function, but it's COPIED\n",
    "                                    // because i32 has a Copy (trait), so it's value\n",
    "                                    // remains at this scope and AVAILABLE for use\n",
    "    println!(\"is x still valid? {}\", x);    // yes it is still 5 because i32 has a Copy trait\n",
    "\n",
    "}   // After this closure :\n",
    "    // - x goes out of scope\n",
    "    // - then s ... but because it's VALUE was already moved ... \n",
    "    // @note going out of scope is IDEMPOTENT\n",
    "\n",
    "fn takes_ownership(some_string: String){ // some_string comes into scope\n",
    "    println!(\"[fn] takes ownership of {}\", some_string);\n",
    "}   // @note Here some_string goes out of scope and 'drop' is called \n",
    "    // the backing memory is freed!\n",
    "\n",
    "fn makes_copy(some_integer: i32){   // some_integer comes into scope\n",
    "    println!(\"[fn] makes copy of {}\", some_integer);\n",
    "}   // Here some_integer goes out of scope, but because i32 has a Copy Trait\n",
    "    // @note Nothing special happens, this closure is IDEMPOTENT\n"
   ]
  },
  {
   "attachments": {},
   "cell_type": "markdown",
   "metadata": {},
   "source": [
    "### Return Value and Scope\n",
    "\n",
    "Returning values can also transfer ownership. Here is an example of a function  \n",
    "that returns some value, with step by step annotations"
   ]
  },
  {
   "cell_type": "code",
   "execution_count": 48,
   "metadata": {
    "vscode": {
     "languageId": "rust"
    }
   },
   "outputs": [
    {
     "name": "stdout",
     "output_type": "stream",
     "text": [
      "[fn] gives ownership of to s1 => This is Your Book Now\n"
     ]
    },
    {
     "name": "stdout",
     "output_type": "stream",
     "text": [
      "[fn] takes from s2 and gives back to s3 => Hold my Beer\n"
     ]
    }
   ],
   "source": [
    "{\n",
    "    let s1 = gives_ownership(); // fn gives_ownership moves it's return value into s1\n",
    "    println!(\"[fn] gives ownership of to s1 => {}\", s1);\n",
    "\n",
    "    let s2 = String::from(\"Hold my Beer\"); // s2 comes into scope\n",
    "\n",
    "    let s3 = takes_and_gives_back(s2);  // s2 values goes into fn ...\n",
    "                                        // ... fn then moves it's returned value to s3\n",
    "    // println!(\"is s2 still holding the beer {}\", s2);    // error: value borrowed here after move\n",
    "                                                        // s2 is invalid, it's value was moved to \n",
    "                                                        // fn ...which then moved it to s3\n",
    "    println!(\"[fn] takes from s2 and gives back to s3 => {}\", s3);\n",
    "\n",
    "}   // Here s3 goes out of scope and is dropped\n",
    "    // s2 was moved so nothing happened \n",
    "    // s1 goes out of scope and is dropped\n",
    "\n",
    "fn gives_ownership() -> String {    // gives_ownership will move it's return value into the calling function\n",
    "    let some_string = String::from(\"This is Your Book Now\");    // some_string comes into scope\n",
    "    some_string // some_string is moved out to the calling function\n",
    "}               // scope closes but nothing special happens\n",
    "\n",
    "fn takes_and_gives_back(a_string : String) -> String {  // will take ownership of a String and return a String\n",
    "                // a_string comes into scope\n",
    "    a_string    // a_string is moved out to the calling function\n",
    "}               // scope closes but nothing special happens"
   ]
  },
  {
   "attachments": {},
   "cell_type": "markdown",
   "metadata": {},
   "source": [
    "The ownership of a variable follows the same pattern every time: \n",
    "- assigning a value to another variable moves it. \n",
    "- When a variable that includes data on the heap goes out of scope, the value  \n",
    "will be cleaned up by drop unless ownership of the data has been moved to  \n",
    "another variable.\n",
    "\n",
    "> @audit-ok : Drop is ONLY called on data that includes heap?\n",
    "\n",
    "```\n",
    "Yes, the concept of ownership and the `Drop` trait in Rust primarily apply to  \n",
    "data that uses the heap. When a variable with heap-allocated data goes out of  \n",
    "scope, the `drop` function is called to clean up the resources, unless ownership  \n",
    "has been transferred to another variable.\n",
    "\n",
    "For data types that are stored entirely on the stack, Rust follows a last-in,  \n",
    "first-out (LIFO) order for cleaning up resources. When a variable goes out of  \n",
    "scope, its memory is automatically reclaimed, and there's no need for explicit  \n",
    "ownership management or dropping.\n",
    "\n",
    "However, it's important to note that even for stack-allocated data, you can use  \n",
    "ownership and borrowing concepts to control how the data is accessed and shared  \n",
    "across your program. This can help you write safer and more efficient code.\n",
    "```\n",
    "\n",
    "While this works, taking ownership and then returning ownership with every  \n",
    "function is a bit tedious. \n",
    "\n",
    "> What if we want to let a function use a value but not take ownership?  \n",
    "It’s quite annoying that anything we pass in also needs to be passed back if we  \n",
    "want to use it again, in addition to any data resulting from the body of the  \n",
    "function that we might want to return as well.\n",
    "\n",
    "Rust does let us return multiple values using a tuple"
   ]
  },
  {
   "cell_type": "code",
   "execution_count": 50,
   "metadata": {
    "vscode": {
     "languageId": "rust"
    }
   },
   "outputs": [
    {
     "name": "stdout",
     "output_type": "stream",
     "text": [
      "The length of '35lb KettleBell' is 15.\n"
     ]
    }
   ],
   "source": [
    "{\n",
    "    let s1 = String::from(\"35lb KettleBell\"); // s1 comes into scope\n",
    "\n",
    "    let (s2, len) = calculate_length(s1);   // s1 is moved into fn calculate_length\n",
    "                                            // fn returns ownership of s1 to s2, as well as the length\n",
    "\n",
    "    println!(\"The length of '{}' is {}.\", s2, len); \n",
    "\n",
    "}   // Here s2 goes out of scope and is dropped\n",
    "    // len goes out of scope and is dropped\n",
    "    // s1 is already dropped because it was moved to calculate_length\n",
    "    // so nothing special happens\n",
    "\n",
    "// takes ownership of a String to calculate it's length\n",
    "// then returns ownership of the length and in String as a TUPLE\n",
    "fn calculate_length(s: String) -> (String, usize) { // s is moved into scope\n",
    "    // calculate the length of s\n",
    "    let length = s.len(); // let comes into scope to store that length\n",
    "    (s, length) // s and length are moved out to the calling function as a tuple\n",
    "}"
   ]
  },
  {
   "attachments": {},
   "cell_type": "markdown",
   "metadata": {},
   "source": [
    "> But this is too much ceremony and a lot of work for a concept that should be  \n",
    "common. Luckily for us, Rust has a feature for using a value without  \n",
    "transferring ownership, called references."
   ]
  },
  {
   "attachments": {},
   "cell_type": "markdown",
   "metadata": {},
   "source": [
    "Mutable References\n",
    "---"
   ]
  },
  {
   "cell_type": "code",
   "execution_count": 4,
   "metadata": {
    "vscode": {
     "languageId": "rust"
    }
   },
   "outputs": [
    {
     "name": "stdout",
     "output_type": "stream",
     "text": [
      "hello\n",
      "hello, world\n"
     ]
    },
    {
     "data": {
      "text/plain": [
       "()"
      ]
     },
     "execution_count": 4,
     "metadata": {},
     "output_type": "execute_result"
    }
   ],
   "source": [
    "{\n",
    "    let mut s = String::from(\"hello\"); // s comes into scope\n",
    "    println!(\"{}\", s);\n",
    "\n",
    "    change(&mut s);\n",
    "    println!(\"{}\", s);\n",
    "}"
   ]
  },
  {
   "cell_type": "code",
   "execution_count": 3,
   "metadata": {
    "vscode": {
     "languageId": "rust"
    }
   },
   "outputs": [],
   "source": [
    "fn change(some_string: &mut String){\n",
    "    some_string.push_str(\", world\");\n",
    "}"
   ]
  },
  {
   "cell_type": "code",
   "execution_count": 5,
   "metadata": {
    "vscode": {
     "languageId": "rust"
    }
   },
   "outputs": [
    {
     "ename": "Error",
     "evalue": "cannot borrow `s` as mutable more than once at a time",
     "output_type": "error",
     "traceback": [
      "\u001b[31m[E0499] Error:\u001b[0m cannot borrow `s` as mutable more than once at a time",
      "   \u001b[38;5;246m╭\u001b[0m\u001b[38;5;246m─\u001b[0m\u001b[38;5;246m[\u001b[0mcommand_5:1:1\u001b[38;5;246m]\u001b[0m",
      "   \u001b[38;5;246m│\u001b[0m",
      " \u001b[38;5;246m4 │\u001b[0m \u001b[38;5;249m \u001b[0m\u001b[38;5;249m \u001b[0m\u001b[38;5;249m \u001b[0m\u001b[38;5;249m \u001b[0m\u001b[38;5;249ml\u001b[0m\u001b[38;5;249me\u001b[0m\u001b[38;5;249mt\u001b[0m\u001b[38;5;249m \u001b[0m\u001b[38;5;249mr\u001b[0m\u001b[38;5;249m1\u001b[0m\u001b[38;5;249m \u001b[0m\u001b[38;5;249m=\u001b[0m\u001b[38;5;249m \u001b[0m\u001b[38;5;54m&\u001b[0m\u001b[38;5;54mm\u001b[0m\u001b[38;5;54mu\u001b[0m\u001b[38;5;54mt\u001b[0m\u001b[38;5;54m \u001b[0m\u001b[38;5;54ms\u001b[0m\u001b[38;5;249m;\u001b[0m",
      " \u001b[38;5;246m  ·\u001b[0m              \u001b[38;5;54m─\u001b[0m\u001b[38;5;54m─\u001b[0m\u001b[38;5;54m─\u001b[0m\u001b[38;5;54m┬\u001b[0m\u001b[38;5;54m─\u001b[0m\u001b[38;5;54m─\u001b[0m  ",
      " \u001b[38;5;246m  ·\u001b[0m                 \u001b[38;5;54m╰\u001b[0m\u001b[38;5;54m─\u001b[0m\u001b[38;5;54m─\u001b[0m\u001b[38;5;54m─\u001b[0m\u001b[38;5;54m─\u001b[0m first mutable borrow occurs here",
      " \u001b[38;5;246m5 │\u001b[0m \u001b[38;5;249m \u001b[0m\u001b[38;5;249m \u001b[0m\u001b[38;5;249m \u001b[0m\u001b[38;5;249m \u001b[0m\u001b[38;5;249ml\u001b[0m\u001b[38;5;249me\u001b[0m\u001b[38;5;249mt\u001b[0m\u001b[38;5;249m \u001b[0m\u001b[38;5;249mr\u001b[0m\u001b[38;5;249m2\u001b[0m\u001b[38;5;249m \u001b[0m\u001b[38;5;249m=\u001b[0m\u001b[38;5;249m \u001b[0m\u001b[38;5;100m&\u001b[0m\u001b[38;5;100mm\u001b[0m\u001b[38;5;100mu\u001b[0m\u001b[38;5;100mt\u001b[0m\u001b[38;5;100m \u001b[0m\u001b[38;5;100ms\u001b[0m\u001b[38;5;249m;\u001b[0m",
      " \u001b[38;5;246m  ·\u001b[0m              \u001b[38;5;100m─\u001b[0m\u001b[38;5;100m─\u001b[0m\u001b[38;5;100m─\u001b[0m\u001b[38;5;100m┬\u001b[0m\u001b[38;5;100m─\u001b[0m\u001b[38;5;100m─\u001b[0m  ",
      " \u001b[38;5;246m  ·\u001b[0m                 \u001b[38;5;100m╰\u001b[0m\u001b[38;5;100m─\u001b[0m\u001b[38;5;100m─\u001b[0m\u001b[38;5;100m─\u001b[0m\u001b[38;5;100m─\u001b[0m second mutable borrow occurs here",
      " \u001b[38;5;246m6 │\u001b[0m \u001b[38;5;249m \u001b[0m\u001b[38;5;249m \u001b[0m\u001b[38;5;249m \u001b[0m\u001b[38;5;249m \u001b[0m\u001b[38;5;249mp\u001b[0m\u001b[38;5;249mr\u001b[0m\u001b[38;5;249mi\u001b[0m\u001b[38;5;249mn\u001b[0m\u001b[38;5;249mt\u001b[0m\u001b[38;5;249ml\u001b[0m\u001b[38;5;249mn\u001b[0m\u001b[38;5;249m!\u001b[0m\u001b[38;5;249m(\u001b[0m\u001b[38;5;249m\"\u001b[0m\u001b[38;5;249m{\u001b[0m\u001b[38;5;249m}\u001b[0m\u001b[38;5;249m\"\u001b[0m\u001b[38;5;249m,\u001b[0m\u001b[38;5;249m \u001b[0m\u001b[38;5;68mr\u001b[0m\u001b[38;5;68m1\u001b[0m\u001b[38;5;249m)\u001b[0m\u001b[38;5;249m;\u001b[0m",
      " \u001b[38;5;246m  ·\u001b[0m                    \u001b[38;5;68m─\u001b[0m\u001b[38;5;68m┬\u001b[0m  ",
      " \u001b[38;5;246m  ·\u001b[0m                     \u001b[38;5;68m╰\u001b[0m\u001b[38;5;68m─\u001b[0m\u001b[38;5;68m─\u001b[0m first borrow later used here",
      "\u001b[38;5;246m───╯\u001b[0m"
     ]
    }
   ],
   "source": [
    "{\n",
    "    let mut s = String::from(\"hello\");\n",
    "\n",
    "    let r1 = &mut s;\n",
    "    let r2 = &mut s;\n",
    "    println!(\"{}\", r1);\n",
    "    println!(\"{}\", r2);\n",
    "}"
   ]
  },
  {
   "attachments": {},
   "cell_type": "markdown",
   "metadata": {},
   "source": [
    "This error says that this code is invalid because we **`cannot borrow s as mutable`**  \n",
    "**`more than once at a time`**. The first mutable borrow is in r1 and must last until  \n",
    "it’s used in the println!, but between the creation of that mutable reference  \n",
    "and its usage, we tried to create another mutable reference in r2 that borrows  \n",
    "the same data as r1.\n",
    "\n",
    "The restriction preventing multiple mutable references to the same data at the  \n",
    "same time allows for mutation but in a very controlled fashion. \n",
    "\n",
    "It’s something that new Rustaceans struggle with because most languages let you  \n",
    "mutate whenever you’d like. The benefit of having this restriction is that Rust  \n",
    "can prevent data races at compile time. A data race is similar to a race  \n",
    "condition and happens when these three behaviors occur:\n",
    "\n",
    "- Two or more pointers access the same data at the same time.\n",
    "- At least one of the pointers is being used to write to the data.\n",
    "- There’s no mechanism being used to synchronize access to the data.\n",
    "\n",
    "Data races cause undefined behavior and can be difficult to diagnose and fix  \n",
    "when you’re trying to track them down at runtime; Rust prevents this problem by  \n",
    "refusing to compile code with data races!"
   ]
  },
  {
   "attachments": {},
   "cell_type": "markdown",
   "metadata": {},
   "source": [
    "As always, we can use curly brackets to create a new scope, allowing for   \n",
    "multiple mutable references, just not simultaneous ones:\n"
   ]
  },
  {
   "cell_type": "code",
   "execution_count": 7,
   "metadata": {
    "vscode": {
     "languageId": "rust"
    }
   },
   "outputs": [
    {
     "name": "stdout",
     "output_type": "stream",
     "text": [
      "borrowing [s] mutable in [inner] scope hello\n",
      "borrowing [s] mutable in [outer] scope hello\n"
     ]
    }
   ],
   "source": [
    "{\n",
    "    let mut s = String::from(\"hello\");\n",
    "\n",
    "    {\n",
    "        let r1 = &mut s;\n",
    "        println!(\"borrowing [s] mutable in [inner] scope {}\", r1);\n",
    "    } // r1 goes out of scope here, so we can make a new reference with no problems.\n",
    "\n",
    "    let r2 = &mut s;\n",
    "    println!(\"borrowing [s] mutable in [outer] scope {}\", r2);\n",
    "}\n",
    "// In actual RUST env ^ this could be outer scope\n",
    "// BUT in Jupyter all rust code is in static scope so we needed to wrap it in \n",
    "// another BLOCK"
   ]
  },
  {
   "attachments": {},
   "cell_type": "markdown",
   "metadata": {},
   "source": [
    "Rust enforces a similar rule for combining mutable and immutable references.  \n",
    "This code results in an error:"
   ]
  },
  {
   "cell_type": "code",
   "execution_count": 10,
   "metadata": {
    "vscode": {
     "languageId": "rust"
    }
   },
   "outputs": [
    {
     "ename": "Error",
     "evalue": "cannot borrow `s` as mutable because it is also borrowed as immutable",
     "output_type": "error",
     "traceback": [
      "\u001b[31m[E0502] Error:\u001b[0m cannot borrow `s` as mutable because it is also borrowed as immutable",
      "   \u001b[38;5;246m╭\u001b[0m\u001b[38;5;246m─\u001b[0m\u001b[38;5;246m[\u001b[0mcommand_10:1:1\u001b[38;5;246m]\u001b[0m",
      "   \u001b[38;5;246m│\u001b[0m",
      " \u001b[38;5;246m4 │\u001b[0m \u001b[38;5;249m \u001b[0m\u001b[38;5;249m \u001b[0m\u001b[38;5;249m \u001b[0m\u001b[38;5;249m \u001b[0m\u001b[38;5;249ml\u001b[0m\u001b[38;5;249me\u001b[0m\u001b[38;5;249mt\u001b[0m\u001b[38;5;249m \u001b[0m\u001b[38;5;249mr\u001b[0m\u001b[38;5;249m1\u001b[0m\u001b[38;5;249m \u001b[0m\u001b[38;5;249m=\u001b[0m\u001b[38;5;249m \u001b[0m\u001b[38;5;100m&\u001b[0m\u001b[38;5;100ms\u001b[0m\u001b[38;5;249m;\u001b[0m\u001b[38;5;249m \u001b[0m\u001b[38;5;249m/\u001b[0m\u001b[38;5;249m/\u001b[0m\u001b[38;5;249m \u001b[0m\u001b[38;5;249mn\u001b[0m\u001b[38;5;249mo\u001b[0m\u001b[38;5;249m \u001b[0m\u001b[38;5;249mp\u001b[0m\u001b[38;5;249mr\u001b[0m\u001b[38;5;249mo\u001b[0m\u001b[38;5;249mb\u001b[0m\u001b[38;5;249ml\u001b[0m\u001b[38;5;249me\u001b[0m\u001b[38;5;249mm\u001b[0m",
      " \u001b[38;5;246m  ·\u001b[0m              \u001b[38;5;100m─\u001b[0m\u001b[38;5;100m┬\u001b[0m  ",
      " \u001b[38;5;246m  ·\u001b[0m               \u001b[38;5;100m╰\u001b[0m\u001b[38;5;100m─\u001b[0m\u001b[38;5;100m─\u001b[0m immutable borrow occurs here",
      " \u001b[38;5;246m  ·\u001b[0m ",
      " \u001b[38;5;246m7 │\u001b[0m \u001b[38;5;249m \u001b[0m\u001b[38;5;249m \u001b[0m\u001b[38;5;249m \u001b[0m\u001b[38;5;249m \u001b[0m\u001b[38;5;249ml\u001b[0m\u001b[38;5;249me\u001b[0m\u001b[38;5;249mt\u001b[0m\u001b[38;5;249m \u001b[0m\u001b[38;5;249mr\u001b[0m\u001b[38;5;249m3\u001b[0m\u001b[38;5;249m \u001b[0m\u001b[38;5;249m=\u001b[0m\u001b[38;5;249m \u001b[0m\u001b[38;5;54m&\u001b[0m\u001b[38;5;54mm\u001b[0m\u001b[38;5;54mu\u001b[0m\u001b[38;5;54mt\u001b[0m\u001b[38;5;54m \u001b[0m\u001b[38;5;54ms\u001b[0m\u001b[38;5;249m;\u001b[0m\u001b[38;5;249m \u001b[0m\u001b[38;5;249m/\u001b[0m\u001b[38;5;249m/\u001b[0m\u001b[38;5;249m \u001b[0m\u001b[38;5;249mB\u001b[0m\u001b[38;5;249mI\u001b[0m\u001b[38;5;249mG\u001b[0m\u001b[38;5;249m \u001b[0m\u001b[38;5;249mP\u001b[0m\u001b[38;5;249mR\u001b[0m\u001b[38;5;249mO\u001b[0m\u001b[38;5;249mB\u001b[0m\u001b[38;5;249mL\u001b[0m\u001b[38;5;249mE\u001b[0m\u001b[38;5;249mM\u001b[0m",
      " \u001b[38;5;246m  ·\u001b[0m              \u001b[38;5;54m─\u001b[0m\u001b[38;5;54m─\u001b[0m\u001b[38;5;54m─\u001b[0m\u001b[38;5;54m┬\u001b[0m\u001b[38;5;54m─\u001b[0m\u001b[38;5;54m─\u001b[0m  ",
      " \u001b[38;5;246m  ·\u001b[0m                 \u001b[38;5;54m╰\u001b[0m\u001b[38;5;54m─\u001b[0m\u001b[38;5;54m─\u001b[0m\u001b[38;5;54m─\u001b[0m\u001b[38;5;54m─\u001b[0m mutable borrow occurs here",
      " \u001b[38;5;246m  ·\u001b[0m ",
      " \u001b[38;5;246m9 │\u001b[0m \u001b[38;5;249m \u001b[0m\u001b[38;5;249m \u001b[0m\u001b[38;5;249m \u001b[0m\u001b[38;5;249m \u001b[0m\u001b[38;5;249mp\u001b[0m\u001b[38;5;249mr\u001b[0m\u001b[38;5;249mi\u001b[0m\u001b[38;5;249mn\u001b[0m\u001b[38;5;249mt\u001b[0m\u001b[38;5;249ml\u001b[0m\u001b[38;5;249mn\u001b[0m\u001b[38;5;249m!\u001b[0m\u001b[38;5;249m(\u001b[0m\u001b[38;5;249m\"\u001b[0m\u001b[38;5;249m{\u001b[0m\u001b[38;5;249m}\u001b[0m\u001b[38;5;249m,\u001b[0m\u001b[38;5;249m \u001b[0m\u001b[38;5;249m{\u001b[0m\u001b[38;5;249m}\u001b[0m\u001b[38;5;249m,\u001b[0m\u001b[38;5;249m \u001b[0m\u001b[38;5;249ma\u001b[0m\u001b[38;5;249mn\u001b[0m\u001b[38;5;249md\u001b[0m\u001b[38;5;249m \u001b[0m\u001b[38;5;249m{\u001b[0m\u001b[38;5;249m}\u001b[0m\u001b[38;5;249m\"\u001b[0m\u001b[38;5;249m,\u001b[0m\u001b[38;5;249m \u001b[0m\u001b[38;5;68mr\u001b[0m\u001b[38;5;68m1\u001b[0m\u001b[38;5;249m,\u001b[0m\u001b[38;5;249m \u001b[0m\u001b[38;5;249mr\u001b[0m\u001b[38;5;249m2\u001b[0m\u001b[38;5;249m,\u001b[0m\u001b[38;5;249m \u001b[0m\u001b[38;5;249mr\u001b[0m\u001b[38;5;249m3\u001b[0m\u001b[38;5;249m)\u001b[0m\u001b[38;5;249m;\u001b[0m",
      " \u001b[38;5;246m  ·\u001b[0m                                \u001b[38;5;68m─\u001b[0m\u001b[38;5;68m┬\u001b[0m  ",
      " \u001b[38;5;246m  ·\u001b[0m                                 \u001b[38;5;68m╰\u001b[0m\u001b[38;5;68m─\u001b[0m\u001b[38;5;68m─\u001b[0m immutable borrow later used here",
      "\u001b[38;5;246m───╯\u001b[0m"
     ]
    }
   ],
   "source": [
    "{\n",
    "    let mut s = String::from(\"hello\");\n",
    "\n",
    "    let r1 = &s; // no problem\n",
    "    let r2 = &s; // no problem\n",
    "    // let r3 = &s; // no problem\n",
    "    let r3 = &mut s; // BIG PROBLEM\n",
    "\n",
    "    println!(\"{}, {}, and {}\", r1, r2, r3);\n",
    "}"
   ]
  },
  {
   "attachments": {},
   "cell_type": "markdown",
   "metadata": {},
   "source": [
    "Whew! We also `cannot have a mutable reference while we have an immutable one` to  \n",
    "the same value.\n",
    "\n",
    "Users of an `immutable reference don’t expect the value to suddenly change` out  \n",
    "from under them! However, multiple immutable references are allowed because no  \n",
    "one who is just reading the data has the ability to affect anyone else’s  \n",
    "reading of the data.\n",
    "\n",
    "Note that a reference’s scope starts from where it is introduced and continues  \n",
    "through the last time that reference is used. For instance, this code will  \n",
    "compile because the last usage of the immutable references, the println!, occurs  \n",
    "before the mutable reference is introduced:"
   ]
  },
  {
   "cell_type": "code",
   "execution_count": 11,
   "metadata": {
    "vscode": {
     "languageId": "rust"
    }
   },
   "outputs": [
    {
     "name": "stdout",
     "output_type": "stream",
     "text": [
      "hello and hello\n",
      "hello\n"
     ]
    },
    {
     "data": {
      "text/plain": [
       "()"
      ]
     },
     "execution_count": 11,
     "metadata": {},
     "output_type": "execute_result"
    }
   ],
   "source": [
    "{\n",
    "    let mut s = String::from(\"hello\");\n",
    "\n",
    "    let r1 = &s; // no problem\n",
    "    let r2 = &s; // no problem\n",
    "\n",
    "    println!(\"{} and {}\", r1, r2);\n",
    "    // variables r1 and r2 will not be used after this point (code span)\n",
    "\n",
    "    let r3 = &mut s; // no problem, because this is non overlapping code span\n",
    "    println!(\"{}\", r3);\n",
    "}"
   ]
  },
  {
   "attachments": {},
   "cell_type": "markdown",
   "metadata": {},
   "source": [
    "The scopes of the immutable references r1 and r2 end after the println! where  \n",
    "they are last used, which is before the mutable reference r3 is created.  \n",
    "These scopes don’t overlap, so this code is allowed: the compiler can tell that  \n",
    "the reference is no longer being used at a point before the end of the scope.\n",
    "\n",
    "Even though borrowing errors may be frustrating at times, remember that it’s the  \n",
    "Rust compiler pointing out a potential bug early (at compile time rather than at  \n",
    "runtime) and showing you exactly where the problem is. Then you don’t have to  \n",
    "track down why your data isn’t what you thought it was."
   ]
  },
  {
   "attachments": {},
   "cell_type": "markdown",
   "metadata": {},
   "source": [
    "Dangling References\n",
    "---"
   ]
  }
 ],
 "metadata": {
  "kernelspec": {
   "display_name": "Rust",
   "language": "rust",
   "name": "rust"
  },
  "language_info": {
   "codemirror_mode": "rust",
   "file_extension": ".rs",
   "mimetype": "text/rust",
   "name": "Rust",
   "pygment_lexer": "rust",
   "version": ""
  },
  "orig_nbformat": 4
 },
 "nbformat": 4,
 "nbformat_minor": 2
}
