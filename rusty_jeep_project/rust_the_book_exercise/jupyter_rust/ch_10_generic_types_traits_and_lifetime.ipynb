{
 "cells": [
  {
   "attachments": {},
   "cell_type": "markdown",
   "metadata": {},
   "source": [
    "Generic Types, Traits and Lifetime\n",
    "---\n",
    "\n",
    "Every programming language has tools for effectively handling the duplication of  \n",
    "concepts. In Rust, one such tool is generics: abstract stand-ins for concrete  \n",
    "types or other properties. We can express the behavior of generics or how they  \n",
    "relate to other generics without knowing what will be in their place when  \n",
    "compiling and running the code.  \n",
    "\n",
    "Functions can take parameters of some generic type, instead of a concrete type  \n",
    "like i32 or String, in the same way a function takes parameters with unknown  \n",
    "values to run the same code on multiple concrete values. In fact, we’ve already  \n",
    "used generics in Chapter 6 with Option<T>, Chapter 8 with Vec<T> and  \n",
    "HashMap<K, V>, and Chapter 9 with Result<T, E>. In this chapter, you’ll explore  \n",
    "how to define your own types, functions, and methods with generics!  \n",
    "\n",
    "First, we’ll review how to extract a function to reduce code duplication. We’ll  \n",
    "then use the same technique to make a generic function from two functions that  \n",
    "differ only in the types of their parameters. We’ll also explain how to use  \n",
    "generic types in struct and enum definitions.  \n",
    "\n",
    "Then you’ll learn how to use traits to define behavior in a generic way. You  \n",
    "can combine traits with generic types to constrain a generic type to accept only  \n",
    "those types that have a particular behavior, as opposed to just any type.  \n",
    "\n",
    "Finally, we’ll discuss lifetimes: a variety of generics that give the compiler  \n",
    "information about how references relate to each other. Lifetimes allow us to  \n",
    "give the compiler enough information about borrowed values so that it can ensure  \n",
    "references will be valid in more situations than it could without our help.  "
   ]
  },
  {
   "attachments": {},
   "cell_type": "markdown",
   "metadata": {},
   "source": [
    "### Removing Duplication by Extracting a Function\n",
    "\n",
    "Generics allow us to replace specific types with a placeholder that represents  \n",
    "multiple types to remove code duplication. Before diving into generics syntax,  \n",
    "then, let’s first look at how to remove duplication in a way that doesn’t  \n",
    "involve generic types by extracting a function that replaces specific values  \n",
    "with a placeholder that represents multiple values. Then we’ll apply the same  \n",
    "technique to extract a generic function! By looking at how to recognize  \n",
    "duplicated code you can extract into a function, you’ll start to recognize  \n",
    "duplicated code that can use generics.\n",
    "\n",
    "We begin with the short program in Listing 10-1 that finds the largest number in  \n",
    "a list.\n",
    "\n",
    "> Filename: src/main.rs"
   ]
  },
  {
   "cell_type": "code",
   "execution_count": 2,
   "metadata": {
    "vscode": {
     "languageId": "rust"
    }
   },
   "outputs": [
    {
     "name": "stdout",
     "output_type": "stream",
     "text": [
      "The largest number is 100\n"
     ]
    },
    {
     "data": {
      "text/plain": [
       "()"
      ]
     },
     "execution_count": 2,
     "metadata": {},
     "output_type": "execute_result"
    }
   ],
   "source": [
    "{   // begin closure\n",
    "    let number_list = vec![34, 50, 25, 100, 65]; // number_list comes into scope and\n",
    "                                                 // gets ownership of the vector, so\n",
    "                                                 // is responsible for releasing it\n",
    "                                                 // - `number_list` is stored on the stack\n",
    "                                                 // it contains meta data about the vector\n",
    "                                                 // wrt to length and capacity of the ACTUAL\n",
    "                                                 // VALUE on the HEAP\n",
    "\n",
    "    let mut largest = &number_list[0];  // largest comes into scope\n",
    "                                        // we don't take ownership of the vector,\n",
    "                                        // we borrow a reference to it\n",
    "                                        // largest stores this reference on the stack\n",
    "\n",
    "    for number in &number_list {    // looping over an immutable reference to &number_list\n",
    "                                    // - by using a reference we AVOID loop taking ownership of\n",
    "                                    // the number_list vector, so we can use it later (println!)\n",
    "                                    // - the loop will create an immutable reference `number` to\n",
    "                                    // each element in the vector\n",
    "        if number > largest {       // we compare `number` to `largest`\n",
    "                                    // - because both are references, Rust automatically\n",
    "                                    // dereferences each value for comparison thanks to `deref` trait\n",
    "            largest = number;       // if current `number` is larger than `largest`\n",
    "                                    // - we update the mutable reference `largest` to point to\n",
    "                                    // the current `number` reference\n",
    "                                    // - we DO NOT take OWNERSHIP of the VALUE, only update REFERENCE\n",
    "        }\n",
    "    }\n",
    "\n",
    "    println!(\"The largest number is {}\", largest);\n",
    "\n",
    "}   // exit closure\n",
    "    // largest goes out of scope, and are released : it is a reference so no heap changes\n",
    "    // number_list goes out of scope, and is released from memory\n",
    "    // - the vector meta data wrt to length and capacity is released from the stack\n",
    "    // - Rust automatically calls the `drop` function to release the VECTOR's VALUE\n",
    "    // from the HEAP"
   ]
  },
  {
   "attachments": {},
   "cell_type": "markdown",
   "metadata": {},
   "source": [
    "> Listing 10-1: Finding the largest number in a list of numbers\n",
    "\n",
    "We store a list of integers in the variable `number_list` and place a reference to  \n",
    "the first number in the list in a variable named `largest`. We then iterate  \n",
    "through all the numbers in the list, and if the current number is greater than  \n",
    "the number stored in `largest`, replace the reference in that variable. However,  \n",
    "if the current number is less than or equal to the largest number seen so far,  \n",
    "the variable doesn’t change, and the code moves on to the next number in the  \n",
    "list. After considering all the numbers in the list, `largest` should refer to  \n",
    "the largest number, which in this case is 100.  "
   ]
  },
  {
   "attachments": {},
   "cell_type": "markdown",
   "metadata": {},
   "source": [
    "We've now been tasked with finding the largest number in two different lists of  \n",
    "numbers. To do so, we can choose to duplicate the code in Listing 10-1 and use  \n",
    "the same logic at two different places in the program, as shown in Listing 10-2.  \n",
    "\n",
    "> Filename: src/main.rs"
   ]
  },
  {
   "cell_type": "code",
   "execution_count": 4,
   "metadata": {
    "vscode": {
     "languageId": "rust"
    }
   },
   "outputs": [
    {
     "name": "stdout",
     "output_type": "stream",
     "text": [
      "The largest number is 100\n",
      "The largest number is 6000\n"
     ]
    },
    {
     "data": {
      "text/plain": [
       "()"
      ]
     },
     "execution_count": 4,
     "metadata": {},
     "output_type": "execute_result"
    }
   ],
   "source": [
    "{\n",
    "    let number_list = vec![34, 50, 25, 100, 65];\n",
    "\n",
    "    let mut largest = &number_list[0];\n",
    "\n",
    "    for number in &number_list {\n",
    "        if number > largest {\n",
    "            largest = number;\n",
    "        }\n",
    "    }\n",
    "\n",
    "    println!(\"The largest number is {}\", largest);\n",
    "\n",
    "    let number_list = vec![102, 34, 6000, 89, 54, 2, 43, 8];\n",
    "\n",
    "    let mut largest = &number_list[0];\n",
    "\n",
    "    for number in &number_list{\n",
    "        if number > largest {\n",
    "            largest = number;\n",
    "        }\n",
    "    }\n",
    "\n",
    "    println!(\"The largest number is {}\", largest);\n",
    "}"
   ]
  },
  {
   "attachments": {},
   "cell_type": "markdown",
   "metadata": {},
   "source": [
    "> Listing 10-2: Code to find the largest number in two lists of numbers\n",
    "\n",
    "Although this code works, duplicating code is tedious and error prone. We also  \n",
    "have to remember to **`update the code in multiple places`** when we want to  \n",
    "change it."
   ]
  },
  {
   "attachments": {},
   "cell_type": "markdown",
   "metadata": {},
   "source": [
    "To eliminate this duplication, we’ll create an abstraction by defining a  \n",
    "function that operates on any list of integers passed in a parameter. This  \n",
    "solution makes our code clearer and lets us express the concept of finding the  \n",
    "largest number in a list abstractly.\n",
    "\n",
    "In Listing 10-3, we extract the code that finds the largest number into a  \n",
    "function named largest. Then we call the function to find the largest number  \n",
    "in the two lists from Listing 10-2. We could also use the function on any other  \n",
    "list of i32 values we might have in the future.\n",
    "\n",
    "> Filename: src/main.rs\n",
    "\n"
   ]
  },
  {
   "cell_type": "code",
   "execution_count": 5,
   "metadata": {
    "vscode": {
     "languageId": "rust"
    }
   },
   "outputs": [
    {
     "name": "stdout",
     "output_type": "stream",
     "text": [
      "The largest number is 100\n",
      "The largest number is 6000\n"
     ]
    },
    {
     "data": {
      "text/plain": [
       "()"
      ]
     },
     "execution_count": 5,
     "metadata": {},
     "output_type": "execute_result"
    }
   ],
   "source": [
    "fn largest(list: &[i32])-> &i32 {\n",
    "    let mut largest = &list[0];\n",
    "\n",
    "    for number in list {\n",
    "        if number > largest {\n",
    "            largest = number;\n",
    "        }\n",
    "    }\n",
    "\n",
    "    largest\n",
    "}\n",
    "\n",
    "{\n",
    "    let number_list = vec![34, 50, 25, 100, 65];\n",
    "    let result = largest(&number_list);\n",
    "    println!(\"The largest number is {}\", result);\n",
    "\n",
    "    let number_list = vec![102, 34, 6000, 89, 54, 2, 43, 8];\n",
    "    let result = largest(&number_list);\n",
    "    println!(\"The largest number is {}\", result);\n",
    "}"
   ]
  },
  {
   "attachments": {},
   "cell_type": "markdown",
   "metadata": {},
   "source": [
    "> Listing 10-3: Abstracted code to find the largest number in two lists\n",
    "\n",
    "The largest function has a parameter called list, which represents any concrete  \n",
    "slice of i32 values we might pass into the function. As a result, when we call  \n",
    "the function, the code runs on the specific values that we pass in.\n",
    "\n"
   ]
  }
 ],
 "metadata": {
  "kernelspec": {
   "display_name": "Rust",
   "language": "rust",
   "name": "rust"
  },
  "language_info": {
   "codemirror_mode": "rust",
   "file_extension": ".rs",
   "mimetype": "text/rust",
   "name": "Rust",
   "pygment_lexer": "rust",
   "version": ""
  },
  "orig_nbformat": 4
 },
 "nbformat": 4,
 "nbformat_minor": 2
}
