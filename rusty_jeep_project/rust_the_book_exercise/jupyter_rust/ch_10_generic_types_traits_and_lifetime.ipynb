{
 "cells": [
  {
   "attachments": {},
   "cell_type": "markdown",
   "metadata": {},
   "source": [
    "Generic Types, Traits and Lifetime\n",
    "---\n",
    "\n",
    "Every programming language has tools for effectively handling the duplication of  \n",
    "concepts. In Rust, one such tool is generics: abstract stand-ins for concrete  \n",
    "types or other properties. We can express the behavior of generics or how they  \n",
    "relate to other generics without knowing what will be in their place when  \n",
    "compiling and running the code.  \n",
    "\n",
    "Functions can take parameters of some generic type, instead of a concrete type  \n",
    "like i32 or String, in the same way a function takes parameters with unknown  \n",
    "values to run the same code on multiple concrete values. In fact, we’ve already  \n",
    "used generics in Chapter 6 with Option<T>, Chapter 8 with Vec<T> and  \n",
    "HashMap<K, V>, and Chapter 9 with Result<T, E>. In this chapter, you’ll explore  \n",
    "how to define your own types, functions, and methods with generics!  \n",
    "\n",
    "First, we’ll review how to extract a function to reduce code duplication. We’ll  \n",
    "then use the same technique to make a generic function from two functions that  \n",
    "differ only in the types of their parameters. We’ll also explain how to use  \n",
    "generic types in struct and enum definitions.  \n",
    "\n",
    "Then you’ll learn how to use traits to define behavior in a generic way. You  \n",
    "can combine traits with generic types to constrain a generic type to accept only  \n",
    "those types that have a particular behavior, as opposed to just any type.  \n",
    "\n",
    "Finally, we’ll discuss lifetimes: a variety of generics that give the compiler  \n",
    "information about how references relate to each other. Lifetimes allow us to  \n",
    "give the compiler enough information about borrowed values so that it can ensure  \n",
    "references will be valid in more situations than it could without our help.  "
   ]
  },
  {
   "attachments": {},
   "cell_type": "markdown",
   "metadata": {},
   "source": [
    "### Removing Duplication by Extracting a Function\n",
    "\n",
    "Generics allow us to replace specific types with a placeholder that represents  \n",
    "multiple types to remove code duplication. Before diving into generics syntax,  \n",
    "then, let’s first look at how to remove duplication in a way that doesn’t  \n",
    "involve generic types by extracting a function that replaces specific values  \n",
    "with a placeholder that represents multiple values. Then we’ll apply the same  \n",
    "technique to extract a generic function! By looking at how to recognize  \n",
    "duplicated code you can extract into a function, you’ll start to recognize  \n",
    "duplicated code that can use generics.\n",
    "\n",
    "We begin with the short program in Listing 10-1 that finds the largest number in  \n",
    "a list.\n",
    "\n",
    "> Filename: src/main.rs"
   ]
  },
  {
   "cell_type": "code",
   "execution_count": 2,
   "metadata": {
    "vscode": {
     "languageId": "rust"
    }
   },
   "outputs": [
    {
     "name": "stdout",
     "output_type": "stream",
     "text": [
      "The largest number is 100\n"
     ]
    },
    {
     "data": {
      "text/plain": [
       "()"
      ]
     },
     "execution_count": 2,
     "metadata": {},
     "output_type": "execute_result"
    }
   ],
   "source": [
    "{   // begin block closure\n",
    "    let number_list = vec![34, 50, 25, 100, 65]; // number_list comes into scope and\n",
    "                                                 // gets ownership of the vector, so\n",
    "                                                 // is responsible for releasing it\n",
    "                                                 // - `number_list` is stored on the stack\n",
    "                                                 // it contains meta data about the vector\n",
    "                                                 // wrt to length and capacity of the ACTUAL\n",
    "                                                 // VALUE on the HEAP\n",
    "\n",
    "    let mut largest = &number_list[0];  // largest comes into scope\n",
    "                                        // we don't take ownership of the vector,\n",
    "                                        // we borrow a reference to it\n",
    "                                        // largest stores this reference on the stack\n",
    "\n",
    "    for number in &number_list {    // looping over an immutable reference to &number_list\n",
    "                                    // - by using a reference we AVOID loop taking ownership of\n",
    "                                    // the number_list vector, so we can use it later (println!)\n",
    "                                    // - the loop will create an immutable reference `number` to\n",
    "                                    // each element in the vector\n",
    "        if number > largest {       // we compare `number` to `largest`\n",
    "                                    // - because both are references, Rust automatically\n",
    "                                    // dereferences each value for comparison thanks to `deref` trait\n",
    "            largest = number;       // if current `number` is larger than `largest`\n",
    "                                    // - we update the mutable reference `largest` to point to\n",
    "                                    // the current `number` reference\n",
    "                                    // - we DO NOT move OWNERSHIP, instead we only update the REFERENCE\n",
    "        }\n",
    "    }\n",
    "\n",
    "    println!(\"The largest number is {}\", largest);\n",
    "\n",
    "}   // exit block closure\n",
    "    // largest goes out of scope, and are released : it is a reference so no heap changes\n",
    "    // number_list goes out of scope, and is released from memory\n",
    "    // - the vector meta data wrt to length and capacity is released from the stack\n",
    "    // - Rust automatically calls the `drop` function to release the VECTOR's VALUE\n",
    "    // from the HEAP"
   ]
  },
  {
   "attachments": {},
   "cell_type": "markdown",
   "metadata": {},
   "source": [
    "> Listing 10-1: Finding the largest number in a list of numbers\n",
    "\n",
    "We store a list of integers in the variable `number_list` and place a reference to  \n",
    "the first number in the list in a variable named `largest`. We then iterate  \n",
    "through all the numbers in the list, and if the current number is greater than  \n",
    "the number stored in `largest`, replace the reference in that variable. However,  \n",
    "if the current number is less than or equal to the largest number seen so far,  \n",
    "the variable doesn’t change, and the code moves on to the next number in the  \n",
    "list. After considering all the numbers in the list, `largest` should refer to  \n",
    "the largest number, which in this case is 100.  "
   ]
  },
  {
   "attachments": {},
   "cell_type": "markdown",
   "metadata": {},
   "source": [
    "We've now been tasked with finding the largest number in two different lists of  \n",
    "numbers. To do so, we can choose to duplicate the code in Listing 10-1 and use  \n",
    "the same logic at two different places in the program, as shown in Listing 10-2.  \n",
    "\n",
    "> Filename: src/main.rs"
   ]
  },
  {
   "cell_type": "code",
   "execution_count": 4,
   "metadata": {
    "vscode": {
     "languageId": "rust"
    }
   },
   "outputs": [
    {
     "name": "stdout",
     "output_type": "stream",
     "text": [
      "The largest number is 100\n",
      "The largest number is 6000\n"
     ]
    },
    {
     "data": {
      "text/plain": [
       "()"
      ]
     },
     "execution_count": 4,
     "metadata": {},
     "output_type": "execute_result"
    }
   ],
   "source": [
    "{   // Bloc comes into scope\n",
    "    let number_list = vec![34, 50, 25, 100, 65]; // (a) shadowed\n",
    "\n",
    "    let mut largest = &number_list[0];  // (a) shadowed\n",
    "\n",
    "    for number in &number_list { // number is an immutable reference to each element in the vector\n",
    "        if number > largest {    // rust automatically dereferences `number` and `largest`\n",
    "                                 // to compare because they are BOTH references\n",
    "                                 // deref coercion REQUIRES that BOTH are `number` and `largest`\n",
    "                                 // are references, else YOU must manually * dereference\n",
    "            largest = number;    // this is NOT DEREF COERCION ...\n",
    "                                 // but because both are &i32 references, they can DIRECTLY be\n",
    "                                 // ASSIGNED without DEREFERENCING\n",
    "        }\n",
    "    }\n",
    "\n",
    "    println!(\"The largest number is {}\", largest);\n",
    "\n",
    "    let number_list = vec![102, 34, 6000, 89, 54, 2, 43, 8]; // (b) shadowing\n",
    "\n",
    "    let mut largest = &number_list[0];  // (b) shadowing\n",
    "\n",
    "    for number in &number_list{\n",
    "        if number > largest {\n",
    "            largest = number;\n",
    "        }\n",
    "    }\n",
    "\n",
    "    println!(\"The largest number is {}\", largest);\n",
    "}   // Block leaves scope\n",
    "    // on block end, Rust automatically deallocates memory and cleans up variables\n",
    "    // that go out of scope ... including their shadows, here's the order of op:\n",
    "    // - `largest` (b) goes out of scope, it is a reference and are popped of the stack\n",
    "    // no heap changes are applied, the memory it refs is owned by `number_list` (b)\n",
    "    // vector and will get cleaned up when that is released\n",
    "    // - `number_list` (b) goes out of scope, the vector ref containing meta data\n",
    "    // wrt to length and capacity is popped off the stack\n",
    "    // the actual VECTOR VALUE is released from the HEAP when RUST calls `drop`\n",
    "    // - `largest` (a) goes out of scope, it is a reference and are popped of the stack\n",
    "    // no heap changes are applied, the memory it refs is owned by `number_list` (a)\n",
    "    // vector and will get cleaned up when that is released\n",
    "    // - `number_list` (a) goes out of scope, the vector ref containing meta data\n",
    "    // wrt to length and capacity is popped off the stack\n",
    "    // the actual VECTOR VALUE is released from the HEAP when RUST calls `drop`\n",
    "\n"
   ]
  },
  {
   "attachments": {},
   "cell_type": "markdown",
   "metadata": {},
   "source": [
    "> Listing 10-2: Code to find the largest number in two lists of numbers\n",
    "\n",
    "Although this code works, duplicating code is tedious and error prone. We also  \n",
    "have to remember to **`update the code in multiple places`** when we want to  \n",
    "change it."
   ]
  },
  {
   "attachments": {},
   "cell_type": "markdown",
   "metadata": {},
   "source": [
    "To eliminate this duplication, we’ll create an abstraction by defining a  \n",
    "function that operates on any list of integers passed in a parameter. This  \n",
    "solution makes our code clearer and lets us express the concept of finding the  \n",
    "largest number in a list abstractly.\n",
    "\n",
    "In Listing 10-3, we extract the code that finds the largest number into a  \n",
    "function named largest. Then we call the function to find the largest number  \n",
    "in the two lists from Listing 10-2. We could also use the function on any other  \n",
    "list of i32 values we might have in the future.\n",
    "\n",
    "> Filename: src/main.rs\n",
    "\n"
   ]
  },
  {
   "cell_type": "code",
   "execution_count": 5,
   "metadata": {
    "vscode": {
     "languageId": "rust"
    }
   },
   "outputs": [
    {
     "name": "stdout",
     "output_type": "stream",
     "text": [
      "The largest number is 100\n",
      "The largest number is 6000\n"
     ]
    },
    {
     "data": {
      "text/plain": [
       "()"
      ]
     },
     "execution_count": 5,
     "metadata": {},
     "output_type": "execute_result"
    }
   ],
   "source": [
    "fn largest(list: &[i32])-> &i32 {\n",
    "    let mut largest = &list[0];\n",
    "\n",
    "    for number in list {\n",
    "        if number > largest {\n",
    "            largest = number;\n",
    "        }\n",
    "    }\n",
    "\n",
    "    largest\n",
    "}\n",
    "\n",
    "{\n",
    "    let number_list = vec![34, 50, 25, 100, 65];\n",
    "    let result = largest(&number_list);\n",
    "    println!(\"The largest number is {}\", result);\n",
    "\n",
    "    let number_list = vec![102, 34, 6000, 89, 54, 2, 43, 8];\n",
    "    let result = largest(&number_list);\n",
    "    println!(\"The largest number is {}\", result);\n",
    "}"
   ]
  },
  {
   "attachments": {},
   "cell_type": "markdown",
   "metadata": {},
   "source": [
    "> Listing 10-3: Abstracted code to find the largest number in two lists\n",
    "\n",
    "The largest function has a parameter called list, which represents any concrete  \n",
    "slice of i32 values we might pass into the function. As a result, when we call  \n",
    "the function, the code runs on the specific values that we pass in.\n",
    "\n"
   ]
  },
  {
   "attachments": {},
   "cell_type": "markdown",
   "metadata": {},
   "source": [
    "In summary, here are the steps we took to change the code from Listing 10-2 to  \n",
    "Listing 10-3:\n",
    "\n",
    "- Identify duplicate code.  \n",
    "- Extract the duplicate code into the body of the function and specify the  \n",
    "inputs and return values of that code in the function signature.  \n",
    "- Update the two instances of duplicated code to call the function instead.  \n",
    "\n",
    "Next, we’ll use these same steps with generics to reduce code duplication. In  \n",
    "the same way that the function body can operate on an abstract list instead of  \n",
    "specific values, generics allow code to operate on abstract types.  \n",
    "\n",
    "For example, say we had two functions: one that finds the largest item in a  \n",
    "slice of i32 values and one that finds the largest item in a slice of char  \n",
    "values. How would we eliminate that duplication? Let’s find out!  "
   ]
  },
  {
   "attachments": {},
   "cell_type": "markdown",
   "metadata": {},
   "source": [
    "Generic Data Types\n",
    "---\n",
    "\n",
    "We use generics to create definitions for items like function signatures or  \n",
    "structs, which we can then use with many different concrete data types. Let’s  \n",
    "first look at how to define functions, structs, enums, and methods using  \n",
    "generics. Then we’ll discuss how generics affect code performance.  "
   ]
  },
  {
   "attachments": {},
   "cell_type": "markdown",
   "metadata": {},
   "source": [
    "### In Function Definitions\n",
    "\n",
    "When defining a function that uses generics, we place the generics in the  \n",
    "signature of the function where we would usually specify the data types of the  \n",
    "parameters and return value. Doing so makes our code more flexible and provides  \n",
    "more functionality to callers of our function while preventing code duplication.  \n",
    "\n",
    "Continuing with our largest function, Listing 10-4 shows two functions that both  \n",
    "find the largest value in a slice. We'll then combine these into a single  \n",
    "function that uses generics.  \n",
    "\n",
    "> Filename: src/main.rs"
   ]
  },
  {
   "cell_type": "code",
   "execution_count": 10,
   "metadata": {
    "vscode": {
     "languageId": "rust"
    }
   },
   "outputs": [
    {
     "name": "stdout",
     "output_type": "stream",
     "text": [
      "The largest number is 100\n",
      "The largest char is y\n"
     ]
    },
    {
     "data": {
      "text/plain": [
       "()"
      ]
     },
     "execution_count": 10,
     "metadata": {},
     "output_type": "execute_result"
    }
   ],
   "source": [
    "fn largest_i32(list: &[i32])-> &i32 {\n",
    "    let mut largest = &list[0];\n",
    "\n",
    "    for item in list{\n",
    "        if item > largest{\n",
    "            largest = item;\n",
    "        }\n",
    "    }\n",
    "    largest\n",
    "}\n",
    "\n",
    "fn largest_char(list: &[char])-> &char{\n",
    "    let mut largest = &list[0];\n",
    "\n",
    "    for item in list{\n",
    "        if item > largest{\n",
    "            largest = item;\n",
    "        }\n",
    "    }\n",
    "    largest\n",
    "}\n",
    "\n",
    "{\n",
    "    let n_list = vec![34, 50, 25, 100, 65];\n",
    "    let result = largest_i32(&n_list);\n",
    "    println!(\"The largest number is {}\", result);\n",
    "\n",
    "    let n_list = vec!['y', 'm', 'a', 'q'];  // shadowing allows swithc from i32 to char\n",
    "    let result = largest_char(&n_list);     // same shaodow to re-use the same value names\n",
    "    println!(\"The largest char is {}\", result);\n",
    "}"
   ]
  },
  {
   "attachments": {},
   "cell_type": "markdown",
   "metadata": {},
   "source": [
    "> Listing 10-4: Two functions that differ only in their names and the types in  \n",
    "their signatures\n",
    "\n",
    "- The largest_i32 function is the one we extracted in Listing 10-3 that finds  \n",
    "the largest i32 in a slice. \n",
    "- The largest_char function finds the largest char in a slice. \n",
    "\n",
    "> The function bodies have the same code, so let’s eliminate the duplication by  \n",
    "introducing a generic type parameter in a single function."
   ]
  },
  {
   "attachments": {},
   "cell_type": "markdown",
   "metadata": {},
   "source": [
    "To parameterize the types in a new single function, we need to name the type  \n",
    "parameter, just as we do for the value parameters to a function. You can use any  \n",
    "identifier as a type parameter name. But we’ll use T because, by convention,  \n",
    "type parameter names in Rust are short, often just a letter, and Rust’s  \n",
    "type-naming convention is UpperCamelCase. Short for “type,” T is the default  \n",
    "choice of most Rust programmers.\n",
    "\n",
    "When we use a parameter in the body of the function, we have to declare the  \n",
    "parameter name in the signature so the compiler knows what that name means.  \n",
    "Similarly, when we use a type parameter name in a function signature, we have  \n",
    "to declare the type parameter name before we use it. To define the generic  \n",
    "largest function, place type name declarations inside angle brackets, <>,  \n",
    "between the name of the function and the parameter list, like this:"
   ]
  },
  {
   "cell_type": "code",
   "execution_count": 15,
   "metadata": {
    "vscode": {
     "languageId": "rust"
    }
   },
   "outputs": [],
   "source": [
    "fn largest<T>(list:&[T])-> Option<&T> { None }"
   ]
  },
  {
   "attachments": {},
   "cell_type": "markdown",
   "metadata": {},
   "source": [
    "We read this definition as: the function largest is generic over some type T.  \n",
    "This function has one parameter named list, which is a slice of values of type  \n",
    "T. The largest function will return a reference to a value of the same type T.  \n",
    "\n",
    "Listing 10-5 shows the combined largest function definition using the generic  \n",
    "data type in its signature. The listing also shows how we can call the function  \n",
    "with either a slice of i32 values or char values. Note that this code won’t  \n",
    "compile yet, but we’ll fix it later in this chapter.\n",
    "\n",
    "> Filename: src/main.rs"
   ]
  },
  {
   "cell_type": "code",
   "execution_count": 16,
   "metadata": {
    "vscode": {
     "languageId": "rust"
    }
   },
   "outputs": [
    {
     "ename": "Error",
     "evalue": "binary operation `>` cannot be applied to type `&T`",
     "output_type": "error",
     "traceback": [
      "\u001b[31m[E0369] Error:\u001b[0m binary operation `>` cannot be applied to type `&T`",
      "   \u001b[38;5;246m╭\u001b[0m\u001b[38;5;246m─\u001b[0m\u001b[38;5;246m[\u001b[0mcommand_16:1:1\u001b[38;5;246m]\u001b[0m",
      "   \u001b[38;5;246m│\u001b[0m",
      " \u001b[38;5;246m1 │\u001b[0m \u001b[38;5;249mf\u001b[0m\u001b[38;5;249mn\u001b[0m\u001b[38;5;249m \u001b[0m\u001b[38;5;249ml\u001b[0m\u001b[38;5;249ma\u001b[0m\u001b[38;5;249mr\u001b[0m\u001b[38;5;249mg\u001b[0m\u001b[38;5;249me\u001b[0m\u001b[38;5;249ms\u001b[0m\u001b[38;5;249mt\u001b[0m\u001b[38;5;249m<\u001b[0m\u001b[38;5;249mT\u001b[0m\u001b[38;5;249m>\u001b[0m\u001b[38;5;249m(\u001b[0m\u001b[38;5;249ml\u001b[0m\u001b[38;5;249mi\u001b[0m\u001b[38;5;249ms\u001b[0m\u001b[38;5;249mt\u001b[0m\u001b[38;5;249m:\u001b[0m\u001b[38;5;249m&\u001b[0m\u001b[38;5;249m[\u001b[0m\u001b[38;5;249mT\u001b[0m\u001b[38;5;249m]\u001b[0m\u001b[38;5;249m)\u001b[0m\u001b[38;5;249m-\u001b[0m\u001b[38;5;249m>\u001b[0m\u001b[38;5;249m&\u001b[0m\u001b[38;5;249mT\u001b[0m\u001b[38;5;249m{\u001b[0m",
      " \u001b[38;5;246m  ·\u001b[0m             \u001b[38;5;37m│\u001b[0m ",
      " \u001b[38;5;246m  ·\u001b[0m             \u001b[38;5;37m╰\u001b[0m\u001b[38;5;37m─\u001b[0m help: consider restricting type parameter `T`: `: std::cmp::PartialOrd`",
      " \u001b[38;5;246m  ·\u001b[0m ",
      " \u001b[38;5;246m4 │\u001b[0m \u001b[38;5;249m \u001b[0m\u001b[38;5;249m \u001b[0m\u001b[38;5;249m \u001b[0m\u001b[38;5;249m \u001b[0m\u001b[38;5;249m \u001b[0m\u001b[38;5;249m \u001b[0m\u001b[38;5;249m \u001b[0m\u001b[38;5;249m \u001b[0m\u001b[38;5;249mi\u001b[0m\u001b[38;5;249mf\u001b[0m\u001b[38;5;249m \u001b[0m\u001b[38;5;54mi\u001b[0m\u001b[38;5;54mt\u001b[0m\u001b[38;5;54me\u001b[0m\u001b[38;5;54mm\u001b[0m\u001b[38;5;249m \u001b[0m\u001b[38;5;68m>\u001b[0m\u001b[38;5;249m \u001b[0m\u001b[38;5;100ml\u001b[0m\u001b[38;5;100ma\u001b[0m\u001b[38;5;100mr\u001b[0m\u001b[38;5;100mg\u001b[0m\u001b[38;5;100me\u001b[0m\u001b[38;5;100ms\u001b[0m\u001b[38;5;100mt\u001b[0m\u001b[38;5;249m{\u001b[0m",
      " \u001b[38;5;246m  ·\u001b[0m            \u001b[38;5;54m─\u001b[0m\u001b[38;5;54m─\u001b[0m\u001b[38;5;54m┬\u001b[0m\u001b[38;5;54m─\u001b[0m \u001b[38;5;68m┬\u001b[0m \u001b[38;5;100m─\u001b[0m\u001b[38;5;100m─\u001b[0m\u001b[38;5;100m─\u001b[0m\u001b[38;5;100m┬\u001b[0m\u001b[38;5;100m─\u001b[0m\u001b[38;5;100m─\u001b[0m\u001b[38;5;100m─\u001b[0m  ",
      " \u001b[38;5;246m  ·\u001b[0m              \u001b[38;5;54m╰\u001b[0m\u001b[38;5;54m─\u001b[0m\u001b[38;5;54m─\u001b[0m\u001b[38;5;54m─\u001b[0m\u001b[38;5;54m─\u001b[0m\u001b[38;5;54m─\u001b[0m\u001b[38;5;54m─\u001b[0m\u001b[38;5;54m─\u001b[0m\u001b[38;5;54m─\u001b[0m\u001b[38;5;54m─\u001b[0m\u001b[38;5;54m─\u001b[0m\u001b[38;5;54m─\u001b[0m\u001b[38;5;54m─\u001b[0m\u001b[38;5;54m─\u001b[0m &T",
      " \u001b[38;5;246m  ·\u001b[0m                 \u001b[38;5;68m│\u001b[0m    \u001b[38;5;100m│\u001b[0m     ",
      " \u001b[38;5;246m  ·\u001b[0m                 \u001b[38;5;68m╰\u001b[0m\u001b[38;5;68m─\u001b[0m\u001b[38;5;68m─\u001b[0m\u001b[38;5;68m─\u001b[0m\u001b[38;5;68m─\u001b[0m\u001b[38;5;68m─\u001b[0m\u001b[38;5;68m─\u001b[0m\u001b[38;5;68m─\u001b[0m\u001b[38;5;68m─\u001b[0m\u001b[38;5;68m─\u001b[0m\u001b[38;5;68m─\u001b[0m error: binary operation `>` cannot be applied to type `&T`",
      " \u001b[38;5;246m  ·\u001b[0m                      \u001b[38;5;100m│\u001b[0m     ",
      " \u001b[38;5;246m  ·\u001b[0m                      \u001b[38;5;100m╰\u001b[0m\u001b[38;5;100m─\u001b[0m\u001b[38;5;100m─\u001b[0m\u001b[38;5;100m─\u001b[0m\u001b[38;5;100m─\u001b[0m\u001b[38;5;100m─\u001b[0m &T",
      "\u001b[38;5;246m───╯\u001b[0m"
     ]
    }
   ],
   "source": [
    "fn largest<T>(list:&[T])->&T{\n",
    "    let mut largest = &list[0];\n",
    "    for item in list{\n",
    "        if item > largest{\n",
    "            largest = item;\n",
    "        }\n",
    "    }\n",
    "    largest\n",
    "}\n",
    "\n",
    "{\n",
    "    let n_list = vec![34, 50, 25, 100, 65];\n",
    "    let result = largest(&n_list);\n",
    "    println!(\"The largest number is {}\", result);\n",
    "}"
   ]
  }
 ],
 "metadata": {
  "kernelspec": {
   "display_name": "Rust",
   "language": "rust",
   "name": "rust"
  },
  "language_info": {
   "codemirror_mode": "rust",
   "file_extension": ".rs",
   "mimetype": "text/rust",
   "name": "Rust",
   "pygment_lexer": "rust",
   "version": ""
  },
  "orig_nbformat": 4
 },
 "nbformat": 4,
 "nbformat_minor": 2
}
