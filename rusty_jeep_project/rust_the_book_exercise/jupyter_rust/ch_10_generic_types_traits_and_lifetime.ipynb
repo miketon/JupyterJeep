{
 "cells": [
  {
   "attachments": {},
   "cell_type": "markdown",
   "metadata": {},
   "source": [
    "Generic Types, Traits and Lifetime\n",
    "---\n",
    "\n",
    "Every programming language has tools for effectively handling the duplication of  \n",
    "concepts. In Rust, one such tool is generics: abstract stand-ins for concrete  \n",
    "types or other properties. We can express the behavior of generics or how they  \n",
    "relate to other generics without knowing what will be in their place when  \n",
    "compiling and running the code.  \n",
    "\n",
    "Functions can take parameters of some generic type, instead of a concrete type  \n",
    "like i32 or String, in the same way a function takes parameters with unknown  \n",
    "values to run the same code on multiple concrete values. In fact, we’ve already  \n",
    "used generics in Chapter 6 with Option<T>, Chapter 8 with Vec<T> and  \n",
    "HashMap<K, V>, and Chapter 9 with Result<T, E>. In this chapter, you’ll explore  \n",
    "how to define your own types, functions, and methods with generics!  \n",
    "\n",
    "First, we’ll review how to extract a function to reduce code duplication. We’ll  \n",
    "then use the same technique to make a generic function from two functions that  \n",
    "differ only in the types of their parameters. We’ll also explain how to use  \n",
    "generic types in struct and enum definitions.  \n",
    "\n",
    "Then you’ll learn how to use traits to define behavior in a generic way. You  \n",
    "can combine traits with generic types to constrain a generic type to accept only  \n",
    "those types that have a particular behavior, as opposed to just any type.  \n",
    "\n",
    "Finally, we’ll discuss lifetimes: a variety of generics that give the compiler  \n",
    "information about how references relate to each other. Lifetimes allow us to  \n",
    "give the compiler enough information about borrowed values so that it can ensure  \n",
    "references will be valid in more situations than it could without our help.  "
   ]
  },
  {
   "attachments": {},
   "cell_type": "markdown",
   "metadata": {},
   "source": [
    "### Removing Duplication by Extracting a Function\n",
    "\n",
    "Generics allow us to replace specific types with a placeholder that represents  \n",
    "multiple types to remove code duplication. Before diving into generics syntax,  \n",
    "then, let’s first look at how to remove duplication in a way that doesn’t  \n",
    "involve generic types by extracting a function that replaces specific values  \n",
    "with a placeholder that represents multiple values. Then we’ll apply the same  \n",
    "technique to extract a generic function! By looking at how to recognize  \n",
    "duplicated code you can extract into a function, you’ll start to recognize  \n",
    "duplicated code that can use generics.\n",
    "\n",
    "We begin with the short program in Listing 10-1 that finds the largest number in  \n",
    "a list.\n",
    "\n",
    "> Filename: src/main.rs"
   ]
  },
  {
   "cell_type": "code",
   "execution_count": 2,
   "metadata": {
    "vscode": {
     "languageId": "rust"
    }
   },
   "outputs": [
    {
     "name": "stdout",
     "output_type": "stream",
     "text": [
      "The largest number is 100\n"
     ]
    },
    {
     "data": {
      "text/plain": [
       "()"
      ]
     },
     "execution_count": 2,
     "metadata": {},
     "output_type": "execute_result"
    }
   ],
   "source": [
    "{   // begin block closure\n",
    "    let number_list = vec![34, 50, 25, 100, 65]; // number_list comes into scope and\n",
    "                                                 // gets ownership of the vector, so\n",
    "                                                 // is responsible for releasing it\n",
    "                                                 // - `number_list` is stored on the stack\n",
    "                                                 // it contains meta data about the vector\n",
    "                                                 // wrt to length and capacity of the ACTUAL\n",
    "                                                 // VALUE on the HEAP\n",
    "\n",
    "    let mut largest = &number_list[0];  // largest comes into scope\n",
    "                                        // we don't take ownership of the vector,\n",
    "                                        // we borrow a reference to it\n",
    "                                        // largest stores this reference on the stack\n",
    "\n",
    "    for number in &number_list {    // looping over an immutable reference to &number_list\n",
    "                                    // - by using a reference we AVOID loop taking ownership of\n",
    "                                    // the number_list vector, so we can use it later (println!)\n",
    "                                    // - the loop will create an immutable reference `number` to\n",
    "                                    // each element in the vector\n",
    "        if number > largest {       // we compare `number` to `largest`\n",
    "                                    // - because both are references, Rust automatically\n",
    "                                    // dereferences each value for comparison thanks to `deref` trait\n",
    "            largest = number;       // if current `number` is larger than `largest`\n",
    "                                    // - we update the mutable reference `largest` to point to\n",
    "                                    // the current `number` reference\n",
    "                                    // - we DO NOT move OWNERSHIP, instead we only update the REFERENCE\n",
    "        }\n",
    "    }\n",
    "\n",
    "    println!(\"The largest number is {}\", largest);\n",
    "\n",
    "}   // exit block closure\n",
    "    // largest goes out of scope, and are released : it is a reference so no heap changes\n",
    "    // number_list goes out of scope, and is released from memory\n",
    "    // - the vector meta data wrt to length and capacity is released from the stack\n",
    "    // - Rust automatically calls the `drop` function to release the VECTOR's VALUE\n",
    "    // from the HEAP"
   ]
  },
  {
   "attachments": {},
   "cell_type": "markdown",
   "metadata": {},
   "source": [
    "> Listing 10-1: Finding the largest number in a list of numbers\n",
    "\n",
    "We store a list of integers in the variable `number_list` and place a reference to  \n",
    "the first number in the list in a variable named `largest`. We then iterate  \n",
    "through all the numbers in the list, and if the current number is greater than  \n",
    "the number stored in `largest`, replace the reference in that variable. However,  \n",
    "if the current number is less than or equal to the largest number seen so far,  \n",
    "the variable doesn’t change, and the code moves on to the next number in the  \n",
    "list. After considering all the numbers in the list, `largest` should refer to  \n",
    "the largest number, which in this case is 100.  "
   ]
  },
  {
   "attachments": {},
   "cell_type": "markdown",
   "metadata": {},
   "source": [
    "We've now been tasked with finding the largest number in two different lists of  \n",
    "numbers. To do so, we can choose to duplicate the code in Listing 10-1 and use  \n",
    "the same logic at two different places in the program, as shown in Listing 10-2.  \n",
    "\n",
    "> Filename: src/main.rs"
   ]
  },
  {
   "cell_type": "code",
   "execution_count": 4,
   "metadata": {
    "vscode": {
     "languageId": "rust"
    }
   },
   "outputs": [
    {
     "name": "stdout",
     "output_type": "stream",
     "text": [
      "The largest number is 100\n",
      "The largest number is 6000\n"
     ]
    },
    {
     "data": {
      "text/plain": [
       "()"
      ]
     },
     "execution_count": 4,
     "metadata": {},
     "output_type": "execute_result"
    }
   ],
   "source": [
    "{   // Bloc comes into scope\n",
    "    let number_list = vec![34, 50, 25, 100, 65]; // (a) shadowed\n",
    "\n",
    "    let mut largest = &number_list[0];  // (a) shadowed\n",
    "\n",
    "    for number in &number_list { // number is an immutable reference to each element in the vector\n",
    "        if number > largest {    // rust automatically dereferences `number` and `largest`\n",
    "                                 // to compare because they are BOTH references\n",
    "                                 // deref coercion REQUIRES that BOTH are `number` and `largest`\n",
    "                                 // are references, else YOU must manually * dereference\n",
    "            largest = number;    // this is NOT DEREF COERCION ...\n",
    "                                 // but because both are &i32 references, they can DIRECTLY be\n",
    "                                 // ASSIGNED without DEREFERENCING\n",
    "        }\n",
    "    }\n",
    "\n",
    "    println!(\"The largest number is {}\", largest);\n",
    "\n",
    "    let number_list = vec![102, 34, 6000, 89, 54, 2, 43, 8]; // (b) shadowing\n",
    "\n",
    "    let mut largest = &number_list[0];  // (b) shadowing\n",
    "\n",
    "    for number in &number_list{\n",
    "        if number > largest {\n",
    "            largest = number;\n",
    "        }\n",
    "    }\n",
    "\n",
    "    println!(\"The largest number is {}\", largest);\n",
    "}   // Block leaves scope\n",
    "    // on block end, Rust automatically deallocates memory and cleans up variables\n",
    "    // that go out of scope ... including their shadows, here's the order of op:\n",
    "    // - `largest` (b) goes out of scope, it is a reference and are popped of the stack\n",
    "    // no heap changes are applied, the memory it refs is owned by `number_list` (b)\n",
    "    // vector and will get cleaned up when that is released\n",
    "    // - `number_list` (b) goes out of scope, the vector ref containing meta data\n",
    "    // wrt to length and capacity is popped off the stack\n",
    "    // the actual VECTOR VALUE is released from the HEAP when RUST calls `drop`\n",
    "    // - `largest` (a) goes out of scope, it is a reference and are popped of the stack\n",
    "    // no heap changes are applied, the memory it refs is owned by `number_list` (a)\n",
    "    // vector and will get cleaned up when that is released\n",
    "    // - `number_list` (a) goes out of scope, the vector ref containing meta data\n",
    "    // wrt to length and capacity is popped off the stack\n",
    "    // the actual VECTOR VALUE is released from the HEAP when RUST calls `drop`\n",
    "\n"
   ]
  },
  {
   "attachments": {},
   "cell_type": "markdown",
   "metadata": {},
   "source": [
    "> Listing 10-2: Code to find the largest number in two lists of numbers\n",
    "\n",
    "Although this code works, duplicating code is tedious and error prone. We also  \n",
    "have to remember to **`update the code in multiple places`** when we want to  \n",
    "change it."
   ]
  },
  {
   "attachments": {},
   "cell_type": "markdown",
   "metadata": {},
   "source": [
    "To eliminate this duplication, we’ll create an abstraction by defining a  \n",
    "function that operates on any list of integers passed in a parameter. This  \n",
    "solution makes our code clearer and lets us express the concept of finding the  \n",
    "largest number in a list abstractly.\n",
    "\n",
    "In Listing 10-3, we extract the code that finds the largest number into a  \n",
    "function named largest. Then we call the function to find the largest number  \n",
    "in the two lists from Listing 10-2. We could also use the function on any other  \n",
    "list of i32 values we might have in the future.\n",
    "\n",
    "> Filename: src/main.rs\n",
    "\n"
   ]
  },
  {
   "cell_type": "code",
   "execution_count": 5,
   "metadata": {
    "vscode": {
     "languageId": "rust"
    }
   },
   "outputs": [
    {
     "name": "stdout",
     "output_type": "stream",
     "text": [
      "The largest number is 100\n",
      "The largest number is 6000\n"
     ]
    },
    {
     "data": {
      "text/plain": [
       "()"
      ]
     },
     "execution_count": 5,
     "metadata": {},
     "output_type": "execute_result"
    }
   ],
   "source": [
    "fn largest(list: &[i32])-> &i32 {\n",
    "    let mut largest = &list[0];\n",
    "\n",
    "    for number in list {\n",
    "        if number > largest {\n",
    "            largest = number;\n",
    "        }\n",
    "    }\n",
    "\n",
    "    largest\n",
    "}\n",
    "\n",
    "{\n",
    "    let number_list = vec![34, 50, 25, 100, 65];\n",
    "    let result = largest(&number_list);\n",
    "    println!(\"The largest number is {}\", result);\n",
    "\n",
    "    let number_list = vec![102, 34, 6000, 89, 54, 2, 43, 8];\n",
    "    let result = largest(&number_list);\n",
    "    println!(\"The largest number is {}\", result);\n",
    "}"
   ]
  },
  {
   "attachments": {},
   "cell_type": "markdown",
   "metadata": {},
   "source": [
    "> Listing 10-3: Abstracted code to find the largest number in two lists\n",
    "\n",
    "The largest function has a parameter called list, which represents any concrete  \n",
    "slice of i32 values we might pass into the function. As a result, when we call  \n",
    "the function, the code runs on the specific values that we pass in.\n",
    "\n"
   ]
  },
  {
   "attachments": {},
   "cell_type": "markdown",
   "metadata": {},
   "source": [
    "In summary, here are the steps we took to change the code from Listing 10-2 to  \n",
    "Listing 10-3:\n",
    "\n",
    "- Identify duplicate code.  \n",
    "- Extract the duplicate code into the body of the function and specify the  \n",
    "inputs and return values of that code in the function signature.  \n",
    "- Update the two instances of duplicated code to call the function instead.  \n",
    "\n",
    "Next, we’ll use these same steps with generics to reduce code duplication. In  \n",
    "the same way that the function body can operate on an abstract list instead of  \n",
    "specific values, generics allow code to operate on abstract types.  \n",
    "\n",
    "For example, say we had two functions: one that finds the largest item in a  \n",
    "slice of i32 values and one that finds the largest item in a slice of char  \n",
    "values. How would we eliminate that duplication? Let’s find out!  "
   ]
  },
  {
   "attachments": {},
   "cell_type": "markdown",
   "metadata": {},
   "source": [
    "Generic Data Types\n",
    "---\n",
    "\n",
    "We use generics to create definitions for items like function signatures or  \n",
    "structs, which we can then use with many different concrete data types. Let’s  \n",
    "first look at how to define functions, structs, enums, and methods using  \n",
    "generics. Then we’ll discuss how generics affect code performance.  "
   ]
  },
  {
   "attachments": {},
   "cell_type": "markdown",
   "metadata": {},
   "source": [
    "### In Function Definitions\n",
    "\n",
    "When defining a function that uses generics, we place the generics in the  \n",
    "signature of the function where we would usually specify the data types of the  \n",
    "parameters and return value. Doing so makes our code more flexible and provides  \n",
    "more functionality to callers of our function while preventing code duplication.  \n",
    "\n",
    "Continuing with our largest function, Listing 10-4 shows two functions that both  \n",
    "find the largest value in a slice. We'll then combine these into a single  \n",
    "function that uses generics.  \n",
    "\n",
    "> Filename: src/main.rs"
   ]
  },
  {
   "cell_type": "code",
   "execution_count": 10,
   "metadata": {
    "vscode": {
     "languageId": "rust"
    }
   },
   "outputs": [
    {
     "name": "stdout",
     "output_type": "stream",
     "text": [
      "The largest number is 100\n",
      "The largest char is y\n"
     ]
    },
    {
     "data": {
      "text/plain": [
       "()"
      ]
     },
     "execution_count": 10,
     "metadata": {},
     "output_type": "execute_result"
    }
   ],
   "source": [
    "fn largest_i32(list: &[i32])-> &i32 {\n",
    "    let mut largest = &list[0];\n",
    "\n",
    "    for item in list{\n",
    "        if item > largest{\n",
    "            largest = item;\n",
    "        }\n",
    "    }\n",
    "    largest\n",
    "}\n",
    "\n",
    "fn largest_char(list: &[char])-> &char{\n",
    "    let mut largest = &list[0];\n",
    "\n",
    "    for item in list{\n",
    "        if item > largest{\n",
    "            largest = item;\n",
    "        }\n",
    "    }\n",
    "    largest\n",
    "}\n",
    "\n",
    "{\n",
    "    let n_list = vec![34, 50, 25, 100, 65];\n",
    "    let result = largest_i32(&n_list);\n",
    "    println!(\"The largest number is {}\", result);\n",
    "\n",
    "    let n_list = vec!['y', 'm', 'a', 'q'];  // shadowing allows swithc from i32 to char\n",
    "    let result = largest_char(&n_list);     // same shaodow to re-use the same value names\n",
    "    println!(\"The largest char is {}\", result);\n",
    "}"
   ]
  },
  {
   "attachments": {},
   "cell_type": "markdown",
   "metadata": {},
   "source": [
    "> Listing 10-4: Two functions that differ only in their names and the types in  \n",
    "their signatures\n",
    "\n",
    "- The largest_i32 function is the one we extracted in Listing 10-3 that finds  \n",
    "the largest i32 in a slice. \n",
    "- The largest_char function finds the largest char in a slice. \n",
    "\n",
    "> The function bodies have the same code, so let’s eliminate the duplication by  \n",
    "introducing a generic type parameter in a single function."
   ]
  },
  {
   "attachments": {},
   "cell_type": "markdown",
   "metadata": {},
   "source": [
    "To parameterize the types in a new single function, we need to name the type  \n",
    "parameter, just as we do for the value parameters to a function. You can use any  \n",
    "identifier as a type parameter name. But we’ll use T because, by convention,  \n",
    "type parameter names in Rust are short, often just a letter, and Rust’s  \n",
    "type-naming convention is UpperCamelCase. Short for “type,” T is the default  \n",
    "choice of most Rust programmers.\n",
    "\n",
    "When we use a parameter in the body of the function, we have to declare the  \n",
    "parameter name in the signature so the compiler knows what that name means.  \n",
    "Similarly, when we use a type parameter name in a function signature, we have  \n",
    "to declare the type parameter name before we use it. To define the generic  \n",
    "largest function, place type name declarations inside angle brackets, <>,  \n",
    "between the name of the function and the parameter list, like this:"
   ]
  },
  {
   "cell_type": "code",
   "execution_count": 15,
   "metadata": {
    "vscode": {
     "languageId": "rust"
    }
   },
   "outputs": [],
   "source": [
    "fn largest<T>(list:&[T])-> Option<&T> { None }"
   ]
  },
  {
   "attachments": {},
   "cell_type": "markdown",
   "metadata": {},
   "source": [
    "We read this definition as: the function largest is generic over some type T.  \n",
    "This function has one parameter named list, which is a slice of values of type  \n",
    "T. The largest function will return a reference to a value of the same type T.  \n",
    "\n",
    "Listing 10-5 shows the combined largest function definition using the generic  \n",
    "data type in its signature. The listing also shows how we can call the function  \n",
    "with either a slice of i32 values or char values. Note that this code won’t  \n",
    "compile yet, but we’ll fix it later in this chapter.\n",
    "\n",
    "> Filename: src/main.rs"
   ]
  },
  {
   "cell_type": "code",
   "execution_count": 19,
   "metadata": {
    "vscode": {
     "languageId": "rust"
    }
   },
   "outputs": [
    {
     "ename": "Error",
     "evalue": "binary operation `>` cannot be applied to type `&T`",
     "output_type": "error",
     "traceback": [
      "\u001b[31m[E0369] Error:\u001b[0m binary operation `>` cannot be applied to type `&T`",
      "   \u001b[38;5;246m╭\u001b[0m\u001b[38;5;246m─\u001b[0m\u001b[38;5;246m[\u001b[0mcommand_19:1:1\u001b[38;5;246m]\u001b[0m",
      "   \u001b[38;5;246m│\u001b[0m",
      " \u001b[38;5;246m4 │\u001b[0m \u001b[38;5;249mf\u001b[0m\u001b[38;5;249mn\u001b[0m\u001b[38;5;249m \u001b[0m\u001b[38;5;249ml\u001b[0m\u001b[38;5;249ma\u001b[0m\u001b[38;5;249mr\u001b[0m\u001b[38;5;249mg\u001b[0m\u001b[38;5;249me\u001b[0m\u001b[38;5;249ms\u001b[0m\u001b[38;5;249mt\u001b[0m\u001b[38;5;249m<\u001b[0m\u001b[38;5;249mT\u001b[0m\u001b[38;5;249m>\u001b[0m\u001b[38;5;249m(\u001b[0m\u001b[38;5;249ml\u001b[0m\u001b[38;5;249mi\u001b[0m\u001b[38;5;249ms\u001b[0m\u001b[38;5;249mt\u001b[0m\u001b[38;5;249m:\u001b[0m\u001b[38;5;249m&\u001b[0m\u001b[38;5;249m[\u001b[0m\u001b[38;5;249mT\u001b[0m\u001b[38;5;249m]\u001b[0m\u001b[38;5;249m)\u001b[0m\u001b[38;5;249m-\u001b[0m\u001b[38;5;249m>\u001b[0m\u001b[38;5;249m&\u001b[0m\u001b[38;5;249mT\u001b[0m\u001b[38;5;249m{\u001b[0m",
      " \u001b[38;5;246m  ·\u001b[0m             \u001b[38;5;37m│\u001b[0m ",
      " \u001b[38;5;246m  ·\u001b[0m             \u001b[38;5;37m╰\u001b[0m\u001b[38;5;37m─\u001b[0m help: consider restricting type parameter `T`: `: std::cmp::PartialOrd`",
      " \u001b[38;5;246m  ·\u001b[0m ",
      " \u001b[38;5;246m7 │\u001b[0m \u001b[38;5;249m \u001b[0m\u001b[38;5;249m \u001b[0m\u001b[38;5;249m \u001b[0m\u001b[38;5;249m \u001b[0m\u001b[38;5;249m \u001b[0m\u001b[38;5;249m \u001b[0m\u001b[38;5;249m \u001b[0m\u001b[38;5;249m \u001b[0m\u001b[38;5;249mi\u001b[0m\u001b[38;5;249mf\u001b[0m\u001b[38;5;249m \u001b[0m\u001b[38;5;54mi\u001b[0m\u001b[38;5;54mt\u001b[0m\u001b[38;5;54me\u001b[0m\u001b[38;5;54mm\u001b[0m\u001b[38;5;249m \u001b[0m\u001b[38;5;68m>\u001b[0m\u001b[38;5;249m \u001b[0m\u001b[38;5;100ml\u001b[0m\u001b[38;5;100ma\u001b[0m\u001b[38;5;100mr\u001b[0m\u001b[38;5;100mg\u001b[0m\u001b[38;5;100me\u001b[0m\u001b[38;5;100ms\u001b[0m\u001b[38;5;100mt\u001b[0m\u001b[38;5;249m{\u001b[0m",
      " \u001b[38;5;246m  ·\u001b[0m            \u001b[38;5;54m─\u001b[0m\u001b[38;5;54m─\u001b[0m\u001b[38;5;54m┬\u001b[0m\u001b[38;5;54m─\u001b[0m \u001b[38;5;68m┬\u001b[0m \u001b[38;5;100m─\u001b[0m\u001b[38;5;100m─\u001b[0m\u001b[38;5;100m─\u001b[0m\u001b[38;5;100m┬\u001b[0m\u001b[38;5;100m─\u001b[0m\u001b[38;5;100m─\u001b[0m\u001b[38;5;100m─\u001b[0m  ",
      " \u001b[38;5;246m  ·\u001b[0m              \u001b[38;5;54m╰\u001b[0m\u001b[38;5;54m─\u001b[0m\u001b[38;5;54m─\u001b[0m\u001b[38;5;54m─\u001b[0m\u001b[38;5;54m─\u001b[0m\u001b[38;5;54m─\u001b[0m\u001b[38;5;54m─\u001b[0m\u001b[38;5;54m─\u001b[0m\u001b[38;5;54m─\u001b[0m\u001b[38;5;54m─\u001b[0m\u001b[38;5;54m─\u001b[0m\u001b[38;5;54m─\u001b[0m\u001b[38;5;54m─\u001b[0m\u001b[38;5;54m─\u001b[0m &T",
      " \u001b[38;5;246m  ·\u001b[0m                 \u001b[38;5;68m│\u001b[0m    \u001b[38;5;100m│\u001b[0m     ",
      " \u001b[38;5;246m  ·\u001b[0m                 \u001b[38;5;68m╰\u001b[0m\u001b[38;5;68m─\u001b[0m\u001b[38;5;68m─\u001b[0m\u001b[38;5;68m─\u001b[0m\u001b[38;5;68m─\u001b[0m\u001b[38;5;68m─\u001b[0m\u001b[38;5;68m─\u001b[0m\u001b[38;5;68m─\u001b[0m\u001b[38;5;68m─\u001b[0m\u001b[38;5;68m─\u001b[0m\u001b[38;5;68m─\u001b[0m error: binary operation `>` cannot be applied to type `&T`",
      " \u001b[38;5;246m  ·\u001b[0m                      \u001b[38;5;100m│\u001b[0m     ",
      " \u001b[38;5;246m  ·\u001b[0m                      \u001b[38;5;100m╰\u001b[0m\u001b[38;5;100m─\u001b[0m\u001b[38;5;100m─\u001b[0m\u001b[38;5;100m─\u001b[0m\u001b[38;5;100m─\u001b[0m\u001b[38;5;100m─\u001b[0m &T",
      "\u001b[38;5;246m───╯\u001b[0m"
     ]
    }
   ],
   "source": [
    "// restrict T to types that implement the PartialOrd trait\n",
    "// - both i32 and char implement PartialOrd and this will allow code to compile\n",
    "// fn largest<T: std::cmp::PartialOrd>(list:&[T])->&T{\n",
    "fn largest<T>(list:&[T])->&T{\n",
    "    let mut largest = &list[0];\n",
    "    for item in list{\n",
    "        if item > largest{\n",
    "            largest = item;\n",
    "        }\n",
    "    }\n",
    "    largest\n",
    "}\n",
    "\n",
    "{\n",
    "    let n_list = vec![34, 50, 25, 100, 65];\n",
    "    let result = largest(&n_list);\n",
    "    println!(\"The largest number is {}\", result);\n",
    "\n",
    "    let n_list = vec!['y', 'm', 'a', 'q'];\n",
    "    let result = largest(&n_list);\n",
    "    println!(\"The largest char is {}\", result);\n",
    "}"
   ]
  },
  {
   "attachments": {},
   "cell_type": "markdown",
   "metadata": {},
   "source": [
    "> Listing 10-5: The largest function using generic type parameters; this  \n",
    "doesn’t yet compile\n",
    "\n",
    "If we compile this code right now, we’ll get this error:\n",
    "\n",
    "```sh\n",
    "$ cargo run\n",
    "   Compiling chapter10 v0.1.0 (file:///projects/chapter10)\n",
    "error[E0369]: binary operation `>` cannot be applied to type `&T`\n",
    " --> src/main.rs:5:17\n",
    "  |\n",
    "5 |         if item > largest {\n",
    "  |            ---- ^ ------- &T\n",
    "  |            |\n",
    "  |            &T\n",
    "  |\n",
    "help: consider restricting type parameter `T`\n",
    "  |\n",
    "1 | fn largest<T: std::cmp::PartialOrd>(list: &[T]) -> &T {\n",
    "  |             ++++++++++++++++++++++\n",
    "\n",
    "For more information about this error, try `rustc --explain E0369`.\n",
    "error: could not compile `chapter10` due to previous error\n",
    "```\n",
    "\n",
    "The help text mentions std::cmp::PartialOrd, which is a trait, and we’re going  \n",
    "to talk about traits in the next section. For now, know that this error states  \n",
    "that the body of largest won’t work for all possible types that T could be.  \n",
    "Because we want to compare values of type T in the body, we can only use types  \n",
    "whose values can be ordered. To enable comparisons, the standard library has  \n",
    "the std::cmp::PartialOrd trait that you can implement on types (see Appendix C  \n",
    "for more on this trait). By following the help text's suggestion, we restrict  \n",
    "the types valid for T to only those that implement PartialOrd and this example  \n",
    "will compile, because the standard library implements PartialOrd on both  \n",
    "i32 and char."
   ]
  },
  {
   "attachments": {},
   "cell_type": "markdown",
   "metadata": {},
   "source": [
    "### In Struct Definitions\n",
    "\n",
    "We can also define structs to use a generic type parameter in one or more fields  \n",
    "using the <> syntax. Listing 10-6 defines a Point<T> struct to hold x and y  \n",
    "coordinate values of any type.\n",
    "\n",
    "> Filename: src/main.rs"
   ]
  },
  {
   "cell_type": "code",
   "execution_count": 26,
   "metadata": {
    "vscode": {
     "languageId": "rust"
    }
   },
   "outputs": [
    {
     "name": "stdout",
     "output_type": "stream",
     "text": [
      "integer = Point { x: 5, y: 10 } float = Point { x: 1.0, y: 4.0 }\n"
     ]
    },
    {
     "data": {
      "text/plain": [
       "()"
      ]
     },
     "execution_count": 26,
     "metadata": {},
     "output_type": "execute_result"
    }
   ],
   "source": [
    "#[derive(Debug)]\n",
    "struct Point<T>{\n",
    "    x:T,\n",
    "    y:T,\n",
    "}\n",
    "\n",
    "{\n",
    "    let integer = Point{x:5, y:10};\n",
    "    let float = Point{x:1.0, y:4.0};\n",
    "    println!(\"integer = {:?} float = {:?}\", integer, float);\n",
    "}"
   ]
  },
  {
   "attachments": {},
   "cell_type": "markdown",
   "metadata": {},
   "source": [
    "> I will explain the given Rust code snippet line by line, focusing on ownership,  \n",
    "borrowing, and stack and heap changes:\n",
    "\n",
    "```rust\n",
    "#[derive(Debug)]               // Line 1\n",
    "struct Point<T> {              // Line 2\n",
    "    x: T,                      // Line 3\n",
    "    y: T,                      // Line 4\n",
    "}                              // Line 5\n",
    "\n",
    "{                              // Line 6\n",
    "    let integer = Point {      // Line 7\n",
    "        x: 5,                  // Line 8\n",
    "        y: 10,                 // Line 9\n",
    "    };                         // Line 10\n",
    "    let float = Point {        // Line 11\n",
    "        x: 1.0,                // Line 12\n",
    "        y: 4.0,                // Line 13\n",
    "    };                         // Line 14\n",
    "    println!(\"integer = {:?} float = {:?}\", integer, float); // Line 15\n",
    "}                              // Line 16\n",
    "```\n",
    "\n",
    "**Line 1**: We use the `derive` attribute to automatically implement the `Debug`  \n",
    "trait for the `Point` struct. This allows instances of `Point` to be printed using the `{:?}` format specifier.\n",
    "\n",
    "**Lines 2-5**: We define a generic struct called `Point` with a type parameter  \n",
    "`T`. The struct has two fields, `x` and `y`, both of the generic type `T`.\n",
    "\n",
    "**Line 6**: We start a new block scope. Variables created within this block will  \n",
    "be dropped when the block ends at Line 16.\n",
    "\n",
    "**Lines 7-10**: We create a new instance of `Point` with `i32` type called  \n",
    "`integer`, with `x` set to 5 and `y` set to 10. The `integer` variable is stored  \n",
    "on the stack, containing the `x` and `y` values directly since they are of type  \n",
    "`i32`, which is a stack-allocated type.\n",
    "\n",
    "**Lines 11-14**: We create a new instance of `Point` with `f64` type called  \n",
    "`float`, with `x` set to 1.0 and `y` set to 4.0. Like `integer`, the `float`  \n",
    "variable is stored on the stack, containing the `x` and `y` values directly  \n",
    "since they are of type `f64`, which is also a stack-allocated type.\n",
    "\n",
    "**Line 15**: We print the `integer` and `float` variables using the `println!`  \n",
    "macro and the `Debug` formatting. Since both variables are still in scope and  \n",
    "valid, this operation is allowed.\n",
    "\n",
    "**Line 16**: This is the end of the block scope. At this point, Rust drops any  \n",
    "remaining variables in reverse order of their creation. First, `float` is  \n",
    "dropped, and then `integer` is dropped. No heap memory is deallocated in this  \n",
    "example, as both instances of `Point` use stack-allocated types (`i32` and `f64`).\n",
    "\n",
    "> In this code snippet, we don't have any explicit ownership transfers or  \n",
    "borrowing. The ownership of the `Point` instances stays within their respective  \n",
    "variables, `integer` and `float`, throughout the block scope."
   ]
  },
  {
   "attachments": {},
   "cell_type": "markdown",
   "metadata": {},
   "source": [
    "> Listing 10-6: A Point<T> struct that holds x and y values of type T\n",
    "\n",
    "The syntax for using generics in struct definitions is similar to that used in  \n",
    "function definitions. First, we declare the name of the type parameter inside  \n",
    "angle brackets just after the name of the struct. Then we use the generic type  \n",
    "in the struct definition where we would otherwise specify concrete data types."
   ]
  },
  {
   "attachments": {},
   "cell_type": "markdown",
   "metadata": {},
   "source": [
    "Note that because we’ve used only one generic type to define Point<T>, this  \n",
    "definition says that the Point<T> struct is generic over some type T, and the  \n",
    "fields x and y are both that same type, whatever that type may be. If we create  \n",
    "an instance of a Point<T> that has values of different types, as in  \n",
    "Listing 10-7, our code won’t compile.\n",
    "\n",
    "> Filename: src/main.rs"
   ]
  },
  {
   "cell_type": "code",
   "execution_count": 27,
   "metadata": {
    "vscode": {
     "languageId": "rust"
    }
   },
   "outputs": [
    {
     "ename": "Error",
     "evalue": "mismatched types",
     "output_type": "error",
     "traceback": [
      "\u001b[31m[E0308] Error:\u001b[0m mismatched types",
      "   \u001b[38;5;246m╭\u001b[0m\u001b[38;5;246m─\u001b[0m\u001b[38;5;246m[\u001b[0mcommand_27:1:1\u001b[38;5;246m]\u001b[0m",
      "   \u001b[38;5;246m│\u001b[0m",
      " \u001b[38;5;246m7 │\u001b[0m \u001b[38;5;249m \u001b[0m\u001b[38;5;249m \u001b[0m\u001b[38;5;249m \u001b[0m\u001b[38;5;249m \u001b[0m\u001b[38;5;249ml\u001b[0m\u001b[38;5;249me\u001b[0m\u001b[38;5;249mt\u001b[0m\u001b[38;5;249m \u001b[0m\u001b[38;5;249mw\u001b[0m\u001b[38;5;249mo\u001b[0m\u001b[38;5;249mn\u001b[0m\u001b[38;5;249mt\u001b[0m\u001b[38;5;249m_\u001b[0m\u001b[38;5;249mw\u001b[0m\u001b[38;5;249mo\u001b[0m\u001b[38;5;249mr\u001b[0m\u001b[38;5;249mk\u001b[0m\u001b[38;5;249m \u001b[0m\u001b[38;5;249m=\u001b[0m\u001b[38;5;249m \u001b[0m\u001b[38;5;249mP\u001b[0m\u001b[38;5;249mo\u001b[0m\u001b[38;5;249mi\u001b[0m\u001b[38;5;249mn\u001b[0m\u001b[38;5;249mt\u001b[0m\u001b[38;5;249m{\u001b[0m\u001b[38;5;249mx\u001b[0m\u001b[38;5;249m:\u001b[0m\u001b[38;5;249m5\u001b[0m\u001b[38;5;249m,\u001b[0m\u001b[38;5;249m \u001b[0m\u001b[38;5;249my\u001b[0m\u001b[38;5;249m:\u001b[0m\u001b[38;5;54m4\u001b[0m\u001b[38;5;54m.\u001b[0m\u001b[38;5;54m0\u001b[0m\u001b[38;5;249m}\u001b[0m\u001b[38;5;249m;\u001b[0m",
      " \u001b[38;5;246m  ·\u001b[0m                                  \u001b[38;5;54m─\u001b[0m\u001b[38;5;54m┬\u001b[0m\u001b[38;5;54m─\u001b[0m  ",
      " \u001b[38;5;246m  ·\u001b[0m                                   \u001b[38;5;54m╰\u001b[0m\u001b[38;5;54m─\u001b[0m\u001b[38;5;54m─\u001b[0m\u001b[38;5;54m─\u001b[0m expected integer, found floating-point number",
      "\u001b[38;5;246m───╯\u001b[0m"
     ]
    }
   ],
   "source": [
    "struct Point<T> {\n",
    "    x: T,\n",
    "    y: T,\n",
    "}\n",
    "\n",
    "{\n",
    "    let wont_work = Point{x:5, y:4.0};\n",
    "}"
   ]
  },
  {
   "attachments": {},
   "cell_type": "markdown",
   "metadata": {},
   "source": [
    "> Listing 10-7: The fields x and y must be the same type because both have the  \n",
    "same generic data type T.\n",
    "\n",
    "In this example, when we assign the integer value 5 to x, we let the compiler  \n",
    "know that the generic type T will be an integer for this instance of Point<T>.  \n",
    "Then when we specify 4.0 for y, which we’ve defined to have the same type as x, \n",
    " we’ll get a type mismatch error like this:\n",
    "\n",
    "```sh\n",
    "$ cargo run\n",
    "   Compiling chapter10 v0.1.0 (file:///projects/chapter10)\n",
    "error[E0308]: mismatched types\n",
    " --> src/main.rs:7:38\n",
    "  |\n",
    "7 |     let wont_work = Point { x: 5, y: 4.0 };\n",
    "  |                                      ^^^ expected integer, found floating-point number\n",
    "\n",
    "For more information about this error, try `rustc --explain E0308`.\n",
    "error: could not compile `chapter10` due to previous error\n",
    "```\n",
    "To define a Point struct where x and y are both generics but could have  \n",
    "different types, we can use multiple generic type parameters. For example, in  \n",
    "Listing 10-8, we change the definition of Point to be generic over types T and  \n",
    "U where x is of type T and y is of type U.  \n",
    "\n",
    "> Filename: src/main.rs\n"
   ]
  },
  {
   "cell_type": "code",
   "execution_count": 34,
   "metadata": {
    "vscode": {
     "languageId": "rust"
    }
   },
   "outputs": [
    {
     "name": "stdout",
     "output_type": "stream",
     "text": [
      "both_integer = Point { x: 5, y: 10 }\n",
      "integer_and_float = Point { x: 5, y: 4.0 }\n"
     ]
    },
    {
     "data": {
      "text/plain": [
       "()"
      ]
     },
     "execution_count": 34,
     "metadata": {},
     "output_type": "execute_result"
    }
   ],
   "source": [
    "#[derive(Debug)]    // allows instnaces of Point to be printed using {:?} specifier\n",
    "                    // by automatically implementing the std::fmt::Debug trait\n",
    "                    // using the derive attribute\n",
    "\n",
    "struct Point<T,U>{  // define a generic struct Point with type parameters T and U\n",
    "    x:T,            // this supports x and y holding values of different types\n",
    "    y:U,\n",
    "}\n",
    "\n",
    "{                   // new block scope begin\n",
    "    let both_integer = Point{x:5, y:10};    // both_integer of type Point<i32, i32>\n",
    "                                            // comes into scope ... and since \n",
    "                                            // - both i32 are are stack allocated\n",
    "                                            // no heap allocation is required\n",
    "\n",
    "    let both_float = Point{x:1.0, y:4.0};   // both_float of type Point<f32, f32>\n",
    "                                            // comes into scope ... and since\n",
    "                                            // - both f32 are stack allocated\n",
    "                                            // no heap allocation is required\n",
    "\n",
    "    let int_n_flt = Point{x:5, y:4.0};      // int_n_flt of type Point<i32, f32>\n",
    "                                            // comes into scope ... and since\n",
    "                                            // - i32 is stack allocated\n",
    "                                            // - f32 is stack allocated\n",
    "                                            // no heap allocation is required\n",
    "\n",
    "    println!{\"both_integer = {:?}\", both_integer};\n",
    "\n",
    "    //println!{\"both_float = {:?}\", both_float};    // uncommenting out this print\n",
    "                                                    // changes nothing wrt to\n",
    "                                                    // stack or heap allocation\n",
    "\n",
    "    println!{\"integer_and_float = {:?}\", int_n_flt};\n",
    "}                   // block scope end\n",
    "                    // At this point all owned/local variables go out of scope\n",
    "                    // and Rust will drop them in reverse order of their creation\n",
    "                    // - int_n_flt is dropped first and popped off the stack\n",
    "                    // - both_float is dropped next and popped off the stack\n",
    "                    // - both_integer is finally dropped and popped off the stack\n",
    "                    // Since all values are stack allocated, no heap allocation \n",
    "                    // clean up is necessary\n",
    "                    // Lastly the whole block scope stack frame is popped off the\n",
    "                    // stack and the program continues ... presumable back to\n",
    "                    // the closure entry point\n"
   ]
  },
  {
   "attachments": {},
   "cell_type": "markdown",
   "metadata": {},
   "source": [
    "> Listing 10-8: A Point<T, U> generic over two types so that x and y can be  \n",
    "values of different types\n",
    "\n",
    "Now all the instances of Point shown are allowed! You can use as many generic  \n",
    "type parameters in a definition as you want, but using more than a few makes  \n",
    "your code hard to read. If you're finding you need lots of generic types in  \n",
    "your code, it could indicate that your code needs restructuring into smaller  \n",
    "pieces."
   ]
  },
  {
   "attachments": {},
   "cell_type": "markdown",
   "metadata": {},
   "source": [
    "### In Enum Definitions\n",
    "\n",
    "As we did with structs, we can define enums to hold generic data types in their  \n",
    "variants. Let’s take another look at the Option<T> enum that the standard  \n",
    "library provides, which we used in Chapter 6:\n",
    "\n",
    "```rust\n",
    "enum Option<T> {\n",
    "    Some(T),    // Some Generic T Type\n",
    "    None,       // None\n",
    "}\n",
    "```\n",
    "\n",
    "This definition should now make more sense to you. As you can see, the Option<T>  \n",
    "enum is generic over type T and has two variants: Some, which holds one value of  \n",
    "type T, and a None variant that doesn’t hold any value. By using the Option<T>  \n",
    "enum, we can express the abstract concept of an optional value, and because  \n",
    "Option<T> is generic, we can use this abstraction no matter what the type of the  \n",
    "optional value is."
   ]
  },
  {
   "attachments": {},
   "cell_type": "markdown",
   "metadata": {},
   "source": [
    "Enums can use multiple generic types as well. The definition of the Result enum  \n",
    "that we used in Chapter 9 is one example:\n",
    "\n",
    "```rust\n",
    "enum Result<T, E> {\n",
    "    Ok(T),  // Ok of generic T Type\n",
    "    Err(E), // Error of generic E Type \n",
    "}\n",
    "```\n",
    "\n",
    "The Result enum is generic over two types, T and E, and has two variants: \n",
    "\n",
    "- Ok, which holds a value of type T, and  \n",
    "- Err, which holds a value of type E.  \n",
    "\n",
    "This definition makes it convenient to use the Result enum anywhere we have an  \n",
    "operation that might succeed (return a value of some type T) or fail (return an  \n",
    "error of some type E). In fact, this is what we used to open a file in  \n",
    "Listing 9-3, where T was filled in with the type std::fs::File when the file was  \n",
    "opened successfully and E was filled in with the type std::io::Error when there  \n",
    "were problems opening the file.\n",
    "\n",
    "When you recognize situations in your code with multiple struct or enum  \n",
    "definitions that differ only in the types of the values they hold, you can avoid  \n",
    "duplication by using generic types instead."
   ]
  },
  {
   "attachments": {},
   "cell_type": "markdown",
   "metadata": {},
   "source": [
    "### In Method Definitions\n",
    "\n",
    "We can implement methods on structs and enums (as we did in Chapter 5) and use  \n",
    "generic types in their definitions, too. Listing 10-9 shows the Point<T> struct  \n",
    "we defined in Listing 10-6 with a method named x implemented on it.  \n",
    "\n",
    "> Filename: src/main.rs"
   ]
  },
  {
   "cell_type": "code",
   "execution_count": 36,
   "metadata": {
    "vscode": {
     "languageId": "rust"
    }
   },
   "outputs": [
    {
     "name": "stdout",
     "output_type": "stream",
     "text": [
      "p.x = 5\n"
     ]
    },
    {
     "data": {
      "text/plain": [
       "()"
      ]
     },
     "execution_count": 36,
     "metadata": {},
     "output_type": "execute_result"
    }
   ],
   "source": [
    "struct Point<T>{\n",
    "    x:T,\n",
    "    y:T,\n",
    "}\n",
    "\n",
    "impl<T> Point<T> {\n",
    "    fn x(&self) -> &T{\n",
    "        &self.x\n",
    "    }\n",
    "}\n",
    "\n",
    "{\n",
    "    let p = Point{x:5, y:10};\n",
    "    println!(\"p.x = {}\", p.x());\n",
    "}"
   ]
  },
  {
   "attachments": {},
   "cell_type": "markdown",
   "metadata": {},
   "source": [
    "> Listing 10-9: Implementing a method named x on the Point<T> struct that will  \n",
    "return a reference to the x field of type T\n",
    "\n",
    "Here, we’ve defined a method named x on Point<T> that returns a reference to the  \n",
    "data in the field x.\n",
    "\n",
    "Note that we have to declare T just after impl so we can use T to specify that  \n",
    "we’re implementing methods on the type Point<T>. By declaring T as a generic  \n",
    "type after impl, Rust can identify that the type in the angle brackets in Point  \n",
    "is a generic type rather than a concrete type. We could have chosen a different  \n",
    "name for this generic parameter than the generic parameter declared in the  \n",
    "struct definition, but using the same name is conventional. Methods written  \n",
    "within an impl that declares the generic type will be defined on any instance of  \n",
    "the type, no matter what concrete type ends up substituting for the generic  \n",
    "type. "
   ]
  },
  {
   "attachments": {},
   "cell_type": "markdown",
   "metadata": {},
   "source": [
    "We can also specify constraints on generic types when defining methods on the  \n",
    "type. We could, for example, implement methods only on Point<f32> instances  \n",
    "rather than on Point<T> instances with any generic type. In Listing 10-10 we use  \n",
    "the concrete type f32, meaning we don’t declare any types after impl.  \n",
    "\n",
    "> Filename: src/main.rs"
   ]
  },
  {
   "cell_type": "code",
   "execution_count": 40,
   "metadata": {
    "vscode": {
     "languageId": "rust"
    }
   },
   "outputs": [
    {
     "name": "stdout",
     "output_type": "stream",
     "text": [
      "p3.x = 5, p3.y = c\n"
     ]
    },
    {
     "data": {
      "text/plain": [
       "()"
      ]
     },
     "execution_count": 40,
     "metadata": {},
     "output_type": "execute_result"
    }
   ],
   "source": [
    "struct Point<X1, Y1>{\n",
    "    x:X1,\n",
    "    y:Y1,\n",
    "}\n",
    "\n",
    "impl<X1, Y1> Point<X1, Y1>{  // impl declares X1 and Y1 \n",
    "    // X2 and Y2 aren't declared until they are used in the `mixup` method\n",
    "    // - the point is generics can be declared at different levels as needed\n",
    "    fn mixup<X2, Y2>(self, other: Point<X2, Y2>) -> Point<X1, Y2>{\n",
    "        Point{\n",
    "            x: self.x,\n",
    "            y: other.y,\n",
    "        }\n",
    "    }\n",
    "}\n",
    "\n",
    "{\n",
    "    let p1 = Point{x:5, y:10.4};\n",
    "    let p2 = Point{x:\"Hello\", y:'c'};\n",
    "\n",
    "    let p3 = p1.mixup(p2);\n",
    "\n",
    "    println!(\"p3.x = {}, p3.y = {}\", p3.x, p3.y);\n",
    "}"
   ]
  },
  {
   "attachments": {},
   "cell_type": "markdown",
   "metadata": {},
   "source": [
    "> Listing 10-11: A method that uses generic types different from its struct’s  \n",
    "definition\n",
    "\n",
    "In main, we’ve defined a Point that has an i32 for x (with value 5) and an f64  \n",
    "for y (with value 10.4). The p2 variable is a Point struct that has a string  \n",
    "slice for x (with value \"Hello\") and a char for y (with value c). Calling mixup  \n",
    "on p1 with the argument p2 gives us p3, which will have an i32 for x, because x  \n",
    "came from p1. The p3 variable will have a char for y, because y came from p2.  \n",
    "The println! macro call will print p3.x = 5, p3.y = c.\n",
    "\n",
    "The purpose of this example is to demonstrate a situation in which some generic  \n",
    "parameters are declared with impl and some are declared with the method  \n",
    "definition. Here, the generic parameters X1 and Y1 are declared after impl  \n",
    "because they go with the struct definition. The generic parameters X2 and Y2 are  \n",
    "declared after fn mixup, because they’re only relevant to the method.\n",
    "\n"
   ]
  },
  {
   "attachments": {},
   "cell_type": "markdown",
   "metadata": {},
   "source": [
    "### Performance of Code Using Generics\n",
    "\n",
    "You might be wondering whether there is a runtime cost when using generic type  \n",
    "parameters. The good news is that using generic types won't make your program  \n",
    "run any slower than it would with concrete types.\n",
    "\n",
    "Rust accomplishes this by performing monomorphization of the code using generics  \n",
    "at compile time. Monomorphization is the process of turning generic code into  \n",
    "specific code by filling in the concrete types that are used when compiled. In  \n",
    "this process, the compiler does the opposite of the steps we used to create  \n",
    "the generic function in Listing 10-5: the compiler looks at all the places where  \n",
    "generic code is called and generates code for the concrete types the generic  \n",
    "code is called with."
   ]
  },
  {
   "attachments": {},
   "cell_type": "markdown",
   "metadata": {},
   "source": [
    "Let’s look at how this works by using the standard library’s generic Option<T>  \n",
    "enum:\n",
    "\n",
    "```rust\n",
    "let integer = Some(5);\n",
    "let float = Some(5.0);\n",
    "```\n",
    "\n",
    "When Rust compiles this code, it performs monomorphization. During that process,  \n",
    "the compiler reads the values that have been used in Option<T> instances and  \n",
    "identifies two kinds of Option<T>: one is i32 and the other is f64. As such, it  \n",
    "expands the generic definition of Option<T> into two definitions specialized to  \n",
    "i32 and f64, thereby replacing the generic definition with the specific ones.\n",
    "\n",
    "The monomorphized version of the code looks similar to the following (the  \n",
    "compiler uses different names than what we’re using here for illustration):\n",
    "\n",
    "> Filename: src/main.rs"
   ]
  },
  {
   "cell_type": "code",
   "execution_count": 43,
   "metadata": {
    "vscode": {
     "languageId": "rust"
    }
   },
   "outputs": [
    {
     "name": "stdout",
     "output_type": "stream",
     "text": [
      "integer = Some(5) float = Some(5.0)\n"
     ]
    },
    {
     "data": {
      "text/plain": [
       "()"
      ]
     },
     "execution_count": 43,
     "metadata": {},
     "output_type": "execute_result"
    }
   ],
   "source": [
    "#[derive(Debug)]\n",
    "enum Option_i32{\n",
    "    Some(i32),\n",
    "    None\n",
    "}\n",
    "\n",
    "#[derive(Debug)]\n",
    "enum Option_f64{\n",
    "    Some(f64),\n",
    "    None\n",
    "}\n",
    "\n",
    "{\n",
    "    let integer = Option_i32::Some(5);\n",
    "    let float = Option_f64::Some(5.0);\n",
    "\n",
    "    println!(\"integer = {:?} float = {:?}\", integer, float);\n",
    "}"
   ]
  },
  {
   "attachments": {},
   "cell_type": "markdown",
   "metadata": {},
   "source": [
    "The generic Option<T> is replaced with the specific definitions created by the  \n",
    "compiler. Because Rust compiles generic code into code that specifies the type  \n",
    "in each instance, we pay no runtime cost for using generics. When the code runs,  \n",
    "it performs just as it would if we had duplicated each definition by hand. The  \n",
    "process of monomorphization makes Rust’s generics extremely efficient at  \n",
    "runtime."
   ]
  }
 ],
 "metadata": {
  "kernelspec": {
   "display_name": "Rust",
   "language": "rust",
   "name": "rust"
  },
  "language_info": {
   "codemirror_mode": "rust",
   "file_extension": ".rs",
   "mimetype": "text/rust",
   "name": "Rust",
   "pygment_lexer": "rust",
   "version": ""
  },
  "orig_nbformat": 4
 },
 "nbformat": 4,
 "nbformat_minor": 2
}
