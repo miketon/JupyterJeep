{
 "cells": [
  {
   "attachments": {},
   "cell_type": "markdown",
   "metadata": {},
   "source": [
    "Generic Types, Traits and Lifetime\n",
    "---\n",
    "\n",
    "Every programming language has tools for effectively handling the duplication of  \n",
    "concepts. In Rust, one such tool is generics: abstract stand-ins for concrete  \n",
    "types or other properties. We can express the behavior of generics or how they  \n",
    "relate to other generics without knowing what will be in their place when  \n",
    "compiling and running the code.  \n",
    "\n",
    "Functions can take parameters of some generic type, instead of a concrete type  \n",
    "like i32 or String, in the same way a function takes parameters with unknown  \n",
    "values to run the same code on multiple concrete values. In fact, we’ve already  \n",
    "used generics in Chapter 6 with Option<T>, Chapter 8 with Vec<T> and  \n",
    "HashMap<K, V>, and Chapter 9 with Result<T, E>. In this chapter, you’ll explore  \n",
    "how to define your own types, functions, and methods with generics!  \n",
    "\n",
    "First, we’ll review how to extract a function to reduce code duplication. We’ll  \n",
    "then use the same technique to make a generic function from two functions that  \n",
    "differ only in the types of their parameters. We’ll also explain how to use  \n",
    "generic types in struct and enum definitions.  \n",
    "\n",
    "Then you’ll learn how to use traits to define behavior in a generic way. You  \n",
    "can combine traits with generic types to constrain a generic type to accept only  \n",
    "those types that have a particular behavior, as opposed to just any type.  \n",
    "\n",
    "Finally, we’ll discuss lifetimes: a variety of generics that give the compiler  \n",
    "information about how references relate to each other. Lifetimes allow us to  \n",
    "give the compiler enough information about borrowed values so that it can ensure  \n",
    "references will be valid in more situations than it could without our help.  "
   ]
  },
  {
   "attachments": {},
   "cell_type": "markdown",
   "metadata": {},
   "source": [
    "### Removing Duplication by Extracting a Function\n",
    "\n",
    "Generics allow us to replace specific types with a placeholder that represents  \n",
    "multiple types to remove code duplication. Before diving into generics syntax,  \n",
    "then, let’s first look at how to remove duplication in a way that doesn’t  \n",
    "involve generic types by extracting a function that replaces specific values  \n",
    "with a placeholder that represents multiple values. Then we’ll apply the same  \n",
    "technique to extract a generic function! By looking at how to recognize  \n",
    "duplicated code you can extract into a function, you’ll start to recognize  \n",
    "duplicated code that can use generics.\n",
    "\n",
    "We begin with the short program in Listing 10-1 that finds the largest number in  \n",
    "a list.\n",
    "\n",
    "> Filename: src/main.rs"
   ]
  },
  {
   "cell_type": "code",
   "execution_count": 2,
   "metadata": {},
   "outputs": [
    {
     "name": "stdout",
     "output_type": "stream",
     "text": [
      "The largest number is 100\n"
     ]
    },
    {
     "data": {
      "text/plain": [
       "()"
      ]
     },
     "execution_count": 2,
     "metadata": {},
     "output_type": "execute_result"
    }
   ],
   "source": [
    "{   // begin block closure\n",
    "    let number_list = vec![34, 50, 25, 100, 65]; // number_list comes into scope and\n",
    "                                                 // gets ownership of the vector, so\n",
    "                                                 // is responsible for releasing it\n",
    "                                                 // - `number_list` is stored on the stack\n",
    "                                                 // it contains meta data about the vector\n",
    "                                                 // wrt to length and capacity of the ACTUAL\n",
    "                                                 // VALUE on the HEAP\n",
    "\n",
    "    let mut largest = &number_list[0];  // largest comes into scope\n",
    "                                        // we don't take ownership of the vector,\n",
    "                                        // we borrow a reference to it\n",
    "                                        // largest stores this reference on the stack\n",
    "\n",
    "    for number in &number_list {    // looping over an immutable reference to &number_list\n",
    "                                    // - by using a reference we AVOID loop taking ownership of\n",
    "                                    // the number_list vector, so we can use it later (println!)\n",
    "                                    // - the loop will create an immutable reference `number` to\n",
    "                                    // each element in the vector\n",
    "        if number > largest {       // we compare `number` to `largest`\n",
    "                                    // - because both are references, Rust automatically\n",
    "                                    // dereferences each value for comparison thanks to `deref` trait\n",
    "            largest = number;       // if current `number` is larger than `largest`\n",
    "                                    // - we update the mutable reference `largest` to point to\n",
    "                                    // the current `number` reference\n",
    "                                    // - we DO NOT move OWNERSHIP, instead we only update the REFERENCE\n",
    "        }\n",
    "    }\n",
    "\n",
    "    println!(\"The largest number is {}\", largest);\n",
    "\n",
    "}   // exit block closure\n",
    "    // largest goes out of scope, and are released : it is a reference so no heap changes\n",
    "    // number_list goes out of scope, and is released from memory\n",
    "    // - the vector meta data wrt to length and capacity is released from the stack\n",
    "    // - Rust automatically calls the `drop` function to release the VECTOR's VALUE\n",
    "    // from the HEAP"
   ]
  },
  {
   "attachments": {},
   "cell_type": "markdown",
   "metadata": {},
   "source": [
    "> Listing 10-1: Finding the largest number in a list of numbers\n",
    "\n",
    "We store a list of integers in the variable `number_list` and place a reference to  \n",
    "the first number in the list in a variable named `largest`. We then iterate  \n",
    "through all the numbers in the list, and if the current number is greater than  \n",
    "the number stored in `largest`, replace the reference in that variable. However,  \n",
    "if the current number is less than or equal to the largest number seen so far,  \n",
    "the variable doesn’t change, and the code moves on to the next number in the  \n",
    "list. After considering all the numbers in the list, `largest` should refer to  \n",
    "the largest number, which in this case is 100.  "
   ]
  },
  {
   "attachments": {},
   "cell_type": "markdown",
   "metadata": {},
   "source": [
    "We've now been tasked with finding the largest number in two different lists of  \n",
    "numbers. To do so, we can choose to duplicate the code in Listing 10-1 and use  \n",
    "the same logic at two different places in the program, as shown in Listing 10-2.  \n",
    "\n",
    "> Filename: src/main.rs"
   ]
  },
  {
   "cell_type": "code",
   "execution_count": 4,
   "metadata": {},
   "outputs": [
    {
     "name": "stdout",
     "output_type": "stream",
     "text": [
      "The largest number is 100\n",
      "The largest number is 6000\n"
     ]
    },
    {
     "data": {
      "text/plain": [
       "()"
      ]
     },
     "execution_count": 4,
     "metadata": {},
     "output_type": "execute_result"
    }
   ],
   "source": [
    "{   // Bloc comes into scope\n",
    "    let number_list = vec![34, 50, 25, 100, 65]; // (a) shadowed\n",
    "\n",
    "    let mut largest = &number_list[0];  // (a) shadowed\n",
    "\n",
    "    for number in &number_list { // number is an immutable reference to each element in the vector\n",
    "        if number > largest {    // rust automatically dereferences `number` and `largest`\n",
    "                                 // to compare because they are BOTH references\n",
    "                                 // deref coercion REQUIRES that BOTH are `number` and `largest`\n",
    "                                 // are references, else YOU must manually * dereference\n",
    "            largest = number;    // this is NOT DEREF COERCION ...\n",
    "                                 // but because both are &i32 references, they can DIRECTLY be\n",
    "                                 // ASSIGNED without DEREFERENCING\n",
    "        }\n",
    "    }\n",
    "\n",
    "    println!(\"The largest number is {}\", largest);\n",
    "\n",
    "    let number_list = vec![102, 34, 6000, 89, 54, 2, 43, 8]; // (b) shadowing\n",
    "\n",
    "    let mut largest = &number_list[0];  // (b) shadowing\n",
    "\n",
    "    for number in &number_list{\n",
    "        if number > largest {\n",
    "            largest = number;\n",
    "        }\n",
    "    }\n",
    "\n",
    "    println!(\"The largest number is {}\", largest);\n",
    "}   // Block leaves scope\n",
    "    // on block end, Rust automatically deallocates memory and cleans up variables\n",
    "    // that go out of scope ... including their shadows, here's the order of op:\n",
    "    // - `largest` (b) goes out of scope, it is a reference and are popped of the stack\n",
    "    // no heap changes are applied, the memory it refs is owned by `number_list` (b)\n",
    "    // vector and will get cleaned up when that is released\n",
    "    // - `number_list` (b) goes out of scope, the vector ref containing meta data\n",
    "    // wrt to length and capacity is popped off the stack\n",
    "    // the actual VECTOR VALUE is released from the HEAP when RUST calls `drop`\n",
    "    // - `largest` (a) goes out of scope, it is a reference and are popped of the stack\n",
    "    // no heap changes are applied, the memory it refs is owned by `number_list` (a)\n",
    "    // vector and will get cleaned up when that is released\n",
    "    // - `number_list` (a) goes out of scope, the vector ref containing meta data\n",
    "    // wrt to length and capacity is popped off the stack\n",
    "    // the actual VECTOR VALUE is released from the HEAP when RUST calls `drop`\n",
    "\n"
   ]
  },
  {
   "attachments": {},
   "cell_type": "markdown",
   "metadata": {},
   "source": [
    "> Listing 10-2: Code to find the largest number in two lists of numbers\n",
    "\n",
    "Although this code works, duplicating code is tedious and error prone. We also  \n",
    "have to remember to **`update the code in multiple places`** when we want to  \n",
    "change it."
   ]
  },
  {
   "attachments": {},
   "cell_type": "markdown",
   "metadata": {},
   "source": [
    "To eliminate this duplication, we’ll create an abstraction by defining a  \n",
    "function that operates on any list of integers passed in a parameter. This  \n",
    "solution makes our code clearer and lets us express the concept of finding the  \n",
    "largest number in a list abstractly.\n",
    "\n",
    "In Listing 10-3, we extract the code that finds the largest number into a  \n",
    "function named largest. Then we call the function to find the largest number  \n",
    "in the two lists from Listing 10-2. We could also use the function on any other  \n",
    "list of i32 values we might have in the future.\n",
    "\n",
    "> Filename: src/main.rs\n",
    "\n"
   ]
  },
  {
   "cell_type": "code",
   "execution_count": 5,
   "metadata": {},
   "outputs": [
    {
     "name": "stdout",
     "output_type": "stream",
     "text": [
      "The largest number is 100\n",
      "The largest number is 6000\n"
     ]
    },
    {
     "data": {
      "text/plain": [
       "()"
      ]
     },
     "execution_count": 5,
     "metadata": {},
     "output_type": "execute_result"
    }
   ],
   "source": [
    "fn largest(list: &[i32])-> &i32 {\n",
    "    let mut largest = &list[0];\n",
    "\n",
    "    for number in list {\n",
    "        if number > largest {\n",
    "            largest = number;\n",
    "        }\n",
    "    }\n",
    "\n",
    "    largest\n",
    "}\n",
    "\n",
    "{\n",
    "    let number_list = vec![34, 50, 25, 100, 65];\n",
    "    let result = largest(&number_list);\n",
    "    println!(\"The largest number is {}\", result);\n",
    "\n",
    "    let number_list = vec![102, 34, 6000, 89, 54, 2, 43, 8];\n",
    "    let result = largest(&number_list);\n",
    "    println!(\"The largest number is {}\", result);\n",
    "}"
   ]
  },
  {
   "attachments": {},
   "cell_type": "markdown",
   "metadata": {},
   "source": [
    "> Listing 10-3: Abstracted code to find the largest number in two lists\n",
    "\n",
    "The largest function has a parameter called list, which represents any concrete  \n",
    "slice of i32 values we might pass into the function. As a result, when we call  \n",
    "the function, the code runs on the specific values that we pass in.\n",
    "\n"
   ]
  },
  {
   "attachments": {},
   "cell_type": "markdown",
   "metadata": {},
   "source": [
    "In summary, here are the steps we took to change the code from Listing 10-2 to  \n",
    "Listing 10-3:\n",
    "\n",
    "- Identify duplicate code.  \n",
    "- Extract the duplicate code into the body of the function and specify the  \n",
    "inputs and return values of that code in the function signature.  \n",
    "- Update the two instances of duplicated code to call the function instead.  \n",
    "\n",
    "Next, we’ll use these same steps with generics to reduce code duplication. In  \n",
    "the same way that the function body can operate on an abstract list instead of  \n",
    "specific values, generics allow code to operate on abstract types.  \n",
    "\n",
    "For example, say we had two functions: one that finds the largest item in a  \n",
    "slice of i32 values and one that finds the largest item in a slice of char  \n",
    "values. How would we eliminate that duplication? Let’s find out!  "
   ]
  },
  {
   "attachments": {},
   "cell_type": "markdown",
   "metadata": {},
   "source": [
    "Generic Data Types\n",
    "---\n",
    "\n",
    "We use generics to create definitions for items like function signatures or  \n",
    "structs, which we can then use with many different concrete data types. Let’s  \n",
    "first look at how to define functions, structs, enums, and methods using  \n",
    "generics. Then we’ll discuss how generics affect code performance.  "
   ]
  },
  {
   "attachments": {},
   "cell_type": "markdown",
   "metadata": {},
   "source": [
    "### In Function Definitions\n",
    "\n",
    "When defining a function that uses generics, we place the generics in the  \n",
    "signature of the function where we would usually specify the data types of the  \n",
    "parameters and return value. Doing so makes our code more flexible and provides  \n",
    "more functionality to callers of our function while preventing code duplication.  \n",
    "\n",
    "Continuing with our largest function, Listing 10-4 shows two functions that both  \n",
    "find the largest value in a slice. We'll then combine these into a single  \n",
    "function that uses generics.  \n",
    "\n",
    "> Filename: src/main.rs"
   ]
  },
  {
   "cell_type": "code",
   "execution_count": 10,
   "metadata": {},
   "outputs": [
    {
     "name": "stdout",
     "output_type": "stream",
     "text": [
      "The largest number is 100\n",
      "The largest char is y\n"
     ]
    },
    {
     "data": {
      "text/plain": [
       "()"
      ]
     },
     "execution_count": 10,
     "metadata": {},
     "output_type": "execute_result"
    }
   ],
   "source": [
    "fn largest_i32(list: &[i32])-> &i32 {\n",
    "    let mut largest = &list[0];\n",
    "\n",
    "    for item in list{\n",
    "        if item > largest{\n",
    "            largest = item;\n",
    "        }\n",
    "    }\n",
    "    largest\n",
    "}\n",
    "\n",
    "fn largest_char(list: &[char])-> &char{\n",
    "    let mut largest = &list[0];\n",
    "\n",
    "    for item in list{\n",
    "        if item > largest{\n",
    "            largest = item;\n",
    "        }\n",
    "    }\n",
    "    largest\n",
    "}\n",
    "\n",
    "{\n",
    "    let n_list = vec![34, 50, 25, 100, 65];\n",
    "    let result = largest_i32(&n_list);\n",
    "    println!(\"The largest number is {}\", result);\n",
    "\n",
    "    let n_list = vec!['y', 'm', 'a', 'q'];  // shadowing allows swithc from i32 to char\n",
    "    let result = largest_char(&n_list);     // same shaodow to re-use the same value names\n",
    "    println!(\"The largest char is {}\", result);\n",
    "}"
   ]
  },
  {
   "attachments": {},
   "cell_type": "markdown",
   "metadata": {},
   "source": [
    "> Listing 10-4: Two functions that differ only in their names and the types in  \n",
    "their signatures\n",
    "\n",
    "- The largest_i32 function is the one we extracted in Listing 10-3 that finds  \n",
    "the largest i32 in a slice. \n",
    "- The largest_char function finds the largest char in a slice. \n",
    "\n",
    "> The function bodies have the same code, so let’s eliminate the duplication by  \n",
    "introducing a generic type parameter in a single function."
   ]
  },
  {
   "attachments": {},
   "cell_type": "markdown",
   "metadata": {},
   "source": [
    "To parameterize the types in a new single function, we need to name the type  \n",
    "parameter, just as we do for the value parameters to a function. You can use any  \n",
    "identifier as a type parameter name. But we’ll use T because, by convention,  \n",
    "type parameter names in Rust are short, often just a letter, and Rust’s  \n",
    "type-naming convention is UpperCamelCase. Short for “type,” T is the default  \n",
    "choice of most Rust programmers.\n",
    "\n",
    "When we use a parameter in the body of the function, we have to declare the  \n",
    "parameter name in the signature so the compiler knows what that name means.  \n",
    "Similarly, when we use a type parameter name in a function signature, we have  \n",
    "to declare the type parameter name before we use it. To define the generic  \n",
    "largest function, place type name declarations inside angle brackets, <>,  \n",
    "between the name of the function and the parameter list, like this:"
   ]
  },
  {
   "cell_type": "code",
   "execution_count": 15,
   "metadata": {},
   "outputs": [],
   "source": [
    "fn largest<T>(list:&[T])-> Option<&T> { None }"
   ]
  },
  {
   "attachments": {},
   "cell_type": "markdown",
   "metadata": {},
   "source": [
    "We read this definition as: the function largest is generic over some type T.  \n",
    "This function has one parameter named list, which is a slice of values of type  \n",
    "T. The largest function will return a reference to a value of the same type T.  \n",
    "\n",
    "Listing 10-5 shows the combined largest function definition using the generic  \n",
    "data type in its signature. The listing also shows how we can call the function  \n",
    "with either a slice of i32 values or char values. Note that this code won’t  \n",
    "compile yet, but we’ll fix it later in this chapter.\n",
    "\n",
    "> Filename: src/main.rs"
   ]
  },
  {
   "cell_type": "code",
   "execution_count": 19,
   "metadata": {},
   "outputs": [
    {
     "ename": "Error",
     "evalue": "binary operation `>` cannot be applied to type `&T`",
     "output_type": "error",
     "traceback": [
      "\u001b[31m[E0369] Error:\u001b[0m binary operation `>` cannot be applied to type `&T`",
      "   \u001b[38;5;246m╭\u001b[0m\u001b[38;5;246m─\u001b[0m\u001b[38;5;246m[\u001b[0mcommand_19:1:1\u001b[38;5;246m]\u001b[0m",
      "   \u001b[38;5;246m│\u001b[0m",
      " \u001b[38;5;246m4 │\u001b[0m \u001b[38;5;249mf\u001b[0m\u001b[38;5;249mn\u001b[0m\u001b[38;5;249m \u001b[0m\u001b[38;5;249ml\u001b[0m\u001b[38;5;249ma\u001b[0m\u001b[38;5;249mr\u001b[0m\u001b[38;5;249mg\u001b[0m\u001b[38;5;249me\u001b[0m\u001b[38;5;249ms\u001b[0m\u001b[38;5;249mt\u001b[0m\u001b[38;5;249m<\u001b[0m\u001b[38;5;249mT\u001b[0m\u001b[38;5;249m>\u001b[0m\u001b[38;5;249m(\u001b[0m\u001b[38;5;249ml\u001b[0m\u001b[38;5;249mi\u001b[0m\u001b[38;5;249ms\u001b[0m\u001b[38;5;249mt\u001b[0m\u001b[38;5;249m:\u001b[0m\u001b[38;5;249m&\u001b[0m\u001b[38;5;249m[\u001b[0m\u001b[38;5;249mT\u001b[0m\u001b[38;5;249m]\u001b[0m\u001b[38;5;249m)\u001b[0m\u001b[38;5;249m-\u001b[0m\u001b[38;5;249m>\u001b[0m\u001b[38;5;249m&\u001b[0m\u001b[38;5;249mT\u001b[0m\u001b[38;5;249m{\u001b[0m",
      " \u001b[38;5;246m  ·\u001b[0m             \u001b[38;5;37m│\u001b[0m ",
      " \u001b[38;5;246m  ·\u001b[0m             \u001b[38;5;37m╰\u001b[0m\u001b[38;5;37m─\u001b[0m help: consider restricting type parameter `T`: `: std::cmp::PartialOrd`",
      " \u001b[38;5;246m  ·\u001b[0m ",
      " \u001b[38;5;246m7 │\u001b[0m \u001b[38;5;249m \u001b[0m\u001b[38;5;249m \u001b[0m\u001b[38;5;249m \u001b[0m\u001b[38;5;249m \u001b[0m\u001b[38;5;249m \u001b[0m\u001b[38;5;249m \u001b[0m\u001b[38;5;249m \u001b[0m\u001b[38;5;249m \u001b[0m\u001b[38;5;249mi\u001b[0m\u001b[38;5;249mf\u001b[0m\u001b[38;5;249m \u001b[0m\u001b[38;5;54mi\u001b[0m\u001b[38;5;54mt\u001b[0m\u001b[38;5;54me\u001b[0m\u001b[38;5;54mm\u001b[0m\u001b[38;5;249m \u001b[0m\u001b[38;5;68m>\u001b[0m\u001b[38;5;249m \u001b[0m\u001b[38;5;100ml\u001b[0m\u001b[38;5;100ma\u001b[0m\u001b[38;5;100mr\u001b[0m\u001b[38;5;100mg\u001b[0m\u001b[38;5;100me\u001b[0m\u001b[38;5;100ms\u001b[0m\u001b[38;5;100mt\u001b[0m\u001b[38;5;249m{\u001b[0m",
      " \u001b[38;5;246m  ·\u001b[0m            \u001b[38;5;54m─\u001b[0m\u001b[38;5;54m─\u001b[0m\u001b[38;5;54m┬\u001b[0m\u001b[38;5;54m─\u001b[0m \u001b[38;5;68m┬\u001b[0m \u001b[38;5;100m─\u001b[0m\u001b[38;5;100m─\u001b[0m\u001b[38;5;100m─\u001b[0m\u001b[38;5;100m┬\u001b[0m\u001b[38;5;100m─\u001b[0m\u001b[38;5;100m─\u001b[0m\u001b[38;5;100m─\u001b[0m  ",
      " \u001b[38;5;246m  ·\u001b[0m              \u001b[38;5;54m╰\u001b[0m\u001b[38;5;54m─\u001b[0m\u001b[38;5;54m─\u001b[0m\u001b[38;5;54m─\u001b[0m\u001b[38;5;54m─\u001b[0m\u001b[38;5;54m─\u001b[0m\u001b[38;5;54m─\u001b[0m\u001b[38;5;54m─\u001b[0m\u001b[38;5;54m─\u001b[0m\u001b[38;5;54m─\u001b[0m\u001b[38;5;54m─\u001b[0m\u001b[38;5;54m─\u001b[0m\u001b[38;5;54m─\u001b[0m\u001b[38;5;54m─\u001b[0m &T",
      " \u001b[38;5;246m  ·\u001b[0m                 \u001b[38;5;68m│\u001b[0m    \u001b[38;5;100m│\u001b[0m     ",
      " \u001b[38;5;246m  ·\u001b[0m                 \u001b[38;5;68m╰\u001b[0m\u001b[38;5;68m─\u001b[0m\u001b[38;5;68m─\u001b[0m\u001b[38;5;68m─\u001b[0m\u001b[38;5;68m─\u001b[0m\u001b[38;5;68m─\u001b[0m\u001b[38;5;68m─\u001b[0m\u001b[38;5;68m─\u001b[0m\u001b[38;5;68m─\u001b[0m\u001b[38;5;68m─\u001b[0m\u001b[38;5;68m─\u001b[0m error: binary operation `>` cannot be applied to type `&T`",
      " \u001b[38;5;246m  ·\u001b[0m                      \u001b[38;5;100m│\u001b[0m     ",
      " \u001b[38;5;246m  ·\u001b[0m                      \u001b[38;5;100m╰\u001b[0m\u001b[38;5;100m─\u001b[0m\u001b[38;5;100m─\u001b[0m\u001b[38;5;100m─\u001b[0m\u001b[38;5;100m─\u001b[0m\u001b[38;5;100m─\u001b[0m &T",
      "\u001b[38;5;246m───╯\u001b[0m"
     ]
    }
   ],
   "source": [
    "// restrict T to types that implement the PartialOrd trait\n",
    "// - both i32 and char implement PartialOrd and this will allow code to compile\n",
    "// fn largest<T: std::cmp::PartialOrd>(list:&[T])->&T{\n",
    "fn largest<T>(list:&[T])->&T{\n",
    "    let mut largest = &list[0];\n",
    "    for item in list{\n",
    "        if item > largest{\n",
    "            largest = item;\n",
    "        }\n",
    "    }\n",
    "    largest\n",
    "}\n",
    "\n",
    "{\n",
    "    let n_list = vec![34, 50, 25, 100, 65];\n",
    "    let result = largest(&n_list);\n",
    "    println!(\"The largest number is {}\", result);\n",
    "\n",
    "    let n_list = vec!['y', 'm', 'a', 'q'];\n",
    "    let result = largest(&n_list);\n",
    "    println!(\"The largest char is {}\", result);\n",
    "}"
   ]
  },
  {
   "attachments": {},
   "cell_type": "markdown",
   "metadata": {},
   "source": [
    "> Listing 10-5: The largest function using generic type parameters; this  \n",
    "doesn’t yet compile\n",
    "\n",
    "If we compile this code right now, we’ll get this error:\n",
    "\n",
    "```sh\n",
    "$ cargo run\n",
    "   Compiling chapter10 v0.1.0 (file:///projects/chapter10)\n",
    "error[E0369]: binary operation `>` cannot be applied to type `&T`\n",
    " --> src/main.rs:5:17\n",
    "  |\n",
    "5 |         if item > largest {\n",
    "  |            ---- ^ ------- &T\n",
    "  |            |\n",
    "  |            &T\n",
    "  |\n",
    "help: consider restricting type parameter `T`\n",
    "  |\n",
    "1 | fn largest<T: std::cmp::PartialOrd>(list: &[T]) -> &T {\n",
    "  |             ++++++++++++++++++++++\n",
    "\n",
    "For more information about this error, try `rustc --explain E0369`.\n",
    "error: could not compile `chapter10` due to previous error\n",
    "```\n",
    "\n",
    "The help text mentions std::cmp::PartialOrd, which is a trait, and we’re going  \n",
    "to talk about traits in the next section. For now, know that this error states  \n",
    "that the body of largest won’t work for all possible types that T could be.  \n",
    "Because we want to compare values of type T in the body, we can only use types  \n",
    "whose values can be ordered. To enable comparisons, the standard library has  \n",
    "the std::cmp::PartialOrd trait that you can implement on types (see Appendix C  \n",
    "for more on this trait). By following the help text's suggestion, we restrict  \n",
    "the types valid for T to only those that implement PartialOrd and this example  \n",
    "will compile, because the standard library implements PartialOrd on both  \n",
    "i32 and char."
   ]
  },
  {
   "attachments": {},
   "cell_type": "markdown",
   "metadata": {},
   "source": [
    "### In Struct Definitions\n",
    "\n",
    "We can also define structs to use a generic type parameter in one or more fields  \n",
    "using the <> syntax. Listing 10-6 defines a Point<T> struct to hold x and y  \n",
    "coordinate values of any type.\n",
    "\n",
    "> Filename: src/main.rs"
   ]
  },
  {
   "cell_type": "code",
   "execution_count": 26,
   "metadata": {},
   "outputs": [
    {
     "name": "stdout",
     "output_type": "stream",
     "text": [
      "integer = Point { x: 5, y: 10 } float = Point { x: 1.0, y: 4.0 }\n"
     ]
    },
    {
     "data": {
      "text/plain": [
       "()"
      ]
     },
     "execution_count": 26,
     "metadata": {},
     "output_type": "execute_result"
    }
   ],
   "source": [
    "#[derive(Debug)]\n",
    "struct Point<T>{\n",
    "    x:T,\n",
    "    y:T,\n",
    "}\n",
    "\n",
    "{\n",
    "    let integer = Point{x:5, y:10};\n",
    "    let float = Point{x:1.0, y:4.0};\n",
    "    println!(\"integer = {:?} float = {:?}\", integer, float);\n",
    "}"
   ]
  },
  {
   "attachments": {},
   "cell_type": "markdown",
   "metadata": {},
   "source": [
    "> I will explain the given Rust code snippet line by line, focusing on ownership,  \n",
    "borrowing, and stack and heap changes:\n",
    "\n",
    "```rust\n",
    "#[derive(Debug)]               // Line 1\n",
    "struct Point<T> {              // Line 2\n",
    "    x: T,                      // Line 3\n",
    "    y: T,                      // Line 4\n",
    "}                              // Line 5\n",
    "\n",
    "{                              // Line 6\n",
    "    let integer = Point {      // Line 7\n",
    "        x: 5,                  // Line 8\n",
    "        y: 10,                 // Line 9\n",
    "    };                         // Line 10\n",
    "    let float = Point {        // Line 11\n",
    "        x: 1.0,                // Line 12\n",
    "        y: 4.0,                // Line 13\n",
    "    };                         // Line 14\n",
    "    println!(\"integer = {:?} float = {:?}\", integer, float); // Line 15\n",
    "}                              // Line 16\n",
    "```\n",
    "\n",
    "**Line 1**: We use the `derive` attribute to automatically implement the `Debug`  \n",
    "trait for the `Point` struct. This allows instances of `Point` to be printed using the `{:?}` format specifier.\n",
    "\n",
    "**Lines 2-5**: We define a generic struct called `Point` with a type parameter  \n",
    "`T`. The struct has two fields, `x` and `y`, both of the generic type `T`.\n",
    "\n",
    "**Line 6**: We start a new block scope. Variables created within this block will  \n",
    "be dropped when the block ends at Line 16.\n",
    "\n",
    "**Lines 7-10**: We create a new instance of `Point` with `i32` type called  \n",
    "`integer`, with `x` set to 5 and `y` set to 10. The `integer` variable is stored  \n",
    "on the stack, containing the `x` and `y` values directly since they are of type  \n",
    "`i32`, which is a stack-allocated type.\n",
    "\n",
    "**Lines 11-14**: We create a new instance of `Point` with `f64` type called  \n",
    "`float`, with `x` set to 1.0 and `y` set to 4.0. Like `integer`, the `float`  \n",
    "variable is stored on the stack, containing the `x` and `y` values directly  \n",
    "since they are of type `f64`, which is also a stack-allocated type.\n",
    "\n",
    "**Line 15**: We print the `integer` and `float` variables using the `println!`  \n",
    "macro and the `Debug` formatting. Since both variables are still in scope and  \n",
    "valid, this operation is allowed.\n",
    "\n",
    "**Line 16**: This is the end of the block scope. At this point, Rust drops any  \n",
    "remaining variables in reverse order of their creation. First, `float` is  \n",
    "dropped, and then `integer` is dropped. No heap memory is deallocated in this  \n",
    "example, as both instances of `Point` use stack-allocated types (`i32` and `f64`).\n",
    "\n",
    "> In this code snippet, we don't have any explicit ownership transfers or  \n",
    "borrowing. The ownership of the `Point` instances stays within their respective  \n",
    "variables, `integer` and `float`, throughout the block scope."
   ]
  },
  {
   "attachments": {},
   "cell_type": "markdown",
   "metadata": {},
   "source": [
    "> Listing 10-6: A Point<T> struct that holds x and y values of type T\n",
    "\n",
    "The syntax for using generics in struct definitions is similar to that used in  \n",
    "function definitions. First, we declare the name of the type parameter inside  \n",
    "angle brackets just after the name of the struct. Then we use the generic type  \n",
    "in the struct definition where we would otherwise specify concrete data types."
   ]
  },
  {
   "attachments": {},
   "cell_type": "markdown",
   "metadata": {},
   "source": [
    "Note that because we’ve used only one generic type to define Point<T>, this  \n",
    "definition says that the Point<T> struct is generic over some type T, and the  \n",
    "fields x and y are both that same type, whatever that type may be. If we create  \n",
    "an instance of a Point<T> that has values of different types, as in  \n",
    "Listing 10-7, our code won’t compile.\n",
    "\n",
    "> Filename: src/main.rs"
   ]
  },
  {
   "cell_type": "code",
   "execution_count": 27,
   "metadata": {},
   "outputs": [
    {
     "ename": "Error",
     "evalue": "mismatched types",
     "output_type": "error",
     "traceback": [
      "\u001b[31m[E0308] Error:\u001b[0m mismatched types",
      "   \u001b[38;5;246m╭\u001b[0m\u001b[38;5;246m─\u001b[0m\u001b[38;5;246m[\u001b[0mcommand_27:1:1\u001b[38;5;246m]\u001b[0m",
      "   \u001b[38;5;246m│\u001b[0m",
      " \u001b[38;5;246m7 │\u001b[0m \u001b[38;5;249m \u001b[0m\u001b[38;5;249m \u001b[0m\u001b[38;5;249m \u001b[0m\u001b[38;5;249m \u001b[0m\u001b[38;5;249ml\u001b[0m\u001b[38;5;249me\u001b[0m\u001b[38;5;249mt\u001b[0m\u001b[38;5;249m \u001b[0m\u001b[38;5;249mw\u001b[0m\u001b[38;5;249mo\u001b[0m\u001b[38;5;249mn\u001b[0m\u001b[38;5;249mt\u001b[0m\u001b[38;5;249m_\u001b[0m\u001b[38;5;249mw\u001b[0m\u001b[38;5;249mo\u001b[0m\u001b[38;5;249mr\u001b[0m\u001b[38;5;249mk\u001b[0m\u001b[38;5;249m \u001b[0m\u001b[38;5;249m=\u001b[0m\u001b[38;5;249m \u001b[0m\u001b[38;5;249mP\u001b[0m\u001b[38;5;249mo\u001b[0m\u001b[38;5;249mi\u001b[0m\u001b[38;5;249mn\u001b[0m\u001b[38;5;249mt\u001b[0m\u001b[38;5;249m{\u001b[0m\u001b[38;5;249mx\u001b[0m\u001b[38;5;249m:\u001b[0m\u001b[38;5;249m5\u001b[0m\u001b[38;5;249m,\u001b[0m\u001b[38;5;249m \u001b[0m\u001b[38;5;249my\u001b[0m\u001b[38;5;249m:\u001b[0m\u001b[38;5;54m4\u001b[0m\u001b[38;5;54m.\u001b[0m\u001b[38;5;54m0\u001b[0m\u001b[38;5;249m}\u001b[0m\u001b[38;5;249m;\u001b[0m",
      " \u001b[38;5;246m  ·\u001b[0m                                  \u001b[38;5;54m─\u001b[0m\u001b[38;5;54m┬\u001b[0m\u001b[38;5;54m─\u001b[0m  ",
      " \u001b[38;5;246m  ·\u001b[0m                                   \u001b[38;5;54m╰\u001b[0m\u001b[38;5;54m─\u001b[0m\u001b[38;5;54m─\u001b[0m\u001b[38;5;54m─\u001b[0m expected integer, found floating-point number",
      "\u001b[38;5;246m───╯\u001b[0m"
     ]
    }
   ],
   "source": [
    "struct Point<T> {\n",
    "    x: T,\n",
    "    y: T,\n",
    "}\n",
    "\n",
    "{\n",
    "    let wont_work = Point{x:5, y:4.0};\n",
    "}"
   ]
  },
  {
   "attachments": {},
   "cell_type": "markdown",
   "metadata": {},
   "source": [
    "> Listing 10-7: The fields x and y must be the same type because both have the  \n",
    "same generic data type T.\n",
    "\n",
    "In this example, when we assign the integer value 5 to x, we let the compiler  \n",
    "know that the generic type T will be an integer for this instance of Point<T>.  \n",
    "Then when we specify 4.0 for y, which we’ve defined to have the same type as x, \n",
    " we’ll get a type mismatch error like this:\n",
    "\n",
    "```sh\n",
    "$ cargo run\n",
    "   Compiling chapter10 v0.1.0 (file:///projects/chapter10)\n",
    "error[E0308]: mismatched types\n",
    " --> src/main.rs:7:38\n",
    "  |\n",
    "7 |     let wont_work = Point { x: 5, y: 4.0 };\n",
    "  |                                      ^^^ expected integer, found floating-point number\n",
    "\n",
    "For more information about this error, try `rustc --explain E0308`.\n",
    "error: could not compile `chapter10` due to previous error\n",
    "```\n",
    "To define a Point struct where x and y are both generics but could have  \n",
    "different types, we can use multiple generic type parameters. For example, in  \n",
    "Listing 10-8, we change the definition of Point to be generic over types T and  \n",
    "U where x is of type T and y is of type U.  \n",
    "\n",
    "> Filename: src/main.rs\n"
   ]
  },
  {
   "cell_type": "code",
   "execution_count": 34,
   "metadata": {},
   "outputs": [
    {
     "name": "stdout",
     "output_type": "stream",
     "text": [
      "both_integer = Point { x: 5, y: 10 }\n",
      "integer_and_float = Point { x: 5, y: 4.0 }\n"
     ]
    },
    {
     "data": {
      "text/plain": [
       "()"
      ]
     },
     "execution_count": 34,
     "metadata": {},
     "output_type": "execute_result"
    }
   ],
   "source": [
    "#[derive(Debug)]    // allows instnaces of Point to be printed using {:?} specifier\n",
    "                    // by automatically implementing the std::fmt::Debug trait\n",
    "                    // using the derive attribute\n",
    "\n",
    "struct Point<T,U>{  // define a generic struct Point with type parameters T and U\n",
    "    x:T,            // this supports x and y holding values of different types\n",
    "    y:U,\n",
    "}\n",
    "\n",
    "{                   // new block scope begin\n",
    "    let both_integer = Point{x:5, y:10};    // both_integer of type Point<i32, i32>\n",
    "                                            // comes into scope ... and since \n",
    "                                            // - both i32 are are stack allocated\n",
    "                                            // no heap allocation is required\n",
    "\n",
    "    let both_float = Point{x:1.0, y:4.0};   // both_float of type Point<f32, f32>\n",
    "                                            // comes into scope ... and since\n",
    "                                            // - both f32 are stack allocated\n",
    "                                            // no heap allocation is required\n",
    "\n",
    "    let int_n_flt = Point{x:5, y:4.0};      // int_n_flt of type Point<i32, f32>\n",
    "                                            // comes into scope ... and since\n",
    "                                            // - i32 is stack allocated\n",
    "                                            // - f32 is stack allocated\n",
    "                                            // no heap allocation is required\n",
    "\n",
    "    println!{\"both_integer = {:?}\", both_integer};\n",
    "\n",
    "    //println!{\"both_float = {:?}\", both_float};    // uncommenting out this print\n",
    "                                                    // changes nothing wrt to\n",
    "                                                    // stack or heap allocation\n",
    "\n",
    "    println!{\"integer_and_float = {:?}\", int_n_flt};\n",
    "}                   // block scope end\n",
    "                    // At this point all owned/local variables go out of scope\n",
    "                    // and Rust will drop them in reverse order of their creation\n",
    "                    // - int_n_flt is dropped first and popped off the stack\n",
    "                    // - both_float is dropped next and popped off the stack\n",
    "                    // - both_integer is finally dropped and popped off the stack\n",
    "                    // Since all values are stack allocated, no heap allocation \n",
    "                    // clean up is necessary\n",
    "                    // Lastly the whole block scope stack frame is popped off the\n",
    "                    // stack and the program continues ... presumable back to\n",
    "                    // the closure entry point\n"
   ]
  },
  {
   "attachments": {},
   "cell_type": "markdown",
   "metadata": {},
   "source": [
    "> Listing 10-8: A Point<T, U> generic over two types so that x and y can be  \n",
    "values of different types\n",
    "\n",
    "Now all the instances of Point shown are allowed! You can use as many generic  \n",
    "type parameters in a definition as you want, but using more than a few makes  \n",
    "your code hard to read. If you're finding you need lots of generic types in  \n",
    "your code, it could indicate that your code needs restructuring into smaller  \n",
    "pieces."
   ]
  },
  {
   "attachments": {},
   "cell_type": "markdown",
   "metadata": {},
   "source": [
    "### In Enum Definitions\n",
    "\n",
    "As we did with structs, we can define enums to hold generic data types in their  \n",
    "variants. Let’s take another look at the Option<T> enum that the standard  \n",
    "library provides, which we used in Chapter 6:\n",
    "\n",
    "```rust\n",
    "enum Option<T> {\n",
    "    Some(T),    // Some Generic T Type\n",
    "    None,       // None\n",
    "}\n",
    "```\n",
    "\n",
    "This definition should now make more sense to you. As you can see, the Option<T>  \n",
    "enum is generic over type T and has two variants: Some, which holds one value of  \n",
    "type T, and a None variant that doesn’t hold any value. By using the Option<T>  \n",
    "enum, we can express the abstract concept of an optional value, and because  \n",
    "Option<T> is generic, we can use this abstraction no matter what the type of the  \n",
    "optional value is."
   ]
  },
  {
   "attachments": {},
   "cell_type": "markdown",
   "metadata": {},
   "source": [
    "Enums can use multiple generic types as well. The definition of the Result enum  \n",
    "that we used in Chapter 9 is one example:\n",
    "\n",
    "```rust\n",
    "enum Result<T, E> {\n",
    "    Ok(T),  // Ok of generic T Type\n",
    "    Err(E), // Error of generic E Type \n",
    "}\n",
    "```\n",
    "\n",
    "The Result enum is generic over two types, T and E, and has two variants: \n",
    "\n",
    "- Ok, which holds a value of type T, and  \n",
    "- Err, which holds a value of type E.  \n",
    "\n",
    "This definition makes it convenient to use the Result enum anywhere we have an  \n",
    "operation that might succeed (return a value of some type T) or fail (return an  \n",
    "error of some type E). In fact, this is what we used to open a file in  \n",
    "Listing 9-3, where T was filled in with the type std::fs::File when the file was  \n",
    "opened successfully and E was filled in with the type std::io::Error when there  \n",
    "were problems opening the file.\n",
    "\n",
    "When you recognize situations in your code with multiple struct or enum  \n",
    "definitions that differ only in the types of the values they hold, you can avoid  \n",
    "duplication by using generic types instead."
   ]
  },
  {
   "attachments": {},
   "cell_type": "markdown",
   "metadata": {},
   "source": [
    "### In Method Definitions\n",
    "\n",
    "We can implement methods on structs and enums (as we did in Chapter 5) and use  \n",
    "generic types in their definitions, too. Listing 10-9 shows the Point<T> struct  \n",
    "we defined in Listing 10-6 with a method named x implemented on it.  \n",
    "\n",
    "> Filename: src/main.rs"
   ]
  },
  {
   "cell_type": "code",
   "execution_count": 36,
   "metadata": {},
   "outputs": [
    {
     "name": "stdout",
     "output_type": "stream",
     "text": [
      "p.x = 5\n"
     ]
    },
    {
     "data": {
      "text/plain": [
       "()"
      ]
     },
     "execution_count": 36,
     "metadata": {},
     "output_type": "execute_result"
    }
   ],
   "source": [
    "struct Point<T>{\n",
    "    x:T,\n",
    "    y:T,\n",
    "}\n",
    "\n",
    "impl<T> Point<T> {\n",
    "    fn x(&self) -> &T{\n",
    "        &self.x\n",
    "    }\n",
    "}\n",
    "\n",
    "{\n",
    "    let p = Point{x:5, y:10};\n",
    "    println!(\"p.x = {}\", p.x());\n",
    "}"
   ]
  },
  {
   "attachments": {},
   "cell_type": "markdown",
   "metadata": {},
   "source": [
    "> Listing 10-9: Implementing a method named x on the Point<T> struct that will  \n",
    "return a reference to the x field of type T\n",
    "\n",
    "Here, we’ve defined a method named x on Point<T> that returns a reference to the  \n",
    "data in the field x.\n",
    "\n",
    "Note that we have to declare T just after impl so we can use T to specify that  \n",
    "we’re implementing methods on the type Point<T>. By declaring T as a generic  \n",
    "type after impl, Rust can identify that the type in the angle brackets in Point  \n",
    "is a generic type rather than a concrete type. We could have chosen a different  \n",
    "name for this generic parameter than the generic parameter declared in the  \n",
    "struct definition, but using the same name is conventional. Methods written  \n",
    "within an impl that declares the generic type will be defined on any instance of  \n",
    "the type, no matter what concrete type ends up substituting for the generic  \n",
    "type. "
   ]
  },
  {
   "attachments": {},
   "cell_type": "markdown",
   "metadata": {},
   "source": [
    "We can also specify constraints on generic types when defining methods on the  \n",
    "type. We could, for example, implement methods only on Point<f32> instances  \n",
    "rather than on Point<T> instances with any generic type. In Listing 10-10 we use  \n",
    "the concrete type f32, meaning we don’t declare any types after impl.  \n",
    "\n",
    "> Filename: src/main.rs"
   ]
  },
  {
   "cell_type": "code",
   "execution_count": 40,
   "metadata": {},
   "outputs": [
    {
     "name": "stdout",
     "output_type": "stream",
     "text": [
      "p3.x = 5, p3.y = c\n"
     ]
    },
    {
     "data": {
      "text/plain": [
       "()"
      ]
     },
     "execution_count": 40,
     "metadata": {},
     "output_type": "execute_result"
    }
   ],
   "source": [
    "struct Point<X1, Y1>{\n",
    "    x:X1,\n",
    "    y:Y1,\n",
    "}\n",
    "\n",
    "impl<X1, Y1> Point<X1, Y1>{  // impl declares X1 and Y1 \n",
    "    // X2 and Y2 aren't declared until they are used in the `mixup` method\n",
    "    // - the point is generics can be declared at different levels as needed\n",
    "    fn mixup<X2, Y2>(self, other: Point<X2, Y2>) -> Point<X1, Y2>{\n",
    "        Point{\n",
    "            x: self.x,\n",
    "            y: other.y,\n",
    "        }\n",
    "    }\n",
    "}\n",
    "\n",
    "{\n",
    "    let p1 = Point{x:5, y:10.4};\n",
    "    let p2 = Point{x:\"Hello\", y:'c'};\n",
    "\n",
    "    let p3 = p1.mixup(p2);\n",
    "\n",
    "    println!(\"p3.x = {}, p3.y = {}\", p3.x, p3.y);\n",
    "}"
   ]
  },
  {
   "attachments": {},
   "cell_type": "markdown",
   "metadata": {},
   "source": [
    "> Listing 10-11: A method that uses generic types different from its struct’s  \n",
    "definition\n",
    "\n",
    "In main, we’ve defined a Point that has an i32 for x (with value 5) and an f64  \n",
    "for y (with value 10.4). The p2 variable is a Point struct that has a string  \n",
    "slice for x (with value \"Hello\") and a char for y (with value c). Calling mixup  \n",
    "on p1 with the argument p2 gives us p3, which will have an i32 for x, because x  \n",
    "came from p1. The p3 variable will have a char for y, because y came from p2.  \n",
    "The println! macro call will print p3.x = 5, p3.y = c.\n",
    "\n",
    "The purpose of this example is to demonstrate a situation in which some generic  \n",
    "parameters are declared with impl and some are declared with the method  \n",
    "definition. Here, the generic parameters X1 and Y1 are declared after impl  \n",
    "because they go with the struct definition. The generic parameters X2 and Y2 are  \n",
    "declared after fn mixup, because they’re only relevant to the method.\n",
    "\n"
   ]
  },
  {
   "attachments": {},
   "cell_type": "markdown",
   "metadata": {},
   "source": [
    "### Performance of Code Using Generics\n",
    "\n",
    "You might be wondering whether there is a runtime cost when using generic type  \n",
    "parameters. The good news is that using generic types won't make your program  \n",
    "run any slower than it would with concrete types.\n",
    "\n",
    "Rust accomplishes this by performing monomorphization of the code using generics  \n",
    "at compile time. Monomorphization is the process of turning generic code into  \n",
    "specific code by filling in the concrete types that are used when compiled. In  \n",
    "this process, the compiler does the opposite of the steps we used to create  \n",
    "the generic function in Listing 10-5: the compiler looks at all the places where  \n",
    "generic code is called and generates code for the concrete types the generic  \n",
    "code is called with."
   ]
  },
  {
   "attachments": {},
   "cell_type": "markdown",
   "metadata": {},
   "source": [
    "Let’s look at how this works by using the standard library’s generic Option<T>  \n",
    "enum:\n",
    "\n",
    "```rust\n",
    "let integer = Some(5);\n",
    "let float = Some(5.0);\n",
    "```\n",
    "\n",
    "When Rust compiles this code, it performs monomorphization. During that process,  \n",
    "the compiler reads the values that have been used in Option<T> instances and  \n",
    "identifies two kinds of Option<T>: one is i32 and the other is f64. As such, it  \n",
    "expands the generic definition of Option<T> into two definitions specialized to  \n",
    "i32 and f64, thereby replacing the generic definition with the specific ones.\n",
    "\n",
    "The monomorphized version of the code looks similar to the following (the  \n",
    "compiler uses different names than what we’re using here for illustration):\n",
    "\n",
    "> Filename: src/main.rs"
   ]
  },
  {
   "cell_type": "code",
   "execution_count": 43,
   "metadata": {},
   "outputs": [
    {
     "name": "stdout",
     "output_type": "stream",
     "text": [
      "integer = Some(5) float = Some(5.0)\n"
     ]
    },
    {
     "data": {
      "text/plain": [
       "()"
      ]
     },
     "execution_count": 43,
     "metadata": {},
     "output_type": "execute_result"
    }
   ],
   "source": [
    "#[derive(Debug)]\n",
    "enum Option_i32{\n",
    "    Some(i32),\n",
    "    None\n",
    "}\n",
    "\n",
    "#[derive(Debug)]\n",
    "enum Option_f64{\n",
    "    Some(f64),\n",
    "    None\n",
    "}\n",
    "\n",
    "{\n",
    "    let integer = Option_i32::Some(5);\n",
    "    let float = Option_f64::Some(5.0);\n",
    "\n",
    "    println!(\"integer = {:?} float = {:?}\", integer, float);\n",
    "}"
   ]
  },
  {
   "attachments": {},
   "cell_type": "markdown",
   "metadata": {},
   "source": [
    "The generic Option<T> is replaced with the specific definitions created by the  \n",
    "compiler. Because Rust compiles generic code into code that specifies the type  \n",
    "in each instance, we pay no runtime cost for using generics. When the code runs,  \n",
    "it performs just as it would if we had duplicated each definition by hand. The  \n",
    "process of monomorphization makes Rust’s generics extremely efficient at  \n",
    "runtime."
   ]
  },
  {
   "attachments": {},
   "cell_type": "markdown",
   "metadata": {},
   "source": [
    "Traits: Defining Shared Behavior\n",
    "---\n",
    "\n",
    "A trait defines functionality a particular type has and can share with other  \n",
    "types. We can use traits to define shared behavior in an abstract way. We can  \n",
    "use trait bounds to specify that a generic type can be any type that has certain  \n",
    "behavior.\n",
    "\n",
    "> Note: Traits are similar to a feature often called interfaces in other  \n",
    "languages, although with some differences."
   ]
  },
  {
   "attachments": {},
   "cell_type": "markdown",
   "metadata": {},
   "source": [
    "### Defining a Trait\n",
    "\n",
    "A type’s behavior consists of the methods we can call on that type. Different  \n",
    "types share the same behavior if we can call the same methods on all of those  \n",
    "types. Trait definitions are a way to group method signatures together to define  \n",
    "a set of behaviors necessary to accomplish some purpose.\n",
    "\n",
    "For example, let’s say we have multiple structs that hold various kinds and  \n",
    "amounts of text: a NewsArticle struct that holds a news story filed in a  \n",
    "particular location and a Tweet that can have at most 280 characters along with  \n",
    "metadata that indicates whether it was a new tweet, a retweet, or a reply to  \n",
    "another tweet.\n",
    "\n",
    "We want to make a media aggregator library crate named aggregator that can  \n",
    "display summaries of data that might be stored in a NewsArticle or Tweet  \n",
    "instance. To do this, we need a summary from each type, and we’ll request that  \n",
    "summary by calling a summarize method on an instance. Listing 10-12 shows the  \n",
    "definition of a public Summary trait that expresses this behavior.\n",
    "\n",
    "> Filename: src/lib.rs"
   ]
  },
  {
   "cell_type": "code",
   "execution_count": 4,
   "metadata": {},
   "outputs": [],
   "source": [
    "pub trait Summary{\n",
    "    fn summarize(&self) -> String;\n",
    "}"
   ]
  },
  {
   "attachments": {},
   "cell_type": "markdown",
   "metadata": {},
   "source": [
    "> Listing 10-12: A Summary trait that consists of the behavior provided by a  \n",
    "summarize method\n",
    "\n",
    "Here, we declare a trait using the trait keyword and then the trait’s name,  \n",
    "which is Summary in this case. We’ve also declared the trait as pub so that  \n",
    "crates depending on this crate can make use of this trait too, as we’ll see in  \n",
    "a few examples. Inside the curly brackets, we declare the method signatures  \n",
    "that describe the behaviors of the types that implement this trait, which in  \n",
    "this case is fn summarize(&self) -> String."
   ]
  },
  {
   "attachments": {},
   "cell_type": "markdown",
   "metadata": {},
   "source": [
    "After the method signature, instead of providing an implementation within curly  \n",
    "brackets, we use a semicolon. Each type implementing this trait must provide its  \n",
    "own custom behavior for the body of the method. The compiler will enforce that  \n",
    "any type that has the Summary trait will have the method summarize defined with  \n",
    "this signature exactly.\n",
    "\n",
    "A trait can have multiple methods in its body: the method signatures are listed  \n",
    "one per line and each line ends in a semicolon."
   ]
  },
  {
   "attachments": {},
   "cell_type": "markdown",
   "metadata": {},
   "source": [
    "### Implementing a Trait on a Type\n",
    "\n",
    "Now that we’ve defined the desired signatures of the Summary trait’s methods,  \n",
    "we can implement it on the types in our media aggregator. Listing 10-13 shows an  \n",
    "implementation of the Summary trait on the NewsArticle struct that uses the  \n",
    "headline, the author, and the location to create the return value of summarize.  \n",
    "For the Tweet struct, we define summarize as the username followed by the entire  \n",
    "text of the tweet, assuming that tweet content is already limited to 280  \n",
    "characters.\n",
    "\n",
    "> Filename: src/lib.rs"
   ]
  },
  {
   "cell_type": "code",
   "execution_count": 5,
   "metadata": {},
   "outputs": [
    {
     "name": "stdout",
     "output_type": "stream",
     "text": [
      "1 new tweet -> InternetsMainCharacter: Just witnessed another annoying thing that doesn't match MY world view!\n",
      "BREAKING : Ai bites dog, by Fred FearsGPT (SillyVille)\n"
     ]
    },
    {
     "data": {
      "text/plain": [
       "()"
      ]
     },
     "execution_count": 5,
     "metadata": {},
     "output_type": "execute_result"
    }
   ],
   "source": [
    "pub struct NewsArticle {\n",
    "    pub headline: String,\n",
    "    pub location: String,\n",
    "    pub author : String,\n",
    "    pub content: String,\n",
    "\n",
    "}\n",
    "\n",
    "impl Summary for NewsArticle{\n",
    "    fn summarize(&self) -> String{\n",
    "        format!(\"{}, by {} ({})\", self.headline, self.author, self.location)\n",
    "    }\n",
    "}\n",
    "\n",
    "pub struct Tweet {\n",
    "    pub username: String,\n",
    "    pub content: String,\n",
    "    pub reply: bool,\n",
    "    pub retweet: bool,\n",
    "}\n",
    "\n",
    "impl Summary for Tweet{\n",
    "    fn summarize(&self) -> String{\n",
    "        format!(\"{}: {}\", self.username, self.content)\n",
    "    }\n",
    "}\n",
    "\n",
    "{\n",
    "    let tweet = Tweet{\n",
    "        username: String::from(\"InternetsMainCharacter\"),\n",
    "        content: String::from(\"Just witnessed another annoying thing that doesn't match MY world view!\"),\n",
    "        reply: false,\n",
    "        retweet: false,\n",
    "    };\n",
    "    println!(\"1 new tweet -> {}\", tweet.summarize());\n",
    "\n",
    "    let article = NewsArticle{\n",
    "        headline: String::from(\"Ai bites dog\"),\n",
    "        location: String::from(\"SillyVille\"),\n",
    "        author: String::from(\"Fred FearsGPT\"),\n",
    "        content: String::from(\"What if man's best friend likes this?  Stopping training fixes it!\")\n",
    "    };\n",
    "    println!(\"BREAKING : {}\", article.summarize());\n",
    "}"
   ]
  },
  {
   "attachments": {},
   "cell_type": "markdown",
   "metadata": {},
   "source": [
    "> Listing 10-13: Implementing the Summary trait on the NewsArticle and Tweet types\n",
    "\n",
    "Implementing a trait on a type is similar to implementing regular methods. The  \n",
    "difference is that after impl, we put the trait name we want to implement, then  \n",
    "use the for keyword, and then specify the name of the type we want to implement  \n",
    "the trait for. Within the impl block, we put the method signatures that the  \n",
    "trait definition has defined. Instead of adding a semicolon after each  \n",
    "signature, we use curly brackets and fill in the method body with the specific  \n",
    "behavior that we want the methods of the trait to have for the particular type.  \n",
    "\n",
    "Now that the library has implemented the Summary trait on NewsArticle and Tweet,  \n",
    "users of the crate can call the trait methods on instances of NewsArticle and  \n",
    "Tweet in the same way we call regular methods. The only difference is that the  \n",
    "user must bring the trait into scope as well as the types. Here’s an example of  \n",
    "how a binary crate could use our aggregator library crate:"
   ]
  },
  {
   "cell_type": "code",
   "execution_count": 59,
   "metadata": {},
   "outputs": [
    {
     "ename": "Error",
     "evalue": "unresolved import `aggregator`",
     "output_type": "error",
     "traceback": [
      "\u001b[31m[E0432] Error:\u001b[0m unresolved import `aggregator`"
     ]
    },
    {
     "ename": "Error",
     "evalue": "unresolved import `aggregator`",
     "output_type": "error",
     "traceback": [
      "\u001b[31m[E0432] Error:\u001b[0m unresolved import `aggregator`"
     ]
    },
    {
     "ename": "Error",
     "evalue": "type `Option_f64` should have an upper camel case name",
     "output_type": "error",
     "traceback": [
      "\u001b[31m[non_camel_case_types] Error:\u001b[0m type `Option_f64` should have an upper camel case name"
     ]
    },
    {
     "ename": "Error",
     "evalue": "type `Option_i32` should have an upper camel case name",
     "output_type": "error",
     "traceback": [
      "\u001b[31m[non_camel_case_types] Error:\u001b[0m type `Option_i32` should have an upper camel case name"
     ]
    }
   ],
   "source": [
    "use aggregator::{Summary, Tweet}; // @todo - make this an external crate\n",
    "\n",
    "{\n",
    "    let tweet = Tweet{\n",
    "        username: String::from(\"InternetsMainCharacter\"),\n",
    "        content: String::from(\"Just witnessed another annoying thing that doesn't match MY world view!\"),\n",
    "        reply: false,\n",
    "        retweet: false,\n",
    "    };\n",
    "    println!(\"Top of feed -> {}\", tweet.summarize());\n",
    "}"
   ]
  },
  {
   "attachments": {},
   "cell_type": "markdown",
   "metadata": {},
   "source": [
    "This code prints 1 new tweet: horse_ebooks: of course, as you probably already  \n",
    "know, people.\n",
    "\n",
    "Other crates that depend on the aggregator crate can also bring the Summary  \n",
    "trait into scope to implement Summary on their own types. One restriction to  \n",
    "note is that we can implement a trait on a type only if at least one of the  \n",
    "trait or the type is local to our crate. For example, we can implement standard  \n",
    "library traits like Display on a custom type like Tweet as part of our  \n",
    "aggregator crate functionality, because the type Tweet is local to our  \n",
    "aggregator crate. We can also implement Summary on Vec<T> in our aggregator  \n",
    "crate, because the trait Summary is local to our aggregator crate.\n",
    "\n",
    "But we can’t implement external traits on external types. For example, we can’t  \n",
    "implement the Display trait on Vec<T> within our aggregator crate, because  \n",
    "Display and Vec<T> are both defined in the standard library and aren’t local to  \n",
    "our aggregator crate. This restriction is part of a property called coherence,  \n",
    "and more specifically the orphan rule, so named because the parent type is not  \n",
    "present. This rule ensures that other people’s code can’t break your code and  \n",
    "vice versa. Without the rule, two crates could implement the same trait for the  \n",
    "same type, and Rust wouldn’t know which implementation to use."
   ]
  },
  {
   "attachments": {},
   "cell_type": "markdown",
   "metadata": {},
   "source": [
    "### Default Implementations\n",
    "\n",
    "Sometimes it’s useful to have default behavior for some or all of the methods in  \n",
    "a trait instead of requiring implementations for all methods on every type.  \n",
    "Then, as we implement the trait on a particular type, we can keep or override  \n",
    "each method’s default behavior.\n",
    "\n",
    "In Listing 10-14 we specify a default string for the summarize method of the  \n",
    "Summary trait instead of only defining the method signature, as we did in  \n",
    "Listing 10-12.\n",
    "\n",
    "> Filename: src/lib.rs"
   ]
  },
  {
   "cell_type": "code",
   "execution_count": 2,
   "metadata": {},
   "outputs": [],
   "source": [
    "pub trait Summary{\n",
    "    fn summarize(&self) -> String{\n",
    "        String::from(\"Read more ...\")\n",
    "    }\n",
    "}\n"
   ]
  },
  {
   "attachments": {},
   "cell_type": "markdown",
   "metadata": {},
   "source": [
    "> Listing 10-14: Defining a Summary trait with a default implementation of the  \n",
    "summarize method\n",
    "\n",
    "To use a default implementation to summarize instances of NewsArticle, we  \n",
    "specify an empty impl block with impl Summary for NewsArticle {}.\n",
    "\n",
    "Even though we’re no longer defining the summarize method on NewsArticle  \n",
    "directly, we’ve provided a default implementation and specified that NewsArticle  \n",
    "implements the Summary trait. As a result, we can still call the summarize  \n",
    "method on an instance of NewsArticle, like this:"
   ]
  },
  {
   "cell_type": "code",
   "execution_count": 3,
   "metadata": {},
   "outputs": [
    {
     "name": "stdout",
     "output_type": "stream",
     "text": [
      "Reddit Feed! Read more ...\n"
     ]
    },
    {
     "data": {
      "text/plain": [
       "()"
      ]
     },
     "execution_count": 3,
     "metadata": {},
     "output_type": "execute_result"
    }
   ],
   "source": [
    "pub struct RedditPost {\n",
    "    pub headline: String,\n",
    "    pub location: String,\n",
    "    pub author : String,\n",
    "    pub content: String,\n",
    "}\n",
    "\n",
    "{\n",
    "    impl Summary for RedditPost{}\n",
    "\n",
    "    let article = RedditPost{\n",
    "        headline: String::from(\"Dog bites Ai back\"),\n",
    "        location: String::from(\"JusticeVille\"),\n",
    "        author : String::from(\"Karma_Canine\"),\n",
    "        content : String::from(\"Hearwarming story of man's besf friend evening the score!\"),\n",
    "    };\n",
    "    println!(\"Reddit Feed! {}\", article.summarize());\n",
    "}\n"
   ]
  },
  {
   "attachments": {},
   "cell_type": "markdown",
   "metadata": {},
   "source": [
    "This code prints New article available! (Read more...).\n",
    "\n",
    "Creating a default implementation doesn’t require us to change anything about  \n",
    "the implementation of Summary on Tweet in Listing 10-13. The reason is that the  \n",
    "syntax for overriding a default implementation is the same as the syntax for  \n",
    "implementing a trait method that doesn’t have a default implementation.\n",
    "\n",
    "Default implementations can call other methods in the same trait, even if those  \n",
    "other methods don’t have a default implementation. In this way, a trait can  \n",
    "provide a lot of useful functionality and only require implementors to specify  \n",
    "a small part of it. For example, we could define the Summary trait to have a  \n",
    "summarize_author method whose implementation is required, and then define a  \n",
    "summarize method that has a default implementation that calls the  \n",
    "summarize_author method:"
   ]
  },
  {
   "cell_type": "code",
   "execution_count": 7,
   "metadata": {},
   "outputs": [
    {
     "name": "stdout",
     "output_type": "stream",
     "text": [
      "Reddit Feed! (Read more from u/Karma_Canine ...)\n"
     ]
    },
    {
     "data": {
      "text/plain": [
       "()"
      ]
     },
     "execution_count": 7,
     "metadata": {},
     "output_type": "execute_result"
    }
   ],
   "source": [
    "// from aggregator lib crate\n",
    "pub trait Summary{\n",
    "    fn summarize_author(&self) -> String;\n",
    "    fn summarize(&self) -> String{\n",
    "        format!(\"(Read more from {} ...)\", self.summarize_author())\n",
    "    }\n",
    "}\n",
    "\n",
    "{   // main.rs for client crate\n",
    "    // To use this version of Summary, we only need to define :\n",
    "    // - summarize_author  \n",
    "    // when we implement the trait on a type:\n",
    "    impl Summary for RedditPost{\n",
    "        fn summarize_author(&self) -> String{\n",
    "            format!(\"u/{}\", self.author)\n",
    "        }\n",
    "    }\n",
    "\n",
    "    // After we define summarize_author, we can call summarize on instances of  \n",
    "    // the Reddit struct, and the default implementation of summarize will call  \n",
    "    // the definition of summarize_author that we’ve provided. Because we’ve  \n",
    "    // implemented summarize_author, the Summary trait has given us the behavior  \n",
    "    // of the summarize method without requiring us to write any more code.\n",
    "    let article = RedditPost{\n",
    "        headline: String::from(\"Dog bites Ai back\"),\n",
    "        location: String::from(\"JusticeVille\"),\n",
    "        author : String::from(\"Karma_Canine\"),\n",
    "        content : String::from(\"Hearwarming story of man's besf friend evening the score!\"),\n",
    "    };\n",
    "    println!(\"Reddit Feed! {}\", article.summarize());\n",
    "\n",
    "    \n",
    "}"
   ]
  },
  {
   "attachments": {},
   "cell_type": "markdown",
   "metadata": {},
   "source": [
    "> This code prints 1 new tweet: (Read more from @horse_ebooks...).\n",
    "\n",
    "Note that it isn’t possible to call the default implementation from an  \n",
    "overriding implementation of that same method."
   ]
  },
  {
   "attachments": {},
   "cell_type": "markdown",
   "metadata": {},
   "source": [
    "### Trait as Parameters\n",
    "\n",
    "Now that you know how to define and implement traits, we can explore how to use  \n",
    "traits to define functions that accept many different types. We'll use the  \n",
    "Summary trait we implemented on the NewsArticle and Tweet types in Listing  \n",
    "10-13 to define a notify function that calls the summarize method on its item  \n",
    "parameter, which is of some type that implements the Summary trait. To do this,  \n",
    "we use the impl Trait syntax, like this:"
   ]
  },
  {
   "cell_type": "code",
   "execution_count": 8,
   "metadata": {},
   "outputs": [],
   "source": [
    "pub fn notify(item : &impl Summary){\n",
    "    println!(\"Breaking news! {}\", item.summarize());\n",
    "}"
   ]
  },
  {
   "attachments": {},
   "cell_type": "markdown",
   "metadata": {},
   "source": [
    "Instead of a concrete type for the item parameter, we specify the impl keyword  \n",
    "and the trait name. This parameter accepts any type that implements the  \n",
    "specified trait. In the body of notify, we can call any methods on item that  \n",
    "come from the Summary trait, such as summarize. We can call notify and pass in  \n",
    "any instance of NewsArticle or Tweet. Code that calls the function with any  \n",
    "other type, such as a String or an i32, won’t compile because those types don’t  \n",
    "implement Summary."
   ]
  },
  {
   "attachments": {},
   "cell_type": "markdown",
   "metadata": {},
   "source": [
    "### Trait Bound Syntax\n",
    "\n",
    "The impl Trait syntax works for straightforward cases but is actually syntax  \n",
    " sugar for a longer form known as a trait bound; it looks like this:\n",
    "\n",
    "```rust\n",
    "pub fn notify<T: Summary>(item: &T) {\n",
    "    println!(\"Breaking news! {}\", item.summarize());\n",
    "}\n",
    "```\n",
    "\n",
    "This longer form is equivalent to the example in the previous section but is  \n",
    "more verbose. We place trait bounds with the declaration of the generic type  \n",
    "parameter after a colon and inside angle brackets.\n"
   ]
  },
  {
   "attachments": {},
   "cell_type": "markdown",
   "metadata": {},
   "source": [
    "The impl Trait syntax is convenient and makes for more concise code in simple  \n",
    "cases, while the fuller trait bound syntax can express more complexity in other  \n",
    "cases. For example, we can have two parameters that implement Summary. Doing so  \n",
    "with the impl Trait syntax looks like this:\n",
    "\n",
    "```rust\n",
    "pub fn notify(item1: &impl Summary, item2: &impl Summary) { ... }\n",
    "```\n",
    "\n",
    "Using impl Trait is appropriate if we want this function to allow item1 and  \n",
    "item2 to have different types (as long as both types implement Summary). If we  \n",
    "want to force both parameters to have the same type, however, we must use a  \n",
    "trait bound, like this:\n",
    "\n",
    "```rust\n",
    "pub fn notify<T: Summary>(item1: &T, item2: &T) { ... }\n",
    "```\n",
    "\n",
    "The generic type T specified as the type of the item1 and item2 parameters  \n",
    "constrains the function such that the concrete type of the value passed as an  \n",
    "argument for item1 and item2 must be the same.\n",
    "\n",
    "> What if I want items to be of different types, using trait bounds style?\n",
    "\n",
    "To allow items of different types in the `notify` function, you can use multiple  \n",
    "generic type parameters, like `T` and `U`. Be sure to update the function  \n",
    "signature and constraints accordingly. Here's an example:\n",
    "\n",
    "```rust\n",
    "pub fn notify<T: Summary, U: Summary>(item1: &T, item2: &U) { }\n",
    "```\n",
    "\n",
    "This function signature now accepts two items of potentially different types,  \n",
    "as long as both types implement the `Summary` trait."
   ]
  },
  {
   "attachments": {},
   "cell_type": "markdown",
   "metadata": {},
   "source": [
    "### Specifying Multiple Trait Bounds with the + Syntax\n",
    "\n",
    "We can also specify more than one trait bound. Say we wanted notify to use  \n",
    "display formatting as well as summarize on item: we specify in the notify  \n",
    "definition that item must implement both Display and Summary. We can do so  \n",
    "using the + syntax:\n",
    "\n",
    "```rust\n",
    "pub fn notify(item: &(impl Summary + Display)) { ... }\n",
    "```\n",
    "\n",
    "The + syntax is also valid with trait bounds on generic types:\n",
    "\n",
    "```rust\n",
    "pub fn notify<T: Summary + Display>(item: &T) { ... }\n",
    "```\n",
    "\n",
    "With the two trait bounds specified, the body of notify can call summarize and  \n",
    "use {} to format item."
   ]
  },
  {
   "attachments": {},
   "cell_type": "markdown",
   "metadata": {},
   "source": [
    "### Clearer Trait Bounds with Where Clause\n",
    "\n",
    "Using too many trait bounds has its downsides. Each generic has its own trait  \n",
    "bounds, so functions with multiple generic type parameters can contain lots of  \n",
    "trait bound information between the function’s name and its parameter list,  \n",
    "making the function signature hard to read. For this reason, Rust has alternate  \n",
    "syntax for specifying trait bounds inside a where clause after the function  \n",
    "signature. So instead of writing this:\n",
    "\n",
    "```rust\n",
    "fn some_function<T: Display + Clone, U: Clone + Debug>(t: &T, u: &U) -> i32 { ... }\n",
    "```\n",
    "\n",
    "we can use a where clause, like this:  \n",
    "\n",
    "```rust\n",
    "fn some_function<T, U>(t: &T, u: &U) -> i32\n",
    "where\n",
    "    T: Display + Clone,\n",
    "    U: Clone + Debug,\n",
    "{ ... }\n",
    "```\n",
    "This function’s signature is less cluttered: the function name, parameter list,  \n",
    "and return type are close together, similar to a function without lots of trait  \n",
    "bounds."
   ]
  },
  {
   "attachments": {},
   "cell_type": "markdown",
   "metadata": {},
   "source": [
    "### Returning Types that Implement Traits\n",
    "\n",
    "We can also use the impl Trait syntax in the return position to return a value  \n",
    "of some type that implements a trait, as shown here:\n",
    "\n",
    "```rust\n",
    "fn returns_summarizable() -> impl Summary {\n",
    "    Tweet {\n",
    "        username: String::from(\"horse_ebooks\"),\n",
    "        content: String::from(\n",
    "            \"of course, as you probably already know, people\",\n",
    "        ),\n",
    "        reply: false,\n",
    "        retweet: false,\n",
    "    }\n",
    "}\n",
    "```\n",
    "By using impl Summary for the return type, we specify that the  \n",
    "returns_summarizable function returns some type that implements the Summary  \n",
    "trait without naming the concrete type. In this case, returns_summarizable  \n",
    "returns a Tweet, but the code calling this function doesn’t need to know that."
   ]
  },
  {
   "attachments": {},
   "cell_type": "markdown",
   "metadata": {},
   "source": [
    "The ability to specify a return type only by the trait it implements is  \n",
    "especially useful in the context of closures and iterators, which we cover in  \n",
    "Chapter 13. Closures and iterators create types that only the compiler knows or  \n",
    "types that are very long to specify. The impl Trait syntax lets you concisely  \n",
    "specify that a function returns some type that implements the Iterator trait  \n",
    "without needing to write out a very long type.  \n",
    "\n",
    "However, you can only use impl Trait if you’re returning a single type. For  \n",
    "example, this code that returns either a NewsArticle or a Tweet with the return  \n",
    "type specified as impl Summary wouldn’t work:"
   ]
  },
  {
   "cell_type": "code",
   "execution_count": 6,
   "metadata": {},
   "outputs": [
    {
     "ename": "Error",
     "evalue": "`if` and `else` have incompatible types",
     "output_type": "error",
     "traceback": [
      "\u001b[31m[E0308] Error:\u001b[0m `if` and `else` have incompatible types",
      "    \u001b[38;5;246m╭\u001b[0m\u001b[38;5;246m─\u001b[0m\u001b[38;5;246m[\u001b[0mcommand_6:1:1\u001b[38;5;246m]\u001b[0m",
      "    \u001b[38;5;246m│\u001b[0m",
      " \u001b[38;5;246m 2 │\u001b[0m \u001b[38;5;68m╭\u001b[0m\u001b[38;5;68m─\u001b[0m\u001b[38;5;68m─\u001b[0m\u001b[38;5;68m─\u001b[0m\u001b[38;5;68m─\u001b[0m\u001b[38;5;68m─\u001b[0m\u001b[38;5;68m▶\u001b[0m\u001b[38;5;68m \u001b[0m\u001b[38;5;249m \u001b[0m\u001b[38;5;249m \u001b[0m\u001b[38;5;249m \u001b[0m\u001b[38;5;249m \u001b[0m\u001b[38;5;68mi\u001b[0m\u001b[38;5;68mf\u001b[0m\u001b[38;5;68m \u001b[0m\u001b[38;5;68ms\u001b[0m\u001b[38;5;68mw\u001b[0m\u001b[38;5;68mi\u001b[0m\u001b[38;5;68mt\u001b[0m\u001b[38;5;68mc\u001b[0m\u001b[38;5;68mh\u001b[0m\u001b[38;5;68m{\u001b[0m",
      " \u001b[38;5;246m 3 │\u001b[0m \u001b[38;5;68m│\u001b[0m \u001b[38;5;100m╭\u001b[0m\u001b[38;5;100m─\u001b[0m\u001b[38;5;100m─\u001b[0m\u001b[38;5;100m─\u001b[0m\u001b[38;5;100m▶\u001b[0m\u001b[38;5;100m \u001b[0m\u001b[38;5;68m \u001b[0m\u001b[38;5;68m \u001b[0m\u001b[38;5;68m \u001b[0m\u001b[38;5;68m \u001b[0m\u001b[38;5;68m \u001b[0m\u001b[38;5;68m \u001b[0m\u001b[38;5;68m \u001b[0m\u001b[38;5;68m \u001b[0m\u001b[38;5;100mN\u001b[0m\u001b[38;5;100me\u001b[0m\u001b[38;5;100mw\u001b[0m\u001b[38;5;100ms\u001b[0m\u001b[38;5;100mA\u001b[0m\u001b[38;5;100mr\u001b[0m\u001b[38;5;100mt\u001b[0m\u001b[38;5;100mi\u001b[0m\u001b[38;5;100mc\u001b[0m\u001b[38;5;100ml\u001b[0m\u001b[38;5;100me\u001b[0m\u001b[38;5;100m{\u001b[0m",
      " \u001b[38;5;246m   ⋮\u001b[0m \u001b[38;5;68m⋮\u001b[0m \u001b[38;5;100m⋮\u001b[0m     ",
      " \u001b[38;5;246m 8 │\u001b[0m \u001b[38;5;68m│\u001b[0m \u001b[38;5;100m├\u001b[0m\u001b[38;5;100m─\u001b[0m\u001b[38;5;100m─\u001b[0m\u001b[38;5;100m─\u001b[0m\u001b[38;5;100m▶\u001b[0m\u001b[38;5;100m \u001b[0m\u001b[38;5;100m \u001b[0m\u001b[38;5;100m \u001b[0m\u001b[38;5;100m \u001b[0m\u001b[38;5;100m \u001b[0m\u001b[38;5;100m \u001b[0m\u001b[38;5;100m \u001b[0m\u001b[38;5;100m \u001b[0m\u001b[38;5;100m \u001b[0m\u001b[38;5;100m}\u001b[0m",
      " \u001b[38;5;246m   ·\u001b[0m \u001b[38;5;68m│\u001b[0m \u001b[38;5;100m│\u001b[0m                 ",
      " \u001b[38;5;246m   ·\u001b[0m \u001b[38;5;68m│\u001b[0m \u001b[38;5;100m╰\u001b[0m\u001b[38;5;100m─\u001b[0m\u001b[38;5;100m─\u001b[0m\u001b[38;5;100m─\u001b[0m\u001b[38;5;100m─\u001b[0m\u001b[38;5;100m─\u001b[0m\u001b[38;5;100m─\u001b[0m\u001b[38;5;100m─\u001b[0m\u001b[38;5;100m─\u001b[0m\u001b[38;5;100m─\u001b[0m\u001b[38;5;100m─\u001b[0m\u001b[38;5;100m─\u001b[0m\u001b[38;5;100m─\u001b[0m\u001b[38;5;100m─\u001b[0m\u001b[38;5;100m─\u001b[0m\u001b[38;5;100m─\u001b[0m\u001b[38;5;100m─\u001b[0m\u001b[38;5;100m─\u001b[0m expected because of this",
      " \u001b[38;5;246m   ⋮\u001b[0m \u001b[38;5;68m⋮\u001b[0m       ",
      " \u001b[38;5;246m11 │\u001b[0m \u001b[38;5;68m│\u001b[0m   \u001b[38;5;54m╭\u001b[0m\u001b[38;5;54m─\u001b[0m\u001b[38;5;54m▶\u001b[0m\u001b[38;5;54m \u001b[0m\u001b[38;5;68m \u001b[0m\u001b[38;5;68m \u001b[0m\u001b[38;5;68m \u001b[0m\u001b[38;5;68m \u001b[0m\u001b[38;5;68m \u001b[0m\u001b[38;5;68m \u001b[0m\u001b[38;5;68m \u001b[0m\u001b[38;5;68m \u001b[0m\u001b[38;5;54mT\u001b[0m\u001b[38;5;54mw\u001b[0m\u001b[38;5;54me\u001b[0m\u001b[38;5;54me\u001b[0m\u001b[38;5;54mt\u001b[0m\u001b[38;5;54m{\u001b[0m",
      " \u001b[38;5;246m   ⋮\u001b[0m \u001b[38;5;68m⋮\u001b[0m   \u001b[38;5;54m⋮\u001b[0m   ",
      " \u001b[38;5;246m16 │\u001b[0m \u001b[38;5;68m│\u001b[0m   \u001b[38;5;54m├\u001b[0m\u001b[38;5;54m─\u001b[0m\u001b[38;5;54m▶\u001b[0m\u001b[38;5;54m \u001b[0m\u001b[38;5;54m \u001b[0m\u001b[38;5;54m \u001b[0m\u001b[38;5;54m \u001b[0m\u001b[38;5;54m \u001b[0m\u001b[38;5;54m \u001b[0m\u001b[38;5;54m \u001b[0m\u001b[38;5;54m \u001b[0m\u001b[38;5;54m \u001b[0m\u001b[38;5;54m}\u001b[0m",
      " \u001b[38;5;246m   ·\u001b[0m \u001b[38;5;68m│\u001b[0m   \u001b[38;5;54m│\u001b[0m               ",
      " \u001b[38;5;246m   ·\u001b[0m \u001b[38;5;68m│\u001b[0m   \u001b[38;5;54m╰\u001b[0m\u001b[38;5;54m─\u001b[0m\u001b[38;5;54m─\u001b[0m\u001b[38;5;54m─\u001b[0m\u001b[38;5;54m─\u001b[0m\u001b[38;5;54m─\u001b[0m\u001b[38;5;54m─\u001b[0m\u001b[38;5;54m─\u001b[0m\u001b[38;5;54m─\u001b[0m\u001b[38;5;54m─\u001b[0m\u001b[38;5;54m─\u001b[0m\u001b[38;5;54m─\u001b[0m\u001b[38;5;54m─\u001b[0m\u001b[38;5;54m─\u001b[0m\u001b[38;5;54m─\u001b[0m\u001b[38;5;54m─\u001b[0m expected `NewsArticle`, found `Tweet`",
      " \u001b[38;5;246m17 │\u001b[0m \u001b[38;5;68m├\u001b[0m\u001b[38;5;68m─\u001b[0m\u001b[38;5;68m─\u001b[0m\u001b[38;5;68m─\u001b[0m\u001b[38;5;68m─\u001b[0m\u001b[38;5;68m─\u001b[0m\u001b[38;5;68m▶\u001b[0m\u001b[38;5;68m \u001b[0m\u001b[38;5;68m \u001b[0m\u001b[38;5;68m \u001b[0m\u001b[38;5;68m \u001b[0m\u001b[38;5;68m \u001b[0m\u001b[38;5;68m}\u001b[0m",
      " \u001b[38;5;246m   ·\u001b[0m \u001b[38;5;68m│\u001b[0m               ",
      " \u001b[38;5;246m   ·\u001b[0m \u001b[38;5;68m╰\u001b[0m\u001b[38;5;68m─\u001b[0m\u001b[38;5;68m─\u001b[0m\u001b[38;5;68m─\u001b[0m\u001b[38;5;68m─\u001b[0m\u001b[38;5;68m─\u001b[0m\u001b[38;5;68m─\u001b[0m\u001b[38;5;68m─\u001b[0m\u001b[38;5;68m─\u001b[0m\u001b[38;5;68m─\u001b[0m\u001b[38;5;68m─\u001b[0m\u001b[38;5;68m─\u001b[0m\u001b[38;5;68m─\u001b[0m\u001b[38;5;68m─\u001b[0m\u001b[38;5;68m─\u001b[0m\u001b[38;5;68m─\u001b[0m `if` and `else` have incompatible types",
      "\u001b[38;5;246m────╯\u001b[0m"
     ]
    }
   ],
   "source": [
    "fn returns_summarizable(switch:bool)-> impl Summary{\n",
    "    if switch{\n",
    "        NewsArticle{\n",
    "            headline: String::from(\"Morning Sun rises 2 minutes late : warning issued\"),\n",
    "            location: String::from(\"ClocksTown\"),\n",
    "            author : String::from(\"Ms.HourGlass\"),\n",
    "            content : String::from(\"The Sun needs to do better, given how the Moon is always on time!\"),\n",
    "        }\n",
    "    }\n",
    "    else{\n",
    "        Tweet{\n",
    "            username: String::from(\"InternetsMainCharacter\"),\n",
    "            content: String::from(\"The Moon Mind Virus is the greatest threat to humanity!\"),\n",
    "            reply: false,\n",
    "            retweet: false,\n",
    "        }\n",
    "    }\n",
    "\n",
    "}\n",
    "\n",
    "// Compile Error :\n",
    "// @audit - We’ll cover how to write a function with this behavior in the  \n",
    "// “Using Trait Objects That Allow for Values of Different Types” section of  \n",
    "// Chapter 17."
   ]
  },
  {
   "attachments": {},
   "cell_type": "markdown",
   "metadata": {},
   "source": [
    "Returning either a NewsArticle or a Tweet isn’t allowed due to restrictions  \n",
    "around how the impl Trait syntax is implemented in the compiler. We’ll cover  \n",
    "how to write a function with this behavior in the  \n",
    "“Using Trait Objects That Allow for Values of Different Types” section of  \n",
    "Chapter 17."
   ]
  },
  {
   "attachments": {},
   "cell_type": "markdown",
   "metadata": {},
   "source": [
    "### Using Trait Bounds to Conditionally Implement Methods\n",
    "\n",
    "By using a trait bound with an impl block that uses generic type parameters, we  \n",
    "can implement methods conditionally for types that implement the specified  \n",
    "traits. For example, the type Pair<T> in Listing 10-15 always implements the  \n",
    "new function to return a new instance of Pair<T> (recall from the  \n",
    "“Defining Methods” section of Chapter 5 that Self is a type alias for the type  \n",
    "of the impl block, which in this case is Pair<T>). But in the next impl block,  \n",
    "Pair<T> only implements the cmp_display method if its inner type T implements  \n",
    "the PartialOrd trait that enables comparison and the Display trait that enables  \n",
    "printing.\n",
    "\n",
    "> Filename: src/lib.rs"
   ]
  },
  {
   "cell_type": "code",
   "execution_count": 7,
   "metadata": {},
   "outputs": [],
   "source": [
    "use std::fmt::Display;\n",
    "\n",
    "struct Pair<T>{\n",
    "    x:T,\n",
    "    y:T,\n",
    "}\n",
    "\n",
    "impl<T> Pair<T>{\n",
    "    fn new(x:T, y:T) -> Self{\n",
    "        Self{x, y}\n",
    "    }\n",
    "}\n",
    "\n",
    "impl<T:Display + PartialOrd> Pair<T>{\n",
    "    fn cmp_display(&self){\n",
    "        if self.x >= self.y{\n",
    "            println!(\"The largest member is x = {}\", self.x);\n",
    "        }\n",
    "        else{\n",
    "            println!(\"The largest member is y = {}\", self.y);\n",
    "        }\n",
    "    }\n",
    "}"
   ]
  },
  {
   "attachments": {},
   "cell_type": "markdown",
   "metadata": {},
   "source": [
    "> I'll break down the code snippet line by line and explain the concepts of  \n",
    "borrowing, ownership, stack and heap allocation, as well as other relevant information.\n",
    "\n",
    "```rust\n",
    "use std::fmt::Display;\n",
    "```\n",
    "This line imports the `Display` trait from the `std::fmt` module, which is used  \n",
    "for formatting types as strings for display purposes.\n",
    "\n",
    "```rust\n",
    "struct Pair<T> {\n",
    "    x: T,\n",
    "    y: T,\n",
    "}\n",
    "```\n",
    "This defines a generic `Pair` struct with a type parameter `T`. The struct has  \n",
    "two fields, `x` and `y`, both of the same type `T`. In this example, the data is  \n",
    "stored on the stack, as there's no heap allocation involved.\n",
    "\n",
    "```rust\n",
    "impl<T> Pair<T> {\n",
    "    fn new(x: T, y: T) -> Self {\n",
    "        Self { x, y }\n",
    "    }\n",
    "}\n",
    "```\n",
    "This block of code defines an implementation for the `Pair` struct with the  \n",
    "same generic type parameter `T`. It includes a `new` function that takes two  \n",
    "parameters of type `T` (ownership of the values is transferred to the function)  \n",
    "and returns a new `Pair` instance. The new `Pair` is also stored on the stack,  \n",
    "as there's no heap allocation involved.\n",
    "\n",
    "```rust\n",
    "impl<T: Display + PartialOrd> Pair<T> {\n",
    "    fn cmp_display(&self) {\n",
    "        if self.x >= self.y {\n",
    "            println!(\"The largest member is x = {}\", self.x);\n",
    "        } else {\n",
    "            println!(\"The largest member is y = {}\", self.y);\n",
    "        }\n",
    "    }\n",
    "}\n",
    "```\n",
    "This block of code defines another implementation for the `Pair` struct, but  \n",
    "this time it has trait bounds on the generic type parameter `T`. The type `T`  \n",
    "must implement both the `Display` trait (for display purposes) and the  \n",
    "`PartialOrd` trait (for ordering comparisons). This implementation includes a  \n",
    "`cmp_display` function that takes a reference to an instance of `Pair` (`&self`).  \n",
    "Since it takes a reference, it borrows `self` instead of taking ownership.  \n",
    "\n",
    "The `cmp_display` function checks if `self.x` is greater than or equal to  \n",
    "`self.y` using the `PartialOrd` trait's `>=` operator. Based on the comparison,  \n",
    "it prints the largest member using the `Display` trait's formatting capabilities.  \n",
    "Since the function only borrows `self`, no ownership is transferred, and the  \n",
    "original `Pair` instance remains unchanged outside the function.\n",
    "\n",
    "In this code snippet, all the data is stored on the stack, as there are no heap  \n",
    "allocations involved. The concepts of borrowing and ownership come into play  \n",
    "when passing values to functions (transferring ownership in the case of `new`  \n",
    "function) and when borrowing a reference to `self` in the `cmp_display` function."
   ]
  },
  {
   "attachments": {},
   "cell_type": "markdown",
   "metadata": {},
   "source": [
    "> Listing 10-15: Conditionally implementing methods on a generic type depending  \n",
    "on trait bounds\n",
    "\n",
    "We can also conditionally implement a trait for any type that implements another  \n",
    "trait. Implementations of a trait on any type that satisfies the trait bounds  \n",
    "are called blanket implementations and are extensively used in the Rust standard  \n",
    "library. For example, the standard library implements the ToString trait on any  \n",
    "type that implements the Display trait. The impl block in the standard library  \n",
    "looks similar to this code:\n",
    "\n",
    "```rust\n",
    "impl <T:Display> ToString for T{\n",
    "    // --snip--\n",
    "}\n",
    "```"
   ]
  },
  {
   "attachments": {},
   "cell_type": "markdown",
   "metadata": {},
   "source": [
    "Because the standard library has this blanket implementation, we can call the  \n",
    "to_string method defined by the ToString trait on any type that implements the  \n",
    "Display trait. For example, we can turn integers into their corresponding String  \n",
    "values like this because integers implement Display:\n",
    "\n",
    "```rust\n",
    "let s = 3.to_string();\n",
    "```\n",
    "\n",
    "Blanket implementations appear in the documentation for the trait in the  \n",
    "“Implementors” section."
   ]
  },
  {
   "attachments": {},
   "cell_type": "markdown",
   "metadata": {},
   "source": [
    "Traits and trait bounds let us write code that uses generic type parameters to  \n",
    "reduce duplication but also specify to the compiler that we want the generic  \n",
    "type to have particular behavior. The compiler can then use the trait bound  \n",
    "information to check that all the concrete types used with our code provide the  \n",
    "correct behavior. In dynamically typed languages, we would get an error at  \n",
    "runtime if we called a method on a type which didn’t define the method. But Rust  \n",
    "moves these errors to compile time so we’re forced to fix the problems before  \n",
    "our code is even able to run. Additionally, we don’t have to write code that  \n",
    "checks for behavior at runtime because we’ve already checked at compile time.  \n",
    "Doing so improves performance without having to give up the flexibility of  \n",
    "generics."
   ]
  },
  {
   "attachments": {},
   "cell_type": "markdown",
   "metadata": {},
   "source": [
    "Validating References with Lifetimes\n",
    "---\n",
    "\n",
    "Lifetimes are another kind of generic that we’ve already been using. Rather than  \n",
    "ensuring that a type has the behavior we want, lifetimes ensure that references  \n",
    "are valid as long as we need them to be.  \n",
    "\n",
    "One detail we didn’t discuss in the “References and Borrowing” section in  \n",
    "Chapter 4 is that every reference in Rust has a lifetime, which is the scope for  \n",
    "which that reference is valid. Most of the time, lifetimes are implicit and  \n",
    "inferred, just like most of the time, types are inferred. We only must annotate  \n",
    "types when multiple types are possible. In a similar way, we must annotate  \n",
    "lifetimes when the lifetimes of references could be related in a few different  \n",
    "ways. Rust requires us to annotate the relationships using generic lifetime  \n",
    "parameters to ensure the actual references used at runtime will definitely be  \n",
    "valid.\n",
    "\n",
    "Annotating lifetimes is not even a concept most other programming languages  \n",
    "have, so this is going to feel unfamiliar. Although we won’t cover lifetimes in  \n",
    "their entirety in this chapter, we’ll discuss common ways you might encounter  \n",
    "lifetime syntax so you can get comfortable with the concept.  "
   ]
  },
  {
   "attachments": {},
   "cell_type": "markdown",
   "metadata": {},
   "source": [
    "### Preventing Dangling References with Lifetimes\n",
    "\n",
    "The main aim of lifetimes is to prevent dangling references, which cause a  \n",
    "program to reference data other than the data it’s intended to reference.  \n",
    "Consider the program in Listing 10-16, which has an outer scope and an inner  \n",
    "scope."
   ]
  },
  {
   "cell_type": "code",
   "execution_count": 17,
   "metadata": {},
   "outputs": [
    {
     "ename": "Error",
     "evalue": "`x` does not live long enough",
     "output_type": "error",
     "traceback": [
      "\u001b[31m[E0597] Error:\u001b[0m `x` does not live long enough",
      "   \u001b[38;5;246m╭\u001b[0m\u001b[38;5;246m─\u001b[0m\u001b[38;5;246m[\u001b[0mcommand_17:1:1\u001b[38;5;246m]\u001b[0m",
      "   \u001b[38;5;246m│\u001b[0m",
      " \u001b[38;5;246m4 │\u001b[0m \u001b[38;5;249m \u001b[0m\u001b[38;5;249m \u001b[0m\u001b[38;5;249m \u001b[0m\u001b[38;5;249m \u001b[0m\u001b[38;5;249m \u001b[0m\u001b[38;5;249m \u001b[0m\u001b[38;5;249m \u001b[0m\u001b[38;5;249m \u001b[0m\u001b[38;5;249ml\u001b[0m\u001b[38;5;249me\u001b[0m\u001b[38;5;249mt\u001b[0m\u001b[38;5;249m \u001b[0m\u001b[38;5;68mx\u001b[0m\u001b[38;5;249m \u001b[0m\u001b[38;5;249m=\u001b[0m\u001b[38;5;249m \u001b[0m\u001b[38;5;249m5\u001b[0m\u001b[38;5;249m;\u001b[0m",
      " \u001b[38;5;246m  ·\u001b[0m             \u001b[38;5;68m┬\u001b[0m  ",
      " \u001b[38;5;246m  ·\u001b[0m             \u001b[38;5;68m╰\u001b[0m\u001b[38;5;68m─\u001b[0m\u001b[38;5;68m─\u001b[0m binding `x` declared here",
      " \u001b[38;5;246m5 │\u001b[0m \u001b[38;5;249m \u001b[0m\u001b[38;5;249m \u001b[0m\u001b[38;5;249m \u001b[0m\u001b[38;5;249m \u001b[0m\u001b[38;5;249m \u001b[0m\u001b[38;5;249m \u001b[0m\u001b[38;5;249m \u001b[0m\u001b[38;5;249m \u001b[0m\u001b[38;5;249mr\u001b[0m\u001b[38;5;249m \u001b[0m\u001b[38;5;249m=\u001b[0m\u001b[38;5;249m \u001b[0m\u001b[38;5;54m&\u001b[0m\u001b[38;5;54mx\u001b[0m\u001b[38;5;249m;\u001b[0m",
      " \u001b[38;5;246m  ·\u001b[0m             \u001b[38;5;54m─\u001b[0m\u001b[38;5;54m┬\u001b[0m  ",
      " \u001b[38;5;246m  ·\u001b[0m              \u001b[38;5;54m╰\u001b[0m\u001b[38;5;54m─\u001b[0m\u001b[38;5;54m─\u001b[0m borrowed value does not live long enough",
      " \u001b[38;5;246m6 │\u001b[0m \u001b[38;5;249m \u001b[0m\u001b[38;5;249m \u001b[0m\u001b[38;5;249m \u001b[0m\u001b[38;5;249m \u001b[0m\u001b[38;5;100m}\u001b[0m",
      " \u001b[38;5;246m  ·\u001b[0m     \u001b[38;5;100m┬\u001b[0m  ",
      " \u001b[38;5;246m  ·\u001b[0m     \u001b[38;5;100m╰\u001b[0m\u001b[38;5;100m─\u001b[0m\u001b[38;5;100m─\u001b[0m `x` dropped here while still borrowed",
      " \u001b[38;5;246m  ·\u001b[0m ",
      " \u001b[38;5;246m8 │\u001b[0m \u001b[38;5;249m \u001b[0m\u001b[38;5;249m \u001b[0m\u001b[38;5;249m \u001b[0m\u001b[38;5;249m \u001b[0m\u001b[38;5;249mp\u001b[0m\u001b[38;5;249mr\u001b[0m\u001b[38;5;249mi\u001b[0m\u001b[38;5;249mn\u001b[0m\u001b[38;5;249mt\u001b[0m\u001b[38;5;249ml\u001b[0m\u001b[38;5;249mn\u001b[0m\u001b[38;5;249m!\u001b[0m\u001b[38;5;249m(\u001b[0m\u001b[38;5;249m\"\u001b[0m\u001b[38;5;249mr\u001b[0m\u001b[38;5;249m \u001b[0m\u001b[38;5;249m:\u001b[0m\u001b[38;5;249m \u001b[0m\u001b[38;5;249m{\u001b[0m\u001b[38;5;249m}\u001b[0m\u001b[38;5;249m\"\u001b[0m\u001b[38;5;249m,\u001b[0m\u001b[38;5;249m \u001b[0m\u001b[38;5;37mr\u001b[0m\u001b[38;5;249m)\u001b[0m\u001b[38;5;249m;\u001b[0m",
      " \u001b[38;5;246m  ·\u001b[0m                        \u001b[38;5;37m┬\u001b[0m  ",
      " \u001b[38;5;246m  ·\u001b[0m                        \u001b[38;5;37m╰\u001b[0m\u001b[38;5;37m─\u001b[0m\u001b[38;5;37m─\u001b[0m borrow later used here",
      "\u001b[38;5;246m───╯\u001b[0m"
     ]
    }
   ],
   "source": [
    "{\n",
    "    let r;\n",
    "    {\n",
    "        let x = 5;\n",
    "        r = &x;\n",
    "    }\n",
    "\n",
    "    println!(\"r : {}\", r);\n",
    "}"
   ]
  },
  {
   "attachments": {},
   "cell_type": "markdown",
   "metadata": {},
   "source": [
    "> Listing 10-16: An attempt to use a reference whose value has gone out of scope  \n",
    "\n",
    "> Note: The examples in Listings 10-16, 10-17, and 10-23 declare variables  \n",
    "without giving them an initial value, so the variable name exists in the outer  \n",
    "scope. At first glance, this might appear to be in conflict with Rust’s having  \n",
    "no null values. However, if we try to use a variable before giving it a value,  \n",
    "we’ll get a compile-time error, which shows that Rust indeed does not allow null  \n",
    "values.\n",
    "\n",
    "The outer scope declares a variable named r with no initial value, and the inner  \n",
    "scope declares a variable named x with the initial value of 5. Inside the inner  \n",
    "scope, we attempt to set the value of r as a reference to x. Then the inner  \n",
    "scope ends, and we attempt to print the value in r. This code won’t compile  \n",
    "because the value r is referring to has gone out of scope before we try to use  \n",
    "it. Here is the error message:\n",
    "\n"
   ]
  },
  {
   "cell_type": "code",
   "execution_count": 16,
   "metadata": {},
   "outputs": [
    {
     "name": "stdout",
     "output_type": "stream",
     "text": [
      "The longest string is everyone\n"
     ]
    }
   ],
   "source": [
    "fn longest<'a>(x: &'a str, y: &'a str) -> &'a str {\n",
    "    if x.len() > y.len() {\n",
    "        x\n",
    "    } else {\n",
    "        y\n",
    "    }\n",
    "}\n",
    "\n",
    "{ // entering main block scope\n",
    "    let string1 = String::from(\"hello\"); // ownership of \"hello\" string from\n",
    "\t\t\t\t\t\t\t\t\t     // the heap assigned to string1\n",
    "\tlet _string2 = \"world\";   // \"world\" is a static string slice ... meaning\n",
    "\t\t\t\t\t\t\t // it has a static lifetime AND are stored in the\n",
    "\t\t\t\t\t\t\t // BINARY! Essentially an asset that persist \n",
    "\t\t\t\t\t\t\t // through the ENTIRE duration of the exe program\n",
    "\t\t\t\t\t\t\t // - An asset with NO OWNERSHIP and no part of\n",
    "\t\t\t\t\t\t\t // our code is responsible for dealloc\n",
    "\t\t\t\t\t\t\t // #i-will-stab-you \n",
    "    let result;              // declare a variable result, \n",
    "\t\t\t\t\t\t     // it's unitialized at this point\n",
    "\n",
    "    {   // entering inner block scope\n",
    "        let _string3 = String::from(\"goodbye\"); // heap allocates \"goodbye\" str\n",
    "\t\t\t\t\t\t\t\t\t\t       // and ownership assigned to \n",
    "\t\t\t\t\t\t\t\t\t\t       // string3 var\n",
    "        let string4 = \"everyone\";   // \"everyone\" is a static string slice\n",
    "\t\t\t\t\t\t\t        // stored in the BINARY and persists\n",
    "\t\t\t\t\t\t\t        // through the ENTIRE duration of the\n",
    "\t\t\t\t\t\t\t        // exe program run\n",
    "\t\t\t\t\t\t\t        // - An asset with NO OWNERSHIP and no\n",
    "\t\t\t\t\t\t\t        // part of code is responsible for dealloc\n",
    "\t\t// ownership of string3 and string4 are borrowed by longest()\n",
    "\t\t// - the lifetime of the borrowed reference is tied to inner scope\n",
    "        // result == \"everyone\"\n",
    "        result = longest(string1.as_str(), string4); \n",
    "\n",
    "    }   // exiting inner block scope\n",
    "\t    // `string4` ... what happens?\n",
    "\t    // - the string4 ref on the stack goes out of scope and are popped\n",
    "\t    // - but the \"everone\" persists in a fixed location in the BINARY\n",
    "\t    // - it is NOT stored on the HEAP, so no dealloc takes place!\n",
    "\t    // `string3` goes out of scope, \n",
    "\t    // - the heap address it points to is released\n",
    "\t    // - ref is popped off the stack and memory is fully freed\n",
    "\t    // `result` was declared in the main block scope lifetime \n",
    "\t    // - so it will persist after the inner closure ends\n",
    "\t    // - it maintains it's address to the static 'everyone' string\n",
    "\t    // inner scope stackframe is popped and we return back to main scope\n",
    "\n",
    "    println!(\"The longest string is {}\", result);\n",
    "}   // exiting main block scope"
   ]
  },
  {
   "attachments": {},
   "cell_type": "markdown",
   "metadata": {},
   "source": [
    "### The Borrow Checker\n",
    "\n",
    "The Rust compiler has a borrow checker that compares scopes to determine whether  \n",
    "all borrows are valid. Listing 10-17 shows the same code as Listing 10-16 but  \n",
    "with annotations showing the lifetimes of the variables. \n",
    "\n",
    "```rust\n",
    "fn main() {\n",
    "    let r;                // ---------+-- 'a\n",
    "                          //          |\n",
    "    {                     //          |\n",
    "        let x = 5;        // -+-- 'b  |\n",
    "        r = &x;           //  |       |\n",
    "    }                     // -+       |\n",
    "                          //          |\n",
    "    println!(\"r: {}\", r); //          |\n",
    "}                         // ---------+\n",
    "```\n",
    "\n",
    "> Listing 10-17: Annotations of the lifetimes of r and x, named 'a and 'b,  \n",
    "respectively"
   ]
  },
  {
   "attachments": {},
   "cell_type": "markdown",
   "metadata": {},
   "source": [
    "Here, we’ve annotated the lifetime of r with 'a and the lifetime of x with 'b.  \n",
    "As you can see, the inner 'b block is much smaller than the outer 'a lifetime  \n",
    "block. At compile time, Rust compares the size of the two lifetimes and sees  \n",
    "that r has a lifetime of 'a but that it refers to memory with a lifetime of 'b.  \n",
    "The program is rejected because 'b is shorter than 'a: the subject of the  \n",
    "reference doesn’t live as long as the reference.\n",
    "\n",
    "> Listing 10-18 fixes the code so it doesn’t have a dangling reference and  \n",
    "compiles without any errors.\n",
    "\n",
    "```rust\n",
    "fn main() {\n",
    "    let x = 5;            // ----------+-- 'b\n",
    "                          //           |\n",
    "    let r = &x;           // --+-- 'a  |\n",
    "                          //   |       |\n",
    "    println!(\"r: {}\", r); //   |       |\n",
    "                          // --+       |\n",
    "}                         // ----------+\n",
    "```\n"
   ]
  },
  {
   "attachments": {},
   "cell_type": "markdown",
   "metadata": {},
   "source": [
    "Here, x has the lifetime 'b, which in this case is larger than 'a. This means r  \n",
    "can reference x because Rust knows that the reference in r will always be valid  \n",
    "while x is valid.\n",
    "\n",
    "Now that you know where the lifetimes of references are and how Rust analyzes  \n",
    "lifetimes to ensure references will always be valid, let’s explore generic  \n",
    "lifetimes of parameters and return values in the context of functions."
   ]
  },
  {
   "attachments": {},
   "cell_type": "markdown",
   "metadata": {},
   "source": [
    "### Generic Lifetimes in Functions\n",
    "\n",
    "We’ll write a function that returns the longer of two string slices. This  \n",
    "function will take two string slices and return a single string slice. After  \n",
    "we’ve implemented the longest function, the code in Listing 10-19 should print  \n",
    "The longest string is abcd."
   ]
  },
  {
   "cell_type": "code",
   "execution_count": 6,
   "metadata": {},
   "outputs": [
    {
     "name": "stdout",
     "output_type": "stream",
     "text": [
      "The longest string is abcd\n"
     ]
    },
    {
     "data": {
      "text/plain": [
       "()"
      ]
     },
     "execution_count": 6,
     "metadata": {},
     "output_type": "execute_result"
    }
   ],
   "source": [
    "{\n",
    "    let string1 = String::from(\"abcd\");\n",
    "    let string2 = \"xyz\";\n",
    "\n",
    "    let result = longest(string1.as_str(), string2);\n",
    "    println!(\"The longest string is {}\", result);\n",
    "}"
   ]
  },
  {
   "attachments": {},
   "cell_type": "markdown",
   "metadata": {},
   "source": [
    "> Listing 10-19: A main function that calls the longest function to find the  \n",
    "longer of two string slices\n",
    "\n",
    "Note that we want the function to take string slices, which are references,  \n",
    "rather than strings, because we don’t want the longest function to take  \n",
    "ownership of its parameters. Refer to the “String Slices as Parameters” section  \n",
    "in Chapter 4 for more discussion about why the parameters we use in   \n",
    "Listing 10-19 are the ones we want."
   ]
  },
  {
   "cell_type": "code",
   "execution_count": 3,
   "metadata": {},
   "outputs": [
    {
     "ename": "Error",
     "evalue": "missing lifetime specifier",
     "output_type": "error",
     "traceback": [
      "\u001b[31m[E0106] Error:\u001b[0m missing lifetime specifier",
      "   \u001b[38;5;246m╭\u001b[0m\u001b[38;5;246m─\u001b[0m\u001b[38;5;246m[\u001b[0mcommand_3:1:1\u001b[38;5;246m]\u001b[0m",
      "   \u001b[38;5;246m│\u001b[0m",
      " \u001b[38;5;246m4 │\u001b[0m \u001b[38;5;249mf\u001b[0m\u001b[38;5;249mn\u001b[0m\u001b[38;5;249m \u001b[0m\u001b[38;5;249ml\u001b[0m\u001b[38;5;249mo\u001b[0m\u001b[38;5;249mn\u001b[0m\u001b[38;5;249mg\u001b[0m\u001b[38;5;249me\u001b[0m\u001b[38;5;249ms\u001b[0m\u001b[38;5;249mt\u001b[0m\u001b[38;5;249m(\u001b[0m\u001b[38;5;249mx\u001b[0m\u001b[38;5;249m:\u001b[0m\u001b[38;5;249m \u001b[0m\u001b[38;5;249m&\u001b[0m\u001b[38;5;249ms\u001b[0m\u001b[38;5;249mt\u001b[0m\u001b[38;5;249mr\u001b[0m\u001b[38;5;249m,\u001b[0m\u001b[38;5;249m \u001b[0m\u001b[38;5;249my\u001b[0m\u001b[38;5;249m:\u001b[0m\u001b[38;5;249m \u001b[0m\u001b[38;5;249m&\u001b[0m\u001b[38;5;249ms\u001b[0m\u001b[38;5;249mt\u001b[0m\u001b[38;5;249mr\u001b[0m\u001b[38;5;249m)\u001b[0m\u001b[38;5;249m-\u001b[0m\u001b[38;5;249m>\u001b[0m\u001b[38;5;249m \u001b[0m\u001b[38;5;54m&\u001b[0m\u001b[38;5;249ms\u001b[0m\u001b[38;5;249mt\u001b[0m\u001b[38;5;249mr\u001b[0m\u001b[38;5;249m{\u001b[0m",
      " \u001b[38;5;246m  ·\u001b[0m                                \u001b[38;5;54m┬\u001b[0m  ",
      " \u001b[38;5;246m  ·\u001b[0m                                \u001b[38;5;54m╰\u001b[0m\u001b[38;5;54m─\u001b[0m\u001b[38;5;54m─\u001b[0m expected named lifetime parameter",
      "\u001b[38;5;246m───╯\u001b[0m"
     ]
    }
   ],
   "source": [
    "/// This function will return the longest string slice\n",
    "/// - x, y, and returned are all string slices, which are references\n",
    "/// because we don't want to take ownership of the strings passed in\n",
    "fn longest(x: &str, y: &str)-> &str{\n",
    "    if x.len() > y.len(){\n",
    "        x\n",
    "    } else {\n",
    "        y\n",
    "    }\n",
    "}"
   ]
  },
  {
   "attachments": {},
   "cell_type": "markdown",
   "metadata": {},
   "source": [
    "> Listing 10-20: An implementation of the longest function that returns the  \n",
    "longer of two string slices but does not yet compile\n",
    "\n",
    "Instead, we get the following error that talks about lifetimes:\n",
    "\n",
    "```sh\n",
    "$ cargo run\n",
    "   Compiling chapter10 v0.1.0 (file:///projects/chapter10)\n",
    "error[E0106]: missing lifetime specifier\n",
    " --> src/main.rs:9:33\n",
    "  |\n",
    "9 | fn longest(x: &str, y: &str) -> &str {\n",
    "  |               ----     ----     ^ expected named lifetime parameter\n",
    "  |\n",
    "  = help: this function's return type contains a borrowed value, but the signature does not say whether it is borrowed from `x` or `y`\n",
    "help: consider introducing a named lifetime parameter\n",
    "  |\n",
    "9 | fn longest<'a>(x: &'a str, y: &'a str) -> &'a str {\n",
    "  |           ++++     ++          ++          ++\n",
    "\n",
    "For more information about this error, try `rustc --explain E0106`.\n",
    "error: could not compile `chapter10` due to previous error\n",
    "```\n",
    "\n",
    "The help text reveals that the return type needs a generic lifetime parameter on  \n",
    "it because Rust can’t tell whether the reference being returned refers to x or  \n",
    "y. Actually, `we don’t know either`, because the if block in the body of this  \n",
    "function returns a reference to x and the else block returns a reference to y!\n",
    "\n",
    "When we’re defining this function : \n",
    "- we don’t know the concrete values that will be passed into this function, \n",
    "- so we don’t know whether the if case or the else case will execute. \n",
    "\n",
    "We also don’t know the concrete lifetimes of the references that will be passed  \n",
    "in, so we can’t look at the scopes as we did in Listings 10-17 and 10-18 to  \n",
    "determine whether the reference we return will always be valid. \n",
    "\n",
    "The `borrow checker can’t determine this either`, because :  \n",
    "- it doesn’t know how the lifetimes of x and y  \n",
    "- relate to the lifetime of the return value.  \n",
    "\n",
    "To fix this error, we’ll add generic lifetime parameters that define the  \n",
    "relationship  between the references so the borrow checker can perform its  \n",
    "analysis."
   ]
  },
  {
   "attachments": {},
   "cell_type": "markdown",
   "metadata": {},
   "source": [
    "### Lifetime Annotation Syntax\n",
    "\n",
    "Lifetime annotations don’t change how long any of the references live. Rather,  \n",
    "they describe the relationships of the lifetimes of multiple references to each  \n",
    "other without affecting the lifetimes. Just as functions can accept any type  \n",
    "when the signature specifies a generic type parameter, functions can accept  \n",
    "references with any lifetime by specifying a generic lifetime parameter.\n",
    "\n",
    "Lifetime annotations have a slightly unusual syntax: the names of lifetime  \n",
    "parameters must start with an apostrophe (') and are usually all lowercase and  \n",
    "very short, like generic types. Most people use the name 'a for the first  \n",
    "lifetime annotation. We place lifetime parameter annotations after the & of a  \n",
    "reference, using a space to separate the annotation from the reference’s type."
   ]
  },
  {
   "attachments": {},
   "cell_type": "markdown",
   "metadata": {},
   "source": [
    "Here are some examples: a reference to an i32 without a lifetime parameter, a  \n",
    "reference to an i32 that has a lifetime parameter named 'a, and a mutable  \n",
    "reference to an i32 that also has the lifetime 'a.\n",
    "\n",
    "```rust\n",
    "&i32        // a reference\n",
    "&'a i32     // a reference with an explicit lifetime\n",
    "&'a mut i32 // a mutable reference with an explicit lifetime\n",
    "```\n",
    "\n",
    "One lifetime annotation by itself doesn’t have much meaning, because the  \n",
    "annotations are meant to tell Rust how generic lifetime parameters of multiple  \n",
    "references relate to each other. Let’s examine how the lifetime annotations  \n",
    "relate to each other in the context of the longest function."
   ]
  },
  {
   "attachments": {},
   "cell_type": "markdown",
   "metadata": {},
   "source": [
    "### Lifetime Annotations in Function Signatures\n",
    "\n",
    "To use lifetime annotations in function signatures, we need to declare the  \n",
    "generic lifetime parameters inside angle brackets between the function name and  \n",
    "the parameter list, just as we did with generic type parameters.\n",
    "\n",
    "We want the signature to express the following constraint: the returned  \n",
    "reference will be valid as long as both the parameters are valid. This is the  \n",
    "relationship between lifetimes of the parameters and the return value. We’ll  \n",
    "name the lifetime 'a and then add it to each reference, as shown in Listing  \n",
    "10-21."
   ]
  },
  {
   "cell_type": "code",
   "execution_count": 13,
   "metadata": {},
   "outputs": [],
   "source": [
    "fn longest<'a>(x: &'a str, y: &'a str) -> &'a str {\n",
    "    if x.len() > y.len() {\n",
    "        x\n",
    "    } else {\n",
    "        y\n",
    "    }\n",
    "}"
   ]
  },
  {
   "cell_type": "code",
   "execution_count": 15,
   "metadata": {},
   "outputs": [
    {
     "name": "stdout",
     "output_type": "stream",
     "text": [
      "(grabs mic) : `Imma going to tell you my life story!`\n"
     ]
    },
    {
     "data": {
      "text/plain": [
       "()"
      ]
     },
     "execution_count": 15,
     "metadata": {},
     "output_type": "execute_result"
    }
   ],
   "source": [
    "// This will return a reference to the long (string) value\n",
    "{\n",
    "    let long = String::from(\"Imma going to tell you my life story!\");   // --------------+ 'a -> longest\n",
    "    let result;                                                         //               |\n",
    "                                                                        //               |\n",
    "    {                                                                   // -- + -- 'b    |\n",
    "        let short = \"meh\";                                              //    |          |\n",
    "        result = longest(long.as_str(), short);                         //    |          |\n",
    "    }                                                                   // -- +          |\n",
    "                                                                        //               |  \n",
    "    println!(\"(grabs mic) : `{}`\", result);                             // --------------+ 'a -> longest\n",
    "}"
   ]
  },
  {
   "cell_type": "code",
   "execution_count": 16,
   "metadata": {},
   "outputs": [
    {
     "ename": "Error",
     "evalue": "cannot find value `short` in this scope",
     "output_type": "error",
     "traceback": [
      "\u001b[31m[E0425] Error:\u001b[0m cannot find value `short` in this scope",
      "   \u001b[38;5;246m╭\u001b[0m\u001b[38;5;246m─\u001b[0m\u001b[38;5;246m[\u001b[0mcommand_16:1:1\u001b[38;5;246m]\u001b[0m",
      "   \u001b[38;5;246m│\u001b[0m",
      " \u001b[38;5;246m8 │\u001b[0m \u001b[38;5;249m \u001b[0m\u001b[38;5;249m \u001b[0m\u001b[38;5;249m \u001b[0m\u001b[38;5;249m \u001b[0m\u001b[38;5;249m \u001b[0m\u001b[38;5;249m \u001b[0m\u001b[38;5;249m \u001b[0m\u001b[38;5;249m \u001b[0m\u001b[38;5;249mr\u001b[0m\u001b[38;5;249me\u001b[0m\u001b[38;5;249ms\u001b[0m\u001b[38;5;249mu\u001b[0m\u001b[38;5;249ml\u001b[0m\u001b[38;5;249mt\u001b[0m\u001b[38;5;249m \u001b[0m\u001b[38;5;249m=\u001b[0m\u001b[38;5;249m \u001b[0m\u001b[38;5;249ml\u001b[0m\u001b[38;5;249mo\u001b[0m\u001b[38;5;249mn\u001b[0m\u001b[38;5;249mg\u001b[0m\u001b[38;5;249me\u001b[0m\u001b[38;5;249ms\u001b[0m\u001b[38;5;249mt\u001b[0m\u001b[38;5;249m(\u001b[0m\u001b[38;5;249ml\u001b[0m\u001b[38;5;249mo\u001b[0m\u001b[38;5;249mn\u001b[0m\u001b[38;5;249mg\u001b[0m\u001b[38;5;249m.\u001b[0m\u001b[38;5;249ma\u001b[0m\u001b[38;5;249ms\u001b[0m\u001b[38;5;249m_\u001b[0m\u001b[38;5;249ms\u001b[0m\u001b[38;5;249mt\u001b[0m\u001b[38;5;249mr\u001b[0m\u001b[38;5;249m(\u001b[0m\u001b[38;5;249m)\u001b[0m\u001b[38;5;249m,\u001b[0m\u001b[38;5;249m \u001b[0m\u001b[38;5;54ms\u001b[0m\u001b[38;5;54mh\u001b[0m\u001b[38;5;54mo\u001b[0m\u001b[38;5;54mr\u001b[0m\u001b[38;5;54mt\u001b[0m\u001b[38;5;249m)\u001b[0m\u001b[38;5;249m;\u001b[0m",
      " \u001b[38;5;246m  ·\u001b[0m                                         \u001b[38;5;54m─\u001b[0m\u001b[38;5;54m─\u001b[0m\u001b[38;5;54m┬\u001b[0m\u001b[38;5;54m─\u001b[0m\u001b[38;5;54m─\u001b[0m  ",
      " \u001b[38;5;246m  ·\u001b[0m                                           \u001b[38;5;54m╰\u001b[0m\u001b[38;5;54m─\u001b[0m\u001b[38;5;54m─\u001b[0m\u001b[38;5;54m─\u001b[0m\u001b[38;5;54m─\u001b[0m not found in this scope",
      "\u001b[38;5;246m───╯\u001b[0m"
     ]
    }
   ],
   "source": [
    "// Will error out since long (string) value doesn't live long enough\n",
    "{\n",
    "    let shorter = \"meh\";                                                    // --------------+ 'a \n",
    "    let result;                                                             //               |\n",
    "                                                                            //               |\n",
    "    {                                                                       // -- + -- 'b ------> longest (scoped)\n",
    "        let long = String::from(\"Imma going to tell you my life story!\");   //    |          |\n",
    "        result = longest(long.as_str(), short);                             //    |          |\n",
    "    }                                                                       // -- +          |--> longest (dropped)\n",
    "                                                                            //               |  \n",
    "    println!(\"(grabs mic) : `{}`\", result);                                 // --------------+ 'a -> error\n",
    "\n",
    "}\n",
    "                                                                            // - longest is in 'b lifetime\n",
    "                                                                            // - println! is in 'a lifetime\n",
    "                                                                            // longest has been outlived\n",
    "// @audit : The lifetime returned by longest() will be the SMALLER of the two\n",
    "// x and y lifetimes!"
   ]
  },
  {
   "attachments": {},
   "cell_type": "markdown",
   "metadata": {},
   "source": [
    "> Listing 10-21: The longest function definition specifying that all the  \n",
    "references in the signature must have the same lifetime 'a\n",
    "\n",
    "This code should compile and produce the result we want when we use it with the  \n",
    "main function in Listing 10-19.\n",
    "\n",
    "The function signature now tells Rust that for some lifetime 'a, the function  \n",
    "takes two parameters, both of which are string slices that live at least as long  \n",
    "as lifetime 'a. The function signature also tells Rust that the string slice  \n",
    "returned from the function will live at least as long as lifetime 'a. In  \n",
    "practice, it means that the lifetime of the reference returned by the longest  \n",
    "function is the same as the smaller of the lifetimes of the values referred to  \n",
    "by the function arguments. These relationships are what we want Rust to use when  \n",
    "analyzing this code.\n",
    "\n",
    "Remember, when we specify the lifetime parameters in this function signature,  \n",
    "we’re not changing the lifetimes of any values passed in or returned. Rather,  \n",
    "we’re specifying that the borrow checker should reject any values that don’t  \n",
    "adhere to these constraints. \n",
    "\n",
    "> Note that the longest function doesn’t need to know exactly how long x and y  \n",
    "will live, only that some scope can be substituted for 'a that will satisfy this  \n",
    "signature."
   ]
  },
  {
   "attachments": {},
   "cell_type": "markdown",
   "metadata": {},
   "source": [
    "***\n",
    "###### GPT > Can you give me an example where values don’t “adhere to these constraints” where the borrower checker would reject\n",
    "***\n",
    "\n",
    "Certainly! Let's consider an example where the borrow checker would reject the  \n",
    "code due to lifetimes not adhering to the specified constraints.\n",
    "\n",
    "```rust\n",
    "fn main() {\n",
    "    let string1 = String::from(\"long string is long\");\n",
    "    let result;\n",
    "    {\n",
    "        let string2 = String::from(\"short\");\n",
    "        result = longest(string1.as_str(), string2.as_str());\n",
    "    }\n",
    "    println!(\"The longest string is: {}\", result);\n",
    "}\n",
    "\n",
    "fn longest<'a>(x: &'a str, y: &'a str) -> &'a str {\n",
    "    if x.len() > y.len() {\n",
    "        x\n",
    "    } else {\n",
    "        y\n",
    "    }\n",
    "}\n",
    "```\n",
    "\n",
    "In this example, `string1` is created in the outer scope of the `main` function,  \n",
    "and `string2` is created in an inner scope. When we call the `longest` function,  \n",
    "both `string1` and `string2` are borrowed as string slices and passed to the  \n",
    "function.\n",
    "\n",
    "The `longest` function returns a reference with the same lifetime as the shorter  \n",
    "of the two input lifetimes. In this case, since `string2` has a shorter lifetime  \n",
    "(due to the inner scope), the returned reference will have the same lifetime as  \n",
    "`string2`.\n",
    "\n",
    "However, when the inner scope ends, `string2` is dropped, and its memory is  \n",
    "deallocated. As a result, the reference stored in `result` becomes a dangling  \n",
    "reference, pointing to memory that is no longer valid.\n",
    "\n",
    "The borrow checker identifies this issue due to the lifetime constraints  \n",
    "specified in the `longest` function signature. It recognizes that the reference  \n",
    "returned by `longest` would outlive one of its input references (`string2`),  \n",
    "which is not allowed according to the `'a` lifetime annotations. Therefore,  \n",
    "the borrow checker rejects the code, and it fails to compile with an error  \n",
    "message indicating the lifetime issue."
   ]
  },
  {
   "attachments": {},
   "cell_type": "markdown",
   "metadata": {},
   "source": [
    "When annotating lifetimes in functions, the annotations go in the function  \n",
    "signature, not in the function body. The lifetime annotations become part of  \n",
    "the contract of the function, much like the types in the signature. Having  \n",
    "function signatures contain the lifetime contract means the analysis the Rust  \n",
    "compiler does can be simpler. If there’s a problem with the way a function is  \n",
    "annotated or the way it is called, the compiler errors can point to the part of  \n",
    "our code and the constraints more precisely. If, instead, the Rust compiler made  \n",
    "more inferences about what we intended the relationships of the lifetimes to be,  \n",
    "the compiler might only be able to point to a use of our code many steps away  \n",
    "from the cause of the problem.\n",
    "\n",
    "When we pass concrete references to longest, the concrete lifetime that is  \n",
    "substituted for 'a is the part of the scope of x that overlaps with the scope  \n",
    "of y. In other words, the generic lifetime 'a will get the concrete lifetime  \n",
    "that is equal to the smaller of the lifetimes of x and y. Because we’ve  \n",
    "annotated the returned reference with the same lifetime parameter 'a, the  \n",
    "returned reference will also be valid for the length of the smaller of the  \n",
    "lifetimes of x and y.\n",
    "\n",
    "Let’s look at how the lifetime annotations restrict the longest function by  \n",
    "passing in references that have different concrete lifetimes. Listing 10-22 is  \n",
    "a straightforward example."
   ]
  },
  {
   "cell_type": "code",
   "execution_count": 18,
   "metadata": {},
   "outputs": [
    {
     "name": "stdout",
     "output_type": "stream",
     "text": [
      "The longest string is `long string is long`\n"
     ]
    },
    {
     "data": {
      "text/plain": [
       "()"
      ]
     },
     "execution_count": 18,
     "metadata": {},
     "output_type": "execute_result"
    }
   ],
   "source": [
    "{\n",
    "    let string1 = String::from(\"long string is long\");\n",
    "\n",
    "    {\n",
    "        let string2 = String::from(\"xyz\");\n",
    "        let result = longest(string1.as_str(), string2.as_str());\n",
    "        println!(\"The longest string is `{}`\", result);\n",
    "    }\n",
    "}"
   ]
  },
  {
   "attachments": {},
   "cell_type": "markdown",
   "metadata": {},
   "source": [
    "> Listing 10-22: Using the longest function with references to String values  \n",
    "that have different concrete lifetimes\n",
    "\n",
    "In this example :  \n",
    "- `string1` is valid until the end of the `outer scope`, \n",
    "- `string2` is valid until the end of the `inner scope`, and \n",
    "- `result` references something that is valid until the end of the `inner scope`. \n",
    "\n",
    "Run this code, and you’ll see that the borrow checker approves; it will compile  \n",
    "and print The longest string is `long string is long`."
   ]
  },
  {
   "attachments": {},
   "cell_type": "markdown",
   "metadata": {},
   "source": [
    "Next, let’s try an example that shows that the lifetime of the reference in  \n",
    "result must be the smaller lifetime of the two arguments. We’ll move the  \n",
    "declaration of the result variable outside the inner scope but leave the  \n",
    "assignment of the value to the result variable inside the scope with string2.  \n",
    "\n",
    "Then we’ll move the println! that uses result to outside the inner scope, after  \n",
    "the inner scope has ended. The code in Listing 10-23 will not compile."
   ]
  },
  {
   "cell_type": "code",
   "execution_count": 19,
   "metadata": {},
   "outputs": [
    {
     "ename": "Error",
     "evalue": "`string2` does not live long enough",
     "output_type": "error",
     "traceback": [
      "\u001b[31m[E0597] Error:\u001b[0m `string2` does not live long enough",
      "   \u001b[38;5;246m╭\u001b[0m\u001b[38;5;246m─\u001b[0m\u001b[38;5;246m[\u001b[0mcommand_19:1:1\u001b[38;5;246m]\u001b[0m",
      "   \u001b[38;5;246m│\u001b[0m",
      " \u001b[38;5;246m5 │\u001b[0m \u001b[38;5;249m \u001b[0m\u001b[38;5;249m \u001b[0m\u001b[38;5;249m \u001b[0m\u001b[38;5;249m \u001b[0m\u001b[38;5;249m \u001b[0m\u001b[38;5;249m \u001b[0m\u001b[38;5;249m \u001b[0m\u001b[38;5;249m \u001b[0m\u001b[38;5;249ml\u001b[0m\u001b[38;5;249me\u001b[0m\u001b[38;5;249mt\u001b[0m\u001b[38;5;249m \u001b[0m\u001b[38;5;68ms\u001b[0m\u001b[38;5;68mt\u001b[0m\u001b[38;5;68mr\u001b[0m\u001b[38;5;68mi\u001b[0m\u001b[38;5;68mn\u001b[0m\u001b[38;5;68mg\u001b[0m\u001b[38;5;68m2\u001b[0m\u001b[38;5;249m \u001b[0m\u001b[38;5;249m=\u001b[0m\u001b[38;5;249m \u001b[0m\u001b[38;5;249mS\u001b[0m\u001b[38;5;249mt\u001b[0m\u001b[38;5;249mr\u001b[0m\u001b[38;5;249mi\u001b[0m\u001b[38;5;249mn\u001b[0m\u001b[38;5;249mg\u001b[0m\u001b[38;5;249m:\u001b[0m\u001b[38;5;249m:\u001b[0m\u001b[38;5;249mf\u001b[0m\u001b[38;5;249mr\u001b[0m\u001b[38;5;249mo\u001b[0m\u001b[38;5;249mm\u001b[0m\u001b[38;5;249m(\u001b[0m\u001b[38;5;249m\"\u001b[0m\u001b[38;5;249mx\u001b[0m\u001b[38;5;249my\u001b[0m\u001b[38;5;249mz\u001b[0m\u001b[38;5;249m\"\u001b[0m\u001b[38;5;249m)\u001b[0m\u001b[38;5;249m;\u001b[0m",
      " \u001b[38;5;246m  ·\u001b[0m             \u001b[38;5;68m─\u001b[0m\u001b[38;5;68m─\u001b[0m\u001b[38;5;68m─\u001b[0m\u001b[38;5;68m┬\u001b[0m\u001b[38;5;68m─\u001b[0m\u001b[38;5;68m─\u001b[0m\u001b[38;5;68m─\u001b[0m  ",
      " \u001b[38;5;246m  ·\u001b[0m                \u001b[38;5;68m╰\u001b[0m\u001b[38;5;68m─\u001b[0m\u001b[38;5;68m─\u001b[0m\u001b[38;5;68m─\u001b[0m\u001b[38;5;68m─\u001b[0m\u001b[38;5;68m─\u001b[0m binding `string2` declared here",
      " \u001b[38;5;246m6 │\u001b[0m \u001b[38;5;249m \u001b[0m\u001b[38;5;249m \u001b[0m\u001b[38;5;249m \u001b[0m\u001b[38;5;249m \u001b[0m\u001b[38;5;249m \u001b[0m\u001b[38;5;249m \u001b[0m\u001b[38;5;249m \u001b[0m\u001b[38;5;249m \u001b[0m\u001b[38;5;249mr\u001b[0m\u001b[38;5;249me\u001b[0m\u001b[38;5;249ms\u001b[0m\u001b[38;5;249mu\u001b[0m\u001b[38;5;249ml\u001b[0m\u001b[38;5;249mt\u001b[0m\u001b[38;5;249m \u001b[0m\u001b[38;5;249m=\u001b[0m\u001b[38;5;249m \u001b[0m\u001b[38;5;249ml\u001b[0m\u001b[38;5;249mo\u001b[0m\u001b[38;5;249mn\u001b[0m\u001b[38;5;249mg\u001b[0m\u001b[38;5;249me\u001b[0m\u001b[38;5;249ms\u001b[0m\u001b[38;5;249mt\u001b[0m\u001b[38;5;249m(\u001b[0m\u001b[38;5;249ms\u001b[0m\u001b[38;5;249mt\u001b[0m\u001b[38;5;249mr\u001b[0m\u001b[38;5;249mi\u001b[0m\u001b[38;5;249mn\u001b[0m\u001b[38;5;249mg\u001b[0m\u001b[38;5;249m1\u001b[0m\u001b[38;5;249m.\u001b[0m\u001b[38;5;249ma\u001b[0m\u001b[38;5;249ms\u001b[0m\u001b[38;5;249m_\u001b[0m\u001b[38;5;249ms\u001b[0m\u001b[38;5;249mt\u001b[0m\u001b[38;5;249mr\u001b[0m\u001b[38;5;249m(\u001b[0m\u001b[38;5;249m)\u001b[0m\u001b[38;5;249m,\u001b[0m\u001b[38;5;249m \u001b[0m\u001b[38;5;54ms\u001b[0m\u001b[38;5;54mt\u001b[0m\u001b[38;5;54mr\u001b[0m\u001b[38;5;54mi\u001b[0m\u001b[38;5;54mn\u001b[0m\u001b[38;5;54mg\u001b[0m\u001b[38;5;54m2\u001b[0m\u001b[38;5;54m.\u001b[0m\u001b[38;5;54ma\u001b[0m\u001b[38;5;54ms\u001b[0m\u001b[38;5;54m_\u001b[0m\u001b[38;5;54ms\u001b[0m\u001b[38;5;54mt\u001b[0m\u001b[38;5;54mr\u001b[0m\u001b[38;5;54m(\u001b[0m\u001b[38;5;54m)\u001b[0m\u001b[38;5;249m)\u001b[0m\u001b[38;5;249m;\u001b[0m",
      " \u001b[38;5;246m  ·\u001b[0m                                            \u001b[38;5;54m─\u001b[0m\u001b[38;5;54m─\u001b[0m\u001b[38;5;54m─\u001b[0m\u001b[38;5;54m─\u001b[0m\u001b[38;5;54m─\u001b[0m\u001b[38;5;54m─\u001b[0m\u001b[38;5;54m─\u001b[0m\u001b[38;5;54m─\u001b[0m\u001b[38;5;54m┬\u001b[0m\u001b[38;5;54m─\u001b[0m\u001b[38;5;54m─\u001b[0m\u001b[38;5;54m─\u001b[0m\u001b[38;5;54m─\u001b[0m\u001b[38;5;54m─\u001b[0m\u001b[38;5;54m─\u001b[0m\u001b[38;5;54m─\u001b[0m  ",
      " \u001b[38;5;246m  ·\u001b[0m                                                    \u001b[38;5;54m╰\u001b[0m\u001b[38;5;54m─\u001b[0m\u001b[38;5;54m─\u001b[0m\u001b[38;5;54m─\u001b[0m\u001b[38;5;54m─\u001b[0m\u001b[38;5;54m─\u001b[0m\u001b[38;5;54m─\u001b[0m\u001b[38;5;54m─\u001b[0m\u001b[38;5;54m─\u001b[0m\u001b[38;5;54m─\u001b[0m borrowed value does not live long enough",
      " \u001b[38;5;246m7 │\u001b[0m \u001b[38;5;249m \u001b[0m\u001b[38;5;249m \u001b[0m\u001b[38;5;249m \u001b[0m\u001b[38;5;249m \u001b[0m\u001b[38;5;100m}\u001b[0m",
      " \u001b[38;5;246m  ·\u001b[0m     \u001b[38;5;100m┬\u001b[0m  ",
      " \u001b[38;5;246m  ·\u001b[0m     \u001b[38;5;100m╰\u001b[0m\u001b[38;5;100m─\u001b[0m\u001b[38;5;100m─\u001b[0m `string2` dropped here while still borrowed",
      " \u001b[38;5;246m8 │\u001b[0m \u001b[38;5;249m \u001b[0m\u001b[38;5;249m \u001b[0m\u001b[38;5;249m \u001b[0m\u001b[38;5;249m \u001b[0m\u001b[38;5;249mp\u001b[0m\u001b[38;5;249mr\u001b[0m\u001b[38;5;249mi\u001b[0m\u001b[38;5;249mn\u001b[0m\u001b[38;5;249mt\u001b[0m\u001b[38;5;249ml\u001b[0m\u001b[38;5;249mn\u001b[0m\u001b[38;5;249m!\u001b[0m\u001b[38;5;249m(\u001b[0m\u001b[38;5;249m\"\u001b[0m\u001b[38;5;249mT\u001b[0m\u001b[38;5;249mh\u001b[0m\u001b[38;5;249me\u001b[0m\u001b[38;5;249m \u001b[0m\u001b[38;5;249ml\u001b[0m\u001b[38;5;249mo\u001b[0m\u001b[38;5;249mn\u001b[0m\u001b[38;5;249mg\u001b[0m\u001b[38;5;249me\u001b[0m\u001b[38;5;249ms\u001b[0m\u001b[38;5;249mt\u001b[0m\u001b[38;5;249m \u001b[0m\u001b[38;5;249ms\u001b[0m\u001b[38;5;249mt\u001b[0m\u001b[38;5;249mr\u001b[0m\u001b[38;5;249mi\u001b[0m\u001b[38;5;249mn\u001b[0m\u001b[38;5;249mg\u001b[0m\u001b[38;5;249m \u001b[0m\u001b[38;5;249mi\u001b[0m\u001b[38;5;249ms\u001b[0m\u001b[38;5;249m \u001b[0m\u001b[38;5;249m'\u001b[0m\u001b[38;5;249m{\u001b[0m\u001b[38;5;249m}\u001b[0m\u001b[38;5;249m'\u001b[0m\u001b[38;5;249m\"\u001b[0m\u001b[38;5;249m,\u001b[0m\u001b[38;5;249m \u001b[0m\u001b[38;5;37mr\u001b[0m\u001b[38;5;37me\u001b[0m\u001b[38;5;37ms\u001b[0m\u001b[38;5;37mu\u001b[0m\u001b[38;5;37ml\u001b[0m\u001b[38;5;37mt\u001b[0m\u001b[38;5;249m)\u001b[0m\u001b[38;5;249m;\u001b[0m",
      " \u001b[38;5;246m  ·\u001b[0m                                            \u001b[38;5;37m─\u001b[0m\u001b[38;5;37m─\u001b[0m\u001b[38;5;37m─\u001b[0m\u001b[38;5;37m┬\u001b[0m\u001b[38;5;37m─\u001b[0m\u001b[38;5;37m─\u001b[0m  ",
      " \u001b[38;5;246m  ·\u001b[0m                                               \u001b[38;5;37m╰\u001b[0m\u001b[38;5;37m─\u001b[0m\u001b[38;5;37m─\u001b[0m\u001b[38;5;37m─\u001b[0m\u001b[38;5;37m─\u001b[0m borrow later used here",
      "\u001b[38;5;246m───╯\u001b[0m"
     ]
    }
   ],
   "source": [
    "{\n",
    "    let string1 = String::from(\"long string is long\");\n",
    "    let result;\n",
    "    {\n",
    "        let string2 = String::from(\"xyz\");\n",
    "        result = longest(string1.as_str(), string2.as_str());\n",
    "    }\n",
    "    println!(\"The longest string is '{}'\", result);\n",
    "}"
   ]
  },
  {
   "attachments": {},
   "cell_type": "markdown",
   "metadata": {},
   "source": [
    "> Listing 10-23: Attempting to use result after string2 has gone out of scope\n",
    "\n",
    "When we try to compile this code, we get this error:\n",
    "\n",
    "```sh\n",
    "$ cargo run\n",
    "   Compiling chapter10 v0.1.0 (file:///projects/chapter10)\n",
    "error[E0597]: `string2` does not live long enough\n",
    " --> src/main.rs:6:44\n",
    "  |\n",
    "6 |         result = longest(string1.as_str(), string2.as_str());\n",
    "  |                                            ^^^^^^^^^^^^^^^^ borrowed value does not live long enough\n",
    "7 |     }\n",
    "  |     - `string2` dropped here while still borrowed\n",
    "8 |     println!(\"The longest string is {}\", result);\n",
    "  |                                          ------ borrow later used here\n",
    "\n",
    "For more information about this error, try `rustc --explain E0597`.\n",
    "error: could not compile `chapter10` due to previous error\n",
    "\n",
    "```\n",
    "\n",
    "The error shows that for result to be valid for the println! statement, string2  \n",
    "would need to be valid until the end of the outer scope. Rust knows this because  \n",
    "we annotated the lifetimes of the function parameters and return values using  \n",
    "the same lifetime parameter 'a.\n",
    "\n",
    "As humans, we can look at this code and see that string1 is longer than string2  \n",
    "and therefore result will contain a reference to string1. Because string1 has  \n",
    "not gone out of scope yet, a reference to string1 will still be valid for the  \n",
    "println! statement. However, the compiler can’t see that the reference is valid  \n",
    "in this case. We’ve told Rust that the lifetime of the reference returned by the  \n",
    "longest function is the same as the smaller of the lifetimes of the references  \n",
    "passed in. Therefore, the borrow checker disallows the code in Listing 10-23 as  \n",
    "possibly having an invalid reference.\n",
    "\n",
    "Try designing more experiments that vary the values and lifetimes of the  \n",
    "references passed in to the longest function and how the returned reference is  \n",
    "used. Make hypotheses about whether or not your experiments will pass the borrow  \n",
    "checker before you compile; then check to see if you’re right!"
   ]
  },
  {
   "attachments": {},
   "cell_type": "markdown",
   "metadata": {},
   "source": [
    "### Thinking in Terms of Lifetimes\n",
    "\n",
    "The way in which you need to specify lifetime parameters depends on what your  \n",
    "function is doing. For example, if we changed the implementation of the longest  \n",
    "function to `always return the first parameter` rather than the longest string  \n",
    "slice, we `wouldn’t need to specify a lifetime on the y parameter`.  \n",
    "The following code will compile:\n",
    "\n",
    "```rust\n",
    "fn longest<'a>(x: &'a str, y: &str) -> &'a str {\n",
    "    x\n",
    "}\n",
    "```\n",
    "\n",
    "We’ve specified a lifetime parameter 'a for the parameter x and the return type,  \n",
    "but not for the parameter y, because the lifetime of y does not have any  \n",
    "relationship with the lifetime of x or the return value.\n",
    "\n"
   ]
  },
  {
   "attachments": {},
   "cell_type": "markdown",
   "metadata": {},
   "source": [
    "When returning a reference from a function, the lifetime parameter for the  \n",
    "return type needs to match the lifetime parameter for one of the parameters. If  \n",
    "the reference returned does not refer to one of the parameters, it must refer to  \n",
    "a value created within this function. However, this would be a dangling  \n",
    "reference because the value will go out of scope at the end of the function.  \n",
    "Consider this attempted implementation of the longest function that won’t  \n",
    "compile:"
   ]
  },
  {
   "cell_type": "code",
   "execution_count": 20,
   "metadata": {},
   "outputs": [
    {
     "ename": "Error",
     "evalue": "unused variable: `x`",
     "output_type": "error",
     "traceback": [
      "\u001b[31m[unused_variables] Error:\u001b[0m unused variable: `x`",
      "   \u001b[38;5;246m╭\u001b[0m\u001b[38;5;246m─\u001b[0m\u001b[38;5;246m[\u001b[0mcommand_20:1:1\u001b[38;5;246m]\u001b[0m",
      "   \u001b[38;5;246m│\u001b[0m",
      " \u001b[38;5;246m2 │\u001b[0m \u001b[38;5;249mf\u001b[0m\u001b[38;5;249mn\u001b[0m\u001b[38;5;249m \u001b[0m\u001b[38;5;249ml\u001b[0m\u001b[38;5;249mo\u001b[0m\u001b[38;5;249mn\u001b[0m\u001b[38;5;249mg\u001b[0m\u001b[38;5;249me\u001b[0m\u001b[38;5;249ms\u001b[0m\u001b[38;5;249mt\u001b[0m\u001b[38;5;249m<\u001b[0m\u001b[38;5;249m'\u001b[0m\u001b[38;5;249ma\u001b[0m\u001b[38;5;249m>\u001b[0m\u001b[38;5;249m(\u001b[0m\u001b[38;5;54mx\u001b[0m\u001b[38;5;249m:\u001b[0m\u001b[38;5;249m \u001b[0m\u001b[38;5;249m&\u001b[0m\u001b[38;5;249ms\u001b[0m\u001b[38;5;249mt\u001b[0m\u001b[38;5;249mr\u001b[0m\u001b[38;5;249m,\u001b[0m\u001b[38;5;249m \u001b[0m\u001b[38;5;249my\u001b[0m\u001b[38;5;249m:\u001b[0m\u001b[38;5;249m \u001b[0m\u001b[38;5;249m&\u001b[0m\u001b[38;5;249ms\u001b[0m\u001b[38;5;249mt\u001b[0m\u001b[38;5;249mr\u001b[0m\u001b[38;5;249m)\u001b[0m\u001b[38;5;249m \u001b[0m\u001b[38;5;249m-\u001b[0m\u001b[38;5;249m>\u001b[0m\u001b[38;5;249m \u001b[0m\u001b[38;5;249m&\u001b[0m\u001b[38;5;249m'\u001b[0m\u001b[38;5;249ma\u001b[0m\u001b[38;5;249m \u001b[0m\u001b[38;5;249ms\u001b[0m\u001b[38;5;249mt\u001b[0m\u001b[38;5;249mr\u001b[0m\u001b[38;5;249m \u001b[0m\u001b[38;5;249m{\u001b[0m",
      " \u001b[38;5;246m  ·\u001b[0m                \u001b[38;5;54m┬\u001b[0m  ",
      " \u001b[38;5;246m  ·\u001b[0m                \u001b[38;5;54m╰\u001b[0m\u001b[38;5;54m─\u001b[0m\u001b[38;5;54m─\u001b[0m warning: unused variable: `x`",
      " \u001b[38;5;246m  ·\u001b[0m                \u001b[38;5;100m│\u001b[0m  ",
      " \u001b[38;5;246m  ·\u001b[0m                \u001b[38;5;100m╰\u001b[0m\u001b[38;5;100m─\u001b[0m\u001b[38;5;100m─\u001b[0m help: if this is intentional, prefix it with an underscore: `_x`",
      "\u001b[38;5;246m───╯\u001b[0m"
     ]
    },
    {
     "ename": "Error",
     "evalue": "unused variable: `y`",
     "output_type": "error",
     "traceback": [
      "\u001b[31m[unused_variables] Error:\u001b[0m unused variable: `y`",
      "   \u001b[38;5;246m╭\u001b[0m\u001b[38;5;246m─\u001b[0m\u001b[38;5;246m[\u001b[0mcommand_20:1:1\u001b[38;5;246m]\u001b[0m",
      "   \u001b[38;5;246m│\u001b[0m",
      " \u001b[38;5;246m2 │\u001b[0m \u001b[38;5;249mf\u001b[0m\u001b[38;5;249mn\u001b[0m\u001b[38;5;249m \u001b[0m\u001b[38;5;249ml\u001b[0m\u001b[38;5;249mo\u001b[0m\u001b[38;5;249mn\u001b[0m\u001b[38;5;249mg\u001b[0m\u001b[38;5;249me\u001b[0m\u001b[38;5;249ms\u001b[0m\u001b[38;5;249mt\u001b[0m\u001b[38;5;249m<\u001b[0m\u001b[38;5;249m'\u001b[0m\u001b[38;5;249ma\u001b[0m\u001b[38;5;249m>\u001b[0m\u001b[38;5;249m(\u001b[0m\u001b[38;5;249mx\u001b[0m\u001b[38;5;249m:\u001b[0m\u001b[38;5;249m \u001b[0m\u001b[38;5;249m&\u001b[0m\u001b[38;5;249ms\u001b[0m\u001b[38;5;249mt\u001b[0m\u001b[38;5;249mr\u001b[0m\u001b[38;5;249m,\u001b[0m\u001b[38;5;249m \u001b[0m\u001b[38;5;54my\u001b[0m\u001b[38;5;249m:\u001b[0m\u001b[38;5;249m \u001b[0m\u001b[38;5;249m&\u001b[0m\u001b[38;5;249ms\u001b[0m\u001b[38;5;249mt\u001b[0m\u001b[38;5;249mr\u001b[0m\u001b[38;5;249m)\u001b[0m\u001b[38;5;249m \u001b[0m\u001b[38;5;249m-\u001b[0m\u001b[38;5;249m>\u001b[0m\u001b[38;5;249m \u001b[0m\u001b[38;5;249m&\u001b[0m\u001b[38;5;249m'\u001b[0m\u001b[38;5;249ma\u001b[0m\u001b[38;5;249m \u001b[0m\u001b[38;5;249ms\u001b[0m\u001b[38;5;249mt\u001b[0m\u001b[38;5;249mr\u001b[0m\u001b[38;5;249m \u001b[0m\u001b[38;5;249m{\u001b[0m",
      " \u001b[38;5;246m  ·\u001b[0m                         \u001b[38;5;54m┬\u001b[0m  ",
      " \u001b[38;5;246m  ·\u001b[0m                         \u001b[38;5;54m╰\u001b[0m\u001b[38;5;54m─\u001b[0m\u001b[38;5;54m─\u001b[0m warning: unused variable: `y`",
      " \u001b[38;5;246m  ·\u001b[0m                         \u001b[38;5;100m│\u001b[0m  ",
      " \u001b[38;5;246m  ·\u001b[0m                         \u001b[38;5;100m╰\u001b[0m\u001b[38;5;100m─\u001b[0m\u001b[38;5;100m─\u001b[0m help: if this is intentional, prefix it with an underscore: `_y`",
      "\u001b[38;5;246m───╯\u001b[0m"
     ]
    },
    {
     "ename": "Error",
     "evalue": "cannot return reference to local variable `result`",
     "output_type": "error",
     "traceback": [
      "\u001b[31m[E0515] Error:\u001b[0m cannot return reference to local variable `result`",
      "   \u001b[38;5;246m╭\u001b[0m\u001b[38;5;246m─\u001b[0m\u001b[38;5;246m[\u001b[0mcommand_20:1:1\u001b[38;5;246m]\u001b[0m",
      "   \u001b[38;5;246m│\u001b[0m",
      " \u001b[38;5;246m4 │\u001b[0m \u001b[38;5;249m \u001b[0m\u001b[38;5;249m \u001b[0m\u001b[38;5;249m \u001b[0m\u001b[38;5;249m \u001b[0m\u001b[38;5;54mr\u001b[0m\u001b[38;5;54me\u001b[0m\u001b[38;5;54ms\u001b[0m\u001b[38;5;54mu\u001b[0m\u001b[38;5;54ml\u001b[0m\u001b[38;5;54mt\u001b[0m\u001b[38;5;54m.\u001b[0m\u001b[38;5;54ma\u001b[0m\u001b[38;5;54ms\u001b[0m\u001b[38;5;54m_\u001b[0m\u001b[38;5;54ms\u001b[0m\u001b[38;5;54mt\u001b[0m\u001b[38;5;54mr\u001b[0m\u001b[38;5;54m(\u001b[0m\u001b[38;5;54m)\u001b[0m",
      " \u001b[38;5;246m  ·\u001b[0m     \u001b[38;5;54m─\u001b[0m\u001b[38;5;54m─\u001b[0m\u001b[38;5;54m─\u001b[0m\u001b[38;5;54m─\u001b[0m\u001b[38;5;54m─\u001b[0m\u001b[38;5;54m─\u001b[0m\u001b[38;5;54m─\u001b[0m\u001b[38;5;54m┬\u001b[0m\u001b[38;5;54m─\u001b[0m\u001b[38;5;54m─\u001b[0m\u001b[38;5;54m─\u001b[0m\u001b[38;5;54m─\u001b[0m\u001b[38;5;54m─\u001b[0m\u001b[38;5;54m─\u001b[0m\u001b[38;5;54m─\u001b[0m  ",
      " \u001b[38;5;246m  ·\u001b[0m            \u001b[38;5;54m╰\u001b[0m\u001b[38;5;54m─\u001b[0m\u001b[38;5;54m─\u001b[0m\u001b[38;5;54m─\u001b[0m\u001b[38;5;54m─\u001b[0m\u001b[38;5;54m─\u001b[0m\u001b[38;5;54m─\u001b[0m\u001b[38;5;54m─\u001b[0m\u001b[38;5;54m─\u001b[0m\u001b[38;5;54m─\u001b[0m returns a reference to data owned by the current function",
      "\u001b[38;5;246m───╯\u001b[0m"
     ]
    }
   ],
   "source": [
    "/// Won't compile - one reason is that the returned result has NO RELATION to\n",
    "/// the lifetime of either x or y argument\n",
    "/// - the returned result is a dangling reference\n",
    "fn longest<'a>(x: &str, y: &str) -> &'a str {\n",
    "    let result = String::from(\"really long string\");\n",
    "    result.as_str()\n",
    "}"
   ]
  },
  {
   "attachments": {},
   "cell_type": "markdown",
   "metadata": {},
   "source": [
    "Here, even though we’ve specified a lifetime parameter 'a for the return type,  \n",
    "this implementation will fail to compile because the return value lifetime is  \n",
    "not related to the lifetime of the parameters at all. Here is the error message  \n",
    "we get:\n",
    "\n",
    "```sh\n",
    "$ cargo run\n",
    "   Compiling chapter10 v0.1.0 (file:///projects/chapter10)\n",
    "error[E0515]: cannot return reference to local variable `result`\n",
    "  --> src/main.rs:11:5\n",
    "   |\n",
    "11 |     result.as_str()\n",
    "   |     ^^^^^^^^^^^^^^^ returns a reference to data owned by the current function\n",
    "\n",
    "For more information about this error, try `rustc --explain E0515`.\n",
    "error: could not compile `chapter10` due to previous error\n",
    "```\n",
    "\n",
    "The problem is that : \n",
    "- result goes out of scope and gets cleaned up at the end of the longest  \n",
    "function.  \n",
    "\n",
    "We’re also trying to return a reference to result from the function. There is no  \n",
    "way we can specify lifetime parameters that would change the dangling reference,  \n",
    "and Rust won’t let us create a dangling reference. \n",
    "\n",
    "In this case, the best fix would be to :  \n",
    "- return an owned data type rather than a reference so the calling function is  \n",
    "then responsible for cleaning up the value.\n",
    "\n",
    "Ultimately, lifetime syntax is about connecting the lifetimes of various  \n",
    "parameters and return values of functions. Once they’re connected, Rust has  \n",
    "enough information to allow memory-safe operations and disallow operations that  \n",
    "would create dangling pointers or otherwise violate memory safety."
   ]
  },
  {
   "attachments": {},
   "cell_type": "markdown",
   "metadata": {},
   "source": [
    "### Lifetime Annotations in Struct Definitions\n",
    "\n",
    "So far, the structs we’ve defined all hold owned types. We can define structs to  \n",
    "hold references, but in that case we would need to add a lifetime annotation on  \n",
    "every reference in the struct’s definition. \n",
    "\n",
    "> Listing 10-24 has a struct named ImportantExcerpt that holds a string slice."
   ]
  },
  {
   "cell_type": "code",
   "execution_count": 3,
   "metadata": {},
   "outputs": [
    {
     "name": "stdout",
     "output_type": "stream",
     "text": [
      "first_sentence : Call me Ishmael\n",
      "i.part : Call me Ishmael\n"
     ]
    },
    {
     "data": {
      "text/plain": [
       "()"
      ]
     },
     "execution_count": 3,
     "metadata": {},
     "output_type": "execute_result"
    }
   ],
   "source": [
    "struct ImportantExcerpt<'a>{\n",
    "    part: &'a str,\n",
    "}\n",
    "\n",
    "{\n",
    "    // novel comes into scope as a string stored on the heap\n",
    "    let novel = String::from(\"Call me Ishmael. Some years ago...\");\n",
    "    // first_sentence comes into scope as a string slice of novel\n",
    "    // - the lifetime of first_sentence is the same as novel\n",
    "    let first_sentence = novel.split('.').next().expect(\"Could not find a '.'\");\n",
    "    println!(\"first_sentence : {}\", first_sentence);\n",
    "    // i comes into scope as an instance of ImportantExcerpt\n",
    "    // - the lifetime of i is the same as first_sentence\n",
    "    let i = ImportantExcerpt{ \n",
    "        part: first_sentence \n",
    "    };\n",
    "    println!(\"i.part : {}\", i.part);\n",
    "    // all lifetimes are valid and there's no dangling references\n",
    "    // i goes out of scope\n",
    "    // first_sentence goes out of scope\n",
    "    // novel goes out of scope\n",
    "    // all lifetimes end\n",
    "    // closure ends\n",
    "}"
   ]
  },
  {
   "attachments": {},
   "cell_type": "markdown",
   "metadata": {},
   "source": [
    "> Listing 10-24: A struct that holds a reference, requiring a lifetime  \n",
    "annotation\n",
    "\n",
    "This struct has the single field part that holds a string slice, which is a  \n",
    "reference. As with generic data types, we declare the name of the generic  \n",
    "lifetime parameter inside angle brackets after the name of the struct so we can  \n",
    "use the lifetime parameter in the body of the struct definition. This annotation  \n",
    "means an instance of ImportantExcerpt can’t outlive the reference it holds in  \n",
    "its part field.\n",
    "\n",
    "The main function here creates an instance of the ImportantExcerpt struct that  \n",
    "holds a reference to the first sentence of the String owned by the variable  \n",
    "novel. The data in novel exists before the ImportantExcerpt instance is created.  \n",
    "In addition, novel doesn’t go out of scope until after the ImportantExcerpt goes  \n",
    "out of scope, so the reference in the ImportantExcerpt instance is valid.\n"
   ]
  },
  {
   "attachments": {},
   "cell_type": "markdown",
   "metadata": {},
   "source": [
    "### Lifetime Elision\n",
    "\n",
    "You’ve learned that every reference has a lifetime and that you need to specify  \n",
    "lifetime parameters for functions or structs that use references. However, in  \n",
    "Chapter 4 we had a function in Listing 4-9, shown again in Listing 10-25, that  \n",
    "compiled without lifetime annotations."
   ]
  },
  {
   "cell_type": "code",
   "execution_count": null,
   "metadata": {},
   "outputs": [],
   "source": [
    "fn first_word(s: &str) -> &str{\n",
    "    let byte = s.as_bytes();\n",
    "    for (i, &item) in bytes.iter().enumerate(){\n",
    "        if item == b' '{\n",
    "            return &s[0..1]\n",
    "        }\n",
    "    }\n",
    "\n",
    "    &s[..]\n",
    "}"
   ]
  },
  {
   "attachments": {},
   "cell_type": "markdown",
   "metadata": {},
   "source": [
    "> Listing 10-25: A function we defined in Listing 4-9 that compiled without  \n",
    "lifetime annotations, even though the parameter and return type are references\n",
    "\n",
    "The reason this function compiles without lifetime annotations is historical: in  \n",
    "early versions (pre-1.0) of Rust, this code wouldn’t have compiled because every  \n",
    "reference needed an explicit lifetime. At that time, the function signature  \n",
    "would have been written like this:\n",
    "\n",
    "```rust\n",
    "fn first_word<'a>(s: &'a str) -> &'a str { ... }\n",
    "```\n",
    "\n",
    "After writing a lot of Rust code, the Rust team found that Rust programmers were  \n",
    "entering the same lifetime annotations over and over in particular situations.  \n",
    "These situations were predictable and followed a few deterministic patterns. The  \n",
    "developers programmed these patterns into the compiler’s code so the borrow  \n",
    "checker could infer the lifetimes in these situations and wouldn’t need explicit  \n",
    "annotations.\n",
    "\n",
    "This piece of Rust history is relevant because it’s possible that more  \n",
    "deterministic patterns will emerge and be added to the compiler. In the future,  \n",
    "even fewer lifetime annotations might be required.\n",
    "\n",
    "The patterns programmed into Rust’s analysis of references are called the  \n",
    "lifetime elision rules. These aren’t rules for programmers to follow; they’re a  \n",
    "set of particular cases that the compiler will consider, and if your code fits  \n",
    "these cases, you don’t need to write the lifetimes explicitly.\n",
    "\n",
    "The elision rules don’t provide full inference. If Rust deterministically  \n",
    "applies the rules but there is still ambiguity as to what lifetimes the  \n",
    "references have, the compiler won’t guess what the lifetime of the remaining  \n",
    "references should be. Instead of guessing, the compiler will give you an error  \n",
    "that you can resolve by adding the lifetime annotations.\n",
    "\n",
    "Lifetimes on function or method parameters are called input lifetimes, and  \n",
    "lifetimes on return values are called output lifetimes.\n",
    "\n",
    "The compiler uses three rules to figure out the lifetimes of the references when  \n",
    "there aren’t explicit annotations. The first rule applies to input lifetimes,  \n",
    "and the second and third rules apply to output lifetimes. If the compiler gets  \n",
    "to the end of the three rules and there are still references for which it can’t  \n",
    "figure out lifetimes, the compiler will stop with an error. These rules apply to  \n",
    "fn definitions as well as impl blocks."
   ]
  },
  {
   "attachments": {},
   "cell_type": "markdown",
   "metadata": {},
   "source": [
    "- The first rule is that the compiler assigns a lifetime parameter to each  \n",
    "parameter that’s a reference. In other words, a function with one parameter gets  \n",
    "one lifetime parameter: \n",
    "\n",
    "```rust\n",
    "fn foo<'a>(x: &'a i32); \n",
    "```\n",
    "\n",
    "a function with two parameters gets two separate lifetime parameters: \n",
    "\n",
    "```rust\n",
    "fn foo<'a, 'b>(x: &'a i32, y: &'b i32); \n",
    "``` \n",
    "\n",
    "and so on.\n",
    "\n",
    "- The second rule is that, if there is exactly one input lifetime parameter,  \n",
    "that lifetime is assigned to all output lifetime parameters: \n",
    "\n",
    "```rust\n",
    "fn foo<'a>(x: &'a i32) -> &'a i32.\n",
    "```\n",
    "\n",
    "- The third rule is that, if there are multiple input lifetime parameters, but  \n",
    "one of them is &self or &mut self because this is a method, the lifetime of self  \n",
    "is assigned to all output lifetime parameters. This third rule makes methods  \n",
    "much nicer to read and write because fewer symbols are necessary."
   ]
  },
  {
   "attachments": {},
   "cell_type": "markdown",
   "metadata": {},
   "source": [
    "Let’s pretend we’re the compiler. We’ll apply these rules to figure out the  \n",
    "lifetimes of the references in the signature of the first_word function in  \n",
    "Listing 10-25. The signature starts without any lifetimes associated with the  \n",
    "references:\n",
    "\n",
    "```rust\n",
    "fn first_word(s: &str) -> &str { ... }\n",
    "```\n",
    "\n",
    "Then the compiler applies the first rule, which specifies that each parameter  \n",
    "gets its own lifetime. We’ll call it 'a as usual, so now the signature is this:  \n",
    "\n",
    "```rust\n",
    "fn first_word<'a>(s: &'a str) -> &str { ... } // missing output lifetime\n",
    "```\n",
    "\n",
    "The second rule applies because there is exactly one input lifetime. The second  \n",
    "rule specifies that the lifetime of the one input parameter gets assigned to the  \n",
    "output lifetime, so the signature is now this:  \n",
    "\n",
    "```rust\n",
    "fn first_word<'a>(s: &'a str) -> &'a str { ... } // output lifetime == single input\n",
    "```\n",
    "\n",
    "Now all the references in this function signature have lifetimes, and the  \n",
    "compiler can continue its analysis without needing the programmer to annotate  \n",
    "the lifetimes in this function signature."
   ]
  },
  {
   "attachments": {},
   "cell_type": "markdown",
   "metadata": {},
   "source": [
    "Let’s look at another example, this time using the longest function that had no  \n",
    "lifetime parameters when we started working with it in Listing 10-20:  \n",
    "\n",
    "```rust\n",
    "fn longest(x: &str, y: &str) -> &str { ... }\n",
    "```\n",
    "\n",
    "Let’s apply the first rule: each parameter gets its own lifetime. This time we  \n",
    "have two parameters instead of one, so we have two lifetimes:  \n",
    "\n",
    "```rust\n",
    "fn longest<'a, 'b>(x: &'a str, y: &'b str) -> &str { ... } // what is the output lifetime???\n",
    "// if this were a method, there would be a 'self' or 'mur' and the 3rd rule \n",
    "// would auto annotate to that ...\n",
    "// But since this is a function Rust Borrow Checker will raise a compile error\n",
    "// and we need to resolve manually\n",
    "```\n",
    "\n",
    "You can see that the second rule doesn’t apply because there is more than one  \n",
    "input lifetime. The third rule doesn’t apply either, because longest is a  \n",
    "function rather than a method, so none of the parameters are self. \n",
    "\n",
    "After working through **`all three rules`** : \n",
    "- we **`still`** haven’t figured out what the return type’s lifetime is. \n",
    "\n",
    "This is why we got an error trying to compile the code in Listing 10-20: the  \n",
    "compiler worked through the lifetime elision rules but still couldn’t figure out  \n",
    "all the lifetimes of the references in the signature.\n",
    "\n",
    "Because the third rule really only applies in method signatures, we’ll look at  \n",
    "lifetimes in that context next to see why the third rule means we don’t have to  \n",
    "annotate lifetimes in method signatures very often.\n"
   ]
  },
  {
   "attachments": {},
   "cell_type": "markdown",
   "metadata": {},
   "source": [
    "### Lifetime Annotations in Method Definitions\n",
    "\n",
    "When we implement methods on a struct with lifetimes, we use the same syntax as  \n",
    "that of generic type parameters shown in Listing 10-11. Where we declare and use  \n",
    "the lifetime parameters depends on whether they’re related to the struct fields  \n",
    "or the method parameters and return values.\n",
    "\n",
    "Lifetime names for struct fields always need to be declared after the impl  \n",
    "keyword and then used after the struct’s name, because those lifetimes are part  \n",
    "of the struct’s type.\n",
    "\n",
    "In method signatures inside the impl block, references might be tied to the  \n",
    "lifetime of references in the struct’s fields, or they might be independent. In  \n",
    "addition, the lifetime elision rules often make it so that lifetime annotations  \n",
    "aren’t necessary in method signatures. Let’s look at some examples using the  \n",
    "struct named ImportantExcerpt that we defined in Listing 10-24.\n",
    "\n",
    "First, we’ll use a method named level whose only parameter is a reference to  \n",
    "self and whose return value is an i32, which is not a reference to anything:  "
   ]
  },
  {
   "cell_type": "code",
   "execution_count": 4,
   "metadata": {},
   "outputs": [],
   "source": [
    "impl <'a> ImportantExcerpt<'a> {\n",
    "    fn level(&self) -> i32{\n",
    "        3\n",
    "    }\n",
    "}"
   ]
  },
  {
   "attachments": {},
   "cell_type": "markdown",
   "metadata": {},
   "source": [
    "The lifetime parameter declaration after impl and its use after the type name  \n",
    "are required, but we’re not required to annotate the lifetime of the reference  \n",
    "to self because of the first elision rule.\n",
    "\n",
    "Here is an example where the third lifetime elision rule applies:"
   ]
  },
  {
   "cell_type": "code",
   "execution_count": null,
   "metadata": {},
   "outputs": [],
   "source": [
    "// There are TWO input lifetimes in this struct\n",
    "// - one is explicit\n",
    "// - other is implicit elision rule\n",
    "impl <'a> ImportantExcerpt<'a> {    // EXPLICIT annotated 'a lifetime\n",
    "    // implicit 'b lifetime :\n",
    "    // - because of &self reference arg, the lifetime of the returned str\n",
    "    // is tied to the lifetime of self IMPLICITLY\n",
    "    fn announce_and_return_part(&self, announcement: &str)-> &str{\n",
    "        println!(\"Attention please: {}\", announcement);\n",
    "        self.part\n",
    "    }\n",
    "}"
   ]
  },
  {
   "attachments": {},
   "cell_type": "markdown",
   "metadata": {},
   "source": [
    "There are two input lifetimes, so Rust applies the first lifetime elision rule  \n",
    "and gives both &self and announcement their own lifetimes. Then, because one of  \n",
    "the parameters is &self, the return type gets the lifetime of &self, and all  \n",
    "lifetimes have been accounted for."
   ]
  },
  {
   "attachments": {},
   "cell_type": "markdown",
   "metadata": {},
   "source": [
    "### The Static Lifetime\n",
    "\n",
    "One special lifetime we need to discuss is 'static, which denotes that the  \n",
    "affected reference can live for the entire duration of the program. All string  \n",
    "literals have the 'static lifetime, which we can annotate as follows:\n",
    "\n",
    "```rust\n",
    "let s: &'static str = \"I have static lifetime\"; \n",
    "// ah ... we are assigning the string LITERAL to s\n",
    "```\n",
    "\n",
    "The text of this string is stored directly in the program’s binary, which is  \n",
    "always available. Therefore, the lifetime of all string literals is 'static.\n",
    "\n",
    "You might see suggestions to use the 'static lifetime in error messages. But  \n",
    "before specifying 'static as the lifetime for a reference, think about whether  \n",
    "the reference you have actually lives the entire lifetime of your program or  \n",
    "not, and whether you want it to. Most of the time, an error message suggesting  \n",
    "the 'static lifetime results from attempting to create a dangling reference or  \n",
    "a mismatch of the available lifetimes. In such cases, the solution is fixing  \n",
    "those problems, not specifying the 'static lifetime."
   ]
  },
  {
   "attachments": {},
   "cell_type": "markdown",
   "metadata": {},
   "source": [
    "***\n",
    "###### GPT > So any data that has static lifetime is stored directly in the program’s binary?\n",
    "***\n",
    "\n",
    "No, not necessarily. Static lifetime just means that the data exists for the entire run of the program. It could be stored in:\n",
    "\n",
    "1. The program's binary (like string literals)\n",
    "2. Static memory allocated at compile time \n",
    "3. Global variables\n",
    "\n",
    "Some examples:\n",
    "\n",
    "```cpp\n",
    "// Stored in binary\n",
    "\"Hello\"    // String literal\n",
    "\n",
    "// Stored in static memory\n",
    "static int x = 10;  \n",
    "\n",
    "// Global variable \n",
    "int y = 20;  \n",
    "\n",
    "void foo() {\n",
    "    // Local variable has dynamic lifetime\n",
    "    int z = 30;  \n",
    "}\n",
    "```\n",
    "\n",
    "Here:\n",
    "\n",
    "- \"Hello\" has static lifetime and is stored in the binary\n",
    "- static x has static lifetime but is stored in static memory\n",
    "- global y has static lifetime and is stored in global memory\n",
    "- local z has dynamic lifetime and is created/destroyed on the stack\n",
    "\n",
    "So in summary:\n",
    "\n",
    "- Data with static lifetime exists for the entire run of the program\n",
    "- It can be stored in the binary, static memory, or globals\n",
    "- Not all static data is necessarily stored in the binary\n",
    "- Dynamic data has a runtime lifetime and is created/destroyed on the stack or heap\n",
    "\n",
    "Hope this clarifies! Let me know if you have any other questions."
   ]
  },
  {
   "attachments": {},
   "cell_type": "markdown",
   "metadata": {},
   "source": [
    "### Generic Type Parameters, Trait Bounds and Lifetimes Together\n",
    "\n",
    "Let’s briefly look at the syntax of specifying generic type parameters, trait  \n",
    "bounds, and lifetimes all in one function!  "
   ]
  },
  {
   "cell_type": "code",
   "execution_count": 24,
   "metadata": {},
   "outputs": [
    {
     "name": "stdout",
     "output_type": "stream",
     "text": [
      "Announcement! I'm here!\n",
      "-- Equal length [5] strings\n",
      "-- [Hello] == [World] ... returning [World]\n",
      "Returned World\n"
     ]
    },
    {
     "data": {
      "text/plain": [
       "()"
      ]
     },
     "execution_count": 24,
     "metadata": {},
     "output_type": "execute_result"
    }
   ],
   "source": [
    "use std::fmt::Display;\n",
    "\n",
    "fn longest_with_an_announcement<'a, T>( // order matters, lifetime first, then generic\n",
    "    x: &'a str,\n",
    "    y: &'a str,\n",
    "    announcement : T\n",
    ")->&'a str\n",
    "where T: Display\n",
    "{\n",
    "    println!(\"Announcement! {}\", announcement);\n",
    "    if x.len() == y.len(){\n",
    "        println!(\"-- Equal length [{}] strings\", x.len());\n",
    "        println!(\"-- [{x}] == [{y}] ... returning [{y}]\");\n",
    "    }\n",
    "    if x.len() > y.len(){\n",
    "        println!(\"Returned {x}\");\n",
    "        x\n",
    "    } else {\n",
    "        println!(\"Returned {y}\");\n",
    "        y\n",
    "    }\n",
    "}\n",
    "\n",
    "{\n",
    "    longest_with_an_announcement(\"Hello\", \"World\", \"I'm here!\");\n",
    "}\n"
   ]
  },
  {
   "attachments": {},
   "cell_type": "markdown",
   "metadata": {},
   "source": [
    "This is the longest function from Listing 10-21 that returns the longer of two  \n",
    "string slices. But now it has an extra parameter named ann of the generic type  \n",
    "T, which can be filled in by any type that implements the Display trait as  \n",
    "specified by the where clause. This extra parameter will be printed using {},  \n",
    "which is why the Display trait bound is necessary. Because lifetimes are a type  \n",
    "of generic, the declarations of the lifetime parameter 'a and the generic type  \n",
    " parameter T go in the same list inside the angle brackets after the function  \n",
    " name."
   ]
  },
  {
   "attachments": {},
   "cell_type": "markdown",
   "metadata": {},
   "source": [
    "Summary\n",
    "---\n",
    "\n",
    "We covered a lot in this chapter! Now that you know about : \n",
    "\n",
    "- generic type parameters, \n",
    "- traits and trait bounds, and \n",
    "- generic lifetime parameters, \n",
    "\n",
    "You’re ready to write code without repetition that works in many different  \n",
    "situations. \n",
    "\n",
    "- Generic type parameters let you apply the code to different types. \n",
    "- Traits and trait bounds ensure that even though the types are generic, they’ll  \n",
    "have the behavior the code needs. \n",
    "- You learned how to use lifetime annotations to ensure that this flexible code  \n",
    "won’t have any dangling references. \n",
    "\n",
    "And all of this analysis happens at compile time, which doesn’t affect runtime  \n",
    "performance!\n",
    "\n",
    "Believe it or not, there is much more to learn on the topics we discussed in  \n",
    "this chapter: Chapter 17 discusses trait objects, which are another way to use  \n",
    "traits. There are also more complex scenarios involving lifetime annotations  \n",
    "that you will only need in very advanced scenarios; for those, you should read  \n",
    "the Rust Reference. But next, you’ll learn how to write tests in Rust so you can  \n",
    "make sure your code is working the way it should."
   ]
  }
 ],
 "metadata": {
  "kernelspec": {
   "display_name": "Rust",
   "language": "rust",
   "name": "rust"
  },
  "language_info": {
   "codemirror_mode": "rust",
   "file_extension": ".rs",
   "mimetype": "text/rust",
   "name": "rust",
   "pygment_lexer": "rust",
   "version": ""
  },
  "orig_nbformat": 4
 },
 "nbformat": 4,
 "nbformat_minor": 2
}
