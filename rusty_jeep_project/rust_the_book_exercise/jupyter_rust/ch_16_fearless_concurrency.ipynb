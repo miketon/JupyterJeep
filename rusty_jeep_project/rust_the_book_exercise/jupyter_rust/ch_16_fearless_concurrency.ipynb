{
 "cells": [
  {
   "attachments": {},
   "cell_type": "markdown",
   "metadata": {},
   "source": [
    "Fearless Concurrency\n",
    "---\n",
    "\n",
    "Handling concurrent programming safely and efficiently is another of Rust’s  \n",
    "major goals. Concurrent programming, where different parts of a program execute  \n",
    "independently, and parallel programming, where different parts of a program  \n",
    "execute at the same time, are becoming increasingly important as more computers  \n",
    "take advantage of their multiple processors. Historically, programming in these  \n",
    "contexts has been difficult and error prone: \n",
    "\n",
    "> Rust hopes to change that.\n",
    "\n",
    "#### -- Shift concurrency problems from runtime => compile -- \n",
    "\n",
    "Initially, the Rust team thought that ensuring memory safety and preventing  \n",
    "concurrency problems were two separate challenges to be solved with different  \n",
    "methods. Over time, the team discovered that the ownership and type systems are  \n",
    "a powerful set of tools to help manage memory safety and concurrency problems!  \n",
    "By leveraging ownership and type checking :  \n",
    "\n",
    "- many concurrency errors are compile-time errors in Rust  \n",
    "- rather than runtime errors.  \n",
    "\n",
    "Therefore, rather than making you spend lots of time trying to reproduce the  \n",
    "exact circumstances under which a runtime concurrency bug occurs, incorrect  \n",
    "code will refuse to compile and present an error explaining the problem. As a  \n",
    "result, you can fix your code while you’re working on it rather than potentially  \n",
    "after it has been shipped to production. We’ve nicknamed this aspect of Rust : "
   ]
  },
  {
   "cell_type": "markdown",
   "metadata": {},
   "source": [
    "> FEARLESS CONCURRENCY \n",
    "\n",
    "#### -- Code free of SUBTLE BUGS and EASY to refactor w/o regression --\n",
    "\n",
    "Fearless concurrency allows you to write code that is :  \n",
    "\n",
    "- free of subtle bugs and  \n",
    "- easy to refactor without introducing new bugs\n",
    "\n",
    "> Note: For simplicity’s sake, we’ll refer to many of the problems as concurrent  \n",
    "rather than being more precise by saying concurrent and/or parallel. If this  \n",
    "book were about concurrency and/or parallelism, we’d be more specific. For this  \n",
    "chapter, please mentally substitute concurrent and/or parallel whenever we use  \n",
    "concurrent."
   ]
  },
  {
   "cell_type": "markdown",
   "metadata": {},
   "source": [
    "Many languages are dogmatic about the solutions they offer for handling  \n",
    "concurrent problems. For example, Erlang has elegant functionality for  \n",
    "message-passing concurrency but has only obscure ways to share state between  \n",
    "threads. Supporting only a subset of possible solutions is a reasonable strategy  \n",
    "for higher-level languages, because a higher-level language promises benefits  \n",
    "from giving up some control to gain abstractions. However, lower-level languages  \n",
    "are expected to provide the solution with the best performance in any given  \n",
    "situation and have fewer abstractions over the hardware. Therefore, Rust offers  \n",
    "a variety of tools for modeling problems in whatever way is appropriate for your  \n",
    "situation and requirements.\n",
    "\n",
    "> Here are the topics we’ll cover in this chapter:\n",
    "\n",
    "- How to create threads to run multiple pieces of code at the same time\n",
    "- Message-passing concurrency, where channels send messages between threads\n",
    "- Shared-state concurrency, where multiple threads have access to some piece of  \n",
    "data\n",
    "- The `Sync` and `Send` traits, which extend Rust’s concurrency guarantees to  \n",
    "user-defined types as well as types provided by the standard library"
   ]
  },
  {
   "cell_type": "markdown",
   "metadata": {},
   "source": [
    "Using Threads to Run Code Simultaneously\n",
    "---\n",
    "\n",
    "In most current operating systems, an executed program’s code is run in a  \n",
    "process, and the operating system will manage multiple processes at once.  \n",
    "Within a program, you can also have independent parts that run simultaneously.  \n",
    "The features that run these independent parts are called threads. For example,  \n",
    "a web server could have multiple threads so that it could respond to more than  \n",
    "one request at the same time.\n",
    "\n",
    "Splitting the computation in your program into multiple threads to run multiple  \n",
    "tasks at the same time can improve performance, but it also adds complexity.  \n",
    "Because threads can run simultaneously, there’s no inherent guarantee about the  \n",
    "order in which parts of your code on different threads will run. This can lead  \n",
    "to problems, such as:\n",
    "\n",
    "- **`Race conditions`**, where threads are accessing data or resources in an  \n",
    "inconsistent order\n",
    "- **`Deadlocks`**, where two threads are waiting for each other, preventing both  \n",
    "threads from continuing  \n",
    "- Bugs that happen only in certain situations and are hard to reproduce and fix  \n",
    "reliably\n",
    "\n",
    "Rust attempts to mitigate the negative effects of using threads, but programming  \n",
    "in a multithreaded context still takes careful thought and requires a code  \n",
    "structure that is different from that in programs running in a single thread.\n",
    "\n",
    "#### -- Default : 1:1 operating [SYSTEM] thread : [LANGUAGE] thread --\n",
    "\n",
    "Programming languages implement threads in a few different ways, and many  \n",
    "operating systems provide an API the language can call for creating new threads.  \n",
    "The Rust standard library uses a **`1:1 model`** of thread implementation, whereby a  \n",
    "program uses one operating system thread per one language thread. There are  \n",
    "crates that implement other models of threading that make different tradeoffs to  \n",
    "the **`1:1 model`**.\n",
    "\n"
   ]
  },
  {
   "cell_type": "markdown",
   "metadata": {},
   "source": [
    "### Creating a New Thread with `spawn`\n",
    "\n",
    "To create a new thread, we call the `thread::spawn`` function and pass it a  \n",
    "closure (we talked about closures in Chapter 13) containing the code we want to  \n",
    "run in the new thread. The example in Listing 16-1 prints some text from a main  \n",
    "thread and other text from a new thread:\n",
    "\n",
    "> Filename: src/main.rs"
   ]
  },
  {
   "cell_type": "code",
   "execution_count": 7,
   "metadata": {
    "vscode": {
     "languageId": "rust"
    }
   },
   "outputs": [
    {
     "name": "stdout",
     "output_type": "stream",
     "text": [
      "Hi number 6 from the spawned thread\n",
      "Hi number 7 from the spawned thread\n",
      "Hi number 9 from the spawned thread\n",
      "Hi number 8 from the spawned thread\n",
      "hi number 1 from the main thread!\n",
      "Hi number 1 from the spawned thread\n",
      "hi number 2 from the main thread!\n",
      "Hi number 2 from the spawned thread\n",
      "hi number 3 from the main thread!\n",
      "Hi number 3 from the spawned thread\n",
      "hi number 4 from the main thread!\n",
      "Hi number 4 from the spawned thread\n",
      "Hi number 5 from the spawned thread\n"
     ]
    },
    {
     "data": {
      "text/plain": [
       "()"
      ]
     },
     "execution_count": 7,
     "metadata": {},
     "output_type": "execute_result"
    }
   ],
   "source": [
    "use std::thread;\n",
    "use std::time::Duration;\n",
    "\n",
    "{\n",
    "    thread::spawn(||{\n",
    "        for i in 1..10 {\n",
    "            println!(\"Hi number {} from the spawned thread\", i);\n",
    "            thread::sleep(Duration::from_millis(1));\n",
    "        }\n",
    "    });\n",
    "\n",
    "    for i in 1..5 {\n",
    "        println!(\"hi number {} from the main thread!\", i);\n",
    "        thread::sleep(Duration::from_millis(1));\n",
    "    }\n",
    "}"
   ]
  },
  {
   "cell_type": "markdown",
   "metadata": {},
   "source": [
    "\n",
    "> Listing 16-1: Creating a new thread to print one thing while the main thread  \n",
    "prints something else\n",
    "\n",
    "Note that when the main thread of a Rust program completes, all spawned threads  \n",
    "are shut down, whether or not they have finished running. The output from this  \n",
    "program might be a little different every time, but it will look similar to the  \n",
    "following:\n",
    "\n",
    "```rust\n",
    "hi number 1 from the main thread!\n",
    "hi number 1 from the spawned thread!\n",
    "hi number 2 from the main thread!\n",
    "hi number 2 from the spawned thread!\n",
    "hi number 3 from the main thread!\n",
    "hi number 3 from the spawned thread!\n",
    "hi number 4 from the main thread!\n",
    "hi number 4 from the spawned thread!\n",
    "hi number 5 from the spawned thread!\n",
    "```\n",
    "\n",
    "The calls to thread::sleep force a thread to stop its execution for a short  \n",
    "duration, allowing a different thread to run. The threads will probably take  \n",
    "turns, but that isn’t guaranteed: it depends on how your operating system  \n",
    "schedules the threads. In this run, the main thread printed first, even though  \n",
    "the print statement from the spawned thread appears first in the code. And even  \n",
    "though we told the spawned thread to print until i is 9, it only got to 5 before  \n",
    "the main thread shut down.\n",
    "\n",
    "If you run this code and only see output from the main thread, or don’t see any  \n",
    "overlap, try increasing the numbers in the ranges to create more opportunities  \n",
    "for the operating system to switch between the threads."
   ]
  },
  {
   "cell_type": "markdown",
   "metadata": {},
   "source": [
    "### Waiting for All Threads to Finish Using `join` Handles\n",
    "\n",
    "The code in Listing 16-1 not only stops the spawned thread prematurely most of  \n",
    "the time due to the main thread ending, but because there is no guarantee on the  \n",
    "order in which threads run, we also can’t guarantee that the spawned thread will  \n",
    "get to run at all!\n",
    "\n",
    "We can fix the problem of the spawned thread not running or ending prematurely  \n",
    "by saving the return value of thread::spawn in a variable. The return type of  \n",
    "thread::spawn is JoinHandle. A JoinHandle is an owned value that, when we call  \n",
    "the join method on it, will wait for its thread to finish. Listing 16-2 shows  \n",
    "how to use the JoinHandle of the thread we created in Listing 16-1 and call  \n",
    "join to make sure the spawned thread finishes before main exits:\n",
    "\n",
    "> Filename: src/main.rs"
   ]
  },
  {
   "cell_type": "code",
   "execution_count": 19,
   "metadata": {
    "vscode": {
     "languageId": "rust"
    }
   },
   "outputs": [
    {
     "name": "stdout",
     "output_type": "stream",
     "text": [
      "hi number 1 from the main thread!\n",
      "Hi number 1 from the spawned thread\n",
      "Hi number 2 from the spawned thread\n",
      "hi number 2 from the main thread!\n",
      "Hi number 3 from the spawned thread\n",
      "hi number 3 from the main thread!\n",
      "Hi number 4 from the spawned thread\n",
      "hi number 4 from the main thread!\n",
      "Hi number 5 from the spawned thread\n",
      "Hi number 6 from the spawned thread\n",
      "Hi number 7 from the spawned thread\n",
      "Hi number 8 from the spawned thread\n",
      "Hi number 9 from the spawned thread\n"
     ]
    },
    {
     "data": {
      "text/plain": [
       "()"
      ]
     },
     "execution_count": 19,
     "metadata": {},
     "output_type": "execute_result"
    }
   ],
   "source": [
    "use std::thread;\n",
    "use std::time::Duration;\n",
    "\n",
    "{\n",
    "    let handle = thread::spawn(\n",
    "        || {\n",
    "            for i in 1..10{\n",
    "                println!(\"Hi number {} from the spawned thread\", i);\n",
    "                thread::sleep(Duration::from_millis(1));\n",
    "            }\n",
    "        }\n",
    "    );\n",
    "\n",
    "    for i in 1..5 {\n",
    "        println!(\"hi number {} from the main thread!\", i);\n",
    "        thread::sleep(Duration::from_millis(1));\n",
    "    }\n",
    "\n",
    "    handle.join().unwrap();\n",
    "}"
   ]
  },
  {
   "cell_type": "markdown",
   "metadata": {},
   "source": [
    "> Listing 16-2: Saving a JoinHandle from thread::spawn to guarantee the thread  \n",
    "is run to completion\n",
    "\n",
    "Calling join on the handle blocks the thread currently running until the thread  \n",
    "represented by the handle terminates. Blocking a thread means that thread is  \n",
    "prevented from performing work or exiting. Because we’ve put the call to join  \n",
    "after the main thread’s for loop, running Listing 16-2 should produce output \n",
    "similar to this:\n",
    "\n",
    "```rust\n",
    "hi number 1 from the main thread!\n",
    "hi number 2 from the main thread!\n",
    "hi number 1 from the spawned thread!\n",
    "hi number 3 from the main thread!\n",
    "hi number 2 from the spawned thread!\n",
    "hi number 4 from the main thread!\n",
    "hi number 3 from the spawned thread!\n",
    "hi number 4 from the spawned thread!\n",
    "hi number 5 from the spawned thread!\n",
    "hi number 6 from the spawned thread!\n",
    "hi number 7 from the spawned thread!\n",
    "hi number 8 from the spawned thread!\n",
    "hi number 9 from the spawned thread!\n",
    "```\n",
    "\n",
    "The two threads continue alternating, but the main thread waits because of the  \n",
    "call to handle.join() and does not end until the spawned thread is finished.\n",
    "\n",
    "But let’s see what happens when we instead move handle.join() before the for  \n",
    "loop in main, like this:\n",
    "\n",
    "> Filename: src/main.rs"
   ]
  },
  {
   "cell_type": "code",
   "execution_count": 23,
   "metadata": {
    "vscode": {
     "languageId": "rust"
    }
   },
   "outputs": [
    {
     "name": "stdout",
     "output_type": "stream",
     "text": [
      "Hi number 1 from the spawned thread\n",
      "Hi number 2 from the spawned thread\n",
      "Hi number 3 from the spawned thread\n",
      "Hi number 4 from the spawned thread\n",
      "Hi number 5 from the spawned thread\n",
      "Hi number 6 from the spawned thread\n",
      "Hi number 7 from the spawned thread\n",
      "Hi number 8 from the spawned thread\n",
      "Hi number 9 from the spawned thread\n",
      "hi number 1 from the main thread!\n",
      "hi number 2 from the main thread!\n",
      "hi number 3 from the main thread!\n",
      "hi number 4 from the main thread!\n"
     ]
    },
    {
     "data": {
      "text/plain": [
       "()"
      ]
     },
     "execution_count": 23,
     "metadata": {},
     "output_type": "execute_result"
    }
   ],
   "source": [
    "use std::thread;\n",
    "use std::time::Duration;\n",
    "\n",
    "{\n",
    "    let handle = thread::spawn(||{\n",
    "        for i in 1..10 {\n",
    "            println!(\"Hi number {} from the spawned thread\", i);\n",
    "            thread::sleep(Duration::from_millis(1));\n",
    "        }\n",
    "    });\n",
    "\n",
    "    handle.join().unwrap();\n",
    "\n",
    "    for i in 1..5 {\n",
    "        println!(\"hi number {} from the main thread!\", i);\n",
    "        thread::sleep(Duration::from_millis(1));\n",
    "    }\n",
    "}"
   ]
  },
  {
   "cell_type": "markdown",
   "metadata": {},
   "source": [
    "The main thread will wait for the spawned thread to finish and then run its for  \n",
    "loop, so the output won’t be interleaved anymore, as shown here:\n",
    "\n",
    "```rust\n",
    "hi number 1 from the spawned thread!\n",
    "hi number 2 from the spawned thread!\n",
    "hi number 3 from the spawned thread!\n",
    "hi number 4 from the spawned thread!\n",
    "hi number 5 from the spawned thread!\n",
    "hi number 6 from the spawned thread!\n",
    "hi number 7 from the spawned thread!\n",
    "hi number 8 from the spawned thread!\n",
    "hi number 9 from the spawned thread!\n",
    "hi number 1 from the main thread!\n",
    "hi number 2 from the main thread!\n",
    "hi number 3 from the main thread!\n",
    "hi number 4 from the main thread!\n",
    "```\n",
    "\n",
    "Small details, such as where join is called, can affect whether or not your  \n",
    "threads run at the same time."
   ]
  },
  {
   "cell_type": "markdown",
   "metadata": {},
   "source": [
    "### Using `move` Closures with Threads\n",
    "\n",
    "We'll often use the `move` keyword with closures passed to `thread::spawn`  \n",
    "because the closure will :  \n",
    "\n",
    "- then take ownership of the values it uses from the environment, thus  \n",
    "- transferring ownership of those values from one thread to another  \n",
    "\n",
    "In the “Capturing References or Moving Ownership” section of Chapter 13, we  \n",
    "discussed `move` in the context of closures. Now, we’ll concentrate more on the  \n",
    "interaction between `move` and `thread::spawn`.\n",
    "\n",
    "Notice in Listing 16-1 that the closure we pass to `thread::spawn` takes no  \n",
    "arguments: we’re not using any data from the main thread in the spawned  \n",
    "thread’s code. To use data from the main thread in the spawned thread, the  \n",
    "spawned thread’s closure must capture the values it needs. Listing 16-3 shows  \n",
    "an attempt to create a vector in the main thread and use it in the spawned  \n",
    "thread. However, this won’t yet work, as you’ll see in a moment.\n",
    "\n",
    "> Filename: src/main.rs"
   ]
  },
  {
   "cell_type": "code",
   "execution_count": 5,
   "metadata": {
    "vscode": {
     "languageId": "rust"
    }
   },
   "outputs": [
    {
     "ename": "Error",
     "evalue": "closure may outlive the current function, but it borrows `v`, which is owned by the current function",
     "output_type": "error",
     "traceback": [
      "\u001b[31m[E0373] Error:\u001b[0m closure may outlive the current function, but it borrows `v`, which is owned by the current function",
      "   \u001b[38;5;246m╭\u001b[0m\u001b[38;5;246m─\u001b[0m\u001b[38;5;246m[\u001b[0mcommand_5:1:1\u001b[38;5;246m]\u001b[0m",
      "   \u001b[38;5;246m│\u001b[0m",
      " \u001b[38;5;246m6 │\u001b[0m \u001b[38;5;68m╭\u001b[0m\u001b[38;5;68m─\u001b[0m\u001b[38;5;68m▶\u001b[0m\u001b[38;5;68m \u001b[0m\u001b[38;5;249m \u001b[0m\u001b[38;5;249m \u001b[0m\u001b[38;5;249m \u001b[0m\u001b[38;5;249m \u001b[0m\u001b[38;5;249ml\u001b[0m\u001b[38;5;249me\u001b[0m\u001b[38;5;249mt\u001b[0m\u001b[38;5;249m \u001b[0m\u001b[38;5;249mh\u001b[0m\u001b[38;5;249ma\u001b[0m\u001b[38;5;249mn\u001b[0m\u001b[38;5;249md\u001b[0m\u001b[38;5;249ml\u001b[0m\u001b[38;5;249me\u001b[0m\u001b[38;5;249m \u001b[0m\u001b[38;5;249m=\u001b[0m\u001b[38;5;249m \u001b[0m\u001b[38;5;68mt\u001b[0m\u001b[38;5;68mh\u001b[0m\u001b[38;5;68mr\u001b[0m\u001b[38;5;68me\u001b[0m\u001b[38;5;68ma\u001b[0m\u001b[38;5;68md\u001b[0m\u001b[38;5;68m:\u001b[0m\u001b[38;5;68m:\u001b[0m\u001b[38;5;68ms\u001b[0m\u001b[38;5;68mp\u001b[0m\u001b[38;5;68ma\u001b[0m\u001b[38;5;68mw\u001b[0m\u001b[38;5;68mn\u001b[0m\u001b[38;5;68m(\u001b[0m\u001b[38;5;100m|\u001b[0m\u001b[38;5;100m|\u001b[0m\u001b[38;5;68m{\u001b[0m",
      " \u001b[38;5;246m  ·\u001b[0m \u001b[38;5;68m│\u001b[0m                                  \u001b[38;5;37m┬\u001b[0m\u001b[38;5;100m┬\u001b[0m  ",
      " \u001b[38;5;246m  ·\u001b[0m \u001b[38;5;68m│\u001b[0m                                  \u001b[38;5;37m╰\u001b[0m\u001b[38;5;37m─\u001b[0m\u001b[38;5;37m─\u001b[0m\u001b[38;5;37m─\u001b[0m help: to force the closure to take ownership of `v` (and any other referenced variables), use the `move` keyword: `move `",
      " \u001b[38;5;246m  ·\u001b[0m \u001b[38;5;68m│\u001b[0m                                   \u001b[38;5;100m│\u001b[0m  ",
      " \u001b[38;5;246m  ·\u001b[0m \u001b[38;5;68m│\u001b[0m                                   \u001b[38;5;100m╰\u001b[0m\u001b[38;5;100m─\u001b[0m\u001b[38;5;100m─\u001b[0m may outlive borrowed value `v`",
      " \u001b[38;5;246m7 │\u001b[0m \u001b[38;5;68m│\u001b[0m   \u001b[38;5;68m \u001b[0m\u001b[38;5;68m \u001b[0m\u001b[38;5;68m \u001b[0m\u001b[38;5;68m \u001b[0m\u001b[38;5;68m \u001b[0m\u001b[38;5;68m \u001b[0m\u001b[38;5;68m \u001b[0m\u001b[38;5;68m \u001b[0m\u001b[38;5;68mp\u001b[0m\u001b[38;5;68mr\u001b[0m\u001b[38;5;68mi\u001b[0m\u001b[38;5;68mn\u001b[0m\u001b[38;5;68mt\u001b[0m\u001b[38;5;68ml\u001b[0m\u001b[38;5;68mn\u001b[0m\u001b[38;5;68m!\u001b[0m\u001b[38;5;68m(\u001b[0m\u001b[38;5;68m\"\u001b[0m\u001b[38;5;68mH\u001b[0m\u001b[38;5;68me\u001b[0m\u001b[38;5;68mr\u001b[0m\u001b[38;5;68me\u001b[0m\u001b[38;5;68m'\u001b[0m\u001b[38;5;68ms\u001b[0m\u001b[38;5;68m \u001b[0m\u001b[38;5;68ma\u001b[0m\u001b[38;5;68m \u001b[0m\u001b[38;5;68mv\u001b[0m\u001b[38;5;68me\u001b[0m\u001b[38;5;68mc\u001b[0m\u001b[38;5;68mt\u001b[0m\u001b[38;5;68mo\u001b[0m\u001b[38;5;68mr\u001b[0m\u001b[38;5;68m:\u001b[0m\u001b[38;5;68m \u001b[0m\u001b[38;5;68m{\u001b[0m\u001b[38;5;68m:\u001b[0m\u001b[38;5;68m?\u001b[0m\u001b[38;5;68m}\u001b[0m\u001b[38;5;68m\"\u001b[0m\u001b[38;5;68m,\u001b[0m\u001b[38;5;68m \u001b[0m\u001b[38;5;54mv\u001b[0m\u001b[38;5;68m)\u001b[0m\u001b[38;5;68m;\u001b[0m",
      " \u001b[38;5;246m  ·\u001b[0m \u001b[38;5;68m│\u001b[0m                                             \u001b[38;5;54m┬\u001b[0m  ",
      " \u001b[38;5;246m  ·\u001b[0m \u001b[38;5;68m│\u001b[0m                                             \u001b[38;5;54m╰\u001b[0m\u001b[38;5;54m─\u001b[0m\u001b[38;5;54m─\u001b[0m `v` is borrowed here",
      " \u001b[38;5;246m8 │\u001b[0m \u001b[38;5;68m├\u001b[0m\u001b[38;5;68m─\u001b[0m\u001b[38;5;68m▶\u001b[0m\u001b[38;5;68m \u001b[0m\u001b[38;5;68m \u001b[0m\u001b[38;5;68m \u001b[0m\u001b[38;5;68m \u001b[0m\u001b[38;5;68m \u001b[0m\u001b[38;5;68m}\u001b[0m\u001b[38;5;68m)\u001b[0m\u001b[38;5;249m;\u001b[0m",
      " \u001b[38;5;246m  ·\u001b[0m \u001b[38;5;68m│\u001b[0m             ",
      " \u001b[38;5;246m  ·\u001b[0m \u001b[38;5;68m╰\u001b[0m\u001b[38;5;68m─\u001b[0m\u001b[38;5;68m─\u001b[0m\u001b[38;5;68m─\u001b[0m\u001b[38;5;68m─\u001b[0m\u001b[38;5;68m─\u001b[0m\u001b[38;5;68m─\u001b[0m\u001b[38;5;68m─\u001b[0m\u001b[38;5;68m─\u001b[0m\u001b[38;5;68m─\u001b[0m\u001b[38;5;68m─\u001b[0m\u001b[38;5;68m─\u001b[0m\u001b[38;5;68m─\u001b[0m\u001b[38;5;68m─\u001b[0m note: function requires argument type to outlive `'static`",
      "\u001b[38;5;246m───╯\u001b[0m"
     ]
    }
   ],
   "source": [
    "use std::thread;\n",
    "\n",
    "{\n",
    "    let v = vec![1, 2, 3];\n",
    "\n",
    "    let handle = thread::spawn(||{\n",
    "        println!(\"Here's a vector: {:?}\", v);\n",
    "    });\n",
    "\n",
    "    handle.join().unwrap();\n",
    "}"
   ]
  },
  {
   "cell_type": "markdown",
   "metadata": {},
   "source": [
    "> Listing 16-3: Attempting to use a vector created by the main thread in another  \n",
    "thread\n",
    "\n",
    "The closure uses `v`, so it will capture `v` and make it part of the closure’s  \n",
    "environment. Because `thread::spawn` runs this closure in a new thread, we  \n",
    "should be able to access `v` inside that new thread. But when we compile this  \n",
    "example, we get the following error:\n",
    "\n",
    "```sh\n",
    "$ cargo run\n",
    "   Compiling threads v0.1.0 (file:///projects/threads)\n",
    "error[E0373]: closure may outlive the current function, but it borrows `v`, which is owned by the current function\n",
    " --> src/main.rs:6:32\n",
    "  |\n",
    "6 |     let handle = thread::spawn(|| {\n",
    "  |                                ^^ may outlive borrowed value `v`\n",
    "7 |         println!(\"Here's a vector: {:?}\", v);\n",
    "  |                                           - `v` is borrowed here\n",
    "  |\n",
    "note: function requires argument type to outlive `'static`\n",
    " --> src/main.rs:6:18\n",
    "  |\n",
    "6 |       let handle = thread::spawn(|| {\n",
    "  |  __________________^\n",
    "7 | |         println!(\"Here's a vector: {:?}\", v);\n",
    "8 | |     });\n",
    "  | |______^\n",
    "help: to force the closure to take ownership of `v` (and any other referenced variables), use the `move` keyword\n",
    "  |\n",
    "6 |     let handle = thread::spawn(move || {\n",
    "  |                                ++++\n",
    "\n",
    "For more information about this error, try `rustc --explain E0373`.\n",
    "error: could not compile `threads` due to previous error\n",
    "```\n",
    "\n",
    "Rust infers how to capture `v`, and because `println!` only needs a reference  \n",
    "to `v`, the closure tries to `borrow v`. However, there’s a problem:  \n",
    "\n",
    "- Rust can’t tell how long the spawned thread will run, so it doesn’t know if  \n",
    "the `reference to v` will always be `valid`.\n",
    "\n",
    "Listing 16-4 provides a scenario that’s more likely to have a reference to `v`  \n",
    "that won’t be valid:\n",
    "\n",
    "> Filename: src/main.rs"
   ]
  },
  {
   "cell_type": "code",
   "execution_count": 7,
   "metadata": {
    "vscode": {
     "languageId": "rust"
    }
   },
   "outputs": [
    {
     "ename": "Error",
     "evalue": "closure may outlive the current function, but it borrows `v`, which is owned by the current function",
     "output_type": "error",
     "traceback": [
      "\u001b[31m[E0373] Error:\u001b[0m closure may outlive the current function, but it borrows `v`, which is owned by the current function",
      "   \u001b[38;5;246m╭\u001b[0m\u001b[38;5;246m─\u001b[0m\u001b[38;5;246m[\u001b[0mcommand_7:1:1\u001b[38;5;246m]\u001b[0m",
      "   \u001b[38;5;246m│\u001b[0m",
      " \u001b[38;5;246m6 │\u001b[0m \u001b[38;5;68m╭\u001b[0m\u001b[38;5;68m─\u001b[0m\u001b[38;5;68m▶\u001b[0m\u001b[38;5;68m \u001b[0m\u001b[38;5;249m \u001b[0m\u001b[38;5;249m \u001b[0m\u001b[38;5;249m \u001b[0m\u001b[38;5;249m \u001b[0m\u001b[38;5;249ml\u001b[0m\u001b[38;5;249me\u001b[0m\u001b[38;5;249mt\u001b[0m\u001b[38;5;249m \u001b[0m\u001b[38;5;249mh\u001b[0m\u001b[38;5;249ma\u001b[0m\u001b[38;5;249mn\u001b[0m\u001b[38;5;249md\u001b[0m\u001b[38;5;249ml\u001b[0m\u001b[38;5;249me\u001b[0m\u001b[38;5;249m \u001b[0m\u001b[38;5;249m=\u001b[0m\u001b[38;5;249m \u001b[0m\u001b[38;5;68mt\u001b[0m\u001b[38;5;68mh\u001b[0m\u001b[38;5;68mr\u001b[0m\u001b[38;5;68me\u001b[0m\u001b[38;5;68ma\u001b[0m\u001b[38;5;68md\u001b[0m\u001b[38;5;68m:\u001b[0m\u001b[38;5;68m:\u001b[0m\u001b[38;5;68ms\u001b[0m\u001b[38;5;68mp\u001b[0m\u001b[38;5;68ma\u001b[0m\u001b[38;5;68mw\u001b[0m\u001b[38;5;68mn\u001b[0m\u001b[38;5;68m(\u001b[0m\u001b[38;5;100m|\u001b[0m\u001b[38;5;100m|\u001b[0m\u001b[38;5;68m{\u001b[0m",
      " \u001b[38;5;246m  ·\u001b[0m \u001b[38;5;68m│\u001b[0m                                  \u001b[38;5;37m┬\u001b[0m\u001b[38;5;100m┬\u001b[0m  ",
      " \u001b[38;5;246m  ·\u001b[0m \u001b[38;5;68m│\u001b[0m                                  \u001b[38;5;37m╰\u001b[0m\u001b[38;5;37m─\u001b[0m\u001b[38;5;37m─\u001b[0m\u001b[38;5;37m─\u001b[0m help: to force the closure to take ownership of `v` (and any other referenced variables), use the `move` keyword: `move `",
      " \u001b[38;5;246m  ·\u001b[0m \u001b[38;5;68m│\u001b[0m                                   \u001b[38;5;100m│\u001b[0m  ",
      " \u001b[38;5;246m  ·\u001b[0m \u001b[38;5;68m│\u001b[0m                                   \u001b[38;5;100m╰\u001b[0m\u001b[38;5;100m─\u001b[0m\u001b[38;5;100m─\u001b[0m may outlive borrowed value `v`",
      " \u001b[38;5;246m7 │\u001b[0m \u001b[38;5;68m│\u001b[0m   \u001b[38;5;68m \u001b[0m\u001b[38;5;68m \u001b[0m\u001b[38;5;68m \u001b[0m\u001b[38;5;68m \u001b[0m\u001b[38;5;68m \u001b[0m\u001b[38;5;68m \u001b[0m\u001b[38;5;68m \u001b[0m\u001b[38;5;68m \u001b[0m\u001b[38;5;68mp\u001b[0m\u001b[38;5;68mr\u001b[0m\u001b[38;5;68mi\u001b[0m\u001b[38;5;68mn\u001b[0m\u001b[38;5;68mt\u001b[0m\u001b[38;5;68ml\u001b[0m\u001b[38;5;68mn\u001b[0m\u001b[38;5;68m!\u001b[0m\u001b[38;5;68m(\u001b[0m\u001b[38;5;68m\"\u001b[0m\u001b[38;5;68mH\u001b[0m\u001b[38;5;68me\u001b[0m\u001b[38;5;68mr\u001b[0m\u001b[38;5;68me\u001b[0m\u001b[38;5;68m'\u001b[0m\u001b[38;5;68ms\u001b[0m\u001b[38;5;68m \u001b[0m\u001b[38;5;68ma\u001b[0m\u001b[38;5;68m \u001b[0m\u001b[38;5;68mv\u001b[0m\u001b[38;5;68me\u001b[0m\u001b[38;5;68mc\u001b[0m\u001b[38;5;68mt\u001b[0m\u001b[38;5;68mo\u001b[0m\u001b[38;5;68mr\u001b[0m\u001b[38;5;68m:\u001b[0m\u001b[38;5;68m \u001b[0m\u001b[38;5;68m{\u001b[0m\u001b[38;5;68m:\u001b[0m\u001b[38;5;68m?\u001b[0m\u001b[38;5;68m}\u001b[0m\u001b[38;5;68m\"\u001b[0m\u001b[38;5;68m,\u001b[0m\u001b[38;5;68m \u001b[0m\u001b[38;5;54mv\u001b[0m\u001b[38;5;68m)\u001b[0m\u001b[38;5;68m;\u001b[0m",
      " \u001b[38;5;246m  ·\u001b[0m \u001b[38;5;68m│\u001b[0m                                             \u001b[38;5;54m┬\u001b[0m  ",
      " \u001b[38;5;246m  ·\u001b[0m \u001b[38;5;68m│\u001b[0m                                             \u001b[38;5;54m╰\u001b[0m\u001b[38;5;54m─\u001b[0m\u001b[38;5;54m─\u001b[0m `v` is borrowed here",
      " \u001b[38;5;246m8 │\u001b[0m \u001b[38;5;68m├\u001b[0m\u001b[38;5;68m─\u001b[0m\u001b[38;5;68m▶\u001b[0m\u001b[38;5;68m \u001b[0m\u001b[38;5;68m \u001b[0m\u001b[38;5;68m \u001b[0m\u001b[38;5;68m \u001b[0m\u001b[38;5;68m \u001b[0m\u001b[38;5;68m}\u001b[0m\u001b[38;5;68m)\u001b[0m\u001b[38;5;249m;\u001b[0m",
      " \u001b[38;5;246m  ·\u001b[0m \u001b[38;5;68m│\u001b[0m             ",
      " \u001b[38;5;246m  ·\u001b[0m \u001b[38;5;68m╰\u001b[0m\u001b[38;5;68m─\u001b[0m\u001b[38;5;68m─\u001b[0m\u001b[38;5;68m─\u001b[0m\u001b[38;5;68m─\u001b[0m\u001b[38;5;68m─\u001b[0m\u001b[38;5;68m─\u001b[0m\u001b[38;5;68m─\u001b[0m\u001b[38;5;68m─\u001b[0m\u001b[38;5;68m─\u001b[0m\u001b[38;5;68m─\u001b[0m\u001b[38;5;68m─\u001b[0m\u001b[38;5;68m─\u001b[0m\u001b[38;5;68m─\u001b[0m note: function requires argument type to outlive `'static`",
      "\u001b[38;5;246m───╯\u001b[0m"
     ]
    },
    {
     "ename": "Error",
     "evalue": "cannot move out of `v` because it is borrowed",
     "output_type": "error",
     "traceback": [
      "\u001b[31m[E0505] Error:\u001b[0m cannot move out of `v` because it is borrowed",
      "    \u001b[38;5;246m╭\u001b[0m\u001b[38;5;246m─\u001b[0m\u001b[38;5;246m[\u001b[0mcommand_7:1:1\u001b[38;5;246m]\u001b[0m",
      "    \u001b[38;5;246m│\u001b[0m",
      " \u001b[38;5;246m 6 │\u001b[0m \u001b[38;5;37m╭\u001b[0m\u001b[38;5;37m─\u001b[0m\u001b[38;5;37m▶\u001b[0m\u001b[38;5;37m \u001b[0m\u001b[38;5;249m \u001b[0m\u001b[38;5;249m \u001b[0m\u001b[38;5;249m \u001b[0m\u001b[38;5;249m \u001b[0m\u001b[38;5;249ml\u001b[0m\u001b[38;5;249me\u001b[0m\u001b[38;5;249mt\u001b[0m\u001b[38;5;249m \u001b[0m\u001b[38;5;249mh\u001b[0m\u001b[38;5;249ma\u001b[0m\u001b[38;5;249mn\u001b[0m\u001b[38;5;249md\u001b[0m\u001b[38;5;249ml\u001b[0m\u001b[38;5;249me\u001b[0m\u001b[38;5;249m \u001b[0m\u001b[38;5;249m=\u001b[0m\u001b[38;5;249m \u001b[0m\u001b[38;5;37mt\u001b[0m\u001b[38;5;37mh\u001b[0m\u001b[38;5;37mr\u001b[0m\u001b[38;5;37me\u001b[0m\u001b[38;5;37ma\u001b[0m\u001b[38;5;37md\u001b[0m\u001b[38;5;37m:\u001b[0m\u001b[38;5;37m:\u001b[0m\u001b[38;5;37ms\u001b[0m\u001b[38;5;37mp\u001b[0m\u001b[38;5;37ma\u001b[0m\u001b[38;5;37mw\u001b[0m\u001b[38;5;37mn\u001b[0m\u001b[38;5;37m(\u001b[0m\u001b[38;5;100m|\u001b[0m\u001b[38;5;100m|\u001b[0m\u001b[38;5;37m{\u001b[0m",
      " \u001b[38;5;246m   ·\u001b[0m \u001b[38;5;37m│\u001b[0m                                  \u001b[38;5;100m─\u001b[0m\u001b[38;5;100m┬\u001b[0m  ",
      " \u001b[38;5;246m   ·\u001b[0m \u001b[38;5;37m│\u001b[0m                                   \u001b[38;5;100m╰\u001b[0m\u001b[38;5;100m─\u001b[0m\u001b[38;5;100m─\u001b[0m borrow of `v` occurs here",
      " \u001b[38;5;246m 7 │\u001b[0m \u001b[38;5;37m│\u001b[0m   \u001b[38;5;37m \u001b[0m\u001b[38;5;37m \u001b[0m\u001b[38;5;37m \u001b[0m\u001b[38;5;37m \u001b[0m\u001b[38;5;37m \u001b[0m\u001b[38;5;37m \u001b[0m\u001b[38;5;37m \u001b[0m\u001b[38;5;37m \u001b[0m\u001b[38;5;37mp\u001b[0m\u001b[38;5;37mr\u001b[0m\u001b[38;5;37mi\u001b[0m\u001b[38;5;37mn\u001b[0m\u001b[38;5;37mt\u001b[0m\u001b[38;5;37ml\u001b[0m\u001b[38;5;37mn\u001b[0m\u001b[38;5;37m!\u001b[0m\u001b[38;5;37m(\u001b[0m\u001b[38;5;37m\"\u001b[0m\u001b[38;5;37mH\u001b[0m\u001b[38;5;37me\u001b[0m\u001b[38;5;37mr\u001b[0m\u001b[38;5;37me\u001b[0m\u001b[38;5;37m'\u001b[0m\u001b[38;5;37ms\u001b[0m\u001b[38;5;37m \u001b[0m\u001b[38;5;37ma\u001b[0m\u001b[38;5;37m \u001b[0m\u001b[38;5;37mv\u001b[0m\u001b[38;5;37me\u001b[0m\u001b[38;5;37mc\u001b[0m\u001b[38;5;37mt\u001b[0m\u001b[38;5;37mo\u001b[0m\u001b[38;5;37mr\u001b[0m\u001b[38;5;37m:\u001b[0m\u001b[38;5;37m \u001b[0m\u001b[38;5;37m{\u001b[0m\u001b[38;5;37m:\u001b[0m\u001b[38;5;37m?\u001b[0m\u001b[38;5;37m}\u001b[0m\u001b[38;5;37m\"\u001b[0m\u001b[38;5;37m,\u001b[0m\u001b[38;5;37m \u001b[0m\u001b[38;5;68mv\u001b[0m\u001b[38;5;37m)\u001b[0m\u001b[38;5;37m;\u001b[0m",
      " \u001b[38;5;246m   ·\u001b[0m \u001b[38;5;37m│\u001b[0m                                             \u001b[38;5;68m┬\u001b[0m  ",
      " \u001b[38;5;246m   ·\u001b[0m \u001b[38;5;37m│\u001b[0m                                             \u001b[38;5;68m╰\u001b[0m\u001b[38;5;68m─\u001b[0m\u001b[38;5;68m─\u001b[0m borrow occurs due to use in closure",
      " \u001b[38;5;246m 8 │\u001b[0m \u001b[38;5;37m├\u001b[0m\u001b[38;5;37m─\u001b[0m\u001b[38;5;37m▶\u001b[0m\u001b[38;5;37m \u001b[0m\u001b[38;5;37m \u001b[0m\u001b[38;5;37m \u001b[0m\u001b[38;5;37m \u001b[0m\u001b[38;5;37m \u001b[0m\u001b[38;5;37m}\u001b[0m\u001b[38;5;37m)\u001b[0m\u001b[38;5;249m;\u001b[0m",
      " \u001b[38;5;246m   ·\u001b[0m \u001b[38;5;37m│\u001b[0m             ",
      " \u001b[38;5;246m   ·\u001b[0m \u001b[38;5;37m╰\u001b[0m\u001b[38;5;37m─\u001b[0m\u001b[38;5;37m─\u001b[0m\u001b[38;5;37m─\u001b[0m\u001b[38;5;37m─\u001b[0m\u001b[38;5;37m─\u001b[0m\u001b[38;5;37m─\u001b[0m\u001b[38;5;37m─\u001b[0m\u001b[38;5;37m─\u001b[0m\u001b[38;5;37m─\u001b[0m\u001b[38;5;37m─\u001b[0m\u001b[38;5;37m─\u001b[0m\u001b[38;5;37m─\u001b[0m\u001b[38;5;37m─\u001b[0m argument requires that `v` is borrowed for `'static`",
      " \u001b[38;5;246m   ·\u001b[0m ",
      " \u001b[38;5;246m10 │\u001b[0m     \u001b[38;5;249m \u001b[0m\u001b[38;5;249m \u001b[0m\u001b[38;5;249m \u001b[0m\u001b[38;5;249m \u001b[0m\u001b[38;5;249md\u001b[0m\u001b[38;5;249mr\u001b[0m\u001b[38;5;249mo\u001b[0m\u001b[38;5;249mp\u001b[0m\u001b[38;5;249m(\u001b[0m\u001b[38;5;54mv\u001b[0m\u001b[38;5;249m)\u001b[0m\u001b[38;5;249m;\u001b[0m\u001b[38;5;249m \u001b[0m\u001b[38;5;249m/\u001b[0m\u001b[38;5;249m/\u001b[0m\u001b[38;5;249m \u001b[0m\u001b[38;5;249mo\u001b[0m\u001b[38;5;249mh\u001b[0m\u001b[38;5;249m \u001b[0m\u001b[38;5;249mn\u001b[0m\u001b[38;5;249mo\u001b[0m\u001b[38;5;249m!\u001b[0m",
      " \u001b[38;5;246m   ·\u001b[0m              \u001b[38;5;54m┬\u001b[0m  ",
      " \u001b[38;5;246m   ·\u001b[0m              \u001b[38;5;54m╰\u001b[0m\u001b[38;5;54m─\u001b[0m\u001b[38;5;54m─\u001b[0m move out of `v` occurs here",
      "\u001b[38;5;246m────╯\u001b[0m"
     ]
    }
   ],
   "source": [
    "use std::thread;\n",
    "\n",
    "{\n",
    "    let v = vec![1, 2, 3];\n",
    "\n",
    "    let handle = thread::spawn(||{\n",
    "        println!(\"Here's a vector: {:?}\", v);\n",
    "    });\n",
    "\n",
    "    drop(v); // oh no!\n",
    "\n",
    "    handle.join().unwrap();\n",
    "}"
   ]
  },
  {
   "cell_type": "markdown",
   "metadata": {},
   "source": [
    "> Listing 16-4: A thread with a closure that attempts to capture a reference to  \n",
    "v from a main thread that drops `v`\n",
    "\n",
    "If Rust allowed us to run this code, there’s a possibility the spawned thread  \n",
    "would be immediately put in the background without running at all :  \n",
    "\n",
    "- The spawned thread has a reference to `v` inside,  \n",
    "- but the main thread immediately drops`v`, using the drop function we discussed  \n",
    "in Chapter 15.  \n",
    "- Then, when the spawned thread starts to execute, `v` is no longer valid, so a  \n",
    "reference to it is also invalid.  \n",
    "\n",
    "Oh no!"
   ]
  },
  {
   "cell_type": "markdown",
   "metadata": {},
   "source": [
    "To fix the compiler error in Listing 16-3, we can use the error message’s  \n",
    "advice:\n",
    "\n",
    "```sh\n",
    "help: to force the closure to take ownership of `v` (and any other referenced variables), use the `move` keyword\n",
    "  |\n",
    "6 |     let handle = thread::spawn(move || {\n",
    "  |                                ++++\n",
    "```\n",
    "\n",
    "By adding the `move` keyword before the closure, we force the closure to :  \n",
    "- take ownership of the values it’s using  \n",
    "- rather than allowing Rust to infer that it should borrow the values.  \n",
    "\n",
    "The modification to Listing 16-3 shown in Listing 16-5 will compile and run as  \n",
    "we intend:\n",
    "\n",
    "> Filename: src/main.rs"
   ]
  },
  {
   "cell_type": "code",
   "execution_count": 9,
   "metadata": {
    "vscode": {
     "languageId": "rust"
    }
   },
   "outputs": [
    {
     "name": "stdout",
     "output_type": "stream",
     "text": [
      "Here's a vector! [1, 2, 3]\n",
      "Here's a vector! [1, 2, 3]\n"
     ]
    },
    {
     "data": {
      "text/plain": [
       "()"
      ]
     },
     "execution_count": 9,
     "metadata": {},
     "output_type": "execute_result"
    }
   ],
   "source": [
    "use std::thread;\n",
    "\n",
    "{\n",
    "    let v = vec![1, 2, 3];\n",
    "\n",
    "    let handle = thread::spawn(move || {\n",
    "        println!(\"Here's a vector! {:?}\", v);\n",
    "    });\n",
    "\n",
    "    handle.join().unwrap();\n",
    "}"
   ]
  },
  {
   "cell_type": "markdown",
   "metadata": {},
   "source": [
    "> Listing 16-5: Using the move keyword to force a closure to take ownership of  \n",
    "the values it uses\n",
    "\n",
    "We might be tempted to try the same thing to fix the code in Listing 16-4 where  \n",
    "the main thread called drop by using a move closure. However, this fix will not  \n",
    "work because what Listing 16-4 is trying to do is disallowed for a different  \n",
    "reason. If we added move to the closure, we would move v into the closure’s  \n",
    "environment, and we could no longer call drop on it in the main thread. We would  \n",
    "get this compiler error instead:\n",
    "\n",
    "```sh\n",
    "$ cargo run\n",
    "   Compiling threads v0.1.0 (file:///projects/threads)\n",
    "error[E0382]: use of moved value: `v`\n",
    "  --> src/main.rs:10:10\n",
    "   |\n",
    "4  |     let v = vec![1, 2, 3];\n",
    "   |         - move occurs because `v` has type `Vec<i32>`, which does not implement the `Copy` trait\n",
    "5  |\n",
    "6  |     let handle = thread::spawn(move || {\n",
    "   |                                ------- value moved into closure here\n",
    "7  |         println!(\"Here's a vector: {:?}\", v);\n",
    "   |                                           - variable moved due to use in closure\n",
    "...\n",
    "10 |     drop(v); // oh no!\n",
    "   |          ^ value used here after move\n",
    "\n",
    "For more information about this error, try `rustc --explain E0382`.\n",
    "error: could not compile `threads` due to previous error\n",
    "```"
   ]
  },
  {
   "cell_type": "markdown",
   "metadata": {},
   "source": [
    "Rust’s ownership rules have saved us again! We got an error from the code in  \n",
    "Listing 16-3 because Rust was being conservative and only borrowing v for the  \n",
    "thread, which meant the main thread could theoretically invalidate the spawned  \n",
    "thread’s reference. By telling Rust to move ownership of v to the spawned  \n",
    "thread, we’re guaranteeing Rust that the main thread won’t use v anymore. If we  \n",
    "change Listing 16-4 in the same way, we’re then violating the ownership rules  \n",
    "when we try to use v in the main thread. The move keyword overrides Rust’s  \n",
    "conservative default of borrowing; it doesn’t let us violate the ownership rules.\n",
    "\n",
    "With a basic understanding of threads and the thread API, let’s look at what we  \n",
    "can do with threads."
   ]
  },
  {
   "cell_type": "markdown",
   "metadata": {},
   "source": [
    "Using Message Passing to Transfer Data Between Threads\n",
    "---\n",
    "\n",
    "One increasingly popular approach to ensuring safe concurrency is message  \n",
    "passing, where threads or actors communicate by sending each other messages  \n",
    "containing data. Here’s the idea in a slogan from the Go language documentation:  \n",
    "\n",
    "- “Do not communicate by sharing memory; instead, share memory by communicating.”\n",
    "\n",
    "To accomplish message-sending concurrency, Rust's standard library provides an  \n",
    "implementation of channels. A channel is a general programming concept by which  \n",
    "data is sent from one thread to another.\n",
    "\n",
    "You can imagine a channel in programming as being like a directional channel of  \n",
    "water, such as a stream or a river. If you put something like a rubber duck into  \n",
    "a river, it will travel downstream to the end of the waterway.\n",
    "\n",
    "A channel has two halves:  \n",
    "\n",
    "- a transmitter and  \n",
    "- a receiver. \n",
    "\n",
    "The transmitter half is the upstream location where you put rubber ducks into  \n",
    "the river, and the receiver half is where the rubber duck ends up downstream.  \n",
    "One part of your code calls methods on the transmitter with the data you want  \n",
    "to send, and another part checks the receiving end for arriving messages. A  \n",
    "channel is said to be closed if either the transmitter or receiver half is  \n",
    "dropped."
   ]
  },
  {
   "cell_type": "markdown",
   "metadata": {},
   "source": [
    "Here, we’ll work up to a program that has one thread to generate values and send  \n",
    "them down a channel, and another thread that will receive the values and print  \n",
    "them out. We’ll be sending simple values between threads using a channel to  \n",
    "illustrate the feature. Once you’re familiar with the technique, you could use  \n",
    "channels for any threads that need to communicate between each other, such as a  \n",
    "chat system or a system where many threads perform parts of a calculation and  \n",
    "send the parts to one thread that aggregates the results.\n",
    "\n",
    "First, in Listing 16-6, we’ll create a channel but not do anything with it.  \n",
    "Note that this won’t compile yet because Rust can’t tell what type of values we  \n",
    "want to send over the channel.\n",
    "\n",
    "> Filename: src/main.rs"
   ]
  },
  {
   "cell_type": "code",
   "execution_count": 9,
   "metadata": {
    "vscode": {
     "languageId": "rust"
    }
   },
   "outputs": [
    {
     "ename": "Error",
     "evalue": "Couldn't automatically determine type of variable `tx`.\nPlease give it an explicit type.",
     "output_type": "error",
     "traceback": [
      "Couldn't automatically determine type of variable `tx`.\nPlease give it an explicit type."
     ]
    }
   ],
   "source": [
    "use std::sync::mpsc;\n",
    "\n",
    "// @audit : how come I can NOT enclose in {} block?\n",
    "let (tx, rx) = mpsc::channel();"
   ]
  },
  {
   "cell_type": "markdown",
   "metadata": {},
   "source": [
    "Listing 16-6: Creating a channel and assigning the two halves to tx and rx\n",
    "\n",
    "We create a new channel using the `mpsc::channel` function; `mpsc` stands for:\n",
    "\n",
    "- multiple producer, single consumer. \n",
    "\n",
    "In short, the way Rust’s standard library implements channels means a channel  \n",
    "can have multiple sending ends that produce values but only one receiving end  \n",
    "that consumes those values. Imagine multiple streams flowing together into one  \n",
    "big river: everything sent down any of the streams will end up in one river at  \n",
    "the end. We’ll start with a single producer for now, but we’ll add multiple  \n",
    "producers when we get this example working.\n",
    "\n",
    "The `mpsc::channel` function `returns a tuple` :  \n",
    "- the first element of which is the sending end--the transmitter--and  \n",
    "- the second element is the receiving end--the receiver.  \n",
    "\n",
    "The abbreviations tx and rx are traditionally used in many fields for  \n",
    "transmitter and receiver respectively, so we name our variables as such to  \n",
    "indicate each end. We’re using a let statement with a pattern that destructures  \n",
    "the tuples; we’ll discuss the use of patterns in let statements and  \n",
    "destructuring in Chapter 18. For now, know that using a let statement this way  \n",
    "is a convenient approach to extract the pieces of the tuple returned by  \n",
    "`mpsc::channel`."
   ]
  },
  {
   "cell_type": "markdown",
   "metadata": {},
   "source": [
    "Let’s move the transmitting end into a spawned thread and have it send one  \n",
    "string so the spawned thread is communicating with the main thread, as shown in  \n",
    "Listing 16-7. This is like putting a rubber duck in the river upstream or  \n",
    "sending a chat message from one thread to another.\n",
    "\n",
    "> Filename: src/main.rs"
   ]
  },
  {
   "cell_type": "code",
   "execution_count": 4,
   "metadata": {
    "vscode": {
     "languageId": "rust"
    }
   },
   "outputs": [
    {
     "name": "stderr",
     "output_type": "stream",
     "text": [
      "thread '<unnamed>' panicked at 'called `Result::unwrap()` on an `Err` value: SendError { .. }', src/lib.rs:29:18\n",
      "stack backtrace:\n"
     ]
    },
    {
     "data": {
      "text/plain": [
       "()"
      ]
     },
     "execution_count": 4,
     "metadata": {},
     "output_type": "execute_result"
    },
    {
     "name": "stderr",
     "output_type": "stream",
     "text": [
      "   0: _rust_begin_unwind\n",
      "   1: core::panicking::panic_fmt\n",
      "   2: core::result::unwrap_failed\n",
      "note: Some details are omitted, run with `RUST_BACKTRACE=full` for a verbose backtrace.\n"
     ]
    }
   ],
   "source": [
    "use std::sync::mpsc;\n",
    "use std::thread;\n",
    "\n",
    "// @audit-ok : how come I can NOT enclose in {} block?\n",
    "// ANSWER : this code as is, enclosed in a {} block, we will get Err::SendError\n",
    "// - because the sender hasn't finished sending all it's messages before the\n",
    "// receiver is dropped\n",
    "// - not calling a recv() method in this code is same as a dropped receiver ...\n",
    "// BEFORE the sender has finished sending all it's messages : that's why we get\n",
    "// Err::SendError\n",
    "let (tx, rx) = mpsc::channel();\n",
    "\n",
    "thread::spawn(move || {\n",
    "    let val = String::from(\"hi\");\n",
    "    tx.send(val).unwrap();\n",
    "});"
   ]
  },
  {
   "cell_type": "markdown",
   "metadata": {},
   "source": [
    "> Listing 16-7: Moving tx to a spawned thread and sending “hi”\n",
    "\n",
    "Again, we’re using thread::spawn to create a new thread and then using move to  \n",
    "move tx into the closure so the spawned thread owns tx. The spawned thread needs  \n",
    "to own the transmitter to be able to send messages through the channel. The  \n",
    "transmitter has a send method that takes the value we want to send. The send  \n",
    "method returns a Result<T, E> type, so if the receiver has already been dropped  \n",
    "and there’s nowhere to send a value, the send operation will return an error. In  \n",
    "this example, we’re calling unwrap to panic in case of an error. But in a real  \n",
    "application, we would handle it properly: return to Chapter 9 to review  \n",
    "strategies for proper error handling.\n",
    "\n",
    "In Listing 16-8, we’ll get the value from the receiver in the main thread. This  \n",
    "is like retrieving the rubber duck from the water at the end of the river or  \n",
    "receiving a chat message.\n",
    "\n",
    "> Filename: src/main.rs"
   ]
  },
  {
   "cell_type": "code",
   "execution_count": 2,
   "metadata": {
    "vscode": {
     "languageId": "rust"
    }
   },
   "outputs": [
    {
     "name": "stdout",
     "output_type": "stream",
     "text": [
      "Got: hi\n"
     ]
    },
    {
     "data": {
      "text/plain": [
       "()"
      ]
     },
     "execution_count": 2,
     "metadata": {},
     "output_type": "execute_result"
    }
   ],
   "source": [
    "use std::sync::mpsc; // multi producer, single consumer\n",
    "use std::thread;\n",
    "\n",
    "{   // @note : This can be enclosed in {} block\n",
    "    let (tx, rx) = mpsc::channel();\n",
    "\n",
    "    thread::spawn( move || {\n",
    "        let val = String::from(\"hi\");\n",
    "        tx.send(val).unwrap();\n",
    "    });\n",
    "\n",
    "    // @audit ... because we use it here?\n",
    "    // ANSWER : recv() BLOCKS the main thread until a message is available\n",
    "    // - preventing SendError when `sender` is NOT finished sending all it's \n",
    "    // messages before the `receiver` is dropped\n",
    "    let received = rx.recv().unwrap();\n",
    "    println!(\"Got: {}\", received);\n",
    "}"
   ]
  },
  {
   "cell_type": "markdown",
   "metadata": {},
   "source": [
    "> Listing 16-8: Receiving the value “hi” in the main thread and printing it\n",
    "\n",
    "The receiver has two useful methods: recv and try_recv. We’re using recv, short  \n",
    "for receive, which will :  \n",
    "\n",
    "- block the main thread’s execution and  \n",
    "- wait until a value is sent down the channel.  \n",
    "\n",
    "Once a value is sent, recv will return it in a Result<T, E>. When the  \n",
    "transmitter closes, recv will return an error to signal that no more values  \n",
    "will be coming.\n",
    "\n",
    "The try_recv method doesn’t block, but will instead return a Result<T, E>  \n",
    "immediately: an Ok value holding a message if one is available and an Err value  \n",
    "if there aren’t any messages this time. Using try_recv is useful if this thread  \n",
    "has other work to do while waiting for messages: we could write a loop that  \n",
    "calls try_recv every so often, handles a message if one is available, and  \n",
    "otherwise does other work for a little while until checking again.\n",
    "\n",
    "We’ve used recv in this example for simplicity; we don’t have any other work for  \n",
    "the main thread to do other than wait for messages, so blocking the main thread  \n",
    "is appropriate.\n",
    "\n",
    "When we run the code in Listing 16-8, we’ll see the value printed from the main  \n",
    "thread:\n",
    "\n",
    "```sh\n",
    "Got: hi\n",
    "```\n",
    "\n",
    "Perfect!"
   ]
  },
  {
   "cell_type": "markdown",
   "metadata": {},
   "source": [
    "### Channels and Ownership Transference\n",
    "\n",
    "The ownership rules play a vital role in message sending because they help you  \n",
    "write safe, concurrent code. Preventing errors in concurrent programming is the  \n",
    "advantage of thinking about ownership throughout your Rust programs. Let’s do an  \n",
    "experiment to show how channels and ownership work together to prevent problems:  \n",
    "we’ll try to use a val value in the spawned thread after we’ve sent it down the  \n",
    "channel. Try compiling the code in Listing 16-9 to see why this code isn’t  \n",
    "allowed:\n",
    "\n",
    "> Filename: src/main.rs"
   ]
  },
  {
   "cell_type": "code",
   "execution_count": 3,
   "metadata": {
    "vscode": {
     "languageId": "rust"
    }
   },
   "outputs": [
    {
     "ename": "Error",
     "evalue": "expected value, found module `thread`",
     "output_type": "error",
     "traceback": [
      "\u001b[31m[E0423] Error:\u001b[0m expected value, found module `thread`",
      "   \u001b[38;5;246m╭\u001b[0m\u001b[38;5;246m─\u001b[0m\u001b[38;5;246m[\u001b[0mcommand_3:1:1\u001b[38;5;246m]\u001b[0m",
      "   \u001b[38;5;246m│\u001b[0m",
      " \u001b[38;5;246m7 │\u001b[0m \u001b[38;5;249m \u001b[0m\u001b[38;5;249m \u001b[0m\u001b[38;5;249m \u001b[0m\u001b[38;5;249m \u001b[0m\u001b[38;5;54mt\u001b[0m\u001b[38;5;54mh\u001b[0m\u001b[38;5;54mr\u001b[0m\u001b[38;5;54me\u001b[0m\u001b[38;5;54ma\u001b[0m\u001b[38;5;54md\u001b[0m\u001b[38;5;100m.\u001b[0m\u001b[38;5;249ms\u001b[0m\u001b[38;5;249mp\u001b[0m\u001b[38;5;249ma\u001b[0m\u001b[38;5;249mw\u001b[0m\u001b[38;5;249mn\u001b[0m\u001b[38;5;249m(\u001b[0m\u001b[38;5;249m \u001b[0m\u001b[38;5;249mm\u001b[0m\u001b[38;5;249mo\u001b[0m\u001b[38;5;249mv\u001b[0m\u001b[38;5;249me\u001b[0m\u001b[38;5;249m \u001b[0m\u001b[38;5;249m|\u001b[0m\u001b[38;5;249m|\u001b[0m\u001b[38;5;249m \u001b[0m\u001b[38;5;249m{\u001b[0m",
      " \u001b[38;5;246m  ·\u001b[0m     \u001b[38;5;54m─\u001b[0m\u001b[38;5;54m─\u001b[0m\u001b[38;5;54m─\u001b[0m\u001b[38;5;54m┬\u001b[0m\u001b[38;5;54m─\u001b[0m\u001b[38;5;54m─\u001b[0m\u001b[38;5;100m┬\u001b[0m  ",
      " \u001b[38;5;246m  ·\u001b[0m        \u001b[38;5;54m╰\u001b[0m\u001b[38;5;54m─\u001b[0m\u001b[38;5;54m─\u001b[0m\u001b[38;5;54m─\u001b[0m\u001b[38;5;54m─\u001b[0m\u001b[38;5;54m─\u001b[0m error: expected value, found module `thread`",
      " \u001b[38;5;246m  ·\u001b[0m           \u001b[38;5;100m│\u001b[0m  ",
      " \u001b[38;5;246m  ·\u001b[0m           \u001b[38;5;100m╰\u001b[0m\u001b[38;5;100m─\u001b[0m\u001b[38;5;100m─\u001b[0m help: use the path separator to refer to an item: `::`",
      "\u001b[38;5;246m───╯\u001b[0m"
     ]
    }
   ],
   "source": [
    "use std::sync::mpsc;\n",
    "use std::thread;\n",
    "\n",
    "{\n",
    "    let (tx, rx) = mpsc::channel();\n",
    "\n",
    "    thread.spawn( move || {\n",
    "        let val = String::from(\"hi\");\n",
    "        tx.send(val).unwrap();\n",
    "        println!(\"val is {}\", val);\n",
    "    });\n",
    "\n",
    "    let received = rx.recv().unwrap();\n",
    "    println!(\"Got : {}\", received);\n",
    "}"
   ]
  },
  {
   "cell_type": "markdown",
   "metadata": {},
   "source": [
    "> Listing 16-9: Attempting to use val after we’ve sent it down the channel\n",
    "\n",
    "Here, we try to print val after we’ve sent it down the channel via tx.send.  \n",
    "Allowing this would be a bad idea: once the value has been sent to another  \n",
    "thread, that thread could modify or drop it before we try to use the value  \n",
    "again. Potentially, the other thread’s modifications could cause errors or  \n",
    "unexpected results due to inconsistent or nonexistent data. However, Rust gives  \n",
    "us an error if we try to compile the code in Listing 16-9:\n",
    "\n",
    "```sh\n",
    "$ cargo run\n",
    "   Compiling message-passing v0.1.0 (file:///projects/message-passing)\n",
    "error[E0382]: borrow of moved value: `val`\n",
    "  --> src/main.rs:10:31\n",
    "   |\n",
    "8  |         let val = String::from(\"hi\");\n",
    "   |             --- move occurs because `val` has type `String`, which does not implement the `Copy` trait\n",
    "9  |         tx.send(val).unwrap();\n",
    "   |                 --- value moved here\n",
    "10 |         println!(\"val is {}\", val);\n",
    "   |                               ^^^ value borrowed here after move\n",
    "   |\n",
    "   = note: this error originates in the macro `$crate::format_args_nl` which comes from the expansion of the macro `println` (in Nightly builds, run with -Z macro-backtrace for more info)\n",
    "\n",
    "For more information about this error, try `rustc --explain E0382`.\n",
    "error: could not compile `message-passing` due to previous error\n",
    "```\n",
    "\n",
    "Our concurrency mistake has caused a compile time error. The send function takes  \n",
    "ownership of its parameter, and when the value is moved, the receiver takes  \n",
    "ownership of it. This stops us from accidentally using the value again after  \n",
    "sending it; the ownership system checks that everything is okay."
   ]
  },
  {
   "cell_type": "markdown",
   "metadata": {},
   "source": [
    "### Sending Multiple Values and Seeing the Receiver Waiting\n",
    "\n",
    "The code in Listing 16-8 compiled and ran, but it didn’t clearly show us that  \n",
    "two separate threads were talking to each other over the channel. In Listing  \n",
    "16-10 we’ve made some modifications that will prove the code in Listing 16-8 is  \n",
    "running concurrently: the spawned thread will now send multiple messages and  \n",
    "pause for a second between each message.\n",
    "\n",
    "> Filename: src/main.rs"
   ]
  },
  {
   "cell_type": "code",
   "execution_count": 6,
   "metadata": {
    "vscode": {
     "languageId": "rust"
    }
   },
   "outputs": [
    {
     "name": "stdout",
     "output_type": "stream",
     "text": [
      "Got : hi\n",
      "Got : from\n",
      "Got : the\n",
      "Got : thread\n"
     ]
    },
    {
     "data": {
      "text/plain": [
       "()"
      ]
     },
     "execution_count": 6,
     "metadata": {},
     "output_type": "execute_result"
    }
   ],
   "source": [
    "use std::sync::mpsc; // multi producer, single consumer\n",
    "use std::thread;\n",
    "use std::time::Duration;\n",
    "\n",
    "{\n",
    "    let (tx, rx) = mpsc::channel();\n",
    "\n",
    "    thread::spawn( move || {\n",
    "        let vals = vec![\n",
    "            String::from(\"hi\"),\n",
    "            String::from(\"from\"),\n",
    "            String::from(\"the\"),\n",
    "            String::from(\"thread\"),\n",
    "        ];\n",
    "\n",
    "        for val in vals {\n",
    "            tx.send(val).unwrap();\n",
    "            thread::sleep(Duration::from_secs(1));\n",
    "        }\n",
    "    });\n",
    "\n",
    "    for received in rx {\n",
    "        println!(\"Got : {}\", received);\n",
    "    }\n",
    "}"
   ]
  }
 ],
 "metadata": {
  "kernelspec": {
   "display_name": "Rust",
   "language": "rust",
   "name": "rust"
  },
  "language_info": {
   "codemirror_mode": "rust",
   "file_extension": ".rs",
   "mimetype": "text/rust",
   "name": "Rust",
   "pygment_lexer": "rust",
   "version": ""
  },
  "orig_nbformat": 4
 },
 "nbformat": 4,
 "nbformat_minor": 2
}
