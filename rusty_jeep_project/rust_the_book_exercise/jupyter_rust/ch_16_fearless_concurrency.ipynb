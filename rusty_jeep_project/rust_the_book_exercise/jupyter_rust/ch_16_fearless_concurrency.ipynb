{
 "cells": [
  {
   "attachments": {},
   "cell_type": "markdown",
   "metadata": {},
   "source": [
    "Fearless Concurrency\n",
    "---\n",
    "\n",
    "Handling concurrent programming safely and efficiently is another of Rust’s  \n",
    "major goals. Concurrent programming, where different parts of a program execute  \n",
    "independently, and parallel programming, where different parts of a program  \n",
    "execute at the same time, are becoming increasingly important as more computers  \n",
    "take advantage of their multiple processors. Historically, programming in these  \n",
    "contexts has been difficult and error prone: \n",
    "\n",
    "> Rust hopes to change that.\n",
    "\n",
    "#### -- Shift concurrency problems from runtime => compile -- \n",
    "\n",
    "Initially, the Rust team thought that ensuring memory safety and preventing  \n",
    "concurrency problems were two separate challenges to be solved with different  \n",
    "methods. Over time, the team discovered that the ownership and type systems are  \n",
    "a powerful set of tools to help manage memory safety and concurrency problems!  \n",
    "By leveraging ownership and type checking :  \n",
    "\n",
    "- many concurrency errors are compile-time errors in Rust  \n",
    "- rather than runtime errors.  \n",
    "\n",
    "Therefore, rather than making you spend lots of time trying to reproduce the  \n",
    "exact circumstances under which a runtime concurrency bug occurs, incorrect  \n",
    "code will refuse to compile and present an error explaining the problem. As a  \n",
    "result, you can fix your code while you’re working on it rather than potentially  \n",
    "after it has been shipped to production. We’ve nicknamed this aspect of Rust : "
   ]
  },
  {
   "cell_type": "markdown",
   "metadata": {},
   "source": [
    "> FEARLESS CONCURRENCY \n",
    "\n",
    "#### -- Code free of SUBTLE BUGS and EASY to refactor w/o regression --\n",
    "\n",
    "Fearless concurrency allows you to write code that is :  \n",
    "\n",
    "- free of subtle bugs and  \n",
    "- easy to refactor without introducing new bugs\n",
    "\n",
    "> Note: For simplicity’s sake, we’ll refer to many of the problems as concurrent  \n",
    "rather than being more precise by saying concurrent and/or parallel. If this  \n",
    "book were about concurrency and/or parallelism, we’d be more specific. For this  \n",
    "chapter, please mentally substitute concurrent and/or parallel whenever we use  \n",
    "concurrent."
   ]
  },
  {
   "cell_type": "markdown",
   "metadata": {},
   "source": [
    "Many languages are dogmatic about the solutions they offer for handling  \n",
    "concurrent problems. For example, Erlang has elegant functionality for  \n",
    "message-passing concurrency but has only obscure ways to share state between  \n",
    "threads. Supporting only a subset of possible solutions is a reasonable strategy  \n",
    "for higher-level languages, because a higher-level language promises benefits  \n",
    "from giving up some control to gain abstractions. However, lower-level languages  \n",
    "are expected to provide the solution with the best performance in any given  \n",
    "situation and have fewer abstractions over the hardware. Therefore, Rust offers  \n",
    "a variety of tools for modeling problems in whatever way is appropriate for your  \n",
    "situation and requirements.\n",
    "\n",
    "> Here are the topics we’ll cover in this chapter:\n",
    "\n",
    "- How to create threads to run multiple pieces of code at the same time\n",
    "- Message-passing concurrency, where channels send messages between threads\n",
    "- Shared-state concurrency, where multiple threads have access to some piece of  \n",
    "data\n",
    "- The `Sync` and `Send` traits, which extend Rust’s concurrency guarantees to  \n",
    "user-defined types as well as types provided by the standard library"
   ]
  },
  {
   "cell_type": "markdown",
   "metadata": {},
   "source": [
    "Using Threads to Run Code Simultaneously\n",
    "---\n",
    "\n",
    "In most current operating systems, an executed program’s code is run in a  \n",
    "process, and the operating system will manage multiple processes at once.  \n",
    "Within a program, you can also have independent parts that run simultaneously.  \n",
    "The features that run these independent parts are called threads. For example,  \n",
    "a web server could have multiple threads so that it could respond to more than  \n",
    "one request at the same time.\n",
    "\n",
    "Splitting the computation in your program into multiple threads to run multiple  \n",
    "tasks at the same time can improve performance, but it also adds complexity.  \n",
    "Because threads can run simultaneously, there’s no inherent guarantee about the  \n",
    "order in which parts of your code on different threads will run. This can lead  \n",
    "to problems, such as:\n",
    "\n",
    "- **`Race conditions`**, where threads are accessing data or resources in an  \n",
    "inconsistent order\n",
    "- **`Deadlocks`**, where two threads are waiting for each other, preventing both  \n",
    "threads from continuing  \n",
    "- Bugs that happen only in certain situations and are hard to reproduce and fix  \n",
    "reliably\n",
    "\n",
    "Rust attempts to mitigate the negative effects of using threads, but programming  \n",
    "in a multithreaded context still takes careful thought and requires a code  \n",
    "structure that is different from that in programs running in a single thread.\n",
    "\n",
    "#### -- Default : 1:1 operating [SYSTEM] thread : [LANGUAGE] thread --\n",
    "\n",
    "Programming languages implement threads in a few different ways, and many  \n",
    "operating systems provide an API the language can call for creating new threads.  \n",
    "The Rust standard library uses a **`1:1 model`** of thread implementation, whereby a  \n",
    "program uses one operating system thread per one language thread. There are  \n",
    "crates that implement other models of threading that make different tradeoffs to  \n",
    "the **`1:1 model`**.\n",
    "\n"
   ]
  },
  {
   "cell_type": "markdown",
   "metadata": {},
   "source": [
    "### Creating a New Thread with `spawn`\n",
    "\n",
    "To create a new thread, we call the `thread::spawn`` function and pass it a  \n",
    "closure (we talked about closures in Chapter 13) containing the code we want to  \n",
    "run in the new thread. The example in Listing 16-1 prints some text from a main  \n",
    "thread and other text from a new thread:\n",
    "\n",
    "> Filename: src/main.rs"
   ]
  },
  {
   "cell_type": "code",
   "execution_count": 7,
   "metadata": {
    "vscode": {
     "languageId": "rust"
    }
   },
   "outputs": [
    {
     "name": "stdout",
     "output_type": "stream",
     "text": [
      "Hi number 6 from the spawned thread\n",
      "Hi number 7 from the spawned thread\n",
      "Hi number 9 from the spawned thread\n",
      "Hi number 8 from the spawned thread\n",
      "hi number 1 from the main thread!\n",
      "Hi number 1 from the spawned thread\n",
      "hi number 2 from the main thread!\n",
      "Hi number 2 from the spawned thread\n",
      "hi number 3 from the main thread!\n",
      "Hi number 3 from the spawned thread\n",
      "hi number 4 from the main thread!\n",
      "Hi number 4 from the spawned thread\n",
      "Hi number 5 from the spawned thread\n"
     ]
    },
    {
     "data": {
      "text/plain": [
       "()"
      ]
     },
     "execution_count": 7,
     "metadata": {},
     "output_type": "execute_result"
    }
   ],
   "source": [
    "use std::thread;\n",
    "use std::time::Duration;\n",
    "\n",
    "{\n",
    "    thread::spawn(||{\n",
    "        for i in 1..10 {\n",
    "            println!(\"Hi number {} from the spawned thread\", i);\n",
    "            thread::sleep(Duration::from_millis(1));\n",
    "        }\n",
    "    });\n",
    "\n",
    "    for i in 1..5 {\n",
    "        println!(\"hi number {} from the main thread!\", i);\n",
    "        thread::sleep(Duration::from_millis(1));\n",
    "    }\n",
    "}"
   ]
  },
  {
   "cell_type": "markdown",
   "metadata": {},
   "source": [
    "\n",
    "> Listing 16-1: Creating a new thread to print one thing while the main thread  \n",
    "prints something else\n",
    "\n",
    "Note that when the main thread of a Rust program completes, all spawned threads  \n",
    "are shut down, whether or not they have finished running. The output from this  \n",
    "program might be a little different every time, but it will look similar to the  \n",
    "following:\n",
    "\n",
    "```rust\n",
    "hi number 1 from the main thread!\n",
    "hi number 1 from the spawned thread!\n",
    "hi number 2 from the main thread!\n",
    "hi number 2 from the spawned thread!\n",
    "hi number 3 from the main thread!\n",
    "hi number 3 from the spawned thread!\n",
    "hi number 4 from the main thread!\n",
    "hi number 4 from the spawned thread!\n",
    "hi number 5 from the spawned thread!\n",
    "```\n",
    "\n",
    "The calls to thread::sleep force a thread to stop its execution for a short  \n",
    "duration, allowing a different thread to run. The threads will probably take  \n",
    "turns, but that isn’t guaranteed: it depends on how your operating system  \n",
    "schedules the threads. In this run, the main thread printed first, even though  \n",
    "the print statement from the spawned thread appears first in the code. And even  \n",
    "though we told the spawned thread to print until i is 9, it only got to 5 before  \n",
    "the main thread shut down.\n",
    "\n",
    "If you run this code and only see output from the main thread, or don’t see any  \n",
    "overlap, try increasing the numbers in the ranges to create more opportunities  \n",
    "for the operating system to switch between the threads."
   ]
  },
  {
   "cell_type": "markdown",
   "metadata": {},
   "source": [
    "### Waiting for All Threads to Finish Using `join` Handles\n",
    "\n",
    "The code in Listing 16-1 not only stops the spawned thread prematurely most of  \n",
    "the time due to the main thread ending, but because there is no guarantee on the  \n",
    "order in which threads run, we also can’t guarantee that the spawned thread will  \n",
    "get to run at all!\n",
    "\n",
    "We can fix the problem of the spawned thread not running or ending prematurely  \n",
    "by saving the return value of thread::spawn in a variable. The return type of  \n",
    "thread::spawn is JoinHandle. A JoinHandle is an owned value that, when we call  \n",
    "the join method on it, will wait for its thread to finish. Listing 16-2 shows  \n",
    "how to use the JoinHandle of the thread we created in Listing 16-1 and call  \n",
    "join to make sure the spawned thread finishes before main exits:\n",
    "\n",
    "> Filename: src/main.rs"
   ]
  },
  {
   "cell_type": "code",
   "execution_count": 19,
   "metadata": {
    "vscode": {
     "languageId": "rust"
    }
   },
   "outputs": [
    {
     "name": "stdout",
     "output_type": "stream",
     "text": [
      "hi number 1 from the main thread!\n",
      "Hi number 1 from the spawned thread\n",
      "Hi number 2 from the spawned thread\n",
      "hi number 2 from the main thread!\n",
      "Hi number 3 from the spawned thread\n",
      "hi number 3 from the main thread!\n",
      "Hi number 4 from the spawned thread\n",
      "hi number 4 from the main thread!\n",
      "Hi number 5 from the spawned thread\n",
      "Hi number 6 from the spawned thread\n",
      "Hi number 7 from the spawned thread\n",
      "Hi number 8 from the spawned thread\n",
      "Hi number 9 from the spawned thread\n"
     ]
    },
    {
     "data": {
      "text/plain": [
       "()"
      ]
     },
     "execution_count": 19,
     "metadata": {},
     "output_type": "execute_result"
    }
   ],
   "source": [
    "use std::thread;\n",
    "use std::time::Duration;\n",
    "\n",
    "{\n",
    "    let handle = thread::spawn(\n",
    "        || {\n",
    "            for i in 1..10{\n",
    "                println!(\"Hi number {} from the spawned thread\", i);\n",
    "                thread::sleep(Duration::from_millis(1));\n",
    "            }\n",
    "        }\n",
    "    );\n",
    "\n",
    "    for i in 1..5 {\n",
    "        println!(\"hi number {} from the main thread!\", i);\n",
    "        thread::sleep(Duration::from_millis(1));\n",
    "    }\n",
    "\n",
    "    handle.join().unwrap();\n",
    "}"
   ]
  },
  {
   "cell_type": "markdown",
   "metadata": {},
   "source": [
    "> Listing 16-2: Saving a JoinHandle from thread::spawn to guarantee the thread  \n",
    "is run to completion\n",
    "\n",
    "Calling join on the handle blocks the thread currently running until the thread  \n",
    "represented by the handle terminates. Blocking a thread means that thread is  \n",
    "prevented from performing work or exiting. Because we’ve put the call to join  \n",
    "after the main thread’s for loop, running Listing 16-2 should produce output \n",
    "similar to this:\n",
    "\n",
    "```rust\n",
    "hi number 1 from the main thread!\n",
    "hi number 2 from the main thread!\n",
    "hi number 1 from the spawned thread!\n",
    "hi number 3 from the main thread!\n",
    "hi number 2 from the spawned thread!\n",
    "hi number 4 from the main thread!\n",
    "hi number 3 from the spawned thread!\n",
    "hi number 4 from the spawned thread!\n",
    "hi number 5 from the spawned thread!\n",
    "hi number 6 from the spawned thread!\n",
    "hi number 7 from the spawned thread!\n",
    "hi number 8 from the spawned thread!\n",
    "hi number 9 from the spawned thread!\n",
    "```\n",
    "\n",
    "The two threads continue alternating, but the main thread waits because of the  \n",
    "call to handle.join() and does not end until the spawned thread is finished.\n",
    "\n",
    "But let’s see what happens when we instead move handle.join() before the for  \n",
    "loop in main, like this:\n",
    "\n",
    "> Filename: src/main.rs"
   ]
  },
  {
   "cell_type": "code",
   "execution_count": 23,
   "metadata": {
    "vscode": {
     "languageId": "rust"
    }
   },
   "outputs": [
    {
     "name": "stdout",
     "output_type": "stream",
     "text": [
      "Hi number 1 from the spawned thread\n",
      "Hi number 2 from the spawned thread\n",
      "Hi number 3 from the spawned thread\n",
      "Hi number 4 from the spawned thread\n",
      "Hi number 5 from the spawned thread\n",
      "Hi number 6 from the spawned thread\n",
      "Hi number 7 from the spawned thread\n",
      "Hi number 8 from the spawned thread\n",
      "Hi number 9 from the spawned thread\n",
      "hi number 1 from the main thread!\n",
      "hi number 2 from the main thread!\n",
      "hi number 3 from the main thread!\n",
      "hi number 4 from the main thread!\n"
     ]
    },
    {
     "data": {
      "text/plain": [
       "()"
      ]
     },
     "execution_count": 23,
     "metadata": {},
     "output_type": "execute_result"
    }
   ],
   "source": [
    "use std::thread;\n",
    "use std::time::Duration;\n",
    "\n",
    "{\n",
    "    let handle = thread::spawn(||{\n",
    "        for i in 1..10 {\n",
    "            println!(\"Hi number {} from the spawned thread\", i);\n",
    "            thread::sleep(Duration::from_millis(1));\n",
    "        }\n",
    "    });\n",
    "\n",
    "    handle.join().unwrap();\n",
    "\n",
    "    for i in 1..5 {\n",
    "        println!(\"hi number {} from the main thread!\", i);\n",
    "        thread::sleep(Duration::from_millis(1));\n",
    "    }\n",
    "}"
   ]
  },
  {
   "cell_type": "markdown",
   "metadata": {},
   "source": [
    "The main thread will wait for the spawned thread to finish and then run its for  \n",
    "loop, so the output won’t be interleaved anymore, as shown here:\n",
    "\n",
    "```rust\n",
    "hi number 1 from the spawned thread!\n",
    "hi number 2 from the spawned thread!\n",
    "hi number 3 from the spawned thread!\n",
    "hi number 4 from the spawned thread!\n",
    "hi number 5 from the spawned thread!\n",
    "hi number 6 from the spawned thread!\n",
    "hi number 7 from the spawned thread!\n",
    "hi number 8 from the spawned thread!\n",
    "hi number 9 from the spawned thread!\n",
    "hi number 1 from the main thread!\n",
    "hi number 2 from the main thread!\n",
    "hi number 3 from the main thread!\n",
    "hi number 4 from the main thread!\n",
    "```\n",
    "\n",
    "Small details, such as where join is called, can affect whether or not your  \n",
    "threads run at the same time."
   ]
  }
 ],
 "metadata": {
  "kernelspec": {
   "display_name": "Rust",
   "language": "rust",
   "name": "rust"
  },
  "language_info": {
   "codemirror_mode": "rust",
   "file_extension": ".rs",
   "mimetype": "text/rust",
   "name": "Rust",
   "pygment_lexer": "rust",
   "version": ""
  },
  "orig_nbformat": 4
 },
 "nbformat": 4,
 "nbformat_minor": 2
}
