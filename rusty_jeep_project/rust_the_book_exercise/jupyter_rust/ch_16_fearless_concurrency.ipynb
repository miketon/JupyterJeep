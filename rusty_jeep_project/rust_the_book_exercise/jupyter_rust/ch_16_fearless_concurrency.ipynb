{
 "cells": [
  {
   "attachments": {},
   "cell_type": "markdown",
   "metadata": {},
   "source": [
    "Fearless Concurrency\n",
    "---\n",
    "\n",
    "Handling concurrent programming safely and efficiently is another of Rust’s  \n",
    "major goals. Concurrent programming, where different parts of a program execute  \n",
    "independently, and parallel programming, where different parts of a program  \n",
    "execute at the same time, are becoming increasingly important as more computers  \n",
    "take advantage of their multiple processors. Historically, programming in these  \n",
    "contexts has been difficult and error prone: \n",
    "\n",
    "> Rust hopes to change that.\n",
    "\n",
    "#### -- Shift concurrency problems from runtime => compile -- \n",
    "\n",
    "Initially, the Rust team thought that ensuring memory safety and preventing  \n",
    "concurrency problems were two separate challenges to be solved with different  \n",
    "methods. Over time, the team discovered that the ownership and type systems are  \n",
    "a powerful set of tools to help manage memory safety and concurrency problems!  \n",
    "By leveraging ownership and type checking :  \n",
    "\n",
    "- many concurrency errors are compile-time errors in Rust  \n",
    "- rather than runtime errors.  \n",
    "\n",
    "Therefore, rather than making you spend lots of time trying to reproduce the  \n",
    "exact circumstances under which a runtime concurrency bug occurs, incorrect  \n",
    "code will refuse to compile and present an error explaining the problem. As a  \n",
    "result, you can fix your code while you’re working on it rather than potentially  \n",
    "after it has been shipped to production. We’ve nicknamed this aspect of Rust : "
   ]
  },
  {
   "cell_type": "markdown",
   "metadata": {},
   "source": [
    "> FEARLESS CONCURRENCY \n",
    "\n",
    "#### -- Code free of SUBTLE BUGS and EASY to refactor w/o regression --\n",
    "\n",
    "Fearless concurrency allows you to write code that is :  \n",
    "\n",
    "- free of subtle bugs and  \n",
    "- easy to refactor without introducing new bugs\n",
    "\n",
    "> Note: For simplicity’s sake, we’ll refer to many of the problems as concurrent  \n",
    "rather than being more precise by saying concurrent and/or parallel. If this  \n",
    "book were about concurrency and/or parallelism, we’d be more specific. For this  \n",
    "chapter, please mentally substitute concurrent and/or parallel whenever we use  \n",
    "concurrent."
   ]
  },
  {
   "cell_type": "markdown",
   "metadata": {},
   "source": [
    "Many languages are dogmatic about the solutions they offer for handling  \n",
    "concurrent problems. For example, Erlang has elegant functionality for  \n",
    "message-passing concurrency but has only obscure ways to share state between  \n",
    "threads. Supporting only a subset of possible solutions is a reasonable strategy  \n",
    "for higher-level languages, because a higher-level language promises benefits  \n",
    "from giving up some control to gain abstractions. However, lower-level languages  \n",
    "are expected to provide the solution with the best performance in any given  \n",
    "situation and have fewer abstractions over the hardware. Therefore, Rust offers  \n",
    "a variety of tools for modeling problems in whatever way is appropriate for your  \n",
    "situation and requirements.\n",
    "\n",
    "> Here are the topics we’ll cover in this chapter:\n",
    "\n",
    "- How to create threads to run multiple pieces of code at the same time\n",
    "- Message-passing concurrency, where channels send messages between threads\n",
    "- Shared-state concurrency, where multiple threads have access to some piece of  \n",
    "data\n",
    "- The `Sync` and `Send` traits, which extend Rust’s concurrency guarantees to  \n",
    "user-defined types as well as types provided by the standard library"
   ]
  },
  {
   "cell_type": "markdown",
   "metadata": {},
   "source": [
    "Using Threads to Run Code Simultaneously\n",
    "---\n",
    "\n",
    "In most current operating systems, an executed program’s code is run in a  \n",
    "process, and the operating system will manage multiple processes at once.  \n",
    "Within a program, you can also have independent parts that run simultaneously.  \n",
    "The features that run these independent parts are called threads. For example,  \n",
    "a web server could have multiple threads so that it could respond to more than  \n",
    "one request at the same time.\n",
    "\n",
    "Splitting the computation in your program into multiple threads to run multiple  \n",
    "tasks at the same time can improve performance, but it also adds complexity.  \n",
    "Because threads can run simultaneously, there’s no inherent guarantee about the  \n",
    "order in which parts of your code on different threads will run. This can lead  \n",
    "to problems, such as:\n",
    "\n",
    "- **`Race conditions`**, where threads are accessing data or resources in an  \n",
    "inconsistent order\n",
    "- **`Deadlocks`**, where two threads are waiting for each other, preventing both  \n",
    "threads from continuing  \n",
    "- Bugs that happen only in certain situations and are hard to reproduce and fix  \n",
    "reliably\n",
    "\n",
    "Rust attempts to mitigate the negative effects of using threads, but programming  \n",
    "in a multithreaded context still takes careful thought and requires a code  \n",
    "structure that is different from that in programs running in a single thread.\n",
    "\n",
    "#### -- Default : 1:1 operating [SYSTEM] thread : [LANGUAGE] thread --\n",
    "\n",
    "Programming languages implement threads in a few different ways, and many  \n",
    "operating systems provide an API the language can call for creating new threads.  \n",
    "The Rust standard library uses a **`1:1 model`** of thread implementation, whereby a  \n",
    "program uses one operating system thread per one language thread. There are  \n",
    "crates that implement other models of threading that make different tradeoffs to  \n",
    "the **`1:1 model`**.\n",
    "\n"
   ]
  },
  {
   "cell_type": "markdown",
   "metadata": {},
   "source": [
    "### Creating a New Thread with `spawn`\n",
    "\n",
    "To create a new thread, we call the `thread::spawn`` function and pass it a  \n",
    "closure (we talked about closures in Chapter 13) containing the code we want to  \n",
    "run in the new thread. The example in Listing 16-1 prints some text from a main  \n",
    "thread and other text from a new thread:\n",
    "\n",
    "> Filename: src/main.rs"
   ]
  }
 ],
 "metadata": {
  "language_info": {
   "name": "python"
  },
  "orig_nbformat": 4
 },
 "nbformat": 4,
 "nbformat_minor": 2
}
