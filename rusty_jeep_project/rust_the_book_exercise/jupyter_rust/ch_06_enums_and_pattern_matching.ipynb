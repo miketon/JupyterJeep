{
 "cells": [
  {
   "attachments": {},
   "cell_type": "markdown",
   "metadata": {},
   "source": [
    "# Enums and Pattern Matching\n",
    "---\n",
    "\n",
    "In this chapter, we’ll look at enumerations, also referred to as enums. Enums  \n",
    "allow you to define a type by enumerating its possible variants. First we’ll  \n",
    "define and use an enum to show how an enum can encode meaning along with data.  \n",
    "Next, we’ll explore a particularly useful enum, called Option, which expresses  \n",
    "that a value can be either something or nothing. Then we’ll look at how pattern  \n",
    "matching in the match expression makes it easy to run different code for  \n",
    "different values of an enum. Finally, we’ll cover how the if let construct is  \n",
    "another convenient and concise idiom available to handle enums in your code."
   ]
  },
  {
   "attachments": {},
   "cell_type": "markdown",
   "metadata": {},
   "source": [
    "Defining an Enum\n",
    "---\n",
    "\n",
    "Where structs give you a way of grouping together related fields and data, like  \n",
    "a Rectangle with its width and height, enums give you a way of saying a value is  \n",
    "one of a possible set of values. For example, we may want to say that Rectangle  \n",
    "is one of a set of possible shapes that also includes Circle and Triangle. To do  \n",
    "this, Rust allows us to encode these possibilities as an enum."
   ]
  },
  {
   "attachments": {},
   "cell_type": "markdown",
   "metadata": {},
   "source": [
    "#### -- Enum Examples\n",
    "\n",
    "Let’s look at a situation we might want to express in code and see why enums are  \n",
    "useful and more appropriate than structs in this case. Say we need to work with  \n",
    "IP addresses. Currently, two major standards are used for IP addresses: version  \n",
    "four and version six. Because these are the only possibilities for an IP address  \n",
    "that our program will come across, we can enumerate all possible variants, which  \n",
    "is where enumeration gets its name.\n",
    "\n",
    "Any IP address can be either a version four or a version six address, but not  \n",
    "both at the same time. That property of IP addresses makes the enum data  \n",
    "structure appropriate because an enum value can only be one of its variants.  \n",
    "Both version four and version six addresses are still fundamentally IP  \n",
    "addresses, so they should be treated as the same type when the code is handling  \n",
    "situations that apply to any kind of IP address.\n",
    "\n",
    "We can express this concept in code by defining an `IpAddrKind` enumeration and  \n",
    "listing the possible kinds an IP address can be, V4 and V6. These are the  \n",
    "variants of the enum:\n",
    "\n",
    "```rust\n",
    "enum IpAddrKind{\n",
    "    V4,\n",
    "    V6\n",
    "}\n",
    "```\n",
    "\n",
    "> `IpAddrKind` is now a custom data type that we can use elsewhere in our code.\n",
    "\n"
   ]
  },
  {
   "attachments": {},
   "cell_type": "markdown",
   "metadata": {},
   "source": [
    "### Enum Values\n",
    "\n",
    "We can create instances of each of the two variants of IpAddrKind like this:\n",
    "\n",
    "```rust\n",
    "    let four = IpAddrKind::V4;\n",
    "    let six = IpAddrKind::V6;\n",
    "```\n",
    "\n",
    "> Note that the variants of the enum are namespaced under its identifier, and we  \n",
    "use a double colon to separate the two. This is useful because now both values  \n",
    "`IpAddrKind::V4` and `IpAddrKind::V6` are of the same type: `IpAddrKind`. We  \n",
    "can then, for instance, define a function that takes any `IpAddrKind`:  \n",
    "\n",
    "```rust\n",
    "// function that takes any IpAddrKind enum\n",
    "fn route(ip_kind:IpAddrKind) {}\n",
    "```\n",
    "\n",
    "And we can call this function with either variant:\n",
    "\n",
    "```rust\n",
    "    route(IpAddrKind::V4)\n",
    "    route(IpAddrKind::V6)\n",
    "```\n",
    "\n",
    "Using enums has even more advantages. Thinking more about our IP address type,  \n",
    "at the moment we don’t have a way to store the actual IP address data; we only  \n",
    "know what kind it is. Given that you just learned about structs in Chapter 5,  \n",
    "you might be tempted to tackle this problem with structs as shown in Listing 6-1."
   ]
  },
  {
   "cell_type": "code",
   "execution_count": 2,
   "metadata": {
    "vscode": {
     "languageId": "rust"
    }
   },
   "outputs": [
    {
     "data": {
      "text/plain": [
       "()"
      ]
     },
     "execution_count": 2,
     "metadata": {},
     "output_type": "execute_result"
    }
   ],
   "source": [
    "enum IpAddrKind { // enum will be stored on the stack\n",
    "    V4,\n",
    "    V6\n",
    "}\n",
    "\n",
    "// Struct wraps enum\n",
    "struct IpAddr {\n",
    "    // @note : enum inside a struct\n",
    "    kind: IpAddrKind,   // enum is stack allocated\n",
    "    address: String     // String is heap allocated\n",
    "}\n",
    "    // scope is pushed onto the stack frame\n",
    "{   // entering scope\n",
    "    let home = IpAddr {                     // binding of 'home; created, \n",
    "                                            // assigned instance of IpAddr\n",
    "        kind: IpAddrKind::V4,               // kind is IpAddrKind::V4 added to stack\n",
    "        address: String::from(\"127.0.0.1\")  // address assigned new string on heap\n",
    "    };\n",
    "\n",
    "    let loopback = IpAddr {                 // binding of 'loopback' created\n",
    "                                            // assigned instance of IpAddr\n",
    "        kind: IpAddrKind::V6,               // kind is IpAddrKind::V6 added to stack\n",
    "        address: String::from(\"::1\")        // address assigned new string on heap\n",
    "    };\n",
    "}   // existing scope\n",
    "    // loopback are out of scope \n",
    "    // - kind and address are dropped from the stack\n",
    "    // - String::from(\"::1\") is dropped from the heap\n",
    "    // home is out of scope\n",
    "    // - kind and address are dropped from the stack\n",
    "    // - String::from(\"127.0.0.1\") is dropped from the heap\n",
    "    // scope is popped off the stack frame"
   ]
  },
  {
   "attachments": {},
   "cell_type": "markdown",
   "metadata": {},
   "source": [
    "> Listing 6-1: Storing the data and IpAddrKind variant of an IP address using a  \n",
    "struct\n",
    "\n",
    "#### -- Enum Inside Struct Pattern\n",
    "\n",
    "Here, we’ve defined a struct IpAddr that has two fields:  \n",
    "\n",
    "- a kind field that is of type IpAddrKind (the enum we defined previously) and  \n",
    "- an address field of type String.  \n",
    "\n",
    "We have two instances of this struct.  \n",
    "- The first is home, and it has the value IpAddrKind::V4 as its kind with  \n",
    "associated address data of 127.0.0.1.  \n",
    "- The second instance is loopback. It has the other variant of IpAddrKind as  \n",
    "its kind value, V6, and has address ::1 associated with it.  \n",
    "\n",
    "We’ve used a struct to bundle the kind and address values together, so now the  \n",
    "variant is associated with the value."
   ]
  },
  {
   "attachments": {},
   "cell_type": "markdown",
   "metadata": {},
   "source": [
    "#### -- Enum Without Struct Pattern\n",
    "\n",
    "However, representing the same concept using just an enum is more concise:  \n",
    "rather than an enum inside a struct, we can **put data directly into each enum  \n",
    "variant**. This new definition of the IpAddr enum says that both V4 and V6  \n",
    "variants will have associated String values:"
   ]
  },
  {
   "cell_type": "code",
   "execution_count": 10,
   "metadata": {
    "vscode": {
     "languageId": "rust"
    }
   },
   "outputs": [
    {
     "data": {
      "text/plain": [
       "()"
      ]
     },
     "execution_count": 10,
     "metadata": {},
     "output_type": "execute_result"
    }
   ],
   "source": [
    "enum IpAddr {\n",
    "    V4(String),\n",
    "    V6(String)\n",
    "}\n",
    "\n",
    "{\n",
    "    let home = IpAddr::V4(String::from(\"127.0.0.1\"));\n",
    "    let loopback = IpAddr::V6(String::from(\"::1\"));\n",
    "}"
   ]
  },
  {
   "attachments": {},
   "cell_type": "markdown",
   "metadata": {},
   "source": [
    "#### -- Enum Embedded\n",
    "\n",
    "We attach data to each variant of the enum directly, so there is no need for an  \n",
    "extra struct. Here, it’s also easier to see another detail of how enums work:  \n",
    "the name of each enum variant that we define also becomes a function that  \n",
    "constructs an instance of the enum. That is, IpAddr::V4() is a function call  \n",
    "that takes a String argument and returns an instance of the IpAddr type. We  \n",
    "automatically get this constructor function defined as a result of defining the  \n",
    "enum.\n",
    "\n",
    "There’s another advantage to using an enum rather than a struct: each variant  \n",
    "can have different types and amounts of associated data. Version four IP  \n",
    "addresses will always have four numeric components that will have values between  \n",
    "0 and 255. If we wanted to store V4 addresses as four u8 values but still  \n",
    "express V6 addresses as one String value, we wouldn’t be able to with a struct.  \n",
    "Enums handle this case with ease:"
   ]
  },
  {
   "cell_type": "code",
   "execution_count": 13,
   "metadata": {
    "vscode": {
     "languageId": "rust"
    }
   },
   "outputs": [
    {
     "data": {
      "text/plain": [
       "()"
      ]
     },
     "execution_count": 13,
     "metadata": {},
     "output_type": "execute_result"
    }
   ],
   "source": [
    "// Another advanatge to enum vs struct\n",
    "enum IpAddr{\n",
    "    // Each variant can have DIFFERENT types and AMOUNTS of associated data!\n",
    "    V4(u8, u8, u8, u8),     // 4 u8 values\n",
    "    V6(String)              // 1 String value\n",
    "}\n",
    "\n",
    "{\n",
    "    // Each enum variant passed different arguments\n",
    "    let home = IpAddr::V4(127, 0, 0, 1);            // 4 u8 values\n",
    "    let loopback = IpAddr::V6(String::from(\"::1\")); // 1 String value\n",
    "}"
   ]
  },
  {
   "attachments": {},
   "cell_type": "markdown",
   "metadata": {},
   "source": [
    "We’ve shown several different ways to define data structures to store version  \n",
    "four and version six IP addresses. However, as it turns out, wanting to store IP  \n",
    "addresses and encode which kind they are is so common that the standard library  \n",
    "has a definition we can use! Let’s look at how the standard library defines  \n",
    "IpAddr: it has the exact enum and variants that we’ve defined and used, but it  \n",
    "embeds the address data inside the variants in the form of two different  \n",
    "structs, which are defined differently for each variant:\n",
    "\n",
    "```rust\n",
    "struct Ipv4Addr {\n",
    "    // --snip--\n",
    "}\n",
    "\n",
    "struct Ipv6Addr {\n",
    "    // --snip--\n",
    "}\n",
    "\n",
    "// Even data like custom struct can be embedded in enum (including other enums!)\n",
    "// not just built-ins\n",
    "enum IpAddr{\n",
    "    V4(Ipv4Addr),\n",
    "    V6(Ipv6Addr)\n",
    "}\n",
    "```\n",
    "\n",
    "#### -- Enum Variant entry can hold ANY kind of Data Type\n",
    "\n",
    "This code illustrates that you can put any kind of data inside an enum variant:\n",
    "\n",
    "- strings, \n",
    "- numeric types, or \n",
    "- structs, for example. \n",
    "- You can even include another enum! \n",
    "\n",
    "Also, standard library types are often not much more complicated than what you  \n",
    "might come up with.\n",
    "\n",
    "Note that even though the standard library contains a definition for IpAddr, we  \n",
    "can still create and use our own definition without conflict because we haven’t  \n",
    "brought the standard library’s definition into our scope. We’ll talk more about  \n",
    "bringing types into scope in Chapter 7."
   ]
  },
  {
   "attachments": {},
   "cell_type": "markdown",
   "metadata": {},
   "source": [
    "#### -- Enum with Completely Variant Types\n",
    "\n",
    "Let’s look at another example of an enum in Listing 6-2: this one has a wide  \n",
    "variety of types embedded in its variants.\n",
    "\n",
    "```rust\n",
    "// enum with 4 completely differenc types!\n",
    "enum Message {\n",
    "    Quit,                       // no data\n",
    "    Move { x: i32, y: i32 },    // struct with named fields\n",
    "    Write(String),              // func with 1 String arg\n",
    "    ChangeColor(i32, i32, i32)  // func with 3 i32 args\n",
    "}\n",
    "```\n",
    "\n",
    "> Listing 6-2: A Message enum whose variants each store different amounts and  \n",
    "types of values\n",
    "\n",
    "This enum has four variants with different types:\n",
    "\n",
    "- Quit has no data associated with it at all.\n",
    "- Move has named fields, like a struct does.\n",
    "- Write includes a single String.\n",
    "- ChangeColor includes three i32 values."
   ]
  },
  {
   "attachments": {},
   "cell_type": "markdown",
   "metadata": {},
   "source": [
    "#### -- Variant Types Unwrapped as Struct\n",
    "\n",
    "Defining an enum with variants such as the ones in Listing 6-2 is similar to  \n",
    "defining different kinds of struct definitions, except the enum doesn’t use the  \n",
    "struct keyword and all the variants are grouped together under the Message type.  \n",
    "The following structs could hold the same data that the preceding enum variants  \n",
    "hold:\n",
    "\n",
    "```rust\n",
    "struct QuitMessage;                         // unit struct\n",
    "struct MoveMessage {\n",
    "    x: i32,\n",
    "    y: i32,\n",
    "}\n",
    "struct WriteMessage(String);                // tuple struct\n",
    "struct ChangeColorMessage(i32, i32, i32);   // tuple struct\n",
    "\n",
    "// But we sould need different function overloads to handle  \n",
    "// EACH SEPARATE struct vs Handling ONE SINGLE enum variants\n",
    "```\n",
    "\n",
    "But if we used the different structs, each of which has its own type, we  \n",
    "couldn’t as easily define a function to take any of these kinds of messages as  \n",
    "we could with the Message enum defined in Listing 6-2, which is a single type."
   ]
  },
  {
   "attachments": {},
   "cell_type": "markdown",
   "metadata": {},
   "source": [
    "#### -- Enum Supports Method Calls\n",
    "\n",
    "There is one more similarity between enums and structs: just as we’re able to  \n",
    "define methods on structs using impl, we’re also able to define methods on  \n",
    "enums. Here’s a method named call that we could define on our Message enum:\n",
    "\n",
    "```rust\n",
    "impl Message{\n",
    "    fn call(&self){\n",
    "        // method body defined here\n",
    "    }\n",
    "}\n",
    "\n",
    "let m = Message::Write(String::from(\"hello\"));\n",
    "m.call();\n",
    "```\n",
    "\n",
    "The body of the method would use self to get the value that we called the method  \n",
    "on. In this example, we’ve created a variable `m` that has the value  \n",
    "`Message::Write(String::from(\"hello\"))`, and that is what self will be in the body  \n",
    "of the call method when `m.call()` runs."
   ]
  },
  {
   "cell_type": "code",
   "execution_count": 15,
   "metadata": {
    "vscode": {
     "languageId": "rust"
    }
   },
   "outputs": [
    {
     "name": "stdout",
     "output_type": "stream",
     "text": [
      "Message::call Write(\"hello ENUMS\")\n",
      "Message::call Quit\n",
      "Message::call Move { x: 1, y: 2 }\n",
      "Message::call ChangeColor(0, 1, 0)\n"
     ]
    },
    {
     "data": {
      "text/plain": [
       "()"
      ]
     },
     "execution_count": 15,
     "metadata": {},
     "output_type": "execute_result"
    }
   ],
   "source": [
    "#[derive(Debug)]\n",
    "enum Message{\n",
    "    Quit,\n",
    "    Write(String),\n",
    "    Move{x: i32, y: i32},\n",
    "    ChangeColor(i32, i32, i32)\n",
    "}\n",
    "\n",
    "impl Message{\n",
    "    fn call(&self){\n",
    "        println!(\"Message::call {:?}\", self);\n",
    "    }\n",
    "}\n",
    "\n",
    "{\n",
    "    let m = Message::Write(String::from(\"hello ENUMS\"));\n",
    "    m.call();\n",
    "\n",
    "    let q = Message::Quit;\n",
    "    q.call();\n",
    "\n",
    "    let mv = Message::Move{x: 1, y: 2};\n",
    "    mv.call();\n",
    "\n",
    "    let color = Message::ChangeColor(0, 1, 0);\n",
    "    color.call();\n",
    "}"
   ]
  },
  {
   "attachments": {},
   "cell_type": "markdown",
   "metadata": {},
   "source": [
    "### The Option Enum and Its Advantages Over Null Values\n",
    "\n",
    "Let’s look at another enum in the standard library that is very common and  \n",
    "useful: `Option`.\n",
    "\n",
    "This section explores a case study of `Option`, which is another enum defined by  \n",
    "the standard library. The `Option` type encodes the very common scenario in which  \n",
    "a value could be `something` or it could be `nothing`.\n",
    "\n",
    "For example, if you request the first item in a non-empty list, you would get a \n",
    "value. If you request the first item in an empty list, you would get nothing.  \n",
    "Expressing this concept in terms of the type system means the compiler can check  \n",
    "whether you’ve handled all the cases you should be handling; this functionality  \n",
    "can prevent bugs that are extremely common in other programming languages.\n",
    "\n",
    "Programming language design is often thought of in terms of which features you  \n",
    "include, but the features you exclude are important too. Rust doesn’t have the  \n",
    "null feature that many other languages have. Null is a value that means there is  \n",
    "no value there. In languages with null, variables can always be in one of two  \n",
    "states: null or not-null."
   ]
  },
  {
   "attachments": {},
   "cell_type": "markdown",
   "metadata": {},
   "source": [
    "#### -- Null Reference : The Billion Dollar Mistake\n",
    "\n",
    "In his 2009 presentation “Null References: The Billion Dollar Mistake,” Tony  \n",
    "Hoare, the inventor of null, has this to say:\n",
    "\n",
    "```css\n",
    "I call it my billion-dollar mistake. At that time, I was designing the first  \n",
    "comprehensive type system for references in an object-oriented language. My  \n",
    "goal was to ensure that all use of references should be absolutely safe, with  \n",
    "checking performed automatically by the compiler. But I couldn’t resist the  \n",
    "temptation to put in a null reference, simply because it was so easy to  \n",
    "implement. This has led to innumerable errors, vulnerabilities, and system  \n",
    "crashes, which have probably caused a billion dollars of pain and damage in the  \n",
    "last forty years.\n",
    "```\n",
    "\n",
    "The problem with null values is that if you try to use a null value as a  \n",
    "not-null value, you’ll get an error of some kind. Because this null or not-null  \n",
    "property is pervasive, it’s extremely easy to make this kind of error.\n",
    "\n",
    "However, the concept that null is trying to express is still a useful one: a  \n",
    "null is a value that is currently invalid or absent for some reason."
   ]
  },
  {
   "attachments": {},
   "cell_type": "markdown",
   "metadata": {},
   "source": [
    "#### -- Option<T> instead of Null\n",
    "\n",
    "The problem isn’t really with the concept but with the particular implementation.  \n",
    "As such, `Rust does not have nulls`, but it does have an enum that can encode the  \n",
    "concept of a value being present or absent. This enum is `Option<T>`, and it is  \n",
    "defined by the standard library as follows:\n",
    "\n",
    "```rust\n",
    "enum Option<T> {\n",
    "    None,\n",
    "    Some<T>,\n",
    "}\n",
    "```\n",
    "\n",
    "The `Option<T>` enum is so useful that it’s even included in the prelude; you  \n",
    "don’t need to bring it into scope explicitly. Its variants are also included in  \n",
    "the prelude: you can use `Some` and `None` directly without the Option:: prefix.  \n",
    "The `Option<T>` enum is still just a regular enum, and `Some(T)` and `None` are  \n",
    "still variants of type `Option<T>`."
   ]
  },
  {
   "attachments": {},
   "cell_type": "markdown",
   "metadata": {},
   "source": [
    "#### -- Some<T> and None\n",
    "\n",
    "The <T> syntax is a feature of Rust we haven’t talked about yet. It’s a generic  \n",
    "type parameter, and we’ll cover generics in more detail in Chapter 10. For now,  \n",
    "all you need to know is that <T> means that the `Some` variant of the `Option`  \n",
    "enum can hold one piece of data of any type, and that each concrete type that  \n",
    "gets used in place of T makes the overall `Option<T>` type a different type.  \n",
    "Here are some examples of using Option values to hold number types and string  \n",
    "types:\n",
    "\n",
    "```rust\n",
    "    // can be inferred from concrete assignment\n",
    "    let some_number = Some(5);\n",
    "    let some_char = Some('e');\n",
    "\n",
    "    // assigning None isn't enough info for Rust to infer at compile time\n",
    "    // so we need to EXPLICITLY define the type T for Option<T> here\n",
    "    let absent_number: Option<i32> = None;\n",
    "```\n",
    "\n",
    "The type of some_number is Option<i32>. The type of some_char is Option<char>,  \n",
    "which is a different type. Rust can infer these types because we’ve specified a  \n",
    "value inside the Some variant. For absent_number, Rust requires us to annotate  \n",
    "the overall Option type: the compiler can’t infer the type that the  \n",
    "corresponding Some variant will hold by looking only at a None value. Here, we  \n",
    "tell Rust that we mean for absent_number to be of type Option<i32>.\n",
    "\n",
    "When we have a Some value, we know that a value is present and the value is held  \n",
    "within the Some. When we have a None value, in some sense it means the same  \n",
    "thing as null: we don’t have a valid value. So why is having Option<T> any  \n",
    "better than having null?\n",
    "\n",
    "In short, because Option<T> and T (where T can be any type) are different types,  \n",
    "the compiler won’t let us use an Option<T> value as if it were definitely a  \n",
    "valid value. For example, this code won’t compile, because it’s trying to add  \n",
    "an i8 to an Option<i8>:"
   ]
  },
  {
   "cell_type": "code",
   "execution_count": 3,
   "metadata": {
    "vscode": {
     "languageId": "rust"
    }
   },
   "outputs": [
    {
     "ename": "Error",
     "evalue": "cannot add `Option<i8>` to `i8`",
     "output_type": "error",
     "traceback": [
      "\u001b[31m[E0277] Error:\u001b[0m cannot add `Option<i8>` to `i8`",
      "   \u001b[38;5;246m╭\u001b[0m\u001b[38;5;246m─\u001b[0m\u001b[38;5;246m[\u001b[0mcommand_3:1:1\u001b[38;5;246m]\u001b[0m",
      "   \u001b[38;5;246m│\u001b[0m",
      " \u001b[38;5;246m5 │\u001b[0m \u001b[38;5;249m \u001b[0m\u001b[38;5;249m \u001b[0m\u001b[38;5;249m \u001b[0m\u001b[38;5;249m \u001b[0m\u001b[38;5;249ml\u001b[0m\u001b[38;5;249me\u001b[0m\u001b[38;5;249mt\u001b[0m\u001b[38;5;249m \u001b[0m\u001b[38;5;249ms\u001b[0m\u001b[38;5;249mu\u001b[0m\u001b[38;5;249mm\u001b[0m\u001b[38;5;249m \u001b[0m\u001b[38;5;249m=\u001b[0m\u001b[38;5;249m \u001b[0m\u001b[38;5;249mx\u001b[0m\u001b[38;5;249m \u001b[0m\u001b[38;5;54m+\u001b[0m\u001b[38;5;249m \u001b[0m\u001b[38;5;249my\u001b[0m\u001b[38;5;249m;\u001b[0m",
      " \u001b[38;5;246m  ·\u001b[0m                 \u001b[38;5;54m┬\u001b[0m  ",
      " \u001b[38;5;246m  ·\u001b[0m                 \u001b[38;5;54m╰\u001b[0m\u001b[38;5;54m─\u001b[0m\u001b[38;5;54m─\u001b[0m no implementation for `i8 + Option<i8>`",
      "\u001b[38;5;246m───╯\u001b[0m"
     ]
    }
   ],
   "source": [
    "{\n",
    "    let x: i8 = 5;\n",
    "    let y: Option<i8> = Some(5);\n",
    "\n",
    "    // cannot add `Option` to `i8`\n",
    "    let sum = x + y; // compiler error : no implementation for `i8 + Option`\n",
    "}"
   ]
  },
  {
   "attachments": {},
   "cell_type": "markdown",
   "metadata": {},
   "source": [
    "#### -- Compiler Error : Option<i8> + i8\n",
    "\n",
    "If we run this code, we get an error message like this one:\n",
    "\n",
    "```sh\n",
    "$ cargo run\n",
    "   Compiling enums v0.1.0 (file:///projects/enums)\n",
    "error[E0277]: cannot add `Option<i8>` to `i8`\n",
    " --> src/main.rs:5:17\n",
    "  |\n",
    "5 |     let sum = x + y;\n",
    "  |                 ^ no implementation for `i8 + Option<i8>`\n",
    "  |\n",
    "  = help: the trait `Add<Option<i8>>` is not implemented for `i8`\n",
    "  = help: the following other types implement trait `Add<Rhs>`:\n",
    "            <&'a i8 as Add<i8>>\n",
    "            <&i8 as Add<&i8>>\n",
    "            <i8 as Add<&i8>>\n",
    "            <i8 as Add>\n",
    "\n",
    "For more information about this error, try `rustc --explain E0277`.\n",
    "error: could not compile `enums` due to previous error\n",
    "\n",
    "```\n",
    "\n",
    "Intense! In effect, this error message means that Rust doesn’t understand how to  \n",
    "add an i8 and an Option<i8>, because they’re different types.  \n",
    "\n",
    "When we have a value of a type :\n",
    "-  like i8 in Rust, \n",
    "- the compiler will ensure that we always have a valid value. \n",
    "\n",
    "We can proceed confidently `without having to check for null` before using that  \n",
    "value. Only when we have an Option<i8> (or whatever type of value we’re working  \n",
    "with) do we have to worry about possibly not having a value, and the compiler  \n",
    "will make sure we handle that case before using the value.  "
   ]
  },
  {
   "attachments": {},
   "cell_type": "markdown",
   "metadata": {},
   "source": [
    "#### -- `Option<T>` MUST be converted to `T` => perform `T` operations\n",
    "\n",
    "In other words, you have to convert an `Option<T>` to a `T` before you can  \n",
    "perform `T` operations with it. Generally, this helps :  \n",
    "\n",
    "- catch one of the most common issues with null: \n",
    "- assuming that something isn’t null when it actually is.\n",
    "\n",
    "`Eliminating the risk of incorrectly assuming a not-null value` helps  \n",
    "you to be more confident in your code. \n",
    "\n",
    "In order to have a value that can possibly be null :\n",
    "\n",
    "- you must explicitly opt in by making the type of that value `Option<T>`. \n",
    "- Then, when you use that value, you are required to explicitly handle the case  \n",
    "when the value is null. \n",
    "\n",
    "Everywhere that a value has a type that isn’t an `Option<T>`, you can safely  \n",
    "assume that the value isn’t null. This was a deliberate design decision for Rust  \n",
    "to limit null’s pervasiveness and increase the safety of Rust code.\n",
    "\n",
    "So how do you get the T value out of a Some variant when you have a value of  \n",
    "type Option<T> so that you can use that value? The Option<T> enum has a large  \n",
    "number of methods that are useful in a variety of situations; you can check them  \n",
    "out in its documentation. Becoming familiar with the methods on Option<T> will  \n",
    "be extremely useful in your journey with Rust.\n",
    "\n",
    "In general, in order to use an Option<T> value, you want to have code that will  \n",
    "handle each variant. You want some code that will : \n",
    "\n",
    "- run only when you have a Some(T) value,  \n",
    "- and this code is allowed to use the inner T. \n",
    "\n",
    "You want some other code to run only if you have a :  \n",
    "\n",
    "- None value, and \n",
    "- that code doesn’t have a T value available.  \n",
    "\n",
    "The match expression is a control flow construct that does just this when used  \n",
    "with enums: it will run different code depending on which variant of the enum it  \n",
    "has, and that code can use the data inside the matching value."
   ]
  },
  {
   "attachments": {},
   "cell_type": "markdown",
   "metadata": {},
   "source": [
    "The `match` Control Flow Construct\n",
    "---\n",
    "\n",
    "Rust has an extremely powerful control flow construct called `match` that  \n",
    "allows you to :  \n",
    "\n",
    "- compare a value against a series of patterns \n",
    "- and then execute code based on which pattern matches.  \n",
    "\n",
    "Patterns can be made up of literal values, variable names, wildcards, and many  \n",
    "other things; Chapter 18 covers all the different kinds of patterns and what  \n",
    "they do. The power of match comes from the expressiveness of the patterns and  \n",
    "the fact that the compiler confirms that all possible cases are handled."
   ]
  },
  {
   "attachments": {},
   "cell_type": "markdown",
   "metadata": {},
   "source": [
    "#### -- Coin Sorting Machine\n",
    "\n",
    "<img src=\"https://i.gifer.com/AP10.gif\">\n",
    "\n",
    "\n",
    "Think of a match expression as being like a coin-sorting machine:  \n",
    "\n",
    "- coins slide down a track with variously sized holes along it, and  \n",
    "- each coin falls through the first hole it encounters that it fits into.  \n",
    "\n",
    "In the same way, values go through each pattern in a match, and at the first  \n",
    "pattern the value “fits,” the value falls into the associated code block to be  \n",
    "used during execution.\n",
    "\n",
    "Speaking of coins, let’s use them as an example using match! We can write a  \n",
    "function that takes an unknown US coin and, in a similar way as the counting  \n",
    "machine, determines which coin it is and returns its value in cents, as shown  \n",
    "in Listing 6-3."
   ]
  },
  {
   "cell_type": "code",
   "execution_count": 8,
   "metadata": {
    "vscode": {
     "languageId": "rust"
    }
   },
   "outputs": [],
   "source": [
    "// Coin enum will be stored on the stack\n",
    "enum Coin {\n",
    "    Penny,\n",
    "    Nickel,\n",
    "    Dime,\n",
    "    Quarter\n",
    "}\n",
    "\n",
    "// - Since enum are stored on the stack, they can be passed by value (as a copy)\n",
    "// instead of by reference\n",
    "// - u8 is returned by value (as a copy) since it is also stack allocated\n",
    "fn value_in_cents(coin : Coin) -> u8 {\n",
    "    // Match seems very similar to a conditional if expression\n",
    "    // However, the DIFFERENCES are:\n",
    "    // - match is EXHAUSTIVE, meaning ALL possible cases must be handled, else\n",
    "    // the compiler will throw an error\n",
    "    // - condition can evaluate to ANY TYPE, not just bool (like if expression)\n",
    "    // - EACH ARM of the match expression can evaluate to DIFFERENT TYPES\n",
    "    // - the resultant value of the MATCHED expression is returned for the WHOLE\n",
    "    // function\n",
    "    match coin {\n",
    "        Coin::Penny => 1,\n",
    "        Coin::Nickel => 5,\n",
    "        Coin::Dime => 10,\n",
    "        Coin::Quarter => 25\n",
    "    }\n",
    "}"
   ]
  },
  {
   "attachments": {},
   "cell_type": "markdown",
   "metadata": {},
   "source": [
    "#### -- Explain Coin enum => value_in_cents match function\n",
    "\n",
    "> Listing 6-3: An enum and a match expression that has the variants of the enum  \n",
    "as its patterns\n",
    "\n",
    "Let’s break down the match in the value_in_cents function. First we list the  \n",
    "match keyword followed by an expression, which in this case is the value coin.  \n",
    "This seems very similar to a conditional expression used with if, but there’s a  \n",
    "big difference: with if, the condition needs to evaluate to a Boolean value, but  \n",
    "here it can be any type. The type of coin in this example is the Coin enum that  \n",
    "we defined on the first line.\n",
    "\n",
    "Next are the match arms. An arm has two parts: `a pattern` and `some code` :  \n",
    "\n",
    "- The first arm here has a pattern that is the value Coin::Penny and \n",
    "- then the => operator that separates the pattern and the code to run. \n",
    "\n",
    "The code in this case is just the value 1. Each arm is separated from the next  \n",
    "with a comma.\n",
    "\n",
    "When the match expression executes, it compares the resultant value against the  \n",
    "pattern of each arm, in order. If a pattern matches the value, the code  \n",
    "associated with that pattern is executed. If that pattern doesn’t match the  \n",
    "value, execution continues to the next arm, much as in a coin-sorting machine.  \n",
    "We can have as many arms as we need: in Listing 6-3, our match has four arms.\n",
    "\n",
    "The code associated with each arm is an expression, and the resultant value of  \n",
    "the expression in the matching arm is the value that gets returned for the  \n",
    "entire match expression."
   ]
  },
  {
   "attachments": {},
   "cell_type": "markdown",
   "metadata": {},
   "source": [
    "#### -- match Arms can return closures to support side effects\n",
    "\n",
    "We don’t typically use curly brackets if the match arm code is short, as it is  \n",
    "in Listing 6-3 where each arm just returns a value. If you want to run multiple  \n",
    "lines of code in a match arm, you must use curly brackets, and the comma  \n",
    "following the arm is then optional. For example, the following code prints  \n",
    "“Lucky penny!” every time the method is called with a Coin::Penny, but still  \n",
    "returns the last value of the block, 1:"
   ]
  },
  {
   "cell_type": "code",
   "execution_count": 10,
   "metadata": {
    "vscode": {
     "languageId": "rust"
    }
   },
   "outputs": [],
   "source": [
    "fn values_in_cents(coin : Coin) -> u8 {\n",
    "    match coin {\n",
    "        Coin::Penny => {\n",
    "            println!(\"Lucky Penny!\");\n",
    "            1\n",
    "        }\n",
    "        Coin::Nickel => 5,\n",
    "        Coin::Dime => 10,\n",
    "        Coin::Quarter => 25,\n",
    "    }\n",
    "}"
   ]
  },
  {
   "attachments": {},
   "cell_type": "markdown",
   "metadata": {},
   "source": [
    "### Patterns That Bind to Values\n",
    "\n",
    "Another useful feature of match arms is that they can bind to the parts of the  \n",
    "values that match the pattern. This is how we can extract values out of enum  \n",
    "variants.\n",
    "\n",
    "As an example, let’s change one of our enum variants to hold data inside it.  \n",
    "From 1999 through 2008, the United States minted quarters with different designs  \n",
    "for each of the 50 states on one side. No other coins got state designs, so only  \n",
    "quarters have this extra value. We can add this information to our enum by  \n",
    "changing the Quarter variant to include a UsState value stored inside it, which  \n",
    "we’ve done in Listing 6-4."
   ]
  },
  {
   "cell_type": "code",
   "execution_count": 3,
   "metadata": {
    "vscode": {
     "languageId": "rust"
    }
   },
   "outputs": [],
   "source": [
    "#[derive(Debug)]\n",
    "enum UsState {\n",
    "    California,\n",
    "    Chicago,\n",
    "    Texas,\n",
    "    Washington,\n",
    "    // -- snip --\n",
    "}\n",
    "\n",
    "enum Coin {\n",
    "    Penny,\n",
    "    Nickel,\n",
    "    Dime,\n",
    "    // From 1999 to 2008, the Us minted quarters with a dfferent design for each\n",
    "    // of the 50 states on the back of the quarter arbitrarily\n",
    "    // - this did not change the VALUE of the quarter\n",
    "    // - only added new display design on the back\n",
    "    Quarter(UsState), // Quarter variant updated with UsState enum as associated data\n",
    "}\n",
    "\n",
    "// @audit : Had to reset environment to resolve enum Coin definition from\n",
    "// previous cell earlier in this Jupyter notebook"
   ]
  },
  {
   "attachments": {},
   "cell_type": "markdown",
   "metadata": {},
   "source": [
    "#### -- Update Coin sorting to handle Quarter's additional UsState sub variant\n",
    "\n",
    "> Listing 6-4: A Coin enum in which the Quarter variant also holds a UsState value\n",
    "\n",
    "Let’s imagine that a friend is trying to collect all 50 state quarters. While we  \n",
    "sort our loose change by coin type, we’ll also call out the name of the state  \n",
    "associated with each quarter so that if it’s one our friend doesn’t have, they  \n",
    "can add it to their collection.\n",
    "\n",
    "In the match expression for this code, we add a variable called state to the  \n",
    "pattern that matches values of the variant Coin::Quarter. When a Coin::Quarter  \n",
    "matches, the state variable will bind to the value of that quarter’s state. Then  \n",
    "we can use state in the code for that arm, like so:"
   ]
  },
  {
   "cell_type": "code",
   "execution_count": 10,
   "metadata": {
    "vscode": {
     "languageId": "rust"
    }
   },
   "outputs": [
    {
     "name": "stdout",
     "output_type": "stream",
     "text": [
      "State quarter from California\n",
      "State quarter from Texas\n"
     ]
    },
    {
     "data": {
      "text/plain": [
       "()"
      ]
     },
     "execution_count": 10,
     "metadata": {},
     "output_type": "execute_result"
    }
   ],
   "source": [
    "fn value_in_cents(coin : Coin) -> u8 {\n",
    "    match coin {\n",
    "        Coin::Penny => 1,\n",
    "        Coin::Nickel => 5,\n",
    "        Coin::Dime => 10,\n",
    "        Coin::Quarter(state) => {\n",
    "            println!(\"State quarter from {:?}\", state);\n",
    "            25\n",
    "        }\n",
    "    }\n",
    "}\n",
    "\n",
    "{\n",
    "    // state quarter found\n",
    "    let cali_quarter = Coin::Quarter(UsState::California);\n",
    "    let texas_quarter = Coin::Quarter(UsState::Texas);\n",
    "\n",
    "    let lucky_penny = Coin::Penny;\n",
    "\n",
    "    // insert coins match machine\n",
    "    value_in_cents(cali_quarter);\n",
    "    value_in_cents(texas_quarter);\n",
    "    value_in_cents(lucky_penny);\n",
    "}"
   ]
  }
 ],
 "metadata": {
  "kernelspec": {
   "display_name": "Rust",
   "language": "rust",
   "name": "rust"
  },
  "language_info": {
   "codemirror_mode": "rust",
   "file_extension": ".rs",
   "mimetype": "text/rust",
   "name": "Rust",
   "pygment_lexer": "rust",
   "version": ""
  },
  "orig_nbformat": 4
 },
 "nbformat": 4,
 "nbformat_minor": 2
}
