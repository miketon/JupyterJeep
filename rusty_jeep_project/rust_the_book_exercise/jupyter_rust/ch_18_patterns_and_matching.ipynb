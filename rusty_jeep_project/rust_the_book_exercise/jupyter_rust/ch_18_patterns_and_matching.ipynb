{
 "cells": [
  {
   "attachments": {},
   "cell_type": "markdown",
   "metadata": {},
   "source": [
    "Patterns And Matching\n",
    "---\n",
    "\n",
    "Patterns are a special syntax in Rust for matching against the structure of  \n",
    "types, both complex and simple. Using patterns in conjunction with match  \n",
    "expressions and other constructs gives you more control over a program’s  \n",
    "control flow. A pattern consists of some combination of the following:\n",
    "\n",
    "- Literals\n",
    "- Destructured arrays, enums, structs, or tuples\n",
    "- Variables\n",
    "- Wildcards\n",
    "- Placeholders\n",
    "\n",
    "Some example patterns include x, (a, 3), and Some(Color::Red). In the contexts  \n",
    "in which patterns are valid, these components describe the shape of data. Our  \n",
    "program then matches values against the patterns to determine whether it has  \n",
    "the correct shape of data to continue running a particular piece of code.\n",
    "\n",
    "To use a pattern, we compare it to some value. If the pattern matches the value,  \n",
    "we use the value parts in our code. Recall the match expressions in Chapter 6  \n",
    "that used patterns, such as the coin-sorting machine example. If the value fits  \n",
    "the shape of the pattern, we can use the named pieces. If it doesn’t, the code  \n",
    "associated with the pattern won’t run.\n",
    "\n",
    "This chapter is a reference on all things related to patterns. We’ll cover the  \n",
    "valid places to use patterns, the difference between refutable and irrefutable  \n",
    "patterns, and the different kinds of pattern syntax that you might see. By the  \n",
    "end of the chapter, you’ll know how to use patterns to express many concepts in  \n",
    "a clear way."
   ]
  },
  {
   "cell_type": "markdown",
   "metadata": {},
   "source": [
    "All the Places Patterns Can Be Used\n",
    "---\n",
    "\n",
    "Patterns pop up in a number of places in Rust, and you’ve been using them a lot  \n",
    "without realizing it! This section discusses all the places where patterns are  \n",
    "valid.\n",
    "\n",
    "### `match` Arms\n",
    "\n",
    "As discussed in Chapter 6, we use patterns in the arms of match expressions.  \n",
    "Formally, match expressions are defined as :  \n",
    "\n",
    "- the `keyword` match,  \n",
    "- a `value` to match on, and  \n",
    "- one or more `match arms` that consist of a pattern and an expression to run if  \n",
    "the value matches that arm’s pattern, \n",
    "\n",
    "like this:\n",
    "\n",
    "```rust\n",
    "match VALUE {\n",
    "    PATTERN => EXPRESSION,\n",
    "    PATTERN => EXPRESSION,\n",
    "    PATTERN => EXPRESSION,\n",
    "}\n",
    "```\n",
    "\n",
    "For example, here's the match expression from Listing 6-5 that matches on an  \n",
    "`Option<i32>` value in the variable `x` :\n",
    "\n",
    "```rust\n",
    "match x {\n",
    "    None => None,\n",
    "    Some(i) => Some(i + 1),\n",
    "}\n",
    "```\n",
    "\n",
    "\n",
    "The patterns in this match expression are the `None` and `Some(i)` on the left  \n",
    "of each arrow.\n",
    "\n",
    "One requirement for match expressions is that they need to be `exhaustive` in  \n",
    "the sense that all possibilities for the value in the match expression must be  \n",
    "accounted for. \n",
    "\n",
    "One way to ensure you’ve covered every possibility is to have a catchall pattern  \n",
    "for the last arm: for example, a variable name matching any value can never fail  \n",
    "and thus covers every remaining case.\n",
    "\n",
    "The particular pattern _ will match anything, but it never binds to a variable,  \n",
    "so it’s often used in the last match arm. The _ pattern can be useful when you  \n",
    "want to ignore any value not specified, for example. We’ll cover the _ pattern  \n",
    "in more detail in the “Ignoring Values in a Pattern” section later in this  \n",
    "chapter."
   ]
  },
  {
   "cell_type": "markdown",
   "metadata": {},
   "source": [
    "### Conditional `if let` Expressions\n",
    "\n",
    "In Chapter 6 we discussed how to use if let expressions mainly as a shorter way  \n",
    "to write the equivalent of a match that only matches one case. Optionally,  \n",
    "`if let` can have a corresponding else containing code to run if the pattern in  \n",
    "the if let doesn’t match.\n",
    "\n",
    "Listing 18-1 shows that it’s also possible to mix and match : \n",
    "\n",
    "- `if let`,  \n",
    "- `else if`, and  \n",
    "- `else if let` expressions. \n",
    "\n",
    "Doing so gives us more flexibility than a match expression in which we can  \n",
    "express only one value to compare with the patterns. Also, Rust doesn't require  \n",
    "that the conditions in a series of if let, else if, else if let arms relate to  \n",
    "each other.\n",
    "\n",
    "The code in Listing 18-1 determines what color to make your background based on  \n",
    "a series of checks for several conditions. For this example, we’ve created  \n",
    "variables with hardcoded values that a real program might receive from user  \n",
    "input.\n",
    "\n",
    "> Filename: src/main.rs"
   ]
  },
  {
   "cell_type": "code",
   "execution_count": 5,
   "metadata": {
    "vscode": {
     "languageId": "rust"
    }
   },
   "outputs": [
    {
     "name": "stdout",
     "output_type": "stream",
     "text": [
      "Using orange as the background color\n"
     ]
    },
    {
     "data": {
      "text/plain": [
       "()"
      ]
     },
     "execution_count": 5,
     "metadata": {},
     "output_type": "execute_result"
    }
   ],
   "source": [
    "{\n",
    "\n",
    "let favorite_color : Option<&str> = None;\n",
    "let is_tuesday = false;\n",
    "let age: Result<u8, _> = \"23\".parse();\n",
    "\n",
    "if let Some(color) = favorite_color {\n",
    "    println!(\"Using your favorite color, {}, as the background\", color);\n",
    "} else if is_tuesday {\n",
    "    println!(\"Tuesday is a greend day\");\n",
    "} else if let Ok(age) = age {\n",
    "    if age > 30 {\n",
    "        println!(\"Using purple as the background color\");\n",
    "    } else {\n",
    "        println!(\"Using orange as the background color\");\n",
    "    }\n",
    "} else {\n",
    "    println!(\"Using blue as the background color\");\n",
    "}\n",
    "\n",
    "}"
   ]
  },
  {
   "cell_type": "markdown",
   "metadata": {},
   "source": [
    "> Listing 18-1: Mixing if let, else if, else if let, and else\n",
    "\n",
    "If the user specifies a favorite color, that color is used as the background.  \n",
    "If no favorite color is specified and today is Tuesday, the background color is  \n",
    "green. Otherwise, if the user specifies their age as a string and we can parse  \n",
    "it as a number successfully, the color is either purple or orange depending on  \n",
    "the value of the number. If none of these conditions apply, the background color  \n",
    "is blue.\n",
    "\n",
    "This conditional structure lets us support complex requirements. With the  \n",
    "hardcoded values we have here, this example will print Using purple as the  \n",
    "background color.\n",
    "\n",
    "You can see that if let can also introduce shadowed variables in the same way  \n",
    "that match arms can:  \n",
    "\n",
    "- the line if let Ok(age) = age introduces a new shadowed age variable that  \n",
    "contains the value inside the Ok variant.  \n",
    "\n",
    "This means we need to place the if age > 30 condition within that block:   \n",
    "- we can’t combine these two conditions into if let Ok(age) = age && age > 30.  \n",
    "\n",
    "The shadowed age we want to compare to 30 isn’t valid until the new scope starts  \n",
    "with the curly bracket.\n",
    "\n",
    "The downside of using if let expressions is that the compiler doesn’t check for  \n",
    "exhaustiveness, whereas with match expressions it does. If we omitted the last  \n",
    "else block and therefore missed handling some cases, the compiler would not  \n",
    "alert us to the possible logic bug."
   ]
  },
  {
   "cell_type": "markdown",
   "metadata": {},
   "source": [
    "### `while let` Conditional Loops\n",
    "\n",
    "Similar in construction to if let, the `while let` conditional loop allows a  \n",
    "while loop to run for as long as a pattern continues to match. In Listing 18-2  \n",
    "we code a while let loop that uses a vector as a stack and prints the values in  \n",
    "the vector in the opposite order in which they were pushed."
   ]
  },
  {
   "cell_type": "code",
   "execution_count": 6,
   "metadata": {
    "vscode": {
     "languageId": "rust"
    }
   },
   "outputs": [
    {
     "name": "stdout",
     "output_type": "stream",
     "text": [
      "3\n",
      "2\n",
      "1\n"
     ]
    },
    {
     "data": {
      "text/plain": [
       "()"
      ]
     },
     "execution_count": 6,
     "metadata": {},
     "output_type": "execute_result"
    }
   ],
   "source": [
    "let mut stack = Vec::new();\n",
    "\n",
    "stack.push(1);\n",
    "stack.push(2);\n",
    "stack.push(3);\n",
    "\n",
    "while let Some(top) = stack.pop() {\n",
    "    println!(\"{}\", top);\n",
    "}"
   ]
  },
  {
   "cell_type": "markdown",
   "metadata": {},
   "source": [
    "Listing 18-2: Using a while let loop to print values for as long as stack.pop()  \n",
    "returns Some\n",
    "\n",
    "This example prints 3, 2, and then 1. The pop method takes the last element out  \n",
    "of the vector and returns Some(value). If the vector is empty, pop returns None.  \n",
    "The while loop continues running the code in its block as long as pop returns  \n",
    "Some. When pop returns None, the loop stops. We can use while let to pop every  \n",
    "element off our stack."
   ]
  },
  {
   "cell_type": "markdown",
   "metadata": {},
   "source": [
    "### `for` Loops\n",
    "\n",
    "In a for loop, the value that directly follows the keyword `for` is a pattern.  \n",
    "For example, in for x in y the x is the pattern. Listing 18-3 demonstrates how  \n",
    "to use a pattern in a for loop to destructure, or break apart, a tuple as part  \n",
    "of the for loop."
   ]
  },
  {
   "cell_type": "code",
   "execution_count": 4,
   "metadata": {
    "vscode": {
     "languageId": "rust"
    }
   },
   "outputs": [
    {
     "name": "stdout",
     "output_type": "stream",
     "text": [
      "a is at index 0\n",
      "b is at index 1\n",
      "c is at index 2\n"
     ]
    },
    {
     "data": {
      "text/plain": [
       "()"
      ]
     },
     "execution_count": 4,
     "metadata": {},
     "output_type": "execute_result"
    }
   ],
   "source": [
    "let v = vec!['a', 'b', 'c'];\n",
    "\n",
    "// iter() iterates over the the elements of v\n",
    "// enumerate() is used to add an index to each element of the iterator\n",
    "for (index, value) in v.iter().enumerate() {\n",
    "    println!(\"{} is at index {}\", value, index);\n",
    "}"
   ]
  },
  {
   "cell_type": "markdown",
   "metadata": {},
   "source": [
    "> Listing 18-3: Using a pattern in a for loop to destructure a tuple\n",
    "\n",
    "The code in Listing 18-3 will print the following:\n",
    "\n",
    "```sh\n",
    "$ cargo run\n",
    "   Compiling patterns v0.1.0 (file:///projects/patterns)\n",
    "    Finished dev [unoptimized + debuginfo] target(s) in 0.52s\n",
    "     Running `target/debug/patterns`\n",
    "a is at index 0\n",
    "b is at index 1\n",
    "c is at index 2\n",
    "```\n",
    "\n",
    "We adapt an iterator using the enumerate method so it produces a value and the  \n",
    "index for that value, placed into a tuple. The first value produced is the  \n",
    "tuple (0, 'a'). When this value is matched to the pattern (index, value), index  \n",
    "will be 0 and value will be 'a', printing the first line of the output."
   ]
  },
  {
   "cell_type": "markdown",
   "metadata": {},
   "source": [
    "### `let` statements\n",
    "\n",
    "Prior to this chapter, we had only explicitly discussed using patterns with  \n",
    "match and if let, but in fact, we’ve used patterns in other places as well,  \n",
    "including in let statements. For example, consider this straightforward variable  \n",
    "assignment with let:\n",
    "\n",
    "```rust\n",
    "let x = 5;\n",
    "```\n",
    "\n",
    "Every time you've used a let statement like this you've been using patterns,  \n",
    "although you might not have realized it! More formally, a let statement looks  \n",
    "like this:\n",
    "\n",
    "```rust\n",
    "let PATTERN = EXPRESSION;\n",
    "```\n",
    "\n",
    "In statements like let x = 5; with a variable name in the PATTERN slot, the  \n",
    "variable name is just a particularly simple form of a pattern. Rust compares  \n",
    "the expression against the pattern and assigns any names it finds. So in the  \n",
    "let x = 5; example, x is a pattern that means “bind what matches here to the  \n",
    "variable x.” Because the name x is the whole pattern, this pattern effectively  \n",
    "means “bind everything to the variable x, whatever the value is.”\n",
    "\n",
    "To see the pattern matching aspect of let more clearly, consider Listing 18-4,  \n",
    "which uses a pattern with let to destructure a tuple."
   ]
  },
  {
   "cell_type": "code",
   "execution_count": 11,
   "metadata": {
    "vscode": {
     "languageId": "rust"
    }
   },
   "outputs": [
    {
     "name": "stdout",
     "output_type": "stream",
     "text": [
      "x: 5\n"
     ]
    },
    {
     "name": "stdout",
     "output_type": "stream",
     "text": [
      "x: 1, y: 2, z: 3\n"
     ]
    }
   ],
   "source": [
    "// let PATTERN = EXPRESSION\n",
    "// - because x is the the WHOLE pattern, this pattern effectively means \n",
    "// \"bind EVERYTHING to the variable x, whatever the value is\" @note\n",
    "let x = 5;\n",
    "println!(\"x: {}\", x);\n",
    "\n",
    "// valid match between the pattern and the value, elements are aligned\n",
    "let (x, y, z) = (1, 2, 3);\n",
    "println!(\"x: {}, y: {}, z: {}\", x, y, z);"
   ]
  },
  {
   "cell_type": "markdown",
   "metadata": {},
   "source": [
    "> Listing 18-4: Using a pattern to destructure a tuple and create three  \n",
    "variables at once\n",
    "\n",
    "Here, we match a tuple against a pattern. Rust compares the value (1, 2, 3) to  \n",
    "the pattern (x, y, z) and sees that the value matches the pattern, so Rust  \n",
    "binds :  \n",
    "\n",
    "- 1 to x,  \n",
    "- 2 to y, and  \n",
    "- 3 to z.  \n",
    "\n",
    "You can think of this tuple pattern as nesting three individual variable  \n",
    "patterns inside it.\n",
    "\n",
    "If the number of elements in the pattern doesn’t match the number of elements  \n",
    "in the tuple, the overall type won’t match and we’ll get a compiler error. For  \n",
    "example, Listing 18-5 shows an attempt to destructure a tuple with three  \n",
    "elements into two variables, which won’t work."
   ]
  },
  {
   "cell_type": "code",
   "execution_count": 10,
   "metadata": {
    "vscode": {
     "languageId": "rust"
    }
   },
   "outputs": [
    {
     "ename": "Error",
     "evalue": "mismatched types",
     "output_type": "error",
     "traceback": [
      "\u001b[31m[E0308] Error:\u001b[0m mismatched types",
      "   \u001b[38;5;246m╭\u001b[0m\u001b[38;5;246m─\u001b[0m\u001b[38;5;246m[\u001b[0mcommand_10:1:1\u001b[38;5;246m]\u001b[0m",
      "   \u001b[38;5;246m│\u001b[0m",
      " \u001b[38;5;246m3 │\u001b[0m \u001b[38;5;249ml\u001b[0m\u001b[38;5;249me\u001b[0m\u001b[38;5;249mt\u001b[0m\u001b[38;5;249m \u001b[0m\u001b[38;5;54m(\u001b[0m\u001b[38;5;54mx\u001b[0m\u001b[38;5;54m,\u001b[0m\u001b[38;5;54m \u001b[0m\u001b[38;5;54my\u001b[0m\u001b[38;5;54m)\u001b[0m\u001b[38;5;249m \u001b[0m\u001b[38;5;249m=\u001b[0m\u001b[38;5;249m \u001b[0m\u001b[38;5;100m(\u001b[0m\u001b[38;5;100m1\u001b[0m\u001b[38;5;100m,\u001b[0m\u001b[38;5;100m \u001b[0m\u001b[38;5;100m2\u001b[0m\u001b[38;5;100m,\u001b[0m\u001b[38;5;100m \u001b[0m\u001b[38;5;100m3\u001b[0m\u001b[38;5;100m)\u001b[0m\u001b[38;5;249m;\u001b[0m",
      " \u001b[38;5;246m  ·\u001b[0m     \u001b[38;5;54m─\u001b[0m\u001b[38;5;54m─\u001b[0m\u001b[38;5;54m─\u001b[0m\u001b[38;5;54m┬\u001b[0m\u001b[38;5;54m─\u001b[0m\u001b[38;5;54m─\u001b[0m   \u001b[38;5;100m─\u001b[0m\u001b[38;5;100m─\u001b[0m\u001b[38;5;100m─\u001b[0m\u001b[38;5;100m─\u001b[0m\u001b[38;5;100m┬\u001b[0m\u001b[38;5;100m─\u001b[0m\u001b[38;5;100m─\u001b[0m\u001b[38;5;100m─\u001b[0m\u001b[38;5;100m─\u001b[0m  ",
      " \u001b[38;5;246m  ·\u001b[0m        \u001b[38;5;54m╰\u001b[0m\u001b[38;5;54m─\u001b[0m\u001b[38;5;54m─\u001b[0m\u001b[38;5;54m─\u001b[0m\u001b[38;5;54m─\u001b[0m\u001b[38;5;54m─\u001b[0m\u001b[38;5;54m─\u001b[0m\u001b[38;5;54m─\u001b[0m\u001b[38;5;54m─\u001b[0m\u001b[38;5;54m─\u001b[0m\u001b[38;5;54m─\u001b[0m\u001b[38;5;54m─\u001b[0m\u001b[38;5;54m─\u001b[0m\u001b[38;5;54m─\u001b[0m\u001b[38;5;54m─\u001b[0m\u001b[38;5;54m─\u001b[0m\u001b[38;5;54m─\u001b[0m expected a tuple with 3 elements, found one with 2 elements",
      " \u001b[38;5;246m  ·\u001b[0m                  \u001b[38;5;100m│\u001b[0m      ",
      " \u001b[38;5;246m  ·\u001b[0m                  \u001b[38;5;100m╰\u001b[0m\u001b[38;5;100m─\u001b[0m\u001b[38;5;100m─\u001b[0m\u001b[38;5;100m─\u001b[0m\u001b[38;5;100m─\u001b[0m\u001b[38;5;100m─\u001b[0m\u001b[38;5;100m─\u001b[0m this expression has type `({integer}, {integer}, {integer})`",
      "\u001b[38;5;246m───╯\u001b[0m"
     ]
    }
   ],
   "source": [
    "// error expected 2 tuple elements, found a tuple with 3 elements\n",
    "// - elements are NOT aligned\n",
    "let (x, y) = (1, 2, 3);"
   ]
  },
  {
   "cell_type": "markdown",
   "metadata": {},
   "source": [
    "> Listing 18-5: Incorrectly constructing a pattern whose variables don’t match  \n",
    "the number of elements in the tuple\n",
    "\n",
    "Attempting to compile this code results in this type error:\n",
    "\n",
    "```sh\n",
    "$ cargo run\n",
    "   Compiling patterns v0.1.0 (file:///projects/patterns)\n",
    "error[E0308]: mismatched types\n",
    " --> src/main.rs:2:9\n",
    "  |\n",
    "2 |     let (x, y) = (1, 2, 3);\n",
    "  |         ^^^^^^   --------- this expression has type `({integer}, {integer}, {integer})`\n",
    "  |         |\n",
    "  |         expected a tuple with 3 elements, found one with 2 elements\n",
    "  |\n",
    "  = note: expected tuple `({integer}, {integer}, {integer})`\n",
    "             found tuple `(_, _)`\n",
    "\n",
    "For more information about this error, try `rustc --explain E0308`.\n",
    "error: could not compile `patterns` due to previous error\n",
    "```\n",
    "\n",
    "To fix the error, we could :  \n",
    "\n",
    "- ignore one or more of the values in the tuple using _ or ..,  \n",
    "- as you’ll see in the “Ignoring Values in a Pattern” section.  \n",
    "\n",
    "If the problem is that we have too many variables in the pattern, the solution  \n",
    "is to make the types match by removing variables so the number of variables  \n",
    "equals the number of elements in the tuple."
   ]
  },
  {
   "cell_type": "code",
   "execution_count": 14,
   "metadata": {
    "vscode": {
     "languageId": "rust"
    }
   },
   "outputs": [
    {
     "name": "stdout",
     "output_type": "stream",
     "text": [
      "x: 1, y: 2\n"
     ]
    }
   ],
   "source": [
    "// @audit-ok : ignoring the last value using underscore '_'\n",
    "let (x, y, _) = (1, 2, 3);\n",
    "println!(\"x: {}, y: {}\", x, y);"
   ]
  },
  {
   "cell_type": "markdown",
   "metadata": {},
   "source": [
    "### Function Parameters\n",
    "\n",
    "Function parameters can also be patterns. The code in Listing 18-6, which  \n",
    "declares a function named foo that takes one parameter named x of type i32,  \n",
    "should by now look familiar.\n",
    "\n",
    "```rust\n",
    "fn foo(x: i32) {\n",
    "    // code goes here\n",
    "}\n",
    "```\n",
    "\n",
    "> Listing 18-6: A function signature uses patterns in the parameters\n",
    "\n",
    "The x part is a pattern! As we did with let, we could match a tuple in a  \n",
    "function’s arguments to the pattern. Listing 18-7 splits the values in a tuple  \n",
    "as we pass it to a function.\n",
    "\n",
    "> Filename: src/main.rs"
   ]
  },
  {
   "cell_type": "code",
   "execution_count": 15,
   "metadata": {
    "vscode": {
     "languageId": "rust"
    }
   },
   "outputs": [
    {
     "name": "stdout",
     "output_type": "stream",
     "text": [
      "Current location: (3, 5)\n"
     ]
    },
    {
     "data": {
      "text/plain": [
       "()"
      ]
     },
     "execution_count": 15,
     "metadata": {},
     "output_type": "execute_result"
    }
   ],
   "source": [
    "fn print_coordinates(&(x,y): &(i32, i32)){\n",
    "    println!(\"Current location: ({}, {})\", x, y);\n",
    "}\n",
    "\n",
    "{\n",
    "    let point = (3, 5);\n",
    "    print_coordinates(&point);\n",
    "}"
   ]
  },
  {
   "cell_type": "markdown",
   "metadata": {},
   "source": [
    "> Listing 18-7: A function with parameters that destructure a tuple\n",
    "\n",
    "This code prints Current location: (3, 5). The values &(3, 5) match the  \n",
    "pattern &(x, y), so x is the value 3 and y is the value 5.\n",
    "\n",
    "We can also use patterns in closure parameter lists in the same way as in  \n",
    "function parameter lists, because closures are similar to functions, as  \n",
    "discussed in Chapter 13.\n",
    "\n",
    "At this point, you’ve seen several ways of using patterns, but patterns don’t  \n",
    "work the same in every place we can use them. In some places, the patterns must  \n",
    "be irrefutable; in other circumstances, they can be refutable. We’ll discuss  \n",
    "these two concepts next."
   ]
  },
  {
   "cell_type": "markdown",
   "metadata": {},
   "source": [
    "Refutability : Whether a Pattern Might Fail to Match\n",
    "---\n",
    "\n",
    "Patterns come in two forms: refutable and irrefutable. Patterns that will match  \n",
    "for any possible value passed are irrefutable. An example would be x in the  \n",
    "statement let x = 5; because x matches anything and therefore cannot fail to  \n",
    "match. Patterns that can fail to match for some possible value are refutable.  \n",
    "An example would be Some(x) in the expression if let Some(x) = a_value because  \n",
    "if the value in the a_value variable is None rather than Some, the Some(x)  \n",
    "pattern will not match.\n",
    "\n",
    "Function parameters, let statements, and for loops can only accept irrefutable  \n",
    "patterns, because the program cannot do anything meaningful when values don’t  \n",
    "match. The if let and while let expressions accept refutable and irrefutable  \n",
    "patterns, but the compiler warns against irrefutable patterns because by  \n",
    "definition they’re intended to handle possible failure:  \n",
    "\n",
    "- the functionality of a conditional is in its ability to perform differently  \n",
    "depending on success or failure.\n",
    "\n",
    "In general, you shouldn’t have to worry about the distinction between refutable  \n",
    "and irrefutable patterns; however, you do need to be familiar with the concept  \n",
    "of refutability so you can respond when you see it in an error message. In  \n",
    "those cases, you’ll need to change either the pattern or the construct you’re  \n",
    "using the pattern with, depending on the intended behavior of the code.\n",
    "\n",
    "Let’s look at an example of what happens when we try to use a refutable pattern  \n",
    "where Rust requires an irrefutable pattern and vice versa. \n",
    "\n",
    "> Listing 18-8 shows a let statement, but for the pattern we’ve specified  \n",
    "Some(x), a refutable pattern. As you might expect, this code will not compile."
   ]
  },
  {
   "cell_type": "code",
   "execution_count": 31,
   "metadata": {
    "vscode": {
     "languageId": "rust"
    }
   },
   "outputs": [
    {
     "ename": "Error",
     "evalue": "refutable pattern in local binding",
     "output_type": "error",
     "traceback": [
      "\u001b[31m[E0005] Error:\u001b[0m refutable pattern in local binding",
      "   \u001b[38;5;246m╭\u001b[0m\u001b[38;5;246m─\u001b[0m\u001b[38;5;246m[\u001b[0mcommand_31:1:1\u001b[38;5;246m]\u001b[0m",
      "   \u001b[38;5;246m│\u001b[0m",
      " \u001b[38;5;246m3 │\u001b[0m \u001b[38;5;249m \u001b[0m\u001b[38;5;249m \u001b[0m\u001b[38;5;249m \u001b[0m\u001b[38;5;249m \u001b[0m\u001b[38;5;249ml\u001b[0m\u001b[38;5;249me\u001b[0m\u001b[38;5;249mt\u001b[0m\u001b[38;5;249m \u001b[0m\u001b[38;5;54mS\u001b[0m\u001b[38;5;54mo\u001b[0m\u001b[38;5;54mm\u001b[0m\u001b[38;5;54me\u001b[0m\u001b[38;5;54m(\u001b[0m\u001b[38;5;54mx\u001b[0m\u001b[38;5;54m)\u001b[0m\u001b[38;5;249m \u001b[0m\u001b[38;5;249m=\u001b[0m\u001b[38;5;249m \u001b[0m\u001b[38;5;249ms\u001b[0m\u001b[38;5;249mo\u001b[0m\u001b[38;5;249mm\u001b[0m\u001b[38;5;249me\u001b[0m\u001b[38;5;249m_\u001b[0m\u001b[38;5;249mo\u001b[0m\u001b[38;5;249mp\u001b[0m\u001b[38;5;249mt\u001b[0m\u001b[38;5;249mi\u001b[0m\u001b[38;5;249mo\u001b[0m\u001b[38;5;249mn\u001b[0m\u001b[38;5;249m_\u001b[0m\u001b[38;5;249mv\u001b[0m\u001b[38;5;249ma\u001b[0m\u001b[38;5;249ml\u001b[0m\u001b[38;5;249mu\u001b[0m\u001b[38;5;249me\u001b[0m\u001b[38;5;249m;\u001b[0m",
      " \u001b[38;5;246m  ·\u001b[0m         \u001b[38;5;54m─\u001b[0m\u001b[38;5;54m─\u001b[0m\u001b[38;5;54m─\u001b[0m\u001b[38;5;54m┬\u001b[0m\u001b[38;5;54m─\u001b[0m\u001b[38;5;54m─\u001b[0m\u001b[38;5;54m─\u001b[0m                    \u001b[38;5;100m│\u001b[0m ",
      " \u001b[38;5;246m  ·\u001b[0m            \u001b[38;5;54m╰\u001b[0m\u001b[38;5;54m─\u001b[0m\u001b[38;5;54m─\u001b[0m\u001b[38;5;54m─\u001b[0m\u001b[38;5;54m─\u001b[0m\u001b[38;5;54m─\u001b[0m\u001b[38;5;54m─\u001b[0m\u001b[38;5;54m─\u001b[0m\u001b[38;5;54m─\u001b[0m\u001b[38;5;54m─\u001b[0m\u001b[38;5;54m─\u001b[0m\u001b[38;5;54m─\u001b[0m\u001b[38;5;54m─\u001b[0m\u001b[38;5;54m─\u001b[0m\u001b[38;5;54m─\u001b[0m\u001b[38;5;54m─\u001b[0m\u001b[38;5;54m─\u001b[0m\u001b[38;5;54m─\u001b[0m\u001b[38;5;54m─\u001b[0m\u001b[38;5;54m─\u001b[0m\u001b[38;5;54m─\u001b[0m\u001b[38;5;54m─\u001b[0m\u001b[38;5;54m─\u001b[0m\u001b[38;5;54m─\u001b[0m\u001b[38;5;54m─\u001b[0m\u001b[38;5;54m─\u001b[0m pattern `None` not covered",
      " \u001b[38;5;246m  ·\u001b[0m                                    \u001b[38;5;100m│\u001b[0m ",
      " \u001b[38;5;246m  ·\u001b[0m                                    \u001b[38;5;100m╰\u001b[0m\u001b[38;5;100m─\u001b[0m help: you might want to use `let else` to handle the variant that isn't matched: ` else { todo!() }`",
      "\u001b[38;5;246m───╯\u001b[0m"
     ]
    },
    {
     "ename": "Error",
     "evalue": "unused variable: `x`",
     "output_type": "error",
     "traceback": [
      "\u001b[31m[unused_variables] Error:\u001b[0m unused variable: `x`",
      "   \u001b[38;5;246m╭\u001b[0m\u001b[38;5;246m─\u001b[0m\u001b[38;5;246m[\u001b[0mcommand_31:1:1\u001b[38;5;246m]\u001b[0m",
      "   \u001b[38;5;246m│\u001b[0m",
      " \u001b[38;5;246m3 │\u001b[0m \u001b[38;5;249m \u001b[0m\u001b[38;5;249m \u001b[0m\u001b[38;5;249m \u001b[0m\u001b[38;5;249m \u001b[0m\u001b[38;5;249ml\u001b[0m\u001b[38;5;249me\u001b[0m\u001b[38;5;249mt\u001b[0m\u001b[38;5;249m \u001b[0m\u001b[38;5;249mS\u001b[0m\u001b[38;5;249mo\u001b[0m\u001b[38;5;249mm\u001b[0m\u001b[38;5;249me\u001b[0m\u001b[38;5;249m(\u001b[0m\u001b[38;5;54mx\u001b[0m\u001b[38;5;249m)\u001b[0m\u001b[38;5;249m \u001b[0m\u001b[38;5;249m=\u001b[0m\u001b[38;5;249m \u001b[0m\u001b[38;5;249ms\u001b[0m\u001b[38;5;249mo\u001b[0m\u001b[38;5;249mm\u001b[0m\u001b[38;5;249me\u001b[0m\u001b[38;5;249m_\u001b[0m\u001b[38;5;249mo\u001b[0m\u001b[38;5;249mp\u001b[0m\u001b[38;5;249mt\u001b[0m\u001b[38;5;249mi\u001b[0m\u001b[38;5;249mo\u001b[0m\u001b[38;5;249mn\u001b[0m\u001b[38;5;249m_\u001b[0m\u001b[38;5;249mv\u001b[0m\u001b[38;5;249ma\u001b[0m\u001b[38;5;249ml\u001b[0m\u001b[38;5;249mu\u001b[0m\u001b[38;5;249me\u001b[0m\u001b[38;5;249m;\u001b[0m",
      " \u001b[38;5;246m  ·\u001b[0m              \u001b[38;5;54m┬\u001b[0m  ",
      " \u001b[38;5;246m  ·\u001b[0m              \u001b[38;5;54m╰\u001b[0m\u001b[38;5;54m─\u001b[0m\u001b[38;5;54m─\u001b[0m warning: unused variable: `x`",
      " \u001b[38;5;246m  ·\u001b[0m              \u001b[38;5;100m│\u001b[0m  ",
      " \u001b[38;5;246m  ·\u001b[0m              \u001b[38;5;100m╰\u001b[0m\u001b[38;5;100m─\u001b[0m\u001b[38;5;100m─\u001b[0m help: if this is intentional, prefix it with an underscore: `_x`",
      "\u001b[38;5;246m───╯\u001b[0m"
     ]
    }
   ],
   "source": [
    "{\n",
    "    let some_option_value: Option<i32> = 7.into();\n",
    "    let Some(x) = some_option_value;\n",
    "}"
   ]
  },
  {
   "cell_type": "markdown",
   "metadata": {},
   "source": [
    "> Listing 18-8: Attempting to use a refutable pattern with let\n",
    "\n",
    "If some_option_value was a None value, it would fail to match the pattern  \n",
    "Some(x), meaning the pattern is refutable. However, the let statement can only  \n",
    "accept an irrefutable pattern because there is nothing valid the code can do  \n",
    "with a None value. At compile time, Rust will complain that we’ve tried to use  \n",
    "a refutable pattern where an irrefutable pattern is required:\n",
    "\n",
    "```sh\n",
    "$ cargo run\n",
    "   Compiling patterns v0.1.0 (file:///projects/patterns)\n",
    "error[E0005]: refutable pattern in local binding: `None` not covered\n",
    " --> src/main.rs:3:9\n",
    "  |\n",
    "3 |     let Some(x) = some_option_value;\n",
    "  |         ^^^^^^^ pattern `None` not covered\n",
    "  |\n",
    "  = note: `let` bindings require an \"irrefutable pattern\", like a `struct` or an `enum` with only one variant\n",
    "  = note: for more information, visit https://doc.rust-lang.org/book/ch18-02-refutability.html\n",
    "note: `Option<i32>` defined here\n",
    " --> /rustc/d5a82bbd26e1ad8b7401f6a718a9c57c96905483/library/core/src/option.rs:518:1\n",
    "  |\n",
    "  = note: \n",
    "/rustc/d5a82bbd26e1ad8b7401f6a718a9c57c96905483/library/core/src/option.rs:522:5: not covered\n",
    "  = note: the matched value is of type `Option<i32>`\n",
    "help: you might want to use `if let` to ignore the variant that isn't matched\n",
    "  |\n",
    "3 |     let x = if let Some(x) = some_option_value { x } else { todo!() };\n",
    "  |     ++++++++++                                 ++++++++++++++++++++++\n",
    "help: alternatively, you might want to use let else to handle the variant that isn't matched\n",
    "  |\n",
    "3 |     let Some(x) = some_option_value else { todo!() };\n",
    "  |                                     ++++++++++++++++\n",
    "\n",
    "For more information about this error, try `rustc --explain E0005`.\n",
    "error: could not compile `patterns` due to previous error\n",
    "```\n",
    "\n",
    "Because we didn’t cover (and couldn’t cover!) every valid value with the pattern  \n",
    "Some(x), Rust rightfully produces a compiler error."
   ]
  },
  {
   "cell_type": "markdown",
   "metadata": {},
   "source": [
    "If we have a refutable pattern where an irrefutable pattern is needed, we can  \n",
    "fix it by changing the code that uses the pattern:  \n",
    "\n",
    "- instead of using let, we can use if let.  \n",
    "\n",
    "Then if the pattern doesn’t match, the code will just skip the code in the  \n",
    "curly brackets, giving it a way to continue validly. Listing 18-9 shows how to  \n",
    "fix the code in Listing 18-8."
   ]
  },
  {
   "cell_type": "code",
   "execution_count": 30,
   "metadata": {
    "vscode": {
     "languageId": "rust"
    }
   },
   "outputs": [
    {
     "name": "stdout",
     "output_type": "stream",
     "text": [
      "7\n"
     ]
    },
    {
     "data": {
      "text/plain": [
       "()"
      ]
     },
     "execution_count": 30,
     "metadata": {},
     "output_type": "execute_result"
    }
   ],
   "source": [
    "{\n",
    "    let some_option_value: Option<i32> = 7.into();\n",
    "\n",
    "    if let Some(x) = some_option_value {\n",
    "        println!(\"{}\", x);\n",
    "    }\n",
    "}"
   ]
  },
  {
   "cell_type": "markdown",
   "metadata": {},
   "source": [
    "> Listing 18-9: Using if let and a block with refutable patterns instead of let\n",
    "\n",
    "We’ve given the code an out! This code is perfectly valid, although it means we  \n",
    "cannot use an irrefutable pattern without receiving an error. If we give if let  \n",
    "a pattern that will always match, such as x, as shown in Listing 18-10, the  \n",
    "compiler will give a warning."
   ]
  },
  {
   "cell_type": "code",
   "execution_count": 7,
   "metadata": {
    "vscode": {
     "languageId": "rust"
    }
   },
   "outputs": [
    {
     "name": "stdout",
     "output_type": "stream",
     "text": [
      "7\n"
     ]
    },
    {
     "data": {
      "text/plain": [
       "()"
      ]
     },
     "execution_count": 7,
     "metadata": {},
     "output_type": "execute_result"
    }
   ],
   "source": [
    "{\n",
    "\n",
    "    // @audit : According to the book, this should error out ...\n",
    "    if let x = 7 {\n",
    "        println!(\"{}\", x);\n",
    "    };\n",
    "\n",
    "}"
   ]
  },
  {
   "cell_type": "markdown",
   "metadata": {},
   "source": [
    "> Listing 18-10: Attempting to use an irrefutable pattern with if let\n",
    "\n",
    "Rust complains that it doesn’t make sense to use if let with an irrefutable  \n",
    "pattern:\n",
    "\n",
    "```sh\n",
    "$ cargo run\n",
    "   Compiling patterns v0.1.0 (file:///projects/patterns)\n",
    "warning: irrefutable `if let` pattern\n",
    " --> src/main.rs:2:8\n",
    "  |\n",
    "2 |     if let x = 5 {\n",
    "  |        ^^^^^^^^^\n",
    "  |\n",
    "  = note: this pattern will always match, so the `if let` is useless\n",
    "  = help: consider replacing the `if let` with a `let`\n",
    "  = note: `#[warn(irrefutable_let_patterns)]` on by default\n",
    "\n",
    "warning: `patterns` (bin \"patterns\") generated 1 warning\n",
    "    Finished dev [unoptimized + debuginfo] target(s) in 0.39s\n",
    "     Running `target/debug/patterns`\n",
    "5\n",
    "```\n",
    "\n",
    "For this reason, match arms must use refutable patterns, except for the last  \n",
    "arm, which should match any remaining values with an irrefutable pattern. Rust  \n",
    "allows us to use an irrefutable pattern in a match with only one arm, but this  \n",
    "syntax isn’t particularly useful and could be replaced with a simpler let  \n",
    "statement.\n",
    "\n",
    "Now that you know where to use patterns and the difference between refutable  \n",
    "and irrefutable patterns, let’s cover all the syntax we can use to create  \n",
    "patterns."
   ]
  },
  {
   "cell_type": "markdown",
   "metadata": {},
   "source": [
    "Pattern Syntax\n",
    "---\n",
    "\n",
    "In this section, we gather all the syntax valid in patterns and discuss why and  \n",
    "when you might want to use each one."
   ]
  },
  {
   "cell_type": "markdown",
   "metadata": {},
   "source": [
    "### Matching Literals\n",
    "\n",
    "As you saw in Chapter 6, you can match patterns against literals directly. The  \n",
    "following code gives some examples:\n",
    "\n",
    "```rust\n",
    "    let x = 1;\n",
    "\n",
    "    match x {\n",
    "        1 => println!(\"one\"),\n",
    "        2 => println!(\"two\"),\n",
    "        3 => println!(\"three\"),\n",
    "        _ => println!(\"anything\"),\n",
    "    }\n",
    "```\n",
    "\n",
    "This code prints one because the value in x is 1. This syntax is useful when  \n",
    "you want your code to take an action if it gets a particular concrete value."
   ]
  },
  {
   "cell_type": "code",
   "execution_count": 8,
   "metadata": {
    "vscode": {
     "languageId": "rust"
    }
   },
   "outputs": [
    {
     "name": "stdout",
     "output_type": "stream",
     "text": [
      "one\n"
     ]
    },
    {
     "data": {
      "text/plain": [
       "()"
      ]
     },
     "execution_count": 8,
     "metadata": {},
     "output_type": "execute_result"
    }
   ],
   "source": [
    "{\n",
    "    let x = 1;\n",
    "    \n",
    "    match x {\n",
    "        1 => println!(\"one\"),\n",
    "        2 => println!(\"two\"),\n",
    "        3 => println!(\"three\"),\n",
    "        _ => println!(\"anything\"),\n",
    "    }\n",
    "}"
   ]
  },
  {
   "cell_type": "markdown",
   "metadata": {},
   "source": [
    "### Matching Named Variables\n",
    "\n",
    "Named variables are irrefutable patterns that match any value, and we’ve used  \n",
    "them many times in the book. However, there is a complication when you use  \n",
    "named variables in match expressions. Because match starts a new scope,  \n",
    "variables declared as part of a pattern inside the match expression will shadow  \n",
    "those with the same name outside the match construct, as is the case with all  \n",
    "variables.  \n",
    "\n",
    "In Listing 18-11, we declare a variable named x with the value Some(5) and a  \n",
    "variable y with the value 10. We then create a match expression on the value x.  \n",
    "Look at the patterns in the match arms and println! at the end, and try to  \n",
    "figure out what the code will print before running this code or reading further.\n",
    "\n",
    "> Filename: src/main.rs"
   ]
  },
  {
   "cell_type": "code",
   "execution_count": 14,
   "metadata": {
    "vscode": {
     "languageId": "rust"
    }
   },
   "outputs": [
    {
     "name": "stdout",
     "output_type": "stream",
     "text": [
      "Matched, y = 5\n",
      "at the end: x = Some(5), y = 10\n"
     ]
    },
    {
     "data": {
      "text/plain": [
       "()"
      ]
     },
     "execution_count": 14,
     "metadata": {},
     "output_type": "execute_result"
    }
   ],
   "source": [
    "{\n",
    "    let x = Some(5);\n",
    "    let y = 10;\n",
    "\n",
    "    // @note : Reason out the print before running\n",
    "    match x {\n",
    "        Some(50) => println!(\"Got 50\"),\n",
    "        Some(y) => println!(\"Matched, y = {}\", y),\n",
    "        _ => println!(\"Default case, x = {:?}\", x),\n",
    "    }\n",
    "\n",
    "    println!(\"at the end: x = {:?}, y = {}\", x, y);\n",
    "}"
   ]
  },
  {
   "cell_type": "markdown",
   "metadata": {},
   "source": [
    "> Listing 18-11: A match expression with an arm that introduces a shadowed  \n",
    "variable y\n",
    "\n",
    "Let’s walk through what happens when the match expression runs. The pattern in  \n",
    "the first match arm doesn’t match the defined value of x, so the code continues.\n",
    "\n",
    "The pattern in the second match arm introduces a new variable named y that will  \n",
    "match any value inside a Some value. Because we’re in a new scope inside the  \n",
    "match expression, this is a new y variable, not the y we declared at the  \n",
    "beginning with the value 10. This new y binding will match any value inside a  \n",
    "Some, which is what we have in x. Therefore, this new y binds to the inner  \n",
    "value of the Some in x. That value is 5, so the expression for that arm  \n",
    "executes and prints Matched, y = 5.\n",
    "\n",
    "If x had been a None value instead of Some(5), the patterns in the first two  \n",
    "arms wouldn’t have matched, so the value would have matched to the underscore.  \n",
    "We didn’t introduce the x variable in the pattern of the underscore arm, so the  \n",
    "x in the expression is still the outer x that hasn’t been shadowed. In this  \n",
    "hypothetical case, the match would print Default case, x = None.\n",
    "\n",
    "When the match expression is done, its scope ends, and so does the scope of the  \n",
    "inner y. The last println! produces at the end: x = Some(5), y = 10.\n",
    "\n",
    "To create a match expression that compares the values of the outer x and y,  \n",
    "rather than introducing a shadowed variable, we would need to use a match guard  \n",
    "conditional instead. We’ll talk about match guards later in the  \n",
    "“Extra Conditionals with Match Guards” section."
   ]
  },
  {
   "cell_type": "markdown",
   "metadata": {},
   "source": [
    "### Multiple Patterns\n",
    "\n",
    "In match expressions, you can match multiple patterns using the | syntax, which  \n",
    "is the pattern or operator. For example, in the following code we match the  \n",
    "value of x against the match arms, the first of which has an or option, meaning  \n",
    "if the value of x matches either of the values in that arm, that arm’s code will  \n",
    "run:\n",
    "\n",
    "> This code prints one or two."
   ]
  },
  {
   "cell_type": "code",
   "execution_count": 15,
   "metadata": {
    "vscode": {
     "languageId": "rust"
    }
   },
   "outputs": [
    {
     "name": "stdout",
     "output_type": "stream",
     "text": [
      "one or two\n"
     ]
    },
    {
     "data": {
      "text/plain": [
       "()"
      ]
     },
     "execution_count": 15,
     "metadata": {},
     "output_type": "execute_result"
    }
   ],
   "source": [
    "{\n",
    "\n",
    "    let x = 1;\n",
    "\n",
    "    match x {\n",
    "        1 | 2 => println!(\"one or two\"),\n",
    "        3 => println!(\"three\"),\n",
    "        _ => println!(\"anything\"),\n",
    "    }\n",
    "\n",
    "}"
   ]
  },
  {
   "cell_type": "markdown",
   "metadata": {},
   "source": [
    "### Matching Ranges of Values with `..=`\n",
    "\n",
    "The ..= syntax allows us to match to an inclusive range of values. In the  \n",
    "following code, when a pattern matches any of the values within the given range,  \n",
    "that arm will execute:\n",
    "\n",
    "```rust\n",
    "    let x = 5;\n",
    "\n",
    "    match x {\n",
    "        1..=5 => println!(\"one through five\"),\n",
    "        _ => println!(\"something else\"),\n",
    "    }\n",
    "```\n",
    "\n",
    "If x is 1, 2, 3, 4, or 5, the first arm will match. This syntax is more  \n",
    "convenient for multiple match values than using the | operator to express the  \n",
    "same idea; if we were to use | we would have to specify 1 | 2 | 3 | 4 | 5.  \n",
    "Specifying a range is much shorter, especially if we want to match, say, any  \n",
    "number between 1 and 1,000!\n",
    "\n",
    "The compiler checks that the range isn’t empty at compile time, and because the  \n",
    "only types for which Rust can tell if a range is empty or not are char and  \n",
    "numeric values, ranges are only allowed with numeric or char values.\n",
    "\n",
    "Here is an example using ranges of char values:\n",
    "\n",
    "```rust\n",
    "    let x = 'c';\n",
    "\n",
    "    match x {\n",
    "        'a'..='j' => println!(\"early ASCII letter\"),\n",
    "        'k'..='z' => println!(\"late ASCII letter\"),\n",
    "        _ => println!(\"something else\"),\n",
    "    }\n",
    "```\n",
    "\n",
    "Rust can tell that 'c' is within the first pattern’s range and prints early  \n",
    "ASCII letter."
   ]
  },
  {
   "cell_type": "code",
   "execution_count": 16,
   "metadata": {
    "vscode": {
     "languageId": "rust"
    }
   },
   "outputs": [
    {
     "name": "stdout",
     "output_type": "stream",
     "text": [
      "one through five\n"
     ]
    },
    {
     "data": {
      "text/plain": [
       "()"
      ]
     },
     "execution_count": 16,
     "metadata": {},
     "output_type": "execute_result"
    }
   ],
   "source": [
    "{\n",
    "    let x = 5;\n",
    "    match x {\n",
    "        1..=5 => println!(\"one through five\"),\n",
    "        _ => println!(\"something else\"),\n",
    "    }\n",
    "}"
   ]
  },
  {
   "cell_type": "code",
   "execution_count": 19,
   "metadata": {
    "vscode": {
     "languageId": "rust"
    }
   },
   "outputs": [
    {
     "name": "stdout",
     "output_type": "stream",
     "text": [
      "early ASCII letter\n"
     ]
    },
    {
     "data": {
      "text/plain": [
       "()"
      ]
     },
     "execution_count": 19,
     "metadata": {},
     "output_type": "execute_result"
    }
   ],
   "source": [
    "{\n",
    "    let x = 'c';\n",
    "\n",
    "    match x {\n",
    "        'a'..='j' => println!(\"early ASCII letter\"),\n",
    "        'k'..='z' => println!(\"late ASCII letter\"),\n",
    "        _ => println!(\"something else\"),\n",
    "    }\n",
    "}"
   ]
  }
 ],
 "metadata": {
  "kernelspec": {
   "display_name": "Rust",
   "language": "rust",
   "name": "rust"
  },
  "language_info": {
   "codemirror_mode": "rust",
   "file_extension": ".rs",
   "mimetype": "text/rust",
   "name": "Rust",
   "pygment_lexer": "rust",
   "version": ""
  },
  "orig_nbformat": 4
 },
 "nbformat": 4,
 "nbformat_minor": 2
}
