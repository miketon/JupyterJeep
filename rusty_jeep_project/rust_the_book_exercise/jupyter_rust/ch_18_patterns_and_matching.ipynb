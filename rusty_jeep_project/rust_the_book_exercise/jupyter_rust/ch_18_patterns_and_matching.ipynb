{
 "cells": [
  {
   "attachments": {},
   "cell_type": "markdown",
   "metadata": {},
   "source": [
    "Patterns And Matching\n",
    "---\n",
    "\n",
    "Patterns are a special syntax in Rust for matching against the structure of  \n",
    "types, both complex and simple. Using patterns in conjunction with match  \n",
    "expressions and other constructs gives you more control over a program’s  \n",
    "control flow. A pattern consists of some combination of the following:\n",
    "\n",
    "- Literals\n",
    "- Destructured arrays, enums, structs, or tuples (refers to ability to extract  \n",
    "the individual elements of these types and bind them to variables)\n",
    "- Variables\n",
    "- Wildcards\n",
    "- Placeholders\n",
    "\n",
    "Some example patterns include :  \n",
    "\n",
    "- `x`,  \n",
    "- `(a, 3)`, and  \n",
    "- `Some(Color::Red)`.  \n",
    "\n",
    "In the contexts in which patterns are valid, these components describe the  \n",
    "shape of data. Our program then matches values against the patterns to determine  \n",
    "whether it has the correct shape of data to continue running a particular piece  \n",
    "of code.\n",
    "\n",
    "To use a pattern, we compare it to some value. If the pattern matches the value,  \n",
    "we use the value parts in our code. Recall the match expressions in Chapter 6  \n",
    "that used patterns, such as the coin-sorting machine example. If the value fits  \n",
    "the shape of the pattern, we can use the named pieces. If it doesn’t, the code  \n",
    "associated with the pattern won’t run.\n",
    "\n",
    "This chapter is a reference on all things related to patterns. We’ll cover :  \n",
    "\n",
    "- the valid places to use patterns,  \n",
    "- the difference between refutable and irrefutable patterns, and  \n",
    "- the different kinds of pattern syntax that you might see.  \n",
    "\n",
    "By the end of the chapter, you’ll know how to use patterns to express many  \n",
    "concepts in a clear way."
   ]
  },
  {
   "cell_type": "markdown",
   "metadata": {},
   "source": [
    "All the Places Patterns Can Be Used\n",
    "---\n",
    "\n",
    "Patterns pop up in a number of places in Rust, and you’ve been using them a lot  \n",
    "without realizing it! This section discusses all the places where patterns are  \n",
    "valid.\n",
    "\n",
    "### `match` Arms\n",
    "\n",
    "As discussed in Chapter 6, we use patterns in the arms of match expressions.  \n",
    "Formally, match expressions are defined as :  \n",
    "\n",
    "- the keyword `match`,  \n",
    "- a `value` to match on, and  \n",
    "- one or more `match arms` that consist of a pattern and an expression to run if  \n",
    "the value matches that arm’s pattern, \n",
    "\n",
    "like this:\n",
    "\n",
    "```rust\n",
    "match VALUE {\n",
    "    PATTERN => EXPRESSION,\n",
    "    PATTERN => EXPRESSION,\n",
    "    PATTERN => EXPRESSION,\n",
    "}\n",
    "```\n",
    "\n",
    "For example, here's the match expression from Listing 6-5 that matches on an  \n",
    "`Option<i32>` value in the variable `x` :\n",
    "\n",
    "```rust\n",
    "match x {\n",
    "    None => None,\n",
    "    Some(i) => Some(i + 1),\n",
    "}\n",
    "```\n",
    "\n",
    "The patterns in this match expression are the `None` and `Some(i)` on the left  \n",
    "of each arrow.\n",
    "\n",
    "One requirement for match expressions is that they need to be `exhaustive` in  \n",
    "the sense that all possibilities for the value in the match expression must be  \n",
    "accounted for. \n",
    "\n",
    "#### -- Match Expressions are REQUIRED to be EXHAUSTIVE --\n",
    "\n",
    "One way to ensure you’ve covered every possibility is to have a catchall pattern  \n",
    "for the last arm: for example, a variable name matching any value can never fail  \n",
    "and thus covers every remaining case.\n",
    "\n",
    "#### -- The `_` catch ALL pattern as last arm == EXHAUSTIVE --\n",
    "\n",
    "The particular pattern `_` :  \n",
    "\n",
    "- will match anything,  \n",
    "- but it never binds to a variable,  \n",
    "- so it’s often used in the last match arm.  \n",
    "\n",
    "The `_` pattern can be useful when you want to ignore any value not specified,  \n",
    "for example. We’ll cover the `_` pattern in more detail in the “Ignoring Values  \n",
    "in a Pattern” section later in this chapter."
   ]
  },
  {
   "cell_type": "markdown",
   "metadata": {},
   "source": [
    "### Conditional `if let` Expressions\n",
    "\n",
    "In Chapter 6 we discussed how to use `if let` expressions mainly as a shorter  \n",
    "way to write the equivalent of a match that only matches one case. Optionally,  \n",
    "`if let` can have a corresponding `else` containing code to run if the pattern  \n",
    "in the `if let` doesn’t match.\n",
    "\n",
    "Listing 18-1 shows that it’s also possible to mix and match : \n",
    "\n",
    "- `if let`,  \n",
    "- `else if`, and  \n",
    "- `else if let` expressions. \n",
    "\n",
    "Doing so gives us more flexibility than a match expression in which we can  \n",
    "express only one value to compare with the patterns. Also, Rust doesn't require  \n",
    "that the conditions in a series of `if let`, `else if`, `else if let` arms  \n",
    "relate to each other.\n",
    "\n",
    "The code in Listing 18-1 determines what color to make your background based on  \n",
    "a series of checks for several conditions. For this example, we’ve created  \n",
    "variables with hardcoded values that a real program might receive from user  \n",
    "input.\n",
    "\n",
    "> Filename: src/main.rs"
   ]
  },
  {
   "cell_type": "code",
   "execution_count": 21,
   "metadata": {
    "vscode": {
     "languageId": "rust"
    }
   },
   "outputs": [
    {
     "name": "stdout",
     "output_type": "stream",
     "text": [
      "Using orange as the background color\n"
     ]
    },
    {
     "data": {
      "text/plain": [
       "()"
      ]
     },
     "execution_count": 21,
     "metadata": {},
     "output_type": "execute_result"
    }
   ],
   "source": [
    "{\n",
    "\n",
    "let favorite_color : Option<&str> = None;\n",
    "let is_tuesday = false;\n",
    "let age: Result<u8, _> = \"23\".parse();\n",
    "\n",
    "if let Some(color) = favorite_color {\n",
    "    println!(\"Using your favorite color, {}, as the background\", color);\n",
    "} else if is_tuesday {\n",
    "    println!(\"Tuesday is a greend day\");\n",
    "} else if let Ok(age) = age {\n",
    "    if age > 30 {\n",
    "        println!(\"Using purple as the background color\");\n",
    "    } else {\n",
    "        println!(\"Using orange as the background color\");\n",
    "    }\n",
    "} else {\n",
    "    println!(\"Using blue as the background color\");\n",
    "}\n",
    "\n",
    "}"
   ]
  },
  {
   "cell_type": "markdown",
   "metadata": {},
   "source": [
    "> Listing 18-1: Mixing if let, else if, else if let, and else\n",
    "\n",
    "#### -- Conditional Structure : Arbitrary and Non-Continous reqs --\n",
    "\n",
    "If the user :  \n",
    "\n",
    "- specifies a favorite color, that color is used as the background.  \n",
    "- If no favorite color is specified and today is Tuesday, the background color  \n",
    "is green.  \n",
    "- Otherwise, if the user specifies their age as a string and we can parse it as  \n",
    "a number successfully, the color is either purple or orange depending on  \n",
    "the value of the number.  \n",
    "- If none of these conditions apply, the background color is blue.\n",
    "\n",
    "This conditional structure lets us support complex requirements. With the  \n",
    "hardcoded values we have here, this example will print :  \n",
    "\n",
    "```sh\n",
    "Using purple as the background color.\n",
    "```\n",
    "\n",
    "#### -- `if let` SHADOWED variables --\n",
    "\n",
    "You can see that `if let` can also introduce `shadowed variables` in the same way  \n",
    "that match arms can:  \n",
    "\n",
    "- the line if `let Ok(age) = age` introduces a `new shadowed age` variable  \n",
    "that contains the value inside the `Ok variant`.  \n",
    "\n",
    "This means we need to place the `if age > 30` condition within that block:   \n",
    "- we can’t combine these two conditions into `if let Ok(age) = age && age > 30`.  \n",
    "\n",
    "The `shadowed age` we want to `compare to 30` isn’t valid until the new scope  \n",
    "starts with the curly bracket.\n",
    "\n",
    "#### -- [-] Conditional Structure : No Compiler Check for Exhaustiveness --\n",
    "\n",
    "The downside of using if let expressions is that the compiler doesn’t check for  \n",
    "exhaustiveness, whereas with match expressions it does. If we omitted the last  \n",
    "else block and therefore missed handling some cases, the compiler would not  \n",
    "alert us to the possible logic bug."
   ]
  },
  {
   "cell_type": "markdown",
   "metadata": {},
   "source": [
    "### `while let` Conditional Loops\n",
    "\n",
    "Similar in construction to if let, the `while let` conditional loop allows a  \n",
    "while loop to run for as long as a pattern continues to match. In Listing 18-2  \n",
    "we code a `while let` loop that uses a vector as a stack and prints the values  \n",
    "in the vector in the opposite order in which they were pushed."
   ]
  },
  {
   "cell_type": "code",
   "execution_count": 22,
   "metadata": {
    "vscode": {
     "languageId": "rust"
    }
   },
   "outputs": [
    {
     "name": "stdout",
     "output_type": "stream",
     "text": [
      "3\n",
      "2\n",
      "1\n"
     ]
    },
    {
     "data": {
      "text/plain": [
       "()"
      ]
     },
     "execution_count": 22,
     "metadata": {},
     "output_type": "execute_result"
    }
   ],
   "source": [
    "let mut stack = Vec::new();\n",
    "\n",
    "stack.push(1);\n",
    "stack.push(2);\n",
    "stack.push(3);\n",
    "\n",
    "// when we pop the stack, we get the last element at the top of the stack\n",
    "// we assign that to `top` and print it\n",
    "while let Some(top) = stack.pop() {\n",
    "    println!(\"{}\", top);\n",
    "}"
   ]
  },
  {
   "cell_type": "markdown",
   "metadata": {},
   "source": [
    "> Listing 18-2: Using a while let loop to print values for as long as  \n",
    "stack.pop() returns Some\n",
    "\n",
    "#### -- Looping through vector `while pop != None` --\n",
    "\n",
    "This example prints 3, 2, and then 1. \n",
    "\n",
    "- The `pop` method takes the last element out of the vector and returns  \n",
    "`Some(value)`.  \n",
    "- If the vector is empty, pop returns `None`.  \n",
    "\n",
    "The while loop continues running the code in its block as long as pop returns  \n",
    "`Some`. When pop returns `None`, the loop stops. We can use `while let` to pop  \n",
    "every element off our stack."
   ]
  },
  {
   "cell_type": "markdown",
   "metadata": {},
   "source": [
    "### `for` Loops\n",
    "\n",
    "In a for loop, the value that directly follows the keyword `for` is a `pattern`.  \n",
    "For example, in :  \n",
    "\n",
    "- `for x in y`  \n",
    "- the `x` is the pattern.  \n",
    "\n",
    "> Listing 18-3 demonstrates how to use a pattern in a for loop to destructure,  \n",
    "or break apart, a tuple as part of the for loop."
   ]
  },
  {
   "cell_type": "code",
   "execution_count": 23,
   "metadata": {
    "vscode": {
     "languageId": "rust"
    }
   },
   "outputs": [
    {
     "name": "stdout",
     "output_type": "stream",
     "text": [
      "a is at index 0\n",
      "b is at index 1\n",
      "c is at index 2\n"
     ]
    },
    {
     "data": {
      "text/plain": [
       "()"
      ]
     },
     "execution_count": 23,
     "metadata": {},
     "output_type": "execute_result"
    }
   ],
   "source": [
    "let v = vec!['a', 'b', 'c'];\n",
    "\n",
    "// iter() iterates over the the elements of v\n",
    "// enumerate() is used to add an index to each element of the iterator\n",
    "for (index, value) in v.iter().enumerate() {\n",
    "    println!(\"{} is at index {}\", value, index);\n",
    "}"
   ]
  },
  {
   "cell_type": "markdown",
   "metadata": {},
   "source": [
    "> Listing 18-3: Using a pattern in a for loop to destructure a tuple\n",
    "\n",
    "The code in Listing 18-3 will print the following:\n",
    "\n",
    "```sh\n",
    "$ cargo run\n",
    "   Compiling patterns v0.1.0 (file:///projects/patterns)\n",
    "    Finished dev [unoptimized + debuginfo] target(s) in 0.52s\n",
    "     Running `target/debug/patterns`\n",
    "a is at index 0\n",
    "b is at index 1\n",
    "c is at index 2\n",
    "```\n",
    "\n",
    "#### -- `enumerate` returns (value, index) tuple --\n",
    "\n",
    "We adapt an iterator using the `enumerate` method so it produces :  \n",
    "\n",
    "- a `value` and \n",
    "- the `index` for that value, \n",
    "- placed into a `tuple`.  \n",
    "\n",
    "The first value produced is the `tuple (0, 'a')`. When : \n",
    "\n",
    "- this `value` is `matched` to the `pattern (index, value)`, \n",
    "- `index` will be `0` and `value` will be 'a', printing the first line of the  \n",
    "output."
   ]
  },
  {
   "cell_type": "markdown",
   "metadata": {},
   "source": [
    "### `let` statements\n",
    "\n",
    "Prior to this chapter, we had only explicitly discussed using patterns with  \n",
    "`match` and `if let`, but in fact, we’ve used patterns in other places as well,  \n",
    "including : \n",
    "\n",
    "- in `let` statements.  \n",
    "\n",
    "For example, consider this straightforward variable assignment with `let`:\n",
    "\n",
    "```rust\n",
    "let x = 5;\n",
    "```\n",
    "\n",
    "Every time you've used a `let` statement like this :  \n",
    "\n",
    "- you've been using `patterns`,  \n",
    "- although you might not have realized it!  \n",
    "\n",
    "More formally, a `let` statement looks like this:\n",
    "\n",
    "```rust\n",
    "let PATTERN = EXPRESSION;\n",
    "```\n",
    "\n",
    "In statements like : \n",
    "\n",
    "- `let x = 5;` with a variable `name` in the PATTERN slot, \n",
    "- the variable name is just a particularly simple form of a pattern. \n",
    "\n",
    "Rust compares the expression against the pattern and assigns any names it finds. \n",
    "So in the :  \n",
    "\n",
    "- `let x = 5; example`,  \n",
    "- `x` is a pattern that means “bind what matches here to the variable x.”  \n",
    "- Because the name 'x' is the `whole pattern`, this pattern effectively  \n",
    "means “bind everything to the variable x, whatever the value is.”\n",
    "\n",
    "> To see the pattern matching aspect of `let` more clearly, consider  \n",
    "Listing 18-4, which uses a pattern with let to destructure a tuple."
   ]
  },
  {
   "cell_type": "code",
   "execution_count": 11,
   "metadata": {
    "vscode": {
     "languageId": "rust"
    }
   },
   "outputs": [
    {
     "name": "stdout",
     "output_type": "stream",
     "text": [
      "x: 5\n"
     ]
    },
    {
     "name": "stdout",
     "output_type": "stream",
     "text": [
      "x: 1, y: 2, z: 3\n"
     ]
    }
   ],
   "source": [
    "// let PATTERN = EXPRESSION\n",
    "// - because x is the the WHOLE pattern, this pattern effectively means \n",
    "// \"bind EVERYTHING to the variable x, whatever the value is\" @note\n",
    "let x = 5;\n",
    "println!(\"x: {}\", x);\n",
    "\n",
    "// valid match between the pattern and the value, elements are aligned\n",
    "let (x, y, z) = (1, 2, 3);\n",
    "println!(\"x: {}, y: {}, z: {}\", x, y, z);"
   ]
  },
  {
   "cell_type": "markdown",
   "metadata": {},
   "source": [
    "> Listing 18-4: Using a pattern to destructure a tuple and create three  \n",
    "variables at once\n",
    "\n",
    "#### -- Binding multi-Elements value to patterns req size match --\n",
    "\n",
    "Here, we match a `tuple` against a `pattern`. Rust compares :  \n",
    "\n",
    "- the `value` '(1, 2, 3)' to  \n",
    "- the `pattern` '(x, y, z)' \n",
    "- and sees that the `value` matches the `pattern` \n",
    "\n",
    "So Rust binds :  \n",
    "\n",
    "- 1 to x,  \n",
    "- 2 to y, and  \n",
    "- 3 to z.  \n",
    "\n",
    "You can think of this tuple pattern as nesting three individual variable  \n",
    "patterns inside it.\n",
    "\n",
    "If the number of elements in the pattern doesn’t match the number of elements  \n",
    "in the tuple, the overall type won’t match and we’ll get a compiler error. \n",
    "\n",
    "> For example, Listing 18-5 shows an attempt to destructure a tuple with three  \n",
    "elements into two variables, which won’t work."
   ]
  },
  {
   "cell_type": "code",
   "execution_count": 24,
   "metadata": {
    "vscode": {
     "languageId": "rust"
    }
   },
   "outputs": [
    {
     "ename": "Error",
     "evalue": "mismatched types",
     "output_type": "error",
     "traceback": [
      "\u001b[31m[E0308] Error:\u001b[0m mismatched types",
      "   \u001b[38;5;246m╭\u001b[0m\u001b[38;5;246m─\u001b[0m\u001b[38;5;246m[\u001b[0mcommand_24:1:1\u001b[38;5;246m]\u001b[0m",
      "   \u001b[38;5;246m│\u001b[0m",
      " \u001b[38;5;246m3 │\u001b[0m \u001b[38;5;249ml\u001b[0m\u001b[38;5;249me\u001b[0m\u001b[38;5;249mt\u001b[0m\u001b[38;5;249m \u001b[0m\u001b[38;5;54m(\u001b[0m\u001b[38;5;54mx\u001b[0m\u001b[38;5;54m,\u001b[0m\u001b[38;5;54m \u001b[0m\u001b[38;5;54my\u001b[0m\u001b[38;5;54m)\u001b[0m\u001b[38;5;249m \u001b[0m\u001b[38;5;249m=\u001b[0m\u001b[38;5;249m \u001b[0m\u001b[38;5;100m(\u001b[0m\u001b[38;5;100m1\u001b[0m\u001b[38;5;100m,\u001b[0m\u001b[38;5;100m \u001b[0m\u001b[38;5;100m2\u001b[0m\u001b[38;5;100m,\u001b[0m\u001b[38;5;100m \u001b[0m\u001b[38;5;100m3\u001b[0m\u001b[38;5;100m)\u001b[0m\u001b[38;5;249m;\u001b[0m",
      " \u001b[38;5;246m  ·\u001b[0m     \u001b[38;5;54m─\u001b[0m\u001b[38;5;54m─\u001b[0m\u001b[38;5;54m─\u001b[0m\u001b[38;5;54m┬\u001b[0m\u001b[38;5;54m─\u001b[0m\u001b[38;5;54m─\u001b[0m   \u001b[38;5;100m─\u001b[0m\u001b[38;5;100m─\u001b[0m\u001b[38;5;100m─\u001b[0m\u001b[38;5;100m─\u001b[0m\u001b[38;5;100m┬\u001b[0m\u001b[38;5;100m─\u001b[0m\u001b[38;5;100m─\u001b[0m\u001b[38;5;100m─\u001b[0m\u001b[38;5;100m─\u001b[0m  ",
      " \u001b[38;5;246m  ·\u001b[0m        \u001b[38;5;54m╰\u001b[0m\u001b[38;5;54m─\u001b[0m\u001b[38;5;54m─\u001b[0m\u001b[38;5;54m─\u001b[0m\u001b[38;5;54m─\u001b[0m\u001b[38;5;54m─\u001b[0m\u001b[38;5;54m─\u001b[0m\u001b[38;5;54m─\u001b[0m\u001b[38;5;54m─\u001b[0m\u001b[38;5;54m─\u001b[0m\u001b[38;5;54m─\u001b[0m\u001b[38;5;54m─\u001b[0m\u001b[38;5;54m─\u001b[0m\u001b[38;5;54m─\u001b[0m\u001b[38;5;54m─\u001b[0m\u001b[38;5;54m─\u001b[0m\u001b[38;5;54m─\u001b[0m expected a tuple with 3 elements, found one with 2 elements",
      " \u001b[38;5;246m  ·\u001b[0m                  \u001b[38;5;100m│\u001b[0m      ",
      " \u001b[38;5;246m  ·\u001b[0m                  \u001b[38;5;100m╰\u001b[0m\u001b[38;5;100m─\u001b[0m\u001b[38;5;100m─\u001b[0m\u001b[38;5;100m─\u001b[0m\u001b[38;5;100m─\u001b[0m\u001b[38;5;100m─\u001b[0m\u001b[38;5;100m─\u001b[0m this expression has type `({integer}, {integer}, {integer})`",
      "\u001b[38;5;246m───╯\u001b[0m"
     ]
    }
   ],
   "source": [
    "// error expected 2 tuple elements, found a tuple with 3 elements\n",
    "// - elements are NOT aligned\n",
    "let (x, y) = (1, 2, 3);"
   ]
  },
  {
   "cell_type": "markdown",
   "metadata": {},
   "source": [
    "> Listing 18-5: Incorrectly constructing a pattern whose variables don’t match  \n",
    "the number of elements in the tuple\n",
    "\n",
    "#### -- Compile Error : When value and pattern element size !EQUAL --\n",
    "\n",
    "Attempting to compile this code results in this type error:\n",
    "\n",
    "```sh\n",
    "$ cargo run\n",
    "   Compiling patterns v0.1.0 (file:///projects/patterns)\n",
    "error[E0308]: mismatched types\n",
    " --> src/main.rs:2:9\n",
    "  |\n",
    "2 |     let (x, y) = (1, 2, 3);\n",
    "  |         ^^^^^^   --------- this expression has type `({integer}, {integer}, {integer})`\n",
    "  |         |\n",
    "  |         expected a tuple with 3 elements, found one with 2 elements\n",
    "  |\n",
    "  = note: expected tuple `({integer}, {integer}, {integer})`\n",
    "             found tuple `(_, _)`\n",
    "\n",
    "For more information about this error, try `rustc --explain E0308`.\n",
    "error: could not compile `patterns` due to previous error\n",
    "```\n",
    "\n",
    "#### -- `_` catch all can stand-in place to equalize SIZE --\n",
    "\n",
    "To fix the error, we could :  \n",
    "\n",
    "- ignore one or more of the values in the tuple using `_` or `..`,  \n",
    "- as you’ll see in the “Ignoring Values in a Pattern” section.  \n",
    "\n",
    "If the problem is that we have too many variables in the pattern, the solution  \n",
    "is to make the types match by removing variables so the number of variables  \n",
    "equals the number of elements in the tuple."
   ]
  },
  {
   "cell_type": "code",
   "execution_count": 25,
   "metadata": {
    "vscode": {
     "languageId": "rust"
    }
   },
   "outputs": [
    {
     "name": "stdout",
     "output_type": "stream",
     "text": [
      "x: 1\n",
      "x: 1, y: 2\n"
     ]
    }
   ],
   "source": [
    "// @audit-ok : ignoring the last value using underscore '_'\n",
    "let (x, y, _) = (1, 2, 3);\n",
    "println!(\"x: {}, y: {}\", x, y);\n",
    "\n",
    "// @audit-ok : '..' can be used as a catch-all to ignore all REMAINING elements\n",
    "let (x, ..) = (1, 2, 3);\n",
    "println!(\"x: {}\", x);"
   ]
  },
  {
   "cell_type": "markdown",
   "metadata": {},
   "source": [
    "### Function Parameters\n",
    "\n",
    "Function parameters can also be patterns. The code in Listing 18-6, which  \n",
    "declares :  \n",
    "\n",
    "- a function named 'foo' that takes one parameter named `x` of type `i32`,  \n",
    "should by now look familiar.\n",
    "\n",
    "```rust\n",
    "fn foo(x: i32) {\n",
    "    // code goes here\n",
    "}\n",
    "```\n",
    "\n",
    "> Listing 18-6: A function signature uses patterns in the parameters\n",
    "\n",
    "The `x` part is a `pattern`! As we did with `let`, we could :  \n",
    "\n",
    "- match a tuple in a function’s arguments  \n",
    "- to the pattern.  \n",
    "\n",
    "Listing 18-7 splits the values in a tuple as we pass it to a function.\n",
    "\n",
    "> Filename: src/main.rs"
   ]
  },
  {
   "cell_type": "code",
   "execution_count": 28,
   "metadata": {
    "vscode": {
     "languageId": "rust"
    }
   },
   "outputs": [
    {
     "name": "stdout",
     "output_type": "stream",
     "text": [
      "Current location: (3, 5)\n",
      "Closure Current location: (3, 5)\n"
     ]
    },
    {
     "data": {
      "text/plain": [
       "()"
      ]
     },
     "execution_count": 28,
     "metadata": {},
     "output_type": "execute_result"
    }
   ],
   "source": [
    "fn print_coordinates(&(x,y): &(i32, i32)){\n",
    "    // @note : Ah ok, we are printing 1:1 here, but can easily match pattern\n",
    "    // arbitrarily using '_' and '..' as stand in to format print\n",
    "    println!(\"Current location: ({}, {})\", x, y);\n",
    "}\n",
    "\n",
    "{\n",
    "    let point = (3, 5);\n",
    "    print_coordinates(&point);\n",
    "}\n",
    "\n",
    "// Also works with closures\n",
    "{\n",
    "    // @audit-ok - why didn't we need to specify the type of the closure?\n",
    "    // ANSWER : \n",
    "    // - The compiler can infer the type of the closure from the context\n",
    "    // - closures capture variables from their surrounding environment\n",
    "    // - there is NO RISK to the closure being used in a different context\n",
    "    // because it is INLINED in this code span\n",
    "    let print_location = |&(x, y)| {\n",
    "        println!(\"Closure Current location: ({}, {})\", x, y);\n",
    "    };\n",
    "\n",
    "    let location = (3,5);\n",
    "    print_location(&location);\n",
    "}"
   ]
  },
  {
   "cell_type": "markdown",
   "metadata": {},
   "source": [
    "> Listing 18-7: A function with parameters that destructure a tuple\n",
    "\n",
    "- This code prints Current location: `(3, 5)`. \n",
    "- The `values &(3, 5)` \n",
    "- match the `pattern &(x, y)`, \n",
    "- so 'x' is the value '3' and \n",
    "- 'y' is the value '5'.\n",
    "\n",
    "#### -- Closure Parameters can be used like Function Parameters --\n",
    "\n",
    "We can also use patterns in closure parameter lists in the same way as in  \n",
    "function parameter lists, because closures are similar to functions, as  \n",
    "discussed in Chapter 13.\n",
    "\n",
    "At this point, you’ve seen several ways of using patterns, but patterns don’t  \n",
    "work the same in every place we can use them. In some places,  \n",
    "- the patterns must be `irrefutable`; \n",
    "- in other circumstances, they can be `refutable`. \n",
    "\n",
    "We’ll discuss these two concepts next."
   ]
  },
  {
   "cell_type": "markdown",
   "metadata": {},
   "source": [
    "Refutability : Whether a Pattern Might Fail to Match\n",
    "---\n",
    "\n",
    "Patterns come in two forms:  \n",
    "- **`refutable`** and \n",
    "- **`irrefutable`**.  \n",
    "\n",
    "Patterns that will match for any possible value passed are `irrefutable`. An  \n",
    "example would be :  \n",
    "\n",
    "- 'x' in the statement `let x = 5`;  \n",
    "- because 'x' matches anything  \n",
    "- and therefore **`cannot fail to match`**. \n",
    "\n",
    "Patterns that can fail to match for some possible value are `refutable`. An  \n",
    "example would be : \n",
    "\n",
    "- 'Some(x)' in the expression if `let Some(x) = a_value`  \n",
    "- because if the value in the 'a_value' variable is `None` rather than `Some`,  \n",
    "- the 'Some(x)' pattern **`will not match`**."
   ]
  },
  {
   "cell_type": "markdown",
   "metadata": {},
   "source": [
    "\n",
    "#### -- IRREFUTABLE : 'func parameters', 'let' statements and 'for' loops --\n",
    "\n",
    "Function `parameters`, `let` statements, and `for loops` :  \n",
    "\n",
    "- can only accept `irrefutable` patterns, \n",
    "- because the program cannot do anything meaningful  \n",
    "- when values don’t match.  \n",
    "\n",
    "#### -- REFUTABLE : 'if let' and 'while let' --\n",
    "\n",
    "The `if let` and `while let` expressions :  \n",
    "\n",
    "- accept `refutable` and `irrefutable` patterns,  \n",
    "- but the compiler warns against `irrefutable` patterns  \n",
    "- because by definition they’re intended to handle possible failure \n",
    "\n",
    "#### -- Conditional Functionality : Measured as ability to PERFORM on success AND failure --\n",
    "\n",
    "The functionality of a conditional is in its ability to perform differently  \n",
    "depending on success or failure.\n",
    "\n",
    "In general, you shouldn’t have to worry about the distinction between  \n",
    "`refutable` and `irrefutable` patterns; however :  \n",
    "\n",
    "- you do need to be familiar with the concept of `refutability` \n",
    "- so you can respond when you see it in an `error` message.  \n",
    "\n",
    "In those cases, you’ll need to change either the pattern or the construct you’re  \n",
    "using the pattern with, depending on the intended behavior of the code.\n",
    "\n",
    "Let’s look at an example of what happens when we try to use a `refutable`  \n",
    "pattern where Rust requires an `irrefutable` pattern and vice versa. \n",
    "\n",
    "> Listing 18-8 shows a `let` statement, but for the pattern we’ve specified  \n",
    "`Some(x)`, a `refutable` pattern. As you might expect, this code will not  \n",
    "compile."
   ]
  },
  {
   "cell_type": "code",
   "execution_count": 4,
   "metadata": {
    "vscode": {
     "languageId": "rust"
    }
   },
   "outputs": [
    {
     "ename": "Error",
     "evalue": "refutable pattern in local binding",
     "output_type": "error",
     "traceback": [
      "\u001b[31m[E0005] Error:\u001b[0m refutable pattern in local binding",
      "   \u001b[38;5;246m╭\u001b[0m\u001b[38;5;246m─\u001b[0m\u001b[38;5;246m[\u001b[0mcommand_4:1:1\u001b[38;5;246m]\u001b[0m",
      "   \u001b[38;5;246m│\u001b[0m",
      " \u001b[38;5;246m7 │\u001b[0m \u001b[38;5;249m \u001b[0m\u001b[38;5;249m \u001b[0m\u001b[38;5;249m \u001b[0m\u001b[38;5;249m \u001b[0m\u001b[38;5;249ml\u001b[0m\u001b[38;5;249me\u001b[0m\u001b[38;5;249mt\u001b[0m\u001b[38;5;249m \u001b[0m\u001b[38;5;54mS\u001b[0m\u001b[38;5;54mo\u001b[0m\u001b[38;5;54mm\u001b[0m\u001b[38;5;54me\u001b[0m\u001b[38;5;54m(\u001b[0m\u001b[38;5;54mx\u001b[0m\u001b[38;5;54m)\u001b[0m\u001b[38;5;249m \u001b[0m\u001b[38;5;249m=\u001b[0m\u001b[38;5;249m \u001b[0m\u001b[38;5;249ms\u001b[0m\u001b[38;5;249mo\u001b[0m\u001b[38;5;249mm\u001b[0m\u001b[38;5;249me\u001b[0m\u001b[38;5;249m_\u001b[0m\u001b[38;5;249mo\u001b[0m\u001b[38;5;249mp\u001b[0m\u001b[38;5;249mt\u001b[0m\u001b[38;5;249mi\u001b[0m\u001b[38;5;249mo\u001b[0m\u001b[38;5;249mn\u001b[0m\u001b[38;5;249m_\u001b[0m\u001b[38;5;249mv\u001b[0m\u001b[38;5;249ma\u001b[0m\u001b[38;5;249ml\u001b[0m\u001b[38;5;249mu\u001b[0m\u001b[38;5;249me\u001b[0m\u001b[38;5;249m;\u001b[0m",
      " \u001b[38;5;246m  ·\u001b[0m         \u001b[38;5;54m─\u001b[0m\u001b[38;5;54m─\u001b[0m\u001b[38;5;54m─\u001b[0m\u001b[38;5;54m┬\u001b[0m\u001b[38;5;54m─\u001b[0m\u001b[38;5;54m─\u001b[0m\u001b[38;5;54m─\u001b[0m                    \u001b[38;5;100m│\u001b[0m ",
      " \u001b[38;5;246m  ·\u001b[0m            \u001b[38;5;54m╰\u001b[0m\u001b[38;5;54m─\u001b[0m\u001b[38;5;54m─\u001b[0m\u001b[38;5;54m─\u001b[0m\u001b[38;5;54m─\u001b[0m\u001b[38;5;54m─\u001b[0m\u001b[38;5;54m─\u001b[0m\u001b[38;5;54m─\u001b[0m\u001b[38;5;54m─\u001b[0m\u001b[38;5;54m─\u001b[0m\u001b[38;5;54m─\u001b[0m\u001b[38;5;54m─\u001b[0m\u001b[38;5;54m─\u001b[0m\u001b[38;5;54m─\u001b[0m\u001b[38;5;54m─\u001b[0m\u001b[38;5;54m─\u001b[0m\u001b[38;5;54m─\u001b[0m\u001b[38;5;54m─\u001b[0m\u001b[38;5;54m─\u001b[0m\u001b[38;5;54m─\u001b[0m\u001b[38;5;54m─\u001b[0m\u001b[38;5;54m─\u001b[0m\u001b[38;5;54m─\u001b[0m\u001b[38;5;54m─\u001b[0m\u001b[38;5;54m─\u001b[0m\u001b[38;5;54m─\u001b[0m pattern `None` not covered",
      " \u001b[38;5;246m  ·\u001b[0m                                    \u001b[38;5;100m│\u001b[0m ",
      " \u001b[38;5;246m  ·\u001b[0m                                    \u001b[38;5;100m╰\u001b[0m\u001b[38;5;100m─\u001b[0m help: you might want to use `let else` to handle the variant that isn't matched: ` else { todo!() }`",
      "\u001b[38;5;246m───╯\u001b[0m"
     ]
    },
    {
     "ename": "Error",
     "evalue": "unused variable: `x`",
     "output_type": "error",
     "traceback": [
      "\u001b[31m[unused_variables] Error:\u001b[0m unused variable: `x`",
      "   \u001b[38;5;246m╭\u001b[0m\u001b[38;5;246m─\u001b[0m\u001b[38;5;246m[\u001b[0mcommand_4:1:1\u001b[38;5;246m]\u001b[0m",
      "   \u001b[38;5;246m│\u001b[0m",
      " \u001b[38;5;246m7 │\u001b[0m \u001b[38;5;249m \u001b[0m\u001b[38;5;249m \u001b[0m\u001b[38;5;249m \u001b[0m\u001b[38;5;249m \u001b[0m\u001b[38;5;249ml\u001b[0m\u001b[38;5;249me\u001b[0m\u001b[38;5;249mt\u001b[0m\u001b[38;5;249m \u001b[0m\u001b[38;5;249mS\u001b[0m\u001b[38;5;249mo\u001b[0m\u001b[38;5;249mm\u001b[0m\u001b[38;5;249me\u001b[0m\u001b[38;5;249m(\u001b[0m\u001b[38;5;54mx\u001b[0m\u001b[38;5;249m)\u001b[0m\u001b[38;5;249m \u001b[0m\u001b[38;5;249m=\u001b[0m\u001b[38;5;249m \u001b[0m\u001b[38;5;249ms\u001b[0m\u001b[38;5;249mo\u001b[0m\u001b[38;5;249mm\u001b[0m\u001b[38;5;249me\u001b[0m\u001b[38;5;249m_\u001b[0m\u001b[38;5;249mo\u001b[0m\u001b[38;5;249mp\u001b[0m\u001b[38;5;249mt\u001b[0m\u001b[38;5;249mi\u001b[0m\u001b[38;5;249mo\u001b[0m\u001b[38;5;249mn\u001b[0m\u001b[38;5;249m_\u001b[0m\u001b[38;5;249mv\u001b[0m\u001b[38;5;249ma\u001b[0m\u001b[38;5;249ml\u001b[0m\u001b[38;5;249mu\u001b[0m\u001b[38;5;249me\u001b[0m\u001b[38;5;249m;\u001b[0m",
      " \u001b[38;5;246m  ·\u001b[0m              \u001b[38;5;54m┬\u001b[0m  ",
      " \u001b[38;5;246m  ·\u001b[0m              \u001b[38;5;54m╰\u001b[0m\u001b[38;5;54m─\u001b[0m\u001b[38;5;54m─\u001b[0m warning: unused variable: `x`",
      " \u001b[38;5;246m  ·\u001b[0m              \u001b[38;5;100m│\u001b[0m  ",
      " \u001b[38;5;246m  ·\u001b[0m              \u001b[38;5;100m╰\u001b[0m\u001b[38;5;100m─\u001b[0m\u001b[38;5;100m─\u001b[0m help: if this is intentional, prefix it with an underscore: `_x`",
      "\u001b[38;5;246m───╯\u001b[0m"
     ]
    }
   ],
   "source": [
    "{\n",
    "    // this is irrefutable and compiles fine\n",
    "    let some_option_value: Option<i32> = 7.into();\n",
    "    // this is refutable and will not compile\n",
    "    // - [E0005] Error: refutable pattern in local binding \n",
    "    // - pattern `None` not covered\n",
    "    let Some(x) = some_option_value;\n",
    "}"
   ]
  },
  {
   "cell_type": "markdown",
   "metadata": {},
   "source": [
    "> Listing 18-8: Attempting to use a refutable pattern with let\n",
    "\n",
    "If 'some_option_value' was a `None` value : \n",
    "\n",
    "- it would fail to match the pattern `Some(x)`, \n",
    "- meaning the pattern is `refutable`.  \n",
    "\n",
    "However :  \n",
    "\n",
    "- the `let` statement can only accept an `irrefutable` pattern  \n",
    "- because there is nothing valid the code can do with a `None` value.  \n",
    "\n",
    "#### -- Compiler Error : `let` statement expects `irrefutable` but got `refutable` --\n",
    "\n",
    "At compile time, Rust will complain that we’ve tried to use a `refutable`  \n",
    "pattern where an `irrefutable` pattern is required:\n",
    "\n",
    "```sh\n",
    "$ cargo run\n",
    "   Compiling patterns v0.1.0 (file:///projects/patterns)\n",
    "error[E0005]: refutable pattern in local binding: `None` not covered\n",
    " --> src/main.rs:3:9\n",
    "  |\n",
    "3 |     let Some(x) = some_option_value;\n",
    "  |         ^^^^^^^ pattern `None` not covered\n",
    "  |\n",
    "  = note: `let` bindings require an \"irrefutable pattern\", like a `struct` or an `enum` with only one variant\n",
    "  = note: for more information, visit https://doc.rust-lang.org/book/ch18-02-refutability.html\n",
    "note: `Option<i32>` defined here\n",
    " --> /rustc/d5a82bbd26e1ad8b7401f6a718a9c57c96905483/library/core/src/option.rs:518:1\n",
    "  |\n",
    "  = note: \n",
    "/rustc/d5a82bbd26e1ad8b7401f6a718a9c57c96905483/library/core/src/option.rs:522:5: not covered\n",
    "  = note: the matched value is of type `Option<i32>`\n",
    "help: you might want to use `if let` to ignore the variant that isn't matched\n",
    "  |\n",
    "3 |     let x = if let Some(x) = some_option_value { x } else { todo!() };\n",
    "  |     ++++++++++                                 ++++++++++++++++++++++\n",
    "help: alternatively, you might want to use let else to handle the variant that isn't matched\n",
    "  |\n",
    "3 |     let Some(x) = some_option_value else { todo!() };\n",
    "  |                                     ++++++++++++++++\n",
    "\n",
    "For more information about this error, try `rustc --explain E0005`.\n",
    "error: could not compile `patterns` due to previous error\n",
    "```\n",
    "\n",
    "Because we : \n",
    "\n",
    "- didn’t cover (and couldn’t cover!) every valid value with the pattern  \n",
    "`Some(x)`, \n",
    "- Rust rightfully produces a `compiler error`."
   ]
  },
  {
   "cell_type": "markdown",
   "metadata": {},
   "source": [
    "#### -- `let` does NOT handle `refutable`, but `if let` DOES --\n",
    "\n",
    "If we have a `refutable` pattern where an `irrefutable` pattern is needed, we  \n",
    "can fix it by changing the code that uses the pattern:  \n",
    "\n",
    "- instead of using `let`, we can use `if let`.  \n",
    "\n",
    "Then if the pattern doesn’t match, the code will just skip the code in the  \n",
    "curly brackets, giving it a way to continue validly. Listing 18-9 shows how to  \n",
    "fix the code in Listing 18-8."
   ]
  },
  {
   "cell_type": "code",
   "execution_count": 9,
   "metadata": {
    "vscode": {
     "languageId": "rust"
    }
   },
   "outputs": [
    {
     "name": "stdout",
     "output_type": "stream",
     "text": [
      "7\n"
     ]
    },
    {
     "data": {
      "text/plain": [
       "()"
      ]
     },
     "execution_count": 9,
     "metadata": {},
     "output_type": "execute_result"
    }
   ],
   "source": [
    "{\n",
    "    let some_option_value: Option<i32> = 7.into();\n",
    "\n",
    "    // 'let' => 'if let'\n",
    "    // - only if Some(x) will we { println!() ... }\n",
    "    // - if x is None, we do nothing\n",
    "    if let Some(x) = some_option_value {\n",
    "        println!(\"{}\", x);\n",
    "    }\n",
    "    // explicitly handling the else case is optional\n",
    "    else {\n",
    "        println!(\"WARNING : x is None\");\n",
    "    }\n",
    "}"
   ]
  },
  {
   "cell_type": "markdown",
   "metadata": {},
   "source": [
    "> Listing 18-9: Using if let and a block with refutable patterns instead of let\n",
    "\n",
    "#### -- Compiler Fix : `if let` allows us to handle `refutable` patterns --\n",
    "\n",
    "We’ve given the code an out! This code is perfectly valid, although it means we  \n",
    "cannot use an `irrefutable` pattern without receiving an error. If we give  \n",
    "`if let` a pattern that will always match, such as 'x', as shown in  \n",
    "Listing 18-10, the compiler will give a warning."
   ]
  },
  {
   "cell_type": "code",
   "execution_count": 12,
   "metadata": {
    "vscode": {
     "languageId": "rust"
    }
   },
   "outputs": [
    {
     "name": "stdout",
     "output_type": "stream",
     "text": [
      "7\n"
     ]
    },
    {
     "data": {
      "text/plain": [
       "()"
      ]
     },
     "execution_count": 12,
     "metadata": {},
     "output_type": "execute_result"
    }
   ],
   "source": [
    "{\n",
    "\n",
    "    // @audit-ok : According to the book, this should error out ...\n",
    "    // ANSWER :\n",
    "    // - actually compiler will give a warning\n",
    "    // - warning doesn't show up in Jupyter notebook though\n",
    "    if let x = 7 {\n",
    "        println!(\"{}\", x);\n",
    "    };\n",
    "\n",
    "}"
   ]
  },
  {
   "cell_type": "markdown",
   "metadata": {},
   "source": [
    "> Listing 18-10: Attempting to use an irrefutable pattern with if let\n",
    "\n",
    "#### -- Compiler Warning : `if let` used with `irrefutable`, `let` is simpler --\n",
    "\n",
    "Rust complains that it doesn’t make sense to use `if let` with an `irrefutable`  \n",
    "pattern:\n",
    "\n",
    "```sh\n",
    "$ cargo run\n",
    "   Compiling patterns v0.1.0 (file:///projects/patterns)\n",
    "warning: irrefutable `if let` pattern\n",
    " --> src/main.rs:2:8\n",
    "  |\n",
    "2 |     if let x = 5 {\n",
    "  |        ^^^^^^^^^\n",
    "  |\n",
    "  = note: this pattern will always match, so the `if let` is useless\n",
    "  = help: consider replacing the `if let` with a `let`\n",
    "  = note: `#[warn(irrefutable_let_patterns)]` on by default\n",
    "\n",
    "warning: `patterns` (bin \"patterns\") generated 1 warning\n",
    "    Finished dev [unoptimized + debuginfo] target(s) in 0.39s\n",
    "     Running `target/debug/patterns`\n",
    "5\n",
    "```\n",
    "\n",
    "#### -- Match Arms mus use `refutable`, except last arm - `irrefutable` --\n",
    "\n",
    "For this reason, match arms must :  \n",
    "\n",
    "- use `refutable` patterns,  \n",
    "- except for the last arm,  \n",
    "- which should match any remaining values with an `irrefutable` pattern.  \n",
    "\n",
    "Rust allows us to use an `irrefutable` pattern in a match with only one arm,  \n",
    "but this syntax isn’t particularly useful and could be replaced with a simpler  \n",
    "`let` statement.\n",
    "\n",
    "Now that you know where to use patterns and the difference between `refutable`  \n",
    "and `irrefutable` patterns, let’s cover all the syntax we can use to create  \n",
    "patterns."
   ]
  },
  {
   "cell_type": "markdown",
   "metadata": {},
   "source": [
    "Pattern Syntax\n",
    "---\n",
    "\n",
    "In this section, we gather all the syntax valid in patterns and discuss why and  \n",
    "when you might want to use each one."
   ]
  },
  {
   "cell_type": "markdown",
   "metadata": {},
   "source": [
    "### Matching Literals\n",
    "\n",
    "As you saw in Chapter 6, you can match patterns against literals directly. The  \n",
    "following code gives some examples:\n",
    "\n",
    "```rust\n",
    "    let x = 1;\n",
    "\n",
    "    match x {\n",
    "        1 => println!(\"one\"),\n",
    "        2 => println!(\"two\"),\n",
    "        3 => println!(\"three\"),\n",
    "        _ => println!(\"anything\"),\n",
    "    }\n",
    "```\n",
    "\n",
    "This code prints 'one' because the value in 'x' is '1'. This syntax is useful  \n",
    "when you want your code to take an action if it gets a particular concrete  \n",
    "value."
   ]
  },
  {
   "cell_type": "code",
   "execution_count": 13,
   "metadata": {
    "vscode": {
     "languageId": "rust"
    }
   },
   "outputs": [
    {
     "name": "stdout",
     "output_type": "stream",
     "text": [
      "one\n"
     ]
    },
    {
     "data": {
      "text/plain": [
       "()"
      ]
     },
     "execution_count": 13,
     "metadata": {},
     "output_type": "execute_result"
    }
   ],
   "source": [
    "{\n",
    "    let x = 1;\n",
    "    \n",
    "    match x {\n",
    "        1 => println!(\"one\"),\n",
    "        2 => println!(\"two\"),\n",
    "        3 => println!(\"three\"),\n",
    "        _ => println!(\"anything\"),\n",
    "    }\n",
    "}"
   ]
  },
  {
   "cell_type": "markdown",
   "metadata": {},
   "source": [
    "### Matching Named Variables\n",
    "\n",
    "Named variables are `irrefutable` patterns that match any value, and we’ve used  \n",
    "them many times in the book. However, there is a complication when : \n",
    "\n",
    "- you use named variables in match expressions.  \n",
    "- Because **`match starts a new scope`**,   \n",
    "- `variables` declared as part of a pattern `inside the match expression`  \n",
    "- will **`shadow`** those with the `**same name outside**` the match  \n",
    "construct,  \n",
    "- as is the case with all variables.  \n",
    "\n",
    "In Listing 18-11, we declare a variable named 'x' with the value 'Some(5)' and a  \n",
    "variable 'y' with the value '10'. We then create a match expression on the  \n",
    "value 'x'.  Look at the patterns in the match arms and 'println!' at the end,  \n",
    "and try to figure out what the code will print before running this code or  \n",
    "reading further.\n",
    "\n",
    "> Filename: src/main.rs"
   ]
  },
  {
   "cell_type": "code",
   "execution_count": 16,
   "metadata": {
    "vscode": {
     "languageId": "rust"
    }
   },
   "outputs": [
    {
     "name": "stdout",
     "output_type": "stream",
     "text": [
      "Matched, y = 5\n",
      "at the end: x = Some(5), y = 10\n"
     ]
    },
    {
     "data": {
      "text/plain": [
       "()"
      ]
     },
     "execution_count": 16,
     "metadata": {},
     "output_type": "execute_result"
    }
   ],
   "source": [
    "{\n",
    "    let x = Some(5);\n",
    "    let y = 10;\n",
    "\n",
    "    // @note : Reason out the print before running\n",
    "    match x {\n",
    "        // @audit-ok : new scope is started inside match expression\n",
    "        // - so any variable declared here will SHADOW the variable with the\n",
    "        // SAME NAME in the outer scope\n",
    "        Some(50) => println!(\"Got 50\"),\n",
    "        // outer 'y' is shadowed by the match expression 'Some(y)' below\n",
    "        // - instead of outer y = 10, the inner y = 5 is used\n",
    "        Some(y) => println!(\"Matched, y = {}\", y),\n",
    "        _ => println!(\"Default case, x = {:?}\", x),\n",
    "    }\n",
    "\n",
    "    // when we return back to the main scope the inner scope 'y' is dropped\n",
    "    // and the outer 'y' value of '10' is UNSHADOWED and printed\n",
    "    println!(\"at the end: x = {:?}, y = {}\", x, y);\n",
    "}"
   ]
  },
  {
   "cell_type": "markdown",
   "metadata": {},
   "source": [
    "> Listing 18-11: A match expression with an arm that introduces a shadowed  \n",
    "variable y\n",
    "\n",
    "#### -- **Match expression** is new **`SCOPE`** that can **`SHADOW`** outer variable --\n",
    "\n",
    "Let’s walk through what happens when the match expression runs :  \n",
    "\n",
    "The pattern in the first match arm  \n",
    "- doesn’t match the defined value of 'x',  \n",
    "- so the code continues  \n",
    "\n",
    "The pattern in the second match arm,  \n",
    "- introduces a new variable named `y`  \n",
    "- that will match any value inside a 'Some' value.  \n",
    "\n",
    "Because we’re in a new scope inside the match expression,  \n",
    "- this is a new 'y' variable,  \n",
    "- not the 'y' we declared at the beginning with the value '10'. \n",
    "- This new 'y' binding will match any value inside a 'Some', \n",
    "- which is what we have in 'x'. \n",
    "\n",
    "Therefore,  \n",
    "- this new 'y' binds to the inner value of the 'Some' in 'x'. \n",
    "- That value is '5', \n",
    "- so the expression for that arm executes and prints Matched, 'y' = 5.\n",
    "- @note : the inner 'y' **`SHADOWS`** any outer variable with the same name,  \n",
    "in this case the outer 'y'\n",
    "\n",
    "If 'x' had been a `None` value instead of `Some(5)`,  \n",
    "- the patterns in the first two arms wouldn’t have matched,  \n",
    "- so the value would have matched to the underscore.  \n",
    "\n",
    "We didn’t introduce the 'x' variable in the pattern of the underscore arm, so :  \n",
    "- the 'x' in the expression  \n",
    "- is still the outer 'x' that hasn’t been shadowed.  \n",
    "\n",
    "In this hypothetical case, the match would print `Default` case, `x = None`.\n",
    "\n",
    "When the match expression is done :  \n",
    "- its scope ends, and  \n",
    "- so does the scope of the inner 'y'.  \n",
    "\n",
    "The last println! produces at the end: `x = Some(5), y = 10`\n",
    "\n",
    "To create a match expression that :  \n",
    "\n",
    "- `compares` the values of the `outer x and y`,\n",
    "- rather than introducing a `shadowed variable`, \n",
    "- we would need to use a match guard conditional instead.  \n",
    "\n",
    "We’ll talk about match guards later in the “Extra Conditionals with Match  \n",
    "Guards” section."
   ]
  },
  {
   "cell_type": "markdown",
   "metadata": {},
   "source": [
    "### Multiple Patterns\n",
    "\n",
    "In match expressions, you can match multiple patterns using :  \n",
    "\n",
    "- the `|` syntax, which  \n",
    "- is the pattern `or` operator.  \n",
    "\n",
    "For example, in the following code :  \n",
    "\n",
    "- we match the value of 'x' against the match arms,  \n",
    "- the first of which has an `or` option, \n",
    "- meaning if the value of 'x' matches either of the values in that arm,  \n",
    "- that arm’s code will run:\n",
    "\n",
    "> This code prints one or two."
   ]
  },
  {
   "cell_type": "code",
   "execution_count": 18,
   "metadata": {
    "vscode": {
     "languageId": "rust"
    }
   },
   "outputs": [
    {
     "name": "stdout",
     "output_type": "stream",
     "text": [
      "one or two\n"
     ]
    },
    {
     "data": {
      "text/plain": [
       "()"
      ]
     },
     "execution_count": 18,
     "metadata": {},
     "output_type": "execute_result"
    }
   ],
   "source": [
    "{\n",
    "\n",
    "    let x = 1;\n",
    "\n",
    "    match x {\n",
    "        // if x matches 1 or 2, run this print statement\n",
    "        1 | 2 => println!(\"one or two\"),\n",
    "        3 => println!(\"three\"),\n",
    "        _ => println!(\"anything\"),\n",
    "    }\n",
    "\n",
    "}"
   ]
  },
  {
   "cell_type": "markdown",
   "metadata": {},
   "source": [
    "### Matching Ranges of Values with `..=`\n",
    "\n",
    "The `..=` syntax allows us to match to :  \n",
    "\n",
    "- an inclusive `range` of values.  \n",
    "\n",
    "In the following code, when a pattern :  \n",
    "\n",
    "- matches any of the values within the given range,  \n",
    "- that arm will execute:\n",
    "\n",
    "```rust\n",
    "    let x = 5;\n",
    "\n",
    "    match x {\n",
    "        1..=5 => println!(\"one through five\"),\n",
    "        _ => println!(\"something else\"),\n",
    "    }\n",
    "```\n",
    "\n",
    "If x is 1, 2, 3, 4, or 5, the first arm will match. This syntax is more  \n",
    "convenient for multiple match values than using the | operator to express the  \n",
    "same idea; if we were to use | we would have to specify 1 | 2 | 3 | 4 | 5.  \n",
    "Specifying a range is much shorter, especially if we want to match, say, any  \n",
    "number between 1 and 1,000!\n",
    "\n",
    "#### -- Range Matches are ONLY compatible with `numeric` or `char` values --\n",
    "\n",
    "The compiler checks :  \n",
    "\n",
    "- that the range isn’t empty at compile time,  \n",
    "- and because the only types for which Rust can tell if a range is empty or not  \n",
    "- are `char` and `numeric` values,  \n",
    "- `ranges` are only allowed with `numeric` or `char` values.\n",
    "\n",
    "Here is an example using ranges of char values:\n",
    "\n",
    "```rust\n",
    "    let x = 'c';\n",
    "\n",
    "    match x {\n",
    "        'a'..='j' => println!(\"early ASCII letter\"),\n",
    "        'k'..='z' => println!(\"late ASCII letter\"),\n",
    "        _ => println!(\"something else\"),\n",
    "    }\n",
    "```\n",
    "\n",
    "Rust can tell that 'c' is within the first pattern’s range and prints 'early  \n",
    "ASCII letter'."
   ]
  },
  {
   "cell_type": "code",
   "execution_count": 20,
   "metadata": {
    "vscode": {
     "languageId": "rust"
    }
   },
   "outputs": [
    {
     "name": "stdout",
     "output_type": "stream",
     "text": [
      "one through five\n"
     ]
    },
    {
     "data": {
      "text/plain": [
       "()"
      ]
     },
     "execution_count": 20,
     "metadata": {},
     "output_type": "execute_result"
    }
   ],
   "source": [
    "{\n",
    "    let x = 5;\n",
    "    match x {\n",
    "        // range check against NUMERIC values\n",
    "        1..=5 => println!(\"one through five\"),\n",
    "        _ => println!(\"something else\"),\n",
    "    }\n",
    "}"
   ]
  },
  {
   "cell_type": "code",
   "execution_count": 21,
   "metadata": {
    "vscode": {
     "languageId": "rust"
    }
   },
   "outputs": [
    {
     "name": "stdout",
     "output_type": "stream",
     "text": [
      "early ASCII letter\n"
     ]
    },
    {
     "data": {
      "text/plain": [
       "()"
      ]
     },
     "execution_count": 21,
     "metadata": {},
     "output_type": "execute_result"
    }
   ],
   "source": [
    "{\n",
    "    let x = 'c';\n",
    "\n",
    "    match x {\n",
    "        // range check against CHAR values\n",
    "        'a'..='j' => println!(\"early ASCII letter\"),\n",
    "        'k'..='z' => println!(\"late ASCII letter\"),\n",
    "        _ => println!(\"something else\"),\n",
    "    }\n",
    "}"
   ]
  },
  {
   "cell_type": "markdown",
   "metadata": {},
   "source": [
    "### Destructuring to Break Apart Values\n",
    "\n",
    "We can also use patterns to destructure : \n",
    "\n",
    "- `structs`, \n",
    "- `enums`, and \n",
    "- `tuples`\n",
    "\n",
    "to use different parts of these values. Let’s walk through each value.\n",
    "\n",
    "#### Destructuring Structs \n",
    "\n",
    "Listing 18-12 shows a `Point struct` with two fields, `x` and `y`, that we can  \n",
    "break apart using a pattern with a `let` statement.\n",
    "\n",
    "> Filename: src/main.rs"
   ]
  },
  {
   "cell_type": "code",
   "execution_count": 23,
   "metadata": {
    "vscode": {
     "languageId": "rust"
    }
   },
   "outputs": [
    {
     "name": "stdout",
     "output_type": "stream",
     "text": [
      "a: 0, b: 7\n"
     ]
    },
    {
     "data": {
      "text/plain": [
       "()"
      ]
     },
     "execution_count": 23,
     "metadata": {},
     "output_type": "execute_result"
    }
   ],
   "source": [
    "struct Point {\n",
    "    x: i32,\n",
    "    y: i32,\n",
    "}\n",
    "\n",
    "{\n",
    "    let p = Point{ x: 0, y: 7 };\n",
    "\n",
    "    // @audit-ok : what is happening here exactly?\n",
    "    // ANSWER :\n",
    "    // In the destructuring assignment, we are using a short hand to :\n",
    "    // - 'a' and 'b' are created implicitly\n",
    "    // - and bound to the value of 'p.x' and 'p.y' respectively\n",
    "    // Idiomatically, this normally uses the existing fields  `x` and `y` ...\n",
    "    // as opposed to introducing new variable names : `a` and `b`\n",
    "    // - 'x' from 'p.x' is SIMPLER than 'a' from 'p.x' in terms of variable\n",
    "    // name tracking\n",
    "    let Point{ x: a, y: b } = p; // this is a destructuring assignment\n",
    "    assert_eq!(0, a);\n",
    "    assert_eq!(7, b);\n",
    "    println!(\"a: {}, b: {}\", a, b);\n",
    "\n",
    "}"
   ]
  },
  {
   "cell_type": "markdown",
   "metadata": {},
   "source": [
    "> Listing 18-12: Destructuring a struct’s fields into separate variables\n",
    "\n",
    "#### -- **`Point{x: a, y: b} = p`** Destructured To **`a`**, **`b`** --\n",
    "\n",
    "This code :  \n",
    "\n",
    "- creates the variables `a` and `b` that \n",
    "- `match` the values of the `x` and `y` fields of the `p` struct.  \n",
    "\n",
    "This example shows that the names of the variables in the pattern don’t have to  \n",
    "match the field names of the struct. However, it’s common to match the variable  \n",
    "names to the field names to make it easier to remember which variables came  \n",
    "from which fields. \n",
    "\n",
    "#### -- **`Point{x: x, y: y} = p`** Destructured To **`x`**, **`y`** --\n",
    "\n",
    "Because of this common usage, and because writing : \n",
    "\n",
    "- `let Point { x: x, y: y } = p;`  \n",
    "- contains a lot of duplication,  \n",
    "\n",
    "Rust has a `shorthand` for patterns `that match struct fields`:  \n",
    "- you only need to list the name of the struct field, and  \n",
    "- the variables created from the pattern will have the same names.  \n",
    "\n",
    "Listing 18-13 behaves in the same way as the code in Listing 18-12, but the  \n",
    "variables created in the `let` pattern are `x` and `y` instead of `a` and `b`.\n",
    "\n",
    "> Filename: src/main.rs"
   ]
  },
  {
   "cell_type": "code",
   "execution_count": 24,
   "metadata": {
    "vscode": {
     "languageId": "rust"
    }
   },
   "outputs": [
    {
     "name": "stdout",
     "output_type": "stream",
     "text": [
      "x: 0, y: 7\n"
     ]
    },
    {
     "data": {
      "text/plain": [
       "()"
      ]
     },
     "execution_count": 24,
     "metadata": {},
     "output_type": "execute_result"
    }
   ],
   "source": [
    "struct Point {\n",
    "    x: i32,\n",
    "    y: i32,\n",
    "}\n",
    "\n",
    "{\n",
    "    let p = Point { x: 0, y: 7 };\n",
    "\n",
    "    // Destructuring short and to create variables\n",
    "    // - 'x' from p.x and 'y' from p.y\n",
    "    // - `let Point { x: x, y: y } = p;` // vs the verbose long form\n",
    "    let Point { x, y } = p;  // short form\n",
    "    assert_eq!(0, x);\n",
    "    assert_eq!(7, y);\n",
    "    println!(\"x: {}, y: {}\", x, y);\n",
    "\n",
    "}"
   ]
  },
  {
   "cell_type": "markdown",
   "metadata": {},
   "source": [
    "> Listing 18-13: Destructuring struct fields using struct field shorthand\n",
    "\n",
    "#### -- **`Point { x, y } = p`** short form to **`x, y`** --\n",
    "\n",
    "This code :  \n",
    "- creates the variables `x` and `y`  \n",
    "- that match the `x` and `y` fields of the `p` variable // i.e. p.x and p.y\n",
    "\n",
    "The outcome is that :  \n",
    "- the variables `x` and `y`  \n",
    "- contain the 'p.x' and 'p.y' `field values` from the `p struct`.\n",
    "\n",
    "#### -- Destructuring literal values let us Pass Through Fields --\n",
    "\n",
    "We can also destructure with literal values as part of the struct pattern rather  \n",
    "than creating variables for all the fields. Doing so allows us to test some of  \n",
    "the fields for particular values while creating variables to destructure the  \n",
    "other fields.\n",
    "\n",
    "In Listing 18-14, we have a match expression that separates `Point` values into  \n",
    "three cases:  \n",
    "\n",
    "- points that lie directly on the x axis (which is true when y = 0),  \n",
    "- on the y axis (x = 0),  \n",
    "- or neither.\n",
    "\n",
    "> Filename: src/main.rs"
   ]
  },
  {
   "cell_type": "code",
   "execution_count": 25,
   "metadata": {
    "vscode": {
     "languageId": "rust"
    }
   },
   "outputs": [
    {
     "name": "stdout",
     "output_type": "stream",
     "text": [
      "On the y axis at 7\n"
     ]
    },
    {
     "data": {
      "text/plain": [
       "()"
      ]
     },
     "execution_count": 25,
     "metadata": {},
     "output_type": "execute_result"
    }
   ],
   "source": [
    "{\n",
    "    let p = Point{ x: 0, y: 7 };\n",
    "\n",
    "    // Destructuring literals\n",
    "    match p {\n",
    "        // pass through 'x', check if 'y' == 0\n",
    "        Point { x, y: 0 } => println!(\"On the x axis at {}\", x),\n",
    "        // check if 'x' == 0, pass through 'y'\n",
    "        Point { x: 0, y } => println!(\"On the y axis at {}\", y),\n",
    "        // pass through both 'x' and 'y'\n",
    "        Point { x, y } => println!(\"On neither axis: ({}, {})\", x, y),\n",
    "    }\n",
    "}"
   ]
  },
  {
   "cell_type": "markdown",
   "metadata": {},
   "source": [
    "> Listing 18-14: Destructuring and matching literal values in one pattern\n",
    "\n",
    "The first arm will match any point that lies on the x axis by specifying that  \n",
    "the y field matches if its value matches the literal 0. The pattern still  \n",
    "creates an x variable that we can use in the code for this arm.\n",
    "\n",
    "Similarly, the second arm matches any point on the y axis by specifying that  \n",
    "the x field matches if its value is 0 and creates a variable y for the value of  \n",
    "the y field. The third arm doesn’t specify any literals, so it matches any  \n",
    "other Point and creates variables for both the x and y fields.\n",
    "\n",
    "In this example, the value p matches the second arm by virtue of x containing  \n",
    "a 0, so this code will print On the y axis at 7.\n",
    "\n",
    "Remember that a match expression stops checking arms once it has found the  \n",
    "first matching pattern :  \n",
    "\n",
    "- so even though Point { x: 0, y: 0} is on the x axis and the y axis, this code  \n",
    "would only print On the x axis at 0."
   ]
  },
  {
   "cell_type": "markdown",
   "metadata": {},
   "source": [
    "### Destructuring Enums\n",
    "\n",
    "We've destructured enums in this book (for example, Listing 6-5 in Chapter 6),  \n",
    "but haven’t yet explicitly discussed that the pattern to destructure an enum  \n",
    "corresponds to the way the data stored within the enum is defined. As an  \n",
    "example, in Listing 18-15 we use the Message enum from Listing 6-2 and write a  \n",
    "match with patterns that will destructure each inner value.\n",
    "\n",
    "> Filename: src/main.rs"
   ]
  },
  {
   "cell_type": "code",
   "execution_count": 7,
   "metadata": {
    "vscode": {
     "languageId": "rust"
    }
   },
   "outputs": [
    {
     "name": "stdout",
     "output_type": "stream",
     "text": [
      "Change the color to red 0, green 160, and blue 255\n"
     ]
    },
    {
     "data": {
      "text/plain": [
       "()"
      ]
     },
     "execution_count": 7,
     "metadata": {},
     "output_type": "execute_result"
    }
   ],
   "source": [
    "enum Message {\n",
    "    Quit,\n",
    "    Move { x: i32, y: i32 },\n",
    "    Write(String),\n",
    "    ChangeColor(i32, i32, i32),\n",
    "}\n",
    "\n",
    "{\n",
    "    let msg = Message::ChangeColor(0, 160, 255);\n",
    "\n",
    "    match msg {\n",
    "        Message::Quit => {\n",
    "            println!(\"The Quit variant has no data to destructure\");\n",
    "        },\n",
    "        Message::Move {x, y} => {\n",
    "            println!(\"Move in the x direction {} and in the y direction {}\", x, y);\n",
    "        },\n",
    "        Message::Write(text) => {\n",
    "            println!(\"Text message: {}\", text);\n",
    "        },\n",
    "        Message::ChangeColor(r, g, b) => {\n",
    "            println!(\"Change the color to red {}, green {}, and blue {}\", r, g, b);\n",
    "        },\n",
    "    }\n",
    "\n",
    "}"
   ]
  },
  {
   "cell_type": "markdown",
   "metadata": {},
   "source": [
    "> Listing 18-15: Destructuring enum variants that hold different kinds of values\n",
    "\n",
    "This code will print Change the color to red 0, green 160, and blue 255. Try  \n",
    "changing the value of msg to see the code from the other arms run.\n",
    "\n",
    "For enum variants without any data, like Message::Quit, we can’t destructure  \n",
    "the value any further. We can only match on the literal Message::Quit value,  \n",
    "and no variables are in that pattern.\n",
    "\n",
    "For struct-like enum variants, such as Message::Move, we can use a pattern  \n",
    "similar to the pattern we specify to match structs. After the variant name, we  \n",
    "place curly brackets and then list the fields with variables so we break apart  \n",
    "the pieces to use in the code for this arm. Here we use the shorthand form as  \n",
    "we did in Listing 18-13.\n",
    "\n",
    "For tuple-like enum variants, like Message::Write that holds a tuple with one  \n",
    "element and Message::ChangeColor that holds a tuple with three elements, the  \n",
    "pattern is similar to the pattern we specify to match tuples. The number of  \n",
    "variables in the pattern must match the number of elements in the variant  \n",
    "we’re matching."
   ]
  },
  {
   "cell_type": "markdown",
   "metadata": {},
   "source": [
    "### Destructuring Nested Structs and Enums\n",
    "\n",
    "So far, our examples have all been matching structs or enums one level deep,  \n",
    "but matching can work on nested items too!  \n",
    "\n",
    "For example, we can refactor the code in Listing 18-15 to support RGB and HSV  \n",
    "colors in the ChangeColor message, as shown in Listing 18-16."
   ]
  },
  {
   "cell_type": "code",
   "execution_count": 9,
   "metadata": {
    "vscode": {
     "languageId": "rust"
    }
   },
   "outputs": [
    {
     "name": "stdout",
     "output_type": "stream",
     "text": [
      "hsv\n"
     ]
    },
    {
     "data": {
      "text/plain": [
       "()"
      ]
     },
     "execution_count": 9,
     "metadata": {},
     "output_type": "execute_result"
    }
   ],
   "source": [
    "enum Color {\n",
    "    Rgb(),\n",
    "    Hsv(),\n",
    "}\n",
    "\n",
    "enum Message {\n",
    "    Quit,\n",
    "    Move {},\n",
    "    Write(String),\n",
    "    ChangeColor(Color),\n",
    "}\n",
    "\n",
    "{\n",
    "    let msg = Message::ChangeColor(Color::Hsv());\n",
    "\n",
    "    // Even with 2 enums involved, we can destructure and match in a single\n",
    "    // match statement\n",
    "    match msg {\n",
    "        Message::ChangeColor(Color::Rgb()) => println!(\"rgb\"),\n",
    "        Message::ChangeColor(Color::Hsv()) => println!(\"hsv\"),\n",
    "        _ => (),\n",
    "    }\n",
    "\n",
    "}"
   ]
  },
  {
   "cell_type": "markdown",
   "metadata": {},
   "source": [
    "> Listing 18-16: Matching on nested enums\n",
    "\n",
    "The pattern of the first arm in the match expression :\n",
    "\n",
    "- matches a Message::ChangeColor enum variant  \n",
    "- that contains a Color::Rgb variant;  \n",
    "- then the pattern binds to the three inner i32 values.  \n",
    "\n",
    "The pattern of the second arm : \n",
    "\n",
    "- also matches a Message::ChangeColor enum variant,  \n",
    "- but the inner enum matches Color::Hsv instead.  \n",
    "\n",
    "We can specify these complex conditions in one match expression, even though  \n",
    "two enums are involved."
   ]
  },
  {
   "cell_type": "markdown",
   "metadata": {},
   "source": [
    "### Destructuring Structs and Tuples\n",
    "\n",
    "We can mix, match, and nest destructuring patterns in even more complex ways.  \n",
    "The following example shows a complicated destructure where we nest structs and  \n",
    "tuples inside a tuple and destructure all the primitive values out: \n",
    "\n",
    "```rust\n",
    "let ((feet, inches), Point { x, y }) = ((3, 10), Point { x: 3, y: -10 });\n",
    "```\n",
    "\n",
    "This code lets us break complex types into their component parts so we can use  \n",
    "the values we’re interested in separately.\n",
    "\n",
    "Destructuring with patterns is a convenient way to use pieces of values, such  \n",
    "as the value from each field in a struct, separately from each other."
   ]
  },
  {
   "cell_type": "code",
   "execution_count": 18,
   "metadata": {
    "vscode": {
     "languageId": "rust"
    }
   },
   "outputs": [
    {
     "name": "stdout",
     "output_type": "stream",
     "text": [
      "feet: 3, inches: 10, x: 3, y: -10\n"
     ]
    }
   ],
   "source": [
    "let ((feet, inches), Point { x, y }) = ((3, 10), Point { x: 3, y: -10});\n",
    "println!(\"feet: {}, inches: {}, x: {}, y: {}\", feet, inches, x, y);"
   ]
  },
  {
   "cell_type": "markdown",
   "metadata": {},
   "source": [
    "### Ignoring Values in a Pattern\n",
    "\n",
    "You’ve seen that it’s sometimes useful to ignore values in a pattern, such as  \n",
    "in the last arm of a match, to get a catchall that doesn’t actually do anything  \n",
    "but does account for all remaining possible values. There are a few ways to  \n",
    "ignore entire values or parts of values in a pattern: using the _ pattern  \n",
    "(which you’ve seen), using the _ pattern within another pattern, using a name  \n",
    "that starts with an underscore, or using .. to ignore remaining parts of a  \n",
    "value. Let’s explore how and why to use each of these patterns.\n",
    "\n",
    "### Ignoring an Entire Value with _\n",
    "\n",
    "We’ve used the underscore as a wildcard pattern that will match any value but  \n",
    "not bind to the value. This is especially useful as the last arm in a match  \n",
    "expression, but we can also use it in any pattern, including function  \n",
    "parameters, as shown in Listing 18-17.\n",
    "\n",
    "> Filename: src/main.rs"
   ]
  },
  {
   "cell_type": "code",
   "execution_count": 21,
   "metadata": {
    "vscode": {
     "languageId": "rust"
    }
   },
   "outputs": [
    {
     "name": "stdout",
     "output_type": "stream",
     "text": [
      "This code only uses the y parameter: 4\n"
     ]
    },
    {
     "data": {
      "text/plain": [
       "()"
      ]
     },
     "execution_count": 21,
     "metadata": {},
     "output_type": "execute_result"
    }
   ],
   "source": [
    "fn foo(_: i32, y: i32){\n",
    "    println!(\"This code only uses the y parameter: {}\", y);\n",
    "}\n",
    "\n",
    "{\n",
    "    foo(3, 4);\n",
    "}"
   ]
  },
  {
   "cell_type": "markdown",
   "metadata": {},
   "source": [
    "> Listing 18-17: Using _ in a function signature\n",
    "\n",
    "This code will completely ignore the value 3 passed as the first argument, and  \n",
    "will print This code only uses the y parameter: 4.\n",
    "\n",
    "In most cases when you no longer need a particular function parameter, you would  \n",
    "change the signature so it doesn’t include the unused parameter. Ignoring a  \n",
    "function parameter can be especially useful in cases when, for example, you're  \n",
    "implementing a trait when you need a certain type signature but the function  \n",
    "body in your implementation doesn’t need one of the parameters. You then avoid  \n",
    "getting a compiler warning about unused function parameters, as you would if  \n",
    "you used a name instead."
   ]
  },
  {
   "cell_type": "markdown",
   "metadata": {},
   "source": [
    "### Ignoring Parts of a Value with Nested _\n",
    "\n",
    "We can also use _ inside another pattern to ignore just part of a value, for  \n",
    "example, when we want to test for only part of a value but have no use for the  \n",
    "other parts in the corresponding code we want to run. Listing 18-18 shows code  \n",
    "responsible for managing a setting’s value. The business requirements are that  \n",
    "the user should not be allowed to overwrite an existing customization of a  \n",
    "setting but can unset the setting and give it a value if it is currently unset."
   ]
  },
  {
   "cell_type": "code",
   "execution_count": 22,
   "metadata": {
    "vscode": {
     "languageId": "rust"
    }
   },
   "outputs": [
    {
     "name": "stdout",
     "output_type": "stream",
     "text": [
      "Can't overwrite an existing customized value\n",
      "setting is Some(5)\n"
     ]
    },
    {
     "data": {
      "text/plain": [
       "()"
      ]
     },
     "execution_count": 22,
     "metadata": {},
     "output_type": "execute_result"
    }
   ],
   "source": [
    "{\n",
    "    let mut setting_value = Some(5);\n",
    "    let new_setting_value = Some(10);\n",
    "\n",
    "    match (setting_value, new_setting_value) {\n",
    "        // We can only set a value if None exists yet\n",
    "        // - to set a new value, we must first pass in None as new_setting_value\n",
    "        // - it's an additional step to prevent side effect?\n",
    "        (Some(_), Some(_)) => {\n",
    "            println!(\"Can't overwrite an existing customized value\");\n",
    "        }\n",
    "        _ => {\n",
    "            setting_value = new_setting_value;\n",
    "        }\n",
    "    }\n",
    "\n",
    "    println!(\"setting is {:?}\", setting_value);\n",
    "}"
   ]
  },
  {
   "cell_type": "markdown",
   "metadata": {},
   "source": [
    "> Listing 18-18: Using an underscore within patterns that match Some variants  \n",
    "when we don’t need to use the value inside the Some\n",
    "\n",
    "This code will print Can't overwrite an existing customized value and then  \n",
    "setting is Some(5). In the first match arm, we don’t need to match on or use  \n",
    "the values inside either Some variant, but we do need to test for the case when  \n",
    "setting_value and new_setting_value are the Some variant. In that case, we  \n",
    "print the reason for not changing setting_value, and it doesn’t get changed.\n",
    "\n",
    "In all other cases (if either setting_value or new_setting_value are None)  \n",
    "expressed by the _ pattern in the second arm, we want to allow  \n",
    "new_setting_value to become setting_value.\n",
    "\n",
    "We can also use underscores in multiple places within one pattern to ignore  \n",
    "particular values. Listing 18-19 shows an example of ignoring the second and  \n",
    "fourth values in a tuple of five items."
   ]
  },
  {
   "cell_type": "code",
   "execution_count": 23,
   "metadata": {
    "vscode": {
     "languageId": "rust"
    }
   },
   "outputs": [
    {
     "name": "stdout",
     "output_type": "stream",
     "text": [
      "Some numbers: 2, 8, 32\n"
     ]
    },
    {
     "data": {
      "text/plain": [
       "()"
      ]
     },
     "execution_count": 23,
     "metadata": {},
     "output_type": "execute_result"
    }
   ],
   "source": [
    "{\n",
    "    let numbers = (2, 4, 8, 16, 32);\n",
    "\n",
    "    match numbers {\n",
    "        (first, _, third, _, fifth) => {\n",
    "            println!(\"Some numbers: {}, {}, {}\", first, third, fifth);\n",
    "        }\n",
    "    }\n",
    "}"
   ]
  },
  {
   "cell_type": "markdown",
   "metadata": {},
   "source": [
    "> Listing 18-19: Ignoring multiple parts of a tuple\n",
    "\n",
    "This code will print Some numbers: 2, 8, 32, and the values 4 and 16 will be  \n",
    "ignored.\n",
    "\n",
    "### Ignoring an Unused Variable by Starting Its Name with _\n",
    "\n",
    "If you create a variable but don’t use it anywhere, Rust will usually issue a  \n",
    "warning because an unused variable could be a bug. However, sometimes it’s  \n",
    "useful to be able to create a variable you won’t use yet, such as when you’re  \n",
    "prototyping or just starting a project. In this situation, you can tell Rust  \n",
    "not to warn you about the unused variable by starting the name of the variable  \n",
    "with an underscore. In Listing 18-20, we create two unused variables, but when  \n",
    "we compile this code, we should only get a warning about one of them.\n",
    "\n",
    "> Filename: src/main.rs\n",
    "\n"
   ]
  },
  {
   "cell_type": "code",
   "execution_count": 25,
   "metadata": {
    "vscode": {
     "languageId": "rust"
    }
   },
   "outputs": [
    {
     "data": {
      "text/plain": [
       "()"
      ]
     },
     "execution_count": 25,
     "metadata": {},
     "output_type": "execute_result"
    }
   ],
   "source": [
    "{\n",
    "    let _x = 5; // prefixing with '_' avoids unused variable warning\n",
    "    let y = 10;\n",
    "}"
   ]
  },
  {
   "cell_type": "markdown",
   "metadata": {},
   "source": [
    "> Listing 18-20: Starting a variable name with an underscore to avoid getting  \n",
    "unused variable warnings\n",
    "\n",
    "Here we get a warning about not using the variable y, but we don’t get a warning  \n",
    "about not using _x.\n",
    "\n",
    "Note that there is a subtle difference between using only _ and using a name  \n",
    "that starts with an underscore :  \n",
    "\n",
    "- The syntax _x still binds the value to the  variable, \n",
    "- whereas _ doesn’t bind at all.  \n",
    "\n",
    "To show a case where this distinction matters, Listing 18-21 will provide us  \n",
    "with an error."
   ]
  },
  {
   "cell_type": "code",
   "execution_count": 29,
   "metadata": {
    "vscode": {
     "languageId": "rust"
    }
   },
   "outputs": [
    {
     "ename": "Error",
     "evalue": "borrow of partially moved value: `s`",
     "output_type": "error",
     "traceback": [
      "\u001b[31m[E0382] Error:\u001b[0m borrow of partially moved value: `s`",
      "    \u001b[38;5;246m╭\u001b[0m\u001b[38;5;246m─\u001b[0m\u001b[38;5;246m[\u001b[0mcommand_29:1:1\u001b[38;5;246m]\u001b[0m",
      "    \u001b[38;5;246m│\u001b[0m",
      " \u001b[38;5;246m 6 │\u001b[0m \u001b[38;5;249m \u001b[0m\u001b[38;5;249m \u001b[0m\u001b[38;5;249m \u001b[0m\u001b[38;5;249m \u001b[0m\u001b[38;5;249mi\u001b[0m\u001b[38;5;249mf\u001b[0m\u001b[38;5;249m \u001b[0m\u001b[38;5;249ml\u001b[0m\u001b[38;5;249me\u001b[0m\u001b[38;5;249mt\u001b[0m\u001b[38;5;249m \u001b[0m\u001b[38;5;249mS\u001b[0m\u001b[38;5;249mo\u001b[0m\u001b[38;5;249mm\u001b[0m\u001b[38;5;249me\u001b[0m\u001b[38;5;249m(\u001b[0m\u001b[38;5;54m_\u001b[0m\u001b[38;5;54ms\u001b[0m\u001b[38;5;249m)\u001b[0m\u001b[38;5;249m \u001b[0m\u001b[38;5;249m=\u001b[0m\u001b[38;5;249m \u001b[0m\u001b[38;5;249ms\u001b[0m\u001b[38;5;249m \u001b[0m\u001b[38;5;249m{\u001b[0m",
      " \u001b[38;5;246m   ·\u001b[0m                 \u001b[38;5;68m┬\u001b[0m\u001b[38;5;54m┬\u001b[0m  ",
      " \u001b[38;5;246m   ·\u001b[0m                 \u001b[38;5;68m╰\u001b[0m\u001b[38;5;68m─\u001b[0m\u001b[38;5;68m─\u001b[0m\u001b[38;5;68m─\u001b[0m help: borrow this binding in the pattern to avoid moving the value: `ref `",
      " \u001b[38;5;246m   ·\u001b[0m                  \u001b[38;5;54m│\u001b[0m  ",
      " \u001b[38;5;246m   ·\u001b[0m                  \u001b[38;5;54m╰\u001b[0m\u001b[38;5;54m─\u001b[0m\u001b[38;5;54m─\u001b[0m value partially moved here",
      " \u001b[38;5;246m   ·\u001b[0m ",
      " \u001b[38;5;246m18 │\u001b[0m \u001b[38;5;249m \u001b[0m\u001b[38;5;249m \u001b[0m\u001b[38;5;249m \u001b[0m\u001b[38;5;249m \u001b[0m\u001b[38;5;249mp\u001b[0m\u001b[38;5;249mr\u001b[0m\u001b[38;5;249mi\u001b[0m\u001b[38;5;249mn\u001b[0m\u001b[38;5;249mt\u001b[0m\u001b[38;5;249ml\u001b[0m\u001b[38;5;249mn\u001b[0m\u001b[38;5;249m!\u001b[0m\u001b[38;5;249m(\u001b[0m\u001b[38;5;249m\"\u001b[0m\u001b[38;5;249m{\u001b[0m\u001b[38;5;249m:\u001b[0m\u001b[38;5;249m?\u001b[0m\u001b[38;5;249m}\u001b[0m\u001b[38;5;249m\"\u001b[0m\u001b[38;5;249m,\u001b[0m\u001b[38;5;249m \u001b[0m\u001b[38;5;100ms\u001b[0m\u001b[38;5;249m)\u001b[0m\u001b[38;5;249m;\u001b[0m",
      " \u001b[38;5;246m   ·\u001b[0m                      \u001b[38;5;100m┬\u001b[0m  ",
      " \u001b[38;5;246m   ·\u001b[0m                      \u001b[38;5;100m╰\u001b[0m\u001b[38;5;100m─\u001b[0m\u001b[38;5;100m─\u001b[0m value borrowed here after partial move",
      "\u001b[38;5;246m────╯\u001b[0m"
     ]
    }
   ],
   "source": [
    "{\n",
    "    let s = Some(String::from(\"Hello!\"));\n",
    "\n",
    "    // '_s' is being used to ignore the value of 's' in the closure, but unlike\n",
    "    // '_', this is still binding ... so\n",
    "    // - because there IS binding  to '_s' ownership is moved into the closure\n",
    "    // AND will cause an ERROR when we try to print 's' later in this code span\n",
    "    if let Some(_s) = s {\n",
    "        println!(\"found a string\");\n",
    "    }\n",
    "\n",
    "    // @audit-ok : Why does this error out?\n",
    "    // ANSWER : We are trying to use 's' after it was moved in to the above \n",
    "    // closure\n",
    "    // - if we comment out println!() below, it compiles because compiler\n",
    "    // tracks and determines that there is no attempt to use 's' after\n",
    "    // it was moved\n",
    "    // - compiler analysis ACTUALLY follows the flow of variables and checks\n",
    "    // against Rust's borrow checker rules\n",
    "    println!(\"{:?}\", s);\n",
    "}"
   ]
  },
  {
   "cell_type": "markdown",
   "metadata": {},
   "source": [
    "Listing 18-21: An unused variable starting with an underscore still binds the  \n",
    "value, which might take ownership of the value\n",
    "\n",
    "We’ll receive an error because the s value will still be moved into _s, which  \n",
    "prevents us from using s again. However, using the underscore by itself doesn’t  \n",
    "ever bind to the value. Listing 18-22 will compile without any errors because s  \n",
    "doesn’t get moved into _."
   ]
  },
  {
   "cell_type": "code",
   "execution_count": 27,
   "metadata": {
    "vscode": {
     "languageId": "rust"
    }
   },
   "outputs": [
    {
     "name": "stdout",
     "output_type": "stream",
     "text": [
      "found a string\n",
      "Some(\"Hello!\")\n"
     ]
    },
    {
     "data": {
      "text/plain": [
       "()"
      ]
     },
     "execution_count": 27,
     "metadata": {},
     "output_type": "execute_result"
    }
   ],
   "source": [
    "{\n",
    "    let s = Some(String::from(\"Hello!\"));\n",
    "\n",
    "    // Here we are using '_' to ignore the value of 's'\n",
    "    // - '_' is non-binding, so 's' is not moved\n",
    "    if let Some(_) = s {\n",
    "        println!(\"found a string\");\n",
    "    }\n",
    "\n",
    "    // That allows 's' to stay at this code span and be printed here without\n",
    "    // any errors ... unlike the preceeding cell\n",
    "    println!(\"{:?}\", s);\n",
    "}"
   ]
  },
  {
   "cell_type": "markdown",
   "metadata": {},
   "source": [
    "> Listing 18-22: Using an underscore does not bind the value\n",
    "\n",
    "This code works just fine because we never bind s to anything; it isn’t moved.\n",
    "\n",
    "### Ignoring Remaining Parts of a Value with `..`\n",
    "\n",
    "With values that have many parts, we can use the .. syntax to use specific  \n",
    "parts and ignore the rest, avoiding the need to list underscores for each  \n",
    "ignored value. The .. pattern ignores any parts of a value that we haven’t  \n",
    "explicitly matched in the rest of the pattern. In Listing 18-23, we have a  \n",
    "Point struct that holds a coordinate in three-dimensional space. In the match  \n",
    "expression, we want to operate only on the x coordinate and ignore the values  \n",
    "in the y and z fields."
   ]
  },
  {
   "cell_type": "code",
   "execution_count": 3,
   "metadata": {
    "vscode": {
     "languageId": "rust"
    }
   },
   "outputs": [
    {
     "name": "stdout",
     "output_type": "stream",
     "text": [
      "x is 19\n"
     ]
    },
    {
     "data": {
      "text/plain": [
       "()"
      ]
     },
     "execution_count": 3,
     "metadata": {},
     "output_type": "execute_result"
    }
   ],
   "source": [
    "struct Point {\n",
    "    x: i32,\n",
    "    y: i32,\n",
    "    z: i32,\n",
    "}\n",
    "\n",
    "let origin = Point { x: 19, y: 25, z: 21 };\n",
    "\n",
    "match origin {\n",
    "    // more concise than '_' => `Point { x, _, _}`\n",
    "    Point { x, .. } => println!(\"x is {}\", x),\n",
    "}"
   ]
  },
  {
   "cell_type": "markdown",
   "metadata": {},
   "source": [
    "> Listing 18-23: Ignoring all fields of a Point except for x by using ..\n",
    "\n",
    "We list the x value and then just include the .. pattern. This is quicker than  \n",
    "having to list y: _ and z: _, particularly when we’re working with structs that  \n",
    "have lots of fields in situations where only one or two fields are relevant.\n",
    "\n",
    "The syntax .. will expand to as many values as it needs to be. Listing 18-24  \n",
    "shows how to use .. with a tuple.\n",
    "\n",
    "> Filename: src/main.rs"
   ]
  },
  {
   "cell_type": "code",
   "execution_count": 4,
   "metadata": {
    "vscode": {
     "languageId": "rust"
    }
   },
   "outputs": [
    {
     "name": "stdout",
     "output_type": "stream",
     "text": [
      "Some numbers: 2, 32\n"
     ]
    },
    {
     "data": {
      "text/plain": [
       "()"
      ]
     },
     "execution_count": 4,
     "metadata": {},
     "output_type": "execute_result"
    }
   ],
   "source": [
    "{\n",
    "    let number = (2, 4, 8, 16, 32);\n",
    "\n",
    "    match number {\n",
    "        // '..' expands to fill as many values as needed\n",
    "        (first, .., last) => {\n",
    "            println!(\"Some numbers: {}, {}\", first, last);\n",
    "        }\n",
    "    }\n",
    "}"
   ]
  },
  {
   "cell_type": "markdown",
   "metadata": {},
   "source": [
    "> Listing 18-24: Matching only the first and last values in a tuple and ignoring \n",
    "all other values\n",
    "\n",
    "In this code, the first and last value are matched with first and last.  \n",
    "The .. will match and ignore everything in the middle.\n",
    "\n",
    "However, using .. must be unambiguous. If it is unclear which values are  \n",
    "intended for matching and which should be ignored, Rust will give us an error.  \n",
    "Listing 18-25 shows an example of using .. ambiguously, so it will not compile.\n",
    "\n",
    "> Filename: src/main.rs"
   ]
  },
  {
   "cell_type": "code",
   "execution_count": 5,
   "metadata": {
    "vscode": {
     "languageId": "rust"
    }
   },
   "outputs": [
    {
     "ename": "Error",
     "evalue": "`..` can only be used once per tuple pattern",
     "output_type": "error",
     "traceback": [
      "\u001b[31mError:\u001b[0m `..` can only be used once per tuple pattern",
      "   \u001b[38;5;246m╭\u001b[0m\u001b[38;5;246m─\u001b[0m\u001b[38;5;246m[\u001b[0mcommand_5:1:1\u001b[38;5;246m]\u001b[0m",
      "   \u001b[38;5;246m│\u001b[0m",
      " \u001b[38;5;246m5 │\u001b[0m \u001b[38;5;249m \u001b[0m\u001b[38;5;249m \u001b[0m\u001b[38;5;249m \u001b[0m\u001b[38;5;249m \u001b[0m\u001b[38;5;249m \u001b[0m\u001b[38;5;249m \u001b[0m\u001b[38;5;249m \u001b[0m\u001b[38;5;249m \u001b[0m\u001b[38;5;249m(\u001b[0m\u001b[38;5;100m.\u001b[0m\u001b[38;5;100m.\u001b[0m\u001b[38;5;249m,\u001b[0m\u001b[38;5;249m \u001b[0m\u001b[38;5;249ms\u001b[0m\u001b[38;5;249me\u001b[0m\u001b[38;5;249mc\u001b[0m\u001b[38;5;249mo\u001b[0m\u001b[38;5;249mn\u001b[0m\u001b[38;5;249md\u001b[0m\u001b[38;5;249m,\u001b[0m\u001b[38;5;249m \u001b[0m\u001b[38;5;54m.\u001b[0m\u001b[38;5;54m.\u001b[0m\u001b[38;5;249m)\u001b[0m\u001b[38;5;249m \u001b[0m\u001b[38;5;249m=\u001b[0m\u001b[38;5;249m>\u001b[0m\u001b[38;5;249m \u001b[0m\u001b[38;5;249m{\u001b[0m",
      " \u001b[38;5;246m  ·\u001b[0m          \u001b[38;5;100m─\u001b[0m\u001b[38;5;100m┬\u001b[0m          \u001b[38;5;54m─\u001b[0m\u001b[38;5;54m┬\u001b[0m  ",
      " \u001b[38;5;246m  ·\u001b[0m           \u001b[38;5;100m╰\u001b[0m\u001b[38;5;100m─\u001b[0m\u001b[38;5;100m─\u001b[0m\u001b[38;5;100m─\u001b[0m\u001b[38;5;100m─\u001b[0m\u001b[38;5;100m─\u001b[0m\u001b[38;5;100m─\u001b[0m\u001b[38;5;100m─\u001b[0m\u001b[38;5;100m─\u001b[0m\u001b[38;5;100m─\u001b[0m\u001b[38;5;100m─\u001b[0m\u001b[38;5;100m─\u001b[0m\u001b[38;5;100m─\u001b[0m\u001b[38;5;100m─\u001b[0m\u001b[38;5;100m─\u001b[0m previously used here",
      " \u001b[38;5;246m  ·\u001b[0m                       \u001b[38;5;54m│\u001b[0m  ",
      " \u001b[38;5;246m  ·\u001b[0m                       \u001b[38;5;54m╰\u001b[0m\u001b[38;5;54m─\u001b[0m\u001b[38;5;54m─\u001b[0m can only be used once per tuple pattern",
      "\u001b[38;5;246m───╯\u001b[0m"
     ]
    }
   ],
   "source": [
    "{\n",
    "    let numbers = (2, 4, 8, 16, 32);\n",
    "\n",
    "    match numbers {\n",
    "        (.., second, ..) => {\n",
    "            println!(\"Some numbers: {}\", second);\n",
    "        }\n",
    "    }\n",
    "}"
   ]
  },
  {
   "cell_type": "markdown",
   "metadata": {},
   "source": [
    "> Listing 18-25: An attempt to use .. in an ambiguous way\n",
    "\n",
    "When we compile this example, we get this error:\n",
    "\n",
    "```sh\n",
    "$ cargo run\n",
    "   Compiling patterns v0.1.0 (file:///projects/patterns)\n",
    "error: `..` can only be used once per tuple pattern\n",
    " --> src/main.rs:5:22\n",
    "  |\n",
    "5 |         (.., second, ..) => {\n",
    "  |          --          ^^ can only be used once per tuple pattern\n",
    "  |          |\n",
    "  |          previously used here\n",
    "\n",
    "error: could not compile `patterns` due to previous error\n",
    "```\n",
    "\n",
    "It’s impossible for Rust to determine how many values in the tuple to ignore  \n",
    "before matching a value with second and then how many further values to ignore  \n",
    "thereafter. This code could mean that we want to ignore 2, bind second to 4,  \n",
    "and then ignore 8, 16, and 32; or that we want to ignore 2 and 4, bind second  \n",
    "to 8, and then ignore 16 and 32; and so forth. The variable name second doesn’t  \n",
    "mean anything special to Rust, so we get a compiler error because using .. in  \n",
    "two places like this is ambiguous."
   ]
  },
  {
   "cell_type": "markdown",
   "metadata": {},
   "source": [
    "### Extra Conditionals with Match Guards\n",
    "\n",
    "A match guard is an additional if condition, specified after the pattern in a  \n",
    "match arm, that must also match for that arm to be chosen. Match guards are  \n",
    "useful for expressing more complex ideas than a pattern alone allows.\n",
    "\n",
    "The condition can use variables created in the pattern. Listing 18-26 shows a  \n",
    "match where the first arm has the pattern Some(x) and also has a match guard of  \n",
    "if x % 2 == 0 (which will be true if the number is even)."
   ]
  },
  {
   "cell_type": "code",
   "execution_count": 17,
   "metadata": {
    "vscode": {
     "languageId": "rust"
    }
   },
   "outputs": [
    {
     "name": "stdout",
     "output_type": "stream",
     "text": [
      "even 4\n"
     ]
    },
    {
     "data": {
      "text/plain": [
       "()"
      ]
     },
     "execution_count": 17,
     "metadata": {},
     "output_type": "execute_result"
    }
   ],
   "source": [
    "{\n",
    "\n",
    "    let num = Some(4);\n",
    "    // let num: Option<i32> = None; // to trigger None arm\n",
    "    \n",
    "    match num {\n",
    "        Some(x) if x % 2 == 0 => println!(\"even {}\", x),\n",
    "        Some(x) => println!(\"odd {}\", x),\n",
    "        None => (), \n",
    "        // @audit-ok : How to trigger this arm?\n",
    "        // ANSWER :\n",
    "        // let num: Option<i32> = None;\n",
    "        // - `let num = None;` errors because it can't infer the type\n",
    "        // In Rust, the type of a variable must be known at compile time.  \n",
    "        // When you create a variable with an initial value of `None`, the Rust  \n",
    "        // compiler cannot infer the type of the variable because `None` can be  \n",
    "        // of any type that implements the `Option` enum.\n",
    "    }\n",
    "\n",
    "}\n"
   ]
  },
  {
   "cell_type": "markdown",
   "metadata": {},
   "source": [
    "> Listing 18-26: Adding a match guard to a pattern\n",
    "\n",
    "This example will print The number 4 is even. When num is compared to the  \n",
    "pattern in the first arm, it matches, because Some(4) matches Some(x). Then the  \n",
    "match guard checks whether the remainder of dividing x by 2 is equal to 0, and  \n",
    "because it is, the first arm is selected.\n",
    "\n",
    "If num had been Some(5) instead, the match guard in the first arm would have  \n",
    "been false because the remainder of 5 divided by 2 is 1, which is not equal  \n",
    "to 0. Rust would then go to the second arm, which would match because the  \n",
    "second arm doesn’t have a match guard and therefore matches any Some variant.\n",
    "\n",
    "There is no way to express the if x % 2 == 0 condition within a pattern, so the  \n",
    "match guard gives us the ability to express this logic. The downside of this  \n",
    "additional expressiveness is that the compiler doesn't try to check for  \n",
    "exhaustiveness when match guard expressions are involved.\n",
    "\n",
    "In Listing 18-11, we mentioned that we could use match guards to solve our  \n",
    "pattern-shadowing problem. Recall that we created a new variable inside the  \n",
    "pattern in the match expression instead of using the variable outside the  \n",
    "match. That new variable meant we couldn’t test against the value of the outer  \n",
    "variable. Listing 18-27 shows how we can use a match guard to fix this problem.\n",
    "\n",
    "> Filename: src/main.rs"
   ]
  },
  {
   "cell_type": "code",
   "execution_count": 22,
   "metadata": {
    "vscode": {
     "languageId": "rust"
    }
   },
   "outputs": [
    {
     "name": "stdout",
     "output_type": "stream",
     "text": [
      "Default case, x = Some(5)\n",
      "At the end: x = Some(5), y = 10\n"
     ]
    },
    {
     "data": {
      "text/plain": [
       "()"
      ]
     },
     "execution_count": 22,
     "metadata": {},
     "output_type": "execute_result"
    }
   ],
   "source": [
    "{\n",
    "\n",
    "    let x = Some(5);\n",
    "    let y = 10;\n",
    "\n",
    "    match x {\n",
    "        Some(50) => println!(\"Go 50\"),\n",
    "        // Here we capture match expression 'x' in 'n' variable\n",
    "        // and use the outer 'y' variable to compare!\n",
    "        Some(n) if n == y => println!(\"Matched, n = {}\", n),\n",
    "        // previously we shadowed 'y' with value of match expression 'x'\n",
    "        // Some(y) => println!(\"Matched, y = {}\", y),\n",
    "        _ => println!(\"Default case, x = {:?}\", x),\n",
    "    }\n",
    "\n",
    "    println!(\"At the end: x = {:?}, y = {}\", x, y);\n",
    "\n",
    "}"
   ]
  },
  {
   "cell_type": "markdown",
   "metadata": {},
   "source": [
    "> Listing 18-27: Using a match guard to test for equality with an outer variable\n",
    "\n",
    "This code will now print Default case, x = Some(5). The pattern in the :  \n",
    "\n",
    "- second match arm doesn’t introduce a new variable y  \n",
    "- that would shadow the outer y,  \n",
    "- meaning we can use the outer y in the match guard. \n",
    "- Instead of specifying the pattern as Some(y), \n",
    "- which would have shadowed the outer y, \n",
    "\n",
    "We specify Some(n). \n",
    "- This creates a new variable n that doesn’t shadow anything \n",
    "- because there is no n variable outside the match.\n",
    "\n",
    "The match guard if n == y is not a pattern and therefore doesn’t introduce new  \n",
    "variables. This y is the outer y rather than a new shadowed y, and we can look  \n",
    "for a value that has the same value as the outer y by comparing n to y.\n",
    "\n",
    "You can also use the or operator | in a match guard to specify multiple  \n",
    "patterns; the match guard condition will apply to all the patterns.  \n",
    "\n",
    "> Listing 18-28 shows the precedence when combining a pattern that uses | with  \n",
    "a match guard. The important part of this example is that the if y match guard  \n",
    "applies to 4, 5, and 6, even though it might look like if y only applies to 6."
   ]
  },
  {
   "cell_type": "code",
   "execution_count": 8,
   "metadata": {
    "vscode": {
     "languageId": "rust"
    }
   },
   "outputs": [
    {
     "name": "stdout",
     "output_type": "stream",
     "text": [
      "no\n"
     ]
    },
    {
     "data": {
      "text/plain": [
       "()"
      ]
     },
     "execution_count": 8,
     "metadata": {},
     "output_type": "execute_result"
    }
   ],
   "source": [
    "{\n",
    "\n",
    "    let x = 4;\n",
    "    let y = false;\n",
    "\n",
    "    // @audit : Explain what is happening here\n",
    "    match x {\n",
    "        4 | 5 | 6 if y => println!(\"yes\"),\n",
    "        _ => println!(\"no\"),\n",
    "    }\n",
    "\n",
    "}"
   ]
  },
  {
   "cell_type": "markdown",
   "metadata": {},
   "source": [
    "> Listing 18-28: Combining multiple patterns with a match guard\n",
    "\n",
    "The match condition states that the arm only matches :  \n",
    "\n",
    "- if the value of x is equal to 4, 5, or 6  \n",
    "- and if y is true.  \n",
    "\n",
    "When this code runs :  \n",
    "\n",
    "- the pattern of the first arm matches because x is 4,  \n",
    "- but the match guard if y is false,  \n",
    "- so the first arm is not chosen.  \n",
    "\n",
    "The code moves on to the second arm :  \n",
    "\n",
    "- which does match, and \n",
    "- this program prints no.  \n",
    "\n",
    "The reason is that the if condition applies to the whole pattern 4 | 5 | 6,  \n",
    "not only to the last value 6. In other words, the precedence of a match guard  \n",
    "in relation to a pattern behaves like this:\n",
    "\n",
    "```rust\n",
    "(4 | 5 | 6) if y => ...\n",
    "```\n",
    "\n",
    "rather than this:\n",
    "\n",
    "```rust\n",
    "4 | 5 | (6 if y) => ...\n",
    "```\n",
    "\n",
    "After running the code, the precedence behavior is evident:  \n",
    "\n",
    "- if the match guard were applied only to the final value in the list of values  \n",
    "specified using the | operator,  \n",
    "- the arm would have matched and the program would have printed yes."
   ]
  },
  {
   "cell_type": "markdown",
   "metadata": {},
   "source": [
    "### @ Bindings\n",
    "\n",
    "The at operator @ lets us create a variable that holds a value at the same time  \n",
    "as we’re testing that value for a pattern match. In Listing 18-29, we want to  \n",
    "test that a Message::Hello id field is within the range 3..=7. We also want to  \n",
    "bind the value to the variable id_variable so we can use it in the code  \n",
    "associated with the arm. We could name this variable id, the same as the field,  \n",
    "but for this example we’ll use a different name."
   ]
  },
  {
   "cell_type": "code",
   "execution_count": 12,
   "metadata": {
    "vscode": {
     "languageId": "rust"
    }
   },
   "outputs": [
    {
     "name": "stdout",
     "output_type": "stream",
     "text": [
      "Found an id in range: 5\n"
     ]
    },
    {
     "data": {
      "text/plain": [
       "()"
      ]
     },
     "execution_count": 12,
     "metadata": {},
     "output_type": "execute_result"
    }
   ],
   "source": [
    "enum Message {\n",
    "    Hello { id: i32 }, \n",
    "}\n",
    "\n",
    "{\n",
    "    let msg = Message::Hello { id: 5 };\n",
    "\n",
    "    match msg {\n",
    "        Message::Hello {\n",
    "            id : id_variable @ 3..=7,\n",
    "        } => println!(\"Found an id in range: {}\", id_variable),\n",
    "        Message::Hello { id: 10..=12 } => {\n",
    "            println!(\"Found an id in another range\")\n",
    "        }\n",
    "        Message::Hello { id } => println!(\"Found some other id: {}\", id),\n",
    "    }\n",
    "\n",
    "}"
   ]
  },
  {
   "cell_type": "markdown",
   "metadata": {},
   "source": [
    "> Listing 18-29: Using @ to bind to a value in a pattern while also testing it\n",
    "\n",
    "This example will print Found an id in range: 5.  \n",
    "\n",
    "By specifying id_variable @ before the range 3..=7, we’re capturing whatever  \n",
    "value matched the range while also testing that the value matched the range  \n",
    "pattern.\n",
    "\n",
    "In the second arm, where we only have a range specified in the pattern, the  \n",
    "code associated with the arm doesn’t have a variable that contains the actual  \n",
    "value of the id field. The id field’s value could have been 10, 11, or 12, but  \n",
    "the code that goes with that pattern doesn’t know which it is. The pattern code  \n",
    "isn’t able to use the value from the id field, because we haven’t saved the id  \n",
    "value in a variable.\n",
    "\n",
    "In the last arm, where we’ve specified a variable without a range, we do have  \n",
    "the value available to use in the arm’s code in a variable named id. The reason  \n",
    "is that we’ve used the struct field shorthand syntax. But we haven’t applied  \n",
    "any test to the value in the id field in this arm, as we did with the first  \n",
    "two arms: any value would match this pattern.\n",
    "\n",
    "Using @ lets us test a value and save it in a variable within one pattern."
   ]
  },
  {
   "cell_type": "markdown",
   "metadata": {},
   "source": [
    "Summary\n",
    "---\n",
    "\n",
    "Rust’s patterns are very useful in distinguishing between different kinds of  \n",
    "data. When used in match expressions, Rust ensures your patterns cover every  \n",
    "possible value, or your program won’t compile. Patterns in let statements and  \n",
    "function parameters make those constructs more useful, enabling the  \n",
    "destructuring of values into smaller parts at the same time as assigning to  \n",
    "variables. We can create simple or complex patterns to suit our needs.\n",
    "\n",
    "Next, for the penultimate chapter of the book, we’ll look at some advanced  \n",
    "aspects of a variety of Rust’s features."
   ]
  }
 ],
 "metadata": {
  "kernelspec": {
   "display_name": "Rust",
   "language": "rust",
   "name": "rust"
  },
  "language_info": {
   "codemirror_mode": "rust",
   "file_extension": ".rs",
   "mimetype": "text/rust",
   "name": "Rust",
   "pygment_lexer": "rust",
   "version": ""
  },
  "orig_nbformat": 4
 },
 "nbformat": 4,
 "nbformat_minor": 2
}
