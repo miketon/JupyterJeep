{
 "cells": [
  {
   "attachments": {},
   "cell_type": "markdown",
   "metadata": {},
   "source": [
    "Patterns And Matching\n",
    "---\n",
    "\n",
    "Patterns are a special syntax in Rust for matching against the structure of  \n",
    "types, both complex and simple. Using patterns in conjunction with match  \n",
    "expressions and other constructs gives you more control over a program’s  \n",
    "control flow. A pattern consists of some combination of the following:\n",
    "\n",
    "- Literals\n",
    "- Destructured arrays, enums, structs, or tuples\n",
    "- Variables\n",
    "- Wildcards\n",
    "- Placeholders\n",
    "\n",
    "Some example patterns include x, (a, 3), and Some(Color::Red). In the contexts  \n",
    "in which patterns are valid, these components describe the shape of data. Our  \n",
    "program then matches values against the patterns to determine whether it has  \n",
    "the correct shape of data to continue running a particular piece of code.\n",
    "\n",
    "To use a pattern, we compare it to some value. If the pattern matches the value,  \n",
    "we use the value parts in our code. Recall the match expressions in Chapter 6  \n",
    "that used patterns, such as the coin-sorting machine example. If the value fits  \n",
    "the shape of the pattern, we can use the named pieces. If it doesn’t, the code  \n",
    "associated with the pattern won’t run.\n",
    "\n",
    "This chapter is a reference on all things related to patterns. We’ll cover the  \n",
    "valid places to use patterns, the difference between refutable and irrefutable  \n",
    "patterns, and the different kinds of pattern syntax that you might see. By the  \n",
    "end of the chapter, you’ll know how to use patterns to express many concepts in  \n",
    "a clear way."
   ]
  },
  {
   "cell_type": "markdown",
   "metadata": {},
   "source": [
    "All the Places Patterns Can Be Used\n",
    "---\n",
    "\n",
    "Patterns pop up in a number of places in Rust, and you’ve been using them a lot  \n",
    "without realizing it! This section discusses all the places where patterns are  \n",
    "valid.\n",
    "\n",
    "### `match` Arms\n",
    "\n",
    "As discussed in Chapter 6, we use patterns in the arms of match expressions.  \n",
    "Formally, match expressions are defined as :  \n",
    "\n",
    "- the `keyword` match,  \n",
    "- a `value` to match on, and  \n",
    "- one or more `match arms` that consist of a pattern and an expression to run if  \n",
    "the value matches that arm’s pattern, \n",
    "\n",
    "like this:\n",
    "\n",
    "```rust\n",
    "match VALUE {\n",
    "    PATTERN => EXPRESSION,\n",
    "    PATTERN => EXPRESSION,\n",
    "    PATTERN => EXPRESSION,\n",
    "}\n",
    "```\n",
    "\n",
    "For example, here's the match expression from Listing 6-5 that matches on an  \n",
    "`Option<i32>` value in the variable `x` :\n",
    "\n",
    "```rust\n",
    "match x {\n",
    "    None => None,\n",
    "    Some(i) => Some(i + 1),\n",
    "}\n",
    "```\n",
    "\n",
    "\n",
    "The patterns in this match expression are the `None` and `Some(i)` on the left  \n",
    "of each arrow.\n",
    "\n",
    "One requirement for match expressions is that they need to be `exhaustive` in  \n",
    "the sense that all possibilities for the value in the match expression must be  \n",
    "accounted for. \n",
    "\n",
    "One way to ensure you’ve covered every possibility is to have a catchall pattern  \n",
    "for the last arm: for example, a variable name matching any value can never fail  \n",
    "and thus covers every remaining case.\n",
    "\n",
    "The particular pattern _ will match anything, but it never binds to a variable,  \n",
    "so it’s often used in the last match arm. The _ pattern can be useful when you  \n",
    "want to ignore any value not specified, for example. We’ll cover the _ pattern  \n",
    "in more detail in the “Ignoring Values in a Pattern” section later in this  \n",
    "chapter."
   ]
  },
  {
   "cell_type": "markdown",
   "metadata": {},
   "source": [
    "### Conditional `if let` Expressions\n",
    "\n",
    "In Chapter 6 we discussed how to use if let expressions mainly as a shorter way  \n",
    "to write the equivalent of a match that only matches one case. Optionally,  \n",
    "`if let` can have a corresponding else containing code to run if the pattern in  \n",
    "the if let doesn’t match.\n",
    "\n",
    "Listing 18-1 shows that it’s also possible to mix and match : \n",
    "\n",
    "- `if let`,  \n",
    "- `else if`, and  \n",
    "- `else if let` expressions. \n",
    "\n",
    "Doing so gives us more flexibility than a match expression in which we can  \n",
    "express only one value to compare with the patterns. Also, Rust doesn't require  \n",
    "that the conditions in a series of if let, else if, else if let arms relate to  \n",
    "each other.\n",
    "\n",
    "The code in Listing 18-1 determines what color to make your background based on  \n",
    "a series of checks for several conditions. For this example, we’ve created  \n",
    "variables with hardcoded values that a real program might receive from user  \n",
    "input.\n",
    "\n",
    "> Filename: src/main.rs"
   ]
  },
  {
   "cell_type": "code",
   "execution_count": 5,
   "metadata": {
    "vscode": {
     "languageId": "rust"
    }
   },
   "outputs": [
    {
     "name": "stdout",
     "output_type": "stream",
     "text": [
      "Using orange as the background color\n"
     ]
    },
    {
     "data": {
      "text/plain": [
       "()"
      ]
     },
     "execution_count": 5,
     "metadata": {},
     "output_type": "execute_result"
    }
   ],
   "source": [
    "{\n",
    "\n",
    "let favorite_color : Option<&str> = None;\n",
    "let is_tuesday = false;\n",
    "let age: Result<u8, _> = \"23\".parse();\n",
    "\n",
    "if let Some(color) = favorite_color {\n",
    "    println!(\"Using your favorite color, {}, as the background\", color);\n",
    "} else if is_tuesday {\n",
    "    println!(\"Tuesday is a greend day\");\n",
    "} else if let Ok(age) = age {\n",
    "    if age > 30 {\n",
    "        println!(\"Using purple as the background color\");\n",
    "    } else {\n",
    "        println!(\"Using orange as the background color\");\n",
    "    }\n",
    "} else {\n",
    "    println!(\"Using blue as the background color\");\n",
    "}\n",
    "\n",
    "}"
   ]
  },
  {
   "cell_type": "markdown",
   "metadata": {},
   "source": [
    "> Listing 18-1: Mixing if let, else if, else if let, and else\n",
    "\n",
    "If the user specifies a favorite color, that color is used as the background.  \n",
    "If no favorite color is specified and today is Tuesday, the background color is  \n",
    "green. Otherwise, if the user specifies their age as a string and we can parse  \n",
    "it as a number successfully, the color is either purple or orange depending on  \n",
    "the value of the number. If none of these conditions apply, the background color  \n",
    "is blue.\n",
    "\n",
    "This conditional structure lets us support complex requirements. With the  \n",
    "hardcoded values we have here, this example will print Using purple as the  \n",
    "background color.\n",
    "\n",
    "You can see that if let can also introduce shadowed variables in the same way  \n",
    "that match arms can:  \n",
    "\n",
    "- the line if let Ok(age) = age introduces a new shadowed age variable that  \n",
    "contains the value inside the Ok variant.  \n",
    "\n",
    "This means we need to place the if age > 30 condition within that block:   \n",
    "- we can’t combine these two conditions into if let Ok(age) = age && age > 30.  \n",
    "\n",
    "The shadowed age we want to compare to 30 isn’t valid until the new scope starts  \n",
    "with the curly bracket.\n",
    "\n",
    "The downside of using if let expressions is that the compiler doesn’t check for  \n",
    "exhaustiveness, whereas with match expressions it does. If we omitted the last  \n",
    "else block and therefore missed handling some cases, the compiler would not  \n",
    "alert us to the possible logic bug."
   ]
  },
  {
   "cell_type": "markdown",
   "metadata": {},
   "source": [
    "### `while let` Conditional Loops\n",
    "\n",
    "Similar in construction to if let, the `while let` conditional loop allows a  \n",
    "while loop to run for as long as a pattern continues to match. In Listing 18-2  \n",
    "we code a while let loop that uses a vector as a stack and prints the values in  \n",
    "the vector in the opposite order in which they were pushed."
   ]
  },
  {
   "cell_type": "code",
   "execution_count": 6,
   "metadata": {
    "vscode": {
     "languageId": "rust"
    }
   },
   "outputs": [
    {
     "name": "stdout",
     "output_type": "stream",
     "text": [
      "3\n",
      "2\n",
      "1\n"
     ]
    },
    {
     "data": {
      "text/plain": [
       "()"
      ]
     },
     "execution_count": 6,
     "metadata": {},
     "output_type": "execute_result"
    }
   ],
   "source": [
    "let mut stack = Vec::new();\n",
    "\n",
    "stack.push(1);\n",
    "stack.push(2);\n",
    "stack.push(3);\n",
    "\n",
    "while let Some(top) = stack.pop() {\n",
    "    println!(\"{}\", top);\n",
    "}"
   ]
  },
  {
   "cell_type": "markdown",
   "metadata": {},
   "source": [
    "Listing 18-2: Using a while let loop to print values for as long as stack.pop()  \n",
    "returns Some\n",
    "\n",
    "This example prints 3, 2, and then 1. The pop method takes the last element out  \n",
    "of the vector and returns Some(value). If the vector is empty, pop returns None.  \n",
    "The while loop continues running the code in its block as long as pop returns  \n",
    "Some. When pop returns None, the loop stops. We can use while let to pop every  \n",
    "element off our stack."
   ]
  }
 ],
 "metadata": {
  "kernelspec": {
   "display_name": "Rust",
   "language": "rust",
   "name": "rust"
  },
  "language_info": {
   "codemirror_mode": "rust",
   "file_extension": ".rs",
   "mimetype": "text/rust",
   "name": "Rust",
   "pygment_lexer": "rust",
   "version": ""
  },
  "orig_nbformat": 4
 },
 "nbformat": 4,
 "nbformat_minor": 2
}
