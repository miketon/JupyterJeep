{
 "cells": [
  {
   "attachments": {},
   "cell_type": "markdown",
   "metadata": {},
   "source": [
    "Unwrap\n",
    "---\n",
    "\n",
    "Example of a Rust program that uses **`unwrap`** :\n",
    "\n",
    "- attempts to **`parse`** a float from a **`string`** \n",
    "- The use of **`unwrap`** in this example is **`not recommended`** because it can  \n",
    "cause the program to panic if the user input is not a valid number"
   ]
  },
  {
   "cell_type": "code",
   "execution_count": 24,
   "metadata": {},
   "outputs": [],
   "source": [
    "/// directly parse and unwrap works as a golden path\n",
    "fn parse_float_with_unwrap(value_as_string: &str) {\n",
    "    let float_value = value_as_string.parse::<f32>().unwrap();\n",
    "    println!(\"float_value {} unwrapped -> '{}'\", float_value, value_as_string);\n",
    "}\n",
    "\n",
    "/// parse and handle if error\n",
    "fn parse_float_with_result(value_as_string: &str){\n",
    "    let float_value = match value_as_string.parse::<f32>() {\n",
    "        Ok(value) => value,\n",
    "        Err(e) => {\n",
    "            eprintln!(\"Error : {} -> parsing '{}'\", e, value_as_string);\n",
    "            return;\n",
    "        }\n",
    "    };\n",
    "    println!(\"float_value {} result -> '{}'\", float_value, value_as_string);\n",
    "}"
   ]
  },
  {
   "attachments": {},
   "cell_type": "markdown",
   "metadata": {},
   "source": [
    "The order of the output may appear unexpected because :  \n",
    "- `println!` and `eprintln!` write to different output streams.  \n",
    "- `println!` writes to the standard output (stdout),  \n",
    "- while `eprintln!` writes to the standard error (stderr) stream. \n",
    "\n",
    "Both streams are usually displayed together in the console, but they are  \n",
    "buffered separately, so their order might not be strictly preserved.  \n",
    "\n",
    "The `println!` and `eprintln!` calls within these functions may produce output  \n",
    "in an order that doesn't match the order of the function calls. This is due to  \n",
    "the buffering behavior of the stdout and stderr streams.\n",
    "\n",
    "***\n",
    "\n",
    "To ensure that the output appears in the expected order, you can flush the  \n",
    "stdout buffer after each `println!` call by adding the following code:\n",
    "\n",
    "```rust\n",
    "use std::io::{self, Write};\n",
    "\n",
    "// Add this line after each println! call\n",
    "io::stdout().flush().unwrap();\n",
    "```\n"
   ]
  },
  {
   "cell_type": "code",
   "execution_count": 25,
   "metadata": {},
   "outputs": [
    {
     "name": "stdout",
     "output_type": "stream",
     "text": [
      "float_value 1 unwrapped -> '1.0'\n",
      "float_value 1 unwrapped -> '1'\n",
      "float_value 1 result -> '1.0'\n",
      "float_value 1 result -> '1'\n"
     ]
    },
    {
     "name": "stderr",
     "output_type": "stream",
     "text": [
      "Error : invalid float literal -> parsing '1x'\n",
      "Error : invalid float literal -> parsing '1.0x'\n"
     ]
    }
   ],
   "source": [
    "parse_float_with_unwrap(\"1.0\");\n",
    "parse_float_with_unwrap(\"1\");\n",
    "// invalid park would panic thread\n",
    "// parse_float_with_unwrap(\"1x\"); \n",
    "// invalid park with result error messages gracefully\n",
    "parse_float_with_result(\"1x\");\n",
    "parse_float_with_result(\"1.0x\");\n",
    "// as well as handle the valid parses\n",
    "parse_float_with_result(\"1.0\");\n",
    "parse_float_with_result(\"1\");"
   ]
  }
 ],
 "metadata": {
  "kernelspec": {
   "display_name": "Rust",
   "language": "rust",
   "name": "rust"
  },
  "language_info": {
   "codemirror_mode": "rust",
   "file_extension": ".rs",
   "mimetype": "text/rust",
   "name": "rust",
   "pygment_lexer": "rust",
   "version": ""
  },
  "orig_nbformat": 4
 },
 "nbformat": 4,
 "nbformat_minor": 2
}
