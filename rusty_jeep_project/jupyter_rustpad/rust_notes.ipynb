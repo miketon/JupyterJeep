{
 "cells": [
  {
   "cell_type": "code",
   "execution_count": 2,
   "metadata": {},
   "outputs": [
    {
     "name": "stdout",
     "output_type": "stream",
     "text": [
      "Name: pygame\n",
      "Version: 2.3.0\n",
      "Summary: Python Game Development\n",
      "Home-page: https://www.pygame.org\n",
      "Author: A community project.\n",
      "Author-email: pygame@pygame.org\n",
      "License: LGPL\n",
      "Location: /Users/mton/miniconda3/envs/torch-gpu/lib/python3.9/site-packages\n",
      "Requires: \n",
      "Required-by: \n",
      "Note: you may need to restart the kernel to use updated packages.\n"
     ]
    }
   ],
   "source": [
    "%pip show pygame"
   ]
  },
  {
   "cell_type": "code",
   "execution_count": 5,
   "metadata": {},
   "outputs": [
    {
     "name": "stdout",
     "output_type": "stream",
     "text": [
      "\u001b[1minfo:\u001b[0m downloading installer\n",
      "\u001b[1m\n",
      "Welcome to Rust!\n",
      "\u001b[m\n",
      "This will download and install the official compiler for the Rust\n",
      "programming language, and its package manager, Cargo.\n",
      "\n",
      "Rustup metadata and toolchains will be installed into the Rustup\n",
      "home directory, located at:\n",
      "\n",
      "  /Users/mton/.rustup\n",
      "\n",
      "This can be modified with the RUSTUP_HOME environment variable.\n",
      "\n",
      "The Cargo home directory is located at:\n",
      "\n",
      "  /Users/mton/.cargo\n",
      "\n",
      "This can be modified with the CARGO_HOME environment variable.\n",
      "\n",
      "The \u001b[1mcargo\u001b[m, \u001b[1mrustc\u001b[m, \u001b[1mrustup\u001b[m and other commands will be added to\n",
      "Cargo's bin directory, located at:\n",
      "\n",
      "  /Users/mton/.cargo/bin\n",
      "\n",
      "This path will then be added to your \u001b[1mPATH\u001b[m environment variable by\n",
      "modifying the profile files located at:\n",
      "\n",
      "  /Users/mton/.profile\n",
      "  /Users/mton/.bash_profile\n",
      "  /Users/mton/.bashrc\n",
      "  /Users/mton/.zshenv\n",
      "\n",
      "You can uninstall at any time with \u001b[1mrustup self uninstall\u001b[m and\n",
      "these changes will be reverted.\n",
      "\n",
      "Current installation options:\n",
      "\n",
      "\n",
      "\u001b[1m   \u001b[mdefault host triple: \u001b[1maarch64-apple-darwin\u001b[m\n",
      "\u001b[1m     \u001b[mdefault toolchain: \u001b[1mstable (default)\u001b[m\n",
      "\u001b[1m               \u001b[mprofile: \u001b[1mdefault\u001b[m\n",
      "  modify PATH variable: \u001b[1myes\u001b[m\n",
      "\n",
      "1) Proceed with installation (default)\n",
      "2) Customize installation\n",
      "3) Cancel installation\n",
      ">^C\n"
     ]
    }
   ],
   "source": [
    "!curl --proto '=https' --tlsv1.2 -sSf https://sh.rustup.rs | sh"
   ]
  },
  {
   "cell_type": "code",
   "execution_count": 4,
   "metadata": {},
   "outputs": [
    {
     "name": "stdout",
     "output_type": "stream",
     "text": [
      "rustc 1.69.0 (84c898d65 2023-04-16)\n"
     ]
    }
   ],
   "source": [
    "!rustc --version"
   ]
  },
  {
   "cell_type": "code",
   "execution_count": 3,
   "metadata": {},
   "outputs": [
    {
     "name": "stdout",
     "output_type": "stream",
     "text": [
      "\u001b[0m\u001b[0m\u001b[1m\u001b[32m    Updating\u001b[0m crates.io index\n",
      "\u001b[Km\u001b[0m\u001b[1m\u001b[36m       Fetch\u001b[0m [                         ]   0.00%, 1.75KiB/s                   \u001b[0m\u001b[0m\u001b[1m\u001b[32m     Ignored\u001b[0m package `evcxr_jupyter v0.14.2` is already installed, use --force to override\n"
     ]
    }
   ],
   "source": [
    "!cargo install evcxr_jupyter"
   ]
  },
  {
   "cell_type": "code",
   "execution_count": 9,
   "metadata": {},
   "outputs": [
    {
     "name": "stdout",
     "output_type": "stream",
     "text": [
      "Writing /Users/mton/Library/Jupyter/kernels/rust/kernel.json\n",
      "Writing /Users/mton/Library/Jupyter/kernels/rust/logo-32x32.png\n",
      "Writing /Users/mton/Library/Jupyter/kernels/rust/logo-64x64.png\n",
      "Writing /Users/mton/Library/Jupyter/kernels/rust/logo-LICENSE.md\n",
      "Writing /Users/mton/Library/Jupyter/kernels/rust/kernel.js\n",
      "Writing /Users/mton/Library/Jupyter/kernels/rust/lint.js\n",
      "Writing /Users/mton/Library/Jupyter/kernels/rust/lint.css\n",
      "Writing /Users/mton/Library/Jupyter/kernels/rust/lint-LICENSE\n",
      "Writing /Users/mton/Library/Jupyter/kernels/rust/version.txt\n",
      "Installation complete\n"
     ]
    }
   ],
   "source": [
    "!evcxr_jupyter --install"
   ]
  },
  {
   "cell_type": "code",
   "execution_count": 10,
   "metadata": {},
   "outputs": [
    {
     "name": "stdout",
     "output_type": "stream",
     "text": [
      "Unable to load extension: pydevd_plugins.extensions.types.pydevd_plugin_pandas_types\n",
      "Available kernels:\n",
      "  python3    /Users/mton/Library/Jupyter/kernels/python3\n",
      "  rust       /Users/mton/Library/Jupyter/kernels/rust\n"
     ]
    }
   ],
   "source": [
    "!jupyter kernelspec list"
   ]
  },
  {
   "cell_type": "code",
   "execution_count": 1,
   "metadata": {},
   "outputs": [
    {
     "name": "stdout",
     "output_type": "stream",
     "text": [
      "Name: pygame\n",
      "Version: 2.3.0\n",
      "Summary: Python Game Development\n",
      "Home-page: https://www.pygame.org\n",
      "Author: A community project.\n",
      "Author-email: pygame@pygame.org\n",
      "License: LGPL\n",
      "Location: /Users/mton/miniconda3/envs/torch-gpu/lib/python3.9/site-packages\n",
      "Requires: \n",
      "Required-by: \n"
     ]
    }
   ],
   "source": [
    "!pip show pygame"
   ]
  }
 ],
 "metadata": {
  "kernelspec": {
   "display_name": "torch-gpu",
   "language": "python",
   "name": "python3"
  },
  "language_info": {
   "codemirror_mode": {
    "name": "ipython",
    "version": 3
   },
   "file_extension": ".py",
   "mimetype": "text/x-python",
   "name": "python",
   "nbconvert_exporter": "python",
   "pygments_lexer": "ipython3",
   "version": "3.9.13"
  },
  "orig_nbformat": 4
 },
 "nbformat": 4,
 "nbformat_minor": 2
}
