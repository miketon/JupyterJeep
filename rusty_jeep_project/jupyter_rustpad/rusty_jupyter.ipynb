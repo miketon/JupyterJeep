{
 "cells": [
  {
   "cell_type": "code",
   "execution_count": 2,
   "metadata": {
    "vscode": {
     "languageId": "rust"
    }
   },
   "outputs": [
    {
     "name": "stdout",
     "output_type": "stream",
     "text": [
      "Hello, world! From Jupyter Notebook Rust Kernel\n"
     ]
    },
    {
     "data": {
      "text/plain": [
       "()"
      ]
     },
     "execution_count": 2,
     "metadata": {},
     "output_type": "execute_result"
    }
   ],
   "source": [
    "println!(\"Hello, world! From Jupyter Notebook Rust Kernel\")"
   ]
  },
  {
   "cell_type": "code",
   "execution_count": 3,
   "metadata": {
    "vscode": {
     "languageId": "rust"
    }
   },
   "outputs": [
    {
     "data": {
      "text/plain": [
       "13"
      ]
     },
     "execution_count": 3,
     "metadata": {},
     "output_type": "execute_result"
    }
   ],
   "source": [
    "let a = 13;\n",
    "a"
   ]
  },
  {
   "cell_type": "code",
   "execution_count": 9,
   "metadata": {
    "vscode": {
     "languageId": "rust"
    }
   },
   "outputs": [
    {
     "name": "stdout",
     "output_type": "stream",
     "text": [
      "Guess the number!\n",
      "Please input your guess.\n"
     ]
    }
   ],
   "source": [
    "use std::io;\n",
    "\n",
    "fn main(){\n",
    "    println!(\"Guess the number!\");\n",
    "    println!(\"Please input your guess.\");\n",
    "    let mut guess = String::new();\n",
    "    io::stdin()\n",
    "        .read_line(&mut guess)\n",
    "        .expect(\"Failed to read line\");\n",
    "\n",
    "    println!(\"You guessed: {guess}\")\n",
    "}\n",
    "\n",
    "main()"
   ]
  },
  {
   "attachments": {},
   "cell_type": "markdown",
   "metadata": {},
   "source": [
    "#### **BEVY**\n",
    "***"
   ]
  },
  {
   "cell_type": "code",
   "execution_count": 2,
   "metadata": {
    "vscode": {
     "languageId": "rust"
    }
   },
   "outputs": [],
   "source": [
    "extern crate bevy;"
   ]
  },
  {
   "cell_type": "code",
   "execution_count": 3,
   "metadata": {
    "vscode": {
     "languageId": "rust"
    }
   },
   "outputs": [],
   "source": [
    "use bevy::prelude::*;\n",
    "\n",
    "fn main() {\n",
    "    App::new()\n",
    "        .add_system(hello_world)\n",
    "        .run();\n",
    "}\n",
    "\n",
    "fn hello_world(){\n",
    "    println!(\"Hello Mike Books\");\n",
    "}\n",
    "\n",
    "/* \n",
    "pub struct HelloPlugin;\n",
    "impl Plugin for HelloPlugin{\n",
    "    fn build(&self, app: &mut App)\n",
    "}\n",
    "*/"
   ]
  }
 ],
 "metadata": {
  "kernelspec": {
   "display_name": "Rust",
   "language": "rust",
   "name": "rust"
  },
  "language_info": {
   "codemirror_mode": "rust",
   "file_extension": ".rs",
   "mimetype": "text/rust",
   "name": "Rust",
   "pygment_lexer": "rust",
   "version": ""
  },
  "orig_nbformat": 4
 },
 "nbformat": 4,
 "nbformat_minor": 2
}
