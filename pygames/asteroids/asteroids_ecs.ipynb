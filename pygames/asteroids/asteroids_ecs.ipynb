{
 "cells": [
  {
   "attachments": {},
   "cell_type": "markdown",
   "metadata": {},
   "source": [
    "#### -- [INIT] -- \n",
    "***"
   ]
  },
  {
   "cell_type": "code",
   "execution_count": 22,
   "metadata": {},
   "outputs": [],
   "source": [
    "import pygame\n",
    "from typing import NamedTuple\n",
    "import os\n",
    "import sys\n",
    "\n",
    "class SystemContext(NamedTuple):\n",
    "    screen :pygame.Surface\n",
    "    clock :pygame.time.Clock\n",
    "\n",
    "# System Context will be init on awake\n",
    "class RenderContext(NamedTuple):\n",
    "    WIDTH :int\n",
    "    HEIGHT :int\n",
    "    BACKGROUND_COLOR :tuple\n",
    "    FPS :int\n",
    "\n",
    "class AssetContext(NamedTuple):\n",
    "    ASSET_FOLDER_PATH :str\n",
    "\n",
    "# Statically define CONTEXT CONSTANTS\n",
    "RENDER_CONTEXT = RenderContext(\n",
    "    640, # RESOLUTION_WIDTH\n",
    "    480, # RESOLUTION_HEIGHT\n",
    "    (255, 255, 0), # BACKGROUND_COLOR\n",
    "    5 # FPS\n",
    ")\n",
    "\n",
    "ASSET_CONTEXT = AssetContext(\n",
    "    ASSET_FOLDER_PATH = os.path.join('assets','images')\n",
    ")\n",
    "\n",
    "def on_awake()-> SystemContext:\n",
    "    ''' \n",
    "    Initialize pygame\n",
    "    - SYS_SCREEN\n",
    "    - SYS_CLOCK\n",
    "    '''\n",
    "    # Initialize pygame\n",
    "    pygame.init()\n",
    "    # Initialize the screen\n",
    "    screen = pygame.display.set_mode(\n",
    "        # @audit-ok 💨 : Use `HWSURFACE` and `DOUBLEBUF` for better performance\n",
    "        (RENDER_CONTEXT.WIDTH, RENDER_CONTEXT.HEIGHT),\n",
    "        pygame.HWSURFACE | pygame.DOUBLEBUF)\n",
    "    # Initialize the clock\n",
    "    # @audit-ok 💨 : Cap the frame rate else loop will run at system allows and \n",
    "    # # will lead to :\n",
    "    # - high CPU usage\n",
    "    # - inconsistent performance across different devices. \n",
    "    clock = pygame.time.Clock()\n",
    "\n",
    "    # Set the title and icon (optional)\n",
    "    pygame.display.set_caption('Asteroids_ECS_Edition')\n",
    "    icon = pygame.image.load(\n",
    "        os.path.join(ASSET_CONTEXT.ASSET_FOLDER_PATH, 'app_icon.jpg')\n",
    "    ).convert_alpha()\n",
    "    pygame.display.set_icon(icon)\n",
    "\n",
    "    return SystemContext(screen, clock)\n",
    "\n",
    "def on_exit() -> None :\n",
    "    ''' \n",
    "    Handle exit event\n",
    "    '''\n",
    "    pygame.quit()\n",
    "    sys.exit()"
   ]
  },
  {
   "attachments": {},
   "cell_type": "markdown",
   "metadata": {},
   "source": [
    "ECS Refactor"
   ]
  },
  {
   "attachments": {},
   "cell_type": "markdown",
   "metadata": {},
   "source": [
    "Entity"
   ]
  },
  {
   "cell_type": "code",
   "execution_count": 1,
   "metadata": {},
   "outputs": [],
   "source": [
    "import uuid\n",
    "\n",
    "# Implement a simple Entity class that manages a unique identifier for each entity\n",
    "class Entity:\n",
    "    def __init__(self, id=None):\n",
    "        self.id = id or self.generate_unique_id()\n",
    "\n",
    "    @staticmethod\n",
    "    def generate_unique_id():\n",
    "        return str(uuid.uuid4())"
   ]
  },
  {
   "attachments": {},
   "cell_type": "markdown",
   "metadata": {},
   "source": [
    "Component"
   ]
  },
  {
   "cell_type": "code",
   "execution_count": 2,
   "metadata": {},
   "outputs": [],
   "source": [
    "# Create component classes\n",
    "# These classes should ONLY contain data, NO METHODS\n",
    "class Position:\n",
    "    def __init__(self, x, y):\n",
    "        self.x = x\n",
    "        self.y = y\n",
    "\n",
    "class Health:\n",
    "    def __init__(self, health):\n",
    "        self.health = health"
   ]
  },
  {
   "attachments": {},
   "cell_type": "markdown",
   "metadata": {},
   "source": [
    "Component Manager"
   ]
  },
  {
   "cell_type": "code",
   "execution_count": 3,
   "metadata": {},
   "outputs": [],
   "source": [
    "from abc import ABC, abstractmethod\n",
    "from collections import defaultdict\n",
    "\n",
    "class ComponentManagerInterface(ABC):\n",
    "    @abstractmethod\n",
    "    def add_component(self, entity, component):\n",
    "        'Add a component to an entity'\n",
    "        pass\n",
    "\n",
    "    @abstractmethod\n",
    "    def remove_component(self, entity, component_type):\n",
    "        'Remove a component of a specific type from an entity'\n",
    "        pass\n",
    "\n",
    "    @abstractmethod\n",
    "    def get_component(self, entity, component_type):\n",
    "        'Get a component of a specific type from an entity'\n",
    "        pass\n",
    "\n",
    "    @abstractmethod\n",
    "    def get_entities_with_component(self, component_type):\n",
    "        'Get a list of entities that have a component of a specific type'\n",
    "        pass\n",
    "\n",
    "# Implement a simple ComponentManager class that manages a dictionary of components\n",
    "class ComponentManager(ComponentManagerInterface):\n",
    "    def __init__(self):\n",
    "        # With a `defaultdict`, you can directly add a component without first \n",
    "        # checking if the `entity.id` exists in `self.components`. \n",
    "        # If the `entity.id` is not present, a new dictionary will be created \n",
    "        # automatically :\n",
    "        # - simplifies the code for `add_component`\n",
    "        self.components = defaultdict(dict)\n",
    "\n",
    "    def add_component(self, entity, component):\n",
    "        # defaultdict will automatically create a new dictionary for the entity\n",
    "        # if it does not exist : greatly simplifies the code\n",
    "        self.components[entity.id][type(component)] = component\n",
    "\n",
    "    def remove_component(self, entity, component_type):\n",
    "        if entity.id in self.components and component_type in self.components[entity.id]:\n",
    "            del self.components[entity.id][component_type]\n",
    "\n",
    "    def get_component(self, entity, component_type):\n",
    "        return self.components[entity.id].get(component_type, None)\n",
    "\n",
    "    def get_entities_with_component(self, component_type):\n",
    "        entities = []\n",
    "        for entity_id, components in self.components.items():\n",
    "            if component_type in components:\n",
    "                entities.append(Entity(entity_id))\n",
    "        return entities\n"
   ]
  },
  {
   "attachments": {},
   "cell_type": "markdown",
   "metadata": {},
   "source": [
    "System\n"
   ]
  },
  {
   "cell_type": "code",
   "execution_count": 27,
   "metadata": {},
   "outputs": [],
   "source": [
    "from numpy import random\n",
    "# Implement Systems that operate on the components\n",
    "class MovementSystem:\n",
    "    def update(self, component_manager, delta_time):\n",
    "        entities = component_manager.get_entities_with_component(Position)\n",
    "        for entity in entities:\n",
    "            position = component_manager.get_component(entity, Position)\n",
    "            position.x += 1 * delta_time\n",
    "            position.y += 1 * delta_time\n",
    "\n",
    "class RenderSystem:\n",
    "    def __init__(self, screen :pygame.Surface, clock :pygame.time.Clock):\n",
    "        self.screen = screen\n",
    "        self.clock = clock\n",
    "\n",
    "    def update(self):\n",
    "        # Fill the screen with the background color\n",
    "        rgb_random = (random.randint(0, 255), random.randint(0, 255), random.randint(0, 255))\n",
    "        # self.screen.fill(RENDER_CONTEXT.BACKGROUND_COLOR)\n",
    "        self.screen.fill(rgb_random)\n",
    "\n",
    "        # Update the display\n",
    "        pygame.display.update()\n",
    "\n",
    "        # Limit the frame rate\n",
    "        self.clock.tick(RENDER_CONTEXT.FPS)\n"
   ]
  },
  {
   "attachments": {},
   "cell_type": "markdown",
   "metadata": {},
   "source": [
    "On_Update"
   ]
  },
  {
   "cell_type": "code",
   "execution_count": 28,
   "metadata": {},
   "outputs": [],
   "source": [
    "# Initialization\n",
    "context_sys = on_awake()\n",
    "component_manager = ComponentManager()\n",
    "movement_system = MovementSystem()\n",
    "render_system = RenderSystem(context_sys.screen, context_sys.clock)\n",
    "\n",
    "# Create entities and components\n",
    "player = Entity()\n",
    "player_position = Position(0, 0)\n",
    "player_health = Health(100)\n",
    "\n",
    "component_manager.add_component(player, player_position)\n",
    "component_manager.add_component(player, player_health)\n",
    "\n",
    "# Main game loop\n",
    "while True:\n",
    "    try:\n",
    "        # Set the frame rate\n",
    "        context_sys.clock.tick(RENDER_CONTEXT.FPS)\n",
    "        # Event Handling\n",
    "        for event in pygame.event.get():\n",
    "            if event.type == pygame.QUIT:\n",
    "                on_exit()\n",
    "            if event.type == pygame.KEYUP:\n",
    "                if event.key == pygame.K_ESCAPE:\n",
    "                    on_exit()\n",
    "        # Update inputs\n",
    "        # Update positions\n",
    "        movement_system.update(component_manager, 0.016)\n",
    "        # Update the display\n",
    "        render_system.update()\n",
    "            \n",
    "    except SystemExit:\n",
    "        break"
   ]
  }
 ],
 "metadata": {
  "kernelspec": {
   "display_name": "torch-gpu",
   "language": "python",
   "name": "python3"
  },
  "language_info": {
   "codemirror_mode": {
    "name": "ipython",
    "version": 3
   },
   "file_extension": ".py",
   "mimetype": "text/x-python",
   "name": "python",
   "nbconvert_exporter": "python",
   "pygments_lexer": "ipython3",
   "version": "3.9.13"
  },
  "orig_nbformat": 4
 },
 "nbformat": 4,
 "nbformat_minor": 2
}
