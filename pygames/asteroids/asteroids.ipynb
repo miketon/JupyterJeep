{
 "cells": [
  {
   "attachments": {},
   "cell_type": "markdown",
   "metadata": {},
   "source": [
    "Install Pygame"
   ]
  },
  {
   "cell_type": "code",
   "execution_count": 2,
   "metadata": {},
   "outputs": [
    {
     "name": "stdout",
     "output_type": "stream",
     "text": [
      "Collecting pygame\n",
      "  Downloading pygame-2.3.0-cp39-cp39-macosx_11_0_arm64.whl (12.2 MB)\n",
      "\u001b[2K     \u001b[90m━━━━━━━━━━━━━━━━━━━━━━━━━━━━━━━━━━━━━━━━\u001b[0m \u001b[32m12.2/12.2 MB\u001b[0m \u001b[31m1.8 MB/s\u001b[0m eta \u001b[36m0:00:00\u001b[0m00:01\u001b[0m00:01\u001b[0m\n",
      "\u001b[?25hInstalling collected packages: pygame\n",
      "Successfully installed pygame-2.3.0\n",
      "Note: you may need to restart the kernel to use updated packages.\n"
     ]
    }
   ],
   "source": [
    "%pip install pygame"
   ]
  },
  {
   "cell_type": "code",
   "execution_count": 25,
   "metadata": {},
   "outputs": [
    {
     "name": "stdout",
     "output_type": "stream",
     "text": [
      "Collecting svgwrite\n",
      "  Downloading svgwrite-1.4.3-py3-none-any.whl (67 kB)\n",
      "\u001b[2K     \u001b[90m━━━━━━━━━━━━━━━━━━━━━━━━━━━━━━━━━━━━━━━\u001b[0m \u001b[32m67.1/67.1 kB\u001b[0m \u001b[31m941.4 kB/s\u001b[0m eta \u001b[36m0:00:00\u001b[0m \u001b[36m0:00:01\u001b[0m\n",
      "\u001b[?25hInstalling collected packages: svgwrite\n",
      "Successfully installed svgwrite-1.4.3\n",
      "Note: you may need to restart the kernel to use updated packages.\n"
     ]
    }
   ],
   "source": [
    "%pip install svgwrite"
   ]
  },
  {
   "cell_type": "code",
   "execution_count": 27,
   "metadata": {},
   "outputs": [
    {
     "name": "stdout",
     "output_type": "stream",
     "text": [
      "Collecting cairosvg\n",
      "  Downloading CairoSVG-2.7.0-py3-none-any.whl (43 kB)\n",
      "\u001b[2K     \u001b[90m━━━━━━━━━━━━━━━━━━━━━━━━━━━━━━━━━━━━━━━━\u001b[0m \u001b[32m43.2/43.2 kB\u001b[0m \u001b[31m1.8 MB/s\u001b[0m eta \u001b[36m0:00:00\u001b[0m\n",
      "\u001b[?25hRequirement already satisfied: pillow in /Users/mton/miniconda3/envs/torch-gpu/lib/python3.9/site-packages (from cairosvg) (9.2.0)\n",
      "Requirement already satisfied: tinycss2 in /Users/mton/miniconda3/envs/torch-gpu/lib/python3.9/site-packages (from cairosvg) (1.2.1)\n",
      "Collecting cairocffi\n",
      "  Downloading cairocffi-1.5.0.tar.gz (86 kB)\n",
      "\u001b[2K     \u001b[90m━━━━━━━━━━━━━━━━━━━━━━━━━━━━━━━━━━━━━━━━\u001b[0m \u001b[32m86.8/86.8 kB\u001b[0m \u001b[31m2.1 MB/s\u001b[0m eta \u001b[36m0:00:00\u001b[0ma \u001b[36m0:00:01\u001b[0m\n",
      "\u001b[?25h  Installing build dependencies ... \u001b[?25ldone\n",
      "\u001b[?25h  Getting requirements to build wheel ... \u001b[?25ldone\n",
      "\u001b[?25h  Installing backend dependencies ... \u001b[?25ldone\n",
      "\u001b[?25h  Preparing metadata (pyproject.toml) ... \u001b[?25ldone\n",
      "\u001b[?25hCollecting cssselect2\n",
      "  Downloading cssselect2-0.7.0-py3-none-any.whl (15 kB)\n",
      "Requirement already satisfied: defusedxml in /Users/mton/miniconda3/envs/torch-gpu/lib/python3.9/site-packages (from cairosvg) (0.7.1)\n",
      "Requirement already satisfied: cffi>=1.1.0 in /Users/mton/miniconda3/envs/torch-gpu/lib/python3.9/site-packages (from cairocffi->cairosvg) (1.15.1)\n",
      "Requirement already satisfied: webencodings in /Users/mton/miniconda3/envs/torch-gpu/lib/python3.9/site-packages (from cssselect2->cairosvg) (0.5.1)\n",
      "Requirement already satisfied: pycparser in /Users/mton/miniconda3/envs/torch-gpu/lib/python3.9/site-packages (from cffi>=1.1.0->cairocffi->cairosvg) (2.21)\n",
      "Building wheels for collected packages: cairocffi\n",
      "  Building wheel for cairocffi (pyproject.toml) ... \u001b[?25ldone\n",
      "\u001b[?25h  Created wheel for cairocffi: filename=cairocffi-1.5.0-py3-none-any.whl size=90524 sha256=aca400b57b4ff5e9f5d55eb4dd4d6baa88ec1bb2e8947758c1f90c21fe629694\n",
      "  Stored in directory: /Users/mton/Library/Caches/pip/wheels/34/c0/21/58ab88c0e5a36a32f10f5257afbd6e5fae805171da13691863\n",
      "Successfully built cairocffi\n",
      "Installing collected packages: cssselect2, cairocffi, cairosvg\n",
      "Successfully installed cairocffi-1.5.0 cairosvg-2.7.0 cssselect2-0.7.0\n",
      "Note: you may need to restart the kernel to use updated packages.\n"
     ]
    }
   ],
   "source": [
    "%pip install cairosvg"
   ]
  },
  {
   "attachments": {},
   "cell_type": "markdown",
   "metadata": {},
   "source": [
    "#### -- [INIT] -- \n",
    "***"
   ]
  },
  {
   "attachments": {},
   "cell_type": "markdown",
   "metadata": {},
   "source": [
    "##### **Import Libraries and Init Globals**\n",
    "- `on_awake   ` (init_game => screen, refresh, load assets ... etc)\n",
    "- `on_update  ` (game_loop => handle events, input, draws ..etc )\n",
    "- `on_exit    ` (close_app => clear memory and shut down cpu/sys ... etc)"
   ]
  },
  {
   "cell_type": "code",
   "execution_count": 39,
   "metadata": {},
   "outputs": [],
   "source": [
    "# `numpy` library random which is FASTER for generating large numbers of random values\n",
    "from numpy import random\n",
    "from typing import NamedTuple\n",
    "import pygame\n",
    "import sys\n",
    "import os\n",
    "\n",
    "# System Context will be init on awake\n",
    "class SystemContext (NamedTuple):\n",
    "    screen :pygame.Surface\n",
    "    clock  :pygame.time.Clock\n",
    "\n",
    "class RenderContext(NamedTuple):\n",
    "    WIDTH :int\n",
    "    HEIGHT :int\n",
    "    BACKGROUND_COLOR :tuple\n",
    "    FPS :int\n",
    "\n",
    "class AssetContext(NamedTuple):\n",
    "    ASSET_FOLDER_PATH :str\n",
    "\n",
    "# Statically define CONTEXT CONSTANTS\n",
    "RENDER_CONTEXT = RenderContext(\n",
    "    640, # RESOLUTION_WIDTH\n",
    "    480, # RESOLUTION_HEIGHT\n",
    "    (1, 0, 0), # BACKGROUND_COLOR\n",
    "    5 # FPS\n",
    ")\n",
    "\n",
    "ASSET_CONTEXT = AssetContext(\n",
    "    ASSET_FOLDER_PATH = 'assets'\n",
    ")\n",
    "\n",
    "class BaseEntity:\n",
    "    def __init__(self):\n",
    "        pass\n",
    "    def update(self):\n",
    "        pass\n",
    "\n",
    "class DrawEntity(BaseEntity):\n",
    "    def __init__(self, x,y, image):\n",
    "        super().__init__()\n",
    "        self.x = x\n",
    "        self.y = y\n",
    "        self.image = image\n",
    "\n",
    "    def draw(self, screen : pygame.Surface):\n",
    "        screen.blit(self.image, (self.x, self.y))\n",
    "\n",
    "class GameEntity(DrawEntity):\n",
    "    def __init__(self, x,y, image, scale = 1, rotation =0, speed = 0):\n",
    "        super().__init__(x,y, image)\n",
    "        self.vx = 0\n",
    "        self.vy = 0\n",
    "        self.rotation = rotation\n",
    "        self.scale = scale\n",
    "        self.speed = speed\n",
    "\n",
    "    def update(self):\n",
    "        super().update()\n",
    "        # Update the position based on velocity\n",
    "        self.x = (self.x + self.vx) % RENDER_CONTEXT.WIDTH\n",
    "        self.y = (self.y + self.vy) % RENDER_CONTEXT.HEIGHT\n",
    "        # Update the rotation\n",
    "        self.rotation = (self.rotation + 1) % 360\n",
    "\n",
    "def on_awake() -> SystemContext:\n",
    "    ''' \n",
    "    Initialize pygame\n",
    "    - SYS_SCREEN\n",
    "    - SYS_CLOCK\n",
    "    '''\n",
    "    # Initialize pygame\n",
    "    pygame.init()\n",
    "    # Initialize the screen\n",
    "    screen = pygame.display.set_mode(\n",
    "        # @audit-ok 💨 : Use `HWSURFACE` and `DOUBLEBUF` for better performance\n",
    "        (RENDER_CONTEXT.WIDTH, RENDER_CONTEXT.HEIGHT),\n",
    "        pygame.HWSURFACE | pygame.DOUBLEBUF)\n",
    "    # Initialize the clock\n",
    "    # @audit-ok 💨 : Cap the frame rate else loop will run at system allows and \n",
    "    # # will lead to :\n",
    "    # - high CPU usage\n",
    "    # - inconsistent performance across different devices. \n",
    "    clock = pygame.time.Clock()\n",
    "\n",
    "    # Set the title and icon (optional)\n",
    "    pygame.display.set_caption('Asteroids_TON_Edition')\n",
    "    icon = pygame.image.load(\n",
    "        os.path.join(ASSET_CONTEXT.ASSET_FOLDER_PATH, 'asteroid.png')\n",
    "    ).convert_alpha()\n",
    "    pygame.display.set_icon(icon)\n",
    "    return SystemContext(screen, clock)\n",
    "\n",
    "def on_exit() -> None :\n",
    "    ''' \n",
    "    Handle exit event\n",
    "    '''\n",
    "    pygame.quit()\n",
    "    sys.exit()\n",
    "\n",
    "# Game Loop\n",
    "def game_loop(context_sys : SystemContext, assets : list) -> None:\n",
    "    ''' \n",
    "    Game loop\n",
    "    '''\n",
    "    while True:\n",
    "        try:\n",
    "            # Set the frame rate\n",
    "            context_sys.clock.tick(RENDER_CONTEXT.FPS)\n",
    "            # Event Handling\n",
    "            for event in pygame.event.get():\n",
    "                if event.type == pygame.QUIT:\n",
    "                    on_exit()\n",
    "                if event.type == pygame.KEYUP:\n",
    "                    if event.key == pygame.K_ESCAPE:\n",
    "                        on_exit()\n",
    "            # Update game state\n",
    "            # Draw game objects\n",
    "            # Update the display\n",
    "            context_sys.screen.fill(RENDER_CONTEXT.BACKGROUND_COLOR)\n",
    "            for asset in assets:\n",
    "                asset.update()\n",
    "                asset.draw(context_sys.screen)\n",
    "            pygame.display.flip()\n",
    "            \n",
    "        except SystemExit:\n",
    "            break\n"
   ]
  },
  {
   "attachments": {},
   "cell_type": "markdown",
   "metadata": {},
   "source": [
    "#### -- [ENTITIES] --"
   ]
  },
  {
   "attachments": {},
   "cell_type": "markdown",
   "metadata": {},
   "source": [
    "##### **Asteroid**"
   ]
  },
  {
   "cell_type": "code",
   "execution_count": 19,
   "metadata": {},
   "outputs": [],
   "source": [
    "class Asteroid(GameEntity):\n",
    "    def __init__(self, x, y, image):\n",
    "        super().__init__(x, y, image)\n",
    "        self.vx = random.randint(-2, 2)\n",
    "        self.vy = random.randint(-2, 2)\n",
    "        self.rotation = random.randint(0, 359)\n",
    "\n",
    "    def draw(self, screen : pygame.Surface):\n",
    "        # Rotate the image\n",
    "        rotated_image = pygame.transform.rotate(self.image, self.rotation)\n",
    "        # Calculate the new image's rect to keep it centered\n",
    "        rect = self.image.get_rect(center=self.image.get_rect(topleft=(self.x, self.y)).center)\n",
    "        # Draw the asteroid\n",
    "        screen.blit(rotated_image, rect.topleft)"
   ]
  },
  {
   "attachments": {},
   "cell_type": "markdown",
   "metadata": {},
   "source": [
    "##### **UFO**"
   ]
  },
  {
   "cell_type": "code",
   "execution_count": 20,
   "metadata": {},
   "outputs": [],
   "source": [
    "class UFO(GameEntity):\n",
    "    def __init__(self, x, y, image):\n",
    "        super().__init__(x, y, image)\n",
    "        self.vx = random.randint(-8, 8)\n",
    "        self.vy = random.randint(-8, 8)\n",
    "        self.rotation = 0"
   ]
  },
  {
   "attachments": {},
   "cell_type": "markdown",
   "metadata": {},
   "source": [
    "#### --[Asset Package] --"
   ]
  },
  {
   "attachments": {},
   "cell_type": "markdown",
   "metadata": {},
   "source": [
    "##### **Generate**"
   ]
  },
  {
   "cell_type": "code",
   "execution_count": 36,
   "metadata": {},
   "outputs": [],
   "source": [
    "import io\n",
    "import svgwrite\n",
    "import cairosvg\n",
    "\n",
    "def svg_to_png(dwg : svgwrite.Drawing) -> pygame.Surface:\n",
    "    # Save the SVG\n",
    "    svgdata = io.BytesIO()\n",
    "    svgdata.write(dwg.tostring().encode('utf-8'))\n",
    "    svgdata.seek(0)\n",
    "\n",
    "    # Rasterize the SVG using cairosvg\n",
    "    surface_data = io.BytesIO()\n",
    "    cairosvg.svg2png(file_obj=svgdata, write_to=surface_data)\n",
    "    surface_data.seek(0)\n",
    "\n",
    "    #Convert the rasterized image to a pygame surface\n",
    "    return pygame.image.load(surface_data)\n",
    "\n",
    "def svg_generate_ufo() -> pygame.Surface:\n",
    "    # Create vector graphics\n",
    "    dwg = svgwrite.Drawing(size=(64, 64))\n",
    "    dwg.add(dwg.circle(center=(32, 32), r=32, fill='red'))\n",
    "    return svg_to_png(dwg)\n"
   ]
  },
  {
   "attachments": {},
   "cell_type": "markdown",
   "metadata": {},
   "source": [
    "##### **Insantiate**"
   ]
  },
  {
   "cell_type": "code",
   "execution_count": 37,
   "metadata": {},
   "outputs": [],
   "source": [
    "def asset_instantiate() -> list:\n",
    "    img_asteroid = pygame.image.load(\n",
    "        os.path.join(ASSET_CONTEXT.ASSET_FOLDER_PATH, 'asteroid.png')\n",
    "        ).convert_alpha()\n",
    "    img_ship = pygame.image.load(\n",
    "        os.path.join(ASSET_CONTEXT.ASSET_FOLDER_PATH, 'spaceship.png')\n",
    "        ).convert_alpha()\n",
    "    img_ufo = svg_generate_ufo()\n",
    "    assets = []\n",
    "    for i in range(5):\n",
    "        x = random.randint(0, 160)\n",
    "        y = random.randint(0, 120)\n",
    "        random_scale = random.randint(16, 64)\n",
    "        img = pygame.transform.scale(img_asteroid, (random_scale, random_scale))\n",
    "        assets.append(Asteroid(x,y, img))\n",
    "    img_ufo = pygame.transform.scale(img_ufo, (96, 96))\n",
    "    assets.append(UFO(160,120, img_ufo))\n",
    "    return assets"
   ]
  },
  {
   "attachments": {},
   "cell_type": "markdown",
   "metadata": {},
   "source": [
    "#### -- [GAME_LOOP] --\n",
    "\n",
    "- instantiate entities\n",
    "- update frames in main ()"
   ]
  },
  {
   "attachments": {},
   "cell_type": "markdown",
   "metadata": {},
   "source": [
    "#### **Main**"
   ]
  },
  {
   "cell_type": "code",
   "execution_count": 40,
   "metadata": {},
   "outputs": [],
   "source": [
    "def main() -> None:\n",
    "    context  = on_awake()\n",
    "    assets = asset_instantiate()\n",
    "    game_loop(context, assets)\n",
    "    \n",
    "# Only run if this is being executed directly\n",
    "# - prevents the code from being run when imported\n",
    "# @note 🧠 : __name__ is built-in variable in Python that represents :\n",
    "# - the name of the current module \n",
    "# - When a script is run, Python sets the `__name__` variable to `'__main__'` \n",
    "# for the script being executed\n",
    "if __name__ == '__main__':\n",
    "    main()"
   ]
  },
  {
   "attachments": {},
   "cell_type": "markdown",
   "metadata": {},
   "source": [
    "#### -- [FOOTNOTES] --\n",
    "***"
   ]
  },
  {
   "attachments": {},
   "cell_type": "markdown",
   "metadata": {},
   "source": [
    "Explain the `difference` between adding the `try and exception catching` above vs  \n",
    "not doing a catch from `memory` and `performance` perspective\n",
    "***\n",
    "\n",
    "Adding a `try` and `except` block around your code introduces a minimal overhead  \n",
    "in terms of memory and performance.  In general, the cost of using exception  \n",
    "handling is low when no exceptions are raised.  \n",
    "\n",
    "However, when an exception occurs : \n",
    "- the traceback needs to be generated  \n",
    "- and the `interpreter has to search the exception hierarchy` to find the  \n",
    "appropriate `except` block, which can be more `expensive`.\n",
    "\n",
    "Here's a comparison between using exception handling and not using it in the  \n",
    "context of the Pygame example we've discussed:\n",
    "\n",
    "**Without exception handling:**\n",
    "\n",
    "When you don't catch the `SystemExit` exception, the kernel running the Jupyter  \n",
    "Notebook will display the message : \n",
    "- `An exception has occurred, use %tb to see the full traceback. SystemExit`  \n",
    "whenever the game is terminated. \n",
    "\n",
    "This is because : \n",
    "\n",
    "- the `SystemExit` exception is raised, \n",
    "- caught by the notebook's kernel, \n",
    "- and displayed as output. \n",
    "\n",
    "The game loop will still exit as expected, and the exception handling overhead  \n",
    "is minimal. However, you'll see the traceback message every time the game is  \n",
    "closed, which might be `undesirable from a user experience standpoint`.\n",
    "\n",
    "**With exception handling:**\n",
    "\n",
    "When you include a `try` and `except` block to catch the `SystemExit` exception,  \n",
    "you introduce a small overhead associated with the exception handling mechanism.  \n",
    "\n",
    "However, this overhead is generally negligible in the context of a game loop.  \n",
    "When the game is terminated, the `SystemExit` exception is raised and caught  \n",
    "by the `except` block, allowing the loop to exit silently without displaying  \n",
    "the traceback message. This can provide a cleaner user experience.\n",
    "\n",
    "In summary, the difference in memory and performance between using exception  \n",
    "handling and not using it in this case is minimal. The primary reason to include  \n",
    "exception handling in this scenario is to improve the user experience by  \n",
    "preventing the traceback message from being displayed when the game is terminated."
   ]
  },
  {
   "attachments": {},
   "cell_type": "markdown",
   "metadata": {},
   "source": [
    "Explain the `trade off` between declaring variable as `global` vs passing as  \n",
    "`reference` with respect to `memory and performance`\n",
    "***\n",
    "\n",
    "When deciding whether to use a global variable or pass a variable by reference,  \n",
    "there are trade-offs to consider regarding memory, performance, and general  \n",
    "programming practices.\n",
    "\n",
    "**Global variables:**\n",
    "\n",
    "Pros:\n",
    "\n",
    "- Easy to access from any part of the code without needing to pass them as  \n",
    "arguments\n",
    "- Can help reduce the number of arguments a function needs, making the function  \n",
    "signature simpler.\n",
    "\n",
    "Cons:\n",
    "\n",
    "- Can lead to unexpected behavior and bugs, as any part of the code can modify  \n",
    "the global variable.\n",
    "- Makes code harder to understand and maintain, as it's not clear which  \n",
    "functions rely on or modify the global variable.\n",
    "- Less modular and harder to reuse functions in other programs, since they  \n",
    "depend on the global variable.\n",
    "\n",
    "**Passing by reference:**\n",
    "\n",
    "Pros:\n",
    "\n",
    "- Makes code more modular, as functions explicitly state in their signature  \n",
    "what variables they need.\n",
    "- Easier to understand, maintain, and reuse, as it's clear which functions use  \n",
    "or modify the variable.\n",
    "- Better encapsulation, as each function deals only with the data it needs.\n",
    "\n",
    "Cons:\n",
    "\n",
    "- Can increase the number of function arguments, making the function signature  \n",
    "more complex.\n",
    "- Slightly more complex to work with, as you need to pass the variable explicitly.  \n",
    "\n",
    "Regarding `memory and performance`, there is generally `not a significant difference`  \n",
    "between using global variables and passing variables by reference.  \n",
    "In both cases, the memory used for the variable is allocated once and accessed  \n",
    "by reference, so there is no additional memory overhead. The performance  \n",
    "depends on the specific use case and how well the code is optimized.\n",
    "\n",
    "However, it is worth mentioning that using` global variables` can lead to  \n",
    "`less maintainable code`, which may indirectly affect performance over time, as  \n",
    "it becomes more difficult to optimize and debug the code.\n",
    "\n",
    "- In general, it's recommended to use local variables and pass them by reference  \n",
    "whenever possible to promote modularity, maintainability, and readability.  \n",
    "\n",
    "- `Only use global variables` when you have a good reason to do so, such as when  \n",
    "dealing with `truly global state or constants`."
   ]
  }
 ],
 "metadata": {
  "kernelspec": {
   "display_name": "torch-gpu",
   "language": "python",
   "name": "python3"
  },
  "language_info": {
   "codemirror_mode": {
    "name": "ipython",
    "version": 3
   },
   "file_extension": ".py",
   "mimetype": "text/x-python",
   "name": "python",
   "nbconvert_exporter": "python",
   "pygments_lexer": "ipython3",
   "version": "3.9.13"
  },
  "orig_nbformat": 4
 },
 "nbformat": 4,
 "nbformat_minor": 2
}
