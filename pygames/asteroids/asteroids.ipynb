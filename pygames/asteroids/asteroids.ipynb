{
 "cells": [
  {
   "attachments": {},
   "cell_type": "markdown",
   "metadata": {},
   "source": [
    "Install Pygame"
   ]
  },
  {
   "cell_type": "code",
   "execution_count": 2,
   "metadata": {},
   "outputs": [
    {
     "name": "stdout",
     "output_type": "stream",
     "text": [
      "Collecting pygame\n",
      "  Downloading pygame-2.3.0-cp39-cp39-macosx_11_0_arm64.whl (12.2 MB)\n",
      "\u001b[2K     \u001b[90m━━━━━━━━━━━━━━━━━━━━━━━━━━━━━━━━━━━━━━━━\u001b[0m \u001b[32m12.2/12.2 MB\u001b[0m \u001b[31m1.8 MB/s\u001b[0m eta \u001b[36m0:00:00\u001b[0m00:01\u001b[0m00:01\u001b[0m\n",
      "\u001b[?25hInstalling collected packages: pygame\n",
      "Successfully installed pygame-2.3.0\n",
      "Note: you may need to restart the kernel to use updated packages.\n"
     ]
    }
   ],
   "source": [
    "%pip install pygame"
   ]
  },
  {
   "attachments": {},
   "cell_type": "markdown",
   "metadata": {},
   "source": [
    "#### -- [INIT] -- \n",
    "***"
   ]
  },
  {
   "attachments": {},
   "cell_type": "markdown",
   "metadata": {},
   "source": [
    "##### **SETUP** : Import Libraries and Init Globals\n",
    "- `on_awake   ` (init_game => screen, refresh, load assets ... etc)\n",
    "- `on_update  ` (game_loop => handle events, input, draws ..etc )\n",
    "- `on_exit    ` (close_app => clear memory and shut down cpu/sys ... etc)"
   ]
  },
  {
   "cell_type": "code",
   "execution_count": 1,
   "metadata": {},
   "outputs": [
    {
     "name": "stdout",
     "output_type": "stream",
     "text": [
      "pygame 2.3.0 (SDL 2.24.2, Python 3.9.13)\n",
      "Hello from the pygame community. https://www.pygame.org/contribute.html\n"
     ]
    }
   ],
   "source": [
    "# `numpy` library random which is FASTER for generating large numbers of random values\n",
    "from numpy import random\n",
    "from typing import NamedTuple\n",
    "import pygame\n",
    "import sys\n",
    "\n",
    "# Define the screen size\n",
    "SCREEN_WIDTH, SCREEN_HEIGHT = 320, 240\n",
    "FPS = 5\n",
    "BACKGROUND_COLOR = (0, 0, 0)\n",
    "\n",
    "class SystemContext (NamedTuple):\n",
    "    screen :pygame.Surface\n",
    "    clock  :pygame.time.Clock\n",
    "\n",
    "class BaseEntity:\n",
    "    def __init__(self):\n",
    "        pass\n",
    "        \n",
    "    def update(self):\n",
    "        pass\n",
    "\n",
    "class DrawEntity(BaseEntity):\n",
    "    def __init__(self, x,y, image):\n",
    "        super().__init__()\n",
    "        self.x = x\n",
    "        self.y = y\n",
    "        self.image = image\n",
    "\n",
    "    def draw(self, screen : pygame.Surface):\n",
    "        screen.blit(self.image, (self.x, self.y))\n",
    "\n",
    "class GameEntity(DrawEntity):\n",
    "    def __init__(self, x,y, image, scale = 1, rotation =0, speed = 0):\n",
    "        super().__init__(x,y, image)\n",
    "        self.vx = 0\n",
    "        self.vy = 0\n",
    "        self.rotation = rotation\n",
    "        self.scale = scale\n",
    "        self.speed = speed\n",
    "\n",
    "    def update(self):\n",
    "        super().update()\n",
    "        # Update the position based on velocity\n",
    "        self.x = (self.x + self.vx) % SCREEN_WIDTH\n",
    "        self.y = (self.y + self.vy) % SCREEN_HEIGHT\n",
    "        # Update the rotation\n",
    "        self.rotation = (self.rotation + 1) % 360\n",
    "\n",
    "def on_awake():\n",
    "    ''' \n",
    "    Initialize pygame\n",
    "    - SYS_SCREEN\n",
    "    - SYS_CLOCK\n",
    "    '''\n",
    "    # Initialize pygame\n",
    "    pygame.init()\n",
    "    # Initialize the screen\n",
    "    screen = pygame.display.set_mode((SCREEN_WIDTH, SCREEN_HEIGHT))\n",
    "    # Initialize the clock\n",
    "    # @audit-ok 💨 : Cap the frame rate else loop will run at system allows and \n",
    "    # # will lead to :\n",
    "    # - high CPU usage\n",
    "    # - inconsistent performance across different devices. \n",
    "    clock = pygame.time.Clock()\n",
    "\n",
    "    # Set the title and icon (optional)\n",
    "    pygame.display.set_caption('Asteroids_TON_Edition')\n",
    "    icon = pygame.image.load('asteroid.png')\n",
    "    pygame.display.set_icon(icon)\n",
    "    return SystemContext(screen, clock)\n",
    "\n",
    "def on_exit():\n",
    "    ''' \n",
    "    Handle exit event\n",
    "    '''\n",
    "    pygame.quit()\n",
    "    sys.exit()\n",
    "\n",
    "# Game Loop\n",
    "def on_update(context : SystemContext, asteroids : list):\n",
    "    ''' \n",
    "    Game loop\n",
    "    '''\n",
    "    while True:\n",
    "        try:\n",
    "            # Set the frame rate\n",
    "            context.clock.tick(FPS)\n",
    "            # Event Handling\n",
    "            for event in pygame.event.get():\n",
    "                if event.type == pygame.QUIT:\n",
    "                    on_exit()\n",
    "                if event.type == pygame.KEYUP:\n",
    "                    if event.key == pygame.K_ESCAPE:\n",
    "                        on_exit()\n",
    "            # Update game state\n",
    "            # Draw game objects\n",
    "            # Update the display\n",
    "            context.screen.fill(BACKGROUND_COLOR)\n",
    "            for asteroid in asteroids:\n",
    "                asteroid.update()\n",
    "                asteroid.draw(context.screen)\n",
    "            pygame.display.flip()\n",
    "            \n",
    "        except SystemExit:\n",
    "            break"
   ]
  },
  {
   "attachments": {},
   "cell_type": "markdown",
   "metadata": {},
   "source": [
    "##### **CLASSES**"
   ]
  },
  {
   "attachments": {},
   "cell_type": "markdown",
   "metadata": {},
   "source": [
    "- Asteroids"
   ]
  },
  {
   "cell_type": "code",
   "execution_count": 2,
   "metadata": {},
   "outputs": [],
   "source": [
    "class Asteroid(GameEntity):\n",
    "    def __init__(self, x, y, image):\n",
    "        super().__init__(x, y, image)\n",
    "        self.vx = random.randint(-2, 2)\n",
    "        self.vy = random.randint(-2, 2)\n",
    "        self.rotation = random.randint(0, 359)\n",
    "\n",
    "    def draw(self, screen : pygame.Surface):\n",
    "        # Rotate the image\n",
    "        rotated_image = pygame.transform.rotate(self.image, self.rotation)\n",
    "        # Calculate the new image's rect to keep it centered\n",
    "        rect = self.image.get_rect(center=self.image.get_rect(topleft=(self.x, self.y)).center)\n",
    "        # Draw the asteroid\n",
    "        screen.blit(rotated_image, rect.topleft)"
   ]
  },
  {
   "attachments": {},
   "cell_type": "markdown",
   "metadata": {},
   "source": [
    "#### -- [ON_AWAKE] --"
   ]
  },
  {
   "cell_type": "code",
   "execution_count": 3,
   "metadata": {},
   "outputs": [],
   "source": [
    "context = on_awake()\n",
    "asteroids = []\n",
    "x = 160\n",
    "y = 120\n",
    "img = pygame.image.load('asteroid.png')\n",
    "img = pygame.transform.scale(img, (32, 32))\n",
    "asteroid = Asteroid(x, y, img)\n",
    "asteroids.append(asteroid)\n",
    "# @audit-ok 💨 : The memory and performance overhead of passing the `screen` \n",
    "# object to the function is MINIMAL, as it's just passing a REFERENCE to the \n",
    "# object.\n",
    "on_update(context, asteroids)"
   ]
  },
  {
   "attachments": {},
   "cell_type": "markdown",
   "metadata": {},
   "source": [
    "#### -- [ON_UPDATE] --"
   ]
  },
  {
   "attachments": {},
   "cell_type": "markdown",
   "metadata": {},
   "source": [
    "#### -- [FOOTNOTES] --\n",
    "***"
   ]
  },
  {
   "attachments": {},
   "cell_type": "markdown",
   "metadata": {},
   "source": [
    "Explain the `difference` between adding the `try and exception catching` above vs  \n",
    "not doing a catch from `memory` and `performance` perspective\n",
    "***\n",
    "\n",
    "Adding a `try` and `except` block around your code introduces a minimal overhead  \n",
    "in terms of memory and performance.  In general, the cost of using exception  \n",
    "handling is low when no exceptions are raised.  \n",
    "\n",
    "However, when an exception occurs : \n",
    "- the traceback needs to be generated  \n",
    "- and the `interpreter has to search the exception hierarchy` to find the  \n",
    "appropriate `except` block, which can be more `expensive`.\n",
    "\n",
    "Here's a comparison between using exception handling and not using it in the  \n",
    "context of the Pygame example we've discussed:\n",
    "\n",
    "**Without exception handling:**\n",
    "\n",
    "When you don't catch the `SystemExit` exception, the kernel running the Jupyter  \n",
    "Notebook will display the message : \n",
    "- `An exception has occurred, use %tb to see the full traceback. SystemExit`  \n",
    "whenever the game is terminated. \n",
    "\n",
    "This is because : \n",
    "\n",
    "- the `SystemExit` exception is raised, \n",
    "- caught by the notebook's kernel, \n",
    "- and displayed as output. \n",
    "\n",
    "The game loop will still exit as expected, and the exception handling overhead  \n",
    "is minimal. However, you'll see the traceback message every time the game is  \n",
    "closed, which might be `undesirable from a user experience standpoint`.\n",
    "\n",
    "**With exception handling:**\n",
    "\n",
    "When you include a `try` and `except` block to catch the `SystemExit` exception,  \n",
    "you introduce a small overhead associated with the exception handling mechanism.  \n",
    "\n",
    "However, this overhead is generally negligible in the context of a game loop.  \n",
    "When the game is terminated, the `SystemExit` exception is raised and caught  \n",
    "by the `except` block, allowing the loop to exit silently without displaying  \n",
    "the traceback message. This can provide a cleaner user experience.\n",
    "\n",
    "In summary, the difference in memory and performance between using exception  \n",
    "handling and not using it in this case is minimal. The primary reason to include  \n",
    "exception handling in this scenario is to improve the user experience by  \n",
    "preventing the traceback message from being displayed when the game is terminated."
   ]
  },
  {
   "attachments": {},
   "cell_type": "markdown",
   "metadata": {},
   "source": [
    "Explain the trade off between declaring variable as global vs passing as reference with respect to memory and performance\n",
    "***\n",
    "\n",
    "When deciding whether to use a global variable or pass a variable by reference, there are trade-offs to consider regarding memory, performance, and general programming practices.\n",
    "\n",
    "**Global variables:**\n",
    "\n",
    "Pros:\n",
    "\n",
    "- Easy to access from any part of the code without needing to pass them as arguments.\n",
    "- Can help reduce the number of arguments a function needs, making the function signature simpler.\n",
    "\n",
    "Cons:\n",
    "\n",
    "- Can lead to unexpected behavior and bugs, as any part of the code can modify the global variable.\n",
    "- Makes code harder to understand and maintain, as it's not clear which functions rely on or modify the global variable.\n",
    "- Less modular and harder to reuse functions in other programs, since they depend on the global variable.\n",
    "\n",
    "**Passing by reference:**\n",
    "\n",
    "Pros:\n",
    "\n",
    "- Makes code more modular, as functions explicitly state in their signature what variables they need.\n",
    "- Easier to understand, maintain, and reuse, as it's clear which functions use or modify the variable.\n",
    "- Better encapsulation, as each function deals only with the data it needs.\n",
    "\n",
    "Cons:\n",
    "\n",
    "- Can increase the number of function arguments, making the function signature more complex.\n",
    "- Slightly more complex to work with, as you need to pass the variable explicitly.\n",
    "\n",
    "Regarding memory and performance, there is generally not a significant difference between using global variables and passing variables by reference. In both cases, the memory used for the variable is allocated once and accessed by reference, so there is no additional memory overhead. The performance depends on the specific use case and how well the code is optimized.\n",
    "\n",
    "However, it is worth mentioning that using global variables can lead to less maintainable code, which may indirectly affect performance over time, as it becomes more difficult to optimize and debug the code.\n",
    "\n",
    "In general, it's recommended to use local variables and pass them by reference whenever possible to promote modularity, maintainability, and readability. Only use global variables when you have a good reason to do so, such as when dealing with truly global state or constants."
   ]
  }
 ],
 "metadata": {
  "kernelspec": {
   "display_name": "torch-gpu",
   "language": "python",
   "name": "python3"
  },
  "language_info": {
   "codemirror_mode": {
    "name": "ipython",
    "version": 3
   },
   "file_extension": ".py",
   "mimetype": "text/x-python",
   "name": "python",
   "nbconvert_exporter": "python",
   "pygments_lexer": "ipython3",
   "version": "3.9.13"
  },
  "orig_nbformat": 4
 },
 "nbformat": 4,
 "nbformat_minor": 2
}
