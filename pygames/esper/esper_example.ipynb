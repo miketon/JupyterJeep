{
 "cells": [
  {
   "cell_type": "code",
   "execution_count": 3,
   "metadata": {},
   "outputs": [
    {
     "name": "stdout",
     "output_type": "stream",
     "text": [
      "Name: esper\n",
      "Version: 2.4.1\n",
      "Summary: esper is a lightweight Entity System (ECS) for Python, with a focus on performance.\n",
      "Home-page: https://github.com/benmoran56/esper\n",
      "Author: Benjamin Moran\n",
      "Author-email: benmoran@protonmail.com\n",
      "License: MIT\n",
      "Location: /Users/mton/miniconda3/envs/torch-gpu/lib/python3.9/site-packages\n",
      "Requires: \n",
      "Required-by: \n",
      "Note: you may need to restart the kernel to use updated packages.\n"
     ]
    }
   ],
   "source": [
    "%pip show esper"
   ]
  },
  {
   "attachments": {},
   "cell_type": "markdown",
   "metadata": {},
   "source": [
    "#### -- [EXAMPLE] --\n",
    "***"
   ]
  },
  {
   "cell_type": "code",
   "execution_count": 1,
   "metadata": {},
   "outputs": [
    {
     "name": "stdout",
     "output_type": "stream",
     "text": [
      "pygame 2.3.0 (SDL 2.24.2, Python 3.9.13)\n",
      "Hello from the pygame community. https://www.pygame.org/contribute.html\n"
     ]
    }
   ],
   "source": [
    "import pygame\n",
    "import esper\n",
    "\n",
    "FPS = 60\n",
    "RESOLUTION = 640, 480\n",
    "\n",
    "############################################\n",
    "# Define Components\n",
    "############################################\n",
    "\n",
    "\n",
    "############################################\n",
    "# Define Systems\n",
    "############################################\n",
    "\n",
    "\n",
    "############################################\n",
    "# Main Loop\n",
    "############################################\n",
    "def run():\n",
    "    # Init pygame\n",
    "    pygame.init()\n",
    "    window = pygame.display.set_mode(RESOLUTION)\n",
    "    clock = pygame.time.Clock()\n",
    "    pygame.key.set_repeat(1,1)\n",
    "    # Inite ECS\n",
    "    # Init Systems\n",
    "    running = True\n",
    "    while running:\n",
    "        # Handle events\n",
    "        for event in pygame.event.get():\n",
    "            if event.type == pygame.QUIT:\n",
    "                running = False\n",
    "\n",
    "        # Update ECS\n",
    "        # Clock tick\n",
    "        clock.tick(FPS)\n",
    "\n",
    "\n",
    "if __name__ == \"__main__\":\n",
    "    run()\n",
    "    pygame.quit()\n"
   ]
  },
  {
   "attachments": {},
   "cell_type": "markdown",
   "metadata": {},
   "source": [
    "#### --- [FOOTNOTES] --\n",
    "***"
   ]
  },
  {
   "attachments": {},
   "cell_type": "markdown",
   "metadata": {},
   "source": [
    "Roadmap for learning ECS in python\n",
    "***\n",
    "\n",
    "ECS (Entity Component System) is a popular architectural pattern used in game \n",
    "development and other real-time applications. It's designed to separate data and \n",
    "functionality, which makes it easy to manage the complexity of systems with many \n",
    "interacting entities. Here's a roadmap to learn ECS in Python:\n",
    "\n",
    "1. **Understand the basics of ECS**\n",
    "\n",
    "   - Read articles and watch videos about ECS fundamentals:\n",
    "     - [Understanding Entity Component System](https://www.gamedev.net/tutorials/programming/general-and-gameplay-programming/understanding-component-entity-systems-r3013/)\n",
    "     - [What is an Entity Component System?](https://www.youtube.com/watch?v=NTWSeQtHZ9M)\n",
    "\n",
    "2. **Learn Python**\n",
    "\n",
    "   - If you're new to Python, follow a tutorial or course to learn the basics:\n",
    "     - [Python.org Beginner's Guide](https://docs.python.org/3/tutorial/index.html)\n",
    "     - [Automate the Boring Stuff with Python](https://automatetheboringstuff.com/)\n",
    "\n",
    "3. **Study existing ECS libraries in Python**\n",
    "\n",
    "   - Look at popular Python ECS libraries to understand how they implement the \n",
    "   pattern:\n",
    "     - [esper](https://github.com/benmoran56/esper)\n",
    "     - [ecs](https://github.com/Samathy/ecspy)\n",
    "\n",
    "4. **Create a simple game or application using ECS in Python**\n",
    "\n",
    "   - Start with a simple project, like a basic 2D game or simulation, to apply \n",
    "   your ECS knowledge:\n",
    "     - Create the main game loop\n",
    "     - Define entities, components, and systems\n",
    "     - Implement a basic rendering system\n",
    "     - Add user input handling\n",
    "     - Implement game logic, such as movement and collisions\n",
    "\n",
    "5. **Expand your knowledge with advanced topics**\n",
    "\n",
    "   - Study more advanced ECS concepts and optimization techniques:\n",
    "     - Data-oriented design\n",
    "     - Multithreading and parallelism\n",
    "     - Spatial partitioning and efficient queries\n",
    "\n",
    "6. **Contribute to open-source projects or create your own ECS library**\n",
    "\n",
    "   - Once you feel comfortable with ECS, consider contributing to existing \n",
    "   projects or creating your own library to share with the community.\n",
    "\n",
    "7. **Network and join game development communities**\n",
    "\n",
    "   - Participate in game development forums, meetups, and conferences to learn \n",
    "   from others, share your knowledge, and stay up-to-date with the latest ECS trends and best practices.\n",
    "\n",
    "By following this roadmap, you'll get a solid understanding of ECS in Python and \n",
    "be ready to create efficient and maintainable real-time applications."
   ]
  }
 ],
 "metadata": {
  "kernelspec": {
   "display_name": "torch-gpu",
   "language": "python",
   "name": "python3"
  },
  "language_info": {
   "codemirror_mode": {
    "name": "ipython",
    "version": 3
   },
   "file_extension": ".py",
   "mimetype": "text/x-python",
   "name": "python",
   "nbconvert_exporter": "python",
   "pygments_lexer": "ipython3",
   "version": "3.9.13"
  },
  "orig_nbformat": 4
 },
 "nbformat": 4,
 "nbformat_minor": 2
}
